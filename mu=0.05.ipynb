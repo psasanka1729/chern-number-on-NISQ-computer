{
 "cells": [
  {
   "cell_type": "code",
   "execution_count": 2,
   "id": "b6d046a8-856d-4853-abf4-36251365535e",
   "metadata": {
    "tags": []
   },
   "outputs": [
    {
     "name": "stderr",
     "output_type": "stream",
     "text": [
      "/tmp/ipykernel_61/2868879444.py:11: DeprecationWarning: The qiskit.IBMQ entrypoint and the qiskit-ibmq-provider package (accessible from 'qiskit.providers.ibmq`) are deprecated and will be removed in a future release. Instead you should use the qiskit-ibm-provider package which is accessible from 'qiskit_ibm_provider'. You can install it with 'pip install qiskit_ibm_provider'. Just replace 'qiskit.IBMQ' with 'qiskit_ibm_provider.IBMProvider'\n",
      "  provider = IBMQ.load_account()\n"
     ]
    }
   ],
   "source": [
    "# Importing standard Qiskit libraries:\n",
    "import numpy as np     \n",
    "from qiskit import*# QuantumCircuit, transpile, Aer, IBMQ, execute, assemble\n",
    "from qiskit.providers.ibmq import least_busy\n",
    "from qiskit.tools.jupyter import *\n",
    "from qiskit.visualization import *\n",
    "from ibm_quantum_widgets import *\n",
    "from scipy import sparse\n",
    "from scipy.linalg import sqrtm\n",
    "# Loading your IBM Quantum account(s):\n",
    "provider = IBMQ.load_account()"
   ]
  },
  {
   "cell_type": "markdown",
   "id": "5c158409-1653-4112-b352-53a0738a60ab",
   "metadata": {
    "tags": []
   },
   "source": [
    "# Discrete Brillouin zone"
   ]
  },
  {
   "cell_type": "code",
   "execution_count": 3,
   "id": "2d14159c-41a7-4c22-b5a9-663386e35553",
   "metadata": {
    "tags": []
   },
   "outputs": [],
   "source": [
    "number_of_mesh_points = 4\n",
    "k_x_lst = list(np.linspace(-np.pi,np.pi,number_of_mesh_points))\n",
    "k_y_lst = list(np.linspace(-np.pi,np.pi,number_of_mesh_points))\n",
    "discretized_Brillouin_zone = []\n",
    "for i in range(number_of_mesh_points):\n",
    "    for j in range(number_of_mesh_points):\n",
    "        discretized_Brillouin_zone.append([k_x_lst[i],k_y_lst[j]])\n",
    "delta_k_x = k_x_lst[1]-k_x_lst[0]\n",
    "delta_k_y = k_y_lst[1]-k_y_lst[0]        "
   ]
  },
  {
   "cell_type": "code",
   "execution_count": 4,
   "id": "d3a04594-3bb0-46b9-9b65-f0b289edabd8",
   "metadata": {},
   "outputs": [],
   "source": [
    "mu = 0.05"
   ]
  },
  {
   "cell_type": "code",
   "execution_count": 5,
   "id": "7b6f1227-7832-4b19-a6d6-89a9c4be96fb",
   "metadata": {},
   "outputs": [],
   "source": [
    "# Number of points = numnumber_of_mesh_points*number_of_mesh_points\n",
    "#point_index = 0"
   ]
  },
  {
   "cell_type": "code",
   "execution_count": 6,
   "id": "55314ecd-e928-4ded-ba4f-31f46200baf5",
   "metadata": {},
   "outputs": [],
   "source": [
    "r\"\"\"\n",
    "# k_x and k_y\n",
    "k_x,k_y = k_x_lst[point_index],k_y_lst[point_index]\n",
    "# k+delta_k_x and k+delta_k_y\n",
    "\n",
    "F_k_lst_of_points = [[(k_x,k_y),(k_x+delta_k_x,k_y)],\n",
    "[(k_x+delta_k_x,k_y),(k_x+delta_k_x,k_y+delta_k_y)],\n",
    "[(k_x,k_y+delta_k_y),(k_x+delta_k_x,k_y+delta_k_y)],\n",
    "[(k_x,k_y),(k_x,k_y+delta_k_y)]]\"\"\";"
   ]
  },
  {
   "cell_type": "code",
   "execution_count": 7,
   "id": "7a86a382-8c38-42e3-a613-5fa64147ee13",
   "metadata": {
    "tags": []
   },
   "outputs": [],
   "source": [
    "# Index runs from 0 to 3.\n",
    "#F_k_index = 2"
   ]
  },
  {
   "cell_type": "code",
   "execution_count": 8,
   "id": "ea8ed60d-6a70-4e05-a577-6bd6d25c2fcf",
   "metadata": {
    "tags": []
   },
   "outputs": [],
   "source": [
    "#k_x,k_y = F_k_lst_of_points[F_k_index][0][0],F_k_lst_of_points[F_k_index][0][1]\n",
    "#k_x_p,k_y_p = F_k_lst_of_points[F_k_index][1][0],F_k_lst_of_points[F_k_index][1][1]"
   ]
  },
  {
   "cell_type": "markdown",
   "id": "1226aeb4-d795-4ad2-88d0-e162cbaed4d5",
   "metadata": {
    "jp-MarkdownHeadingCollapsed": true,
    "tags": []
   },
   "source": [
    "# $U_{3}$ gate"
   ]
  },
  {
   "cell_type": "code",
   "execution_count": 9,
   "id": "19e2a50f-808f-4855-909d-32741abc17d2",
   "metadata": {
    "tags": []
   },
   "outputs": [],
   "source": [
    "# U_{3} is required for preparing the state |\\psi(\\theta)>\n",
    "def U3(theta,lamb,phi):\n",
    "    return np.array([[np.cos(theta/2),-np.sin(theta/2)*np.exp(1j*lamb)],\n",
    "                     [np.exp(1j*phi)*np.sin(theta/2),np.exp(1j*(lamb+phi))*np.cos(theta/2)]])"
   ]
  },
  {
   "cell_type": "markdown",
   "id": "40025ef4-0544-4947-9747-1c7e2e5bc3de",
   "metadata": {
    "jp-MarkdownHeadingCollapsed": true,
    "tags": []
   },
   "source": [
    "# Defining the two angles $\\theta$ and $\\phi$"
   ]
  },
  {
   "cell_type": "code",
   "execution_count": 10,
   "id": "1eae86fc-2274-4aa7-b924-4bb4e693f7f6",
   "metadata": {
    "tags": []
   },
   "outputs": [],
   "source": [
    "def angle_theta(k_x,k_y):\n",
    "    E_p = np.sqrt((np.sin(k_x))**2+(np.sin(k_y))**2+(np.cos(k_x)+np.cos(k_y)+mu)**2)\n",
    "    return np.arccos((np.cos(k_x)+np.cos(k_y)+mu)/E_p)\n",
    "def angle_phi(k_x,k_y):\n",
    "    return np.arccos(np.sin(k_y)/np.sqrt((np.sin(k_y))**2+(np.sin(k_x))**2))"
   ]
  },
  {
   "cell_type": "markdown",
   "id": "38a21a27-e2de-4dd3-8fe4-acc89cb9255c",
   "metadata": {
    "jp-MarkdownHeadingCollapsed": true,
    "tags": []
   },
   "source": [
    "# Controlled W gate required for controlled $U_{3}$ operation"
   ]
  },
  {
   "cell_type": "code",
   "execution_count": 11,
   "id": "8947319c-3013-4449-bdea-543db6070868",
   "metadata": {
    "tags": []
   },
   "outputs": [],
   "source": [
    "def controlled_W(matrix,c,t):\n",
    "    I = np.identity(2)\n",
    "    Z = np.matrix([[1,0],[0,-1]])\n",
    "    X = np.matrix([[0,1],[1,0]])\n",
    "    PI_0 = (I+Z)/2\n",
    "    PI_1 = (I-Z)/2    \n",
    "    Matrices = {'I':I,'PI_0':PI_0,'X':matrix, 'PI_1':PI_1}\n",
    "    p0 = ['I']*3\n",
    "    p1 = ['I']*3    \n",
    "    p0[c] = 'PI_0'\n",
    "    p1[c] = 'PI_1'\n",
    "    p1[t] = 'X'\n",
    "    PI_0_matrix = Matrices[p0[0]]\n",
    "    for i in range(1,3):\n",
    "        PI_0_matrix = sparse.kron(Matrices[p0[i]],PI_0_matrix)\n",
    "    PI_1_matrix = Matrices[p1[0]]\n",
    "    for i in range(1,3):\n",
    "        PI_1_matrix = sparse.kron(Matrices[p1[i]],PI_1_matrix)\n",
    "    return PI_0_matrix+PI_1_matrix"
   ]
  },
  {
   "cell_type": "markdown",
   "id": "4d5c038e-10c3-47e1-a13f-355d69139da1",
   "metadata": {
    "jp-MarkdownHeadingCollapsed": true,
    "tags": []
   },
   "source": [
    "# Constructing the upper band wavefunction"
   ]
  },
  {
   "cell_type": "code",
   "execution_count": 12,
   "id": "a334d2f1-49ec-4023-9957-a0fd9c2c5223",
   "metadata": {
    "tags": []
   },
   "outputs": [],
   "source": [
    "def upper_band_wavefunction(k_x,k_y):\n",
    "    qr = QuantumRegister(2,\"q\")\n",
    "    \n",
    "    # Create the ancilla register\n",
    "    anc = QuantumRegister(1,\"ancilla\")\n",
    "    # Create the quantum circuit\n",
    "    qc = QuantumCircuit(anc,qr)  \n",
    "    \n",
    "    qc.x(1)\n",
    "    qc.cx(2,1)\n",
    "    theta = angle_theta(k_x,k_y)\n",
    "    phi = angle_phi(k_x,k_y)\n",
    "    qc.cu(theta,-phi,phi,0,1,2)\n",
    "    qc.cx(2,1)\n",
    "    return qc\n",
    "#upper_band_wavefunction(k_x,k_y).draw()"
   ]
  },
  {
   "cell_type": "markdown",
   "id": "ed333c36-2001-43b8-adaf-4b097c093a05",
   "metadata": {
    "jp-MarkdownHeadingCollapsed": true,
    "tags": []
   },
   "source": [
    "# Intraband evolution circuit"
   ]
  },
  {
   "cell_type": "code",
   "execution_count": 13,
   "id": "252c8b26-7139-437a-8ed0-5a0fb9d75d6b",
   "metadata": {
    "tags": []
   },
   "outputs": [],
   "source": [
    "def intraband_evolution(k_x,k_y,k_x_p,k_y_p):\n",
    "\n",
    "    # Create the quantum circuit\n",
    "    qc = QuantumCircuit(3,1)  \n",
    "    qc.h(0)\n",
    "    qc = qc.compose(upper_band_wavefunction(k_x,k_y))    \n",
    "    \n",
    "    qc.barrier()\n",
    "    \n",
    "    qc.ccx(0,2,1)\n",
    "    # $CCU_{3}^{\\dagger}$ gate.\n",
    "    W = sqrtm(np.matrix(U3(angle_theta(k_x,k_y),-angle_phi(k_x,k_y),angle_phi(k_x,k_y))).getH())\n",
    "    qc.unitary(controlled_W(W,1,2).A,[0,1,2])\n",
    "    qc.cx(0,1)\n",
    "    qc.unitary(np.matrix(controlled_W(W,1,2).A).getH(),[0,1,2])\n",
    "    qc.cx(0,1)\n",
    "    qc.unitary(np.matrix(controlled_W(W,0,2).A).getH(),[0,1,2])\n",
    "    \n",
    "    qc.barrier()\n",
    "    \n",
    "    # $CCU_{3}$ gate.\n",
    "    W = sqrtm(U3(angle_theta(k_x_p,k_y_p),-angle_phi(k_x_p,k_y_p),angle_phi(k_x_p,k_y_p)))\n",
    "    qc.unitary(controlled_W(W,1,2).A,[0,1,2])\n",
    "    qc.cx(0,1)\n",
    "    qc.unitary(np.matrix(controlled_W(W,1,2).A).getH(),[0,1,2])\n",
    "    qc.cx(0,1)\n",
    "    qc.unitary(np.matrix(controlled_W(W,0,2).A).getH(),[0,1,2])    \n",
    "    qc.ccx(0,2,1)    \n",
    "    qc.measure(0,0)\n",
    "    return qc"
   ]
  },
  {
   "cell_type": "code",
   "execution_count": 14,
   "id": "6a073dd7-3c2c-4310-9e72-9e472c660d00",
   "metadata": {
    "tags": []
   },
   "outputs": [],
   "source": [
    "#intraband_evolution(k_x,k_y,k_x_p,k_y_p).draw()"
   ]
  },
  {
   "cell_type": "markdown",
   "id": "76ac877a-0fe7-4476-bb44-eb1bc09ef199",
   "metadata": {
    "jp-MarkdownHeadingCollapsed": true,
    "tags": []
   },
   "source": [
    "# Interband evolution circuit"
   ]
  },
  {
   "cell_type": "code",
   "execution_count": 15,
   "id": "f889c974-1f02-4b88-8c31-5c4c8228080c",
   "metadata": {
    "tags": []
   },
   "outputs": [],
   "source": [
    "def interband_evolution(k_x,k_y,k_x_p,k_y_p):\n",
    "\n",
    "    # Create the quantum circuit\n",
    "    qc = QuantumCircuit(3,1)  \n",
    "    qc.h(0)\n",
    "    qc = qc.compose(upper_band_wavefunction(k_x,k_y))    \n",
    "    \n",
    "    qc.barrier()\n",
    "    \n",
    "    qc.ccx(0,2,1)\n",
    "    # $CCU_{3}^{\\dagger}$ gate.\n",
    "    W = sqrtm(np.matrix(U3(angle_theta(k_x,k_y),-angle_phi(k_x,k_y),angle_phi(k_x,k_y))).getH())\n",
    "    qc.unitary(controlled_W(W,1,2).A,[0,1,2])\n",
    "    qc.cx(0,1)\n",
    "    qc.unitary(np.matrix(controlled_W(W,1,2).A).getH(),[0,1,2])\n",
    "    qc.cx(0,1)\n",
    "    qc.unitary(np.matrix(controlled_W(W,0,2).A).getH(),[0,1,2])\n",
    "    \n",
    "    qc.ccx(0,1,2)\n",
    "    \n",
    "    # $CCU_{3}$ gate.\n",
    "    W = sqrtm(U3(angle_theta(k_x_p,k_y_p),-angle_phi(k_x_p,k_y_p),angle_phi(k_x_p,k_y_p)))\n",
    "    qc.unitary(controlled_W(W,1,2).A,[0,1,2])\n",
    "    qc.cx(0,1)\n",
    "    qc.unitary(np.matrix(controlled_W(W,1,2).A).getH(),[0,1,2])\n",
    "    qc.cx(0,1)\n",
    "    qc.unitary(np.matrix(controlled_W(W,0,2).A).getH(),[0,1,2])    \n",
    "    qc.ccx(0,2,1)    \n",
    "    qc.measure(0,0)\n",
    "    return qc"
   ]
  },
  {
   "cell_type": "code",
   "execution_count": 16,
   "id": "cf78307f-34ae-434e-8624-7811b3a7f437",
   "metadata": {
    "tags": []
   },
   "outputs": [],
   "source": [
    "#interband_evolution(1,1,1,1).draw()"
   ]
  },
  {
   "cell_type": "markdown",
   "id": "b70b727a-4bbb-435c-9712-78ae533e76d2",
   "metadata": {
    "tags": []
   },
   "source": [
    "# Code on simulator"
   ]
  },
  {
   "cell_type": "code",
   "execution_count": 17,
   "id": "2997d662-ef15-4460-a992-e81344a5d0f6",
   "metadata": {},
   "outputs": [],
   "source": [
    "counts_lst = []\n",
    "for k_1 in k_x_lst:\n",
    "    for k_2 in k_y_lst:\n",
    "        F_k_lst_of_points = [[(k_1,k_2),(k_1+delta_k_x,k_2)],\n",
    "        [(k_1+delta_k_x,k_2),(k_1+delta_k_x,k_2+delta_k_y)],\n",
    "        [(k_1,k_2+delta_k_y),(k_1+delta_k_x,k_2+delta_k_y)],\n",
    "        [(k_1,k_2),(k_1,k_2+delta_k_y)]]\n",
    "\n",
    "        for F_k_index in range(4):\n",
    "            k_x,k_y = F_k_lst_of_points[F_k_index][0][0],F_k_lst_of_points[F_k_index][0][1]\n",
    "            k_x_p,k_y_p = F_k_lst_of_points[F_k_index][1][0],F_k_lst_of_points[F_k_index][1][1]\n",
    "            # Simulating the Circuit:\n",
    "            backend = Aer.get_backend('qasm_simulator')\n",
    "            job = execute(intraband_evolution(k_x,k_y,k_x_p,k_y_p), backend, shots = 5120)\n",
    "            result = job.result()\n",
    "            counts = result.get_counts()\n",
    "            counts_lst.append([k_x,k_y,k_x_p,k_y_p,counts[\"0\"],counts[\"1\"]])\n",
    "            #plot_histogram(counts)"
   ]
  },
  {
   "cell_type": "code",
   "execution_count": 18,
   "id": "5c0a4b08-6b74-4d5f-977e-c5018ac3d9a1",
   "metadata": {
    "tags": []
   },
   "outputs": [],
   "source": [
    "#counts_lst"
   ]
  },
  {
   "cell_type": "code",
   "execution_count": 19,
   "id": "bf94c636-3238-471e-b137-49516f94e184",
   "metadata": {
    "tags": []
   },
   "outputs": [
    {
     "data": {
      "text/plain": [
       "17"
      ]
     },
     "execution_count": 19,
     "metadata": {},
     "output_type": "execute_result"
    }
   ],
   "source": [
    "intraband_evolution(k_x,k_y,k_x_p,k_y_p).depth()"
   ]
  },
  {
   "cell_type": "markdown",
   "id": "096173e7-7bbf-41bb-ba0c-eeb5ca276d67",
   "metadata": {},
   "source": [
    "# Code on hardware"
   ]
  },
  {
   "cell_type": "code",
   "execution_count": 20,
   "id": "75722cc3-8e7c-441d-8deb-92753f69c483",
   "metadata": {
    "tags": []
   },
   "outputs": [
    {
     "name": "stderr",
     "output_type": "stream",
     "text": [
      "ibmqfactory.load_account:WARNING:2023-10-02 14:41:19,637: Credentials are already in use. The existing account in the session will be replaced.\n"
     ]
    },
    {
     "name": "stdout",
     "output_type": "stream",
     "text": [
      "Running on current least busy device:  ibm_nairobi\n"
     ]
    }
   ],
   "source": [
    "# Load IBM Q account and get the least busy backend device\n",
    "provider = IBMQ.load_account()\n",
    "provider = IBMQ.get_provider(\"ibm-q\")\n",
    "device = least_busy(provider.backends(filters=lambda x: int(x.configuration().n_qubits) >= 3 and \n",
    "                                   not x.configuration().simulator and x.status().operational==True))\n",
    "print(\"Running on current least busy device: \", device)"
   ]
  },
  {
   "cell_type": "code",
   "execution_count": 21,
   "id": "61d7facb-5400-4f45-8857-93d7b4d53a67",
   "metadata": {
    "tags": []
   },
   "outputs": [
    {
     "name": "stdout",
     "output_type": "stream",
     "text": [
      "Job Status: job has successfully run\n",
      "Job Status: job has successfully run\n",
      "Job Status: job has successfully run\n",
      "Job Status: job has successfully run\n",
      "Job Status: job has successfully run\n",
      "Job Status: job has successfully run\n",
      "Job Status: job has successfully run\n",
      "Job Status: job has successfully run\n",
      "Job Status: job has successfully run\n",
      "Job Status: job has successfully run\n",
      "Job Status: job has successfully run\n",
      "Job Status: job has successfully run\n",
      "Job Status: job has successfully run\n",
      "Job Status: job has successfully run\n",
      "Job Status: job has successfully run\n",
      "Job Status: job has successfully run\n",
      "Job Status: job has successfully run\n",
      "Job Status: job has successfully run\n",
      "Job Status: job has successfully run\n",
      "Job Status: job has successfully run\n",
      "Job Status: job has successfully run\n",
      "Job Status: job has successfully run\n",
      "Job Status: job has successfully run\n",
      "Job Status: job has successfully run\n",
      "Job Status: job has successfully run\n",
      "Job Status: job has successfully run\n",
      "Job Status: job has successfully run\n",
      "Job Status: job has successfully run\n",
      "Job Status: job has successfully run\n",
      "Job Status: job has successfully run\n",
      "Job Status: job has successfully run\n",
      "Job Status: job has successfully run\n",
      "Job Status: job has successfully run\n",
      "Job Status: job has successfully run\n",
      "Job Status: job has successfully run\n",
      "Job Status: job has successfully run\n",
      "Job Status: job has successfully run\n",
      "Job Status: job has successfully run\n",
      "Job Status: job has successfully run\n",
      "Job Status: job has successfully run\n",
      "Job Status: job has successfully run\n",
      "Job Status: job has successfully run\n",
      "Job Status: job has successfully run\n",
      "Job Status: job has successfully run\n",
      "Job Status: job has successfully run\n",
      "Job Status: job has successfully run\n",
      "Job Status: job has successfully run\n",
      "Job Status: job has successfully run\n",
      "Job Status: job has successfully run\n",
      "Job Status: job has successfully run\n",
      "Job Status: job has successfully run\n",
      "Job Status: job has successfully run\n",
      "Job Status: job has successfully run\n",
      "Job Status: job has successfully run\n",
      "Job Status: job has successfully run\n",
      "Job Status: job has successfully run\n",
      "Job Status: job has successfully run\n",
      "Job Status: job has successfully run\n",
      "Job Status: job has successfully run\n",
      "Job Status: job has successfully run\n",
      "Job Status: job has successfully run\n",
      "Job Status: job has successfully run\n",
      "Job Status: job has successfully run\n",
      "Job Status: job has successfully run\n"
     ]
    }
   ],
   "source": [
    "# Run our circuit on the least busy backend. Monitor the execution of the job in the queue\n",
    "from qiskit.tools.monitor import job_monitor\n",
    "real_hardware_counts_lst = []\n",
    "for k_1 in k_x_lst:\n",
    "    for k_2 in k_y_lst:\n",
    "        F_k_lst_of_points = [[(k_1,k_2),(k_1+delta_k_x,k_2)],\n",
    "        [(k_1+delta_k_x,k_2),(k_1+delta_k_x,k_2+delta_k_y)],\n",
    "        [(k_1,k_2+delta_k_y),(k_1+delta_k_x,k_2+delta_k_y)],\n",
    "        [(k_1,k_2),(k_1,k_2+delta_k_y)]]\n",
    "\n",
    "        for F_k_index in range(4):\n",
    "            k_x,k_y = F_k_lst_of_points[F_k_index][0][0],F_k_lst_of_points[F_k_index][0][1]\n",
    "            k_x_p,k_y_p = F_k_lst_of_points[F_k_index][1][0],F_k_lst_of_points[F_k_index][1][1]\n",
    "            transpiled_circuit = transpile(intraband_evolution(k_x,k_y,k_x_p,k_y_p), device, optimization_level=3)\n",
    "            job = device.run(transpiled_circuit)\n",
    "            job_monitor(job, interval=2)\n",
    "            # Getting the results from the computation:\n",
    "            results = job.result()\n",
    "            answer = results.get_counts(transpiled_circuit)\n",
    "            #plot_histogram(answer)\n",
    "            real_hardware_counts_lst.append([k_x,k_y,k_x_p,k_y_p,answer[\"0\"],answer[\"1\"]])"
   ]
  },
  {
   "cell_type": "code",
   "execution_count": 24,
   "id": "d098b143-5a83-404a-b8b7-e05e2cdf356c",
   "metadata": {
    "tags": []
   },
   "outputs": [
    {
     "data": {
      "text/plain": [
       "[[-3.141592653589793,\n",
       "  -3.141592653589793,\n",
       "  -1.0471975511965979,\n",
       "  -3.141592653589793,\n",
       "  2311,\n",
       "  1689],\n",
       " [-1.0471975511965979,\n",
       "  -3.141592653589793,\n",
       "  -1.0471975511965979,\n",
       "  -1.0471975511965979,\n",
       "  2146,\n",
       "  1854],\n",
       " [-3.141592653589793,\n",
       "  -1.0471975511965979,\n",
       "  -1.0471975511965979,\n",
       "  -1.0471975511965979,\n",
       "  2311,\n",
       "  1689],\n",
       " [-3.141592653589793,\n",
       "  -3.141592653589793,\n",
       "  -3.141592653589793,\n",
       "  -1.0471975511965979,\n",
       "  2260,\n",
       "  1740],\n",
       " [-3.141592653589793,\n",
       "  -1.0471975511965979,\n",
       "  -1.0471975511965979,\n",
       "  -1.0471975511965979,\n",
       "  2180,\n",
       "  1820],\n",
       " [-1.0471975511965979,\n",
       "  -1.0471975511965979,\n",
       "  -1.0471975511965979,\n",
       "  1.0471975511965974,\n",
       "  2087,\n",
       "  1913],\n",
       " [-3.141592653589793,\n",
       "  1.0471975511965974,\n",
       "  -1.0471975511965979,\n",
       "  1.0471975511965974,\n",
       "  2292,\n",
       "  1708],\n",
       " [-3.141592653589793,\n",
       "  -1.0471975511965979,\n",
       "  -3.141592653589793,\n",
       "  1.0471975511965974,\n",
       "  2125,\n",
       "  1875],\n",
       " [-3.141592653589793,\n",
       "  1.0471975511965974,\n",
       "  -1.0471975511965979,\n",
       "  1.0471975511965974,\n",
       "  2198,\n",
       "  1802],\n",
       " [-1.0471975511965979,\n",
       "  1.0471975511965974,\n",
       "  -1.0471975511965979,\n",
       "  3.1415926535897927,\n",
       "  2096,\n",
       "  1904],\n",
       " [-3.141592653589793,\n",
       "  3.1415926535897927,\n",
       "  -1.0471975511965979,\n",
       "  3.1415926535897927,\n",
       "  2208,\n",
       "  1792],\n",
       " [-3.141592653589793,\n",
       "  1.0471975511965974,\n",
       "  -3.141592653589793,\n",
       "  3.1415926535897927,\n",
       "  2130,\n",
       "  1870],\n",
       " [-3.141592653589793,\n",
       "  3.141592653589793,\n",
       "  -1.0471975511965979,\n",
       "  3.141592653589793,\n",
       "  2262,\n",
       "  1738],\n",
       " [-1.0471975511965979,\n",
       "  3.141592653589793,\n",
       "  -1.0471975511965979,\n",
       "  5.235987755982988,\n",
       "  2259,\n",
       "  1741],\n",
       " [-3.141592653589793,\n",
       "  5.235987755982988,\n",
       "  -1.0471975511965979,\n",
       "  5.235987755982988,\n",
       "  2095,\n",
       "  1905],\n",
       " [-3.141592653589793,\n",
       "  3.141592653589793,\n",
       "  -3.141592653589793,\n",
       "  5.235987755982988,\n",
       "  2162,\n",
       "  1838],\n",
       " [-1.0471975511965979,\n",
       "  -3.141592653589793,\n",
       "  1.0471975511965974,\n",
       "  -3.141592653589793,\n",
       "  2123,\n",
       "  1877],\n",
       " [1.0471975511965974,\n",
       "  -3.141592653589793,\n",
       "  1.0471975511965974,\n",
       "  -1.0471975511965979,\n",
       "  2273,\n",
       "  1727],\n",
       " [-1.0471975511965979,\n",
       "  -1.0471975511965979,\n",
       "  1.0471975511965974,\n",
       "  -1.0471975511965979,\n",
       "  2163,\n",
       "  1837],\n",
       " [-1.0471975511965979,\n",
       "  -3.141592653589793,\n",
       "  -1.0471975511965979,\n",
       "  -1.0471975511965979,\n",
       "  2238,\n",
       "  1762],\n",
       " [-1.0471975511965979,\n",
       "  -1.0471975511965979,\n",
       "  1.0471975511965974,\n",
       "  -1.0471975511965979,\n",
       "  2185,\n",
       "  1815],\n",
       " [1.0471975511965974,\n",
       "  -1.0471975511965979,\n",
       "  1.0471975511965974,\n",
       "  1.0471975511965974,\n",
       "  2349,\n",
       "  1651],\n",
       " [-1.0471975511965979,\n",
       "  1.0471975511965974,\n",
       "  1.0471975511965974,\n",
       "  1.0471975511965974,\n",
       "  2226,\n",
       "  1774],\n",
       " [-1.0471975511965979,\n",
       "  -1.0471975511965979,\n",
       "  -1.0471975511965979,\n",
       "  1.0471975511965974,\n",
       "  2094,\n",
       "  1906],\n",
       " [-1.0471975511965979,\n",
       "  1.0471975511965974,\n",
       "  1.0471975511965974,\n",
       "  1.0471975511965974,\n",
       "  2197,\n",
       "  1803],\n",
       " [1.0471975511965974,\n",
       "  1.0471975511965974,\n",
       "  1.0471975511965974,\n",
       "  3.1415926535897927,\n",
       "  1877,\n",
       "  2123],\n",
       " [-1.0471975511965979,\n",
       "  3.1415926535897927,\n",
       "  1.0471975511965974,\n",
       "  3.1415926535897927,\n",
       "  2088,\n",
       "  1912],\n",
       " [-1.0471975511965979,\n",
       "  1.0471975511965974,\n",
       "  -1.0471975511965979,\n",
       "  3.1415926535897927,\n",
       "  2057,\n",
       "  1943],\n",
       " [-1.0471975511965979,\n",
       "  3.141592653589793,\n",
       "  1.0471975511965974,\n",
       "  3.141592653589793,\n",
       "  2214,\n",
       "  1786],\n",
       " [1.0471975511965974,\n",
       "  3.141592653589793,\n",
       "  1.0471975511965974,\n",
       "  5.235987755982988,\n",
       "  2163,\n",
       "  1837],\n",
       " [-1.0471975511965979,\n",
       "  5.235987755982988,\n",
       "  1.0471975511965974,\n",
       "  5.235987755982988,\n",
       "  2253,\n",
       "  1747],\n",
       " [-1.0471975511965979,\n",
       "  3.141592653589793,\n",
       "  -1.0471975511965979,\n",
       "  5.235987755982988,\n",
       "  2241,\n",
       "  1759],\n",
       " [1.0471975511965974,\n",
       "  -3.141592653589793,\n",
       "  3.1415926535897927,\n",
       "  -3.141592653589793,\n",
       "  2226,\n",
       "  1774],\n",
       " [3.1415926535897927,\n",
       "  -3.141592653589793,\n",
       "  3.1415926535897927,\n",
       "  -1.0471975511965979,\n",
       "  2249,\n",
       "  1751],\n",
       " [1.0471975511965974,\n",
       "  -1.0471975511965979,\n",
       "  3.1415926535897927,\n",
       "  -1.0471975511965979,\n",
       "  2362,\n",
       "  1638],\n",
       " [1.0471975511965974,\n",
       "  -3.141592653589793,\n",
       "  1.0471975511965974,\n",
       "  -1.0471975511965979,\n",
       "  2180,\n",
       "  1820],\n",
       " [1.0471975511965974,\n",
       "  -1.0471975511965979,\n",
       "  3.1415926535897927,\n",
       "  -1.0471975511965979,\n",
       "  2161,\n",
       "  1839],\n",
       " [3.1415926535897927,\n",
       "  -1.0471975511965979,\n",
       "  3.1415926535897927,\n",
       "  1.0471975511965974,\n",
       "  2108,\n",
       "  1892],\n",
       " [1.0471975511965974,\n",
       "  1.0471975511965974,\n",
       "  3.1415926535897927,\n",
       "  1.0471975511965974,\n",
       "  1839,\n",
       "  2161],\n",
       " [1.0471975511965974,\n",
       "  -1.0471975511965979,\n",
       "  1.0471975511965974,\n",
       "  1.0471975511965974,\n",
       "  2293,\n",
       "  1707],\n",
       " [1.0471975511965974,\n",
       "  1.0471975511965974,\n",
       "  3.1415926535897927,\n",
       "  1.0471975511965974,\n",
       "  1861,\n",
       "  2139],\n",
       " [3.1415926535897927,\n",
       "  1.0471975511965974,\n",
       "  3.1415926535897927,\n",
       "  3.1415926535897927,\n",
       "  2104,\n",
       "  1896],\n",
       " [1.0471975511965974,\n",
       "  3.1415926535897927,\n",
       "  3.1415926535897927,\n",
       "  3.1415926535897927,\n",
       "  2096,\n",
       "  1904],\n",
       " [1.0471975511965974,\n",
       "  1.0471975511965974,\n",
       "  1.0471975511965974,\n",
       "  3.1415926535897927,\n",
       "  1896,\n",
       "  2104],\n",
       " [1.0471975511965974,\n",
       "  3.141592653589793,\n",
       "  3.1415926535897927,\n",
       "  3.141592653589793,\n",
       "  2276,\n",
       "  1724],\n",
       " [3.1415926535897927,\n",
       "  3.141592653589793,\n",
       "  3.1415926535897927,\n",
       "  5.235987755982988,\n",
       "  2132,\n",
       "  1868],\n",
       " [1.0471975511965974,\n",
       "  5.235987755982988,\n",
       "  3.1415926535897927,\n",
       "  5.235987755982988,\n",
       "  2346,\n",
       "  1654],\n",
       " [1.0471975511965974,\n",
       "  3.141592653589793,\n",
       "  1.0471975511965974,\n",
       "  5.235987755982988,\n",
       "  2213,\n",
       "  1787],\n",
       " [3.141592653589793,\n",
       "  -3.141592653589793,\n",
       "  5.235987755982988,\n",
       "  -3.141592653589793,\n",
       "  2297,\n",
       "  1703],\n",
       " [5.235987755982988,\n",
       "  -3.141592653589793,\n",
       "  5.235987755982988,\n",
       "  -1.0471975511965979,\n",
       "  2172,\n",
       "  1828],\n",
       " [3.141592653589793,\n",
       "  -1.0471975511965979,\n",
       "  5.235987755982988,\n",
       "  -1.0471975511965979,\n",
       "  2086,\n",
       "  1914],\n",
       " [3.141592653589793,\n",
       "  -3.141592653589793,\n",
       "  3.141592653589793,\n",
       "  -1.0471975511965979,\n",
       "  2195,\n",
       "  1805],\n",
       " [3.141592653589793,\n",
       "  -1.0471975511965979,\n",
       "  5.235987755982988,\n",
       "  -1.0471975511965979,\n",
       "  2160,\n",
       "  1840],\n",
       " [5.235987755982988,\n",
       "  -1.0471975511965979,\n",
       "  5.235987755982988,\n",
       "  1.0471975511965974,\n",
       "  2315,\n",
       "  1685],\n",
       " [3.141592653589793,\n",
       "  1.0471975511965974,\n",
       "  5.235987755982988,\n",
       "  1.0471975511965974,\n",
       "  2228,\n",
       "  1772],\n",
       " [3.141592653589793,\n",
       "  -1.0471975511965979,\n",
       "  3.141592653589793,\n",
       "  1.0471975511965974,\n",
       "  1994,\n",
       "  2006],\n",
       " [3.141592653589793,\n",
       "  1.0471975511965974,\n",
       "  5.235987755982988,\n",
       "  1.0471975511965974,\n",
       "  2249,\n",
       "  1751],\n",
       " [5.235987755982988,\n",
       "  1.0471975511965974,\n",
       "  5.235987755982988,\n",
       "  3.1415926535897927,\n",
       "  2230,\n",
       "  1770],\n",
       " [3.141592653589793,\n",
       "  3.1415926535897927,\n",
       "  5.235987755982988,\n",
       "  3.1415926535897927,\n",
       "  2320,\n",
       "  1680],\n",
       " [3.141592653589793,\n",
       "  1.0471975511965974,\n",
       "  3.141592653589793,\n",
       "  3.1415926535897927,\n",
       "  2102,\n",
       "  1898],\n",
       " [3.141592653589793,\n",
       "  3.141592653589793,\n",
       "  5.235987755982988,\n",
       "  3.141592653589793,\n",
       "  2179,\n",
       "  1821],\n",
       " [5.235987755982988,\n",
       "  3.141592653589793,\n",
       "  5.235987755982988,\n",
       "  5.235987755982988,\n",
       "  2047,\n",
       "  1953],\n",
       " [3.141592653589793,\n",
       "  5.235987755982988,\n",
       "  5.235987755982988,\n",
       "  5.235987755982988,\n",
       "  2091,\n",
       "  1909],\n",
       " [3.141592653589793,\n",
       "  3.141592653589793,\n",
       "  3.141592653589793,\n",
       "  5.235987755982988,\n",
       "  2082,\n",
       "  1918]]"
      ]
     },
     "execution_count": 24,
     "metadata": {},
     "output_type": "execute_result"
    }
   ],
   "source": [
    "real_hardware_counts_lst"
   ]
  },
  {
   "cell_type": "code",
   "execution_count": 23,
   "id": "75371d8b-9641-42dd-a587-b3081c6e2ae8",
   "metadata": {
    "tags": []
   },
   "outputs": [],
   "source": [
    "# Getting the results from the computation:\n",
    "#results = job.result()\n",
    "#answer = results.get_counts(transpiled_circuit)\n",
    "#plot_histogram(answer)"
   ]
  }
 ],
 "metadata": {
  "kernelspec": {
   "display_name": "Python 3 (ipykernel)",
   "language": "python",
   "name": "python3"
  },
  "language_info": {
   "codemirror_mode": {
    "name": "ipython",
    "version": 3
   },
   "file_extension": ".py",
   "mimetype": "text/x-python",
   "name": "python",
   "nbconvert_exporter": "python",
   "pygments_lexer": "ipython3",
   "version": "3.10.8"
  },
  "widgets": {
   "application/vnd.jupyter.widget-state+json": {
    "state": {
     "00424a07372d44d8adee9c7d574e13ac": {
      "model_module": "@jupyter-widgets/base",
      "model_module_version": "2.0.0",
      "model_name": "LayoutModel",
      "state": {
       "width": "70px"
      }
     },
     "005ac1bb4ae048299c7aaedceb68bad8": {
      "model_module": "@jupyter-widgets/controls",
      "model_module_version": "2.0.0",
      "model_name": "ButtonStyleModel",
      "state": {
       "button_color": "white",
       "font_family": null,
       "font_size": null,
       "font_style": null,
       "font_variant": null,
       "font_weight": null,
       "text_color": null,
       "text_decoration": null
      }
     },
     "0084c3b26220451fb2cbaf94d053c1c9": {
      "model_module": "@jupyter-widgets/controls",
      "model_module_version": "2.0.0",
      "model_name": "HTMLModel",
      "state": {
       "layout": "IPY_MODEL_d83984b1ad024e64be0898cc035abc0b",
       "style": "IPY_MODEL_653c5e26f44346028aa3c61db435e25e",
       "value": "ibm_nairobi"
      }
     },
     "008e12dad26446e0832576a3e143723d": {
      "model_module": "@jupyter-widgets/controls",
      "model_module_version": "2.0.0",
      "model_name": "HTMLModel",
      "state": {
       "layout": "IPY_MODEL_d81374f0774f44eb89de0936c5f79ac3",
       "style": "IPY_MODEL_8ed80553a76c4b0cb179f8208cc2e707",
       "value": "cmddnv7wq3k0008sz080"
      }
     },
     "00ec0cfa5e7a4131b67a7e98e440609d": {
      "model_module": "@jupyter-widgets/controls",
      "model_module_version": "2.0.0",
      "model_name": "HBoxModel",
      "state": {
       "children": [
        "IPY_MODEL_3bdc2910a5454c2c9519d440451b0b7a",
        "IPY_MODEL_2c2685043b41402d86aad224b58b4f4d",
        "IPY_MODEL_6aba768d73144a1689c865ea7efab8c0",
        "IPY_MODEL_94109ab08a6149398ce5c2566923997a",
        "IPY_MODEL_c1dc9e28b74d40b49bfcbd9c2b7842e7",
        "IPY_MODEL_063e0bfb81da4c8396a49fa1130f258b"
       ],
       "layout": "IPY_MODEL_f365cefdedab4d7bb72895a9a1fd6dac"
      }
     },
     "017879b8f5ac4853a59064b5a76da83d": {
      "model_module": "@jupyter-widgets/controls",
      "model_module_version": "2.0.0",
      "model_name": "HTMLStyleModel",
      "state": {
       "description_width": "",
       "font_size": null,
       "text_color": null
      }
     },
     "01af0a7c7aaa46e096c18369239cabeb": {
      "model_module": "@jupyter-widgets/controls",
      "model_module_version": "2.0.0",
      "model_name": "HTMLModel",
      "state": {
       "layout": "IPY_MODEL_e8227f76b6154dd4a6d89c170fcf0f10",
       "style": "IPY_MODEL_fd0ef5fcf911401ab43a5acfbf0d2bc4",
       "value": "ibm_nairobi"
      }
     },
     "01b42dbe744147a681d8c38177868234": {
      "model_module": "@jupyter-widgets/base",
      "model_module_version": "2.0.0",
      "model_name": "LayoutModel",
      "state": {
       "width": "70px"
      }
     },
     "01cdd9a54aa646ffb671ab36e8748a13": {
      "model_module": "@jupyter-widgets/base",
      "model_module_version": "2.0.0",
      "model_name": "LayoutModel",
      "state": {
       "width": "145px"
      }
     },
     "01dbbf9dd2b7402cb9d59ab8514bc411": {
      "model_module": "@jupyter-widgets/controls",
      "model_module_version": "2.0.0",
      "model_name": "HTMLStyleModel",
      "state": {
       "description_width": "",
       "font_size": null,
       "text_color": null
      }
     },
     "02209c37c4d54419b55094a9192b2393": {
      "model_module": "@jupyter-widgets/controls",
      "model_module_version": "2.0.0",
      "model_name": "HTMLStyleModel",
      "state": {
       "description_width": "",
       "font_size": null,
       "text_color": null
      }
     },
     "026ad046a9f44ccc83890f40ee99f86a": {
      "model_module": "@jupyter-widgets/controls",
      "model_module_version": "2.0.0",
      "model_name": "HTMLModel",
      "state": {
       "layout": "IPY_MODEL_de99b3925e0d4598a5f432b079a8615f",
       "style": "IPY_MODEL_c10b61b56cd0417ba1f92bb07adc0723",
       "value": "job has successfully run"
      }
     },
     "0298863dec6c4bc8b76b2ceb6bfce398": {
      "model_module": "@jupyter-widgets/controls",
      "model_module_version": "2.0.0",
      "model_name": "HTMLStyleModel",
      "state": {
       "description_width": "",
       "font_size": null,
       "text_color": null
      }
     },
     "02c2604b53024c70ab2518c2037ef24e": {
      "model_module": "@jupyter-widgets/controls",
      "model_module_version": "2.0.0",
      "model_name": "HTMLStyleModel",
      "state": {
       "description_width": "",
       "font_size": null,
       "text_color": null
      }
     },
     "02d96670b6de478db934f98cad7b54d7": {
      "model_module": "@jupyter-widgets/controls",
      "model_module_version": "2.0.0",
      "model_name": "HTMLStyleModel",
      "state": {
       "description_width": "",
       "font_size": null,
       "text_color": null
      }
     },
     "02f815c42f5a432bbe65c7899ec4f161": {
      "model_module": "@jupyter-widgets/controls",
      "model_module_version": "2.0.0",
      "model_name": "HTMLModel",
      "state": {
       "layout": "IPY_MODEL_c2371740806b47a48323425484bb174a",
       "style": "IPY_MODEL_7480a4a4af7f4cddbf252ce541c2589c",
       "value": "ibm_nairobi"
      }
     },
     "0366557e44144af783f09e8f44dbd8e6": {
      "model_module": "@jupyter-widgets/controls",
      "model_module_version": "2.0.0",
      "model_name": "ButtonStyleModel",
      "state": {
       "button_color": "white",
       "font_family": null,
       "font_size": null,
       "font_style": null,
       "font_variant": null,
       "font_weight": null,
       "text_color": null,
       "text_decoration": null
      }
     },
     "0396b3845ede4890b559347eb427e047": {
      "model_module": "@jupyter-widgets/controls",
      "model_module_version": "2.0.0",
      "model_name": "HTMLModel",
      "state": {
       "layout": "IPY_MODEL_e1f6ce11899a43ffb0fc7070e66febbf",
       "style": "IPY_MODEL_c5634d7294f84c5b872a8cf4d3478ac2",
       "value": "-"
      }
     },
     "039c9e5c71e24c56995c92729a7073d4": {
      "model_module": "@jupyter-widgets/controls",
      "model_module_version": "2.0.0",
      "model_name": "HBoxModel",
      "state": {
       "children": [
        "IPY_MODEL_48a88fe0ed384851a3f2e3ca7515b73c",
        "IPY_MODEL_efed24b1f8484354a4fe0aacd8728eeb",
        "IPY_MODEL_1d2cd66890bb4764b9f2c214c0bbe067",
        "IPY_MODEL_f8e4d1a303384d11924f036695acf96e",
        "IPY_MODEL_de61c32e989041a68ff10e78ae3d6a09",
        "IPY_MODEL_a529ccdcecb74af08bc4c085e1af72fd"
       ],
       "layout": "IPY_MODEL_cf342777d4b54483893e7aa005c9d01a"
      }
     },
     "03c85922513a40b298b881bea609dfd9": {
      "model_module": "@jupyter-widgets/controls",
      "model_module_version": "2.0.0",
      "model_name": "ButtonModel",
      "state": {
       "icon": "close",
       "layout": "IPY_MODEL_df4a984905cb48b9838480bcf3fcc3bb",
       "style": "IPY_MODEL_8f19a76b41c0437c88f24462a3341bf9",
       "tooltip": null
      }
     },
     "03dd091fd8e946d2af5f7deb76d7521b": {
      "model_module": "@jupyter-widgets/base",
      "model_module_version": "2.0.0",
      "model_name": "LayoutModel",
      "state": {
       "width": "190px"
      }
     },
     "0427d288ef054f90af301fbd68e596e0": {
      "model_module": "@jupyter-widgets/controls",
      "model_module_version": "2.0.0",
      "model_name": "HTMLModel",
      "state": {
       "layout": "IPY_MODEL_ec8a7e997c244b2ba8eebba3d4ea90e7",
       "style": "IPY_MODEL_d2272078bf3f4552ad9c925ffa0e3ddc",
       "value": "ibm_nairobi"
      }
     },
     "04310fa876a641e981a6eac6510d3e70": {
      "model_module": "@jupyter-widgets/base",
      "model_module_version": "2.0.0",
      "model_name": "LayoutModel",
      "state": {
       "max_width": "700px",
       "min_width": "700px"
      }
     },
     "048ddc6ffbaf43418c9cadbd0d24d1ff": {
      "model_module": "@jupyter-widgets/controls",
      "model_module_version": "2.0.0",
      "model_name": "ButtonStyleModel",
      "state": {
       "button_color": "white",
       "font_family": null,
       "font_size": null,
       "font_style": null,
       "font_variant": null,
       "font_weight": null,
       "text_color": null,
       "text_decoration": null
      }
     },
     "048ef3f4cbef400fb629aa09629bd848": {
      "model_module": "@jupyter-widgets/controls",
      "model_module_version": "2.0.0",
      "model_name": "HTMLModel",
      "state": {
       "layout": "IPY_MODEL_997076080c4e483683c611b0e38a9797",
       "style": "IPY_MODEL_582f02af93b74613b29dbc00444ce4de",
       "value": "<font style='color:#34BC6E'>DONE</font>"
      }
     },
     "04b93b813455437e91163d25b22aae68": {
      "model_module": "@jupyter-widgets/base",
      "model_module_version": "2.0.0",
      "model_name": "LayoutModel",
      "state": {
       "width": "145px"
      }
     },
     "050450cf40514045b2a5dc9b9d12d72f": {
      "model_module": "@jupyter-widgets/controls",
      "model_module_version": "2.0.0",
      "model_name": "HTMLStyleModel",
      "state": {
       "description_width": "",
       "font_size": null,
       "text_color": null
      }
     },
     "050cca717564458da7b3887a2d30b19f": {
      "model_module": "@jupyter-widgets/controls",
      "model_module_version": "2.0.0",
      "model_name": "HTMLStyleModel",
      "state": {
       "description_width": "",
       "font_size": null,
       "text_color": null
      }
     },
     "0592543412cd41a8b1919d75f96cf2ae": {
      "model_module": "@jupyter-widgets/base",
      "model_module_version": "2.0.0",
      "model_name": "LayoutModel",
      "state": {}
     },
     "06155db1afb64e7ca0c02cba2f8d48dd": {
      "model_module": "@jupyter-widgets/base",
      "model_module_version": "2.0.0",
      "model_name": "LayoutModel",
      "state": {
       "margin": "0px 5px 0px 0px",
       "width": "32px"
      }
     },
     "063e0bfb81da4c8396a49fa1130f258b": {
      "model_module": "@jupyter-widgets/controls",
      "model_module_version": "2.0.0",
      "model_name": "HTMLModel",
      "state": {
       "layout": "IPY_MODEL_150fce6e10a14b719b04ca0d57739c6c",
       "style": "IPY_MODEL_d311eaa92ff1406baf18faf332f82e09",
       "value": "job has successfully run"
      }
     },
     "06a9ff058a014a4a96d0c60746eb51a2": {
      "model_module": "@jupyter-widgets/controls",
      "model_module_version": "2.0.0",
      "model_name": "HBoxModel",
      "state": {
       "children": [
        "IPY_MODEL_5238d24c7c6a4e19b2b5a5197dc5fc0a",
        "IPY_MODEL_562d6db1012345fab685e105cb34cd19",
        "IPY_MODEL_59cb57acf8fe4252988f581b10831ac3",
        "IPY_MODEL_e9dfb4bbd3404846af162f35dce8e549",
        "IPY_MODEL_ad6e6e909ede45a29baf70c7d91aae81",
        "IPY_MODEL_b1d363b6434241daabd34cc47f656c39"
       ],
       "layout": "IPY_MODEL_5159c5f4847040e7ab43f2c0a4471ef9"
      }
     },
     "06f4d363571848418b93711eaee7510b": {
      "model_module": "@jupyter-widgets/controls",
      "model_module_version": "2.0.0",
      "model_name": "HTMLModel",
      "state": {
       "layout": "IPY_MODEL_7d10c5aa236f4092a3f6ece9cc03a4d9",
       "style": "IPY_MODEL_89687aa7050a48a29df793501bb1a52d",
       "value": "-"
      }
     },
     "0716a0704fca4bb0b18473018c6fc8ed": {
      "model_module": "@jupyter-widgets/controls",
      "model_module_version": "2.0.0",
      "model_name": "HTMLModel",
      "state": {
       "layout": "IPY_MODEL_485b78598e5c4bf2911665767319997e",
       "style": "IPY_MODEL_2ed3e54e1ff74b0880f0f975a4719708",
       "value": "<font style='color:#34BC6E'>DONE</font>"
      }
     },
     "0725d381ed7645afb24ce277d56e01e4": {
      "model_module": "@jupyter-widgets/base",
      "model_module_version": "2.0.0",
      "model_name": "LayoutModel",
      "state": {
       "width": "70px"
      }
     },
     "07aecd84cf1245d1a48213f90c53c06a": {
      "model_module": "@jupyter-widgets/base",
      "model_module_version": "2.0.0",
      "model_name": "LayoutModel",
      "state": {}
     },
     "07d2ab80788c45efa531930376fb12f9": {
      "model_module": "@jupyter-widgets/base",
      "model_module_version": "2.0.0",
      "model_name": "LayoutModel",
      "state": {}
     },
     "081b6099f520496aa06e6e10d3172e8c": {
      "model_module": "@jupyter-widgets/controls",
      "model_module_version": "2.0.0",
      "model_name": "HTMLStyleModel",
      "state": {
       "description_width": "",
       "font_size": null,
       "text_color": null
      }
     },
     "087e0da596fb4df3a2cc7f941a30d51f": {
      "model_module": "@jupyter-widgets/controls",
      "model_module_version": "2.0.0",
      "model_name": "HTMLStyleModel",
      "state": {
       "description_width": "",
       "font_size": null,
       "text_color": null
      }
     },
     "08af1431348143dea2d1cf6d5cd46e40": {
      "model_module": "@jupyter-widgets/controls",
      "model_module_version": "2.0.0",
      "model_name": "HTMLStyleModel",
      "state": {
       "description_width": "",
       "font_size": null,
       "text_color": null
      }
     },
     "08c6fc8778714fca80f5d24ba072af45": {
      "model_module": "@jupyter-widgets/controls",
      "model_module_version": "2.0.0",
      "model_name": "HTMLModel",
      "state": {
       "layout": "IPY_MODEL_64af35cafa664442bd26279a7cc65c6d",
       "style": "IPY_MODEL_578485622fab4697b9c39bfe13ee994d",
       "value": "job has successfully run"
      }
     },
     "08d4bdc4729241c3b80318f2d0491348": {
      "model_module": "@jupyter-widgets/controls",
      "model_module_version": "2.0.0",
      "model_name": "HTMLModel",
      "state": {
       "layout": "IPY_MODEL_93053d3353e04de8a0672877b072a02f",
       "style": "IPY_MODEL_333e27105c5946c0af76df4c1e03c861",
       "value": "cmde3vfwq3k0008sz170"
      }
     },
     "08ff2848bbb14c4594a0534fd5b678fd": {
      "model_module": "@jupyter-widgets/controls",
      "model_module_version": "2.0.0",
      "model_name": "ButtonModel",
      "state": {
       "icon": "close",
       "layout": "IPY_MODEL_e5fbf40995fa4058b115ef249dd1fbfc",
       "style": "IPY_MODEL_47a0656be57a415db5fc1d0fd512b80d",
       "tooltip": null
      }
     },
     "09261fc1659a4dbeb1f571477b151f20": {
      "model_module": "@jupyter-widgets/base",
      "model_module_version": "2.0.0",
      "model_name": "LayoutModel",
      "state": {
       "width": "190px"
      }
     },
     "0972c40ea48c483cae3a6b0ad0575a60": {
      "model_module": "@jupyter-widgets/controls",
      "model_module_version": "2.0.0",
      "model_name": "ButtonStyleModel",
      "state": {
       "button_color": "white",
       "font_family": null,
       "font_size": null,
       "font_style": null,
       "font_variant": null,
       "font_weight": null,
       "text_color": null,
       "text_decoration": null
      }
     },
     "097cfcbf53824b018502b1016d190c3f": {
      "model_module": "@jupyter-widgets/base",
      "model_module_version": "2.0.0",
      "model_name": "LayoutModel",
      "state": {
       "margin": "0px 5px 0px 0px",
       "width": "32px"
      }
     },
     "099c4aade47b4393aa40ee99ad75b3ea": {
      "model_module": "@jupyter-widgets/controls",
      "model_module_version": "2.0.0",
      "model_name": "ButtonStyleModel",
      "state": {
       "button_color": "white",
       "font_family": null,
       "font_size": null,
       "font_style": null,
       "font_variant": null,
       "font_weight": null,
       "text_color": null,
       "text_decoration": null
      }
     },
     "09af3abc2d484f09bbc7fdcc21e527ea": {
      "model_module": "@jupyter-widgets/controls",
      "model_module_version": "2.0.0",
      "model_name": "ButtonModel",
      "state": {
       "icon": "close",
       "layout": "IPY_MODEL_c2a65bae2b0c4cf19f0f117679ca349a",
       "style": "IPY_MODEL_bfe235b88d9548af97a7193031eecf8b",
       "tooltip": null
      }
     },
     "09d1fcef4d6e4f96aea3f6eb20fe398a": {
      "model_module": "@jupyter-widgets/controls",
      "model_module_version": "2.0.0",
      "model_name": "HBoxModel",
      "state": {
       "children": [
        "IPY_MODEL_8fd8ae48a9244d72aac7bbd46a71a718",
        "IPY_MODEL_75cc90d45f724eabab8cb55be082c731",
        "IPY_MODEL_980cc22a1f5f42b2acdd7c60cfa526d5",
        "IPY_MODEL_609afdab1109489593480898941dfb8b",
        "IPY_MODEL_f88131d2a026467aac21487e2e9e9d73",
        "IPY_MODEL_e4de75c75b914c92afea5bf0120220e4"
       ],
       "layout": "IPY_MODEL_e385a6f294c245e195d2b12956f8f762"
      }
     },
     "0a5d0b21310e465d86d4646ed9029add": {
      "model_module": "@jupyter-widgets/controls",
      "model_module_version": "2.0.0",
      "model_name": "HTMLStyleModel",
      "state": {
       "description_width": "",
       "font_size": null,
       "text_color": null
      }
     },
     "0a9558d8fe524b00bee22bf4de1f4fe2": {
      "model_module": "@jupyter-widgets/controls",
      "model_module_version": "2.0.0",
      "model_name": "HTMLModel",
      "state": {
       "layout": "IPY_MODEL_66391c3eef8148c096c84ef2ee5c55de",
       "style": "IPY_MODEL_8dddb06c8c6443419709287997f9e000",
       "value": "-"
      }
     },
     "0ab16fce5919424081d96b1d65f76139": {
      "model_module": "@jupyter-widgets/controls",
      "model_module_version": "2.0.0",
      "model_name": "HTMLStyleModel",
      "state": {
       "description_width": "",
       "font_size": null,
       "text_color": null
      }
     },
     "0abda94a5ee84540b71f5b11d3b14808": {
      "model_module": "@jupyter-widgets/controls",
      "model_module_version": "2.0.0",
      "model_name": "HTMLModel",
      "state": {
       "layout": "IPY_MODEL_1fc25ff25d6c4861a964c96628b22699",
       "style": "IPY_MODEL_c9e38d8c79d24ef68cd434339b45778b",
       "value": "<h5>Status</h5>"
      }
     },
     "0ace5f664c1f42d6a7b2e641076fd3f6": {
      "model_module": "@jupyter-widgets/controls",
      "model_module_version": "2.0.0",
      "model_name": "HTMLStyleModel",
      "state": {
       "description_width": "",
       "font_size": null,
       "text_color": null
      }
     },
     "0b40491f823c4651ad8572d95ea85b67": {
      "model_module": "@jupyter-widgets/controls",
      "model_module_version": "2.0.0",
      "model_name": "HTMLModel",
      "state": {
       "layout": "IPY_MODEL_657c9dc534ea4f2bb0f79130f5b613fd",
       "style": "IPY_MODEL_a76e24e131374150a96de9bc35cb62d9",
       "value": "<font style='color:#34BC6E'>DONE</font>"
      }
     },
     "0b71e75bf77d4ae3853d45d876573115": {
      "model_module": "@jupyter-widgets/controls",
      "model_module_version": "2.0.0",
      "model_name": "ButtonModel",
      "state": {
       "icon": "close",
       "layout": "IPY_MODEL_27477ab7faf04128aa40f9a1046ca691",
       "style": "IPY_MODEL_099c4aade47b4393aa40ee99ad75b3ea",
       "tooltip": null
      }
     },
     "0b97e221c7544fdc93360718cc848c66": {
      "model_module": "@jupyter-widgets/base",
      "model_module_version": "2.0.0",
      "model_name": "LayoutModel",
      "state": {
       "width": "95px"
      }
     },
     "0bba5e718c6d4f18b16d0bb3b3925320": {
      "model_module": "@jupyter-widgets/controls",
      "model_module_version": "2.0.0",
      "model_name": "HBoxModel",
      "state": {
       "children": [
        "IPY_MODEL_1e62ec5feea84e6b9e88ab2c92c25321",
        "IPY_MODEL_4f48d80193184d7b925b3f25729f9d94",
        "IPY_MODEL_1c947fa8dcc649fe816426ebe778539e",
        "IPY_MODEL_4d03f72b890a451f9b5a1b5bd5ec2447",
        "IPY_MODEL_cd7ac03b29a849a2ad5ad0171d9ac3c3",
        "IPY_MODEL_c7952147118249a789cbb04ca448be32"
       ],
       "layout": "IPY_MODEL_04310fa876a641e981a6eac6510d3e70"
      }
     },
     "0bddd9bbcb8a49e5a1b6a52979767487": {
      "model_module": "@jupyter-widgets/controls",
      "model_module_version": "2.0.0",
      "model_name": "ButtonModel",
      "state": {
       "icon": "close",
       "layout": "IPY_MODEL_b69ee6f512ac41afa6bffc2214fccc7d",
       "style": "IPY_MODEL_2ba6ad49538e4443bffbb40a2ed4bdcf",
       "tooltip": null
      }
     },
     "0c567955f1bf4403869fb8b79af4915c": {
      "model_module": "@jupyter-widgets/controls",
      "model_module_version": "2.0.0",
      "model_name": "HTMLStyleModel",
      "state": {
       "description_width": "",
       "font_size": null,
       "text_color": null
      }
     },
     "0cd84e2c0b5844efbdca9888d672d109": {
      "model_module": "@jupyter-widgets/base",
      "model_module_version": "2.0.0",
      "model_name": "LayoutModel",
      "state": {
       "width": "70px"
      }
     },
     "0d17027855d84f0ea108578f485b2eca": {
      "model_module": "@jupyter-widgets/base",
      "model_module_version": "2.0.0",
      "model_name": "LayoutModel",
      "state": {
       "margin": "0px 5px 0px 0px",
       "width": "32px"
      }
     },
     "0d3e2374521f4c25a73abc76caaa71ff": {
      "model_module": "@jupyter-widgets/base",
      "model_module_version": "2.0.0",
      "model_name": "LayoutModel",
      "state": {
       "max_width": "700px",
       "min_width": "700px"
      }
     },
     "0d43171b26314e80af9c6ebc44cf72f6": {
      "model_module": "@jupyter-widgets/controls",
      "model_module_version": "2.0.0",
      "model_name": "HTMLStyleModel",
      "state": {
       "description_width": "",
       "font_size": null,
       "text_color": null
      }
     },
     "0e0be7a1d71b4b34b3c219a4da1d0a43": {
      "model_module": "@jupyter-widgets/base",
      "model_module_version": "2.0.0",
      "model_name": "LayoutModel",
      "state": {
       "width": "95px"
      }
     },
     "0e15a108801e48b9b096e0f77a5ec809": {
      "model_module": "@jupyter-widgets/base",
      "model_module_version": "2.0.0",
      "model_name": "LayoutModel",
      "state": {
       "width": "70px"
      }
     },
     "0e25e2d698ed46d0a94c1a1e64f9ac38": {
      "model_module": "@jupyter-widgets/base",
      "model_module_version": "2.0.0",
      "model_name": "LayoutModel",
      "state": {
       "max_width": "700px",
       "min_width": "700px"
      }
     },
     "0e2778fc111841039546d63b25753e61": {
      "model_module": "@jupyter-widgets/controls",
      "model_module_version": "2.0.0",
      "model_name": "HTMLStyleModel",
      "state": {
       "description_width": "",
       "font_size": null,
       "text_color": null
      }
     },
     "0e2e0dc78ef84f0b8ef1675c7b130f08": {
      "model_module": "@jupyter-widgets/controls",
      "model_module_version": "2.0.0",
      "model_name": "HTMLModel",
      "state": {
       "layout": "IPY_MODEL_f86eff89d1e74918841bf5a198b0d8dc",
       "style": "IPY_MODEL_711c26e64545410c89b777b5f7e73419",
       "value": "cmde2f9y4c00008hxp40"
      }
     },
     "0e5e65de13f1417292afbc7da8d702bb": {
      "model_module": "@jupyter-widgets/controls",
      "model_module_version": "2.0.0",
      "model_name": "HTMLModel",
      "state": {
       "layout": "IPY_MODEL_c10eef493f3645709a6fb912a577558b",
       "style": "IPY_MODEL_be62cc56f3c74642b9eb25d8b7fc26cc",
       "value": "ibm_nairobi"
      }
     },
     "0e5e734f00284a16b72595c217cb056f": {
      "model_module": "@jupyter-widgets/controls",
      "model_module_version": "2.0.0",
      "model_name": "HTMLStyleModel",
      "state": {
       "description_width": "",
       "font_size": null,
       "text_color": null
      }
     },
     "0e7422b0895241f2af9452230644520c": {
      "model_module": "@jupyter-widgets/base",
      "model_module_version": "2.0.0",
      "model_name": "LayoutModel",
      "state": {
       "width": "95px"
      }
     },
     "0ecc83d71dc544aba8988767d3158e8a": {
      "model_module": "@jupyter-widgets/controls",
      "model_module_version": "2.0.0",
      "model_name": "HBoxModel",
      "state": {
       "children": [
        "IPY_MODEL_1e085087f4164dab89ffd5bba9415b1d",
        "IPY_MODEL_7a558c80187e4cf29f40a73609505510",
        "IPY_MODEL_dea54ee87da6401fa23dee87fbbff5ec",
        "IPY_MODEL_3b50aac2088e46aebd909e81029b14cc",
        "IPY_MODEL_9c632ae3e57f46cf901bf9c0054f772c",
        "IPY_MODEL_65b058356ddc4f79a4657912ba45dd14"
       ],
       "layout": "IPY_MODEL_fcfef8fd04014dd1b8fbe641d76537d8"
      }
     },
     "0f0cb8249f07403d8ff11b00320612dc": {
      "model_module": "@jupyter-widgets/controls",
      "model_module_version": "2.0.0",
      "model_name": "ButtonStyleModel",
      "state": {
       "button_color": "white",
       "font_family": null,
       "font_size": null,
       "font_style": null,
       "font_variant": null,
       "font_weight": null,
       "text_color": null,
       "text_decoration": null
      }
     },
     "0f511852530c45f09058d590a3e5fff7": {
      "model_module": "@jupyter-widgets/controls",
      "model_module_version": "2.0.0",
      "model_name": "HTMLStyleModel",
      "state": {
       "description_width": "",
       "font_size": null,
       "text_color": null
      }
     },
     "0fa836e8f5d24611bf1efc063b1b08a8": {
      "model_module": "@jupyter-widgets/controls",
      "model_module_version": "2.0.0",
      "model_name": "ButtonModel",
      "state": {
       "icon": "close",
       "layout": "IPY_MODEL_06155db1afb64e7ca0c02cba2f8d48dd",
       "style": "IPY_MODEL_005ac1bb4ae048299c7aaedceb68bad8",
       "tooltip": null
      }
     },
     "100a1f252ff4493383ccda7295c72731": {
      "model_module": "@jupyter-widgets/controls",
      "model_module_version": "2.0.0",
      "model_name": "ButtonStyleModel",
      "state": {
       "button_color": "white",
       "font_family": null,
       "font_size": null,
       "font_style": null,
       "font_variant": null,
       "font_weight": null,
       "text_color": null,
       "text_decoration": null
      }
     },
     "102f045253ea4aac9aa550555a5a8be7": {
      "model_module": "@jupyter-widgets/base",
      "model_module_version": "2.0.0",
      "model_name": "LayoutModel",
      "state": {
       "width": "70px"
      }
     },
     "10ae4274f05a4ea0aed3c258a12abb3a": {
      "model_module": "@jupyter-widgets/controls",
      "model_module_version": "2.0.0",
      "model_name": "HTMLModel",
      "state": {
       "layout": "IPY_MODEL_b4d5dd03764746c19c921aaee3624d46",
       "style": "IPY_MODEL_bb7e2994cb2b40ba9a2c5ceaf5867640",
       "value": "<font style='color:#34BC6E'>DONE</font>"
      }
     },
     "114dc56193a149da933dd102babcccce": {
      "model_module": "@jupyter-widgets/controls",
      "model_module_version": "2.0.0",
      "model_name": "ButtonStyleModel",
      "state": {
       "button_color": "white",
       "font_family": null,
       "font_size": null,
       "font_style": null,
       "font_variant": null,
       "font_weight": null,
       "text_color": null,
       "text_decoration": null
      }
     },
     "11662e94bc4945b688293362871dc25f": {
      "model_module": "@jupyter-widgets/controls",
      "model_module_version": "2.0.0",
      "model_name": "HTMLStyleModel",
      "state": {
       "description_width": "",
       "font_size": null,
       "text_color": null
      }
     },
     "11db0879aec547be9e7f8c7faaefcd7d": {
      "model_module": "@jupyter-widgets/controls",
      "model_module_version": "2.0.0",
      "model_name": "HTMLStyleModel",
      "state": {
       "description_width": "",
       "font_size": null,
       "text_color": null
      }
     },
     "122625c170874e739690c0328ea58adb": {
      "model_module": "@jupyter-widgets/controls",
      "model_module_version": "2.0.0",
      "model_name": "HTMLStyleModel",
      "state": {
       "description_width": "",
       "font_size": null,
       "text_color": null
      }
     },
     "126c0a49507e4535982cc09cbbeee39e": {
      "model_module": "@jupyter-widgets/base",
      "model_module_version": "2.0.0",
      "model_name": "LayoutModel",
      "state": {
       "width": "70px"
      }
     },
     "12860390800943098acb3b042abd3325": {
      "model_module": "@jupyter-widgets/base",
      "model_module_version": "2.0.0",
      "model_name": "LayoutModel",
      "state": {
       "width": "145px"
      }
     },
     "131b1364575f4f0b96038128c0c123f4": {
      "model_module": "@jupyter-widgets/controls",
      "model_module_version": "2.0.0",
      "model_name": "HTMLModel",
      "state": {
       "layout": "IPY_MODEL_cfca6093ac8349fbb35506ba6088110e",
       "style": "IPY_MODEL_250dbc33eb4e4e9db4c84ef26e7b01df",
       "value": "cmde59nwcht0008yajwg"
      }
     },
     "13c932ae45b04629a431a6a95c8436c1": {
      "model_module": "@jupyter-widgets/base",
      "model_module_version": "2.0.0",
      "model_name": "LayoutModel",
      "state": {
       "width": "145px"
      }
     },
     "13cc5cd98cdc47fc86c972c9e0d1b25f": {
      "model_module": "@jupyter-widgets/controls",
      "model_module_version": "2.0.0",
      "model_name": "ButtonModel",
      "state": {
       "icon": "close",
       "layout": "IPY_MODEL_572fd45a6ffb4ecb806d81202efa9e8e",
       "style": "IPY_MODEL_5d71f58640134fa2b40394250ca0e462",
       "tooltip": null
      }
     },
     "145388144ec44361ac6a75020e74427c": {
      "model_module": "@jupyter-widgets/controls",
      "model_module_version": "2.0.0",
      "model_name": "ButtonModel",
      "state": {
       "icon": "close",
       "layout": "IPY_MODEL_6533406baaeb4d438dd614dbd48a60cd",
       "style": "IPY_MODEL_e0b129e853cb45efb7f927e5edea5bcc",
       "tooltip": null
      }
     },
     "148ebb53944b4bdc8a59427243d8c7e6": {
      "model_module": "@jupyter-widgets/controls",
      "model_module_version": "2.0.0",
      "model_name": "HTMLModel",
      "state": {
       "layout": "IPY_MODEL_b6e0ec1ed02f4b398d702e64383601ae",
       "style": "IPY_MODEL_aa84a7eacdef4faaa46e546a03fa2fe3",
       "value": "<font style='color:#34BC6E'>DONE</font>"
      }
     },
     "14d4b993a21246b5a137b1d9b8658dc2": {
      "model_module": "@jupyter-widgets/base",
      "model_module_version": "2.0.0",
      "model_name": "LayoutModel",
      "state": {
       "margin": "0px 5px 0px 0px",
       "width": "32px"
      }
     },
     "150fce6e10a14b719b04ca0d57739c6c": {
      "model_module": "@jupyter-widgets/base",
      "model_module_version": "2.0.0",
      "model_name": "LayoutModel",
      "state": {}
     },
     "15339081e15e4ac5b9777a83835c677d": {
      "model_module": "@jupyter-widgets/controls",
      "model_module_version": "2.0.0",
      "model_name": "ButtonModel",
      "state": {
       "icon": "close",
       "layout": "IPY_MODEL_224411ff978c4da482948627fcdf3612",
       "style": "IPY_MODEL_c4fa79cb28d34321a4691b82219fb025",
       "tooltip": null
      }
     },
     "155c5ea7a34a47f89d0a74c95819bb7e": {
      "model_module": "@jupyter-widgets/base",
      "model_module_version": "2.0.0",
      "model_name": "LayoutModel",
      "state": {}
     },
     "1574a5a4c2964bf5802423c8874dd6bc": {
      "model_module": "@jupyter-widgets/controls",
      "model_module_version": "2.0.0",
      "model_name": "HTMLStyleModel",
      "state": {
       "description_width": "",
       "font_size": null,
       "text_color": null
      }
     },
     "1588502e5d0a4cdbae604d05f113f510": {
      "model_module": "@jupyter-widgets/base",
      "model_module_version": "2.0.0",
      "model_name": "LayoutModel",
      "state": {
       "width": "95px"
      }
     },
     "158be080608a4871bb5e76dc1e5f53f3": {
      "model_module": "@jupyter-widgets/base",
      "model_module_version": "2.0.0",
      "model_name": "LayoutModel",
      "state": {
       "width": "70px"
      }
     },
     "15e2dcb9b618439f8481de3712a29c6f": {
      "model_module": "@jupyter-widgets/controls",
      "model_module_version": "2.0.0",
      "model_name": "HTMLStyleModel",
      "state": {
       "description_width": "",
       "font_size": null,
       "text_color": null
      }
     },
     "15fc72fa3f86459daecc49975eeb98c6": {
      "model_module": "@jupyter-widgets/controls",
      "model_module_version": "2.0.0",
      "model_name": "HTMLModel",
      "state": {
       "layout": "IPY_MODEL_b15326e1e783405aa100484fce2c3f77",
       "style": "IPY_MODEL_7695a78ad0b04df493d1b9b21dcf4724",
       "value": "ibm_nairobi"
      }
     },
     "15fe6eab2e4b41a78631e623bc16e848": {
      "model_module": "@jupyter-widgets/base",
      "model_module_version": "2.0.0",
      "model_name": "LayoutModel",
      "state": {
       "max_width": "700px",
       "min_width": "700px"
      }
     },
     "1642f019ab50486297d0e935c7a4511d": {
      "model_module": "@jupyter-widgets/controls",
      "model_module_version": "2.0.0",
      "model_name": "ButtonModel",
      "state": {
       "icon": "close",
       "layout": "IPY_MODEL_d1657c716e6443eaa95fccb953d7e8a9",
       "style": "IPY_MODEL_5658de9bc11143c9b3a4f12ff895f76f",
       "tooltip": null
      }
     },
     "16a36fd3250b4875a294e9792876570d": {
      "model_module": "@jupyter-widgets/controls",
      "model_module_version": "2.0.0",
      "model_name": "HTMLModel",
      "state": {
       "layout": "IPY_MODEL_5d770b1275504217a1458b378563c08d",
       "style": "IPY_MODEL_4cb1e386268e4cdd99e28f61e1beada0",
       "value": "job has successfully run"
      }
     },
     "16e538f951754594b10a0c3c26a1bf3a": {
      "model_module": "@jupyter-widgets/base",
      "model_module_version": "2.0.0",
      "model_name": "LayoutModel",
      "state": {
       "margin": "0px 5px 0px 0px",
       "width": "32px"
      }
     },
     "175c3d78472f4d1a94a3bc56e81f0776": {
      "model_module": "@jupyter-widgets/controls",
      "model_module_version": "2.0.0",
      "model_name": "HTMLStyleModel",
      "state": {
       "description_width": "",
       "font_size": null,
       "text_color": null
      }
     },
     "17976aa57096437eb2d328001feddb0a": {
      "model_module": "@jupyter-widgets/controls",
      "model_module_version": "2.0.0",
      "model_name": "HTMLStyleModel",
      "state": {
       "description_width": "",
       "font_size": null,
       "text_color": null
      }
     },
     "17accd8652d04e6da7b5248fb8c27f03": {
      "model_module": "@jupyter-widgets/base",
      "model_module_version": "2.0.0",
      "model_name": "LayoutModel",
      "state": {
       "width": "145px"
      }
     },
     "17b48e7097584987aeefd919b373d11c": {
      "model_module": "@jupyter-widgets/controls",
      "model_module_version": "2.0.0",
      "model_name": "HTMLStyleModel",
      "state": {
       "description_width": "",
       "font_size": null,
       "text_color": null
      }
     },
     "17b628335e024edab20f8e8b7ecf7c96": {
      "model_module": "@jupyter-widgets/base",
      "model_module_version": "2.0.0",
      "model_name": "LayoutModel",
      "state": {
       "width": "70px"
      }
     },
     "17d31755bfa44d77ac5d208ef03b532e": {
      "model_module": "@jupyter-widgets/controls",
      "model_module_version": "2.0.0",
      "model_name": "HTMLModel",
      "state": {
       "layout": "IPY_MODEL_bf085ef7d4924b4a924e9c36d6ddb0b1",
       "style": "IPY_MODEL_c07eec6452cb467dadd993634a34a46d",
       "value": "<font style='color:#34BC6E'>DONE</font>"
      }
     },
     "17f1a8b621424f33ad3a98914992baf3": {
      "model_module": "@jupyter-widgets/base",
      "model_module_version": "2.0.0",
      "model_name": "LayoutModel",
      "state": {
       "max_width": "700px",
       "min_width": "700px"
      }
     },
     "18086efaf70b4a98b3265b58801d03d4": {
      "model_module": "@jupyter-widgets/controls",
      "model_module_version": "2.0.0",
      "model_name": "ButtonModel",
      "state": {
       "icon": "close",
       "layout": "IPY_MODEL_14d4b993a21246b5a137b1d9b8658dc2",
       "style": "IPY_MODEL_8d73df230d2345fca29cffaea6a5fe8f",
       "tooltip": null
      }
     },
     "189392dc21234a9cbd596447ed822a45": {
      "model_module": "@jupyter-widgets/base",
      "model_module_version": "2.0.0",
      "model_name": "LayoutModel",
      "state": {
       "margin": "0px 5px 0px 0px",
       "width": "32px"
      }
     },
     "189a24988f1b45f3b98b22a28a26574c": {
      "model_module": "@jupyter-widgets/base",
      "model_module_version": "2.0.0",
      "model_name": "LayoutModel",
      "state": {
       "width": "70px"
      }
     },
     "18b5f746fed0453697e54604c0d16f72": {
      "model_module": "@jupyter-widgets/controls",
      "model_module_version": "2.0.0",
      "model_name": "HTMLStyleModel",
      "state": {
       "description_width": "",
       "font_size": null,
       "text_color": null
      }
     },
     "18c99ee45fd04f64ac8a293a8e7a1dc0": {
      "model_module": "@jupyter-widgets/controls",
      "model_module_version": "2.0.0",
      "model_name": "HTMLStyleModel",
      "state": {
       "description_width": "",
       "font_size": null,
       "text_color": null
      }
     },
     "19570c9514fa4e7ab8acd11658c333ce": {
      "model_module": "@jupyter-widgets/controls",
      "model_module_version": "2.0.0",
      "model_name": "HTMLStyleModel",
      "state": {
       "description_width": "",
       "font_size": null,
       "text_color": null
      }
     },
     "1962947211bc4091809ec92533324fb6": {
      "model_module": "@jupyter-widgets/base",
      "model_module_version": "2.0.0",
      "model_name": "LayoutModel",
      "state": {
       "margin": "0px 5px 0px 0px",
       "width": "32px"
      }
     },
     "19885143491446caad30c67badbc8f60": {
      "model_module": "@jupyter-widgets/base",
      "model_module_version": "2.0.0",
      "model_name": "LayoutModel",
      "state": {
       "max_width": "700px",
       "min_width": "700px"
      }
     },
     "19ea7158b3444f79aaaf125b0e777a0a": {
      "model_module": "@jupyter-widgets/controls",
      "model_module_version": "2.0.0",
      "model_name": "HTMLModel",
      "state": {
       "layout": "IPY_MODEL_e4e1bba55e7f44b181f68a6c071dc2ca",
       "style": "IPY_MODEL_9e7e3983a889423b9316c0846093fbdd",
       "value": "cmde2chzjkb0008m25fg"
      }
     },
     "19fbf43607d7472ebd626b9c9817ce3a": {
      "model_module": "@jupyter-widgets/base",
      "model_module_version": "2.0.0",
      "model_name": "LayoutModel",
      "state": {
       "width": "95px"
      }
     },
     "1a130b4ea18642e4bc34b9e01312eb09": {
      "model_module": "@jupyter-widgets/base",
      "model_module_version": "2.0.0",
      "model_name": "LayoutModel",
      "state": {
       "max_width": "700px",
       "min_width": "700px"
      }
     },
     "1a4f8826c3fe4ad79cae7bcde0c19b2c": {
      "model_module": "@jupyter-widgets/controls",
      "model_module_version": "2.0.0",
      "model_name": "ButtonModel",
      "state": {
       "icon": "close",
       "layout": "IPY_MODEL_94d2397d9ba942f8a07098352b6f2811",
       "style": "IPY_MODEL_b0da73ce5e934c5ba508e7a41fafb1e5",
       "tooltip": null
      }
     },
     "1aaf97f7b08b4522823eab02bd9d77b6": {
      "model_module": "@jupyter-widgets/controls",
      "model_module_version": "2.0.0",
      "model_name": "HTMLStyleModel",
      "state": {
       "description_width": "",
       "font_size": null,
       "text_color": null
      }
     },
     "1ae505b5242a4308bd5b67bc75b3db5e": {
      "model_module": "@jupyter-widgets/controls",
      "model_module_version": "2.0.0",
      "model_name": "ButtonModel",
      "state": {
       "icon": "close",
       "layout": "IPY_MODEL_702809d804584906badbd53bc14c16ea",
       "style": "IPY_MODEL_a93db76eb7074ee6b8560eaa997d9132",
       "tooltip": null
      }
     },
     "1b2c6b2bb35045e7b0e1da8773015645": {
      "model_module": "@jupyter-widgets/controls",
      "model_module_version": "2.0.0",
      "model_name": "HTMLStyleModel",
      "state": {
       "description_width": "",
       "font_size": null,
       "text_color": null
      }
     },
     "1bb501201c994b24b5a0b55f1de93ddf": {
      "model_module": "@jupyter-widgets/controls",
      "model_module_version": "2.0.0",
      "model_name": "HBoxModel",
      "state": {
       "children": [
        "IPY_MODEL_1fbeb00f01964b21a4c07e3490718297",
        "IPY_MODEL_382603ccbced439f995cb27bb896b3cf",
        "IPY_MODEL_47263956b0e743a5b9edd98dc41edb32",
        "IPY_MODEL_92e3b64d43ab45299b8db55a6c358153",
        "IPY_MODEL_c3f536b5fbc04e498c79ae9e4b9ea709",
        "IPY_MODEL_dd4ca4ffd97d4bbd9f3ee57d98dea6cf"
       ],
       "layout": "IPY_MODEL_7ebc9b1088d148f3acb19ea9b6dbce42"
      }
     },
     "1c04511357ef4220bc9d33fb389f549f": {
      "model_module": "@jupyter-widgets/controls",
      "model_module_version": "2.0.0",
      "model_name": "HTMLStyleModel",
      "state": {
       "description_width": "",
       "font_size": null,
       "text_color": null
      }
     },
     "1c29733529a04707814ba31b4d149c6d": {
      "model_module": "@jupyter-widgets/base",
      "model_module_version": "2.0.0",
      "model_name": "LayoutModel",
      "state": {
       "width": "95px"
      }
     },
     "1c353fd20485444caa7936f4675c57c1": {
      "model_module": "@jupyter-widgets/controls",
      "model_module_version": "2.0.0",
      "model_name": "HTMLStyleModel",
      "state": {
       "description_width": "",
       "font_size": null,
       "text_color": null
      }
     },
     "1c6967a83d3143d4aee00d8da06f1b8c": {
      "model_module": "@jupyter-widgets/base",
      "model_module_version": "2.0.0",
      "model_name": "LayoutModel",
      "state": {
       "width": "70px"
      }
     },
     "1c947fa8dcc649fe816426ebe778539e": {
      "model_module": "@jupyter-widgets/controls",
      "model_module_version": "2.0.0",
      "model_name": "HTMLModel",
      "state": {
       "layout": "IPY_MODEL_ea0025eed67b48de9185f22bf1575286",
       "style": "IPY_MODEL_25b3442e37934d8f9a77901452a5474c",
       "value": "ibm_nairobi"
      }
     },
     "1cf4ed5897a84f898fb0bfdd08a3d320": {
      "model_module": "@jupyter-widgets/base",
      "model_module_version": "2.0.0",
      "model_name": "LayoutModel",
      "state": {
       "width": "95px"
      }
     },
     "1d11efab9cc64abc8fb45487ec866eb6": {
      "model_module": "@jupyter-widgets/controls",
      "model_module_version": "2.0.0",
      "model_name": "HTMLModel",
      "state": {
       "layout": "IPY_MODEL_20b39122f44249d0bc9359be62f93952",
       "style": "IPY_MODEL_4f120dc3919048fbb639d6da2f6804ac",
       "value": "job has successfully run"
      }
     },
     "1d2cd66890bb4764b9f2c214c0bbe067": {
      "model_module": "@jupyter-widgets/controls",
      "model_module_version": "2.0.0",
      "model_name": "HTMLModel",
      "state": {
       "layout": "IPY_MODEL_e559503234744a72b8a01a010b162128",
       "style": "IPY_MODEL_a093b972be224d2499373b293292c0ef",
       "value": "ibm_nairobi"
      }
     },
     "1d803308fd2c4e3b945f0bbb8d0b041f": {
      "model_module": "@jupyter-widgets/controls",
      "model_module_version": "2.0.0",
      "model_name": "HTMLModel",
      "state": {
       "layout": "IPY_MODEL_ea540880ef984137a5f9d497a39e7fcf",
       "style": "IPY_MODEL_f21a1ee62cf044c98d5259697d9e6fe5",
       "value": "cmde1644z12g008ncbqg"
      }
     },
     "1dd82a58c34a463496379806d7aabb71": {
      "model_module": "@jupyter-widgets/base",
      "model_module_version": "2.0.0",
      "model_name": "LayoutModel",
      "state": {}
     },
     "1e085087f4164dab89ffd5bba9415b1d": {
      "model_module": "@jupyter-widgets/controls",
      "model_module_version": "2.0.0",
      "model_name": "ButtonModel",
      "state": {
       "icon": "close",
       "layout": "IPY_MODEL_5204e483a97f44f89a43ef9505801103",
       "style": "IPY_MODEL_e770620950fe44819557c5305c57597f",
       "tooltip": null
      }
     },
     "1e62ec5feea84e6b9e88ab2c92c25321": {
      "model_module": "@jupyter-widgets/controls",
      "model_module_version": "2.0.0",
      "model_name": "ButtonModel",
      "state": {
       "icon": "close",
       "layout": "IPY_MODEL_4b29c8022288435fa7b235476f598998",
       "style": "IPY_MODEL_100a1f252ff4493383ccda7295c72731",
       "tooltip": null
      }
     },
     "1eb194bfc0a443628a0d2c34c3b1083c": {
      "model_module": "@jupyter-widgets/controls",
      "model_module_version": "2.0.0",
      "model_name": "HTMLStyleModel",
      "state": {
       "description_width": "",
       "font_size": null,
       "text_color": null
      }
     },
     "1efc45f9f6f049e4aa9250a64b791ddc": {
      "model_module": "@jupyter-widgets/base",
      "model_module_version": "2.0.0",
      "model_name": "LayoutModel",
      "state": {
       "width": "145px"
      }
     },
     "1f1580c97e404b559d2c299720343418": {
      "model_module": "@jupyter-widgets/base",
      "model_module_version": "2.0.0",
      "model_name": "LayoutModel",
      "state": {
       "max_width": "700px",
       "min_width": "700px"
      }
     },
     "1f7af7b88cba4b71b43790e19a15e614": {
      "model_module": "@jupyter-widgets/base",
      "model_module_version": "2.0.0",
      "model_name": "LayoutModel",
      "state": {
       "width": "70px"
      }
     },
     "1fa5b1acfecf4bd9a593420f2595129a": {
      "model_module": "@jupyter-widgets/base",
      "model_module_version": "2.0.0",
      "model_name": "LayoutModel",
      "state": {
       "width": "70px"
      }
     },
     "1fbeb00f01964b21a4c07e3490718297": {
      "model_module": "@jupyter-widgets/controls",
      "model_module_version": "2.0.0",
      "model_name": "ButtonModel",
      "state": {
       "icon": "close",
       "layout": "IPY_MODEL_51cdbcf5c36541dcb4a429180421ee37",
       "style": "IPY_MODEL_7dee2c6cdda344d8a03535cef33d7d57",
       "tooltip": null
      }
     },
     "1fc25ff25d6c4861a964c96628b22699": {
      "model_module": "@jupyter-widgets/base",
      "model_module_version": "2.0.0",
      "model_name": "LayoutModel",
      "state": {
       "width": "95px"
      }
     },
     "1fcf1c07da01428d93d6d77d1782cb4e": {
      "model_module": "@jupyter-widgets/controls",
      "model_module_version": "2.0.0",
      "model_name": "ButtonStyleModel",
      "state": {
       "button_color": "white",
       "font_family": null,
       "font_size": null,
       "font_style": null,
       "font_variant": null,
       "font_weight": null,
       "text_color": null,
       "text_decoration": null
      }
     },
     "1fe313d78f8449adb50750bf21f0cb73": {
      "model_module": "@jupyter-widgets/base",
      "model_module_version": "2.0.0",
      "model_name": "LayoutModel",
      "state": {
       "width": "70px"
      }
     },
     "1fe5807e79184c58beede8c2b1ce7051": {
      "model_module": "@jupyter-widgets/base",
      "model_module_version": "2.0.0",
      "model_name": "LayoutModel",
      "state": {
       "width": "95px"
      }
     },
     "200f73505403450299b2bee7bf2595a7": {
      "model_module": "@jupyter-widgets/controls",
      "model_module_version": "2.0.0",
      "model_name": "HTMLStyleModel",
      "state": {
       "description_width": "",
       "font_size": null,
       "text_color": null
      }
     },
     "201fed0053744c8cb22ecc2df513dda5": {
      "model_module": "@jupyter-widgets/base",
      "model_module_version": "2.0.0",
      "model_name": "LayoutModel",
      "state": {}
     },
     "202aa3e7d2244cddba95b3fc3266e8e6": {
      "model_module": "@jupyter-widgets/base",
      "model_module_version": "2.0.0",
      "model_name": "LayoutModel",
      "state": {
       "width": "145px"
      }
     },
     "204215cdc98c4d0d9920e7372a4d1fea": {
      "model_module": "@jupyter-widgets/controls",
      "model_module_version": "2.0.0",
      "model_name": "HBoxModel",
      "state": {
       "children": [
        "IPY_MODEL_323937e4db134d8bb9926cbc649ee668",
        "IPY_MODEL_9a2b7cd839264ea4bc58a38d4442cce6",
        "IPY_MODEL_8b09fe60f3124a66b749dfc45bb28a50",
        "IPY_MODEL_e829db18aaca4b62b257083ab0854b4e",
        "IPY_MODEL_23bd38f19c424f5c81d6f4b00f1a5470",
        "IPY_MODEL_5a0da25b9a1943a08cf9bcb8f5be3c21"
       ],
       "layout": "IPY_MODEL_cc5600e1e4ae48069d943032803f349f"
      }
     },
     "206d502d0f2a4fa39d3273adae04a4b1": {
      "model_module": "@jupyter-widgets/controls",
      "model_module_version": "2.0.0",
      "model_name": "HTMLStyleModel",
      "state": {
       "description_width": "",
       "font_size": null,
       "text_color": null
      }
     },
     "20b39122f44249d0bc9359be62f93952": {
      "model_module": "@jupyter-widgets/base",
      "model_module_version": "2.0.0",
      "model_name": "LayoutModel",
      "state": {}
     },
     "20bb8a5e32f34f9899656825f7880031": {
      "model_module": "@jupyter-widgets/controls",
      "model_module_version": "2.0.0",
      "model_name": "HTMLStyleModel",
      "state": {
       "description_width": "",
       "font_size": null,
       "text_color": null
      }
     },
     "20cdc6ec8edd40deb37c25b7d7f970d6": {
      "model_module": "@jupyter-widgets/base",
      "model_module_version": "2.0.0",
      "model_name": "LayoutModel",
      "state": {
       "max_width": "700px",
       "min_width": "700px"
      }
     },
     "21153cdc76f94589b93a112e4f724b6e": {
      "model_module": "@jupyter-widgets/base",
      "model_module_version": "2.0.0",
      "model_name": "LayoutModel",
      "state": {
       "max_width": "700px",
       "min_width": "700px"
      }
     },
     "215b1e36d4a5495baf7e3d11781568ca": {
      "model_module": "@jupyter-widgets/base",
      "model_module_version": "2.0.0",
      "model_name": "LayoutModel",
      "state": {}
     },
     "21ec62b16e714711996d59757b626210": {
      "model_module": "@jupyter-widgets/base",
      "model_module_version": "2.0.0",
      "model_name": "LayoutModel",
      "state": {
       "width": "95px"
      }
     },
     "221469e7c8ea4fa19d973a6ed663d7d0": {
      "model_module": "@jupyter-widgets/base",
      "model_module_version": "2.0.0",
      "model_name": "LayoutModel",
      "state": {
       "width": "70px"
      }
     },
     "224411ff978c4da482948627fcdf3612": {
      "model_module": "@jupyter-widgets/base",
      "model_module_version": "2.0.0",
      "model_name": "LayoutModel",
      "state": {
       "margin": "0px 5px 0px 0px",
       "width": "32px"
      }
     },
     "224bbb32ff3442beb7d4a42c8715709c": {
      "model_module": "@jupyter-widgets/controls",
      "model_module_version": "2.0.0",
      "model_name": "HTMLModel",
      "state": {
       "layout": "IPY_MODEL_a5656ec8651a423d9005309d86916e6c",
       "style": "IPY_MODEL_262b4cba7e7142dd9cdb07f1fc95fe96",
       "value": "ibm_nairobi"
      }
     },
     "2263bf952e8e483299fcfc0f59239209": {
      "model_module": "@jupyter-widgets/base",
      "model_module_version": "2.0.0",
      "model_name": "LayoutModel",
      "state": {
       "width": "190px"
      }
     },
     "226d2d4e775b4d1ab074c1c7f1283eaa": {
      "model_module": "@jupyter-widgets/controls",
      "model_module_version": "2.0.0",
      "model_name": "HTMLStyleModel",
      "state": {
       "description_width": "",
       "font_size": null,
       "text_color": null
      }
     },
     "229477062f2b41c88855355e7cf85e5a": {
      "model_module": "@jupyter-widgets/controls",
      "model_module_version": "2.0.0",
      "model_name": "HTMLModel",
      "state": {
       "layout": "IPY_MODEL_b77c1e5175704b9dbf150e010bbad206",
       "style": "IPY_MODEL_671f35ef1aee4c81a2cb1b5677f8512b",
       "value": "cmde09hzjkb0008m254g"
      }
     },
     "22a28e980b334e8785982d47091a6eb5": {
      "model_module": "@jupyter-widgets/base",
      "model_module_version": "2.0.0",
      "model_name": "LayoutModel",
      "state": {
       "width": "190px"
      }
     },
     "22b58309843b44d4a1e24f36ac65dc21": {
      "model_module": "@jupyter-widgets/controls",
      "model_module_version": "2.0.0",
      "model_name": "HTMLModel",
      "state": {
       "layout": "IPY_MODEL_f657cd7b5ddf44e69fa3d4e5d1eecfb1",
       "style": "IPY_MODEL_3990d6b7c8e446369d10ed37743c4736",
       "value": "cmde5fdzjkb0008m25s0"
      }
     },
     "232ad88f4fb44987936ece5a7d62f6e8": {
      "model_module": "@jupyter-widgets/controls",
      "model_module_version": "2.0.0",
      "model_name": "HTMLModel",
      "state": {
       "layout": "IPY_MODEL_e6aeb4d6f56542868643f5182a007126",
       "style": "IPY_MODEL_9f5b570d9f324e50b988b1d569fcc7e0",
       "value": "<font style='color:#34BC6E'>DONE</font>"
      }
     },
     "2350a95ba0724ce0b871d45a172d7afb": {
      "model_module": "@jupyter-widgets/controls",
      "model_module_version": "2.0.0",
      "model_name": "HTMLModel",
      "state": {
       "layout": "IPY_MODEL_f579c3c762014ddca0e1f9765b40dbdd",
       "style": "IPY_MODEL_e1202034490b4385b7b6922c35115aa5",
       "value": "ibm_nairobi"
      }
     },
     "239e99169bbb41d6b06227f241f2080e": {
      "model_module": "@jupyter-widgets/controls",
      "model_module_version": "2.0.0",
      "model_name": "HTMLStyleModel",
      "state": {
       "description_width": "",
       "font_size": null,
       "text_color": null
      }
     },
     "23b999eece0544bba358a54464b665a6": {
      "model_module": "@jupyter-widgets/controls",
      "model_module_version": "2.0.0",
      "model_name": "HTMLStyleModel",
      "state": {
       "description_width": "",
       "font_size": null,
       "text_color": null
      }
     },
     "23bd38f19c424f5c81d6f4b00f1a5470": {
      "model_module": "@jupyter-widgets/controls",
      "model_module_version": "2.0.0",
      "model_name": "HTMLModel",
      "state": {
       "layout": "IPY_MODEL_8bb9be9a9461444a90903bfd9b356ec2",
       "style": "IPY_MODEL_02d96670b6de478db934f98cad7b54d7",
       "value": "-"
      }
     },
     "23c57d9382e24e2588ac1f27bf8f4f5a": {
      "model_module": "@jupyter-widgets/base",
      "model_module_version": "2.0.0",
      "model_name": "LayoutModel",
      "state": {
       "margin": "0px 5px 0px 0px",
       "width": "32px"
      }
     },
     "23d1759fa025462081f3604ac3845b36": {
      "model_module": "@jupyter-widgets/base",
      "model_module_version": "2.0.0",
      "model_name": "LayoutModel",
      "state": {
       "margin": "0px 5px 0px 0px",
       "width": "32px"
      }
     },
     "23d3beea76f04f4c83dbd1e3c9ae2855": {
      "model_module": "@jupyter-widgets/controls",
      "model_module_version": "2.0.0",
      "model_name": "HTMLStyleModel",
      "state": {
       "description_width": "",
       "font_size": null,
       "text_color": null
      }
     },
     "244a41a1bc00495294672ea1b2fe55cd": {
      "model_module": "@jupyter-widgets/controls",
      "model_module_version": "2.0.0",
      "model_name": "HTMLStyleModel",
      "state": {
       "description_width": "",
       "font_size": null,
       "text_color": null
      }
     },
     "24575ef08d5b41e88801b70468cbd046": {
      "model_module": "@jupyter-widgets/base",
      "model_module_version": "2.0.0",
      "model_name": "LayoutModel",
      "state": {
       "max_width": "700px",
       "min_width": "700px"
      }
     },
     "245b533bd53c463ab8351679c53bee2d": {
      "model_module": "@jupyter-widgets/base",
      "model_module_version": "2.0.0",
      "model_name": "LayoutModel",
      "state": {
       "margin": "0px 5px 0px 0px",
       "width": "32px"
      }
     },
     "247a0f5a31874e14a18de75df980cc43": {
      "model_module": "@jupyter-widgets/controls",
      "model_module_version": "2.0.0",
      "model_name": "HTMLModel",
      "state": {
       "layout": "IPY_MODEL_3b4df442b19f465d8d394a981e7e9e0e",
       "style": "IPY_MODEL_dbdb142b5cd747d2970e10c1837fb276",
       "value": "ibm_nairobi"
      }
     },
     "248349501f3f49a68a13e19bf4257441": {
      "model_module": "@jupyter-widgets/base",
      "model_module_version": "2.0.0",
      "model_name": "LayoutModel",
      "state": {
       "max_width": "700px",
       "min_width": "700px"
      }
     },
     "24af0193e2fd47259d65bc847be65a60": {
      "model_module": "@jupyter-widgets/base",
      "model_module_version": "2.0.0",
      "model_name": "LayoutModel",
      "state": {
       "width": "190px"
      }
     },
     "24c48d68623348f0a47122e1e7ac96ec": {
      "model_module": "@jupyter-widgets/controls",
      "model_module_version": "2.0.0",
      "model_name": "HTMLModel",
      "state": {
       "layout": "IPY_MODEL_96bc53eb5235416883a6807a186ef198",
       "style": "IPY_MODEL_69f165a7883f4e5181e73ddf02e2339c",
       "value": "-"
      }
     },
     "24da83864f854c43900cd2a6b0ad28a1": {
      "model_module": "@jupyter-widgets/controls",
      "model_module_version": "2.0.0",
      "model_name": "HTMLStyleModel",
      "state": {
       "description_width": "",
       "font_size": null,
       "text_color": null
      }
     },
     "24de8bd7498a488085529c565ecef029": {
      "model_module": "@jupyter-widgets/controls",
      "model_module_version": "2.0.0",
      "model_name": "HTMLModel",
      "state": {
       "layout": "IPY_MODEL_0e7422b0895241f2af9452230644520c",
       "style": "IPY_MODEL_c203a355aea24c819ab8d40293ec6181",
       "value": "<font style='color:#34BC6E'>DONE</font>"
      }
     },
     "250dbc33eb4e4e9db4c84ef26e7b01df": {
      "model_module": "@jupyter-widgets/controls",
      "model_module_version": "2.0.0",
      "model_name": "HTMLStyleModel",
      "state": {
       "description_width": "",
       "font_size": null,
       "text_color": null
      }
     },
     "25139c216aec4a00893810ea002d74c6": {
      "model_module": "@jupyter-widgets/controls",
      "model_module_version": "2.0.0",
      "model_name": "HBoxModel",
      "state": {
       "children": [
        "IPY_MODEL_3d83a7b724174f2e85487005c0068b5c",
        "IPY_MODEL_ce10b84e89014c40820b446014945fad",
        "IPY_MODEL_277404a8f5ed4ee195878c3c426efb89",
        "IPY_MODEL_c8f6d4baa99949ba8a3f21d549407db0",
        "IPY_MODEL_5bb2c242d98b4aaaa03448175b9aa325",
        "IPY_MODEL_f2216e24fd8e4c94b0d737113edc860d"
       ],
       "layout": "IPY_MODEL_aecd19ce2fb04233b5ac9d949e3a4c0c"
      }
     },
     "257e2a68b04944618504f0e7b7ff513c": {
      "model_module": "@jupyter-widgets/base",
      "model_module_version": "2.0.0",
      "model_name": "LayoutModel",
      "state": {
       "width": "70px"
      }
     },
     "25b3442e37934d8f9a77901452a5474c": {
      "model_module": "@jupyter-widgets/controls",
      "model_module_version": "2.0.0",
      "model_name": "HTMLStyleModel",
      "state": {
       "description_width": "",
       "font_size": null,
       "text_color": null
      }
     },
     "25e8b59c20814cd48c746e20201a1dae": {
      "model_module": "@jupyter-widgets/controls",
      "model_module_version": "2.0.0",
      "model_name": "HTMLModel",
      "state": {
       "layout": "IPY_MODEL_97bf1422b8ad4554839477ca03f2cd16",
       "style": "IPY_MODEL_0ab16fce5919424081d96b1d65f76139",
       "value": "job has successfully run"
      }
     },
     "25e93a85dbab4e96813314d056c23a47": {
      "model_module": "@jupyter-widgets/controls",
      "model_module_version": "2.0.0",
      "model_name": "HTMLStyleModel",
      "state": {
       "description_width": "",
       "font_size": null,
       "text_color": null
      }
     },
     "26163eb2f82444658c55ea3fb9e02e28": {
      "model_module": "@jupyter-widgets/base",
      "model_module_version": "2.0.0",
      "model_name": "LayoutModel",
      "state": {
       "width": "145px"
      }
     },
     "262b4cba7e7142dd9cdb07f1fc95fe96": {
      "model_module": "@jupyter-widgets/controls",
      "model_module_version": "2.0.0",
      "model_name": "HTMLStyleModel",
      "state": {
       "description_width": "",
       "font_size": null,
       "text_color": null
      }
     },
     "267c2ede5f774c13a8f2fa4fb9d8041b": {
      "model_module": "@jupyter-widgets/controls",
      "model_module_version": "2.0.0",
      "model_name": "HTMLModel",
      "state": {
       "layout": "IPY_MODEL_e0ca8a50838945f7813d0d54fab37134",
       "style": "IPY_MODEL_ee49210c89ce43e6a207062e0cc1920b",
       "value": "ibm_nairobi"
      }
     },
     "2695131f91cb41ddb0b3f140ddae59dd": {
      "model_module": "@jupyter-widgets/controls",
      "model_module_version": "2.0.0",
      "model_name": "HTMLModel",
      "state": {
       "layout": "IPY_MODEL_9ede43a484ca4120888f74b1396a1b0e",
       "style": "IPY_MODEL_1aaf97f7b08b4522823eab02bd9d77b6",
       "value": "<font style='color:#34BC6E'>DONE</font>"
      }
     },
     "269a675d0a1d4878871b4484f28d9b12": {
      "model_module": "@jupyter-widgets/controls",
      "model_module_version": "2.0.0",
      "model_name": "HBoxModel",
      "state": {
       "children": [
        "IPY_MODEL_15339081e15e4ac5b9777a83835c677d",
        "IPY_MODEL_e1f86e5d5c164eb0a598ec3205dd2f3c",
        "IPY_MODEL_267c2ede5f774c13a8f2fa4fb9d8041b",
        "IPY_MODEL_e18e128d06494677b695cebb67d62877",
        "IPY_MODEL_3886d5933c9b4237b7fd2f4ca17cb089",
        "IPY_MODEL_08c6fc8778714fca80f5d24ba072af45"
       ],
       "layout": "IPY_MODEL_a52fe8bcd1fb4f5fa176c8526164196e"
      }
     },
     "26b50ea744e9407b82bc806fc1ce9ee9": {
      "model_module": "@jupyter-widgets/base",
      "model_module_version": "2.0.0",
      "model_name": "LayoutModel",
      "state": {
       "max_width": "700px",
       "min_width": "700px"
      }
     },
     "26d199d9861d4c8bb82ec70df771b832": {
      "model_module": "@jupyter-widgets/controls",
      "model_module_version": "2.0.0",
      "model_name": "HTMLModel",
      "state": {
       "layout": "IPY_MODEL_e3dd9edcbf68418d87e6d4122e17b96c",
       "style": "IPY_MODEL_722ce582e73c478881e7d78d39c1f271",
       "value": "job has successfully run"
      }
     },
     "26eb952323544a2db77f624a9b3b43c3": {
      "model_module": "@jupyter-widgets/controls",
      "model_module_version": "2.0.0",
      "model_name": "ButtonModel",
      "state": {
       "icon": "close",
       "layout": "IPY_MODEL_23c57d9382e24e2588ac1f27bf8f4f5a",
       "style": "IPY_MODEL_8c6c0c48df1c4c1eb341f2dccc13ebf3",
       "tooltip": null
      }
     },
     "26fe34667db54c6ab6171578f3ab3843": {
      "model_module": "@jupyter-widgets/controls",
      "model_module_version": "2.0.0",
      "model_name": "HTMLModel",
      "state": {
       "layout": "IPY_MODEL_9a04e2f0fd5f4231a878c28b422fdcc7",
       "style": "IPY_MODEL_b476bdf452ab44dcb590c38089d88ad8",
       "value": "-"
      }
     },
     "270ad0b1015b4df3bde8d1391280265e": {
      "model_module": "@jupyter-widgets/base",
      "model_module_version": "2.0.0",
      "model_name": "LayoutModel",
      "state": {
       "width": "190px"
      }
     },
     "27477ab7faf04128aa40f9a1046ca691": {
      "model_module": "@jupyter-widgets/base",
      "model_module_version": "2.0.0",
      "model_name": "LayoutModel",
      "state": {
       "margin": "0px 5px 0px 0px",
       "width": "32px"
      }
     },
     "277404a8f5ed4ee195878c3c426efb89": {
      "model_module": "@jupyter-widgets/controls",
      "model_module_version": "2.0.0",
      "model_name": "HTMLModel",
      "state": {
       "layout": "IPY_MODEL_f79a9299235f4a2187f2942425c2ef42",
       "style": "IPY_MODEL_f77b3dda32a940bd9bc92a8a9660d956",
       "value": "ibm_nairobi"
      }
     },
     "28f04152b2a24f729c2ae4b94d6cf5c1": {
      "model_module": "@jupyter-widgets/controls",
      "model_module_version": "2.0.0",
      "model_name": "HTMLStyleModel",
      "state": {
       "description_width": "",
       "font_size": null,
       "text_color": null
      }
     },
     "2919bc7474cb4d73a24e54dda2826bf0": {
      "model_module": "@jupyter-widgets/controls",
      "model_module_version": "2.0.0",
      "model_name": "HTMLModel",
      "state": {
       "layout": "IPY_MODEL_6aac0174d8eb48d9b282d2428b01f428",
       "style": "IPY_MODEL_c7c4f32913fb4c4c94ed9fa7ac66f276",
       "value": "-"
      }
     },
     "295b780676c8470f9a43e62d8c74a2af": {
      "model_module": "@jupyter-widgets/base",
      "model_module_version": "2.0.0",
      "model_name": "LayoutModel",
      "state": {
       "width": "145px"
      }
     },
     "2968acc7793c46779978c2fd62d7c72c": {
      "model_module": "@jupyter-widgets/base",
      "model_module_version": "2.0.0",
      "model_name": "LayoutModel",
      "state": {
       "max_width": "700px",
       "min_width": "700px"
      }
     },
     "29cb04d8114749619c84b4ce0dad8391": {
      "model_module": "@jupyter-widgets/base",
      "model_module_version": "2.0.0",
      "model_name": "LayoutModel",
      "state": {
       "width": "145px"
      }
     },
     "29cdce8530b94d3f8d9534427ef378b0": {
      "model_module": "@jupyter-widgets/base",
      "model_module_version": "2.0.0",
      "model_name": "LayoutModel",
      "state": {
       "width": "190px"
      }
     },
     "29dea2b2e40047bf859e6d3d8eb29f3c": {
      "model_module": "@jupyter-widgets/controls",
      "model_module_version": "2.0.0",
      "model_name": "HTMLModel",
      "state": {
       "layout": "IPY_MODEL_201fed0053744c8cb22ecc2df513dda5",
       "style": "IPY_MODEL_6a1aba7c51ab4bacac0b3da674c085e1",
       "value": "job has successfully run"
      }
     },
     "29fafb26f1f1415db18a80af13911b6f": {
      "model_module": "@jupyter-widgets/base",
      "model_module_version": "2.0.0",
      "model_name": "LayoutModel",
      "state": {}
     },
     "2b35da9d976740a0980877919441be78": {
      "model_module": "@jupyter-widgets/controls",
      "model_module_version": "2.0.0",
      "model_name": "HTMLStyleModel",
      "state": {
       "description_width": "",
       "font_size": null,
       "text_color": null
      }
     },
     "2ba6ad49538e4443bffbb40a2ed4bdcf": {
      "model_module": "@jupyter-widgets/controls",
      "model_module_version": "2.0.0",
      "model_name": "ButtonStyleModel",
      "state": {
       "button_color": "white",
       "font_family": null,
       "font_size": null,
       "font_style": null,
       "font_variant": null,
       "font_weight": null,
       "text_color": null,
       "text_decoration": null
      }
     },
     "2c0e1bf6a3d04acba18df801f335b41d": {
      "model_module": "@jupyter-widgets/base",
      "model_module_version": "2.0.0",
      "model_name": "LayoutModel",
      "state": {
       "width": "190px"
      }
     },
     "2c2685043b41402d86aad224b58b4f4d": {
      "model_module": "@jupyter-widgets/controls",
      "model_module_version": "2.0.0",
      "model_name": "HTMLModel",
      "state": {
       "layout": "IPY_MODEL_22a28e980b334e8785982d47091a6eb5",
       "style": "IPY_MODEL_0a5d0b21310e465d86d4646ed9029add",
       "value": "cmde02rwcht0008yajcg"
      }
     },
     "2c32b016167c467084f9269ac97a823e": {
      "model_module": "@jupyter-widgets/controls",
      "model_module_version": "2.0.0",
      "model_name": "HBoxModel",
      "state": {
       "children": [
        "IPY_MODEL_77d81617fa1f48b28769b6842c421abe",
        "IPY_MODEL_c1dbe715b3004767b896ac9e27a94d38",
        "IPY_MODEL_0e5e65de13f1417292afbc7da8d702bb",
        "IPY_MODEL_9d28f41966094ac6af399c368dd77721",
        "IPY_MODEL_a746b28540a84da29a5ce4645d4c1359",
        "IPY_MODEL_a622c8c46baa47aebfc7d0194c9226d4"
       ],
       "layout": "IPY_MODEL_8bec1ad30d904a0cb887675fd6ed068c"
      }
     },
     "2c5f175cbcff4684a46c8cc08b0a1269": {
      "model_module": "@jupyter-widgets/controls",
      "model_module_version": "2.0.0",
      "model_name": "HTMLStyleModel",
      "state": {
       "description_width": "",
       "font_size": null,
       "text_color": null
      }
     },
     "2c64d091b71346e6b51fa3aba659b556": {
      "model_module": "@jupyter-widgets/base",
      "model_module_version": "2.0.0",
      "model_name": "LayoutModel",
      "state": {
       "width": "190px"
      }
     },
     "2ca3195997f649e1854006c860f24a6a": {
      "model_module": "@jupyter-widgets/controls",
      "model_module_version": "2.0.0",
      "model_name": "HTMLModel",
      "state": {
       "layout": "IPY_MODEL_5a4813992964463ea57ccac2c02f1cab",
       "style": "IPY_MODEL_3ba914b869704c49a24e46a411408b49",
       "value": "job has successfully run"
      }
     },
     "2cb0eb6ceab74ea881e440e249905ed7": {
      "model_module": "@jupyter-widgets/base",
      "model_module_version": "2.0.0",
      "model_name": "LayoutModel",
      "state": {
       "width": "95px"
      }
     },
     "2cf0b56571bd4fb684a474047d389823": {
      "model_module": "@jupyter-widgets/base",
      "model_module_version": "2.0.0",
      "model_name": "LayoutModel",
      "state": {
       "margin": "0px 5px 0px 0px",
       "width": "32px"
      }
     },
     "2e9eaf0b0b5447d398e71be272ac01fd": {
      "model_module": "@jupyter-widgets/controls",
      "model_module_version": "2.0.0",
      "model_name": "HTMLModel",
      "state": {
       "layout": "IPY_MODEL_4491db0a059f430a82b4c7ccb382b49d",
       "style": "IPY_MODEL_64096b8db2474f43b15b23fdafe70fa3",
       "value": "job has successfully run"
      }
     },
     "2ed3e54e1ff74b0880f0f975a4719708": {
      "model_module": "@jupyter-widgets/controls",
      "model_module_version": "2.0.0",
      "model_name": "HTMLStyleModel",
      "state": {
       "description_width": "",
       "font_size": null,
       "text_color": null
      }
     },
     "2f06933e311f406b9be2f7c0395abccb": {
      "model_module": "@jupyter-widgets/controls",
      "model_module_version": "2.0.0",
      "model_name": "ButtonModel",
      "state": {
       "icon": "close",
       "layout": "IPY_MODEL_16e538f951754594b10a0c3c26a1bf3a",
       "style": "IPY_MODEL_0366557e44144af783f09e8f44dbd8e6",
       "tooltip": null
      }
     },
     "2f5c9eacd1fb413b9c10a31dafcef8fa": {
      "model_module": "@jupyter-widgets/controls",
      "model_module_version": "2.0.0",
      "model_name": "ButtonStyleModel",
      "state": {
       "button_color": "white",
       "font_family": null,
       "font_size": null,
       "font_style": null,
       "font_variant": null,
       "font_weight": null,
       "text_color": null,
       "text_decoration": null
      }
     },
     "2faaba4639b8482eb058174cd5b4e7fa": {
      "model_module": "@jupyter-widgets/base",
      "model_module_version": "2.0.0",
      "model_name": "LayoutModel",
      "state": {
       "max_width": "700px",
       "min_width": "700px"
      }
     },
     "2fb6647f9f36493faaa893fc3ac36158": {
      "model_module": "@jupyter-widgets/base",
      "model_module_version": "2.0.0",
      "model_name": "LayoutModel",
      "state": {
       "width": "145px"
      }
     },
     "2fc6af3463cd421e96237a4aa6afb5b0": {
      "model_module": "@jupyter-widgets/base",
      "model_module_version": "2.0.0",
      "model_name": "LayoutModel",
      "state": {
       "grid_area": "right",
       "padding": "0px 0px 0px 0px",
       "width": "70px"
      }
     },
     "2fd14c087cb841149932a31d74452f42": {
      "model_module": "@jupyter-widgets/base",
      "model_module_version": "2.0.0",
      "model_name": "LayoutModel",
      "state": {
       "margin": "0px 5px 0px 0px",
       "width": "32px"
      }
     },
     "3017bd9fffb540f79d5a5e97fd449213": {
      "model_module": "@jupyter-widgets/base",
      "model_module_version": "2.0.0",
      "model_name": "LayoutModel",
      "state": {
       "width": "190px"
      }
     },
     "303364b1beb14551bafef50ee6dc904d": {
      "model_module": "@jupyter-widgets/controls",
      "model_module_version": "2.0.0",
      "model_name": "HTMLModel",
      "state": {
       "layout": "IPY_MODEL_155c5ea7a34a47f89d0a74c95819bb7e",
       "style": "IPY_MODEL_b826e0bac0ce4a51a1fe021147293760",
       "value": "job has successfully run"
      }
     },
     "30632cac8013419dbf917ee1182cc143": {
      "model_module": "@jupyter-widgets/base",
      "model_module_version": "2.0.0",
      "model_name": "LayoutModel",
      "state": {
       "width": "95px"
      }
     },
     "3089e73b56444a12814d70b51b2ad4d7": {
      "model_module": "@jupyter-widgets/base",
      "model_module_version": "2.0.0",
      "model_name": "LayoutModel",
      "state": {
       "width": "95px"
      }
     },
     "30a8d9645e544b5fa08fbfc00225a243": {
      "model_module": "@jupyter-widgets/base",
      "model_module_version": "2.0.0",
      "model_name": "LayoutModel",
      "state": {
       "width": "145px"
      }
     },
     "30d2bc3c7f6a4d66b38db0ff0ca2c5bb": {
      "model_module": "@jupyter-widgets/controls",
      "model_module_version": "2.0.0",
      "model_name": "HTMLStyleModel",
      "state": {
       "description_width": "",
       "font_size": null,
       "text_color": null
      }
     },
     "316778a2e30e4c68ac2ba0b24c0acdf3": {
      "model_module": "@jupyter-widgets/controls",
      "model_module_version": "2.0.0",
      "model_name": "HTMLModel",
      "state": {
       "layout": "IPY_MODEL_6b68b88c294143379b7611f452d08518",
       "style": "IPY_MODEL_a7d078f70a8d4501b8d5c32781e998f4",
       "value": "<font style='color:#34BC6E'>DONE</font>"
      }
     },
     "31a0861312894adbb4925ebf67d38df9": {
      "model_module": "@jupyter-widgets/controls",
      "model_module_version": "2.0.0",
      "model_name": "HBoxModel",
      "state": {
       "children": [
        "IPY_MODEL_df44caf514e6407b96ba1b02cca50411",
        "IPY_MODEL_8f216ff060d640d28225c8d0d16ad91f",
        "IPY_MODEL_4454fef3079346e88520b6491f86b563",
        "IPY_MODEL_4085c2ffefc34648b72153a0641107ae",
        "IPY_MODEL_cee8cc98e8f3457c96389a6bca0ad2df",
        "IPY_MODEL_6f9ef183eb2e463792f653a7c050297a"
       ],
       "layout": "IPY_MODEL_248349501f3f49a68a13e19bf4257441"
      }
     },
     "31ac0fa644e3497298b29d5ab8cb046c": {
      "model_module": "@jupyter-widgets/controls",
      "model_module_version": "2.0.0",
      "model_name": "ButtonStyleModel",
      "state": {
       "button_color": "white",
       "font_family": null,
       "font_size": null,
       "font_style": null,
       "font_variant": null,
       "font_weight": null,
       "text_color": null,
       "text_decoration": null
      }
     },
     "32127289723c467f80b15e32a911e5bf": {
      "model_module": "@jupyter-widgets/base",
      "model_module_version": "2.0.0",
      "model_name": "LayoutModel",
      "state": {}
     },
     "323937e4db134d8bb9926cbc649ee668": {
      "model_module": "@jupyter-widgets/controls",
      "model_module_version": "2.0.0",
      "model_name": "ButtonModel",
      "state": {
       "icon": "close",
       "layout": "IPY_MODEL_3b42cccb679e4c1b8a867f40ef712d57",
       "style": "IPY_MODEL_de0cd64a8d3a4f419e72f60a4c3301bd",
       "tooltip": null
      }
     },
     "328dcbf1f0ba475c9d621461076a9519": {
      "model_module": "@jupyter-widgets/controls",
      "model_module_version": "2.0.0",
      "model_name": "HTMLModel",
      "state": {
       "layout": "IPY_MODEL_cb386d11b38744b19db5f5e95fc53fc9",
       "style": "IPY_MODEL_9cfde8a8a9d84d6f8cd216df46a66cc3",
       "value": "cmde1rfy4c00008hxp1g"
      }
     },
     "32e0920ece804cc0805069269d39ed38": {
      "model_module": "@jupyter-widgets/controls",
      "model_module_version": "2.0.0",
      "model_name": "HTMLStyleModel",
      "state": {
       "description_width": "",
       "font_size": null,
       "text_color": null
      }
     },
     "32e25dda1ddf41dca7e0e3400dedd38f": {
      "model_module": "@jupyter-widgets/base",
      "model_module_version": "2.0.0",
      "model_name": "LayoutModel",
      "state": {
       "width": "70px"
      }
     },
     "331a3cf9622244fea47edbdce25c92ae": {
      "model_module": "@jupyter-widgets/base",
      "model_module_version": "2.0.0",
      "model_name": "LayoutModel",
      "state": {
       "max_width": "700px",
       "min_width": "700px"
      }
     },
     "333e27105c5946c0af76df4c1e03c861": {
      "model_module": "@jupyter-widgets/controls",
      "model_module_version": "2.0.0",
      "model_name": "HTMLStyleModel",
      "state": {
       "description_width": "",
       "font_size": null,
       "text_color": null
      }
     },
     "338d13b5a50b4eb990d6fcab74fb8a36": {
      "model_module": "@jupyter-widgets/controls",
      "model_module_version": "2.0.0",
      "model_name": "HTMLStyleModel",
      "state": {
       "description_width": "",
       "font_size": null,
       "text_color": null
      }
     },
     "33984484566942a0931000ee45618f4a": {
      "model_module": "@jupyter-widgets/base",
      "model_module_version": "2.0.0",
      "model_name": "LayoutModel",
      "state": {
       "margin": "0px 5px 0px 0px",
       "width": "32px"
      }
     },
     "33c3b76bdea14806ae649da1901b2f0f": {
      "model_module": "@jupyter-widgets/base",
      "model_module_version": "2.0.0",
      "model_name": "LayoutModel",
      "state": {
       "width": "190px"
      }
     },
     "33d518f089fb4c91b8ec503067db0703": {
      "model_module": "@jupyter-widgets/controls",
      "model_module_version": "2.0.0",
      "model_name": "ButtonModel",
      "state": {
       "icon": "close",
       "layout": "IPY_MODEL_5d85eb5ec1aa4dbca975503e2bd4c147",
       "style": "IPY_MODEL_430e6f7501fb4a16be3ea9410af86160",
       "tooltip": null
      }
     },
     "33ea2c0fb8134d3dab1256a10dcdbd9b": {
      "model_module": "@jupyter-widgets/controls",
      "model_module_version": "2.0.0",
      "model_name": "HTMLModel",
      "state": {
       "layout": "IPY_MODEL_2fb6647f9f36493faaa893fc3ac36158",
       "style": "IPY_MODEL_b5882f83f7c240ec832972512b1e9fd8",
       "value": "ibm_nairobi"
      }
     },
     "33eaa39331ed4c3b8ef7a129f65c9041": {
      "model_module": "@jupyter-widgets/controls",
      "model_module_version": "2.0.0",
      "model_name": "HBoxModel",
      "state": {
       "children": [
        "IPY_MODEL_d510af0265d74f72bd6f12c62292ebbd",
        "IPY_MODEL_ec8871d292814fc0bf808519ea74e240",
        "IPY_MODEL_3728fa57eed94bfcbc06d4d5fa58ab1a",
        "IPY_MODEL_eeac40d2988745b58f2637e46a398a08",
        "IPY_MODEL_9fe2b1a18b7a4cb685bd3a2eb59d3b94",
        "IPY_MODEL_79aaf7a459374167b8ba6b48a5d97246"
       ],
       "layout": "IPY_MODEL_e5970f1cfc104653be5d5d448c8a4751"
      }
     },
     "34338a76301844c09df96e5feca25ca9": {
      "model_module": "@jupyter-widgets/controls",
      "model_module_version": "2.0.0",
      "model_name": "HBoxModel",
      "state": {
       "children": [
        "IPY_MODEL_a70840762d3b43ab84912ec998482fc6",
        "IPY_MODEL_b92f944a57aa4e6b8ed68e1ad8a0ecb6",
        "IPY_MODEL_aa98630e828744729c1d9d511746eac8",
        "IPY_MODEL_0716a0704fca4bb0b18473018c6fc8ed",
        "IPY_MODEL_3e14172590d14080ac27e406ac4def62",
        "IPY_MODEL_60ee131209b2446bbfc399647a8b07a2"
       ],
       "layout": "IPY_MODEL_331a3cf9622244fea47edbdce25c92ae"
      }
     },
     "34cc212ed4354295b105172190d88faa": {
      "model_module": "@jupyter-widgets/base",
      "model_module_version": "2.0.0",
      "model_name": "LayoutModel",
      "state": {
       "margin": "0px 5px 0px 0px",
       "width": "32px"
      }
     },
     "34d826d9b1274e7a80164804a146af71": {
      "model_module": "@jupyter-widgets/base",
      "model_module_version": "2.0.0",
      "model_name": "LayoutModel",
      "state": {
       "width": "95px"
      }
     },
     "3529085d87a54f129ab2572d52b4b38c": {
      "model_module": "@jupyter-widgets/controls",
      "model_module_version": "2.0.0",
      "model_name": "HTMLStyleModel",
      "state": {
       "description_width": "",
       "font_size": null,
       "text_color": null
      }
     },
     "352af85b510b47c1afe409a0da875017": {
      "model_module": "@jupyter-widgets/base",
      "model_module_version": "2.0.0",
      "model_name": "LayoutModel",
      "state": {
       "width": "70px"
      }
     },
     "3564c330df22469a9b5520201397f781": {
      "model_module": "@jupyter-widgets/controls",
      "model_module_version": "2.0.0",
      "model_name": "HTMLStyleModel",
      "state": {
       "description_width": "",
       "font_size": null,
       "text_color": null
      }
     },
     "359ec05565334641842620dd94d66b52": {
      "model_module": "@jupyter-widgets/controls",
      "model_module_version": "2.0.0",
      "model_name": "HTMLModel",
      "state": {
       "layout": "IPY_MODEL_561c033518cf48658af6846db733fc62",
       "style": "IPY_MODEL_2c5f175cbcff4684a46c8cc08b0a1269",
       "value": "-"
      }
     },
     "35abf25a2ed24567915c5e8584aad41a": {
      "model_module": "@jupyter-widgets/base",
      "model_module_version": "2.0.0",
      "model_name": "LayoutModel",
      "state": {
       "max_width": "700px",
       "min_width": "700px"
      }
     },
     "35db1b87397d40c5a191f245e2bdf5f1": {
      "model_module": "@jupyter-widgets/controls",
      "model_module_version": "2.0.0",
      "model_name": "HTMLStyleModel",
      "state": {
       "description_width": "",
       "font_size": null,
       "text_color": null
      }
     },
     "35ead6b32e9d489e8e0ed327b7478eb7": {
      "model_module": "@jupyter-widgets/controls",
      "model_module_version": "2.0.0",
      "model_name": "HTMLStyleModel",
      "state": {
       "description_width": "",
       "font_size": null,
       "text_color": null
      }
     },
     "3631964f585f42bba8094e15a6680c3d": {
      "model_module": "@jupyter-widgets/controls",
      "model_module_version": "2.0.0",
      "model_name": "HTMLStyleModel",
      "state": {
       "description_width": "",
       "font_size": null,
       "text_color": null
      }
     },
     "364479e3f10e46ab827d3331a649fc9b": {
      "model_module": "@jupyter-widgets/base",
      "model_module_version": "2.0.0",
      "model_name": "LayoutModel",
      "state": {
       "width": "190px"
      }
     },
     "36a18147f33e4281a1948691d5f5d751": {
      "model_module": "@jupyter-widgets/base",
      "model_module_version": "2.0.0",
      "model_name": "LayoutModel",
      "state": {
       "width": "95px"
      }
     },
     "36b2a15dba5747038a427ab0f23b6f79": {
      "model_module": "@jupyter-widgets/controls",
      "model_module_version": "2.0.0",
      "model_name": "HTMLModel",
      "state": {
       "layout": "IPY_MODEL_b8e34ce819e746169dba87ad1cc794dd",
       "style": "IPY_MODEL_ac7e9c6de89143c9927c5497cf057b68",
       "value": "job has successfully run"
      }
     },
     "36dd749f6484404491f84a317cb90e50": {
      "model_module": "@jupyter-widgets/base",
      "model_module_version": "2.0.0",
      "model_name": "LayoutModel",
      "state": {
       "max_width": "700px",
       "min_width": "700px"
      }
     },
     "370223a197854ccda85e59453884aee2": {
      "model_module": "@jupyter-widgets/controls",
      "model_module_version": "2.0.0",
      "model_name": "HTMLModel",
      "state": {
       "layout": "IPY_MODEL_270ad0b1015b4df3bde8d1391280265e",
       "style": "IPY_MODEL_6670fdd68b1a442fab2933dd1ebfd84f",
       "value": "cmddt20zjkb0008m24vg"
      }
     },
     "370abacb11fe4b0fb3c575373a650a10": {
      "model_module": "@jupyter-widgets/controls",
      "model_module_version": "2.0.0",
      "model_name": "HBoxModel",
      "state": {
       "children": [
        "IPY_MODEL_7eecb877f5f142db966eb95946bc2894",
        "IPY_MODEL_68a164c813af4b6b87eafb054424e782",
        "IPY_MODEL_3e106ebe72ec4260ba716ba36872f99c",
        "IPY_MODEL_fcddd3981e284aab9537b82e4c51f148",
        "IPY_MODEL_3a15e6211d054d018587285fd56942f1",
        "IPY_MODEL_26d199d9861d4c8bb82ec70df771b832"
       ],
       "layout": "IPY_MODEL_d7ad06766b8d4c8b815df443627ea4e0"
      }
     },
     "371181edc4e2435cafbb848d669473f9": {
      "model_module": "@jupyter-widgets/controls",
      "model_module_version": "2.0.0",
      "model_name": "HTMLStyleModel",
      "state": {
       "description_width": "",
       "font_size": null,
       "text_color": null
      }
     },
     "3728fa57eed94bfcbc06d4d5fa58ab1a": {
      "model_module": "@jupyter-widgets/controls",
      "model_module_version": "2.0.0",
      "model_name": "HTMLModel",
      "state": {
       "layout": "IPY_MODEL_ab662b0c7fce4f48b79d0553c8ec8467",
       "style": "IPY_MODEL_6615976757eb4eeebdb5529078e6f701",
       "value": "ibm_nairobi"
      }
     },
     "37431fb7b0504535ae7dc4b0b3724b72": {
      "model_module": "@jupyter-widgets/controls",
      "model_module_version": "2.0.0",
      "model_name": "HTMLModel",
      "state": {
       "layout": "IPY_MODEL_c3387c2164b24675b588b54a81ad5cae",
       "style": "IPY_MODEL_050cca717564458da7b3887a2d30b19f",
       "value": "cmde4sv4z12g008ncc20"
      }
     },
     "377ad351ffae44c9bcd99c8719954ff6": {
      "model_module": "@jupyter-widgets/controls",
      "model_module_version": "2.0.0",
      "model_name": "HTMLModel",
      "state": {
       "layout": "IPY_MODEL_a5f94b95b0d74b4882613ee33212ff1d",
       "style": "IPY_MODEL_a221f36fbdaf4592a9da61fcfd7caa63",
       "value": "<font style='color:#34BC6E'>DONE</font>"
      }
     },
     "3782f3f7b7f24b4cbe2f294c8409259e": {
      "model_module": "@jupyter-widgets/base",
      "model_module_version": "2.0.0",
      "model_name": "LayoutModel",
      "state": {
       "margin": "0px 5px 0px 0px",
       "width": "32px"
      }
     },
     "37c58d42e8084076aacbcd445c4aea87": {
      "model_module": "@jupyter-widgets/controls",
      "model_module_version": "2.0.0",
      "model_name": "HTMLModel",
      "state": {
       "layout": "IPY_MODEL_1f7af7b88cba4b71b43790e19a15e614",
       "style": "IPY_MODEL_74338d4c53794a7196d7d3306de664b5",
       "value": "-"
      }
     },
     "37d1532960414d0ba19b12ef56b2390c": {
      "model_module": "@jupyter-widgets/controls",
      "model_module_version": "2.0.0",
      "model_name": "HTMLModel",
      "state": {
       "layout": "IPY_MODEL_573d3fd1029a4e6d926e3433e68116a2",
       "style": "IPY_MODEL_0e5e734f00284a16b72595c217cb056f",
       "value": "job has successfully run"
      }
     },
     "37dfab5891ca42e3a55119077f2d6c8e": {
      "model_module": "@jupyter-widgets/controls",
      "model_module_version": "2.0.0",
      "model_name": "HTMLStyleModel",
      "state": {
       "description_width": "",
       "font_size": null,
       "text_color": null
      }
     },
     "37f5ad7a1c3f4cafa7f45f2c86575a5a": {
      "model_module": "@jupyter-widgets/controls",
      "model_module_version": "2.0.0",
      "model_name": "HTMLModel",
      "state": {
       "layout": "IPY_MODEL_9246cbbdf799400a965787711914533c",
       "style": "IPY_MODEL_565a5a16059d427cad2ab7338ae2e791",
       "value": "cmde0d1wcht0008yajeg"
      }
     },
     "38130a1a42174fbb8b6401d20865b95c": {
      "model_module": "@jupyter-widgets/controls",
      "model_module_version": "2.0.0",
      "model_name": "HTMLModel",
      "state": {
       "layout": "IPY_MODEL_f4bd491e4a3a45ffb9f10db8d7c02536",
       "style": "IPY_MODEL_a681c00f0425476e86e6ef808e4a06b1",
       "value": "cmde50mwq3k0008sz1b0"
      }
     },
     "382603ccbced439f995cb27bb896b3cf": {
      "model_module": "@jupyter-widgets/controls",
      "model_module_version": "2.0.0",
      "model_name": "HTMLModel",
      "state": {
       "layout": "IPY_MODEL_9b91598a849448e6ba74c395484d02b1",
       "style": "IPY_MODEL_460f98bffb9841538b1564565f532c4b",
       "value": "cmde36wzjkb0008m25j0"
      }
     },
     "385d69e053e84d99a4693a9265e1fa68": {
      "model_module": "@jupyter-widgets/base",
      "model_module_version": "2.0.0",
      "model_name": "LayoutModel",
      "state": {
       "margin": "0px 5px 0px 0px",
       "width": "32px"
      }
     },
     "387a906dc10047e28e0eb249c86123be": {
      "model_module": "@jupyter-widgets/controls",
      "model_module_version": "2.0.0",
      "model_name": "HBoxModel",
      "state": {
       "children": [
        "IPY_MODEL_03c85922513a40b298b881bea609dfd9",
        "IPY_MODEL_22b58309843b44d4a1e24f36ac65dc21",
        "IPY_MODEL_795820ff654b48a09435eb9151e33011",
        "IPY_MODEL_a9281dcfc8374896be59e68ff19a534e",
        "IPY_MODEL_55ac9f49c20e46588c22b58760fa2b9e",
        "IPY_MODEL_ff5f422e37684c57b23cb94cd62d9f33"
       ],
       "layout": "IPY_MODEL_35abf25a2ed24567915c5e8584aad41a"
      }
     },
     "3886d5933c9b4237b7fd2f4ca17cb089": {
      "model_module": "@jupyter-widgets/controls",
      "model_module_version": "2.0.0",
      "model_name": "HTMLModel",
      "state": {
       "layout": "IPY_MODEL_e9148d0108ed4cd880900bb6fd01b1c8",
       "style": "IPY_MODEL_35ead6b32e9d489e8e0ed327b7478eb7",
       "value": "-"
      }
     },
     "388748e8980c4341a770a393b8ae22e1": {
      "model_module": "@jupyter-widgets/controls",
      "model_module_version": "2.0.0",
      "model_name": "HTMLModel",
      "state": {
       "layout": "IPY_MODEL_a977ec76458b4884807c1c95201d96e1",
       "style": "IPY_MODEL_47d213c5e46046198aa5783dda3c6307",
       "value": "ibm_nairobi"
      }
     },
     "38ed87f4b70a49e794bd52abc992f6c7": {
      "model_module": "@jupyter-widgets/controls",
      "model_module_version": "2.0.0",
      "model_name": "HTMLModel",
      "state": {
       "layout": "IPY_MODEL_b7e162f678ea40a6b5aa3bd65db5802a",
       "style": "IPY_MODEL_f7239e20faad415b8887528f5d3ebea1",
       "value": "<font style='color:#34BC6E'>DONE</font>"
      }
     },
     "392fa1080f8c4b389a657c98ca03884a": {
      "model_module": "@jupyter-widgets/controls",
      "model_module_version": "2.0.0",
      "model_name": "HTMLModel",
      "state": {
       "layout": "IPY_MODEL_a80125afde4b409e91ee71ff2263c8d4",
       "style": "IPY_MODEL_452497598f5645ca85935053b9172ff5",
       "value": "job has successfully run"
      }
     },
     "3938aa2ba1d64b6d89a48e2f223821a4": {
      "model_module": "@jupyter-widgets/controls",
      "model_module_version": "2.0.0",
      "model_name": "HTMLStyleModel",
      "state": {
       "description_width": "",
       "font_size": null,
       "text_color": null
      }
     },
     "3990d6b7c8e446369d10ed37743c4736": {
      "model_module": "@jupyter-widgets/controls",
      "model_module_version": "2.0.0",
      "model_name": "HTMLStyleModel",
      "state": {
       "description_width": "",
       "font_size": null,
       "text_color": null
      }
     },
     "39adf9a6b4c74674b90722c2f6f83d4a": {
      "model_module": "@jupyter-widgets/controls",
      "model_module_version": "2.0.0",
      "model_name": "HTMLModel",
      "state": {
       "layout": "IPY_MODEL_7c551e636e114513af3ccc0f01095488",
       "style": "IPY_MODEL_3a2dcf6954e84a1fa610e8cf6ce2f361",
       "value": "-"
      }
     },
     "39beddc47ede42928ecdc692501dd984": {
      "model_module": "@jupyter-widgets/base",
      "model_module_version": "2.0.0",
      "model_name": "LayoutModel",
      "state": {
       "width": "145px"
      }
     },
     "3a15e6211d054d018587285fd56942f1": {
      "model_module": "@jupyter-widgets/controls",
      "model_module_version": "2.0.0",
      "model_name": "HTMLModel",
      "state": {
       "layout": "IPY_MODEL_528e7cc8c5304efbb13f99999e19430a",
       "style": "IPY_MODEL_707cb376b1ad49df95b20fb744feb5d8",
       "value": "-"
      }
     },
     "3a2565da4c874d14acd5c551d78ec2c6": {
      "model_module": "@jupyter-widgets/controls",
      "model_module_version": "2.0.0",
      "model_name": "HTMLStyleModel",
      "state": {
       "description_width": "",
       "font_size": null,
       "text_color": null
      }
     },
     "3a2dcf6954e84a1fa610e8cf6ce2f361": {
      "model_module": "@jupyter-widgets/controls",
      "model_module_version": "2.0.0",
      "model_name": "HTMLStyleModel",
      "state": {
       "description_width": "",
       "font_size": null,
       "text_color": null
      }
     },
     "3a48a1ae54e44d35a95afbbbb17bd073": {
      "model_module": "@jupyter-widgets/base",
      "model_module_version": "2.0.0",
      "model_name": "LayoutModel",
      "state": {
       "width": "145px"
      }
     },
     "3abe0f5432c544f887db6a9252b8942e": {
      "model_module": "@jupyter-widgets/base",
      "model_module_version": "2.0.0",
      "model_name": "LayoutModel",
      "state": {}
     },
     "3b0b3ec94adb466a8cfc85af42ce4721": {
      "model_module": "@jupyter-widgets/controls",
      "model_module_version": "2.0.0",
      "model_name": "HBoxModel",
      "state": {
       "children": [
        "IPY_MODEL_13cc5cd98cdc47fc86c972c9e0d1b25f",
        "IPY_MODEL_37431fb7b0504535ae7dc4b0b3724b72",
        "IPY_MODEL_01af0a7c7aaa46e096c18369239cabeb",
        "IPY_MODEL_bfd199ea5760434583899dfa3f2c9b8d",
        "IPY_MODEL_b5c1e692c21e433984f3d8c14c25825a",
        "IPY_MODEL_56168dbbeae04c2fafe43e9beffc4241"
       ],
       "layout": "IPY_MODEL_d5a845e8367549f18d25c240da9c3c86"
      }
     },
     "3b42cccb679e4c1b8a867f40ef712d57": {
      "model_module": "@jupyter-widgets/base",
      "model_module_version": "2.0.0",
      "model_name": "LayoutModel",
      "state": {
       "margin": "0px 5px 0px 0px",
       "width": "32px"
      }
     },
     "3b4df442b19f465d8d394a981e7e9e0e": {
      "model_module": "@jupyter-widgets/base",
      "model_module_version": "2.0.0",
      "model_name": "LayoutModel",
      "state": {
       "width": "145px"
      }
     },
     "3b50aac2088e46aebd909e81029b14cc": {
      "model_module": "@jupyter-widgets/controls",
      "model_module_version": "2.0.0",
      "model_name": "HTMLModel",
      "state": {
       "layout": "IPY_MODEL_a5a0e5261aba4181b8cac662515247f4",
       "style": "IPY_MODEL_516aa9acb066420790a3ce60b389788a",
       "value": "<font style='color:#34BC6E'>DONE</font>"
      }
     },
     "3b6c2f3a60fa44048721288158c8745a": {
      "model_module": "@jupyter-widgets/controls",
      "model_module_version": "2.0.0",
      "model_name": "HTMLStyleModel",
      "state": {
       "description_width": "",
       "font_size": null,
       "text_color": null
      }
     },
     "3b8c69a1c05e47a3b72b76e58fd72039": {
      "model_module": "@jupyter-widgets/controls",
      "model_module_version": "2.0.0",
      "model_name": "ButtonStyleModel",
      "state": {
       "button_color": "white",
       "font_family": null,
       "font_size": null,
       "font_style": null,
       "font_variant": null,
       "font_weight": null,
       "text_color": null,
       "text_decoration": null
      }
     },
     "3ba914b869704c49a24e46a411408b49": {
      "model_module": "@jupyter-widgets/controls",
      "model_module_version": "2.0.0",
      "model_name": "HTMLStyleModel",
      "state": {
       "description_width": "",
       "font_size": null,
       "text_color": null
      }
     },
     "3bdc2910a5454c2c9519d440451b0b7a": {
      "model_module": "@jupyter-widgets/controls",
      "model_module_version": "2.0.0",
      "model_name": "ButtonModel",
      "state": {
       "icon": "close",
       "layout": "IPY_MODEL_ae71a30cc4264af59ec06bd0a061412c",
       "style": "IPY_MODEL_eb577acd7e1741cc92c185b10ea37d40",
       "tooltip": null
      }
     },
     "3c143ce9a2f845389e55ce585fe8f38b": {
      "model_module": "@jupyter-widgets/controls",
      "model_module_version": "2.0.0",
      "model_name": "HTMLStyleModel",
      "state": {
       "description_width": "",
       "font_size": null,
       "text_color": null
      }
     },
     "3c2df5cb940e421aaca192ad5a86616c": {
      "model_module": "@jupyter-widgets/controls",
      "model_module_version": "2.0.0",
      "model_name": "HTMLStyleModel",
      "state": {
       "description_width": "",
       "font_size": null,
       "text_color": null
      }
     },
     "3cc6b95ef8a94319b49a5a92f0139bf1": {
      "model_module": "@jupyter-widgets/controls",
      "model_module_version": "2.0.0",
      "model_name": "HTMLModel",
      "state": {
       "layout": "IPY_MODEL_b1cbe962a23d4ad89d88b265d915391e",
       "style": "IPY_MODEL_ec958ddac05541a183b31271f1562f3f",
       "value": "ibm_nairobi"
      }
     },
     "3d214cd1e5ec4975bda175236fcab8ed": {
      "model_module": "@jupyter-widgets/base",
      "model_module_version": "2.0.0",
      "model_name": "LayoutModel",
      "state": {
       "margin": "0px 5px 0px 0px",
       "width": "32px"
      }
     },
     "3d214dc1bbce49c1815ad4f78a8f7bf8": {
      "model_module": "@jupyter-widgets/base",
      "model_module_version": "2.0.0",
      "model_name": "LayoutModel",
      "state": {
       "width": "95px"
      }
     },
     "3d23e013957d499c9158c1b481a9edfc": {
      "model_module": "@jupyter-widgets/controls",
      "model_module_version": "2.0.0",
      "model_name": "HTMLModel",
      "state": {
       "layout": "IPY_MODEL_f0bda07f5a244139be76c14eb76daf53",
       "style": "IPY_MODEL_b8903070d7854739bc9bd9bb9a1d7503",
       "value": "cmddfvz4z12g008ncazg"
      }
     },
     "3d77c145bb214994b6528c6f10b6fdff": {
      "model_module": "@jupyter-widgets/controls",
      "model_module_version": "2.0.0",
      "model_name": "HTMLModel",
      "state": {
       "layout": "IPY_MODEL_55789445f1054ef890db78289d7512a5",
       "style": "IPY_MODEL_722b505880744e08aaeb753073852225",
       "value": "job has successfully run"
      }
     },
     "3d83a7b724174f2e85487005c0068b5c": {
      "model_module": "@jupyter-widgets/controls",
      "model_module_version": "2.0.0",
      "model_name": "ButtonModel",
      "state": {
       "icon": "close",
       "layout": "IPY_MODEL_6881c731ab584266bab86e517aab7f84",
       "style": "IPY_MODEL_9f09e200e72c4428a23d62abf40a1ac1",
       "tooltip": null
      }
     },
     "3d8a41667ede479b80e6c341e1093885": {
      "model_module": "@jupyter-widgets/base",
      "model_module_version": "2.0.0",
      "model_name": "LayoutModel",
      "state": {}
     },
     "3e0c10e157ee48aca66a167d7d445629": {
      "model_module": "@jupyter-widgets/base",
      "model_module_version": "2.0.0",
      "model_name": "LayoutModel",
      "state": {
       "max_width": "700px",
       "min_width": "700px"
      }
     },
     "3e106ebe72ec4260ba716ba36872f99c": {
      "model_module": "@jupyter-widgets/controls",
      "model_module_version": "2.0.0",
      "model_name": "HTMLModel",
      "state": {
       "layout": "IPY_MODEL_403a6cd8c8f64226b0a4679fd763586b",
       "style": "IPY_MODEL_7eb09328e54b4ff9b058d9548535cfa8",
       "value": "ibm_nairobi"
      }
     },
     "3e14172590d14080ac27e406ac4def62": {
      "model_module": "@jupyter-widgets/controls",
      "model_module_version": "2.0.0",
      "model_name": "HTMLModel",
      "state": {
       "layout": "IPY_MODEL_b94f5fc4e5d54660ba52c1372bd2981c",
       "style": "IPY_MODEL_1574a5a4c2964bf5802423c8874dd6bc",
       "value": "-"
      }
     },
     "3e485a90861e49e8a1d78c9a135e6dfe": {
      "model_module": "@jupyter-widgets/controls",
      "model_module_version": "2.0.0",
      "model_name": "HTMLModel",
      "state": {
       "layout": "IPY_MODEL_6eb6011631bc483294696e6a6ed92307",
       "style": "IPY_MODEL_e9985318510545659a4469393ec6008e",
       "value": "-"
      }
     },
     "3e518daab4dc4466896270e557ef577c": {
      "model_module": "@jupyter-widgets/controls",
      "model_module_version": "2.0.0",
      "model_name": "HTMLStyleModel",
      "state": {
       "description_width": "",
       "font_size": null,
       "text_color": null
      }
     },
     "3e67565c85124380bcc695bd55780215": {
      "model_module": "@jupyter-widgets/controls",
      "model_module_version": "2.0.0",
      "model_name": "HTMLStyleModel",
      "state": {
       "description_width": "",
       "font_size": null,
       "text_color": null
      }
     },
     "3e6ed372396a42109e7cd04688e4f03d": {
      "model_module": "@jupyter-widgets/controls",
      "model_module_version": "2.0.0",
      "model_name": "ButtonStyleModel",
      "state": {
       "button_color": "white",
       "font_family": null,
       "font_size": null,
       "font_style": null,
       "font_variant": null,
       "font_weight": null,
       "text_color": null,
       "text_decoration": null
      }
     },
     "3ea060fe2e2947808a0faca641a5becb": {
      "model_module": "@jupyter-widgets/base",
      "model_module_version": "2.0.0",
      "model_name": "LayoutModel",
      "state": {}
     },
     "3f0da6e790bc4085acf6638d53d5b21c": {
      "model_module": "@jupyter-widgets/controls",
      "model_module_version": "2.0.0",
      "model_name": "HTMLStyleModel",
      "state": {
       "description_width": "",
       "font_size": null,
       "text_color": null
      }
     },
     "3f31a365a5574893be8f195323e3abe1": {
      "model_module": "@jupyter-widgets/controls",
      "model_module_version": "2.0.0",
      "model_name": "HTMLStyleModel",
      "state": {
       "description_width": "",
       "font_size": null,
       "text_color": null
      }
     },
     "3f4f14f934034b748dd394f9eface3a9": {
      "model_module": "@jupyter-widgets/controls",
      "model_module_version": "2.0.0",
      "model_name": "HTMLStyleModel",
      "state": {
       "description_width": "",
       "font_size": null,
       "text_color": null
      }
     },
     "3f9d1803abe04fb5ad6a33e0240c4536": {
      "model_module": "@jupyter-widgets/base",
      "model_module_version": "2.0.0",
      "model_name": "LayoutModel",
      "state": {
       "width": "70px"
      }
     },
     "402a9fadbc614b1c95672d6127616dbc": {
      "model_module": "@jupyter-widgets/controls",
      "model_module_version": "2.0.0",
      "model_name": "ButtonStyleModel",
      "state": {
       "button_color": "white",
       "font_family": null,
       "font_size": null,
       "font_style": null,
       "font_variant": null,
       "font_weight": null,
       "text_color": null,
       "text_decoration": null
      }
     },
     "403a6cd8c8f64226b0a4679fd763586b": {
      "model_module": "@jupyter-widgets/base",
      "model_module_version": "2.0.0",
      "model_name": "LayoutModel",
      "state": {
       "width": "145px"
      }
     },
     "404ea78c88044ba79ff0db8526e1fbe6": {
      "model_module": "@jupyter-widgets/controls",
      "model_module_version": "2.0.0",
      "model_name": "HTMLModel",
      "state": {
       "layout": "IPY_MODEL_e9c68e1ca7034fdd8a535b8217c45ad2",
       "style": "IPY_MODEL_087e0da596fb4df3a2cc7f941a30d51f",
       "value": "<font style='color:#34BC6E'>DONE</font>"
      }
     },
     "4085c2ffefc34648b72153a0641107ae": {
      "model_module": "@jupyter-widgets/controls",
      "model_module_version": "2.0.0",
      "model_name": "HTMLModel",
      "state": {
       "layout": "IPY_MODEL_36a18147f33e4281a1948691d5f5d751",
       "style": "IPY_MODEL_3938aa2ba1d64b6d89a48e2f223821a4",
       "value": "<font style='color:#34BC6E'>DONE</font>"
      }
     },
     "40b0bad437f445cba32d9efd263801d1": {
      "model_module": "@jupyter-widgets/controls",
      "model_module_version": "2.0.0",
      "model_name": "HTMLStyleModel",
      "state": {
       "description_width": "",
       "font_size": null,
       "text_color": null
      }
     },
     "40b81c2a91f34d5bbf00f0603f5d57f2": {
      "model_module": "@jupyter-widgets/base",
      "model_module_version": "2.0.0",
      "model_name": "LayoutModel",
      "state": {
       "width": "190px"
      }
     },
     "417296f3f8734904b71628f19c4ed11a": {
      "model_module": "@jupyter-widgets/base",
      "model_module_version": "2.0.0",
      "model_name": "LayoutModel",
      "state": {
       "margin": "0px 5px 0px 0px",
       "width": "32px"
      }
     },
     "41926fac11764089a250a3059f24c66e": {
      "model_module": "@jupyter-widgets/controls",
      "model_module_version": "2.0.0",
      "model_name": "ButtonStyleModel",
      "state": {
       "button_color": "white",
       "font_family": null,
       "font_size": null,
       "font_style": null,
       "font_variant": null,
       "font_weight": null,
       "text_color": null,
       "text_decoration": null
      }
     },
     "4198419e9b824b43a47cea00ac9bd35e": {
      "model_module": "@jupyter-widgets/controls",
      "model_module_version": "2.0.0",
      "model_name": "HTMLModel",
      "state": {
       "layout": "IPY_MODEL_352af85b510b47c1afe409a0da875017",
       "style": "IPY_MODEL_1eb194bfc0a443628a0d2c34c3b1083c",
       "value": "-"
      }
     },
     "41fafde53976405a87d344ce7ed92610": {
      "model_module": "@jupyter-widgets/controls",
      "model_module_version": "2.0.0",
      "model_name": "HTMLModel",
      "state": {
       "layout": "IPY_MODEL_a68d705940c64e64a033603f87f49676",
       "style": "IPY_MODEL_d01d07c7dcda49fe9184c49a2ea97662",
       "value": "<font style='color:#34BC6E'>DONE</font>"
      }
     },
     "427a198dc0ee4045a7a6e764279c34f6": {
      "model_module": "@jupyter-widgets/controls",
      "model_module_version": "2.0.0",
      "model_name": "ButtonModel",
      "state": {
       "icon": "close",
       "layout": "IPY_MODEL_c470fcb5117645f281e69aa2e8ac5eab",
       "style": "IPY_MODEL_0972c40ea48c483cae3a6b0ad0575a60",
       "tooltip": null
      }
     },
     "42997d0fcd734c6ebc249edc45830726": {
      "model_module": "@jupyter-widgets/controls",
      "model_module_version": "2.0.0",
      "model_name": "HTMLModel",
      "state": {
       "layout": "IPY_MODEL_9454b65f9226485d979bafb78c206a2f",
       "style": "IPY_MODEL_5045125593614494bee22e18534991a5",
       "value": "cmddzx7wq3k0008sz0q0"
      }
     },
     "42f569bad0104c1faa8b1dd56854d893": {
      "model_module": "@jupyter-widgets/controls",
      "model_module_version": "2.0.0",
      "model_name": "HTMLModel",
      "state": {
       "layout": "IPY_MODEL_00424a07372d44d8adee9c7d574e13ac",
       "style": "IPY_MODEL_bdd890761cd94fa0a485f6a94d296374",
       "value": "-"
      }
     },
     "430e6f7501fb4a16be3ea9410af86160": {
      "model_module": "@jupyter-widgets/controls",
      "model_module_version": "2.0.0",
      "model_name": "ButtonStyleModel",
      "state": {
       "button_color": "white",
       "font_family": null,
       "font_size": null,
       "font_style": null,
       "font_variant": null,
       "font_weight": null,
       "text_color": null,
       "text_decoration": null
      }
     },
     "4318c140a93641cb96de793235ee3cc0": {
      "model_module": "@jupyter-widgets/controls",
      "model_module_version": "2.0.0",
      "model_name": "HTMLStyleModel",
      "state": {
       "description_width": "",
       "font_size": null,
       "text_color": null
      }
     },
     "435a193b289c4f2aa69ab6b002df3f7a": {
      "model_module": "@jupyter-widgets/controls",
      "model_module_version": "2.0.0",
      "model_name": "HTMLStyleModel",
      "state": {
       "description_width": "",
       "font_size": null,
       "text_color": null
      }
     },
     "43879a1aece643d58102c44a600fb7ed": {
      "model_module": "@jupyter-widgets/controls",
      "model_module_version": "2.0.0",
      "model_name": "HTMLModel",
      "state": {
       "layout": "IPY_MODEL_99d787e8ac5146908540752fae40ce0f",
       "style": "IPY_MODEL_92d1e673f695416ba34f0937a184e09a",
       "value": "-"
      }
     },
     "439f771bcb054e478db5bcac49772c44": {
      "model_module": "@jupyter-widgets/controls",
      "model_module_version": "2.0.0",
      "model_name": "HTMLStyleModel",
      "state": {
       "description_width": "",
       "font_size": null,
       "text_color": null
      }
     },
     "43bc9ffbfddb44afac459bd90c193390": {
      "model_module": "@jupyter-widgets/controls",
      "model_module_version": "2.0.0",
      "model_name": "HBoxModel",
      "state": {
       "children": [
        "IPY_MODEL_5ef40683346945e98dec76ed5f752c92",
        "IPY_MODEL_8353dc8bbfed44f986b5ee15f69406d6",
        "IPY_MODEL_ce55822b175c449282f15944706bee45",
        "IPY_MODEL_148ebb53944b4bdc8a59427243d8c7e6",
        "IPY_MODEL_c1bb4b1f7bc640389d4849289d20fb55",
        "IPY_MODEL_4792d24178064e20be982195f0d74025"
       ],
       "layout": "IPY_MODEL_f8e7aa56bfb6429e9610f6d9eed68518"
      }
     },
     "43c92893474648998ec461f4370d261f": {
      "model_module": "@jupyter-widgets/controls",
      "model_module_version": "2.0.0",
      "model_name": "HTMLModel",
      "state": {
       "layout": "IPY_MODEL_e37ae525712946d2a93139675aa8e983",
       "style": "IPY_MODEL_853af198363b4920a17b6a864474762b",
       "value": "cmde4704z12g008ncbz0"
      }
     },
     "43c97d538c554e8c82ba6128ac6f5340": {
      "model_module": "@jupyter-widgets/controls",
      "model_module_version": "2.0.0",
      "model_name": "HTMLModel",
      "state": {
       "layout": "IPY_MODEL_f7965214354f4860982a7092267975eb",
       "style": "IPY_MODEL_752c9bc468c64965a0fab71f9a4d1443",
       "value": "-"
      }
     },
     "43ceffe7c3bd4cb8aabb0bc9f0cdecb4": {
      "model_module": "@jupyter-widgets/controls",
      "model_module_version": "2.0.0",
      "model_name": "HTMLStyleModel",
      "state": {
       "description_width": "",
       "font_size": null,
       "text_color": null
      }
     },
     "43dfed0c339b485bbd2f21fedb306f16": {
      "model_module": "@jupyter-widgets/controls",
      "model_module_version": "2.0.0",
      "model_name": "HBoxModel",
      "state": {
       "children": [
        "IPY_MODEL_145388144ec44361ac6a75020e74427c",
        "IPY_MODEL_9a8d33b5f5944cb7909d27e2b8644a81",
        "IPY_MODEL_224bbb32ff3442beb7d4a42c8715709c",
        "IPY_MODEL_6913821d9f2547c296eb4977d9fa77ea",
        "IPY_MODEL_ea91b7c183de4883b8c4d1406b2af34e",
        "IPY_MODEL_4cdc9cc80c954fe3be2dce28b8c36173"
       ],
       "layout": "IPY_MODEL_15fe6eab2e4b41a78631e623bc16e848"
      }
     },
     "4454fef3079346e88520b6491f86b563": {
      "model_module": "@jupyter-widgets/controls",
      "model_module_version": "2.0.0",
      "model_name": "HTMLModel",
      "state": {
       "layout": "IPY_MODEL_f62ea2f8a51c4b3ba975b9ff75e5b228",
       "style": "IPY_MODEL_44aac194c29344e1abba5e9f099c9644",
       "value": "ibm_nairobi"
      }
     },
     "446051721c834b5da2e4fbe1db0284a1": {
      "model_module": "@jupyter-widgets/base",
      "model_module_version": "2.0.0",
      "model_name": "LayoutModel",
      "state": {}
     },
     "4491db0a059f430a82b4c7ccb382b49d": {
      "model_module": "@jupyter-widgets/base",
      "model_module_version": "2.0.0",
      "model_name": "LayoutModel",
      "state": {}
     },
     "44aac194c29344e1abba5e9f099c9644": {
      "model_module": "@jupyter-widgets/controls",
      "model_module_version": "2.0.0",
      "model_name": "HTMLStyleModel",
      "state": {
       "description_width": "",
       "font_size": null,
       "text_color": null
      }
     },
     "452497598f5645ca85935053b9172ff5": {
      "model_module": "@jupyter-widgets/controls",
      "model_module_version": "2.0.0",
      "model_name": "HTMLStyleModel",
      "state": {
       "description_width": "",
       "font_size": null,
       "text_color": null
      }
     },
     "45b18e68ea4e4016b783a2052d2d8c8a": {
      "model_module": "@jupyter-widgets/controls",
      "model_module_version": "2.0.0",
      "model_name": "HTMLStyleModel",
      "state": {
       "description_width": "",
       "font_size": null,
       "text_color": null
      }
     },
     "4609132a35a044d983ebc4088ea645f5": {
      "model_module": "@jupyter-widgets/controls",
      "model_module_version": "2.0.0",
      "model_name": "ButtonModel",
      "state": {
       "icon": "close",
       "layout": "IPY_MODEL_b478baa43172480cbbca728734e7868e",
       "style": "IPY_MODEL_114dc56193a149da933dd102babcccce",
       "tooltip": null
      }
     },
     "460f98bffb9841538b1564565f532c4b": {
      "model_module": "@jupyter-widgets/controls",
      "model_module_version": "2.0.0",
      "model_name": "HTMLStyleModel",
      "state": {
       "description_width": "",
       "font_size": null,
       "text_color": null
      }
     },
     "4692e02aec054657b45b6e500bab5367": {
      "model_module": "@jupyter-widgets/controls",
      "model_module_version": "2.0.0",
      "model_name": "ButtonStyleModel",
      "state": {
       "button_color": "white",
       "font_family": null,
       "font_size": null,
       "font_style": null,
       "font_variant": null,
       "font_weight": null,
       "text_color": null,
       "text_decoration": null
      }
     },
     "46cc361fafa846c8813b811d2e3407c9": {
      "model_module": "@jupyter-widgets/base",
      "model_module_version": "2.0.0",
      "model_name": "LayoutModel",
      "state": {
       "width": "190px"
      }
     },
     "47263956b0e743a5b9edd98dc41edb32": {
      "model_module": "@jupyter-widgets/controls",
      "model_module_version": "2.0.0",
      "model_name": "HTMLModel",
      "state": {
       "layout": "IPY_MODEL_1efc45f9f6f049e4aa9250a64b791ddc",
       "style": "IPY_MODEL_93dab189e8b54f9abb95840665dc8815",
       "value": "ibm_nairobi"
      }
     },
     "472ebc80453f422fbb478f5c8d7c00d1": {
      "model_module": "@jupyter-widgets/controls",
      "model_module_version": "2.0.0",
      "model_name": "ButtonStyleModel",
      "state": {
       "button_color": "white",
       "font_family": null,
       "font_size": null,
       "font_style": null,
       "font_variant": null,
       "font_weight": null,
       "text_color": null,
       "text_decoration": null
      }
     },
     "47650621eebd4a729b391dbf5b44d9a4": {
      "model_module": "@jupyter-widgets/controls",
      "model_module_version": "2.0.0",
      "model_name": "HTMLStyleModel",
      "state": {
       "description_width": "",
       "font_size": null,
       "text_color": null
      }
     },
     "4792d24178064e20be982195f0d74025": {
      "model_module": "@jupyter-widgets/controls",
      "model_module_version": "2.0.0",
      "model_name": "HTMLModel",
      "state": {
       "layout": "IPY_MODEL_eb79696fe1584d47813b0e2fca08f39d",
       "style": "IPY_MODEL_439f771bcb054e478db5bcac49772c44",
       "value": "job has successfully run"
      }
     },
     "47a0656be57a415db5fc1d0fd512b80d": {
      "model_module": "@jupyter-widgets/controls",
      "model_module_version": "2.0.0",
      "model_name": "ButtonStyleModel",
      "state": {
       "button_color": "white",
       "font_family": null,
       "font_size": null,
       "font_style": null,
       "font_variant": null,
       "font_weight": null,
       "text_color": null,
       "text_decoration": null
      }
     },
     "47b6c2aefbc6420db80d7074985aa2a1": {
      "model_module": "@jupyter-widgets/controls",
      "model_module_version": "2.0.0",
      "model_name": "HBoxModel",
      "state": {
       "children": [
        "IPY_MODEL_56379b66e8cc424eb9e22f899d10e4a6",
        "IPY_MODEL_37f5ad7a1c3f4cafa7f45f2c86575a5a",
        "IPY_MODEL_513669c7f3084f83a54c91bd34b1bf9e",
        "IPY_MODEL_24de8bd7498a488085529c565ecef029",
        "IPY_MODEL_fce18b0e61d3409a90dafe59cc5e2c04",
        "IPY_MODEL_a053e5de29f746f284609ddeec70e34c"
       ],
       "layout": "IPY_MODEL_7fc8dff88b054c8b83a7acee29910be0"
      }
     },
     "47d213c5e46046198aa5783dda3c6307": {
      "model_module": "@jupyter-widgets/controls",
      "model_module_version": "2.0.0",
      "model_name": "HTMLStyleModel",
      "state": {
       "description_width": "",
       "font_size": null,
       "text_color": null
      }
     },
     "485b78598e5c4bf2911665767319997e": {
      "model_module": "@jupyter-widgets/base",
      "model_module_version": "2.0.0",
      "model_name": "LayoutModel",
      "state": {
       "width": "95px"
      }
     },
     "48a88fe0ed384851a3f2e3ca7515b73c": {
      "model_module": "@jupyter-widgets/controls",
      "model_module_version": "2.0.0",
      "model_name": "ButtonModel",
      "state": {
       "icon": "close",
       "layout": "IPY_MODEL_097cfcbf53824b018502b1016d190c3f",
       "style": "IPY_MODEL_fde77e7b047f4459a1499b41016d4ef4",
       "tooltip": null
      }
     },
     "48c7c1da6ede4fad8f70f4d0a7c076e1": {
      "model_module": "@jupyter-widgets/controls",
      "model_module_version": "2.0.0",
      "model_name": "HTMLStyleModel",
      "state": {
       "description_width": "",
       "font_size": null,
       "text_color": null
      }
     },
     "48dddf7904f34fbda0431c954060e317": {
      "model_module": "@jupyter-widgets/controls",
      "model_module_version": "2.0.0",
      "model_name": "HTMLStyleModel",
      "state": {
       "description_width": "",
       "font_size": null,
       "text_color": null
      }
     },
     "495f5f17e6bf41b7b6e819b8130fb89f": {
      "model_module": "@jupyter-widgets/controls",
      "model_module_version": "2.0.0",
      "model_name": "HTMLModel",
      "state": {
       "layout": "IPY_MODEL_bef1b5f3859442b0bbce22159df90379",
       "style": "IPY_MODEL_6085d0d035c14ae6aa6d0fa94bdc1b19",
       "value": "-"
      }
     },
     "49b62b1e92cc427dbc51720111772775": {
      "model_module": "@jupyter-widgets/controls",
      "model_module_version": "2.0.0",
      "model_name": "HTMLStyleModel",
      "state": {
       "description_width": "",
       "font_size": null,
       "text_color": null
      }
     },
     "49df99940c4e4cc6abd6403cfa49739b": {
      "model_module": "@jupyter-widgets/controls",
      "model_module_version": "2.0.0",
      "model_name": "HTMLModel",
      "state": {
       "layout": "IPY_MODEL_9b6fea0bb0d34d1c90fd417c300801bd",
       "style": "IPY_MODEL_5a9448ffd2b443e598de734e83aa2329",
       "value": "cmde2tb4z12g008ncbt0"
      }
     },
     "4a3e841b349646d18613d52b0890a533": {
      "model_module": "@jupyter-widgets/base",
      "model_module_version": "2.0.0",
      "model_name": "LayoutModel",
      "state": {
       "max_width": "700px",
       "min_width": "700px"
      }
     },
     "4a7d8f57c47d477eadc9da1be98df5bb": {
      "model_module": "@jupyter-widgets/controls",
      "model_module_version": "2.0.0",
      "model_name": "HBoxModel",
      "state": {
       "children": [
        "IPY_MODEL_1a4f8826c3fe4ad79cae7bcde0c19b2c",
        "IPY_MODEL_1d803308fd2c4e3b945f0bbb8d0b041f",
        "IPY_MODEL_f5e355b18fe0434fb828f784e2a0d0d4",
        "IPY_MODEL_232ad88f4fb44987936ece5a7d62f6e8",
        "IPY_MODEL_f9ce8b2b3fc34c8fa3c6aaea09324921",
        "IPY_MODEL_e05c42ebacf64a9c84b1b125ab105582"
       ],
       "layout": "IPY_MODEL_fd814b30babd4901aa253109e8f7aca6"
      }
     },
     "4abff19c1ec64b85842ddabad9f819b3": {
      "model_module": "@jupyter-widgets/controls",
      "model_module_version": "2.0.0",
      "model_name": "HTMLStyleModel",
      "state": {
       "description_width": "",
       "font_size": null,
       "text_color": null
      }
     },
     "4b29c8022288435fa7b235476f598998": {
      "model_module": "@jupyter-widgets/base",
      "model_module_version": "2.0.0",
      "model_name": "LayoutModel",
      "state": {
       "margin": "0px 5px 0px 0px",
       "width": "32px"
      }
     },
     "4b45cbc97be845b38982d55186e44bca": {
      "model_module": "@jupyter-widgets/controls",
      "model_module_version": "2.0.0",
      "model_name": "HTMLModel",
      "state": {
       "layout": "IPY_MODEL_e35516a2253e4229b551fd47a09e861f",
       "style": "IPY_MODEL_be6aec04bd0c401585ea948bb49ec79e",
       "value": "cmddx3wzjkb0008m250g"
      }
     },
     "4ba3766d1fee4ba29faf6c89271ea474": {
      "model_module": "@jupyter-widgets/controls",
      "model_module_version": "2.0.0",
      "model_name": "HTMLStyleModel",
      "state": {
       "description_width": "",
       "font_size": null,
       "text_color": null
      }
     },
     "4bd339b71a264c57b51b3bac4dd2bcd8": {
      "model_module": "@jupyter-widgets/base",
      "model_module_version": "2.0.0",
      "model_name": "LayoutModel",
      "state": {
       "margin": "0px 5px 0px 0px",
       "width": "32px"
      }
     },
     "4be2ecb32d6b40a8b6136478d00d4d6e": {
      "model_module": "@jupyter-widgets/controls",
      "model_module_version": "2.0.0",
      "model_name": "HTMLStyleModel",
      "state": {
       "description_width": "",
       "font_size": null,
       "text_color": null
      }
     },
     "4bf7b79c98574202a91232929dce74c4": {
      "model_module": "@jupyter-widgets/controls",
      "model_module_version": "2.0.0",
      "model_name": "HBoxModel",
      "state": {
       "children": [
        "IPY_MODEL_cf29635462374c078d01bf814215acae",
        "IPY_MODEL_8688af5201e7441d9f90609a0a7d90aa",
        "IPY_MODEL_7cdb64b51f5e408098be0ea5c325ffdd",
        "IPY_MODEL_b208669246e64230b5630ad6526a4176",
        "IPY_MODEL_43c97d538c554e8c82ba6128ac6f5340",
        "IPY_MODEL_7ef96c57e0c04e5ca7c51cbd47f7ac38"
       ],
       "layout": "IPY_MODEL_21153cdc76f94589b93a112e4f724b6e"
      }
     },
     "4c2775746fc74ec799b93689ec10fdcb": {
      "model_module": "@jupyter-widgets/base",
      "model_module_version": "2.0.0",
      "model_name": "LayoutModel",
      "state": {
       "width": "190px"
      }
     },
     "4c2e5cb6ec614b40b3481e5eb7eddfa8": {
      "model_module": "@jupyter-widgets/controls",
      "model_module_version": "2.0.0",
      "model_name": "HTMLStyleModel",
      "state": {
       "description_width": "",
       "font_size": null,
       "text_color": null
      }
     },
     "4c64d69facb549cab8b21e79f844d3f5": {
      "model_module": "@jupyter-widgets/base",
      "model_module_version": "2.0.0",
      "model_name": "LayoutModel",
      "state": {
       "width": "95px"
      }
     },
     "4cb1e386268e4cdd99e28f61e1beada0": {
      "model_module": "@jupyter-widgets/controls",
      "model_module_version": "2.0.0",
      "model_name": "HTMLStyleModel",
      "state": {
       "description_width": "",
       "font_size": null,
       "text_color": null
      }
     },
     "4cdc9cc80c954fe3be2dce28b8c36173": {
      "model_module": "@jupyter-widgets/controls",
      "model_module_version": "2.0.0",
      "model_name": "HTMLModel",
      "state": {
       "layout": "IPY_MODEL_e8cf7c79af7d4c8983226a93acd1cbcb",
       "style": "IPY_MODEL_3631964f585f42bba8094e15a6680c3d",
       "value": "job has successfully run"
      }
     },
     "4d03f72b890a451f9b5a1b5bd5ec2447": {
      "model_module": "@jupyter-widgets/controls",
      "model_module_version": "2.0.0",
      "model_name": "HTMLModel",
      "state": {
       "layout": "IPY_MODEL_9f1584a9f24148b1bd729b2cf4258eee",
       "style": "IPY_MODEL_48dddf7904f34fbda0431c954060e317",
       "value": "<font style='color:#34BC6E'>DONE</font>"
      }
     },
     "4d5eb8b045ed45d08953dc820e492fe5": {
      "model_module": "@jupyter-widgets/controls",
      "model_module_version": "2.0.0",
      "model_name": "HTMLStyleModel",
      "state": {
       "description_width": "",
       "font_size": null,
       "text_color": null
      }
     },
     "4d7542096fa44174a134374ab8931bdb": {
      "model_module": "@jupyter-widgets/controls",
      "model_module_version": "2.0.0",
      "model_name": "HTMLStyleModel",
      "state": {
       "description_width": "",
       "font_size": null,
       "text_color": null
      }
     },
     "4d9a9c44f2c047a8b9c3125300e234b8": {
      "model_module": "@jupyter-widgets/base",
      "model_module_version": "2.0.0",
      "model_name": "LayoutModel",
      "state": {
       "width": "95px"
      }
     },
     "4dae52dad36647ceb595b36ab4a29a26": {
      "model_module": "@jupyter-widgets/base",
      "model_module_version": "2.0.0",
      "model_name": "LayoutModel",
      "state": {
       "margin": "0px 5px 0px 0px",
       "width": "32px"
      }
     },
     "4e19b4166f31406b94542720237f7e95": {
      "model_module": "@jupyter-widgets/base",
      "model_module_version": "2.0.0",
      "model_name": "LayoutModel",
      "state": {}
     },
     "4e26242881ec476fa09f520df34f338f": {
      "model_module": "@jupyter-widgets/controls",
      "model_module_version": "2.0.0",
      "model_name": "HTMLStyleModel",
      "state": {
       "description_width": "",
       "font_size": null,
       "text_color": null
      }
     },
     "4f120dc3919048fbb639d6da2f6804ac": {
      "model_module": "@jupyter-widgets/controls",
      "model_module_version": "2.0.0",
      "model_name": "HTMLStyleModel",
      "state": {
       "description_width": "",
       "font_size": null,
       "text_color": null
      }
     },
     "4f48d80193184d7b925b3f25729f9d94": {
      "model_module": "@jupyter-widgets/controls",
      "model_module_version": "2.0.0",
      "model_name": "HTMLModel",
      "state": {
       "layout": "IPY_MODEL_2c0e1bf6a3d04acba18df801f335b41d",
       "style": "IPY_MODEL_3564c330df22469a9b5520201397f781",
       "value": "cmde0p2te72g008js1z0"
      }
     },
     "4f9069476e484c8fb4bf5f2f61ad6264": {
      "model_module": "@jupyter-widgets/base",
      "model_module_version": "2.0.0",
      "model_name": "LayoutModel",
      "state": {}
     },
     "4f9baaaee340485ea8f733970ed8d732": {
      "model_module": "@jupyter-widgets/controls",
      "model_module_version": "2.0.0",
      "model_name": "HTMLModel",
      "state": {
       "layout": "IPY_MODEL_fee3d250d82644bd9ff032e6dd8d821d",
       "style": "IPY_MODEL_338d13b5a50b4eb990d6fcab74fb8a36",
       "value": "<font style='color:#34BC6E'>DONE</font>"
      }
     },
     "4faa7603bb604aedabe73f1eb0937e22": {
      "model_module": "@jupyter-widgets/controls",
      "model_module_version": "2.0.0",
      "model_name": "HBoxModel",
      "state": {
       "children": [
        "IPY_MODEL_d1a82dbdb0dd41acb6c4429342e8967d",
        "IPY_MODEL_b14008b8f9854c1a9adaa4d0d2af1374",
        "IPY_MODEL_c081c095e9d243519983a2d1f1bbf105",
        "IPY_MODEL_edc6bb7ebf204eaf8e100cd3d22fc3cf",
        "IPY_MODEL_06f4d363571848418b93711eaee7510b",
        "IPY_MODEL_37d1532960414d0ba19b12ef56b2390c"
       ],
       "layout": "IPY_MODEL_2faaba4639b8482eb058174cd5b4e7fa"
      }
     },
     "5045125593614494bee22e18534991a5": {
      "model_module": "@jupyter-widgets/controls",
      "model_module_version": "2.0.0",
      "model_name": "HTMLStyleModel",
      "state": {
       "description_width": "",
       "font_size": null,
       "text_color": null
      }
     },
     "50555da4fcc34c6cb6f61542d127851e": {
      "model_module": "@jupyter-widgets/base",
      "model_module_version": "2.0.0",
      "model_name": "LayoutModel",
      "state": {
       "max_width": "700px",
       "min_width": "700px"
      }
     },
     "505b2e1d5d8e4657b848f260bf92e5a5": {
      "model_module": "@jupyter-widgets/controls",
      "model_module_version": "2.0.0",
      "model_name": "HBoxModel",
      "state": {
       "children": [
        "IPY_MODEL_d2b8307a485449cab1b8ab98cfc828c9",
        "IPY_MODEL_fd587fb7ba8249a19252c350f1721f82",
        "IPY_MODEL_9bc24e36d49e4d5a9f6f0c341c58f32b",
        "IPY_MODEL_d0d632b151334f7e8b811d6139162e23",
        "IPY_MODEL_e48f733a49a94d78b63397e883c3edd3",
        "IPY_MODEL_82420b29d6c54a7395d3555d430b2b1a"
       ],
       "layout": "IPY_MODEL_5f3e301a63cd4a9c802606d7ae682bed"
      }
     },
     "505dfb14871b4c6ca8b5cff8a07cef4d": {
      "model_module": "@jupyter-widgets/controls",
      "model_module_version": "2.0.0",
      "model_name": "HTMLStyleModel",
      "state": {
       "description_width": "",
       "font_size": null,
       "text_color": null
      }
     },
     "50adf7d9f820493095356d3de98407f8": {
      "model_module": "@jupyter-widgets/base",
      "model_module_version": "2.0.0",
      "model_name": "LayoutModel",
      "state": {
       "width": "190px"
      }
     },
     "50bb601713104f65a3a1eaa0c7bb66f3": {
      "model_module": "@jupyter-widgets/controls",
      "model_module_version": "2.0.0",
      "model_name": "HTMLStyleModel",
      "state": {
       "description_width": "",
       "font_size": null,
       "text_color": null
      }
     },
     "50e9a75c85244795939679371b5b7d1c": {
      "model_module": "@jupyter-widgets/base",
      "model_module_version": "2.0.0",
      "model_name": "LayoutModel",
      "state": {
       "width": "190px"
      }
     },
     "510fbaec94f1495c902ee99c8b7c2346": {
      "model_module": "@jupyter-widgets/base",
      "model_module_version": "2.0.0",
      "model_name": "LayoutModel",
      "state": {
       "max_width": "700px",
       "min_width": "700px"
      }
     },
     "512cfa1437e944d09c975b5ce16929f6": {
      "model_module": "@jupyter-widgets/controls",
      "model_module_version": "2.0.0",
      "model_name": "HTMLStyleModel",
      "state": {
       "description_width": "",
       "font_size": null,
       "text_color": null
      }
     },
     "513669c7f3084f83a54c91bd34b1bf9e": {
      "model_module": "@jupyter-widgets/controls",
      "model_module_version": "2.0.0",
      "model_name": "HTMLModel",
      "state": {
       "layout": "IPY_MODEL_c04ebd4d26244ae693992880e5f35f2b",
       "style": "IPY_MODEL_48c7c1da6ede4fad8f70f4d0a7c076e1",
       "value": "ibm_nairobi"
      }
     },
     "5159c5f4847040e7ab43f2c0a4471ef9": {
      "model_module": "@jupyter-widgets/base",
      "model_module_version": "2.0.0",
      "model_name": "LayoutModel",
      "state": {
       "max_width": "700px",
       "min_width": "700px"
      }
     },
     "516aa9acb066420790a3ce60b389788a": {
      "model_module": "@jupyter-widgets/controls",
      "model_module_version": "2.0.0",
      "model_name": "HTMLStyleModel",
      "state": {
       "description_width": "",
       "font_size": null,
       "text_color": null
      }
     },
     "519c24b27da24416998f377ad12110ee": {
      "model_module": "@jupyter-widgets/base",
      "model_module_version": "2.0.0",
      "model_name": "LayoutModel",
      "state": {}
     },
     "51cdbcf5c36541dcb4a429180421ee37": {
      "model_module": "@jupyter-widgets/base",
      "model_module_version": "2.0.0",
      "model_name": "LayoutModel",
      "state": {
       "margin": "0px 5px 0px 0px",
       "width": "32px"
      }
     },
     "5204e483a97f44f89a43ef9505801103": {
      "model_module": "@jupyter-widgets/base",
      "model_module_version": "2.0.0",
      "model_name": "LayoutModel",
      "state": {
       "margin": "0px 5px 0px 0px",
       "width": "32px"
      }
     },
     "5209d246a1d54887befa5022b4645732": {
      "model_module": "@jupyter-widgets/controls",
      "model_module_version": "2.0.0",
      "model_name": "HTMLStyleModel",
      "state": {
       "description_width": "",
       "font_size": null,
       "text_color": null
      }
     },
     "520f4ae59ac4429da1712939c45f73f2": {
      "model_module": "@jupyter-widgets/base",
      "model_module_version": "2.0.0",
      "model_name": "LayoutModel",
      "state": {
       "width": "95px"
      }
     },
     "52270fa8dc734e7c8d02ea10fd52822a": {
      "model_module": "@jupyter-widgets/controls",
      "model_module_version": "2.0.0",
      "model_name": "HTMLStyleModel",
      "state": {
       "description_width": "",
       "font_size": null,
       "text_color": null
      }
     },
     "52354078b055401cb60f3b3e61f96948": {
      "model_module": "@jupyter-widgets/base",
      "model_module_version": "2.0.0",
      "model_name": "LayoutModel",
      "state": {
       "width": "70px"
      }
     },
     "5238d24c7c6a4e19b2b5a5197dc5fc0a": {
      "model_module": "@jupyter-widgets/controls",
      "model_module_version": "2.0.0",
      "model_name": "ButtonModel",
      "state": {
       "icon": "close",
       "layout": "IPY_MODEL_9f10cfe081994c8ebcc1b3a06c4d45ad",
       "style": "IPY_MODEL_6cbb76a2059e4f58939c810a4dd9a567",
       "tooltip": null
      }
     },
     "528e7cc8c5304efbb13f99999e19430a": {
      "model_module": "@jupyter-widgets/base",
      "model_module_version": "2.0.0",
      "model_name": "LayoutModel",
      "state": {
       "width": "70px"
      }
     },
     "52966b4303bd4bb9a1a908a9d818e827": {
      "model_module": "@jupyter-widgets/controls",
      "model_module_version": "2.0.0",
      "model_name": "HTMLModel",
      "state": {
       "layout": "IPY_MODEL_f2eff5284d3e48e0979929cd88beac5c",
       "style": "IPY_MODEL_40b0bad437f445cba32d9efd263801d1",
       "value": "ibm_nairobi"
      }
     },
     "52c1beff7f1949bc88174fde93ae78aa": {
      "model_module": "@jupyter-widgets/base",
      "model_module_version": "2.0.0",
      "model_name": "LayoutModel",
      "state": {
       "width": "95px"
      }
     },
     "5314deb241874cea8d411b9018502699": {
      "model_module": "@jupyter-widgets/base",
      "model_module_version": "2.0.0",
      "model_name": "LayoutModel",
      "state": {
       "width": "190px"
      }
     },
     "531e551369394e70b7356fe105ea771a": {
      "model_module": "@jupyter-widgets/controls",
      "model_module_version": "2.0.0",
      "model_name": "HTMLModel",
      "state": {
       "layout": "IPY_MODEL_a852253e509d46839f6a8c018d07066b",
       "style": "IPY_MODEL_ad3b08332fac4c47a9cc050413e59f17",
       "value": "cmddta9zjkb0008m24w0"
      }
     },
     "532dff2450dd489281723c6d25157d48": {
      "model_module": "@jupyter-widgets/controls",
      "model_module_version": "2.0.0",
      "model_name": "HTMLStyleModel",
      "state": {
       "description_width": "",
       "font_size": null,
       "text_color": null
      }
     },
     "53b905364e1740bf9399f3ae2708477c": {
      "model_module": "@jupyter-widgets/controls",
      "model_module_version": "2.0.0",
      "model_name": "HTMLModel",
      "state": {
       "layout": "IPY_MODEL_ed06ce312b0340b5896cac8c8706b431",
       "style": "IPY_MODEL_4be2ecb32d6b40a8b6136478d00d4d6e",
       "value": "-"
      }
     },
     "53da2f2fb8fa42c08cffeba7e04350c5": {
      "model_module": "@jupyter-widgets/controls",
      "model_module_version": "2.0.0",
      "model_name": "HTMLModel",
      "state": {
       "layout": "IPY_MODEL_12860390800943098acb3b042abd3325",
       "style": "IPY_MODEL_89183aac239b40bdbcc28a5c4a65df1d",
       "value": "ibm_nairobi"
      }
     },
     "5475fc5314cb44a18b785c2d86865a20": {
      "model_module": "@jupyter-widgets/base",
      "model_module_version": "2.0.0",
      "model_name": "LayoutModel",
      "state": {
       "width": "70px"
      }
     },
     "5495fca7b6344698bf50a1ab478b1f0e": {
      "model_module": "@jupyter-widgets/base",
      "model_module_version": "2.0.0",
      "model_name": "LayoutModel",
      "state": {}
     },
     "54ddf580a0584896a7c2ccee960f474b": {
      "model_module": "@jupyter-widgets/controls",
      "model_module_version": "2.0.0",
      "model_name": "HTMLStyleModel",
      "state": {
       "description_width": "",
       "font_size": null,
       "text_color": null
      }
     },
     "55789445f1054ef890db78289d7512a5": {
      "model_module": "@jupyter-widgets/base",
      "model_module_version": "2.0.0",
      "model_name": "LayoutModel",
      "state": {}
     },
     "55825f21e6f3456cbb43ad84b588323a": {
      "model_module": "@jupyter-widgets/base",
      "model_module_version": "2.0.0",
      "model_name": "LayoutModel",
      "state": {
       "grid_template_areas": "\n                                       \". . . . right \"\n                                        ",
       "grid_template_columns": "20% 20% 20% 20% 20%",
       "width": "100%"
      }
     },
     "55ac9f49c20e46588c22b58760fa2b9e": {
      "model_module": "@jupyter-widgets/controls",
      "model_module_version": "2.0.0",
      "model_name": "HTMLModel",
      "state": {
       "layout": "IPY_MODEL_e381ec4584d54bebba5c794cd4f9671f",
       "style": "IPY_MODEL_ecfbc19eeb3d4dfd9a1b0f551b5ee8f2",
       "value": "-"
      }
     },
     "55f7dc24a43e4f03bc6b37c2fb283c39": {
      "model_module": "@jupyter-widgets/controls",
      "model_module_version": "2.0.0",
      "model_name": "HTMLStyleModel",
      "state": {
       "description_width": "",
       "font_size": null,
       "text_color": null
      }
     },
     "55f81653e6b84500a3ef9f6d152c58e6": {
      "model_module": "@jupyter-widgets/controls",
      "model_module_version": "2.0.0",
      "model_name": "HTMLStyleModel",
      "state": {
       "description_width": "",
       "font_size": null,
       "text_color": null
      }
     },
     "56168dbbeae04c2fafe43e9beffc4241": {
      "model_module": "@jupyter-widgets/controls",
      "model_module_version": "2.0.0",
      "model_name": "HTMLModel",
      "state": {
       "layout": "IPY_MODEL_573bdfab22f14719b09cd5a62446c1b5",
       "style": "IPY_MODEL_99b80dc12bd34b38b9de8a44dab5f696",
       "value": "job has successfully run"
      }
     },
     "561c033518cf48658af6846db733fc62": {
      "model_module": "@jupyter-widgets/base",
      "model_module_version": "2.0.0",
      "model_name": "LayoutModel",
      "state": {
       "width": "70px"
      }
     },
     "562d6db1012345fab685e105cb34cd19": {
      "model_module": "@jupyter-widgets/controls",
      "model_module_version": "2.0.0",
      "model_name": "HTMLModel",
      "state": {
       "layout": "IPY_MODEL_d7983ac4765345bcaf9e7906d1326c2d",
       "style": "IPY_MODEL_a1a6e112b9444852b19c5ccdee08167a",
       "value": "cmde5cdwq3k0008sz1e0"
      }
     },
     "56379b66e8cc424eb9e22f899d10e4a6": {
      "model_module": "@jupyter-widgets/controls",
      "model_module_version": "2.0.0",
      "model_name": "ButtonModel",
      "state": {
       "icon": "close",
       "layout": "IPY_MODEL_694c666b706240e2baadb488d142844e",
       "style": "IPY_MODEL_048ddc6ffbaf43418c9cadbd0d24d1ff",
       "tooltip": null
      }
     },
     "5658de9bc11143c9b3a4f12ff895f76f": {
      "model_module": "@jupyter-widgets/controls",
      "model_module_version": "2.0.0",
      "model_name": "ButtonStyleModel",
      "state": {
       "button_color": "white",
       "font_family": null,
       "font_size": null,
       "font_style": null,
       "font_variant": null,
       "font_weight": null,
       "text_color": null,
       "text_decoration": null
      }
     },
     "565a5a16059d427cad2ab7338ae2e791": {
      "model_module": "@jupyter-widgets/controls",
      "model_module_version": "2.0.0",
      "model_name": "HTMLStyleModel",
      "state": {
       "description_width": "",
       "font_size": null,
       "text_color": null
      }
     },
     "5672c4276ade41419f14fc09e742ab8c": {
      "model_module": "@jupyter-widgets/controls",
      "model_module_version": "2.0.0",
      "model_name": "ButtonModel",
      "state": {
       "icon": "close",
       "layout": "IPY_MODEL_7a931b61d58a42718d696466214a8a31",
       "style": "IPY_MODEL_f6f0c98822de48f59ac39c32ac0a3895",
       "tooltip": null
      }
     },
     "567c50b417574436bafb1afce7336b91": {
      "model_module": "@jupyter-widgets/base",
      "model_module_version": "2.0.0",
      "model_name": "LayoutModel",
      "state": {
       "width": "145px"
      }
     },
     "567c8367c3644c8bbcdd5ee0dabffa8e": {
      "model_module": "@jupyter-widgets/controls",
      "model_module_version": "2.0.0",
      "model_name": "ButtonModel",
      "state": {
       "icon": "close",
       "layout": "IPY_MODEL_34cc212ed4354295b105172190d88faa",
       "style": "IPY_MODEL_472ebc80453f422fbb478f5c8d7c00d1",
       "tooltip": null
      }
     },
     "5693c73e78f34a57afe3245a67e07d11": {
      "model_module": "@jupyter-widgets/base",
      "model_module_version": "2.0.0",
      "model_name": "LayoutModel",
      "state": {
       "width": "145px"
      }
     },
     "56a90308dd654379b1791dc921201648": {
      "model_module": "@jupyter-widgets/controls",
      "model_module_version": "2.0.0",
      "model_name": "HBoxModel",
      "state": {
       "children": [
        "IPY_MODEL_b0e867446bf74e828712521159dfbfb5",
        "IPY_MODEL_328dcbf1f0ba475c9d621461076a9519",
        "IPY_MODEL_5a55eb95290b46dbb843ef41209b687b",
        "IPY_MODEL_88d787c4608c4bb0a1e75683a9485406",
        "IPY_MODEL_f500559961c646a7a11bfb9af67da187",
        "IPY_MODEL_66e56700139f49b9a99de638ba5e429b"
       ],
       "layout": "IPY_MODEL_ec9510d03876481988ce2fd6345517c3"
      }
     },
     "56d88d2687304fbda1f90a694ebf127b": {
      "model_module": "@jupyter-widgets/base",
      "model_module_version": "2.0.0",
      "model_name": "LayoutModel",
      "state": {
       "max_width": "700px",
       "min_width": "700px"
      }
     },
     "571c800441ed4deca2731bdd53a11696": {
      "model_module": "@jupyter-widgets/controls",
      "model_module_version": "2.0.0",
      "model_name": "HTMLStyleModel",
      "state": {
       "description_width": "",
       "font_size": null,
       "text_color": null
      }
     },
     "572fd45a6ffb4ecb806d81202efa9e8e": {
      "model_module": "@jupyter-widgets/base",
      "model_module_version": "2.0.0",
      "model_name": "LayoutModel",
      "state": {
       "margin": "0px 5px 0px 0px",
       "width": "32px"
      }
     },
     "573bdfab22f14719b09cd5a62446c1b5": {
      "model_module": "@jupyter-widgets/base",
      "model_module_version": "2.0.0",
      "model_name": "LayoutModel",
      "state": {}
     },
     "573d3fd1029a4e6d926e3433e68116a2": {
      "model_module": "@jupyter-widgets/base",
      "model_module_version": "2.0.0",
      "model_name": "LayoutModel",
      "state": {}
     },
     "574700d4cb8d4a38a9a3c8cb0eadaf9b": {
      "model_module": "@jupyter-widgets/controls",
      "model_module_version": "2.0.0",
      "model_name": "ButtonModel",
      "state": {
       "button_style": "primary",
       "description": "Clear",
       "layout": "IPY_MODEL_2fc6af3463cd421e96237a4aa6afb5b0",
       "style": "IPY_MODEL_69a7bd07a92b4882b62ac7b8bc898ff0",
       "tooltip": null
      }
     },
     "578485622fab4697b9c39bfe13ee994d": {
      "model_module": "@jupyter-widgets/controls",
      "model_module_version": "2.0.0",
      "model_name": "HTMLStyleModel",
      "state": {
       "description_width": "",
       "font_size": null,
       "text_color": null
      }
     },
     "5798c11dacfd4b90aba8985f989d5c08": {
      "model_module": "@jupyter-widgets/controls",
      "model_module_version": "2.0.0",
      "model_name": "HTMLStyleModel",
      "state": {
       "description_width": "",
       "font_size": null,
       "text_color": null
      }
     },
     "57be84fd9da64793a0d6a4645340b0cb": {
      "model_module": "@jupyter-widgets/controls",
      "model_module_version": "2.0.0",
      "model_name": "HTMLModel",
      "state": {
       "layout": "IPY_MODEL_dd67ab295841427ab039b8303292dbb2",
       "style": "IPY_MODEL_2b35da9d976740a0980877919441be78",
       "value": "ibm_nairobi"
      }
     },
     "57c64135e59f4953b010b4a5f3f71000": {
      "model_module": "@jupyter-widgets/controls",
      "model_module_version": "2.0.0",
      "model_name": "HTMLStyleModel",
      "state": {
       "description_width": "",
       "font_size": null,
       "text_color": null
      }
     },
     "582f02af93b74613b29dbc00444ce4de": {
      "model_module": "@jupyter-widgets/controls",
      "model_module_version": "2.0.0",
      "model_name": "HTMLStyleModel",
      "state": {
       "description_width": "",
       "font_size": null,
       "text_color": null
      }
     },
     "5890395aa6e44a0bbe78373be675e063": {
      "model_module": "@jupyter-widgets/controls",
      "model_module_version": "2.0.0",
      "model_name": "HTMLStyleModel",
      "state": {
       "description_width": "",
       "font_size": null,
       "text_color": null
      }
     },
     "58de59dd6f3d45b086ee7c2ca4818d98": {
      "model_module": "@jupyter-widgets/controls",
      "model_module_version": "2.0.0",
      "model_name": "ButtonModel",
      "state": {
       "icon": "close",
       "layout": "IPY_MODEL_b52ea7e44ae04dbebf691d58506badc2",
       "style": "IPY_MODEL_b7e6be6ac15c4f889d701f677555f84f",
       "tooltip": null
      }
     },
     "5908b5ba575844fd9bdef5fcd1bae7cb": {
      "model_module": "@jupyter-widgets/controls",
      "model_module_version": "2.0.0",
      "model_name": "HTMLStyleModel",
      "state": {
       "description_width": "",
       "font_size": null,
       "text_color": null
      }
     },
     "5908d947dab2424fb5ac8a657fd8f6fe": {
      "model_module": "@jupyter-widgets/base",
      "model_module_version": "2.0.0",
      "model_name": "LayoutModel",
      "state": {
       "width": "95px"
      }
     },
     "593f6f3b07be44839f0251d904854bc0": {
      "model_module": "@jupyter-widgets/base",
      "model_module_version": "2.0.0",
      "model_name": "LayoutModel",
      "state": {
       "max_width": "700px",
       "min_width": "700px"
      }
     },
     "59c6edeec6654e60b7c2e3cef68c070b": {
      "model_module": "@jupyter-widgets/base",
      "model_module_version": "2.0.0",
      "model_name": "LayoutModel",
      "state": {
       "max_width": "700px",
       "min_width": "700px"
      }
     },
     "59cb57acf8fe4252988f581b10831ac3": {
      "model_module": "@jupyter-widgets/controls",
      "model_module_version": "2.0.0",
      "model_name": "HTMLModel",
      "state": {
       "layout": "IPY_MODEL_64ec48adeb2a4a9b8190a4b5e319a77b",
       "style": "IPY_MODEL_0e2778fc111841039546d63b25753e61",
       "value": "ibm_nairobi"
      }
     },
     "59fded84b5104756820bfac95a3266dd": {
      "model_module": "@jupyter-widgets/controls",
      "model_module_version": "2.0.0",
      "model_name": "HTMLModel",
      "state": {
       "layout": "IPY_MODEL_753be93dd53849afbf602fb7e5c5fa07",
       "style": "IPY_MODEL_735a7ff7affd4bcd9b5f6f6ed0c1ea0a",
       "value": "<font style='color:#34BC6E'>DONE</font>"
      }
     },
     "5a0da25b9a1943a08cf9bcb8f5be3c21": {
      "model_module": "@jupyter-widgets/controls",
      "model_module_version": "2.0.0",
      "model_name": "HTMLModel",
      "state": {
       "layout": "IPY_MODEL_5ea55268abe649c59ef4e8a3acb68099",
       "style": "IPY_MODEL_1c353fd20485444caa7936f4675c57c1",
       "value": "job has successfully run"
      }
     },
     "5a132ab5bb2f4a539fe34666f9b74940": {
      "model_module": "@jupyter-widgets/controls",
      "model_module_version": "2.0.0",
      "model_name": "HTMLStyleModel",
      "state": {
       "description_width": "",
       "font_size": null,
       "text_color": null
      }
     },
     "5a4813992964463ea57ccac2c02f1cab": {
      "model_module": "@jupyter-widgets/base",
      "model_module_version": "2.0.0",
      "model_name": "LayoutModel",
      "state": {}
     },
     "5a55eb95290b46dbb843ef41209b687b": {
      "model_module": "@jupyter-widgets/controls",
      "model_module_version": "2.0.0",
      "model_name": "HTMLModel",
      "state": {
       "layout": "IPY_MODEL_a12b487956934c8e8f3e23466bc14352",
       "style": "IPY_MODEL_017879b8f5ac4853a59064b5a76da83d",
       "value": "ibm_nairobi"
      }
     },
     "5a9448ffd2b443e598de734e83aa2329": {
      "model_module": "@jupyter-widgets/controls",
      "model_module_version": "2.0.0",
      "model_name": "HTMLStyleModel",
      "state": {
       "description_width": "",
       "font_size": null,
       "text_color": null
      }
     },
     "5aff2c4ef303453d890725841ccf90dd": {
      "model_module": "@jupyter-widgets/controls",
      "model_module_version": "2.0.0",
      "model_name": "HTMLStyleModel",
      "state": {
       "description_width": "",
       "font_size": null,
       "text_color": null
      }
     },
     "5b1feabd50b44e17984b93fe8bd1113e": {
      "model_module": "@jupyter-widgets/controls",
      "model_module_version": "2.0.0",
      "model_name": "HTMLModel",
      "state": {
       "layout": "IPY_MODEL_c37661a3ac174194996a7146264cf30e",
       "style": "IPY_MODEL_88cb4c0558f04461b978efdd9831bb92",
       "value": "<font style='color:#34BC6E'>DONE</font>"
      }
     },
     "5b5fb5e44ed14b70869e4b48d43a10dc": {
      "model_module": "@jupyter-widgets/base",
      "model_module_version": "2.0.0",
      "model_name": "LayoutModel",
      "state": {}
     },
     "5b784d53e54c4e29b806deb8b4866bf3": {
      "model_module": "@jupyter-widgets/controls",
      "model_module_version": "2.0.0",
      "model_name": "HBoxModel",
      "state": {
       "children": [
        "IPY_MODEL_33d518f089fb4c91b8ec503067db0703",
        "IPY_MODEL_bec17afba6524719bed239a316e20422",
        "IPY_MODEL_53da2f2fb8fa42c08cffeba7e04350c5",
        "IPY_MODEL_ede49072b49a43ebaabd84b662af75e9",
        "IPY_MODEL_359ec05565334641842620dd94d66b52",
        "IPY_MODEL_a3b6c459f6484c8e8fba5ed9db85634f"
       ],
       "layout": "IPY_MODEL_50555da4fcc34c6cb6f61542d127851e"
      }
     },
     "5b94d32d7dfb48a48827c6aa551eb4f7": {
      "model_module": "@jupyter-widgets/controls",
      "model_module_version": "2.0.0",
      "model_name": "HTMLModel",
      "state": {
       "layout": "IPY_MODEL_bb2e2ad1b529403e975bcfc59d7ca93b",
       "style": "IPY_MODEL_62e152fbfc0c4ceb9cef59834cbac5cf",
       "value": "ibm_nairobi"
      }
     },
     "5bb2c242d98b4aaaa03448175b9aa325": {
      "model_module": "@jupyter-widgets/controls",
      "model_module_version": "2.0.0",
      "model_name": "HTMLModel",
      "state": {
       "layout": "IPY_MODEL_3f9d1803abe04fb5ad6a33e0240c4536",
       "style": "IPY_MODEL_7feb13aa5da84acea63d33795272ac04",
       "value": "-"
      }
     },
     "5bc7579da9194e7c9bb13458045e0acd": {
      "model_module": "@jupyter-widgets/base",
      "model_module_version": "2.0.0",
      "model_name": "LayoutModel",
      "state": {
       "width": "190px"
      }
     },
     "5c28518a9fe0414fbe80bd1e2a31c12a": {
      "model_module": "@jupyter-widgets/base",
      "model_module_version": "2.0.0",
      "model_name": "LayoutModel",
      "state": {
       "margin": "0px 5px 0px 0px",
       "width": "32px"
      }
     },
     "5cbcefbe0df04566a85b2d0facbe5f47": {
      "model_module": "@jupyter-widgets/controls",
      "model_module_version": "2.0.0",
      "model_name": "HTMLStyleModel",
      "state": {
       "description_width": "",
       "font_size": null,
       "text_color": null
      }
     },
     "5d71f58640134fa2b40394250ca0e462": {
      "model_module": "@jupyter-widgets/controls",
      "model_module_version": "2.0.0",
      "model_name": "ButtonStyleModel",
      "state": {
       "button_color": "white",
       "font_family": null,
       "font_size": null,
       "font_style": null,
       "font_variant": null,
       "font_weight": null,
       "text_color": null,
       "text_decoration": null
      }
     },
     "5d770b1275504217a1458b378563c08d": {
      "model_module": "@jupyter-widgets/base",
      "model_module_version": "2.0.0",
      "model_name": "LayoutModel",
      "state": {}
     },
     "5d7f701261ad4597aff80d00c13ff4b0": {
      "model_module": "@jupyter-widgets/base",
      "model_module_version": "2.0.0",
      "model_name": "LayoutModel",
      "state": {
       "margin": "0px 5px 0px 0px",
       "width": "32px"
      }
     },
     "5d85eb5ec1aa4dbca975503e2bd4c147": {
      "model_module": "@jupyter-widgets/base",
      "model_module_version": "2.0.0",
      "model_name": "LayoutModel",
      "state": {
       "margin": "0px 5px 0px 0px",
       "width": "32px"
      }
     },
     "5e3591cc515b405d9d5a08bbdfab2504": {
      "model_module": "@jupyter-widgets/base",
      "model_module_version": "2.0.0",
      "model_name": "LayoutModel",
      "state": {
       "margin": "0px 0px 10px 0px"
      }
     },
     "5ea55268abe649c59ef4e8a3acb68099": {
      "model_module": "@jupyter-widgets/base",
      "model_module_version": "2.0.0",
      "model_name": "LayoutModel",
      "state": {}
     },
     "5ef40683346945e98dec76ed5f752c92": {
      "model_module": "@jupyter-widgets/controls",
      "model_module_version": "2.0.0",
      "model_name": "ButtonModel",
      "state": {
       "icon": "close",
       "layout": "IPY_MODEL_6606ba047fe24b9e835c843628b25925",
       "style": "IPY_MODEL_a2d9743ae8964bb5a26fc3dac9336f54",
       "tooltip": null
      }
     },
     "5ef40e54a70b48f99d10de976e52e5b6": {
      "model_module": "@jupyter-widgets/controls",
      "model_module_version": "2.0.0",
      "model_name": "HBoxModel",
      "state": {
       "children": [
        "IPY_MODEL_1642f019ab50486297d0e935c7a4511d",
        "IPY_MODEL_9c6b4c66ccaf40a48f0ff2a8abec73e7",
        "IPY_MODEL_0427d288ef054f90af301fbd68e596e0",
        "IPY_MODEL_9091a8b789cc480bb16a4c749ae7ea1c",
        "IPY_MODEL_26fe34667db54c6ab6171578f3ab3843",
        "IPY_MODEL_f401e6fb3b23460a90e09cc3bf275857"
       ],
       "layout": "IPY_MODEL_858f9d08d9244d9381ebb950a2458a93"
      }
     },
     "5f0f2029608b423a98a0c8f723b5de46": {
      "model_module": "@jupyter-widgets/base",
      "model_module_version": "2.0.0",
      "model_name": "LayoutModel",
      "state": {
       "margin": "0px 5px 0px 0px",
       "width": "32px"
      }
     },
     "5f284ee50dd348f68cc8a57c15345dbc": {
      "model_module": "@jupyter-widgets/controls",
      "model_module_version": "2.0.0",
      "model_name": "HTMLStyleModel",
      "state": {
       "description_width": "",
       "font_size": null,
       "text_color": null
      }
     },
     "5f3db0b69339446390dc8f540e9df7ea": {
      "model_module": "@jupyter-widgets/base",
      "model_module_version": "2.0.0",
      "model_name": "LayoutModel",
      "state": {
       "width": "70px"
      }
     },
     "5f3e301a63cd4a9c802606d7ae682bed": {
      "model_module": "@jupyter-widgets/base",
      "model_module_version": "2.0.0",
      "model_name": "LayoutModel",
      "state": {
       "max_width": "700px",
       "min_width": "700px"
      }
     },
     "5fff4802f95f4111941318eb2cc405b6": {
      "model_module": "@jupyter-widgets/base",
      "model_module_version": "2.0.0",
      "model_name": "LayoutModel",
      "state": {
       "width": "190px"
      }
     },
     "600fc4a00b604f03b41534d835d2a9e8": {
      "model_module": "@jupyter-widgets/controls",
      "model_module_version": "2.0.0",
      "model_name": "HTMLStyleModel",
      "state": {
       "description_width": "",
       "font_size": null,
       "text_color": null
      }
     },
     "602e52fdea9e49f49569450714a63503": {
      "model_module": "@jupyter-widgets/base",
      "model_module_version": "2.0.0",
      "model_name": "LayoutModel",
      "state": {
       "margin": "0px 5px 0px 0px",
       "width": "32px"
      }
     },
     "6064865c5f344c9d908084a78f28f4ae": {
      "model_module": "@jupyter-widgets/base",
      "model_module_version": "2.0.0",
      "model_name": "LayoutModel",
      "state": {
       "width": "190px"
      }
     },
     "6085d0d035c14ae6aa6d0fa94bdc1b19": {
      "model_module": "@jupyter-widgets/controls",
      "model_module_version": "2.0.0",
      "model_name": "HTMLStyleModel",
      "state": {
       "description_width": "",
       "font_size": null,
       "text_color": null
      }
     },
     "609afdab1109489593480898941dfb8b": {
      "model_module": "@jupyter-widgets/controls",
      "model_module_version": "2.0.0",
      "model_name": "HTMLModel",
      "state": {
       "layout": "IPY_MODEL_5908d947dab2424fb5ac8a657fd8f6fe",
       "style": "IPY_MODEL_18b5f746fed0453697e54604c0d16f72",
       "value": "<font style='color:#34BC6E'>DONE</font>"
      }
     },
     "60ee131209b2446bbfc399647a8b07a2": {
      "model_module": "@jupyter-widgets/controls",
      "model_module_version": "2.0.0",
      "model_name": "HTMLModel",
      "state": {
       "layout": "IPY_MODEL_c5472c7692f44a0fb4a204a1b56e1271",
       "style": "IPY_MODEL_bd6bdcab73114b2f90afaad53fe3387b",
       "value": "job has successfully run"
      }
     },
     "61305dc57e2241c5b71961c418efbfcc": {
      "model_module": "@jupyter-widgets/base",
      "model_module_version": "2.0.0",
      "model_name": "LayoutModel",
      "state": {
       "width": "145px"
      }
     },
     "61cab0b31fa7495794a121b111ba6e3e": {
      "model_module": "@jupyter-widgets/base",
      "model_module_version": "2.0.0",
      "model_name": "LayoutModel",
      "state": {}
     },
     "61d5513e865b48b18ca33a99975c4197": {
      "model_module": "@jupyter-widgets/controls",
      "model_module_version": "2.0.0",
      "model_name": "HTMLStyleModel",
      "state": {
       "description_width": "",
       "font_size": null,
       "text_color": null
      }
     },
     "624b4eaefe2443ceb45d3d764f338015": {
      "model_module": "@jupyter-widgets/controls",
      "model_module_version": "2.0.0",
      "model_name": "HTMLStyleModel",
      "state": {
       "description_width": "",
       "font_size": null,
       "text_color": null
      }
     },
     "62792f8215c248af97493e1667bb437b": {
      "model_module": "@jupyter-widgets/base",
      "model_module_version": "2.0.0",
      "model_name": "LayoutModel",
      "state": {
       "width": "145px"
      }
     },
     "62e152fbfc0c4ceb9cef59834cbac5cf": {
      "model_module": "@jupyter-widgets/controls",
      "model_module_version": "2.0.0",
      "model_name": "HTMLStyleModel",
      "state": {
       "description_width": "",
       "font_size": null,
       "text_color": null
      }
     },
     "633f1230d0f64b24a4da6a5b31d15db3": {
      "model_module": "@jupyter-widgets/controls",
      "model_module_version": "2.0.0",
      "model_name": "ButtonStyleModel",
      "state": {
       "button_color": "white",
       "font_family": null,
       "font_size": null,
       "font_style": null,
       "font_variant": null,
       "font_weight": null,
       "text_color": null,
       "text_decoration": null
      }
     },
     "639387513a02455da6cf3fcaa5f4e3df": {
      "model_module": "@jupyter-widgets/base",
      "model_module_version": "2.0.0",
      "model_name": "LayoutModel",
      "state": {
       "width": "70px"
      }
     },
     "63b322f7efdc4b38969ffb1d5a81c32d": {
      "model_module": "@jupyter-widgets/controls",
      "model_module_version": "2.0.0",
      "model_name": "ButtonStyleModel",
      "state": {
       "button_color": "white",
       "font_family": null,
       "font_size": null,
       "font_style": null,
       "font_variant": null,
       "font_weight": null,
       "text_color": null,
       "text_decoration": null
      }
     },
     "64096b8db2474f43b15b23fdafe70fa3": {
      "model_module": "@jupyter-widgets/controls",
      "model_module_version": "2.0.0",
      "model_name": "HTMLStyleModel",
      "state": {
       "description_width": "",
       "font_size": null,
       "text_color": null
      }
     },
     "644a0f072a4f467ca822200b0782196d": {
      "model_module": "@jupyter-widgets/controls",
      "model_module_version": "2.0.0",
      "model_name": "HTMLModel",
      "state": {
       "layout": "IPY_MODEL_a6e625c1c82a45d6828e2d5822032abf",
       "style": "IPY_MODEL_fd0dc42fc4ff4777afe3c157df568cb2",
       "value": "cmde3yf4z12g008ncby0"
      }
     },
     "645f0879ad764511b58b17b3a124023d": {
      "model_module": "@jupyter-widgets/base",
      "model_module_version": "2.0.0",
      "model_name": "LayoutModel",
      "state": {
       "width": "70px"
      }
     },
     "64af35cafa664442bd26279a7cc65c6d": {
      "model_module": "@jupyter-widgets/base",
      "model_module_version": "2.0.0",
      "model_name": "LayoutModel",
      "state": {}
     },
     "64ec48adeb2a4a9b8190a4b5e319a77b": {
      "model_module": "@jupyter-widgets/base",
      "model_module_version": "2.0.0",
      "model_name": "LayoutModel",
      "state": {
       "width": "145px"
      }
     },
     "6533406baaeb4d438dd614dbd48a60cd": {
      "model_module": "@jupyter-widgets/base",
      "model_module_version": "2.0.0",
      "model_name": "LayoutModel",
      "state": {
       "margin": "0px 5px 0px 0px",
       "width": "32px"
      }
     },
     "653c5e26f44346028aa3c61db435e25e": {
      "model_module": "@jupyter-widgets/controls",
      "model_module_version": "2.0.0",
      "model_name": "HTMLStyleModel",
      "state": {
       "description_width": "",
       "font_size": null,
       "text_color": null
      }
     },
     "657c9dc534ea4f2bb0f79130f5b613fd": {
      "model_module": "@jupyter-widgets/base",
      "model_module_version": "2.0.0",
      "model_name": "LayoutModel",
      "state": {
       "width": "95px"
      }
     },
     "658034193dde4b3f8e913da2edac9f2c": {
      "model_module": "@jupyter-widgets/base",
      "model_module_version": "2.0.0",
      "model_name": "LayoutModel",
      "state": {}
     },
     "65b058356ddc4f79a4657912ba45dd14": {
      "model_module": "@jupyter-widgets/controls",
      "model_module_version": "2.0.0",
      "model_name": "HTMLModel",
      "state": {
       "layout": "IPY_MODEL_4f9069476e484c8fb4bf5f2f61ad6264",
       "style": "IPY_MODEL_3b6c2f3a60fa44048721288158c8745a",
       "value": "job has successfully run"
      }
     },
     "6606ba047fe24b9e835c843628b25925": {
      "model_module": "@jupyter-widgets/base",
      "model_module_version": "2.0.0",
      "model_name": "LayoutModel",
      "state": {
       "margin": "0px 5px 0px 0px",
       "width": "32px"
      }
     },
     "66158819ebbc44a58d6216f830c6f86e": {
      "model_module": "@jupyter-widgets/controls",
      "model_module_version": "2.0.0",
      "model_name": "HTMLModel",
      "state": {
       "layout": "IPY_MODEL_bdecbc12b6c847d38f4de136ab822ead",
       "style": "IPY_MODEL_b16e5a97834b4185832c03c772114f61",
       "value": "cmde4kty4c00008hxpb0"
      }
     },
     "6615976757eb4eeebdb5529078e6f701": {
      "model_module": "@jupyter-widgets/controls",
      "model_module_version": "2.0.0",
      "model_name": "HTMLStyleModel",
      "state": {
       "description_width": "",
       "font_size": null,
       "text_color": null
      }
     },
     "66391c3eef8148c096c84ef2ee5c55de": {
      "model_module": "@jupyter-widgets/base",
      "model_module_version": "2.0.0",
      "model_name": "LayoutModel",
      "state": {
       "width": "70px"
      }
     },
     "6649448d822f4aabb18c7ba070b86c73": {
      "model_module": "@jupyter-widgets/controls",
      "model_module_version": "2.0.0",
      "model_name": "HTMLStyleModel",
      "state": {
       "description_width": "",
       "font_size": null,
       "text_color": null
      }
     },
     "6670fdd68b1a442fab2933dd1ebfd84f": {
      "model_module": "@jupyter-widgets/controls",
      "model_module_version": "2.0.0",
      "model_name": "HTMLStyleModel",
      "state": {
       "description_width": "",
       "font_size": null,
       "text_color": null
      }
     },
     "66941a8f88e843b1846080bd50e34181": {
      "model_module": "@jupyter-widgets/base",
      "model_module_version": "2.0.0",
      "model_name": "LayoutModel",
      "state": {
       "width": "95px"
      }
     },
     "66e56700139f49b9a99de638ba5e429b": {
      "model_module": "@jupyter-widgets/controls",
      "model_module_version": "2.0.0",
      "model_name": "HTMLModel",
      "state": {
       "layout": "IPY_MODEL_f73783e0b40c4188a22d5099f07cba5f",
       "style": "IPY_MODEL_8de5b69120714d68b7a48ab1546c2d3b",
       "value": "job has successfully run"
      }
     },
     "671f35ef1aee4c81a2cb1b5677f8512b": {
      "model_module": "@jupyter-widgets/controls",
      "model_module_version": "2.0.0",
      "model_name": "HTMLStyleModel",
      "state": {
       "description_width": "",
       "font_size": null,
       "text_color": null
      }
     },
     "67d6cfd31fb942bfb30eeff61e219114": {
      "model_module": "@jupyter-widgets/controls",
      "model_module_version": "2.0.0",
      "model_name": "ButtonModel",
      "state": {
       "icon": "close",
       "layout": "IPY_MODEL_2fd14c087cb841149932a31d74452f42",
       "style": "IPY_MODEL_2f5c9eacd1fb413b9c10a31dafcef8fa",
       "tooltip": null
      }
     },
     "680ece3455484cb394a77ef01c6a65d2": {
      "model_module": "@jupyter-widgets/controls",
      "model_module_version": "2.0.0",
      "model_name": "HTMLModel",
      "state": {
       "layout": "IPY_MODEL_17accd8652d04e6da7b5248fb8c27f03",
       "style": "IPY_MODEL_20bb8a5e32f34f9899656825f7880031",
       "value": "ibm_nairobi"
      }
     },
     "68450bb908f54fd4b74997474c34ab06": {
      "model_module": "@jupyter-widgets/controls",
      "model_module_version": "2.0.0",
      "model_name": "ButtonModel",
      "state": {
       "icon": "close",
       "layout": "IPY_MODEL_ee0cfa4bd0c246318862fed0f0d4b440",
       "style": "IPY_MODEL_795ccb68732c4b6ea8062db98e2013e5",
       "tooltip": null
      }
     },
     "684da5817bb04c4a82dbf05f6868369f": {
      "model_module": "@jupyter-widgets/base",
      "model_module_version": "2.0.0",
      "model_name": "LayoutModel",
      "state": {
       "max_width": "700px",
       "min_width": "700px"
      }
     },
     "6881c731ab584266bab86e517aab7f84": {
      "model_module": "@jupyter-widgets/base",
      "model_module_version": "2.0.0",
      "model_name": "LayoutModel",
      "state": {
       "margin": "0px 5px 0px 0px",
       "width": "32px"
      }
     },
     "68a164c813af4b6b87eafb054424e782": {
      "model_module": "@jupyter-widgets/controls",
      "model_module_version": "2.0.0",
      "model_name": "HTMLModel",
      "state": {
       "layout": "IPY_MODEL_33c3b76bdea14806ae649da1901b2f0f",
       "style": "IPY_MODEL_d06a09f5703c4060998cd4fa50c0f22d",
       "value": "cmde1yfzjkb0008m25e0"
      }
     },
     "68a4393c834248d190e7ab7bae85c426": {
      "model_module": "@jupyter-widgets/controls",
      "model_module_version": "2.0.0",
      "model_name": "HTMLStyleModel",
      "state": {
       "description_width": "",
       "font_size": null,
       "text_color": null
      }
     },
     "68dd5a4f55ef4b5fb46e928f314a25d6": {
      "model_module": "@jupyter-widgets/controls",
      "model_module_version": "2.0.0",
      "model_name": "HTMLStyleModel",
      "state": {
       "description_width": "",
       "font_size": null,
       "text_color": null
      }
     },
     "6913821d9f2547c296eb4977d9fa77ea": {
      "model_module": "@jupyter-widgets/controls",
      "model_module_version": "2.0.0",
      "model_name": "HTMLModel",
      "state": {
       "layout": "IPY_MODEL_e1dbf9c82d19460290dbd5e1fb42e981",
       "style": "IPY_MODEL_11662e94bc4945b688293362871dc25f",
       "value": "<font style='color:#34BC6E'>DONE</font>"
      }
     },
     "694c666b706240e2baadb488d142844e": {
      "model_module": "@jupyter-widgets/base",
      "model_module_version": "2.0.0",
      "model_name": "LayoutModel",
      "state": {
       "margin": "0px 5px 0px 0px",
       "width": "32px"
      }
     },
     "69a7bd07a92b4882b62ac7b8bc898ff0": {
      "model_module": "@jupyter-widgets/controls",
      "model_module_version": "2.0.0",
      "model_name": "ButtonStyleModel",
      "state": {
       "font_family": null,
       "font_size": null,
       "font_style": null,
       "font_variant": null,
       "font_weight": null,
       "text_color": null,
       "text_decoration": null
      }
     },
     "69f165a7883f4e5181e73ddf02e2339c": {
      "model_module": "@jupyter-widgets/controls",
      "model_module_version": "2.0.0",
      "model_name": "HTMLStyleModel",
      "state": {
       "description_width": "",
       "font_size": null,
       "text_color": null
      }
     },
     "6a1aba7c51ab4bacac0b3da674c085e1": {
      "model_module": "@jupyter-widgets/controls",
      "model_module_version": "2.0.0",
      "model_name": "HTMLStyleModel",
      "state": {
       "description_width": "",
       "font_size": null,
       "text_color": null
      }
     },
     "6a64de2f12fe4bcc8cc7cd16aae3b419": {
      "model_module": "@jupyter-widgets/controls",
      "model_module_version": "2.0.0",
      "model_name": "HTMLModel",
      "state": {
       "layout": "IPY_MODEL_3017bd9fffb540f79d5a5e97fd449213",
       "style": "IPY_MODEL_f99ca64160b049f4b45e63016e9a0cfa",
       "value": "cmde4q2wcht0008yajt0"
      }
     },
     "6aac0174d8eb48d9b282d2428b01f428": {
      "model_module": "@jupyter-widgets/base",
      "model_module_version": "2.0.0",
      "model_name": "LayoutModel",
      "state": {
       "width": "70px"
      }
     },
     "6aba768d73144a1689c865ea7efab8c0": {
      "model_module": "@jupyter-widgets/controls",
      "model_module_version": "2.0.0",
      "model_name": "HTMLModel",
      "state": {
       "layout": "IPY_MODEL_bb85ba18c5974aa2a99649b0eeb9666d",
       "style": "IPY_MODEL_5a132ab5bb2f4a539fe34666f9b74940",
       "value": "ibm_nairobi"
      }
     },
     "6b0f5c3736434f55bc197733828a92e2": {
      "model_module": "@jupyter-widgets/controls",
      "model_module_version": "2.0.0",
      "model_name": "HTMLModel",
      "state": {
       "layout": "IPY_MODEL_567c50b417574436bafb1afce7336b91",
       "style": "IPY_MODEL_deea5673c8384b279b12093fb2b7a361",
       "value": "ibm_nairobi"
      }
     },
     "6b1494387f6e42679be4ca273d076f7c": {
      "model_module": "@jupyter-widgets/base",
      "model_module_version": "2.0.0",
      "model_name": "LayoutModel",
      "state": {
       "width": "70px"
      }
     },
     "6b2bf07a30f040cc9d60b4a912cfeba9": {
      "model_module": "@jupyter-widgets/controls",
      "model_module_version": "2.0.0",
      "model_name": "HTMLStyleModel",
      "state": {
       "description_width": "",
       "font_size": null,
       "text_color": null
      }
     },
     "6b5ec15969794b4c9bda33294a525a51": {
      "model_module": "@jupyter-widgets/controls",
      "model_module_version": "2.0.0",
      "model_name": "HTMLModel",
      "state": {
       "layout": "IPY_MODEL_ec71f819c3df4158a0e897a2a9e8eaf6",
       "style": "IPY_MODEL_b834aaf559bf46d48dc6d0372fe095b6",
       "value": "<font style='color:#34BC6E'>DONE</font>"
      }
     },
     "6b68b88c294143379b7611f452d08518": {
      "model_module": "@jupyter-widgets/base",
      "model_module_version": "2.0.0",
      "model_name": "LayoutModel",
      "state": {
       "width": "95px"
      }
     },
     "6b9214ce06b0406eb6476de6cba3612c": {
      "model_module": "@jupyter-widgets/controls",
      "model_module_version": "2.0.0",
      "model_name": "HTMLStyleModel",
      "state": {
       "description_width": "",
       "font_size": null,
       "text_color": null
      }
     },
     "6bb2434eb6814b6fbd94ddcb35e3455c": {
      "model_module": "@jupyter-widgets/controls",
      "model_module_version": "2.0.0",
      "model_name": "HTMLStyleModel",
      "state": {
       "description_width": "",
       "font_size": null,
       "text_color": null
      }
     },
     "6bc6d41792fb413eb95ff0bbd88f567f": {
      "model_module": "@jupyter-widgets/controls",
      "model_module_version": "2.0.0",
      "model_name": "HTMLStyleModel",
      "state": {
       "description_width": "",
       "font_size": null,
       "text_color": null
      }
     },
     "6be6f5d36d1042cd84f5e2699be96c43": {
      "model_module": "@jupyter-widgets/controls",
      "model_module_version": "2.0.0",
      "model_name": "HTMLStyleModel",
      "state": {
       "description_width": "",
       "font_size": null,
       "text_color": null
      }
     },
     "6c1811490c8b4b529247e2607bc94046": {
      "model_module": "@jupyter-widgets/controls",
      "model_module_version": "2.0.0",
      "model_name": "HTMLModel",
      "state": {
       "layout": "IPY_MODEL_f8020aae34ff4c5689cd64064e850173",
       "style": "IPY_MODEL_57c64135e59f4953b010b4a5f3f71000",
       "value": "<font style='color:#34BC6E'>DONE</font>"
      }
     },
     "6c185e5a6cd14cf1a344acd60a725d10": {
      "model_module": "@jupyter-widgets/controls",
      "model_module_version": "2.0.0",
      "model_name": "HTMLModel",
      "state": {
       "layout": "IPY_MODEL_3d214dc1bbce49c1815ad4f78a8f7bf8",
       "style": "IPY_MODEL_9c7c283004224218b56c38990a8f75a4",
       "value": "<font style='color:#34BC6E'>DONE</font>"
      }
     },
     "6c5a5b4c752549549a8f1ed3890dc122": {
      "model_module": "@jupyter-widgets/controls",
      "model_module_version": "2.0.0",
      "model_name": "HTMLModel",
      "state": {
       "layout": "IPY_MODEL_af9b8e201e074a3c913865942ae03af6",
       "style": "IPY_MODEL_f9e7957ce33e4350841dbeb97c7989a9",
       "value": "cmde0g24z12g008ncbng"
      }
     },
     "6c7adc2a16c443489b024142e662cf71": {
      "model_module": "@jupyter-widgets/controls",
      "model_module_version": "2.0.0",
      "model_name": "HTMLStyleModel",
      "state": {
       "description_width": "",
       "font_size": null,
       "text_color": null
      }
     },
     "6c7cb6a6e20546d08fb9890aa1d098c5": {
      "model_module": "@jupyter-widgets/controls",
      "model_module_version": "2.0.0",
      "model_name": "HBoxModel",
      "state": {
       "children": [
        "IPY_MODEL_d37f375a02ec439392522dcf543c2c9c",
        "IPY_MODEL_6a64de2f12fe4bcc8cc7cd16aae3b419",
        "IPY_MODEL_86c409b7f00c46568f94a785697d8eb1",
        "IPY_MODEL_d4b76a0e8c7e40ce90f14b8506879f46",
        "IPY_MODEL_37c58d42e8084076aacbcd445c4aea87",
        "IPY_MODEL_a598fe3bb1f043f795b214fe9c570549"
       ],
       "layout": "IPY_MODEL_7c4d2409f5504c03af11f248d1169dd7"
      }
     },
     "6cbb76a2059e4f58939c810a4dd9a567": {
      "model_module": "@jupyter-widgets/controls",
      "model_module_version": "2.0.0",
      "model_name": "ButtonStyleModel",
      "state": {
       "button_color": "white",
       "font_family": null,
       "font_size": null,
       "font_style": null,
       "font_variant": null,
       "font_weight": null,
       "text_color": null,
       "text_decoration": null
      }
     },
     "6ce4c8ced11a47e0bd1e18ad4cc0d119": {
      "model_module": "@jupyter-widgets/controls",
      "model_module_version": "2.0.0",
      "model_name": "HBoxModel",
      "state": {
       "children": [
        "IPY_MODEL_a9b4d38820fb4dd98c21d80a4ddc6e0c",
        "IPY_MODEL_fee15f52dd10467187edd854ac5ed62b",
        "IPY_MODEL_680ece3455484cb394a77ef01c6a65d2",
        "IPY_MODEL_900df14797694ff99e33cbc7207db082",
        "IPY_MODEL_2919bc7474cb4d73a24e54dda2826bf0",
        "IPY_MODEL_c7a49828ed314829a0668eaa9b412116"
       ],
       "layout": "IPY_MODEL_75fb31bc08504594b99534af66869140"
      }
     },
     "6d151339c2af475ab2a73cd56dbe9ec8": {
      "model_module": "@jupyter-widgets/base",
      "model_module_version": "2.0.0",
      "model_name": "LayoutModel",
      "state": {
       "width": "145px"
      }
     },
     "6dd1d1ff0d644fc4ba0d1c89b54a41f5": {
      "model_module": "@jupyter-widgets/controls",
      "model_module_version": "2.0.0",
      "model_name": "HTMLStyleModel",
      "state": {
       "description_width": "",
       "font_size": null,
       "text_color": null
      }
     },
     "6e691bdc2ccf45a899f782c138c5c892": {
      "model_module": "@jupyter-widgets/controls",
      "model_module_version": "2.0.0",
      "model_name": "ButtonStyleModel",
      "state": {
       "button_color": "white",
       "font_family": null,
       "font_size": null,
       "font_style": null,
       "font_variant": null,
       "font_weight": null,
       "text_color": null,
       "text_decoration": null
      }
     },
     "6eb6011631bc483294696e6a6ed92307": {
      "model_module": "@jupyter-widgets/base",
      "model_module_version": "2.0.0",
      "model_name": "LayoutModel",
      "state": {
       "width": "70px"
      }
     },
     "6ecb4b593f594e62ac12c0eedfe3fe4c": {
      "model_module": "@jupyter-widgets/base",
      "model_module_version": "2.0.0",
      "model_name": "LayoutModel",
      "state": {
       "width": "190px"
      }
     },
     "6f2387fed50c49589d76ce9021e2e28b": {
      "model_module": "@jupyter-widgets/controls",
      "model_module_version": "2.0.0",
      "model_name": "ButtonStyleModel",
      "state": {
       "button_color": "white",
       "font_family": null,
       "font_size": null,
       "font_style": null,
       "font_variant": null,
       "font_weight": null,
       "text_color": null,
       "text_decoration": null
      }
     },
     "6f2fb0c60fa54279b6243dfe7a4bbac3": {
      "model_module": "@jupyter-widgets/controls",
      "model_module_version": "2.0.0",
      "model_name": "HTMLStyleModel",
      "state": {
       "description_width": "",
       "font_size": null,
       "text_color": null
      }
     },
     "6f3eea82e2814302a5dcee9064b54375": {
      "model_module": "@jupyter-widgets/controls",
      "model_module_version": "2.0.0",
      "model_name": "HTMLModel",
      "state": {
       "layout": "IPY_MODEL_295b780676c8470f9a43e62d8c74a2af",
       "style": "IPY_MODEL_86f812edd06842e9b408111c5f28e70c",
       "value": "ibm_nairobi"
      }
     },
     "6f9ef183eb2e463792f653a7c050297a": {
      "model_module": "@jupyter-widgets/controls",
      "model_module_version": "2.0.0",
      "model_name": "HTMLModel",
      "state": {
       "layout": "IPY_MODEL_c914979bf56b4ca2ab995d2593bfc0f6",
       "style": "IPY_MODEL_aa04c9d4aac941678e0babf5e37d508c",
       "value": "job has successfully run"
      }
     },
     "6fb8dd2726a443e9adf55b5eab1336f7": {
      "model_module": "@jupyter-widgets/base",
      "model_module_version": "2.0.0",
      "model_name": "LayoutModel",
      "state": {
       "width": "95px"
      }
     },
     "702809d804584906badbd53bc14c16ea": {
      "model_module": "@jupyter-widgets/base",
      "model_module_version": "2.0.0",
      "model_name": "LayoutModel",
      "state": {
       "margin": "0px 5px 0px 0px",
       "width": "32px"
      }
     },
     "707cb376b1ad49df95b20fb744feb5d8": {
      "model_module": "@jupyter-widgets/controls",
      "model_module_version": "2.0.0",
      "model_name": "HTMLStyleModel",
      "state": {
       "description_width": "",
       "font_size": null,
       "text_color": null
      }
     },
     "70ca62a8a95b40ccaf48ae379572979b": {
      "model_module": "@jupyter-widgets/base",
      "model_module_version": "2.0.0",
      "model_name": "LayoutModel",
      "state": {
       "width": "190px"
      }
     },
     "70f0d779444e4f13b05e61d48dfb1f86": {
      "model_module": "@jupyter-widgets/base",
      "model_module_version": "2.0.0",
      "model_name": "LayoutModel",
      "state": {}
     },
     "70f68e71fddc4a1090f6664d8b27a946": {
      "model_module": "@jupyter-widgets/controls",
      "model_module_version": "2.0.0",
      "model_name": "HTMLModel",
      "state": {
       "layout": "IPY_MODEL_cc232edece3b4802b1ce8cbbe2776528",
       "style": "IPY_MODEL_4d5eb8b045ed45d08953dc820e492fe5",
       "value": "cmde56mwq3k0008sz1cg"
      }
     },
     "711c26e64545410c89b777b5f7e73419": {
      "model_module": "@jupyter-widgets/controls",
      "model_module_version": "2.0.0",
      "model_name": "HTMLStyleModel",
      "state": {
       "description_width": "",
       "font_size": null,
       "text_color": null
      }
     },
     "7154bb564b35495fbdd45ded2ab55965": {
      "model_module": "@jupyter-widgets/controls",
      "model_module_version": "2.0.0",
      "model_name": "HTMLStyleModel",
      "state": {
       "description_width": "",
       "font_size": null,
       "text_color": null
      }
     },
     "719c239030084382be69f3e04c9b6bca": {
      "model_module": "@jupyter-widgets/base",
      "model_module_version": "2.0.0",
      "model_name": "LayoutModel",
      "state": {
       "width": "145px"
      }
     },
     "71eb0398326a4c06a20db7a86439b9ec": {
      "model_module": "@jupyter-widgets/controls",
      "model_module_version": "2.0.0",
      "model_name": "HTMLModel",
      "state": {
       "layout": "IPY_MODEL_ee70847b79c14945b48d6e0755b0a0e7",
       "style": "IPY_MODEL_3529085d87a54f129ab2572d52b4b38c",
       "value": "-"
      }
     },
     "722b505880744e08aaeb753073852225": {
      "model_module": "@jupyter-widgets/controls",
      "model_module_version": "2.0.0",
      "model_name": "HTMLStyleModel",
      "state": {
       "description_width": "",
       "font_size": null,
       "text_color": null
      }
     },
     "722ce582e73c478881e7d78d39c1f271": {
      "model_module": "@jupyter-widgets/controls",
      "model_module_version": "2.0.0",
      "model_name": "HTMLStyleModel",
      "state": {
       "description_width": "",
       "font_size": null,
       "text_color": null
      }
     },
     "725f72b351cf491aaf4c9ef5c34b5d70": {
      "model_module": "@jupyter-widgets/controls",
      "model_module_version": "2.0.0",
      "model_name": "HTMLStyleModel",
      "state": {
       "description_width": "",
       "font_size": null,
       "text_color": null
      }
     },
     "7285583adb2a41b8adfdafa606ef1e51": {
      "model_module": "@jupyter-widgets/controls",
      "model_module_version": "2.0.0",
      "model_name": "HTMLModel",
      "state": {
       "layout": "IPY_MODEL_c6985b59104449779a2a6a1bf0eb4f54",
       "style": "IPY_MODEL_7e125d32d43046a7ae4f70730b6694f5",
       "value": "ibm_nairobi"
      }
     },
     "72f72dcb736448e2bf3bf0fb75258cb5": {
      "model_module": "@jupyter-widgets/controls",
      "model_module_version": "2.0.0",
      "model_name": "HTMLModel",
      "state": {
       "layout": "IPY_MODEL_c4b71bd16439430c96fda031983bd959",
       "style": "IPY_MODEL_0298863dec6c4bc8b76b2ceb6bfce398",
       "value": "<h5>Backend</h5>"
      }
     },
     "72fa727385a543e7b02a6b0b5c7acb20": {
      "model_module": "@jupyter-widgets/controls",
      "model_module_version": "2.0.0",
      "model_name": "HTMLStyleModel",
      "state": {
       "description_width": "",
       "font_size": null,
       "text_color": null
      }
     },
     "72ff608334f4467a93dcdf09b2b0ce55": {
      "model_module": "@jupyter-widgets/base",
      "model_module_version": "2.0.0",
      "model_name": "LayoutModel",
      "state": {
       "width": "145px"
      }
     },
     "735a7ff7affd4bcd9b5f6f6ed0c1ea0a": {
      "model_module": "@jupyter-widgets/controls",
      "model_module_version": "2.0.0",
      "model_name": "HTMLStyleModel",
      "state": {
       "description_width": "",
       "font_size": null,
       "text_color": null
      }
     },
     "7391cd4ef33f4e84b6883b418319d3ff": {
      "model_module": "@jupyter-widgets/base",
      "model_module_version": "2.0.0",
      "model_name": "LayoutModel",
      "state": {
       "margin": "0px 5px 0px 0px",
       "width": "32px"
      }
     },
     "73a7ecfab63748ab87d1f90770193692": {
      "model_module": "@jupyter-widgets/controls",
      "model_module_version": "2.0.0",
      "model_name": "HTMLStyleModel",
      "state": {
       "description_width": "",
       "font_size": null,
       "text_color": null
      }
     },
     "7415f3f4e9dd448fb0d0d9b7659d94ee": {
      "model_module": "@jupyter-widgets/controls",
      "model_module_version": "2.0.0",
      "model_name": "HTMLModel",
      "state": {
       "layout": "IPY_MODEL_e5262639dd96452ea9671de9416c40bc",
       "style": "IPY_MODEL_23d3beea76f04f4c83dbd1e3c9ae2855",
       "value": "-"
      }
     },
     "74338d4c53794a7196d7d3306de664b5": {
      "model_module": "@jupyter-widgets/controls",
      "model_module_version": "2.0.0",
      "model_name": "HTMLStyleModel",
      "state": {
       "description_width": "",
       "font_size": null,
       "text_color": null
      }
     },
     "746d22e62ad94003a2eea514c846db30": {
      "model_module": "@jupyter-widgets/controls",
      "model_module_version": "2.0.0",
      "model_name": "ButtonStyleModel",
      "state": {
       "button_color": "white",
       "font_family": null,
       "font_size": null,
       "font_style": null,
       "font_variant": null,
       "font_weight": null,
       "text_color": null,
       "text_decoration": null
      }
     },
     "7480a4a4af7f4cddbf252ce541c2589c": {
      "model_module": "@jupyter-widgets/controls",
      "model_module_version": "2.0.0",
      "model_name": "HTMLStyleModel",
      "state": {
       "description_width": "",
       "font_size": null,
       "text_color": null
      }
     },
     "7517d69981634c338918fe5e2240bf31": {
      "model_module": "@jupyter-widgets/base",
      "model_module_version": "2.0.0",
      "model_name": "LayoutModel",
      "state": {
       "margin": "0px 5px 0px 0px",
       "width": "32px"
      }
     },
     "752c9bc468c64965a0fab71f9a4d1443": {
      "model_module": "@jupyter-widgets/controls",
      "model_module_version": "2.0.0",
      "model_name": "HTMLStyleModel",
      "state": {
       "description_width": "",
       "font_size": null,
       "text_color": null
      }
     },
     "753be93dd53849afbf602fb7e5c5fa07": {
      "model_module": "@jupyter-widgets/base",
      "model_module_version": "2.0.0",
      "model_name": "LayoutModel",
      "state": {
       "width": "95px"
      }
     },
     "75cc90d45f724eabab8cb55be082c731": {
      "model_module": "@jupyter-widgets/controls",
      "model_module_version": "2.0.0",
      "model_name": "HTMLModel",
      "state": {
       "layout": "IPY_MODEL_2263bf952e8e483299fcfc0f59239209",
       "style": "IPY_MODEL_ae448e70a76048e987f58e6df729436e",
       "value": "cmde5jewq3k0008sz1f0"
      }
     },
     "75fb31bc08504594b99534af66869140": {
      "model_module": "@jupyter-widgets/base",
      "model_module_version": "2.0.0",
      "model_name": "LayoutModel",
      "state": {
       "max_width": "700px",
       "min_width": "700px"
      }
     },
     "760d12736dde499e945e2859367667bb": {
      "model_module": "@jupyter-widgets/controls",
      "model_module_version": "2.0.0",
      "model_name": "HTMLStyleModel",
      "state": {
       "description_width": "",
       "font_size": null,
       "text_color": null
      }
     },
     "764ee055dfb94e84beb7d8ba2a814bda": {
      "model_module": "@jupyter-widgets/controls",
      "model_module_version": "2.0.0",
      "model_name": "HTMLStyleModel",
      "state": {
       "description_width": "",
       "font_size": null,
       "text_color": null
      }
     },
     "76877ee824884eaba66f2c718e481e88": {
      "model_module": "@jupyter-widgets/base",
      "model_module_version": "2.0.0",
      "model_name": "LayoutModel",
      "state": {
       "width": "190px"
      }
     },
     "7695a78ad0b04df493d1b9b21dcf4724": {
      "model_module": "@jupyter-widgets/controls",
      "model_module_version": "2.0.0",
      "model_name": "HTMLStyleModel",
      "state": {
       "description_width": "",
       "font_size": null,
       "text_color": null
      }
     },
     "76be8d8093e049e297d7122889e67863": {
      "model_module": "@jupyter-widgets/controls",
      "model_module_version": "2.0.0",
      "model_name": "HTMLStyleModel",
      "state": {
       "description_width": "",
       "font_size": null,
       "text_color": null
      }
     },
     "76d393f416c14e8a95bceddffa892a8e": {
      "model_module": "@jupyter-widgets/controls",
      "model_module_version": "2.0.0",
      "model_name": "HTMLStyleModel",
      "state": {
       "description_width": "",
       "font_size": null,
       "text_color": null
      }
     },
     "76e05193bc4b4b16a7364cf5eb070fe1": {
      "model_module": "@jupyter-widgets/controls",
      "model_module_version": "2.0.0",
      "model_name": "HTMLStyleModel",
      "state": {
       "description_width": "",
       "font_size": null,
       "text_color": null
      }
     },
     "770580b8005648a08932883ad1f0fbfe": {
      "model_module": "@jupyter-widgets/base",
      "model_module_version": "2.0.0",
      "model_name": "LayoutModel",
      "state": {
       "width": "70px"
      }
     },
     "779a95bad0ad4625b76dd4eea4a67ffd": {
      "model_module": "@jupyter-widgets/controls",
      "model_module_version": "2.0.0",
      "model_name": "HTMLStyleModel",
      "state": {
       "description_width": "",
       "font_size": null,
       "text_color": null
      }
     },
     "779af6bd86a344959534b2dc115fc129": {
      "model_module": "@jupyter-widgets/controls",
      "model_module_version": "2.0.0",
      "model_name": "HTMLModel",
      "state": {
       "layout": "IPY_MODEL_ff66edb918314a48a8beb1917e23a20c",
       "style": "IPY_MODEL_976221479a9e462ebdb05651bedfb116",
       "value": "-"
      }
     },
     "77d81617fa1f48b28769b6842c421abe": {
      "model_module": "@jupyter-widgets/controls",
      "model_module_version": "2.0.0",
      "model_name": "ButtonModel",
      "state": {
       "icon": "close",
       "layout": "IPY_MODEL_91f737131c79462daac9e5d358c24632",
       "style": "IPY_MODEL_b63ed2d51cde42ed9cd01b42f776a971",
       "tooltip": null
      }
     },
     "7839ff2fdb1841e7bc3bdcab4b5e9c71": {
      "model_module": "@jupyter-widgets/controls",
      "model_module_version": "2.0.0",
      "model_name": "HTMLStyleModel",
      "state": {
       "description_width": "",
       "font_size": null,
       "text_color": null
      }
     },
     "784974aabd08407b92eb2361a0d6eb2b": {
      "model_module": "@jupyter-widgets/base",
      "model_module_version": "2.0.0",
      "model_name": "LayoutModel",
      "state": {}
     },
     "789529d0a8a14d6486a21dfe1663d43a": {
      "model_module": "@jupyter-widgets/controls",
      "model_module_version": "2.0.0",
      "model_name": "HTMLStyleModel",
      "state": {
       "description_width": "",
       "font_size": null,
       "text_color": null
      }
     },
     "790978a46d5646eb8b0a507f85861c02": {
      "model_module": "@jupyter-widgets/controls",
      "model_module_version": "2.0.0",
      "model_name": "ButtonStyleModel",
      "state": {
       "button_color": "white",
       "font_family": null,
       "font_size": null,
       "font_style": null,
       "font_variant": null,
       "font_weight": null,
       "text_color": null,
       "text_decoration": null
      }
     },
     "795820ff654b48a09435eb9151e33011": {
      "model_module": "@jupyter-widgets/controls",
      "model_module_version": "2.0.0",
      "model_name": "HTMLModel",
      "state": {
       "layout": "IPY_MODEL_72ff608334f4467a93dcdf09b2b0ce55",
       "style": "IPY_MODEL_da4069a3154b49e6943d551e9c452712",
       "value": "ibm_nairobi"
      }
     },
     "795ccb68732c4b6ea8062db98e2013e5": {
      "model_module": "@jupyter-widgets/controls",
      "model_module_version": "2.0.0",
      "model_name": "ButtonStyleModel",
      "state": {
       "button_color": "white",
       "font_family": null,
       "font_size": null,
       "font_style": null,
       "font_variant": null,
       "font_weight": null,
       "text_color": null,
       "text_decoration": null
      }
     },
     "79aaf7a459374167b8ba6b48a5d97246": {
      "model_module": "@jupyter-widgets/controls",
      "model_module_version": "2.0.0",
      "model_name": "HTMLModel",
      "state": {
       "layout": "IPY_MODEL_dbe82d697739472c9a224f7a46b4f24e",
       "style": "IPY_MODEL_624b4eaefe2443ceb45d3d764f338015",
       "value": "job has successfully run"
      }
     },
     "79d4d41ce4cb4c8a88a1fc99d8ed1448": {
      "model_module": "@jupyter-widgets/controls",
      "model_module_version": "2.0.0",
      "model_name": "HBoxModel",
      "state": {
       "children": [
        "IPY_MODEL_0b71e75bf77d4ae3853d45d876573115",
        "IPY_MODEL_49df99940c4e4cc6abd6403cfa49739b",
        "IPY_MODEL_fe9df74160dd490b87e14deab74a735c",
        "IPY_MODEL_c613ac66981e43ef97590ee0866fd4b1",
        "IPY_MODEL_9e5c83e2c78d4fc8bd4ca07efdd1b36e",
        "IPY_MODEL_29dea2b2e40047bf859e6d3d8eb29f3c"
       ],
       "layout": "IPY_MODEL_24575ef08d5b41e88801b70468cbd046"
      }
     },
     "79fbdfed60e5461d8ffd8bc148bf5a17": {
      "model_module": "@jupyter-widgets/controls",
      "model_module_version": "2.0.0",
      "model_name": "HTMLStyleModel",
      "state": {
       "description_width": "",
       "font_size": null,
       "text_color": null
      }
     },
     "7a43c626ccb7425282a345503bf59a58": {
      "model_module": "@jupyter-widgets/base",
      "model_module_version": "2.0.0",
      "model_name": "LayoutModel",
      "state": {
       "width": "145px"
      }
     },
     "7a558c80187e4cf29f40a73609505510": {
      "model_module": "@jupyter-widgets/controls",
      "model_module_version": "2.0.0",
      "model_name": "HTMLModel",
      "state": {
       "layout": "IPY_MODEL_46cc361fafa846c8813b811d2e3407c9",
       "style": "IPY_MODEL_d3966282f07f48fe9c88bfad42c43fb2",
       "value": "cmde29hwcht0008yajng"
      }
     },
     "7a65a9600e1648e79fdb6fb872b514e8": {
      "model_module": "@jupyter-widgets/controls",
      "model_module_version": "2.0.0",
      "model_name": "HBoxModel",
      "state": {
       "children": [
        "IPY_MODEL_0bddd9bbcb8a49e5a1b6a52979767487",
        "IPY_MODEL_cc8c0d695be249bfab1861bf0d6f672b",
        "IPY_MODEL_7285583adb2a41b8adfdafa606ef1e51",
        "IPY_MODEL_377ad351ffae44c9bcd99c8719954ff6",
        "IPY_MODEL_f0a867bf8e2a4eddb95b49e9bbac23ca",
        "IPY_MODEL_b0fb632343964790a1f8b4084b8e1704"
       ],
       "layout": "IPY_MODEL_3e0c10e157ee48aca66a167d7d445629"
      }
     },
     "7a6d2309b9f4454b8c9d66139eeeb3f6": {
      "model_module": "@jupyter-widgets/base",
      "model_module_version": "2.0.0",
      "model_name": "LayoutModel",
      "state": {
       "width": "190px"
      }
     },
     "7a8976e6330846bc99f58415c4c60864": {
      "model_module": "@jupyter-widgets/base",
      "model_module_version": "2.0.0",
      "model_name": "LayoutModel",
      "state": {
       "max_width": "700px",
       "min_width": "700px"
      }
     },
     "7a931b61d58a42718d696466214a8a31": {
      "model_module": "@jupyter-widgets/base",
      "model_module_version": "2.0.0",
      "model_name": "LayoutModel",
      "state": {
       "margin": "0px 5px 0px 0px",
       "width": "32px"
      }
     },
     "7aef40fa7f604c9b9615194382cc7a6f": {
      "model_module": "@jupyter-widgets/controls",
      "model_module_version": "2.0.0",
      "model_name": "HTMLStyleModel",
      "state": {
       "description_width": "",
       "font_size": null,
       "text_color": null
      }
     },
     "7c4d2409f5504c03af11f248d1169dd7": {
      "model_module": "@jupyter-widgets/base",
      "model_module_version": "2.0.0",
      "model_name": "LayoutModel",
      "state": {
       "max_width": "700px",
       "min_width": "700px"
      }
     },
     "7c551e636e114513af3ccc0f01095488": {
      "model_module": "@jupyter-widgets/base",
      "model_module_version": "2.0.0",
      "model_name": "LayoutModel",
      "state": {
       "width": "70px"
      }
     },
     "7c5572538e1e474cbfe605d91298157d": {
      "model_module": "@jupyter-widgets/controls",
      "model_module_version": "2.0.0",
      "model_name": "HTMLStyleModel",
      "state": {
       "description_width": "",
       "font_size": null,
       "text_color": null
      }
     },
     "7cdb64b51f5e408098be0ea5c325ffdd": {
      "model_module": "@jupyter-widgets/controls",
      "model_module_version": "2.0.0",
      "model_name": "HTMLModel",
      "state": {
       "layout": "IPY_MODEL_ed50cfe02c7f49c0981ace3817ffd641",
       "style": "IPY_MODEL_977aa37f4aef46acb52b1c3965045375",
       "value": "ibm_nairobi"
      }
     },
     "7cf03e65b38b4048b56e87dcef280cb0": {
      "model_module": "@jupyter-widgets/base",
      "model_module_version": "2.0.0",
      "model_name": "LayoutModel",
      "state": {
       "width": "70px"
      }
     },
     "7cf0bb82aed646e6b19105893d755bd4": {
      "model_module": "@jupyter-widgets/controls",
      "model_module_version": "2.0.0",
      "model_name": "HTMLModel",
      "state": {
       "layout": "IPY_MODEL_9efcfe2007474fc08af9feceb5f6ef0d",
       "style": "IPY_MODEL_ef2e247e949845ebbb844dbb12c7aa84",
       "value": "ibm_nairobi"
      }
     },
     "7cf2a99ead0840b9ad1a5673d073b86e": {
      "model_module": "@jupyter-widgets/controls",
      "model_module_version": "2.0.0",
      "model_name": "HTMLModel",
      "state": {
       "layout": "IPY_MODEL_b3761b4372bb45f9bf7526fc4664226f",
       "style": "IPY_MODEL_81ff623c10c44d1597b06f7d418c2e81",
       "value": "job has successfully run"
      }
     },
     "7d08c9f04d634149b06aa2bd19dde17f": {
      "model_module": "@jupyter-widgets/controls",
      "model_module_version": "2.0.0",
      "model_name": "HTMLModel",
      "state": {
       "layout": "IPY_MODEL_afc34822b2e84f2da226fa3a00e285b8",
       "style": "IPY_MODEL_8d96a282bb03496bbc23d0fc5c26a47f",
       "value": "cmde1c5zjkb0008m25ag"
      }
     },
     "7d10c5aa236f4092a3f6ece9cc03a4d9": {
      "model_module": "@jupyter-widgets/base",
      "model_module_version": "2.0.0",
      "model_name": "LayoutModel",
      "state": {
       "width": "70px"
      }
     },
     "7db2984bacdc4fc5a6550d51942b7c06": {
      "model_module": "@jupyter-widgets/base",
      "model_module_version": "2.0.0",
      "model_name": "LayoutModel",
      "state": {
       "max_width": "700px",
       "min_width": "700px"
      }
     },
     "7dcab5cd6ae34f1e911f790e8553f988": {
      "model_module": "@jupyter-widgets/base",
      "model_module_version": "2.0.0",
      "model_name": "LayoutModel",
      "state": {}
     },
     "7dee2c6cdda344d8a03535cef33d7d57": {
      "model_module": "@jupyter-widgets/controls",
      "model_module_version": "2.0.0",
      "model_name": "ButtonStyleModel",
      "state": {
       "button_color": "white",
       "font_family": null,
       "font_size": null,
       "font_style": null,
       "font_variant": null,
       "font_weight": null,
       "text_color": null,
       "text_decoration": null
      }
     },
     "7e125d32d43046a7ae4f70730b6694f5": {
      "model_module": "@jupyter-widgets/controls",
      "model_module_version": "2.0.0",
      "model_name": "HTMLStyleModel",
      "state": {
       "description_width": "",
       "font_size": null,
       "text_color": null
      }
     },
     "7e9de364ea7b4ca69da6164336447f6b": {
      "model_module": "@jupyter-widgets/controls",
      "model_module_version": "2.0.0",
      "model_name": "HBoxModel",
      "state": {
       "children": [
        "IPY_MODEL_a423d39c01bb450196de297ef74b39fe",
        "IPY_MODEL_d4007a0ae27b422a8128257a3a0782d6",
        "IPY_MODEL_8a39c570fad24bc2bf429b162224806e",
        "IPY_MODEL_f6390e133309404d84a70cd181ac5632",
        "IPY_MODEL_ce35e91b3bd944b5a871342d6f478b2b",
        "IPY_MODEL_25e8b59c20814cd48c746e20201a1dae"
       ],
       "layout": "IPY_MODEL_9afcf213151646ebad84e2bbe1607adc"
      }
     },
     "7eb09328e54b4ff9b058d9548535cfa8": {
      "model_module": "@jupyter-widgets/controls",
      "model_module_version": "2.0.0",
      "model_name": "HTMLStyleModel",
      "state": {
       "description_width": "",
       "font_size": null,
       "text_color": null
      }
     },
     "7ebc9b1088d148f3acb19ea9b6dbce42": {
      "model_module": "@jupyter-widgets/base",
      "model_module_version": "2.0.0",
      "model_name": "LayoutModel",
      "state": {
       "max_width": "700px",
       "min_width": "700px"
      }
     },
     "7ebea234e77c4d2bb425d562d5e79ee0": {
      "model_module": "@jupyter-widgets/controls",
      "model_module_version": "2.0.0",
      "model_name": "HTMLStyleModel",
      "state": {
       "description_width": "",
       "font_size": null,
       "text_color": null
      }
     },
     "7eecb877f5f142db966eb95946bc2894": {
      "model_module": "@jupyter-widgets/controls",
      "model_module_version": "2.0.0",
      "model_name": "ButtonModel",
      "state": {
       "icon": "close",
       "layout": "IPY_MODEL_189392dc21234a9cbd596447ed822a45",
       "style": "IPY_MODEL_eb44cd6d6a754fe9b35bffb0e1aaa13b",
       "tooltip": null
      }
     },
     "7ef96c57e0c04e5ca7c51cbd47f7ac38": {
      "model_module": "@jupyter-widgets/controls",
      "model_module_version": "2.0.0",
      "model_name": "HTMLModel",
      "state": {
       "layout": "IPY_MODEL_a83c58a60ad446e6ac1743ff4e77219a",
       "style": "IPY_MODEL_5f284ee50dd348f68cc8a57c15345dbc",
       "value": "job has successfully run"
      }
     },
     "7f3c4e0ffd154ece8005586c8d40cc85": {
      "model_module": "@jupyter-widgets/controls",
      "model_module_version": "2.0.0",
      "model_name": "HTMLStyleModel",
      "state": {
       "description_width": "",
       "font_size": null,
       "text_color": null
      }
     },
     "7fc8dff88b054c8b83a7acee29910be0": {
      "model_module": "@jupyter-widgets/base",
      "model_module_version": "2.0.0",
      "model_name": "LayoutModel",
      "state": {
       "max_width": "700px",
       "min_width": "700px"
      }
     },
     "7feb13aa5da84acea63d33795272ac04": {
      "model_module": "@jupyter-widgets/controls",
      "model_module_version": "2.0.0",
      "model_name": "HTMLStyleModel",
      "state": {
       "description_width": "",
       "font_size": null,
       "text_color": null
      }
     },
     "8012d154cc144309b172b08035d0e8c0": {
      "model_module": "@jupyter-widgets/controls",
      "model_module_version": "2.0.0",
      "model_name": "HTMLModel",
      "state": {
       "layout": "IPY_MODEL_e1546031e4c24d0fadaebb159ea8985d",
       "style": "IPY_MODEL_0ace5f664c1f42d6a7b2e641076fd3f6",
       "value": "-"
      }
     },
     "801f249d106c4e0ba5c3fb811f7b83e1": {
      "model_module": "@jupyter-widgets/controls",
      "model_module_version": "2.0.0",
      "model_name": "HTMLModel",
      "state": {
       "layout": "IPY_MODEL_5475fc5314cb44a18b785c2d86865a20",
       "style": "IPY_MODEL_175c3d78472f4d1a94a3bc56e81f0776",
       "value": "-"
      }
     },
     "80c2808391694d6f84015d7f37a21d75": {
      "model_module": "@jupyter-widgets/controls",
      "model_module_version": "2.0.0",
      "model_name": "HTMLStyleModel",
      "state": {
       "description_width": "",
       "font_size": null,
       "text_color": null
      }
     },
     "80e69458e92b4905945ef9ff6b42975d": {
      "model_module": "@jupyter-widgets/controls",
      "model_module_version": "2.0.0",
      "model_name": "HTMLStyleModel",
      "state": {
       "description_width": "",
       "font_size": null,
       "text_color": null
      }
     },
     "815966ba493f4f1093ce1a7bbe1a0c96": {
      "model_module": "@jupyter-widgets/controls",
      "model_module_version": "2.0.0",
      "model_name": "HTMLStyleModel",
      "state": {
       "description_width": "",
       "font_size": null,
       "text_color": null
      }
     },
     "81bae72743e54d2ab5632ac64f53472d": {
      "model_module": "@jupyter-widgets/controls",
      "model_module_version": "2.0.0",
      "model_name": "HTMLStyleModel",
      "state": {
       "description_width": "",
       "font_size": null,
       "text_color": null
      }
     },
     "81ff623c10c44d1597b06f7d418c2e81": {
      "model_module": "@jupyter-widgets/controls",
      "model_module_version": "2.0.0",
      "model_name": "HTMLStyleModel",
      "state": {
       "description_width": "",
       "font_size": null,
       "text_color": null
      }
     },
     "82420b29d6c54a7395d3555d430b2b1a": {
      "model_module": "@jupyter-widgets/controls",
      "model_module_version": "2.0.0",
      "model_name": "HTMLModel",
      "state": {
       "layout": "IPY_MODEL_29fafb26f1f1415db18a80af13911b6f",
       "style": "IPY_MODEL_725f72b351cf491aaf4c9ef5c34b5d70",
       "value": "job has successfully run"
      }
     },
     "82917f86f1e14753a0e853ce15bf5817": {
      "model_module": "@jupyter-widgets/controls",
      "model_module_version": "2.0.0",
      "model_name": "HTMLModel",
      "state": {
       "layout": "IPY_MODEL_719c239030084382be69f3e04c9b6bca",
       "style": "IPY_MODEL_206d502d0f2a4fa39d3273adae04a4b1",
       "value": "ibm_nairobi"
      }
     },
     "82a82a1a1165411bad85bf6dec171da9": {
      "model_module": "@jupyter-widgets/controls",
      "model_module_version": "2.0.0",
      "model_name": "HTMLModel",
      "state": {
       "layout": "IPY_MODEL_a3632a2f30fb4086b7b11905568840e2",
       "style": "IPY_MODEL_050450cf40514045b2a5dc9b9d12d72f",
       "value": "<font style='color:#34BC6E'>DONE</font>"
      }
     },
     "8306fcddf394484aa2f3ed5e61aafde6": {
      "model_module": "@jupyter-widgets/base",
      "model_module_version": "2.0.0",
      "model_name": "LayoutModel",
      "state": {
       "width": "95px"
      }
     },
     "832d1fd78ab14836bca2632514f5160b": {
      "model_module": "@jupyter-widgets/controls",
      "model_module_version": "2.0.0",
      "model_name": "HTMLModel",
      "state": {
       "layout": "IPY_MODEL_f2a3c94add3343c49457e2e0e6d44b19",
       "style": "IPY_MODEL_3f0da6e790bc4085acf6638d53d5b21c",
       "value": "job has successfully run"
      }
     },
     "83427cc5a47e4a23b64b05331ca50266": {
      "model_module": "@jupyter-widgets/controls",
      "model_module_version": "2.0.0",
      "model_name": "HTMLStyleModel",
      "state": {
       "description_width": "",
       "font_size": null,
       "text_color": null
      }
     },
     "8353dc8bbfed44f986b5ee15f69406d6": {
      "model_module": "@jupyter-widgets/controls",
      "model_module_version": "2.0.0",
      "model_name": "HTMLModel",
      "state": {
       "layout": "IPY_MODEL_70ca62a8a95b40ccaf48ae379572979b",
       "style": "IPY_MODEL_6649448d822f4aabb18c7ba070b86c73",
       "value": "cmde134wcht0008yajh0"
      }
     },
     "837b8c02e41a4c15bdd2a3ff59a44511": {
      "model_module": "@jupyter-widgets/controls",
      "model_module_version": "2.0.0",
      "model_name": "HTMLModel",
      "state": {
       "layout": "IPY_MODEL_5fff4802f95f4111941318eb2cc405b6",
       "style": "IPY_MODEL_6dd1d1ff0d644fc4ba0d1c89b54a41f5",
       "value": "cmddjqjwcht0008yahr0"
      }
     },
     "83d8d503e9504091959fd293910f4753": {
      "model_module": "@jupyter-widgets/controls",
      "model_module_version": "2.0.0",
      "model_name": "HTMLModel",
      "state": {
       "layout": "IPY_MODEL_3a48a1ae54e44d35a95afbbbb17bd073",
       "style": "IPY_MODEL_49b62b1e92cc427dbc51720111772775",
       "value": "ibm_nairobi"
      }
     },
     "83ef64273937402d942236588a7b06ec": {
      "model_module": "@jupyter-widgets/controls",
      "model_module_version": "2.0.0",
      "model_name": "HTMLModel",
      "state": {
       "layout": "IPY_MODEL_b9c060768bbc44cb973dc856eca8b808",
       "style": "IPY_MODEL_e93ddd23fbd645a9b4e5b0036033d6a7",
       "value": "<font style='color:#34BC6E'>DONE</font>"
      }
     },
     "84425cf0c81942d4b281f0657f2f541d": {
      "model_module": "@jupyter-widgets/base",
      "model_module_version": "2.0.0",
      "model_name": "LayoutModel",
      "state": {
       "margin": "0px 5px 0px 0px",
       "width": "32px"
      }
     },
     "845615163c1f44f2862ca5324c0f8577": {
      "model_module": "@jupyter-widgets/controls",
      "model_module_version": "2.0.0",
      "model_name": "ButtonModel",
      "state": {
       "icon": "close",
       "layout": "IPY_MODEL_245b533bd53c463ab8351679c53bee2d",
       "style": "IPY_MODEL_790978a46d5646eb8b0a507f85861c02",
       "tooltip": null
      }
     },
     "84731b231c4f4ea9b1ddcb2ecc5c1585": {
      "model_module": "@jupyter-widgets/base",
      "model_module_version": "2.0.0",
      "model_name": "LayoutModel",
      "state": {
       "width": "70px"
      }
     },
     "849639a358de498eac305cc946765ac8": {
      "model_module": "@jupyter-widgets/base",
      "model_module_version": "2.0.0",
      "model_name": "LayoutModel",
      "state": {
       "width": "145px"
      }
     },
     "84cecf82e0184c30a6af997a96ff5a32": {
      "model_module": "@jupyter-widgets/controls",
      "model_module_version": "2.0.0",
      "model_name": "HTMLStyleModel",
      "state": {
       "description_width": "",
       "font_size": null,
       "text_color": null
      }
     },
     "84e28d00f994442eb46c2d7db0c52a90": {
      "model_module": "@jupyter-widgets/controls",
      "model_module_version": "2.0.0",
      "model_name": "HTMLStyleModel",
      "state": {
       "description_width": "",
       "font_size": null,
       "text_color": null
      }
     },
     "853af198363b4920a17b6a864474762b": {
      "model_module": "@jupyter-widgets/controls",
      "model_module_version": "2.0.0",
      "model_name": "HTMLStyleModel",
      "state": {
       "description_width": "",
       "font_size": null,
       "text_color": null
      }
     },
     "858f9d08d9244d9381ebb950a2458a93": {
      "model_module": "@jupyter-widgets/base",
      "model_module_version": "2.0.0",
      "model_name": "LayoutModel",
      "state": {
       "max_width": "700px",
       "min_width": "700px"
      }
     },
     "8637600ef21c4d3091062bcc642e3e9f": {
      "model_module": "@jupyter-widgets/controls",
      "model_module_version": "2.0.0",
      "model_name": "HTMLModel",
      "state": {
       "layout": "IPY_MODEL_e753c50cadee4a4aaacc568a8e52a5d6",
       "style": "IPY_MODEL_68a4393c834248d190e7ab7bae85c426",
       "value": "job has successfully run"
      }
     },
     "867bede8a2bb4db3b5081ab19c74547b": {
      "model_module": "@jupyter-widgets/base",
      "model_module_version": "2.0.0",
      "model_name": "LayoutModel",
      "state": {
       "width": "70px"
      }
     },
     "8688af5201e7441d9f90609a0a7d90aa": {
      "model_module": "@jupyter-widgets/controls",
      "model_module_version": "2.0.0",
      "model_name": "HTMLModel",
      "state": {
       "layout": "IPY_MODEL_6064865c5f344c9d908084a78f28f4ae",
       "style": "IPY_MODEL_a76cab762539478e848f80e272e4a0df",
       "value": "cmde3kewq3k0008sz150"
      }
     },
     "86bd424dd9414a2f84bc2bc54bcadcc9": {
      "model_module": "@jupyter-widgets/base",
      "model_module_version": "2.0.0",
      "model_name": "LayoutModel",
      "state": {
       "width": "190px"
      }
     },
     "86c409b7f00c46568f94a785697d8eb1": {
      "model_module": "@jupyter-widgets/controls",
      "model_module_version": "2.0.0",
      "model_name": "HTMLModel",
      "state": {
       "layout": "IPY_MODEL_dd0ac39b7db54a6d9098c90dfb58744a",
       "style": "IPY_MODEL_52270fa8dc734e7c8d02ea10fd52822a",
       "value": "ibm_nairobi"
      }
     },
     "86f812edd06842e9b408111c5f28e70c": {
      "model_module": "@jupyter-widgets/controls",
      "model_module_version": "2.0.0",
      "model_name": "HTMLStyleModel",
      "state": {
       "description_width": "",
       "font_size": null,
       "text_color": null
      }
     },
     "879de64cfd0e4eada3c77fe530d58c5b": {
      "model_module": "@jupyter-widgets/base",
      "model_module_version": "2.0.0",
      "model_name": "LayoutModel",
      "state": {
       "width": "145px"
      }
     },
     "87a33d2b1d4a4193b66ebe099035a467": {
      "model_module": "@jupyter-widgets/controls",
      "model_module_version": "2.0.0",
      "model_name": "HTMLStyleModel",
      "state": {
       "description_width": "",
       "font_size": null,
       "text_color": null
      }
     },
     "87b7cf975b1645f08e8d938d11813bcb": {
      "model_module": "@jupyter-widgets/controls",
      "model_module_version": "2.0.0",
      "model_name": "HTMLStyleModel",
      "state": {
       "description_width": "",
       "font_size": null,
       "text_color": null
      }
     },
     "88404ec5b863460681dd8e1edb1b6acb": {
      "model_module": "@jupyter-widgets/controls",
      "model_module_version": "2.0.0",
      "model_name": "HTMLStyleModel",
      "state": {
       "description_width": "",
       "font_size": null,
       "text_color": null
      }
     },
     "888b548f4a964f15a6348178f774f78a": {
      "model_module": "@jupyter-widgets/controls",
      "model_module_version": "2.0.0",
      "model_name": "HTMLModel",
      "state": {
       "layout": "IPY_MODEL_24af0193e2fd47259d65bc847be65a60",
       "style": "IPY_MODEL_01dbbf9dd2b7402cb9d59ab8514bc411",
       "value": "cmde05ry4c00008hxny0"
      }
     },
     "88cb4c0558f04461b978efdd9831bb92": {
      "model_module": "@jupyter-widgets/controls",
      "model_module_version": "2.0.0",
      "model_name": "HTMLStyleModel",
      "state": {
       "description_width": "",
       "font_size": null,
       "text_color": null
      }
     },
     "88d787c4608c4bb0a1e75683a9485406": {
      "model_module": "@jupyter-widgets/controls",
      "model_module_version": "2.0.0",
      "model_name": "HTMLModel",
      "state": {
       "layout": "IPY_MODEL_8c933f2f963d438280e8e67ec092cae5",
       "style": "IPY_MODEL_512cfa1437e944d09c975b5ce16929f6",
       "value": "<font style='color:#34BC6E'>DONE</font>"
      }
     },
     "88e47d1adf284329bd7d07562de4c28a": {
      "model_module": "@jupyter-widgets/base",
      "model_module_version": "2.0.0",
      "model_name": "LayoutModel",
      "state": {}
     },
     "89183aac239b40bdbcc28a5c4a65df1d": {
      "model_module": "@jupyter-widgets/controls",
      "model_module_version": "2.0.0",
      "model_name": "HTMLStyleModel",
      "state": {
       "description_width": "",
       "font_size": null,
       "text_color": null
      }
     },
     "89687aa7050a48a29df793501bb1a52d": {
      "model_module": "@jupyter-widgets/controls",
      "model_module_version": "2.0.0",
      "model_name": "HTMLStyleModel",
      "state": {
       "description_width": "",
       "font_size": null,
       "text_color": null
      }
     },
     "897127dfb991438a9b8da68dde9fa7a2": {
      "model_module": "@jupyter-widgets/base",
      "model_module_version": "2.0.0",
      "model_name": "LayoutModel",
      "state": {
       "width": "95px"
      }
     },
     "8a39c570fad24bc2bf429b162224806e": {
      "model_module": "@jupyter-widgets/controls",
      "model_module_version": "2.0.0",
      "model_name": "HTMLModel",
      "state": {
       "layout": "IPY_MODEL_af3833df2aaf48e3a1d805d19da925eb",
       "style": "IPY_MODEL_f9716174b4bc48f5bd1df88ed0be4364",
       "value": "ibm_nairobi"
      }
     },
     "8a6ba5c1529e4d0fb79be6effda0eb60": {
      "model_module": "@jupyter-widgets/controls",
      "model_module_version": "2.0.0",
      "model_name": "HTMLStyleModel",
      "state": {
       "description_width": "",
       "font_size": null,
       "text_color": null
      }
     },
     "8b09fe60f3124a66b749dfc45bb28a50": {
      "model_module": "@jupyter-widgets/controls",
      "model_module_version": "2.0.0",
      "model_name": "HTMLModel",
      "state": {
       "layout": "IPY_MODEL_6d151339c2af475ab2a73cd56dbe9ec8",
       "style": "IPY_MODEL_081b6099f520496aa06e6e10d3172e8c",
       "value": "ibm_nairobi"
      }
     },
     "8b138aaadba445f8a91c0ed5194d8736": {
      "model_module": "@jupyter-widgets/controls",
      "model_module_version": "2.0.0",
      "model_name": "HBoxModel",
      "state": {
       "children": [
        "IPY_MODEL_18086efaf70b4a98b3265b58801d03d4",
        "IPY_MODEL_131b1364575f4f0b96038128c0c123f4",
        "IPY_MODEL_f040f7d369904b0da08c8f6f44b09a41",
        "IPY_MODEL_6b5ec15969794b4c9bda33294a525a51",
        "IPY_MODEL_24c48d68623348f0a47122e1e7ac96ec",
        "IPY_MODEL_8637600ef21c4d3091062bcc642e3e9f"
       ],
       "layout": "IPY_MODEL_92466eda57494b98929548c12f78581f"
      }
     },
     "8b30cd7ce2374dc7ac91de521becd4d1": {
      "model_module": "@jupyter-widgets/controls",
      "model_module_version": "2.0.0",
      "model_name": "HTMLModel",
      "state": {
       "layout": "IPY_MODEL_c74e7ec18d284115b167ca8dee576315",
       "style": "IPY_MODEL_0d43171b26314e80af9c6ebc44cf72f6",
       "value": "job has successfully run"
      }
     },
     "8b382ec969494b32b5d0266d457fbc16": {
      "model_module": "@jupyter-widgets/controls",
      "model_module_version": "2.0.0",
      "model_name": "HBoxModel",
      "state": {
       "children": [
        "IPY_MODEL_ecd79138274d4a1f83f07e605bb8a565",
        "IPY_MODEL_a7e46939da934b9cad9489fd46e7a27d",
        "IPY_MODEL_57be84fd9da64793a0d6a4645340b0cb",
        "IPY_MODEL_41fafde53976405a87d344ce7ed92610",
        "IPY_MODEL_0396b3845ede4890b559347eb427e047",
        "IPY_MODEL_8b30cd7ce2374dc7ac91de521becd4d1"
       ],
       "layout": "IPY_MODEL_36dd749f6484404491f84a317cb90e50"
      }
     },
     "8b54db34a1be4dbfb8fe068e2b620160": {
      "model_module": "@jupyter-widgets/controls",
      "model_module_version": "2.0.0",
      "model_name": "HTMLStyleModel",
      "state": {
       "description_width": "",
       "font_size": null,
       "text_color": null
      }
     },
     "8bb9be9a9461444a90903bfd9b356ec2": {
      "model_module": "@jupyter-widgets/base",
      "model_module_version": "2.0.0",
      "model_name": "LayoutModel",
      "state": {
       "width": "70px"
      }
     },
     "8bec1ad30d904a0cb887675fd6ed068c": {
      "model_module": "@jupyter-widgets/base",
      "model_module_version": "2.0.0",
      "model_name": "LayoutModel",
      "state": {
       "max_width": "700px",
       "min_width": "700px"
      }
     },
     "8c2bc8eb117f4bfe8c79eb11edbf8303": {
      "model_module": "@jupyter-widgets/controls",
      "model_module_version": "2.0.0",
      "model_name": "HTMLStyleModel",
      "state": {
       "description_width": "",
       "font_size": null,
       "text_color": null
      }
     },
     "8c6c0c48df1c4c1eb341f2dccc13ebf3": {
      "model_module": "@jupyter-widgets/controls",
      "model_module_version": "2.0.0",
      "model_name": "ButtonStyleModel",
      "state": {
       "button_color": "white",
       "font_family": null,
       "font_size": null,
       "font_style": null,
       "font_variant": null,
       "font_weight": null,
       "text_color": null,
       "text_decoration": null
      }
     },
     "8c933f2f963d438280e8e67ec092cae5": {
      "model_module": "@jupyter-widgets/base",
      "model_module_version": "2.0.0",
      "model_name": "LayoutModel",
      "state": {
       "width": "95px"
      }
     },
     "8ce1408fcc6241ad8554b1ae5d62d1e2": {
      "model_module": "@jupyter-widgets/controls",
      "model_module_version": "2.0.0",
      "model_name": "HTMLStyleModel",
      "state": {
       "description_width": "",
       "font_size": null,
       "text_color": null
      }
     },
     "8d5e9878d679436d8b29a321f0030a3e": {
      "model_module": "@jupyter-widgets/controls",
      "model_module_version": "2.0.0",
      "model_name": "HBoxModel",
      "state": {
       "children": [
        "IPY_MODEL_2f06933e311f406b9be2f7c0395abccb",
        "IPY_MODEL_70f68e71fddc4a1090f6664d8b27a946",
        "IPY_MODEL_52966b4303bd4bb9a1a908a9d818e827",
        "IPY_MODEL_83ef64273937402d942236588a7b06ec",
        "IPY_MODEL_d71a904d9e2b4bb29dea7601e1e3b126",
        "IPY_MODEL_905969bbca2f48888ed47495ff551410"
       ],
       "layout": "IPY_MODEL_0d3e2374521f4c25a73abc76caaa71ff"
      }
     },
     "8d6282dc04b74fbca7f6c12c148da601": {
      "model_module": "@jupyter-widgets/controls",
      "model_module_version": "2.0.0",
      "model_name": "HTMLModel",
      "state": {
       "layout": "IPY_MODEL_a4100026260b4decaac1111442065dbe",
       "style": "IPY_MODEL_6c7adc2a16c443489b024142e662cf71",
       "value": "cmde3dnte72g008js2a0"
      }
     },
     "8d63d555fa8e42faa2b0866342adba22": {
      "model_module": "@jupyter-widgets/controls",
      "model_module_version": "2.0.0",
      "model_name": "HTMLStyleModel",
      "state": {
       "description_width": "",
       "font_size": null,
       "text_color": null
      }
     },
     "8d73df230d2345fca29cffaea6a5fe8f": {
      "model_module": "@jupyter-widgets/controls",
      "model_module_version": "2.0.0",
      "model_name": "ButtonStyleModel",
      "state": {
       "button_color": "white",
       "font_family": null,
       "font_size": null,
       "font_style": null,
       "font_variant": null,
       "font_weight": null,
       "text_color": null,
       "text_decoration": null
      }
     },
     "8d96a282bb03496bbc23d0fc5c26a47f": {
      "model_module": "@jupyter-widgets/controls",
      "model_module_version": "2.0.0",
      "model_name": "HTMLStyleModel",
      "state": {
       "description_width": "",
       "font_size": null,
       "text_color": null
      }
     },
     "8dddb06c8c6443419709287997f9e000": {
      "model_module": "@jupyter-widgets/controls",
      "model_module_version": "2.0.0",
      "model_name": "HTMLStyleModel",
      "state": {
       "description_width": "",
       "font_size": null,
       "text_color": null
      }
     },
     "8de5b69120714d68b7a48ab1546c2d3b": {
      "model_module": "@jupyter-widgets/controls",
      "model_module_version": "2.0.0",
      "model_name": "HTMLStyleModel",
      "state": {
       "description_width": "",
       "font_size": null,
       "text_color": null
      }
     },
     "8e1992c812294faab37c471786569ac5": {
      "model_module": "@jupyter-widgets/base",
      "model_module_version": "2.0.0",
      "model_name": "LayoutModel",
      "state": {
       "width": "70px"
      }
     },
     "8e5c4b7e7e864a439f4c92902f2f35ac": {
      "model_module": "@jupyter-widgets/controls",
      "model_module_version": "2.0.0",
      "model_name": "HTMLModel",
      "state": {
       "layout": "IPY_MODEL_5bc7579da9194e7c9bb13458045e0acd",
       "style": "IPY_MODEL_acc6af20b6f143de9f9822acae346667",
       "value": "cmde1vfy4c00008hxp20"
      }
     },
     "8e7838f79ab546e4a8edbfb480bcb7b8": {
      "model_module": "@jupyter-widgets/controls",
      "model_module_version": "2.0.0",
      "model_name": "HTMLStyleModel",
      "state": {
       "description_width": "",
       "font_size": null,
       "text_color": null
      }
     },
     "8ead904d78fb47c098a195986ec53dd9": {
      "model_module": "@jupyter-widgets/controls",
      "model_module_version": "2.0.0",
      "model_name": "HTMLModel",
      "state": {
       "layout": "IPY_MODEL_c4d1f2e933e446b98725df90e290c2ef",
       "style": "IPY_MODEL_45b18e68ea4e4016b783a2052d2d8c8a",
       "value": "cmde304te72g008js28g"
      }
     },
     "8ed80553a76c4b0cb179f8208cc2e707": {
      "model_module": "@jupyter-widgets/controls",
      "model_module_version": "2.0.0",
      "model_name": "HTMLStyleModel",
      "state": {
       "description_width": "",
       "font_size": null,
       "text_color": null
      }
     },
     "8f0aa3d96705464d962b0155debca4f2": {
      "model_module": "@jupyter-widgets/base",
      "model_module_version": "2.0.0",
      "model_name": "LayoutModel",
      "state": {
       "margin": "0px 5px 0px 0px",
       "width": "32px"
      }
     },
     "8f19a76b41c0437c88f24462a3341bf9": {
      "model_module": "@jupyter-widgets/controls",
      "model_module_version": "2.0.0",
      "model_name": "ButtonStyleModel",
      "state": {
       "button_color": "white",
       "font_family": null,
       "font_size": null,
       "font_style": null,
       "font_variant": null,
       "font_weight": null,
       "text_color": null,
       "text_decoration": null
      }
     },
     "8f216ff060d640d28225c8d0d16ad91f": {
      "model_module": "@jupyter-widgets/controls",
      "model_module_version": "2.0.0",
      "model_name": "HTMLModel",
      "state": {
       "layout": "IPY_MODEL_9c32fb4aa6ef4f53b62f74bb83cf5bc5",
       "style": "IPY_MODEL_d85bfbac9e4b4f44a0960c9ebebebb00",
       "value": "cmde3gpwcht0008yajr0"
      }
     },
     "8f8866b81f35425fa39d5ae948026b7b": {
      "model_module": "@jupyter-widgets/controls",
      "model_module_version": "2.0.0",
      "model_name": "HTMLModel",
      "state": {
       "layout": "IPY_MODEL_8e1992c812294faab37c471786569ac5",
       "style": "IPY_MODEL_977f1ae548654fbba3583d79bec451b9",
       "value": "-"
      }
     },
     "8fd8ae48a9244d72aac7bbd46a71a718": {
      "model_module": "@jupyter-widgets/controls",
      "model_module_version": "2.0.0",
      "model_name": "ButtonModel",
      "state": {
       "icon": "close",
       "layout": "IPY_MODEL_23d1759fa025462081f3604ac3845b36",
       "style": "IPY_MODEL_fafd72e52e5d4812ae9b7c93f61446f6",
       "tooltip": null
      }
     },
     "900df14797694ff99e33cbc7207db082": {
      "model_module": "@jupyter-widgets/controls",
      "model_module_version": "2.0.0",
      "model_name": "HTMLModel",
      "state": {
       "layout": "IPY_MODEL_520f4ae59ac4429da1712939c45f73f2",
       "style": "IPY_MODEL_fc089b2cf473418f99d5048f10531ef7",
       "value": "<font style='color:#34BC6E'>DONE</font>"
      }
     },
     "9014aa8abe9e468287de82b1427309fd": {
      "model_module": "@jupyter-widgets/controls",
      "model_module_version": "2.0.0",
      "model_name": "HTMLStyleModel",
      "state": {
       "description_width": "",
       "font_size": null,
       "text_color": null
      }
     },
     "901ffc054f8a4a1bb37ca4bad8eb4b6c": {
      "model_module": "@jupyter-widgets/base",
      "model_module_version": "2.0.0",
      "model_name": "LayoutModel",
      "state": {}
     },
     "905969bbca2f48888ed47495ff551410": {
      "model_module": "@jupyter-widgets/controls",
      "model_module_version": "2.0.0",
      "model_name": "HTMLModel",
      "state": {
       "layout": "IPY_MODEL_d8c7eccd41a142318130e1ccf9c54289",
       "style": "IPY_MODEL_fce6551a80d347b7a57d01d27acf82df",
       "value": "job has successfully run"
      }
     },
     "9091a8b789cc480bb16a4c749ae7ea1c": {
      "model_module": "@jupyter-widgets/controls",
      "model_module_version": "2.0.0",
      "model_name": "HTMLModel",
      "state": {
       "layout": "IPY_MODEL_eaf1f898227e4c3b9c8107337432dbff",
       "style": "IPY_MODEL_e681cc8871ec472f92d013b43c7bf857",
       "value": "<font style='color:#34BC6E'>DONE</font>"
      }
     },
     "9169d399355a4a869b36fd6059b4bc39": {
      "model_module": "@jupyter-widgets/base",
      "model_module_version": "2.0.0",
      "model_name": "LayoutModel",
      "state": {
       "width": "190px"
      }
     },
     "91f737131c79462daac9e5d358c24632": {
      "model_module": "@jupyter-widgets/base",
      "model_module_version": "2.0.0",
      "model_name": "LayoutModel",
      "state": {
       "margin": "0px 5px 0px 0px",
       "width": "32px"
      }
     },
     "92382e1061a84bd2966c15e5c59a16c2": {
      "model_module": "@jupyter-widgets/controls",
      "model_module_version": "2.0.0",
      "model_name": "HTMLModel",
      "state": {
       "layout": "IPY_MODEL_ea337e79843843b496d3099cdeac3b6e",
       "style": "IPY_MODEL_76e05193bc4b4b16a7364cf5eb070fe1",
       "value": "<h5>Message</h5>"
      }
     },
     "92466eda57494b98929548c12f78581f": {
      "model_module": "@jupyter-widgets/base",
      "model_module_version": "2.0.0",
      "model_name": "LayoutModel",
      "state": {
       "max_width": "700px",
       "min_width": "700px"
      }
     },
     "9246cbbdf799400a965787711914533c": {
      "model_module": "@jupyter-widgets/base",
      "model_module_version": "2.0.0",
      "model_name": "LayoutModel",
      "state": {
       "width": "190px"
      }
     },
     "92d1e673f695416ba34f0937a184e09a": {
      "model_module": "@jupyter-widgets/controls",
      "model_module_version": "2.0.0",
      "model_name": "HTMLStyleModel",
      "state": {
       "description_width": "",
       "font_size": null,
       "text_color": null
      }
     },
     "92e3b64d43ab45299b8db55a6c358153": {
      "model_module": "@jupyter-widgets/controls",
      "model_module_version": "2.0.0",
      "model_name": "HTMLModel",
      "state": {
       "layout": "IPY_MODEL_1c29733529a04707814ba31b4d149c6d",
       "style": "IPY_MODEL_dcceca83b0e74da487c5ac38ced0b0a2",
       "value": "<font style='color:#34BC6E'>DONE</font>"
      }
     },
     "93053d3353e04de8a0672877b072a02f": {
      "model_module": "@jupyter-widgets/base",
      "model_module_version": "2.0.0",
      "model_name": "LayoutModel",
      "state": {
       "width": "190px"
      }
     },
     "93dab189e8b54f9abb95840665dc8815": {
      "model_module": "@jupyter-widgets/controls",
      "model_module_version": "2.0.0",
      "model_name": "HTMLStyleModel",
      "state": {
       "description_width": "",
       "font_size": null,
       "text_color": null
      }
     },
     "93eff350b6914e3d9f9c6824ce074bed": {
      "model_module": "@jupyter-widgets/controls",
      "model_module_version": "2.0.0",
      "model_name": "HTMLModel",
      "state": {
       "layout": "IPY_MODEL_50adf7d9f820493095356d3de98407f8",
       "style": "IPY_MODEL_6be6f5d36d1042cd84f5e2699be96c43",
       "value": "cmde18xte72g008js21g"
      }
     },
     "940a6c9279424eb693f2acdc8ecbd1dc": {
      "model_module": "@jupyter-widgets/controls",
      "model_module_version": "2.0.0",
      "model_name": "HBoxModel",
      "state": {
       "children": [
        "IPY_MODEL_ed164ca699464e449426d545fbc1d554",
        "IPY_MODEL_8e5c4b7e7e864a439f4c92902f2f35ac",
        "IPY_MODEL_c99abd73be334782b9f57eda81693270",
        "IPY_MODEL_5b1feabd50b44e17984b93fe8bd1113e",
        "IPY_MODEL_e05798805c2946a59ccae549ed072a62",
        "IPY_MODEL_392fa1080f8c4b389a657c98ca03884a"
       ],
       "layout": "IPY_MODEL_1a130b4ea18642e4bc34b9e01312eb09"
      }
     },
     "94109ab08a6149398ce5c2566923997a": {
      "model_module": "@jupyter-widgets/controls",
      "model_module_version": "2.0.0",
      "model_name": "HTMLModel",
      "state": {
       "layout": "IPY_MODEL_1cf4ed5897a84f898fb0bfdd08a3d320",
       "style": "IPY_MODEL_17976aa57096437eb2d328001feddb0a",
       "value": "<font style='color:#34BC6E'>DONE</font>"
      }
     },
     "942f0bffba7e41dbbc5475fb0ebfb545": {
      "model_module": "@jupyter-widgets/controls",
      "model_module_version": "2.0.0",
      "model_name": "HTMLStyleModel",
      "state": {
       "description_width": "",
       "font_size": null,
       "text_color": null
      }
     },
     "9454b65f9226485d979bafb78c206a2f": {
      "model_module": "@jupyter-widgets/base",
      "model_module_version": "2.0.0",
      "model_name": "LayoutModel",
      "state": {
       "width": "190px"
      }
     },
     "94c8516c229046dbab9a62a025a6ac7e": {
      "model_module": "@jupyter-widgets/base",
      "model_module_version": "2.0.0",
      "model_name": "LayoutModel",
      "state": {
       "width": "190px"
      }
     },
     "94d2397d9ba942f8a07098352b6f2811": {
      "model_module": "@jupyter-widgets/base",
      "model_module_version": "2.0.0",
      "model_name": "LayoutModel",
      "state": {
       "margin": "0px 5px 0px 0px",
       "width": "32px"
      }
     },
     "94fd79244fc9472eafbca2fbd5cefd5a": {
      "model_module": "@jupyter-widgets/controls",
      "model_module_version": "2.0.0",
      "model_name": "HTMLModel",
      "state": {
       "layout": "IPY_MODEL_7dcab5cd6ae34f1e911f790e8553f988",
       "style": "IPY_MODEL_764ee055dfb94e84beb7d8ba2a814bda",
       "value": "job has successfully run"
      }
     },
     "950c74c018a84ef09a7f794f864d75b3": {
      "model_module": "@jupyter-widgets/base",
      "model_module_version": "2.0.0",
      "model_name": "LayoutModel",
      "state": {
       "width": "70px"
      }
     },
     "9545641a4d144a63b7e5e7de5a83b147": {
      "model_module": "@jupyter-widgets/controls",
      "model_module_version": "2.0.0",
      "model_name": "HTMLStyleModel",
      "state": {
       "description_width": "",
       "font_size": null,
       "text_color": null
      }
     },
     "9560d3afc6b841ba94a3b9c732185621": {
      "model_module": "@jupyter-widgets/controls",
      "model_module_version": "2.0.0",
      "model_name": "HTMLModel",
      "state": {
       "layout": "IPY_MODEL_7cf03e65b38b4048b56e87dcef280cb0",
       "style": "IPY_MODEL_a31c758a35c9411cb6f0561b99e274b3",
       "value": "-"
      }
     },
     "963ca7d2cbdd4b18822fbbaad2b6e186": {
      "model_module": "@jupyter-widgets/base",
      "model_module_version": "2.0.0",
      "model_name": "LayoutModel",
      "state": {
       "margin": "0px 5px 0px 0px",
       "width": "32px"
      }
     },
     "96699c24bda04348aec191509ce4c82f": {
      "model_module": "@jupyter-widgets/base",
      "model_module_version": "2.0.0",
      "model_name": "LayoutModel",
      "state": {
       "max_width": "700px",
       "min_width": "700px"
      }
     },
     "9670c47521bc4c81b0cfac1a8adccaf4": {
      "model_module": "@jupyter-widgets/controls",
      "model_module_version": "2.0.0",
      "model_name": "ButtonModel",
      "state": {
       "icon": "close",
       "layout": "IPY_MODEL_fe53ad9443164942ba5e8329d5c8bf22",
       "style": "IPY_MODEL_d0edbc59e111419c9ef4f3eed43dfeb6",
       "tooltip": null
      }
     },
     "96a79daf5410402299bf4ae755ee5411": {
      "model_module": "@jupyter-widgets/controls",
      "model_module_version": "2.0.0",
      "model_name": "HTMLModel",
      "state": {
       "layout": "IPY_MODEL_66941a8f88e843b1846080bd50e34181",
       "style": "IPY_MODEL_54ddf580a0584896a7c2ccee960f474b",
       "value": "<font style='color:#34BC6E'>DONE</font>"
      }
     },
     "96b0e8ed423740d1ab0a06202890730d": {
      "model_module": "@jupyter-widgets/controls",
      "model_module_version": "2.0.0",
      "model_name": "ButtonModel",
      "state": {
       "icon": "close",
       "layout": "IPY_MODEL_5d7f701261ad4597aff80d00c13ff4b0",
       "style": "IPY_MODEL_f9be8395dde049418c1336cb144fbd2f",
       "tooltip": null
      }
     },
     "96bc53eb5235416883a6807a186ef198": {
      "model_module": "@jupyter-widgets/base",
      "model_module_version": "2.0.0",
      "model_name": "LayoutModel",
      "state": {
       "width": "70px"
      }
     },
     "9703486f93c44da7b32baeb635320476": {
      "model_module": "@jupyter-widgets/controls",
      "model_module_version": "2.0.0",
      "model_name": "ButtonModel",
      "state": {
       "icon": "close",
       "layout": "IPY_MODEL_fdde9d26c53b4d0b929cf2b75841bb94",
       "style": "IPY_MODEL_9db6487c122a4d1c820c74678a7d96d5",
       "tooltip": null
      }
     },
     "971f4b6bdbf34d71a7f9930f2f7a908f": {
      "model_module": "@jupyter-widgets/base",
      "model_module_version": "2.0.0",
      "model_name": "LayoutModel",
      "state": {}
     },
     "972815a728434fdba4332edea0603278": {
      "model_module": "@jupyter-widgets/base",
      "model_module_version": "2.0.0",
      "model_name": "LayoutModel",
      "state": {
       "width": "145px"
      }
     },
     "974959b846d84a11bd4d5979522dbc19": {
      "model_module": "@jupyter-widgets/controls",
      "model_module_version": "2.0.0",
      "model_name": "HTMLStyleModel",
      "state": {
       "description_width": "",
       "font_size": null,
       "text_color": null
      }
     },
     "975e8a4f7952493fbad2e4e13457a739": {
      "model_module": "@jupyter-widgets/controls",
      "model_module_version": "2.0.0",
      "model_name": "ButtonStyleModel",
      "state": {
       "button_color": "white",
       "font_family": null,
       "font_size": null,
       "font_style": null,
       "font_variant": null,
       "font_weight": null,
       "text_color": null,
       "text_decoration": null
      }
     },
     "976221479a9e462ebdb05651bedfb116": {
      "model_module": "@jupyter-widgets/controls",
      "model_module_version": "2.0.0",
      "model_name": "HTMLStyleModel",
      "state": {
       "description_width": "",
       "font_size": null,
       "text_color": null
      }
     },
     "97765e5fee7e4f46bccd166f2dc90c9b": {
      "model_module": "@jupyter-widgets/base",
      "model_module_version": "2.0.0",
      "model_name": "LayoutModel",
      "state": {}
     },
     "977aa37f4aef46acb52b1c3965045375": {
      "model_module": "@jupyter-widgets/controls",
      "model_module_version": "2.0.0",
      "model_name": "HTMLStyleModel",
      "state": {
       "description_width": "",
       "font_size": null,
       "text_color": null
      }
     },
     "977f1ae548654fbba3583d79bec451b9": {
      "model_module": "@jupyter-widgets/controls",
      "model_module_version": "2.0.0",
      "model_name": "HTMLStyleModel",
      "state": {
       "description_width": "",
       "font_size": null,
       "text_color": null
      }
     },
     "97bf1422b8ad4554839477ca03f2cd16": {
      "model_module": "@jupyter-widgets/base",
      "model_module_version": "2.0.0",
      "model_name": "LayoutModel",
      "state": {}
     },
     "97c238e341d74bdc82d0b495046d2a89": {
      "model_module": "@jupyter-widgets/controls",
      "model_module_version": "2.0.0",
      "model_name": "HTMLStyleModel",
      "state": {
       "description_width": "",
       "font_size": null,
       "text_color": null
      }
     },
     "980cc22a1f5f42b2acdd7c60cfa526d5": {
      "model_module": "@jupyter-widgets/controls",
      "model_module_version": "2.0.0",
      "model_name": "HTMLModel",
      "state": {
       "layout": "IPY_MODEL_972815a728434fdba4332edea0603278",
       "style": "IPY_MODEL_08af1431348143dea2d1cf6d5cd46e40",
       "value": "ibm_nairobi"
      }
     },
     "98477611da594ecda40deffbcd5edcff": {
      "model_module": "@jupyter-widgets/controls",
      "model_module_version": "2.0.0",
      "model_name": "HTMLStyleModel",
      "state": {
       "description_width": "",
       "font_size": null,
       "text_color": null
      }
     },
     "997076080c4e483683c611b0e38a9797": {
      "model_module": "@jupyter-widgets/base",
      "model_module_version": "2.0.0",
      "model_name": "LayoutModel",
      "state": {
       "width": "95px"
      }
     },
     "999bc86600554d5587e6e29fb97917a9": {
      "model_module": "@jupyter-widgets/controls",
      "model_module_version": "2.0.0",
      "model_name": "HTMLStyleModel",
      "state": {
       "description_width": "",
       "font_size": null,
       "text_color": null
      }
     },
     "99b80dc12bd34b38b9de8a44dab5f696": {
      "model_module": "@jupyter-widgets/controls",
      "model_module_version": "2.0.0",
      "model_name": "HTMLStyleModel",
      "state": {
       "description_width": "",
       "font_size": null,
       "text_color": null
      }
     },
     "99bc0f8ec19b4a04b442db9e35a7808c": {
      "model_module": "@jupyter-widgets/controls",
      "model_module_version": "2.0.0",
      "model_name": "HTMLModel",
      "state": {
       "layout": "IPY_MODEL_86bd424dd9414a2f84bc2bc54bcadcc9",
       "style": "IPY_MODEL_84cecf82e0184c30a6af997a96ff5a32",
       "value": "cmde3rqwq3k0008sz16g"
      }
     },
     "99d787e8ac5146908540752fae40ce0f": {
      "model_module": "@jupyter-widgets/base",
      "model_module_version": "2.0.0",
      "model_name": "LayoutModel",
      "state": {
       "width": "70px"
      }
     },
     "99ec95ce4cce4908aed9d471639d832c": {
      "model_module": "@jupyter-widgets/base",
      "model_module_version": "2.0.0",
      "model_name": "LayoutModel",
      "state": {
       "max_width": "700px",
       "min_width": "700px"
      }
     },
     "9a00c474124b4565953c6e238363fc79": {
      "model_module": "@jupyter-widgets/base",
      "model_module_version": "2.0.0",
      "model_name": "LayoutModel",
      "state": {
       "width": "190px"
      }
     },
     "9a04e2f0fd5f4231a878c28b422fdcc7": {
      "model_module": "@jupyter-widgets/base",
      "model_module_version": "2.0.0",
      "model_name": "LayoutModel",
      "state": {
       "width": "70px"
      }
     },
     "9a1a2048543841fdb9f5fec3f1e15787": {
      "model_module": "@jupyter-widgets/controls",
      "model_module_version": "2.0.0",
      "model_name": "HTMLModel",
      "state": {
       "layout": "IPY_MODEL_3abe0f5432c544f887db6a9252b8942e",
       "style": "IPY_MODEL_6b2bf07a30f040cc9d60b4a912cfeba9",
       "value": "job has successfully run"
      }
     },
     "9a2b7cd839264ea4bc58a38d4442cce6": {
      "model_module": "@jupyter-widgets/controls",
      "model_module_version": "2.0.0",
      "model_name": "HTMLModel",
      "state": {
       "layout": "IPY_MODEL_ca8a376ef1c84ec49516122a56dbc92c",
       "style": "IPY_MODEL_c1e57a9facfb451db431369443c9d3d5",
       "value": "cmde1j6zjkb0008m25c0"
      }
     },
     "9a8d33b5f5944cb7909d27e2b8644a81": {
      "model_module": "@jupyter-widgets/controls",
      "model_module_version": "2.0.0",
      "model_name": "HTMLModel",
      "state": {
       "layout": "IPY_MODEL_03dd091fd8e946d2af5f7deb76d7521b",
       "style": "IPY_MODEL_c151f943fc1d44d68a14c5d4d3a6451c",
       "value": "cmde4d9zjkb0008m25ng"
      }
     },
     "9aa7f555fce5422791a2e724db44fdb5": {
      "model_module": "@jupyter-widgets/controls",
      "model_module_version": "2.0.0",
      "model_name": "HTMLModel",
      "state": {
       "layout": "IPY_MODEL_1fe313d78f8449adb50750bf21f0cb73",
       "style": "IPY_MODEL_d494f2012e264d8c99b838162cb3f4bb",
       "value": "<h5>Queue</h5>"
      }
     },
     "9acd0c0670e14965a6e3d2d4b81cf94e": {
      "model_module": "@jupyter-widgets/controls",
      "model_module_version": "2.0.0",
      "model_name": "HTMLStyleModel",
      "state": {
       "description_width": "",
       "font_size": null,
       "text_color": null
      }
     },
     "9aefc355f0d04d9ba31364b8568027ff": {
      "model_module": "@jupyter-widgets/controls",
      "model_module_version": "2.0.0",
      "model_name": "HTMLStyleModel",
      "state": {
       "description_width": "",
       "font_size": null,
       "text_color": null
      }
     },
     "9afcf213151646ebad84e2bbe1607adc": {
      "model_module": "@jupyter-widgets/base",
      "model_module_version": "2.0.0",
      "model_name": "LayoutModel",
      "state": {
       "max_width": "700px",
       "min_width": "700px"
      }
     },
     "9b69c9d949494d68841ed65707c0c814": {
      "model_module": "@jupyter-widgets/controls",
      "model_module_version": "2.0.0",
      "model_name": "HTMLModel",
      "state": {
       "layout": "IPY_MODEL_5693c73e78f34a57afe3245a67e07d11",
       "style": "IPY_MODEL_11db0879aec547be9e7f8c7faaefcd7d",
       "value": "ibm_nairobi"
      }
     },
     "9b6fea0bb0d34d1c90fd417c300801bd": {
      "model_module": "@jupyter-widgets/base",
      "model_module_version": "2.0.0",
      "model_name": "LayoutModel",
      "state": {
       "width": "190px"
      }
     },
     "9b91598a849448e6ba74c395484d02b1": {
      "model_module": "@jupyter-widgets/base",
      "model_module_version": "2.0.0",
      "model_name": "LayoutModel",
      "state": {
       "width": "190px"
      }
     },
     "9bc24e36d49e4d5a9f6f0c341c58f32b": {
      "model_module": "@jupyter-widgets/controls",
      "model_module_version": "2.0.0",
      "model_name": "HTMLModel",
      "state": {
       "layout": "IPY_MODEL_d493a34178d54181b46974a714dbed7c",
       "style": "IPY_MODEL_c74f73f52b5a484ea40bcdc4f611ff09",
       "value": "ibm_nairobi"
      }
     },
     "9c073eee5d8943ee8648c8b1aa10c9bb": {
      "model_module": "@jupyter-widgets/controls",
      "model_module_version": "2.0.0",
      "model_name": "GridBoxModel",
      "state": {
       "children": [
        "IPY_MODEL_574700d4cb8d4a38a9a3c8cb0eadaf9b"
       ],
       "layout": "IPY_MODEL_55825f21e6f3456cbb43ad84b588323a"
      }
     },
     "9c32fb4aa6ef4f53b62f74bb83cf5bc5": {
      "model_module": "@jupyter-widgets/base",
      "model_module_version": "2.0.0",
      "model_name": "LayoutModel",
      "state": {
       "width": "190px"
      }
     },
     "9c5102b8e4184ab48368b9b5797c3309": {
      "model_module": "@jupyter-widgets/base",
      "model_module_version": "2.0.0",
      "model_name": "LayoutModel",
      "state": {
       "max_width": "700px",
       "min_width": "700px"
      }
     },
     "9c632ae3e57f46cf901bf9c0054f772c": {
      "model_module": "@jupyter-widgets/controls",
      "model_module_version": "2.0.0",
      "model_name": "HTMLModel",
      "state": {
       "layout": "IPY_MODEL_1c6967a83d3143d4aee00d8da06f1b8c",
       "style": "IPY_MODEL_f51c41c1d7684658a4ba90d947635869",
       "value": "-"
      }
     },
     "9c6b4c66ccaf40a48f0ff2a8abec73e7": {
      "model_module": "@jupyter-widgets/controls",
      "model_module_version": "2.0.0",
      "model_name": "HTMLModel",
      "state": {
       "layout": "IPY_MODEL_db89150dda814769a8cf66662ba54d4f",
       "style": "IPY_MODEL_4d7542096fa44174a134374ab8931bdb",
       "value": "cmde3344z12g008ncbv0"
      }
     },
     "9c7c283004224218b56c38990a8f75a4": {
      "model_module": "@jupyter-widgets/controls",
      "model_module_version": "2.0.0",
      "model_name": "HTMLStyleModel",
      "state": {
       "description_width": "",
       "font_size": null,
       "text_color": null
      }
     },
     "9cb353a2b33b4bc89108176038b138de": {
      "model_module": "@jupyter-widgets/controls",
      "model_module_version": "2.0.0",
      "model_name": "HBoxModel",
      "state": {
       "children": [
        "IPY_MODEL_9703486f93c44da7b32baeb635320476",
        "IPY_MODEL_531e551369394e70b7356fe105ea771a",
        "IPY_MODEL_9d59b34ec18b47fe804c5979e3b699bd",
        "IPY_MODEL_82a82a1a1165411bad85bf6dec171da9",
        "IPY_MODEL_c5a77757641b4ddfbf7835dc0ebde500",
        "IPY_MODEL_94fd79244fc9472eafbca2fbd5cefd5a"
       ],
       "layout": "IPY_MODEL_20cdc6ec8edd40deb37c25b7d7f970d6"
      }
     },
     "9cfde8a8a9d84d6f8cd216df46a66cc3": {
      "model_module": "@jupyter-widgets/controls",
      "model_module_version": "2.0.0",
      "model_name": "HTMLStyleModel",
      "state": {
       "description_width": "",
       "font_size": null,
       "text_color": null
      }
     },
     "9d28f41966094ac6af399c368dd77721": {
      "model_module": "@jupyter-widgets/controls",
      "model_module_version": "2.0.0",
      "model_name": "HTMLModel",
      "state": {
       "layout": "IPY_MODEL_d6ae6ca9bcd74c5f9c04e01ebcf6dc4e",
       "style": "IPY_MODEL_98477611da594ecda40deffbcd5edcff",
       "value": "<font style='color:#34BC6E'>DONE</font>"
      }
     },
     "9d59b34ec18b47fe804c5979e3b699bd": {
      "model_module": "@jupyter-widgets/controls",
      "model_module_version": "2.0.0",
      "model_name": "HTMLModel",
      "state": {
       "layout": "IPY_MODEL_a2f7d0730df94b02a9fa085e91312a88",
       "style": "IPY_MODEL_87a33d2b1d4a4193b66ebe099035a467",
       "value": "ibm_nairobi"
      }
     },
     "9db6487c122a4d1c820c74678a7d96d5": {
      "model_module": "@jupyter-widgets/controls",
      "model_module_version": "2.0.0",
      "model_name": "ButtonStyleModel",
      "state": {
       "button_color": "white",
       "font_family": null,
       "font_size": null,
       "font_style": null,
       "font_variant": null,
       "font_weight": null,
       "text_color": null,
       "text_decoration": null
      }
     },
     "9ded7230ee16435d88d6483650ac3a94": {
      "model_module": "@jupyter-widgets/base",
      "model_module_version": "2.0.0",
      "model_name": "LayoutModel",
      "state": {
       "margin": "0px 5px 0px 0px",
       "width": "32px"
      }
     },
     "9e5c83e2c78d4fc8bd4ca07efdd1b36e": {
      "model_module": "@jupyter-widgets/controls",
      "model_module_version": "2.0.0",
      "model_name": "HTMLModel",
      "state": {
       "layout": "IPY_MODEL_0725d381ed7645afb24ce277d56e01e4",
       "style": "IPY_MODEL_be58c2b9ad324fadb049d67a28e2da51",
       "value": "-"
      }
     },
     "9e7e3983a889423b9316c0846093fbdd": {
      "model_module": "@jupyter-widgets/controls",
      "model_module_version": "2.0.0",
      "model_name": "HTMLStyleModel",
      "state": {
       "description_width": "",
       "font_size": null,
       "text_color": null
      }
     },
     "9eb6e9e7cdb54c888e8c5d8a16d139b9": {
      "model_module": "@jupyter-widgets/controls",
      "model_module_version": "2.0.0",
      "model_name": "HBoxModel",
      "state": {
       "children": [
        "IPY_MODEL_5672c4276ade41419f14fc09e742ab8c",
        "IPY_MODEL_b32a6e329fb64c1c8bd90b9b74f57930",
        "IPY_MODEL_3cc6b95ef8a94319b49a5a92f0139bf1",
        "IPY_MODEL_c3c6ff843d4f4c88bbe6dd5133907b41",
        "IPY_MODEL_8012d154cc144309b172b08035d0e8c0",
        "IPY_MODEL_9a1a2048543841fdb9f5fec3f1e15787"
       ],
       "layout": "IPY_MODEL_684da5817bb04c4a82dbf05f6868369f"
      }
     },
     "9ede43a484ca4120888f74b1396a1b0e": {
      "model_module": "@jupyter-widgets/base",
      "model_module_version": "2.0.0",
      "model_name": "LayoutModel",
      "state": {
       "width": "95px"
      }
     },
     "9efcfe2007474fc08af9feceb5f6ef0d": {
      "model_module": "@jupyter-widgets/base",
      "model_module_version": "2.0.0",
      "model_name": "LayoutModel",
      "state": {
       "width": "145px"
      }
     },
     "9f09e200e72c4428a23d62abf40a1ac1": {
      "model_module": "@jupyter-widgets/controls",
      "model_module_version": "2.0.0",
      "model_name": "ButtonStyleModel",
      "state": {
       "button_color": "white",
       "font_family": null,
       "font_size": null,
       "font_style": null,
       "font_variant": null,
       "font_weight": null,
       "text_color": null,
       "text_decoration": null
      }
     },
     "9f10cfe081994c8ebcc1b3a06c4d45ad": {
      "model_module": "@jupyter-widgets/base",
      "model_module_version": "2.0.0",
      "model_name": "LayoutModel",
      "state": {
       "margin": "0px 5px 0px 0px",
       "width": "32px"
      }
     },
     "9f1584a9f24148b1bd729b2cf4258eee": {
      "model_module": "@jupyter-widgets/base",
      "model_module_version": "2.0.0",
      "model_name": "LayoutModel",
      "state": {
       "width": "95px"
      }
     },
     "9f5b570d9f324e50b988b1d569fcc7e0": {
      "model_module": "@jupyter-widgets/controls",
      "model_module_version": "2.0.0",
      "model_name": "HTMLStyleModel",
      "state": {
       "description_width": "",
       "font_size": null,
       "text_color": null
      }
     },
     "9fdfeb7d7da2422cb8d6d668bea9c898": {
      "model_module": "@jupyter-widgets/controls",
      "model_module_version": "2.0.0",
      "model_name": "HTMLModel",
      "state": {
       "layout": "IPY_MODEL_e8e57b36e9204621afa338c3aebf1b9e",
       "style": "IPY_MODEL_5908b5ba575844fd9bdef5fcd1bae7cb",
       "value": "-"
      }
     },
     "9fe2b1a18b7a4cb685bd3a2eb59d3b94": {
      "model_module": "@jupyter-widgets/controls",
      "model_module_version": "2.0.0",
      "model_name": "HTMLModel",
      "state": {
       "layout": "IPY_MODEL_126c0a49507e4535982cc09cbbeee39e",
       "style": "IPY_MODEL_532dff2450dd489281723c6d25157d48",
       "value": "-"
      }
     },
     "a03bf0e9f93341669f66b0bcf7067e06": {
      "model_module": "@jupyter-widgets/controls",
      "model_module_version": "2.0.0",
      "model_name": "HTMLStyleModel",
      "state": {
       "description_width": "",
       "font_size": null,
       "text_color": null
      }
     },
     "a053e5de29f746f284609ddeec70e34c": {
      "model_module": "@jupyter-widgets/controls",
      "model_module_version": "2.0.0",
      "model_name": "HTMLModel",
      "state": {
       "layout": "IPY_MODEL_971f4b6bdbf34d71a7f9930f2f7a908f",
       "style": "IPY_MODEL_7f3c4e0ffd154ece8005586c8d40cc85",
       "value": "job has successfully run"
      }
     },
     "a093b972be224d2499373b293292c0ef": {
      "model_module": "@jupyter-widgets/controls",
      "model_module_version": "2.0.0",
      "model_name": "HTMLStyleModel",
      "state": {
       "description_width": "",
       "font_size": null,
       "text_color": null
      }
     },
     "a0aa381d16d6435d8c64d5db1db5f056": {
      "model_module": "@jupyter-widgets/controls",
      "model_module_version": "2.0.0",
      "model_name": "HTMLModel",
      "state": {
       "layout": "IPY_MODEL_30a8d9645e544b5fa08fbfc00225a243",
       "style": "IPY_MODEL_9545641a4d144a63b7e5e7de5a83b147",
       "value": "ibm_nairobi"
      }
     },
     "a12b487956934c8e8f3e23466bc14352": {
      "model_module": "@jupyter-widgets/base",
      "model_module_version": "2.0.0",
      "model_name": "LayoutModel",
      "state": {
       "width": "145px"
      }
     },
     "a14cc7a792334190ba94f00dbf24c6ee": {
      "model_module": "@jupyter-widgets/controls",
      "model_module_version": "2.0.0",
      "model_name": "HTMLModel",
      "state": {
       "layout": "IPY_MODEL_f080b495df414f2c8d9281c61e688c31",
       "style": "IPY_MODEL_7c5572538e1e474cbfe605d91298157d",
       "value": "ibm_nairobi"
      }
     },
     "a14e579d87744bf6a3bc220a6a349ace": {
      "model_module": "@jupyter-widgets/controls",
      "model_module_version": "2.0.0",
      "model_name": "HTMLStyleModel",
      "state": {
       "description_width": "",
       "font_size": null,
       "text_color": null
      }
     },
     "a16d80471e73490da50cfdd1402dc49d": {
      "model_module": "@jupyter-widgets/controls",
      "model_module_version": "2.0.0",
      "model_name": "HBoxModel",
      "state": {
       "children": [
        "IPY_MODEL_ba83e00cf08245dd9d5939964b5dd5f2",
        "IPY_MODEL_42997d0fcd734c6ebc249edc45830726",
        "IPY_MODEL_15fc72fa3f86459daecc49975eeb98c6",
        "IPY_MODEL_2695131f91cb41ddb0b3f140ddae59dd",
        "IPY_MODEL_dc2b70a8cfaa4e528e907afe21ccac1f",
        "IPY_MODEL_832d1fd78ab14836bca2632514f5160b"
       ],
       "layout": "IPY_MODEL_17f1a8b621424f33ad3a98914992baf3"
      }
     },
     "a1a6e112b9444852b19c5ccdee08167a": {
      "model_module": "@jupyter-widgets/controls",
      "model_module_version": "2.0.0",
      "model_name": "HTMLStyleModel",
      "state": {
       "description_width": "",
       "font_size": null,
       "text_color": null
      }
     },
     "a1cf97291db84661b60525da2ec7fd7d": {
      "model_module": "@jupyter-widgets/base",
      "model_module_version": "2.0.0",
      "model_name": "LayoutModel",
      "state": {
       "max_width": "700px",
       "min_width": "700px"
      }
     },
     "a221f36fbdaf4592a9da61fcfd7caa63": {
      "model_module": "@jupyter-widgets/controls",
      "model_module_version": "2.0.0",
      "model_name": "HTMLStyleModel",
      "state": {
       "description_width": "",
       "font_size": null,
       "text_color": null
      }
     },
     "a2d9743ae8964bb5a26fc3dac9336f54": {
      "model_module": "@jupyter-widgets/controls",
      "model_module_version": "2.0.0",
      "model_name": "ButtonStyleModel",
      "state": {
       "button_color": "white",
       "font_family": null,
       "font_size": null,
       "font_style": null,
       "font_variant": null,
       "font_weight": null,
       "text_color": null,
       "text_decoration": null
      }
     },
     "a2eed174e3744073b553882befeea89d": {
      "model_module": "@jupyter-widgets/controls",
      "model_module_version": "2.0.0",
      "model_name": "HBoxModel",
      "state": {
       "children": [
        "IPY_MODEL_a519a2ab72d147eba4ca62e753d3228a",
        "IPY_MODEL_b539fdaceb4c4f1e9c2f1d6b18577f8a",
        "IPY_MODEL_ddcf5ef4050c4045909cfc1a046304e5",
        "IPY_MODEL_ffc1f879fec2473f8293c2b341fe1694",
        "IPY_MODEL_aeab501066be4ea2ac417f1c971c277a",
        "IPY_MODEL_ebd5ddb4cb024ca9b58757bfdf2912c7"
       ],
       "layout": "IPY_MODEL_ca6b9fda58a04b6d9062e0637ff261b8"
      }
     },
     "a2f7d0730df94b02a9fa085e91312a88": {
      "model_module": "@jupyter-widgets/base",
      "model_module_version": "2.0.0",
      "model_name": "LayoutModel",
      "state": {
       "width": "145px"
      }
     },
     "a31c758a35c9411cb6f0561b99e274b3": {
      "model_module": "@jupyter-widgets/controls",
      "model_module_version": "2.0.0",
      "model_name": "HTMLStyleModel",
      "state": {
       "description_width": "",
       "font_size": null,
       "text_color": null
      }
     },
     "a33f61e712424dc3baf98801f1c95999": {
      "model_module": "@jupyter-widgets/controls",
      "model_module_version": "2.0.0",
      "model_name": "HTMLModel",
      "state": {
       "layout": "IPY_MODEL_446051721c834b5da2e4fbe1db0284a1",
       "style": "IPY_MODEL_a86cd08c00fd400d9100113002398e09",
       "value": "job has successfully run"
      }
     },
     "a3632a2f30fb4086b7b11905568840e2": {
      "model_module": "@jupyter-widgets/base",
      "model_module_version": "2.0.0",
      "model_name": "LayoutModel",
      "state": {
       "width": "95px"
      }
     },
     "a366701bf3e94fee8fcb4c1deb9a4c51": {
      "model_module": "@jupyter-widgets/controls",
      "model_module_version": "2.0.0",
      "model_name": "ButtonStyleModel",
      "state": {
       "button_color": "white",
       "font_family": null,
       "font_size": null,
       "font_style": null,
       "font_variant": null,
       "font_weight": null,
       "text_color": null,
       "text_decoration": null
      }
     },
     "a38e5f1158944ebabc76e88c76137fbd": {
      "model_module": "@jupyter-widgets/controls",
      "model_module_version": "2.0.0",
      "model_name": "HTMLModel",
      "state": {
       "layout": "IPY_MODEL_bbf1dab4d30e4097b98f483024bc97af",
       "style": "IPY_MODEL_8c2bc8eb117f4bfe8c79eb11edbf8303",
       "value": "ibm_nairobi"
      }
     },
     "a3b6c459f6484c8e8fba5ed9db85634f": {
      "model_module": "@jupyter-widgets/controls",
      "model_module_version": "2.0.0",
      "model_name": "HTMLModel",
      "state": {
       "layout": "IPY_MODEL_da7eb46609e94d029fec381674dd1d16",
       "style": "IPY_MODEL_760d12736dde499e945e2859367667bb",
       "value": "job has successfully run"
      }
     },
     "a4100026260b4decaac1111442065dbe": {
      "model_module": "@jupyter-widgets/base",
      "model_module_version": "2.0.0",
      "model_name": "LayoutModel",
      "state": {
       "width": "190px"
      }
     },
     "a423d39c01bb450196de297ef74b39fe": {
      "model_module": "@jupyter-widgets/controls",
      "model_module_version": "2.0.0",
      "model_name": "ButtonModel",
      "state": {
       "icon": "close",
       "layout": "IPY_MODEL_0d17027855d84f0ea108578f485b2eca",
       "style": "IPY_MODEL_3e6ed372396a42109e7cd04688e4f03d",
       "tooltip": null
      }
     },
     "a44b24c4fc58462cbc14ae1ee0bf9714": {
      "model_module": "@jupyter-widgets/controls",
      "model_module_version": "2.0.0",
      "model_name": "HTMLModel",
      "state": {
       "layout": "IPY_MODEL_cabe068dbf5d4d4f82ba6fa3dc30bbb0",
       "style": "IPY_MODEL_f890349f40bb4ef0bca72ad23946fb47",
       "value": "job has successfully run"
      }
     },
     "a519a2ab72d147eba4ca62e753d3228a": {
      "model_module": "@jupyter-widgets/controls",
      "model_module_version": "2.0.0",
      "model_name": "ButtonModel",
      "state": {
       "icon": "close",
       "layout": "IPY_MODEL_963ca7d2cbdd4b18822fbbaad2b6e186",
       "style": "IPY_MODEL_0f0cb8249f07403d8ff11b00320612dc",
       "tooltip": null
      }
     },
     "a523274b96ac46c689619c81f736595d": {
      "model_module": "@jupyter-widgets/controls",
      "model_module_version": "2.0.0",
      "model_name": "HTMLStyleModel",
      "state": {
       "description_width": "",
       "font_size": null,
       "text_color": null
      }
     },
     "a529ccdcecb74af08bc4c085e1af72fd": {
      "model_module": "@jupyter-widgets/controls",
      "model_module_version": "2.0.0",
      "model_name": "HTMLModel",
      "state": {
       "layout": "IPY_MODEL_df8d66500fdf408795373a3f5b57a83a",
       "style": "IPY_MODEL_f7d064285f71498d8a13ab2105aea9e2",
       "value": "job has successfully run"
      }
     },
     "a52fe8bcd1fb4f5fa176c8526164196e": {
      "model_module": "@jupyter-widgets/base",
      "model_module_version": "2.0.0",
      "model_name": "LayoutModel",
      "state": {
       "max_width": "700px",
       "min_width": "700px"
      }
     },
     "a53d8a4dccf24ca2bb1a64cb7e584b58": {
      "model_module": "@jupyter-widgets/controls",
      "model_module_version": "2.0.0",
      "model_name": "HTMLStyleModel",
      "state": {
       "description_width": "",
       "font_size": null,
       "text_color": null
      }
     },
     "a53e6c73dab94c7eb581d7d95fdf9abc": {
      "model_module": "@jupyter-widgets/controls",
      "model_module_version": "2.0.0",
      "model_name": "HBoxModel",
      "state": {
       "children": [
        "IPY_MODEL_d6bbab28d31447a49994eecda03be59b",
        "IPY_MODEL_7d08c9f04d634149b06aa2bd19dde17f",
        "IPY_MODEL_02f815c42f5a432bbe65c7899ec4f161",
        "IPY_MODEL_38ed87f4b70a49e794bd52abc992f6c7",
        "IPY_MODEL_ca742a4e0577404eb1c715a563c983d3",
        "IPY_MODEL_f8aa6edefe8c482c93cda017edb2be1a"
       ],
       "layout": "IPY_MODEL_2968acc7793c46779978c2fd62d7c72c"
      }
     },
     "a5656ec8651a423d9005309d86916e6c": {
      "model_module": "@jupyter-widgets/base",
      "model_module_version": "2.0.0",
      "model_name": "LayoutModel",
      "state": {
       "width": "145px"
      }
     },
     "a58de14b82074dff83bc8a37062c6796": {
      "model_module": "@jupyter-widgets/controls",
      "model_module_version": "2.0.0",
      "model_name": "HTMLModel",
      "state": {
       "layout": "IPY_MODEL_d76f5baff749486e8fd0335348b7f7b7",
       "style": "IPY_MODEL_37dfab5891ca42e3a55119077f2d6c8e",
       "value": "cmde4a9wq3k0008sz190"
      }
     },
     "a598fe3bb1f043f795b214fe9c570549": {
      "model_module": "@jupyter-widgets/controls",
      "model_module_version": "2.0.0",
      "model_name": "HTMLModel",
      "state": {
       "layout": "IPY_MODEL_61cab0b31fa7495794a121b111ba6e3e",
       "style": "IPY_MODEL_df4883cc06c748ac8af879359dbebb87",
       "value": "job has successfully run"
      }
     },
     "a5a0e5261aba4181b8cac662515247f4": {
      "model_module": "@jupyter-widgets/base",
      "model_module_version": "2.0.0",
      "model_name": "LayoutModel",
      "state": {
       "width": "95px"
      }
     },
     "a5f94b95b0d74b4882613ee33212ff1d": {
      "model_module": "@jupyter-widgets/base",
      "model_module_version": "2.0.0",
      "model_name": "LayoutModel",
      "state": {
       "width": "95px"
      }
     },
     "a622c8c46baa47aebfc7d0194c9226d4": {
      "model_module": "@jupyter-widgets/controls",
      "model_module_version": "2.0.0",
      "model_name": "HTMLModel",
      "state": {
       "layout": "IPY_MODEL_d1c8541a21ba46089b7f6654005f1a09",
       "style": "IPY_MODEL_19570c9514fa4e7ab8acd11658c333ce",
       "value": "job has successfully run"
      }
     },
     "a681c00f0425476e86e6ef808e4a06b1": {
      "model_module": "@jupyter-widgets/controls",
      "model_module_version": "2.0.0",
      "model_name": "HTMLStyleModel",
      "state": {
       "description_width": "",
       "font_size": null,
       "text_color": null
      }
     },
     "a68d705940c64e64a033603f87f49676": {
      "model_module": "@jupyter-widgets/base",
      "model_module_version": "2.0.0",
      "model_name": "LayoutModel",
      "state": {
       "width": "95px"
      }
     },
     "a6a8ee7379974978877a3c91fc8f73fe": {
      "model_module": "@jupyter-widgets/controls",
      "model_module_version": "2.0.0",
      "model_name": "ButtonModel",
      "state": {
       "icon": "close",
       "layout": "IPY_MODEL_1962947211bc4091809ec92533324fb6",
       "style": "IPY_MODEL_402a9fadbc614b1c95672d6127616dbc",
       "tooltip": null
      }
     },
     "a6e509c99b454b25b0feab7cea63891d": {
      "model_module": "@jupyter-widgets/controls",
      "model_module_version": "2.0.0",
      "model_name": "HTMLStyleModel",
      "state": {
       "description_width": "",
       "font_size": null,
       "text_color": null
      }
     },
     "a6e625c1c82a45d6828e2d5822032abf": {
      "model_module": "@jupyter-widgets/base",
      "model_module_version": "2.0.0",
      "model_name": "LayoutModel",
      "state": {
       "width": "190px"
      }
     },
     "a70840762d3b43ab84912ec998482fc6": {
      "model_module": "@jupyter-widgets/controls",
      "model_module_version": "2.0.0",
      "model_name": "ButtonModel",
      "state": {
       "icon": "close",
       "layout": "IPY_MODEL_4dae52dad36647ceb595b36ab4a29a26",
       "style": "IPY_MODEL_746d22e62ad94003a2eea514c846db30",
       "tooltip": null
      }
     },
     "a746b28540a84da29a5ce4645d4c1359": {
      "model_module": "@jupyter-widgets/controls",
      "model_module_version": "2.0.0",
      "model_name": "HTMLModel",
      "state": {
       "layout": "IPY_MODEL_01b42dbe744147a681d8c38177868234",
       "style": "IPY_MODEL_8d63d555fa8e42faa2b0866342adba22",
       "value": "-"
      }
     },
     "a76cab762539478e848f80e272e4a0df": {
      "model_module": "@jupyter-widgets/controls",
      "model_module_version": "2.0.0",
      "model_name": "HTMLStyleModel",
      "state": {
       "description_width": "",
       "font_size": null,
       "text_color": null
      }
     },
     "a76e24e131374150a96de9bc35cb62d9": {
      "model_module": "@jupyter-widgets/controls",
      "model_module_version": "2.0.0",
      "model_name": "HTMLStyleModel",
      "state": {
       "description_width": "",
       "font_size": null,
       "text_color": null
      }
     },
     "a7d078f70a8d4501b8d5c32781e998f4": {
      "model_module": "@jupyter-widgets/controls",
      "model_module_version": "2.0.0",
      "model_name": "HTMLStyleModel",
      "state": {
       "description_width": "",
       "font_size": null,
       "text_color": null
      }
     },
     "a7e46939da934b9cad9489fd46e7a27d": {
      "model_module": "@jupyter-widgets/controls",
      "model_module_version": "2.0.0",
      "model_name": "HTMLModel",
      "state": {
       "layout": "IPY_MODEL_e07aa19cc0e1488a9dfd43aa64c7450b",
       "style": "IPY_MODEL_371181edc4e2435cafbb848d669473f9",
       "value": "cmde5n6y4c00008hxph0"
      }
     },
     "a7ff7c532337429f834b80f14789ba16": {
      "model_module": "@jupyter-widgets/controls",
      "model_module_version": "2.0.0",
      "model_name": "HTMLModel",
      "state": {
       "layout": "IPY_MODEL_62792f8215c248af97493e1667bb437b",
       "style": "IPY_MODEL_9acd0c0670e14965a6e3d2d4b81cf94e",
       "value": "ibm_nairobi"
      }
     },
     "a80125afde4b409e91ee71ff2263c8d4": {
      "model_module": "@jupyter-widgets/base",
      "model_module_version": "2.0.0",
      "model_name": "LayoutModel",
      "state": {}
     },
     "a83c58a60ad446e6ac1743ff4e77219a": {
      "model_module": "@jupyter-widgets/base",
      "model_module_version": "2.0.0",
      "model_name": "LayoutModel",
      "state": {}
     },
     "a852253e509d46839f6a8c018d07066b": {
      "model_module": "@jupyter-widgets/base",
      "model_module_version": "2.0.0",
      "model_name": "LayoutModel",
      "state": {
       "width": "190px"
      }
     },
     "a86cd08c00fd400d9100113002398e09": {
      "model_module": "@jupyter-widgets/controls",
      "model_module_version": "2.0.0",
      "model_name": "HTMLStyleModel",
      "state": {
       "description_width": "",
       "font_size": null,
       "text_color": null
      }
     },
     "a872e4c5ca314d6ea53a02852f1f993a": {
      "model_module": "@jupyter-widgets/controls",
      "model_module_version": "2.0.0",
      "model_name": "HTMLModel",
      "state": {
       "layout": "IPY_MODEL_2c64d091b71346e6b51fa3aba659b556",
       "style": "IPY_MODEL_4e26242881ec476fa09f520df34f338f",
       "value": "cmde4xkzjkb0008m25qg"
      }
     },
     "a8b5fe31d33841b6ad19bae18a9c2799": {
      "model_module": "@jupyter-widgets/controls",
      "model_module_version": "2.0.0",
      "model_name": "HTMLModel",
      "state": {
       "layout": "IPY_MODEL_784974aabd08407b92eb2361a0d6eb2b",
       "style": "IPY_MODEL_da70f3b8eae54bb4a3a9d10bb63722a3",
       "value": "job has successfully run"
      }
     },
     "a8cbb41a90f042bf9c558e37d873f7d8": {
      "model_module": "@jupyter-widgets/controls",
      "model_module_version": "2.0.0",
      "model_name": "ButtonModel",
      "state": {
       "icon": "close",
       "layout": "IPY_MODEL_b6288c8f5e404a6aa57ee61cf34ca6f6",
       "style": "IPY_MODEL_a366701bf3e94fee8fcb4c1deb9a4c51",
       "tooltip": null
      }
     },
     "a9281dcfc8374896be59e68ff19a534e": {
      "model_module": "@jupyter-widgets/controls",
      "model_module_version": "2.0.0",
      "model_name": "HTMLModel",
      "state": {
       "layout": "IPY_MODEL_4d9a9c44f2c047a8b9c3125300e234b8",
       "style": "IPY_MODEL_17b48e7097584987aeefd919b373d11c",
       "value": "<font style='color:#34BC6E'>DONE</font>"
      }
     },
     "a93db76eb7074ee6b8560eaa997d9132": {
      "model_module": "@jupyter-widgets/controls",
      "model_module_version": "2.0.0",
      "model_name": "ButtonStyleModel",
      "state": {
       "button_color": "white",
       "font_family": null,
       "font_size": null,
       "font_style": null,
       "font_variant": null,
       "font_weight": null,
       "text_color": null,
       "text_decoration": null
      }
     },
     "a977ec76458b4884807c1c95201d96e1": {
      "model_module": "@jupyter-widgets/base",
      "model_module_version": "2.0.0",
      "model_name": "LayoutModel",
      "state": {
       "width": "145px"
      }
     },
     "a9b4d38820fb4dd98c21d80a4ddc6e0c": {
      "model_module": "@jupyter-widgets/controls",
      "model_module_version": "2.0.0",
      "model_name": "ButtonModel",
      "state": {
       "icon": "close",
       "layout": "IPY_MODEL_3d214cd1e5ec4975bda175236fcab8ed",
       "style": "IPY_MODEL_bd97afe378d74c8cbdf089f3d874fe6f",
       "tooltip": null
      }
     },
     "aa04c9d4aac941678e0babf5e37d508c": {
      "model_module": "@jupyter-widgets/controls",
      "model_module_version": "2.0.0",
      "model_name": "HTMLStyleModel",
      "state": {
       "description_width": "",
       "font_size": null,
       "text_color": null
      }
     },
     "aa11d9cb515e46aba10af1f30a66e303": {
      "model_module": "@jupyter-widgets/controls",
      "model_module_version": "2.0.0",
      "model_name": "HTMLModel",
      "state": {
       "layout": "IPY_MODEL_ac9cb8f590f04db69efc235c3a4a2cb6",
       "style": "IPY_MODEL_f6e5003987644166b506200f46a94722",
       "value": "ibm_nairobi"
      }
     },
     "aa8298587f4a464f9a2dee84caf27ebe": {
      "model_module": "@jupyter-widgets/base",
      "model_module_version": "2.0.0",
      "model_name": "LayoutModel",
      "state": {
       "width": "70px"
      }
     },
     "aa84a7eacdef4faaa46e546a03fa2fe3": {
      "model_module": "@jupyter-widgets/controls",
      "model_module_version": "2.0.0",
      "model_name": "HTMLStyleModel",
      "state": {
       "description_width": "",
       "font_size": null,
       "text_color": null
      }
     },
     "aa98630e828744729c1d9d511746eac8": {
      "model_module": "@jupyter-widgets/controls",
      "model_module_version": "2.0.0",
      "model_name": "HTMLModel",
      "state": {
       "layout": "IPY_MODEL_202aa3e7d2244cddba95b3fc3266e8e6",
       "style": "IPY_MODEL_24da83864f854c43900cd2a6b0ad28a1",
       "value": "ibm_nairobi"
      }
     },
     "ab3e0dfbac7542c4993089263ca6c8ae": {
      "model_module": "@jupyter-widgets/base",
      "model_module_version": "2.0.0",
      "model_name": "LayoutModel",
      "state": {
       "width": "95px"
      }
     },
     "ab662b0c7fce4f48b79d0553c8ec8467": {
      "model_module": "@jupyter-widgets/base",
      "model_module_version": "2.0.0",
      "model_name": "LayoutModel",
      "state": {
       "width": "145px"
      }
     },
     "abc7e03f46e44e7ca1d035dfd3954814": {
      "model_module": "@jupyter-widgets/base",
      "model_module_version": "2.0.0",
      "model_name": "LayoutModel",
      "state": {
       "width": "95px"
      }
     },
     "abd7fe436cfe4e8b99d32f00d0e9a11d": {
      "model_module": "@jupyter-widgets/base",
      "model_module_version": "2.0.0",
      "model_name": "LayoutModel",
      "state": {
       "width": "190px"
      }
     },
     "ac7e9c6de89143c9927c5497cf057b68": {
      "model_module": "@jupyter-widgets/controls",
      "model_module_version": "2.0.0",
      "model_name": "HTMLStyleModel",
      "state": {
       "description_width": "",
       "font_size": null,
       "text_color": null
      }
     },
     "ac91e1afc25142b9a8a83a797f81b547": {
      "model_module": "@jupyter-widgets/base",
      "model_module_version": "2.0.0",
      "model_name": "LayoutModel",
      "state": {}
     },
     "ac9cb8f590f04db69efc235c3a4a2cb6": {
      "model_module": "@jupyter-widgets/base",
      "model_module_version": "2.0.0",
      "model_name": "LayoutModel",
      "state": {
       "width": "145px"
      }
     },
     "aca36c34f55b4c699ef4414b1aedb3e5": {
      "model_module": "@jupyter-widgets/controls",
      "model_module_version": "2.0.0",
      "model_name": "HTMLModel",
      "state": {
       "layout": "IPY_MODEL_4e19b4166f31406b94542720237f7e95",
       "style": "IPY_MODEL_6b9214ce06b0406eb6476de6cba3612c",
       "value": "job has successfully run"
      }
     },
     "acc6af20b6f143de9f9822acae346667": {
      "model_module": "@jupyter-widgets/controls",
      "model_module_version": "2.0.0",
      "model_name": "HTMLStyleModel",
      "state": {
       "description_width": "",
       "font_size": null,
       "text_color": null
      }
     },
     "accb94771ae94212bc4ef220aa0952bb": {
      "model_module": "@jupyter-widgets/controls",
      "model_module_version": "2.0.0",
      "model_name": "HTMLStyleModel",
      "state": {
       "description_width": "",
       "font_size": null,
       "text_color": null
      }
     },
     "ad3b08332fac4c47a9cc050413e59f17": {
      "model_module": "@jupyter-widgets/controls",
      "model_module_version": "2.0.0",
      "model_name": "HTMLStyleModel",
      "state": {
       "description_width": "",
       "font_size": null,
       "text_color": null
      }
     },
     "ad6e6e909ede45a29baf70c7d91aae81": {
      "model_module": "@jupyter-widgets/controls",
      "model_module_version": "2.0.0",
      "model_name": "HTMLModel",
      "state": {
       "layout": "IPY_MODEL_cb68bc97f5684348989ce85466e62bf4",
       "style": "IPY_MODEL_76be8d8093e049e297d7122889e67863",
       "value": "-"
      }
     },
     "addd69e208b944ebb2a2b63961712a67": {
      "model_module": "@jupyter-widgets/base",
      "model_module_version": "2.0.0",
      "model_name": "LayoutModel",
      "state": {
       "width": "70px"
      }
     },
     "ae448e70a76048e987f58e6df729436e": {
      "model_module": "@jupyter-widgets/controls",
      "model_module_version": "2.0.0",
      "model_name": "HTMLStyleModel",
      "state": {
       "description_width": "",
       "font_size": null,
       "text_color": null
      }
     },
     "ae71a30cc4264af59ec06bd0a061412c": {
      "model_module": "@jupyter-widgets/base",
      "model_module_version": "2.0.0",
      "model_name": "LayoutModel",
      "state": {
       "margin": "0px 5px 0px 0px",
       "width": "32px"
      }
     },
     "aeab501066be4ea2ac417f1c971c277a": {
      "model_module": "@jupyter-widgets/controls",
      "model_module_version": "2.0.0",
      "model_name": "HTMLModel",
      "state": {
       "layout": "IPY_MODEL_221469e7c8ea4fa19d973a6ed663d7d0",
       "style": "IPY_MODEL_5cbcefbe0df04566a85b2d0facbe5f47",
       "value": "-"
      }
     },
     "aecd19ce2fb04233b5ac9d949e3a4c0c": {
      "model_module": "@jupyter-widgets/base",
      "model_module_version": "2.0.0",
      "model_name": "LayoutModel",
      "state": {
       "max_width": "700px",
       "min_width": "700px"
      }
     },
     "af3833df2aaf48e3a1d805d19da925eb": {
      "model_module": "@jupyter-widgets/base",
      "model_module_version": "2.0.0",
      "model_name": "LayoutModel",
      "state": {
       "width": "145px"
      }
     },
     "af9b8e201e074a3c913865942ae03af6": {
      "model_module": "@jupyter-widgets/base",
      "model_module_version": "2.0.0",
      "model_name": "LayoutModel",
      "state": {
       "width": "190px"
      }
     },
     "afc34822b2e84f2da226fa3a00e285b8": {
      "model_module": "@jupyter-widgets/base",
      "model_module_version": "2.0.0",
      "model_name": "LayoutModel",
      "state": {
       "width": "190px"
      }
     },
     "b047e5b701074adab98ac494577a7f36": {
      "model_module": "@jupyter-widgets/controls",
      "model_module_version": "2.0.0",
      "model_name": "HTMLStyleModel",
      "state": {
       "description_width": "",
       "font_size": null,
       "text_color": null
      }
     },
     "b072955a7375416896aefe42f94d5e37": {
      "model_module": "@jupyter-widgets/controls",
      "model_module_version": "2.0.0",
      "model_name": "HTMLStyleModel",
      "state": {
       "description_width": "",
       "font_size": null,
       "text_color": null
      }
     },
     "b0da73ce5e934c5ba508e7a41fafb1e5": {
      "model_module": "@jupyter-widgets/controls",
      "model_module_version": "2.0.0",
      "model_name": "ButtonStyleModel",
      "state": {
       "button_color": "white",
       "font_family": null,
       "font_size": null,
       "font_style": null,
       "font_variant": null,
       "font_weight": null,
       "text_color": null,
       "text_decoration": null
      }
     },
     "b0e867446bf74e828712521159dfbfb5": {
      "model_module": "@jupyter-widgets/controls",
      "model_module_version": "2.0.0",
      "model_name": "ButtonModel",
      "state": {
       "icon": "close",
       "layout": "IPY_MODEL_3782f3f7b7f24b4cbe2f294c8409259e",
       "style": "IPY_MODEL_6e691bdc2ccf45a899f782c138c5c892",
       "tooltip": null
      }
     },
     "b0fb632343964790a1f8b4084b8e1704": {
      "model_module": "@jupyter-widgets/controls",
      "model_module_version": "2.0.0",
      "model_name": "HTMLModel",
      "state": {
       "layout": "IPY_MODEL_901ffc054f8a4a1bb37ca4bad8eb4b6c",
       "style": "IPY_MODEL_28f04152b2a24f729c2ae4b94d6cf5c1",
       "value": "job has successfully run"
      }
     },
     "b14008b8f9854c1a9adaa4d0d2af1374": {
      "model_module": "@jupyter-widgets/controls",
      "model_module_version": "2.0.0",
      "model_name": "HTMLModel",
      "state": {
       "layout": "IPY_MODEL_5314deb241874cea8d411b9018502699",
       "style": "IPY_MODEL_43ceffe7c3bd4cb8aabb0bc9f0cdecb4",
       "value": "cmde2pjy4c00008hxp4g"
      }
     },
     "b149b96fd098439088a1e19ad7416a6b": {
      "model_module": "@jupyter-widgets/base",
      "model_module_version": "2.0.0",
      "model_name": "LayoutModel",
      "state": {
       "width": "145px"
      }
     },
     "b15326e1e783405aa100484fce2c3f77": {
      "model_module": "@jupyter-widgets/base",
      "model_module_version": "2.0.0",
      "model_name": "LayoutModel",
      "state": {
       "width": "145px"
      }
     },
     "b16e5a97834b4185832c03c772114f61": {
      "model_module": "@jupyter-widgets/controls",
      "model_module_version": "2.0.0",
      "model_name": "HTMLStyleModel",
      "state": {
       "description_width": "",
       "font_size": null,
       "text_color": null
      }
     },
     "b1bcaef4390343ee94152587591022b2": {
      "model_module": "@jupyter-widgets/controls",
      "model_module_version": "2.0.0",
      "model_name": "HTMLModel",
      "state": {
       "layout": "IPY_MODEL_4c64d69facb549cab8b21e79f844d3f5",
       "style": "IPY_MODEL_942f0bffba7e41dbbc5475fb0ebfb545",
       "value": "<font style='color:#34BC6E'>DONE</font>"
      }
     },
     "b1bff89c21704915b4ef5c870d106405": {
      "model_module": "@jupyter-widgets/controls",
      "model_module_version": "2.0.0",
      "model_name": "ButtonStyleModel",
      "state": {
       "button_color": "white",
       "font_family": null,
       "font_size": null,
       "font_style": null,
       "font_variant": null,
       "font_weight": null,
       "text_color": null,
       "text_decoration": null
      }
     },
     "b1cb5d5efbcd4ff98e233160f20967e0": {
      "model_module": "@jupyter-widgets/controls",
      "model_module_version": "2.0.0",
      "model_name": "ButtonModel",
      "state": {
       "icon": "close",
       "layout": "IPY_MODEL_602e52fdea9e49f49569450714a63503",
       "style": "IPY_MODEL_c6fe8dacce654ed2a1e3be2b8f31fd03",
       "tooltip": null
      }
     },
     "b1cbe962a23d4ad89d88b265d915391e": {
      "model_module": "@jupyter-widgets/base",
      "model_module_version": "2.0.0",
      "model_name": "LayoutModel",
      "state": {
       "width": "145px"
      }
     },
     "b1d363b6434241daabd34cc47f656c39": {
      "model_module": "@jupyter-widgets/controls",
      "model_module_version": "2.0.0",
      "model_name": "HTMLModel",
      "state": {
       "layout": "IPY_MODEL_88e47d1adf284329bd7d07562de4c28a",
       "style": "IPY_MODEL_79fbdfed60e5461d8ffd8bc148bf5a17",
       "value": "job has successfully run"
      }
     },
     "b208669246e64230b5630ad6526a4176": {
      "model_module": "@jupyter-widgets/controls",
      "model_module_version": "2.0.0",
      "model_name": "HTMLModel",
      "state": {
       "layout": "IPY_MODEL_ead45205eb9d497ca478e5e203966557",
       "style": "IPY_MODEL_5209d246a1d54887befa5022b4645732",
       "value": "<font style='color:#34BC6E'>DONE</font>"
      }
     },
     "b20fbcce33cd46ecaa4b4d80f648e9b5": {
      "model_module": "@jupyter-widgets/controls",
      "model_module_version": "2.0.0",
      "model_name": "HTMLStyleModel",
      "state": {
       "description_width": "",
       "font_size": null,
       "text_color": null
      }
     },
     "b25f9d6a51ca4a59845dcadd8b343f00": {
      "model_module": "@jupyter-widgets/controls",
      "model_module_version": "2.0.0",
      "model_name": "ButtonStyleModel",
      "state": {
       "button_color": "white",
       "font_family": null,
       "font_size": null,
       "font_style": null,
       "font_variant": null,
       "font_weight": null,
       "text_color": null,
       "text_decoration": null
      }
     },
     "b2f191d9d1cc40e380de0aeaa908daa6": {
      "model_module": "@jupyter-widgets/controls",
      "model_module_version": "2.0.0",
      "model_name": "HTMLStyleModel",
      "state": {
       "description_width": "",
       "font_size": null,
       "text_color": null
      }
     },
     "b32a6e329fb64c1c8bd90b9b74f57930": {
      "model_module": "@jupyter-widgets/controls",
      "model_module_version": "2.0.0",
      "model_name": "HTMLModel",
      "state": {
       "layout": "IPY_MODEL_94c8516c229046dbab9a62a025a6ac7e",
       "style": "IPY_MODEL_3e518daab4dc4466896270e557ef577c",
       "value": "cmddd6wwcht0008yahk0"
      }
     },
     "b3761b4372bb45f9bf7526fc4664226f": {
      "model_module": "@jupyter-widgets/base",
      "model_module_version": "2.0.0",
      "model_name": "LayoutModel",
      "state": {}
     },
     "b3951904cafb4e4c8aa8be505742f3b0": {
      "model_module": "@jupyter-widgets/controls",
      "model_module_version": "2.0.0",
      "model_name": "ButtonStyleModel",
      "state": {
       "button_color": "white",
       "font_family": null,
       "font_size": null,
       "font_style": null,
       "font_variant": null,
       "font_weight": null,
       "text_color": null,
       "text_decoration": null
      }
     },
     "b45a3136d1e3483ea46abcd3865d780d": {
      "model_module": "@jupyter-widgets/controls",
      "model_module_version": "2.0.0",
      "model_name": "HTMLModel",
      "state": {
       "layout": "IPY_MODEL_84731b231c4f4ea9b1ddcb2ecc5c1585",
       "style": "IPY_MODEL_55f81653e6b84500a3ef9f6d152c58e6",
       "value": "-"
      }
     },
     "b476bdf452ab44dcb590c38089d88ad8": {
      "model_module": "@jupyter-widgets/controls",
      "model_module_version": "2.0.0",
      "model_name": "HTMLStyleModel",
      "state": {
       "description_width": "",
       "font_size": null,
       "text_color": null
      }
     },
     "b478baa43172480cbbca728734e7868e": {
      "model_module": "@jupyter-widgets/base",
      "model_module_version": "2.0.0",
      "model_name": "LayoutModel",
      "state": {
       "margin": "0px 5px 0px 0px",
       "width": "32px"
      }
     },
     "b47ec5bd7e7f45ec8666ee310ef7414f": {
      "model_module": "@jupyter-widgets/controls",
      "model_module_version": "2.0.0",
      "model_name": "HTMLModel",
      "state": {
       "layout": "IPY_MODEL_d6a47c85b2fd417190b9c4e9c1657759",
       "style": "IPY_MODEL_d98b17f5bae24bc79fbf852fa0059ff2",
       "value": "job has successfully run"
      }
     },
     "b4ccccd2ed92434cbbcd83369bd2cb01": {
      "model_module": "@jupyter-widgets/base",
      "model_module_version": "2.0.0",
      "model_name": "LayoutModel",
      "state": {
       "max_width": "700px",
       "min_width": "700px"
      }
     },
     "b4d5dd03764746c19c921aaee3624d46": {
      "model_module": "@jupyter-widgets/base",
      "model_module_version": "2.0.0",
      "model_name": "LayoutModel",
      "state": {
       "width": "95px"
      }
     },
     "b52ea7e44ae04dbebf691d58506badc2": {
      "model_module": "@jupyter-widgets/base",
      "model_module_version": "2.0.0",
      "model_name": "LayoutModel",
      "state": {
       "margin": "0px 5px 0px 0px",
       "width": "32px"
      }
     },
     "b53984a204114aab8bb2d3caf17fef36": {
      "model_module": "@jupyter-widgets/controls",
      "model_module_version": "2.0.0",
      "model_name": "HTMLModel",
      "state": {
       "layout": "IPY_MODEL_50e9a75c85244795939679371b5b7d1c",
       "style": "IPY_MODEL_3c2df5cb940e421aaca192ad5a86616c",
       "value": "<h5>Job ID</h5>"
      }
     },
     "b539fdaceb4c4f1e9c2f1d6b18577f8a": {
      "model_module": "@jupyter-widgets/controls",
      "model_module_version": "2.0.0",
      "model_name": "HTMLModel",
      "state": {
       "layout": "IPY_MODEL_4c2775746fc74ec799b93689ec10fdcb",
       "style": "IPY_MODEL_a14e579d87744bf6a3bc220a6a349ace",
       "value": "cmde2x3wq3k0008sz11g"
      }
     },
     "b5882f83f7c240ec832972512b1e9fd8": {
      "model_module": "@jupyter-widgets/controls",
      "model_module_version": "2.0.0",
      "model_name": "HTMLStyleModel",
      "state": {
       "description_width": "",
       "font_size": null,
       "text_color": null
      }
     },
     "b5c1e692c21e433984f3d8c14c25825a": {
      "model_module": "@jupyter-widgets/controls",
      "model_module_version": "2.0.0",
      "model_name": "HTMLModel",
      "state": {
       "layout": "IPY_MODEL_102f045253ea4aac9aa550555a5a8be7",
       "style": "IPY_MODEL_999bc86600554d5587e6e29fb97917a9",
       "value": "-"
      }
     },
     "b6283b4f7300474980efcd128e625a85": {
      "model_module": "@jupyter-widgets/controls",
      "model_module_version": "2.0.0",
      "model_name": "HBoxModel",
      "state": {
       "children": [
        "IPY_MODEL_b53984a204114aab8bb2d3caf17fef36",
        "IPY_MODEL_72f72dcb736448e2bf3bf0fb75258cb5",
        "IPY_MODEL_0abda94a5ee84540b71f5b11d3b14808",
        "IPY_MODEL_9aa7f555fce5422791a2e724db44fdb5",
        "IPY_MODEL_92382e1061a84bd2966c15e5c59a16c2"
       ],
       "layout": "IPY_MODEL_c8db8ee6c9934041b31fda9eb6871181"
      }
     },
     "b6288c8f5e404a6aa57ee61cf34ca6f6": {
      "model_module": "@jupyter-widgets/base",
      "model_module_version": "2.0.0",
      "model_name": "LayoutModel",
      "state": {
       "margin": "0px 5px 0px 0px",
       "width": "32px"
      }
     },
     "b63ed2d51cde42ed9cd01b42f776a971": {
      "model_module": "@jupyter-widgets/controls",
      "model_module_version": "2.0.0",
      "model_name": "ButtonStyleModel",
      "state": {
       "button_color": "white",
       "font_family": null,
       "font_size": null,
       "font_style": null,
       "font_variant": null,
       "font_weight": null,
       "text_color": null,
       "text_decoration": null
      }
     },
     "b69ee6f512ac41afa6bffc2214fccc7d": {
      "model_module": "@jupyter-widgets/base",
      "model_module_version": "2.0.0",
      "model_name": "LayoutModel",
      "state": {
       "margin": "0px 5px 0px 0px",
       "width": "32px"
      }
     },
     "b6e0ec1ed02f4b398d702e64383601ae": {
      "model_module": "@jupyter-widgets/base",
      "model_module_version": "2.0.0",
      "model_name": "LayoutModel",
      "state": {
       "width": "95px"
      }
     },
     "b76a1558bea64b82a58eeb08689f02f7": {
      "model_module": "@jupyter-widgets/controls",
      "model_module_version": "2.0.0",
      "model_name": "HTMLStyleModel",
      "state": {
       "description_width": "",
       "font_size": null,
       "text_color": null
      }
     },
     "b77c1e5175704b9dbf150e010bbad206": {
      "model_module": "@jupyter-widgets/base",
      "model_module_version": "2.0.0",
      "model_name": "LayoutModel",
      "state": {
       "width": "190px"
      }
     },
     "b7e162f678ea40a6b5aa3bd65db5802a": {
      "model_module": "@jupyter-widgets/base",
      "model_module_version": "2.0.0",
      "model_name": "LayoutModel",
      "state": {
       "width": "95px"
      }
     },
     "b7e6be6ac15c4f889d701f677555f84f": {
      "model_module": "@jupyter-widgets/controls",
      "model_module_version": "2.0.0",
      "model_name": "ButtonStyleModel",
      "state": {
       "button_color": "white",
       "font_family": null,
       "font_size": null,
       "font_style": null,
       "font_variant": null,
       "font_weight": null,
       "text_color": null,
       "text_decoration": null
      }
     },
     "b826e0bac0ce4a51a1fe021147293760": {
      "model_module": "@jupyter-widgets/controls",
      "model_module_version": "2.0.0",
      "model_name": "HTMLStyleModel",
      "state": {
       "description_width": "",
       "font_size": null,
       "text_color": null
      }
     },
     "b834aaf559bf46d48dc6d0372fe095b6": {
      "model_module": "@jupyter-widgets/controls",
      "model_module_version": "2.0.0",
      "model_name": "HTMLStyleModel",
      "state": {
       "description_width": "",
       "font_size": null,
       "text_color": null
      }
     },
     "b88258ea0dba435a930a9bdc1630d5c0": {
      "model_module": "@jupyter-widgets/base",
      "model_module_version": "2.0.0",
      "model_name": "LayoutModel",
      "state": {
       "width": "70px"
      }
     },
     "b8903070d7854739bc9bd9bb9a1d7503": {
      "model_module": "@jupyter-widgets/controls",
      "model_module_version": "2.0.0",
      "model_name": "HTMLStyleModel",
      "state": {
       "description_width": "",
       "font_size": null,
       "text_color": null
      }
     },
     "b8a6be5b23c7424291bcc53fd14a8ffc": {
      "model_module": "@jupyter-widgets/controls",
      "model_module_version": "2.0.0",
      "model_name": "HTMLStyleModel",
      "state": {
       "description_width": "",
       "font_size": null,
       "text_color": null
      }
     },
     "b8b6252ef6d44df28e72cbb922a66a89": {
      "model_module": "@jupyter-widgets/base",
      "model_module_version": "2.0.0",
      "model_name": "LayoutModel",
      "state": {
       "width": "95px"
      }
     },
     "b8e34ce819e746169dba87ad1cc794dd": {
      "model_module": "@jupyter-widgets/base",
      "model_module_version": "2.0.0",
      "model_name": "LayoutModel",
      "state": {}
     },
     "b9020248a04c4924b1b00f2ae00f45bc": {
      "model_module": "@jupyter-widgets/base",
      "model_module_version": "2.0.0",
      "model_name": "LayoutModel",
      "state": {
       "margin": "0px 5px 0px 0px",
       "width": "32px"
      }
     },
     "b92f944a57aa4e6b8ed68e1ad8a0ecb6": {
      "model_module": "@jupyter-widgets/controls",
      "model_module_version": "2.0.0",
      "model_name": "HTMLModel",
      "state": {
       "layout": "IPY_MODEL_40b81c2a91f34d5bbf00f0603f5d57f2",
       "style": "IPY_MODEL_3f4f14f934034b748dd394f9eface3a9",
       "value": "cmde4484z12g008ncbyg"
      }
     },
     "b9486247e5d94ab1adc9705f692479ea": {
      "model_module": "@jupyter-widgets/controls",
      "model_module_version": "2.0.0",
      "model_name": "HTMLStyleModel",
      "state": {
       "description_width": "",
       "font_size": null,
       "text_color": null
      }
     },
     "b94f5fc4e5d54660ba52c1372bd2981c": {
      "model_module": "@jupyter-widgets/base",
      "model_module_version": "2.0.0",
      "model_name": "LayoutModel",
      "state": {
       "width": "70px"
      }
     },
     "b952ca89f8314232a18324f051af7675": {
      "model_module": "@jupyter-widgets/controls",
      "model_module_version": "2.0.0",
      "model_name": "HTMLStyleModel",
      "state": {
       "description_width": "",
       "font_size": null,
       "text_color": null
      }
     },
     "b99ec85003db4d92a03a598e113713f2": {
      "model_module": "@jupyter-widgets/base",
      "model_module_version": "2.0.0",
      "model_name": "LayoutModel",
      "state": {}
     },
     "b9c060768bbc44cb973dc856eca8b808": {
      "model_module": "@jupyter-widgets/base",
      "model_module_version": "2.0.0",
      "model_name": "LayoutModel",
      "state": {
       "width": "95px"
      }
     },
     "ba4fc99a79f04868a9460bfe1e346765": {
      "model_module": "@jupyter-widgets/controls",
      "model_module_version": "2.0.0",
      "model_name": "HTMLModel",
      "state": {
       "layout": "IPY_MODEL_3d8a41667ede479b80e6c341e1093885",
       "style": "IPY_MODEL_a53d8a4dccf24ca2bb1a64cb7e584b58",
       "value": "job has successfully run"
      }
     },
     "ba83e00cf08245dd9d5939964b5dd5f2": {
      "model_module": "@jupyter-widgets/controls",
      "model_module_version": "2.0.0",
      "model_name": "ButtonModel",
      "state": {
       "icon": "close",
       "layout": "IPY_MODEL_8f0aa3d96705464d962b0155debca4f2",
       "style": "IPY_MODEL_b1bff89c21704915b4ef5c870d106405",
       "tooltip": null
      }
     },
     "bb2e2ad1b529403e975bcfc59d7ca93b": {
      "model_module": "@jupyter-widgets/base",
      "model_module_version": "2.0.0",
      "model_name": "LayoutModel",
      "state": {
       "width": "145px"
      }
     },
     "bb7e2994cb2b40ba9a2c5ceaf5867640": {
      "model_module": "@jupyter-widgets/controls",
      "model_module_version": "2.0.0",
      "model_name": "HTMLStyleModel",
      "state": {
       "description_width": "",
       "font_size": null,
       "text_color": null
      }
     },
     "bb85ba18c5974aa2a99649b0eeb9666d": {
      "model_module": "@jupyter-widgets/base",
      "model_module_version": "2.0.0",
      "model_name": "LayoutModel",
      "state": {
       "width": "145px"
      }
     },
     "bbf1dab4d30e4097b98f483024bc97af": {
      "model_module": "@jupyter-widgets/base",
      "model_module_version": "2.0.0",
      "model_name": "LayoutModel",
      "state": {
       "width": "145px"
      }
     },
     "bcf2c08f27964559b800513a53e9f8c3": {
      "model_module": "@jupyter-widgets/controls",
      "model_module_version": "2.0.0",
      "model_name": "HBoxModel",
      "state": {
       "children": [
        "IPY_MODEL_dc10a74963354512867d56d72166aa60",
        "IPY_MODEL_0e2e0dc78ef84f0b8ef1675c7b130f08",
        "IPY_MODEL_d113ddd8bd5b4d5086da49702c3953b9",
        "IPY_MODEL_4f9baaaee340485ea8f733970ed8d732",
        "IPY_MODEL_4198419e9b824b43a47cea00ac9bd35e",
        "IPY_MODEL_a44b24c4fc58462cbc14ae1ee0bf9714"
       ],
       "layout": "IPY_MODEL_56d88d2687304fbda1f90a694ebf127b"
      }
     },
     "bd152169520f47f699323e115b8337ff": {
      "model_module": "@jupyter-widgets/base",
      "model_module_version": "2.0.0",
      "model_name": "LayoutModel",
      "state": {
       "max_width": "700px",
       "min_width": "700px"
      }
     },
     "bd6bdcab73114b2f90afaad53fe3387b": {
      "model_module": "@jupyter-widgets/controls",
      "model_module_version": "2.0.0",
      "model_name": "HTMLStyleModel",
      "state": {
       "description_width": "",
       "font_size": null,
       "text_color": null
      }
     },
     "bd92fbe621434965b97eacbb39de5b20": {
      "model_module": "@jupyter-widgets/base",
      "model_module_version": "2.0.0",
      "model_name": "LayoutModel",
      "state": {
       "width": "70px"
      }
     },
     "bd97afe378d74c8cbdf089f3d874fe6f": {
      "model_module": "@jupyter-widgets/controls",
      "model_module_version": "2.0.0",
      "model_name": "ButtonStyleModel",
      "state": {
       "button_color": "white",
       "font_family": null,
       "font_size": null,
       "font_style": null,
       "font_variant": null,
       "font_weight": null,
       "text_color": null,
       "text_decoration": null
      }
     },
     "bdd890761cd94fa0a485f6a94d296374": {
      "model_module": "@jupyter-widgets/controls",
      "model_module_version": "2.0.0",
      "model_name": "HTMLStyleModel",
      "state": {
       "description_width": "",
       "font_size": null,
       "text_color": null
      }
     },
     "bdecbc12b6c847d38f4de136ab822ead": {
      "model_module": "@jupyter-widgets/base",
      "model_module_version": "2.0.0",
      "model_name": "LayoutModel",
      "state": {
       "width": "190px"
      }
     },
     "be0364e1aa72464eaad3d5c24e69e73a": {
      "model_module": "@jupyter-widgets/controls",
      "model_module_version": "2.0.0",
      "model_name": "ButtonStyleModel",
      "state": {
       "button_color": "white",
       "font_family": null,
       "font_size": null,
       "font_style": null,
       "font_variant": null,
       "font_weight": null,
       "text_color": null,
       "text_decoration": null
      }
     },
     "be062f765b704753aaa072880be5547a": {
      "model_module": "@jupyter-widgets/base",
      "model_module_version": "2.0.0",
      "model_name": "LayoutModel",
      "state": {
       "margin": "0px 5px 0px 0px",
       "width": "32px"
      }
     },
     "be58c2b9ad324fadb049d67a28e2da51": {
      "model_module": "@jupyter-widgets/controls",
      "model_module_version": "2.0.0",
      "model_name": "HTMLStyleModel",
      "state": {
       "description_width": "",
       "font_size": null,
       "text_color": null
      }
     },
     "be62cc56f3c74642b9eb25d8b7fc26cc": {
      "model_module": "@jupyter-widgets/controls",
      "model_module_version": "2.0.0",
      "model_name": "HTMLStyleModel",
      "state": {
       "description_width": "",
       "font_size": null,
       "text_color": null
      }
     },
     "be6aec04bd0c401585ea948bb49ec79e": {
      "model_module": "@jupyter-widgets/controls",
      "model_module_version": "2.0.0",
      "model_name": "HTMLStyleModel",
      "state": {
       "description_width": "",
       "font_size": null,
       "text_color": null
      }
     },
     "bec17afba6524719bed239a316e20422": {
      "model_module": "@jupyter-widgets/controls",
      "model_module_version": "2.0.0",
      "model_name": "HTMLModel",
      "state": {
       "layout": "IPY_MODEL_76877ee824884eaba66f2c718e481e88",
       "style": "IPY_MODEL_23b999eece0544bba358a54464b665a6",
       "value": "cmde210zjkb0008m25eg"
      }
     },
     "bef1b5f3859442b0bbce22159df90379": {
      "model_module": "@jupyter-widgets/base",
      "model_module_version": "2.0.0",
      "model_name": "LayoutModel",
      "state": {
       "width": "70px"
      }
     },
     "bef4c79667ad48f0bb281a6274e7d5c0": {
      "model_module": "@jupyter-widgets/controls",
      "model_module_version": "2.0.0",
      "model_name": "ButtonModel",
      "state": {
       "icon": "close",
       "layout": "IPY_MODEL_385d69e053e84d99a4693a9265e1fa68",
       "style": "IPY_MODEL_31ac0fa644e3497298b29d5ab8cb046c",
       "tooltip": null
      }
     },
     "bf085ef7d4924b4a924e9c36d6ddb0b1": {
      "model_module": "@jupyter-widgets/base",
      "model_module_version": "2.0.0",
      "model_name": "LayoutModel",
      "state": {
       "width": "95px"
      }
     },
     "bfd199ea5760434583899dfa3f2c9b8d": {
      "model_module": "@jupyter-widgets/controls",
      "model_module_version": "2.0.0",
      "model_name": "HTMLModel",
      "state": {
       "layout": "IPY_MODEL_3089e73b56444a12814d70b51b2ad4d7",
       "style": "IPY_MODEL_a523274b96ac46c689619c81f736595d",
       "value": "<font style='color:#34BC6E'>DONE</font>"
      }
     },
     "bfe235b88d9548af97a7193031eecf8b": {
      "model_module": "@jupyter-widgets/controls",
      "model_module_version": "2.0.0",
      "model_name": "ButtonStyleModel",
      "state": {
       "button_color": "white",
       "font_family": null,
       "font_size": null,
       "font_style": null,
       "font_variant": null,
       "font_weight": null,
       "text_color": null,
       "text_decoration": null
      }
     },
     "c04ebd4d26244ae693992880e5f35f2b": {
      "model_module": "@jupyter-widgets/base",
      "model_module_version": "2.0.0",
      "model_name": "LayoutModel",
      "state": {
       "width": "145px"
      }
     },
     "c07eec6452cb467dadd993634a34a46d": {
      "model_module": "@jupyter-widgets/controls",
      "model_module_version": "2.0.0",
      "model_name": "HTMLStyleModel",
      "state": {
       "description_width": "",
       "font_size": null,
       "text_color": null
      }
     },
     "c081c095e9d243519983a2d1f1bbf105": {
      "model_module": "@jupyter-widgets/controls",
      "model_module_version": "2.0.0",
      "model_name": "HTMLModel",
      "state": {
       "layout": "IPY_MODEL_e189ca9377744b828f599b2a54eefd26",
       "style": "IPY_MODEL_f4d68145bfc44cadb843a242856c1da9",
       "value": "ibm_nairobi"
      }
     },
     "c0db5d85d2fe4495b75b9b73c2bc7adc": {
      "model_module": "@jupyter-widgets/controls",
      "model_module_version": "2.0.0",
      "model_name": "HTMLStyleModel",
      "state": {
       "description_width": "",
       "font_size": null,
       "text_color": null
      }
     },
     "c104806aba1146dea1a88b6d23ae3aa5": {
      "model_module": "@jupyter-widgets/controls",
      "model_module_version": "2.0.0",
      "model_name": "HTMLStyleModel",
      "state": {
       "description_width": "",
       "font_size": null,
       "text_color": null
      }
     },
     "c10b61b56cd0417ba1f92bb07adc0723": {
      "model_module": "@jupyter-widgets/controls",
      "model_module_version": "2.0.0",
      "model_name": "HTMLStyleModel",
      "state": {
       "description_width": "",
       "font_size": null,
       "text_color": null
      }
     },
     "c10eef493f3645709a6fb912a577558b": {
      "model_module": "@jupyter-widgets/base",
      "model_module_version": "2.0.0",
      "model_name": "LayoutModel",
      "state": {
       "width": "145px"
      }
     },
     "c151f943fc1d44d68a14c5d4d3a6451c": {
      "model_module": "@jupyter-widgets/controls",
      "model_module_version": "2.0.0",
      "model_name": "HTMLStyleModel",
      "state": {
       "description_width": "",
       "font_size": null,
       "text_color": null
      }
     },
     "c1bb4b1f7bc640389d4849289d20fb55": {
      "model_module": "@jupyter-widgets/controls",
      "model_module_version": "2.0.0",
      "model_name": "HTMLModel",
      "state": {
       "layout": "IPY_MODEL_b88258ea0dba435a930a9bdc1630d5c0",
       "style": "IPY_MODEL_9aefc355f0d04d9ba31364b8568027ff",
       "value": "-"
      }
     },
     "c1dbe715b3004767b896ac9e27a94d38": {
      "model_module": "@jupyter-widgets/controls",
      "model_module_version": "2.0.0",
      "model_name": "HTMLModel",
      "state": {
       "layout": "IPY_MODEL_e74aa29ee22c4925807f32684b8266a5",
       "style": "IPY_MODEL_1b2c6b2bb35045e7b0e1da8773015645",
       "value": "cmde4gj4z12g008ncc0g"
      }
     },
     "c1dc9e28b74d40b49bfcbd9c2b7842e7": {
      "model_module": "@jupyter-widgets/controls",
      "model_module_version": "2.0.0",
      "model_name": "HTMLModel",
      "state": {
       "layout": "IPY_MODEL_d8ad62f7ac4a4dbb962ac57a2621261b",
       "style": "IPY_MODEL_b9486247e5d94ab1adc9705f692479ea",
       "value": "-"
      }
     },
     "c1e57a9facfb451db431369443c9d3d5": {
      "model_module": "@jupyter-widgets/controls",
      "model_module_version": "2.0.0",
      "model_name": "HTMLStyleModel",
      "state": {
       "description_width": "",
       "font_size": null,
       "text_color": null
      }
     },
     "c203a355aea24c819ab8d40293ec6181": {
      "model_module": "@jupyter-widgets/controls",
      "model_module_version": "2.0.0",
      "model_name": "HTMLStyleModel",
      "state": {
       "description_width": "",
       "font_size": null,
       "text_color": null
      }
     },
     "c2371740806b47a48323425484bb174a": {
      "model_module": "@jupyter-widgets/base",
      "model_module_version": "2.0.0",
      "model_name": "LayoutModel",
      "state": {
       "width": "145px"
      }
     },
     "c2a65bae2b0c4cf19f0f117679ca349a": {
      "model_module": "@jupyter-widgets/base",
      "model_module_version": "2.0.0",
      "model_name": "LayoutModel",
      "state": {
       "margin": "0px 5px 0px 0px",
       "width": "32px"
      }
     },
     "c32f573a4e9c4ed997369fe637f807b9": {
      "model_module": "@jupyter-widgets/controls",
      "model_module_version": "2.0.0",
      "model_name": "HBoxModel",
      "state": {
       "children": [
        "IPY_MODEL_0fa836e8f5d24611bf1efc063b1b08a8",
        "IPY_MODEL_4b45cbc97be845b38982d55186e44bca",
        "IPY_MODEL_2350a95ba0724ce0b871d45a172d7afb",
        "IPY_MODEL_db3d29a8aef948dca0eba26f23c4aba9",
        "IPY_MODEL_d73e7b7ca0674f26bb0236ffea1528dd",
        "IPY_MODEL_fa156b27a24e4727a7ac367f8e985339"
       ],
       "layout": "IPY_MODEL_df48a3591cd44b9f801c2ffd4df02ecf"
      }
     },
     "c3387c2164b24675b588b54a81ad5cae": {
      "model_module": "@jupyter-widgets/base",
      "model_module_version": "2.0.0",
      "model_name": "LayoutModel",
      "state": {
       "width": "190px"
      }
     },
     "c344ddf1af75497484914da41d9d9170": {
      "model_module": "@jupyter-widgets/controls",
      "model_module_version": "2.0.0",
      "model_name": "HTMLModel",
      "state": {
       "layout": "IPY_MODEL_0b97e221c7544fdc93360718cc848c66",
       "style": "IPY_MODEL_18c99ee45fd04f64ac8a293a8e7a1dc0",
       "value": "<font style='color:#34BC6E'>DONE</font>"
      }
     },
     "c36d1ddb35934814b76520eb38c0af43": {
      "model_module": "@jupyter-widgets/base",
      "model_module_version": "2.0.0",
      "model_name": "LayoutModel",
      "state": {
       "width": "95px"
      }
     },
     "c37661a3ac174194996a7146264cf30e": {
      "model_module": "@jupyter-widgets/base",
      "model_module_version": "2.0.0",
      "model_name": "LayoutModel",
      "state": {
       "width": "95px"
      }
     },
     "c37f3d2e79d548d1a3d3d198f4ccddbf": {
      "model_module": "@jupyter-widgets/controls",
      "model_module_version": "2.0.0",
      "model_name": "HTMLModel",
      "state": {
       "layout": "IPY_MODEL_39beddc47ede42928ecdc692501dd984",
       "style": "IPY_MODEL_d6712632af2c40f8992fdfeec06951c5",
       "value": "ibm_nairobi"
      }
     },
     "c3b2403a6a5d4aa68c738da67a2510eb": {
      "model_module": "@jupyter-widgets/base",
      "model_module_version": "2.0.0",
      "model_name": "LayoutModel",
      "state": {
       "max_width": "700px",
       "min_width": "700px"
      }
     },
     "c3b93f0a11c84529b18d52dee7114dec": {
      "model_module": "@jupyter-widgets/controls",
      "model_module_version": "2.0.0",
      "model_name": "HTMLStyleModel",
      "state": {
       "description_width": "",
       "font_size": null,
       "text_color": null
      }
     },
     "c3c6ff843d4f4c88bbe6dd5133907b41": {
      "model_module": "@jupyter-widgets/controls",
      "model_module_version": "2.0.0",
      "model_name": "HTMLModel",
      "state": {
       "layout": "IPY_MODEL_e2772e6081454ad584d60872b8612e01",
       "style": "IPY_MODEL_30d2bc3c7f6a4d66b38db0ff0ca2c5bb",
       "value": "<font style='color:#34BC6E'>DONE</font>"
      }
     },
     "c3f536b5fbc04e498c79ae9e4b9ea709": {
      "model_module": "@jupyter-widgets/controls",
      "model_module_version": "2.0.0",
      "model_name": "HTMLModel",
      "state": {
       "layout": "IPY_MODEL_0cd84e2c0b5844efbdca9888d672d109",
       "style": "IPY_MODEL_80e69458e92b4905945ef9ff6b42975d",
       "value": "-"
      }
     },
     "c40b53b3ce444b6ca1206450cb2c1a91": {
      "model_module": "@jupyter-widgets/base",
      "model_module_version": "2.0.0",
      "model_name": "LayoutModel",
      "state": {
       "width": "95px"
      }
     },
     "c470fcb5117645f281e69aa2e8ac5eab": {
      "model_module": "@jupyter-widgets/base",
      "model_module_version": "2.0.0",
      "model_name": "LayoutModel",
      "state": {
       "margin": "0px 5px 0px 0px",
       "width": "32px"
      }
     },
     "c4b71bd16439430c96fda031983bd959": {
      "model_module": "@jupyter-widgets/base",
      "model_module_version": "2.0.0",
      "model_name": "LayoutModel",
      "state": {
       "width": "145px"
      }
     },
     "c4d1f2e933e446b98725df90e290c2ef": {
      "model_module": "@jupyter-widgets/base",
      "model_module_version": "2.0.0",
      "model_name": "LayoutModel",
      "state": {
       "width": "190px"
      }
     },
     "c4fa79cb28d34321a4691b82219fb025": {
      "model_module": "@jupyter-widgets/controls",
      "model_module_version": "2.0.0",
      "model_name": "ButtonStyleModel",
      "state": {
       "button_color": "white",
       "font_family": null,
       "font_size": null,
       "font_style": null,
       "font_variant": null,
       "font_weight": null,
       "text_color": null,
       "text_decoration": null
      }
     },
     "c5472c7692f44a0fb4a204a1b56e1271": {
      "model_module": "@jupyter-widgets/base",
      "model_module_version": "2.0.0",
      "model_name": "LayoutModel",
      "state": {}
     },
     "c5634d7294f84c5b872a8cf4d3478ac2": {
      "model_module": "@jupyter-widgets/controls",
      "model_module_version": "2.0.0",
      "model_name": "HTMLStyleModel",
      "state": {
       "description_width": "",
       "font_size": null,
       "text_color": null
      }
     },
     "c5a4ad4a24a140619fbe4dcf8ac9db34": {
      "model_module": "@jupyter-widgets/controls",
      "model_module_version": "2.0.0",
      "model_name": "HTMLModel",
      "state": {
       "layout": "IPY_MODEL_1588502e5d0a4cdbae604d05f113f510",
       "style": "IPY_MODEL_b76a1558bea64b82a58eeb08689f02f7",
       "value": "<font style='color:#34BC6E'>DONE</font>"
      }
     },
     "c5a77757641b4ddfbf7835dc0ebde500": {
      "model_module": "@jupyter-widgets/controls",
      "model_module_version": "2.0.0",
      "model_name": "HTMLModel",
      "state": {
       "layout": "IPY_MODEL_fe17c919b84a49b4877db28166ef254f",
       "style": "IPY_MODEL_7839ff2fdb1841e7bc3bdcab4b5e9c71",
       "value": "-"
      }
     },
     "c5e73664094449e389b0b049055f8594": {
      "model_module": "@jupyter-widgets/controls",
      "model_module_version": "2.0.0",
      "model_name": "HTMLStyleModel",
      "state": {
       "description_width": "",
       "font_size": null,
       "text_color": null
      }
     },
     "c613abc10c784c1f802b729c0672c23d": {
      "model_module": "@jupyter-widgets/controls",
      "model_module_version": "2.0.0",
      "model_name": "HTMLStyleModel",
      "state": {
       "description_width": "",
       "font_size": null,
       "text_color": null
      }
     },
     "c613ac66981e43ef97590ee0866fd4b1": {
      "model_module": "@jupyter-widgets/controls",
      "model_module_version": "2.0.0",
      "model_name": "HTMLModel",
      "state": {
       "layout": "IPY_MODEL_2cb0eb6ceab74ea881e440e249905ed7",
       "style": "IPY_MODEL_73a7ecfab63748ab87d1f90770193692",
       "value": "<font style='color:#34BC6E'>DONE</font>"
      }
     },
     "c61ad18e107044f493bb915e50a91edf": {
      "model_module": "@jupyter-widgets/controls",
      "model_module_version": "2.0.0",
      "model_name": "HBoxModel",
      "state": {
       "children": [
        "IPY_MODEL_96b0e8ed423740d1ab0a06202890730d",
        "IPY_MODEL_8ead904d78fb47c098a195986ec53dd9",
        "IPY_MODEL_a7ff7c532337429f834b80f14789ba16",
        "IPY_MODEL_c344ddf1af75497484914da41d9d9170",
        "IPY_MODEL_779af6bd86a344959534b2dc115fc129",
        "IPY_MODEL_b47ec5bd7e7f45ec8666ee310ef7414f"
       ],
       "layout": "IPY_MODEL_26b50ea744e9407b82bc806fc1ce9ee9"
      }
     },
     "c6985b59104449779a2a6a1bf0eb4f54": {
      "model_module": "@jupyter-widgets/base",
      "model_module_version": "2.0.0",
      "model_name": "LayoutModel",
      "state": {
       "width": "145px"
      }
     },
     "c6fe8dacce654ed2a1e3be2b8f31fd03": {
      "model_module": "@jupyter-widgets/controls",
      "model_module_version": "2.0.0",
      "model_name": "ButtonStyleModel",
      "state": {
       "button_color": "white",
       "font_family": null,
       "font_size": null,
       "font_style": null,
       "font_variant": null,
       "font_weight": null,
       "text_color": null,
       "text_decoration": null
      }
     },
     "c74e7ec18d284115b167ca8dee576315": {
      "model_module": "@jupyter-widgets/base",
      "model_module_version": "2.0.0",
      "model_name": "LayoutModel",
      "state": {}
     },
     "c74f73f52b5a484ea40bcdc4f611ff09": {
      "model_module": "@jupyter-widgets/controls",
      "model_module_version": "2.0.0",
      "model_name": "HTMLStyleModel",
      "state": {
       "description_width": "",
       "font_size": null,
       "text_color": null
      }
     },
     "c78c2a770d16485f9d101dc1b50af68c": {
      "model_module": "@jupyter-widgets/controls",
      "model_module_version": "2.0.0",
      "model_name": "HTMLModel",
      "state": {
       "layout": "IPY_MODEL_19fbf43607d7472ebd626b9c9817ce3a",
       "style": "IPY_MODEL_84e28d00f994442eb46c2d7db0c52a90",
       "value": "<font style='color:#34BC6E'>DONE</font>"
      }
     },
     "c7952147118249a789cbb04ca448be32": {
      "model_module": "@jupyter-widgets/controls",
      "model_module_version": "2.0.0",
      "model_name": "HTMLModel",
      "state": {
       "layout": "IPY_MODEL_5495fca7b6344698bf50a1ab478b1f0e",
       "style": "IPY_MODEL_3c143ce9a2f845389e55ce585fe8f38b",
       "value": "job has successfully run"
      }
     },
     "c7a49828ed314829a0668eaa9b412116": {
      "model_module": "@jupyter-widgets/controls",
      "model_module_version": "2.0.0",
      "model_name": "HTMLModel",
      "state": {
       "layout": "IPY_MODEL_f3eed8267dd54b798867241614665bff",
       "style": "IPY_MODEL_8a6ba5c1529e4d0fb79be6effda0eb60",
       "value": "job has successfully run"
      }
     },
     "c7c4f32913fb4c4c94ed9fa7ac66f276": {
      "model_module": "@jupyter-widgets/controls",
      "model_module_version": "2.0.0",
      "model_name": "HTMLStyleModel",
      "state": {
       "description_width": "",
       "font_size": null,
       "text_color": null
      }
     },
     "c8103631d11542d09f206723782c6f9d": {
      "model_module": "@jupyter-widgets/controls",
      "model_module_version": "2.0.0",
      "model_name": "HBoxModel",
      "state": {
       "children": [
        "IPY_MODEL_a8cbb41a90f042bf9c558e37d873f7d8",
        "IPY_MODEL_888b548f4a964f15a6348178f774f78a",
        "IPY_MODEL_7cf0bb82aed646e6b19105893d755bd4",
        "IPY_MODEL_316778a2e30e4c68ac2ba0b24c0acdf3",
        "IPY_MODEL_43879a1aece643d58102c44a600fb7ed",
        "IPY_MODEL_026ad046a9f44ccc83890f40ee99f86a"
       ],
       "layout": "IPY_MODEL_510fbaec94f1495c902ee99c8b7c2346"
      }
     },
     "c830ef5126924f7380ac3beee7b508a5": {
      "model_module": "@jupyter-widgets/controls",
      "model_module_version": "2.0.0",
      "model_name": "HTMLModel",
      "state": {
       "layout": "IPY_MODEL_d058c4e07a4c4199a95687c8050ed036",
       "style": "IPY_MODEL_226d2d4e775b4d1ab074c1c7f1283eaa",
       "value": "job has successfully run"
      }
     },
     "c8db8ee6c9934041b31fda9eb6871181": {
      "model_module": "@jupyter-widgets/base",
      "model_module_version": "2.0.0",
      "model_name": "LayoutModel",
      "state": {
       "margin": "0px 0px 0px 37px",
       "width": "600px"
      }
     },
     "c8f6d4baa99949ba8a3f21d549407db0": {
      "model_module": "@jupyter-widgets/controls",
      "model_module_version": "2.0.0",
      "model_name": "HTMLModel",
      "state": {
       "layout": "IPY_MODEL_c40b53b3ce444b6ca1206450cb2c1a91",
       "style": "IPY_MODEL_55f7dc24a43e4f03bc6b37c2fb283c39",
       "value": "<font style='color:#34BC6E'>DONE</font>"
      }
     },
     "c914979bf56b4ca2ab995d2593bfc0f6": {
      "model_module": "@jupyter-widgets/base",
      "model_module_version": "2.0.0",
      "model_name": "LayoutModel",
      "state": {}
     },
     "c99abd73be334782b9f57eda81693270": {
      "model_module": "@jupyter-widgets/controls",
      "model_module_version": "2.0.0",
      "model_name": "HTMLModel",
      "state": {
       "layout": "IPY_MODEL_61305dc57e2241c5b71961c418efbfcc",
       "style": "IPY_MODEL_244a41a1bc00495294672ea1b2fe55cd",
       "value": "ibm_nairobi"
      }
     },
     "c9c66c3907b04ea5803b392fccab8950": {
      "model_module": "@jupyter-widgets/controls",
      "model_module_version": "2.0.0",
      "model_name": "ButtonModel",
      "state": {
       "icon": "close",
       "layout": "IPY_MODEL_f45342f59b3f406d9377ed3e660db39b",
       "style": "IPY_MODEL_b3951904cafb4e4c8aa8be505742f3b0",
       "tooltip": null
      }
     },
     "c9e38d8c79d24ef68cd434339b45778b": {
      "model_module": "@jupyter-widgets/controls",
      "model_module_version": "2.0.0",
      "model_name": "HTMLStyleModel",
      "state": {
       "description_width": "",
       "font_size": null,
       "text_color": null
      }
     },
     "c9f1f20b09354db580a8d1fdc331ea12": {
      "model_module": "@jupyter-widgets/controls",
      "model_module_version": "2.0.0",
      "model_name": "HBoxModel",
      "state": {
       "children": [
        "IPY_MODEL_fbf607b1a43e4f9bb70a0244f5f1f558",
        "IPY_MODEL_837b8c02e41a4c15bdd2a3ff59a44511",
        "IPY_MODEL_d0e97ec253504023ac38f56b41a1dd65",
        "IPY_MODEL_f0118b2c7f10412b9328995a857a123f",
        "IPY_MODEL_f2a616141c3f4cb1a260db08e4c658cb",
        "IPY_MODEL_e9ade29a9ba34dad912e9be78c6182e7"
       ],
       "layout": "IPY_MODEL_99ec95ce4cce4908aed9d471639d832c"
      }
     },
     "ca26e8e2190c4a4193771f074420a44b": {
      "model_module": "@jupyter-widgets/controls",
      "model_module_version": "2.0.0",
      "model_name": "ButtonModel",
      "state": {
       "icon": "close",
       "layout": "IPY_MODEL_e80fab0559a947b5a43e1f6c72431d94",
       "style": "IPY_MODEL_1fcf1c07da01428d93d6d77d1782cb4e",
       "tooltip": null
      }
     },
     "ca6b9fda58a04b6d9062e0637ff261b8": {
      "model_module": "@jupyter-widgets/base",
      "model_module_version": "2.0.0",
      "model_name": "LayoutModel",
      "state": {
       "max_width": "700px",
       "min_width": "700px"
      }
     },
     "ca742a4e0577404eb1c715a563c983d3": {
      "model_module": "@jupyter-widgets/controls",
      "model_module_version": "2.0.0",
      "model_name": "HTMLModel",
      "state": {
       "layout": "IPY_MODEL_17b628335e024edab20f8e8b7ecf7c96",
       "style": "IPY_MODEL_db350e2d3fba4fc2bbcc4854ae75f5dc",
       "value": "-"
      }
     },
     "ca8a376ef1c84ec49516122a56dbc92c": {
      "model_module": "@jupyter-widgets/base",
      "model_module_version": "2.0.0",
      "model_name": "LayoutModel",
      "state": {
       "width": "190px"
      }
     },
     "cabe068dbf5d4d4f82ba6fa3dc30bbb0": {
      "model_module": "@jupyter-widgets/base",
      "model_module_version": "2.0.0",
      "model_name": "LayoutModel",
      "state": {}
     },
     "cadcdcf47d0b4df084169b7d93c88652": {
      "model_module": "@jupyter-widgets/controls",
      "model_module_version": "2.0.0",
      "model_name": "HTMLModel",
      "state": {
       "layout": "IPY_MODEL_0592543412cd41a8b1919d75f96cf2ae",
       "style": "IPY_MODEL_76d393f416c14e8a95bceddffa892a8e",
       "value": "job has successfully run"
      }
     },
     "cb386d11b38744b19db5f5e95fc53fc9": {
      "model_module": "@jupyter-widgets/base",
      "model_module_version": "2.0.0",
      "model_name": "LayoutModel",
      "state": {
       "width": "190px"
      }
     },
     "cb3abaeb46aa43a08d6475bc3f45cc4c": {
      "model_module": "@jupyter-widgets/controls",
      "model_module_version": "2.0.0",
      "model_name": "HTMLModel",
      "state": {
       "layout": "IPY_MODEL_6fb8dd2726a443e9adf55b5eab1336f7",
       "style": "IPY_MODEL_02c2604b53024c70ab2518c2037ef24e",
       "value": "<font style='color:#34BC6E'>DONE</font>"
      }
     },
     "cb68bc97f5684348989ce85466e62bf4": {
      "model_module": "@jupyter-widgets/base",
      "model_module_version": "2.0.0",
      "model_name": "LayoutModel",
      "state": {
       "width": "70px"
      }
     },
     "cc232edece3b4802b1ce8cbbe2776528": {
      "model_module": "@jupyter-widgets/base",
      "model_module_version": "2.0.0",
      "model_name": "LayoutModel",
      "state": {
       "width": "190px"
      }
     },
     "cc5600e1e4ae48069d943032803f349f": {
      "model_module": "@jupyter-widgets/base",
      "model_module_version": "2.0.0",
      "model_name": "LayoutModel",
      "state": {
       "max_width": "700px",
       "min_width": "700px"
      }
     },
     "cc8c0d695be249bfab1861bf0d6f672b": {
      "model_module": "@jupyter-widgets/controls",
      "model_module_version": "2.0.0",
      "model_name": "HTMLModel",
      "state": {
       "layout": "IPY_MODEL_29cdce8530b94d3f8d9534427ef378b0",
       "style": "IPY_MODEL_b8a6be5b23c7424291bcc53fd14a8ffc",
       "value": "cmddzzz4z12g008ncbkg"
      }
     },
     "cd25312e9abb43e8a374bb72c690ea3f": {
      "model_module": "@jupyter-widgets/base",
      "model_module_version": "2.0.0",
      "model_name": "LayoutModel",
      "state": {
       "width": "145px"
      }
     },
     "cd7ac03b29a849a2ad5ad0171d9ac3c3": {
      "model_module": "@jupyter-widgets/controls",
      "model_module_version": "2.0.0",
      "model_name": "HTMLModel",
      "state": {
       "layout": "IPY_MODEL_bd92fbe621434965b97eacbb39de5b20",
       "style": "IPY_MODEL_4abff19c1ec64b85842ddabad9f819b3",
       "value": "-"
      }
     },
     "ce10b84e89014c40820b446014945fad": {
      "model_module": "@jupyter-widgets/controls",
      "model_module_version": "2.0.0",
      "model_name": "HTMLModel",
      "state": {
       "layout": "IPY_MODEL_09261fc1659a4dbeb1f571477b151f20",
       "style": "IPY_MODEL_e439cf596d2e4384bc5f09dabd01bbb0",
       "value": "cmde0rvwq3k0008sz0tg"
      }
     },
     "ce35e91b3bd944b5a871342d6f478b2b": {
      "model_module": "@jupyter-widgets/controls",
      "model_module_version": "2.0.0",
      "model_name": "HTMLModel",
      "state": {
       "layout": "IPY_MODEL_867bede8a2bb4db3b5081ab19c74547b",
       "style": "IPY_MODEL_7ebea234e77c4d2bb425d562d5e79ee0",
       "value": "-"
      }
     },
     "ce55822b175c449282f15944706bee45": {
      "model_module": "@jupyter-widgets/controls",
      "model_module_version": "2.0.0",
      "model_name": "HTMLModel",
      "state": {
       "layout": "IPY_MODEL_29cb04d8114749619c84b4ce0dad8391",
       "style": "IPY_MODEL_4c2e5cb6ec614b40b3481e5eb7eddfa8",
       "value": "ibm_nairobi"
      }
     },
     "cee8cc98e8f3457c96389a6bca0ad2df": {
      "model_module": "@jupyter-widgets/controls",
      "model_module_version": "2.0.0",
      "model_name": "HTMLModel",
      "state": {
       "layout": "IPY_MODEL_e444b458005649d7b050a10eeb262a8f",
       "style": "IPY_MODEL_b20fbcce33cd46ecaa4b4d80f648e9b5",
       "value": "-"
      }
     },
     "cf29635462374c078d01bf814215acae": {
      "model_module": "@jupyter-widgets/controls",
      "model_module_version": "2.0.0",
      "model_name": "ButtonModel",
      "state": {
       "icon": "close",
       "layout": "IPY_MODEL_9ded7230ee16435d88d6483650ac3a94",
       "style": "IPY_MODEL_63b322f7efdc4b38969ffb1d5a81c32d",
       "tooltip": null
      }
     },
     "cf342777d4b54483893e7aa005c9d01a": {
      "model_module": "@jupyter-widgets/base",
      "model_module_version": "2.0.0",
      "model_name": "LayoutModel",
      "state": {
       "max_width": "700px",
       "min_width": "700px"
      }
     },
     "cf5db448a40042b5933521bc85d6620b": {
      "model_module": "@jupyter-widgets/base",
      "model_module_version": "2.0.0",
      "model_name": "LayoutModel",
      "state": {
       "max_width": "700px",
       "min_width": "700px"
      }
     },
     "cf930232b56e4c579050319526bf2c5f": {
      "model_module": "@jupyter-widgets/controls",
      "model_module_version": "2.0.0",
      "model_name": "HBoxModel",
      "state": {
       "children": [
        "IPY_MODEL_09af3abc2d484f09bbc7fdcc21e527ea",
        "IPY_MODEL_19ea7158b3444f79aaaf125b0e777a0a",
        "IPY_MODEL_6f3eea82e2814302a5dcee9064b54375",
        "IPY_MODEL_404ea78c88044ba79ff0db8526e1fbe6",
        "IPY_MODEL_0a9558d8fe524b00bee22bf4de1f4fe2",
        "IPY_MODEL_ff4dc2ade37c4c7ab1675f379a5be0ae"
       ],
       "layout": "IPY_MODEL_d22dd3651908468b9d94c6b4d116b113"
      }
     },
     "cfca6093ac8349fbb35506ba6088110e": {
      "model_module": "@jupyter-widgets/base",
      "model_module_version": "2.0.0",
      "model_name": "LayoutModel",
      "state": {
       "width": "190px"
      }
     },
     "d01d07c7dcda49fe9184c49a2ea97662": {
      "model_module": "@jupyter-widgets/controls",
      "model_module_version": "2.0.0",
      "model_name": "HTMLStyleModel",
      "state": {
       "description_width": "",
       "font_size": null,
       "text_color": null
      }
     },
     "d058c4e07a4c4199a95687c8050ed036": {
      "model_module": "@jupyter-widgets/base",
      "model_module_version": "2.0.0",
      "model_name": "LayoutModel",
      "state": {}
     },
     "d06a09f5703c4060998cd4fa50c0f22d": {
      "model_module": "@jupyter-widgets/controls",
      "model_module_version": "2.0.0",
      "model_name": "HTMLStyleModel",
      "state": {
       "description_width": "",
       "font_size": null,
       "text_color": null
      }
     },
     "d09baac5592c4248b81ac85e74a93aea": {
      "model_module": "@jupyter-widgets/base",
      "model_module_version": "2.0.0",
      "model_name": "LayoutModel",
      "state": {
       "width": "190px"
      }
     },
     "d0b9840e6497471b8626b296c6693018": {
      "model_module": "@jupyter-widgets/controls",
      "model_module_version": "2.0.0",
      "model_name": "HTMLStyleModel",
      "state": {
       "description_width": "",
       "font_size": null,
       "text_color": null
      }
     },
     "d0d632b151334f7e8b811d6139162e23": {
      "model_module": "@jupyter-widgets/controls",
      "model_module_version": "2.0.0",
      "model_name": "HTMLModel",
      "state": {
       "layout": "IPY_MODEL_52c1beff7f1949bc88174fde93ae78aa",
       "style": "IPY_MODEL_b072955a7375416896aefe42f94d5e37",
       "value": "<font style='color:#34BC6E'>DONE</font>"
      }
     },
     "d0e97ec253504023ac38f56b41a1dd65": {
      "model_module": "@jupyter-widgets/controls",
      "model_module_version": "2.0.0",
      "model_name": "HTMLModel",
      "state": {
       "layout": "IPY_MODEL_d3320ffadbbe46598241e00ffe69c9ad",
       "style": "IPY_MODEL_974959b846d84a11bd4d5979522dbc19",
       "value": "ibm_nairobi"
      }
     },
     "d0ead93b5d0a4e5db20f3e7f91f39f8b": {
      "model_module": "@jupyter-widgets/controls",
      "model_module_version": "2.0.0",
      "model_name": "HTMLStyleModel",
      "state": {
       "description_width": "",
       "font_size": null,
       "text_color": null
      }
     },
     "d0edbc59e111419c9ef4f3eed43dfeb6": {
      "model_module": "@jupyter-widgets/controls",
      "model_module_version": "2.0.0",
      "model_name": "ButtonStyleModel",
      "state": {
       "button_color": "white",
       "font_family": null,
       "font_size": null,
       "font_style": null,
       "font_variant": null,
       "font_weight": null,
       "text_color": null,
       "text_decoration": null
      }
     },
     "d113ddd8bd5b4d5086da49702c3953b9": {
      "model_module": "@jupyter-widgets/controls",
      "model_module_version": "2.0.0",
      "model_name": "HTMLModel",
      "state": {
       "layout": "IPY_MODEL_26163eb2f82444658c55ea3fb9e02e28",
       "style": "IPY_MODEL_35db1b87397d40c5a191f245e2bdf5f1",
       "value": "ibm_nairobi"
      }
     },
     "d130ca701d304e1a940f397e7c8be2b4": {
      "model_module": "@jupyter-widgets/controls",
      "model_module_version": "2.0.0",
      "model_name": "HBoxModel",
      "state": {
       "children": [
        "IPY_MODEL_68450bb908f54fd4b74997474c34ab06",
        "IPY_MODEL_99bc0f8ec19b4a04b442db9e35a7808c",
        "IPY_MODEL_d72e5cff1d434ef998efb69210d8e3f0",
        "IPY_MODEL_10ae4274f05a4ea0aed3c258a12abb3a",
        "IPY_MODEL_71eb0398326a4c06a20db7a86439b9ec",
        "IPY_MODEL_3d77c145bb214994b6528c6f10b6fdff"
       ],
       "layout": "IPY_MODEL_593f6f3b07be44839f0251d904854bc0"
      }
     },
     "d1657c716e6443eaa95fccb953d7e8a9": {
      "model_module": "@jupyter-widgets/base",
      "model_module_version": "2.0.0",
      "model_name": "LayoutModel",
      "state": {
       "margin": "0px 5px 0px 0px",
       "width": "32px"
      }
     },
     "d1a82dbdb0dd41acb6c4429342e8967d": {
      "model_module": "@jupyter-widgets/controls",
      "model_module_version": "2.0.0",
      "model_name": "ButtonModel",
      "state": {
       "icon": "close",
       "layout": "IPY_MODEL_417296f3f8734904b71628f19c4ed11a",
       "style": "IPY_MODEL_be0364e1aa72464eaad3d5c24e69e73a",
       "tooltip": null
      }
     },
     "d1c8541a21ba46089b7f6654005f1a09": {
      "model_module": "@jupyter-widgets/base",
      "model_module_version": "2.0.0",
      "model_name": "LayoutModel",
      "state": {}
     },
     "d2272078bf3f4552ad9c925ffa0e3ddc": {
      "model_module": "@jupyter-widgets/controls",
      "model_module_version": "2.0.0",
      "model_name": "HTMLStyleModel",
      "state": {
       "description_width": "",
       "font_size": null,
       "text_color": null
      }
     },
     "d22dd3651908468b9d94c6b4d116b113": {
      "model_module": "@jupyter-widgets/base",
      "model_module_version": "2.0.0",
      "model_name": "LayoutModel",
      "state": {
       "max_width": "700px",
       "min_width": "700px"
      }
     },
     "d2b8307a485449cab1b8ab98cfc828c9": {
      "model_module": "@jupyter-widgets/controls",
      "model_module_version": "2.0.0",
      "model_name": "ButtonModel",
      "state": {
       "icon": "close",
       "layout": "IPY_MODEL_b9020248a04c4924b1b00f2ae00f45bc",
       "style": "IPY_MODEL_633f1230d0f64b24a4da6a5b31d15db3",
       "tooltip": null
      }
     },
     "d2f108389f52417ab480188869fcdd95": {
      "model_module": "@jupyter-widgets/controls",
      "model_module_version": "2.0.0",
      "model_name": "HTMLModel",
      "state": {
       "layout": "IPY_MODEL_364479e3f10e46ab827d3331a649fc9b",
       "style": "IPY_MODEL_6f2fb0c60fa54279b6243dfe7a4bbac3",
       "value": "cmde53wwq3k0008sz1c0"
      }
     },
     "d311eaa92ff1406baf18faf332f82e09": {
      "model_module": "@jupyter-widgets/controls",
      "model_module_version": "2.0.0",
      "model_name": "HTMLStyleModel",
      "state": {
       "description_width": "",
       "font_size": null,
       "text_color": null
      }
     },
     "d33071575dd7494bb758c0c91bfae2eb": {
      "model_module": "@jupyter-widgets/controls",
      "model_module_version": "2.0.0",
      "model_name": "HTMLStyleModel",
      "state": {
       "description_width": "",
       "font_size": null,
       "text_color": null
      }
     },
     "d3320ffadbbe46598241e00ffe69c9ad": {
      "model_module": "@jupyter-widgets/base",
      "model_module_version": "2.0.0",
      "model_name": "LayoutModel",
      "state": {
       "width": "145px"
      }
     },
     "d37f375a02ec439392522dcf543c2c9c": {
      "model_module": "@jupyter-widgets/controls",
      "model_module_version": "2.0.0",
      "model_name": "ButtonModel",
      "state": {
       "icon": "close",
       "layout": "IPY_MODEL_be062f765b704753aaa072880be5547a",
       "style": "IPY_MODEL_975e8a4f7952493fbad2e4e13457a739",
       "tooltip": null
      }
     },
     "d3966282f07f48fe9c88bfad42c43fb2": {
      "model_module": "@jupyter-widgets/controls",
      "model_module_version": "2.0.0",
      "model_name": "HTMLStyleModel",
      "state": {
       "description_width": "",
       "font_size": null,
       "text_color": null
      }
     },
     "d4007a0ae27b422a8128257a3a0782d6": {
      "model_module": "@jupyter-widgets/controls",
      "model_module_version": "2.0.0",
      "model_name": "HTMLModel",
      "state": {
       "layout": "IPY_MODEL_7a6d2309b9f4454b8c9d66139eeeb3f6",
       "style": "IPY_MODEL_b2f191d9d1cc40e380de0aeaa908daa6",
       "value": "cmde3nywq3k0008sz15g"
      }
     },
     "d493a34178d54181b46974a714dbed7c": {
      "model_module": "@jupyter-widgets/base",
      "model_module_version": "2.0.0",
      "model_name": "LayoutModel",
      "state": {
       "width": "145px"
      }
     },
     "d494f2012e264d8c99b838162cb3f4bb": {
      "model_module": "@jupyter-widgets/controls",
      "model_module_version": "2.0.0",
      "model_name": "HTMLStyleModel",
      "state": {
       "description_width": "",
       "font_size": null,
       "text_color": null
      }
     },
     "d4b76a0e8c7e40ce90f14b8506879f46": {
      "model_module": "@jupyter-widgets/controls",
      "model_module_version": "2.0.0",
      "model_name": "HTMLModel",
      "state": {
       "layout": "IPY_MODEL_8306fcddf394484aa2f3ed5e61aafde6",
       "style": "IPY_MODEL_571c800441ed4deca2731bdd53a11696",
       "value": "<font style='color:#34BC6E'>DONE</font>"
      }
     },
     "d510af0265d74f72bd6f12c62292ebbd": {
      "model_module": "@jupyter-widgets/controls",
      "model_module_version": "2.0.0",
      "model_name": "ButtonModel",
      "state": {
       "icon": "close",
       "layout": "IPY_MODEL_5c28518a9fe0414fbe80bd1e2a31c12a",
       "style": "IPY_MODEL_b25f9d6a51ca4a59845dcadd8b343f00",
       "tooltip": null
      }
     },
     "d5203a24ec434ed181558f5366ab2e3f": {
      "model_module": "@jupyter-widgets/controls",
      "model_module_version": "2.0.0",
      "model_name": "HTMLModel",
      "state": {
       "layout": "IPY_MODEL_950c74c018a84ef09a7f794f864d75b3",
       "style": "IPY_MODEL_779a95bad0ad4625b76dd4eea4a67ffd",
       "value": "-"
      }
     },
     "d5a845e8367549f18d25c240da9c3c86": {
      "model_module": "@jupyter-widgets/base",
      "model_module_version": "2.0.0",
      "model_name": "LayoutModel",
      "state": {
       "max_width": "700px",
       "min_width": "700px"
      }
     },
     "d5bff881cc3d42fe895ad41d7ee31d3f": {
      "model_module": "@jupyter-widgets/base",
      "model_module_version": "2.0.0",
      "model_name": "LayoutModel",
      "state": {
       "width": "95px"
      }
     },
     "d5d96392574342dcad4bd3975f723323": {
      "model_module": "@jupyter-widgets/controls",
      "model_module_version": "2.0.0",
      "model_name": "HTMLModel",
      "state": {
       "layout": "IPY_MODEL_1dd82a58c34a463496379806d7aabb71",
       "style": "IPY_MODEL_d0b9840e6497471b8626b296c6693018",
       "value": "job has successfully run"
      }
     },
     "d66ef053a725465eaa08f7553ea6d220": {
      "model_module": "@jupyter-widgets/controls",
      "model_module_version": "2.0.0",
      "model_name": "HTMLStyleModel",
      "state": {
       "description_width": "",
       "font_size": null,
       "text_color": null
      }
     },
     "d6712632af2c40f8992fdfeec06951c5": {
      "model_module": "@jupyter-widgets/controls",
      "model_module_version": "2.0.0",
      "model_name": "HTMLStyleModel",
      "state": {
       "description_width": "",
       "font_size": null,
       "text_color": null
      }
     },
     "d6a47c85b2fd417190b9c4e9c1657759": {
      "model_module": "@jupyter-widgets/base",
      "model_module_version": "2.0.0",
      "model_name": "LayoutModel",
      "state": {}
     },
     "d6ae6ca9bcd74c5f9c04e01ebcf6dc4e": {
      "model_module": "@jupyter-widgets/base",
      "model_module_version": "2.0.0",
      "model_name": "LayoutModel",
      "state": {
       "width": "95px"
      }
     },
     "d6b9418d39304a23870125212e76ffe0": {
      "model_module": "@jupyter-widgets/base",
      "model_module_version": "2.0.0",
      "model_name": "LayoutModel",
      "state": {
       "width": "95px"
      }
     },
     "d6bbab28d31447a49994eecda03be59b": {
      "model_module": "@jupyter-widgets/controls",
      "model_module_version": "2.0.0",
      "model_name": "ButtonModel",
      "state": {
       "icon": "close",
       "layout": "IPY_MODEL_84425cf0c81942d4b281f0657f2f541d",
       "style": "IPY_MODEL_3b8c69a1c05e47a3b72b76e58fd72039",
       "tooltip": null
      }
     },
     "d71a904d9e2b4bb29dea7601e1e3b126": {
      "model_module": "@jupyter-widgets/controls",
      "model_module_version": "2.0.0",
      "model_name": "HTMLModel",
      "state": {
       "layout": "IPY_MODEL_1fa5b1acfecf4bd9a593420f2595129a",
       "style": "IPY_MODEL_7aef40fa7f604c9b9615194382cc7a6f",
       "value": "-"
      }
     },
     "d72e5cff1d434ef998efb69210d8e3f0": {
      "model_module": "@jupyter-widgets/controls",
      "model_module_version": "2.0.0",
      "model_name": "HTMLModel",
      "state": {
       "layout": "IPY_MODEL_7a43c626ccb7425282a345503bf59a58",
       "style": "IPY_MODEL_d66ef053a725465eaa08f7553ea6d220",
       "value": "ibm_nairobi"
      }
     },
     "d73e7b7ca0674f26bb0236ffea1528dd": {
      "model_module": "@jupyter-widgets/controls",
      "model_module_version": "2.0.0",
      "model_name": "HTMLModel",
      "state": {
       "layout": "IPY_MODEL_6b1494387f6e42679be4ca273d076f7c",
       "style": "IPY_MODEL_200f73505403450299b2bee7bf2595a7",
       "value": "-"
      }
     },
     "d74f90876c2e4464ba121085226fd47e": {
      "model_module": "@jupyter-widgets/controls",
      "model_module_version": "2.0.0",
      "model_name": "ButtonStyleModel",
      "state": {
       "button_color": "white",
       "font_family": null,
       "font_size": null,
       "font_style": null,
       "font_variant": null,
       "font_weight": null,
       "text_color": null,
       "text_decoration": null
      }
     },
     "d76f5baff749486e8fd0335348b7f7b7": {
      "model_module": "@jupyter-widgets/base",
      "model_module_version": "2.0.0",
      "model_name": "LayoutModel",
      "state": {
       "width": "190px"
      }
     },
     "d7983ac4765345bcaf9e7906d1326c2d": {
      "model_module": "@jupyter-widgets/base",
      "model_module_version": "2.0.0",
      "model_name": "LayoutModel",
      "state": {
       "width": "190px"
      }
     },
     "d7ad06766b8d4c8b815df443627ea4e0": {
      "model_module": "@jupyter-widgets/base",
      "model_module_version": "2.0.0",
      "model_name": "LayoutModel",
      "state": {
       "max_width": "700px",
       "min_width": "700px"
      }
     },
     "d7b9aa16dc9a41ff99b0b10d8fa7b8cb": {
      "model_module": "@jupyter-widgets/controls",
      "model_module_version": "2.0.0",
      "model_name": "HBoxModel",
      "state": {
       "children": [
        "IPY_MODEL_bef4c79667ad48f0bb281a6274e7d5c0",
        "IPY_MODEL_a872e4c5ca314d6ea53a02852f1f993a",
        "IPY_MODEL_c37f3d2e79d548d1a3d3d198f4ccddbf",
        "IPY_MODEL_eaf60f993d814b778be7b3550fa094d2",
        "IPY_MODEL_b45a3136d1e3483ea46abcd3865d780d",
        "IPY_MODEL_303364b1beb14551bafef50ee6dc904d"
       ],
       "layout": "IPY_MODEL_a1cf97291db84661b60525da2ec7fd7d"
      }
     },
     "d81374f0774f44eb89de0936c5f79ac3": {
      "model_module": "@jupyter-widgets/base",
      "model_module_version": "2.0.0",
      "model_name": "LayoutModel",
      "state": {
       "width": "190px"
      }
     },
     "d81db7d35c014170a679ac5e33a4732f": {
      "model_module": "@jupyter-widgets/controls",
      "model_module_version": "2.0.0",
      "model_name": "HTMLModel",
      "state": {
       "layout": "IPY_MODEL_770580b8005648a08932883ad1f0fbfe",
       "style": "IPY_MODEL_a03bf0e9f93341669f66b0bcf7067e06",
       "value": "-"
      }
     },
     "d83984b1ad024e64be0898cc035abc0b": {
      "model_module": "@jupyter-widgets/base",
      "model_module_version": "2.0.0",
      "model_name": "LayoutModel",
      "state": {
       "width": "145px"
      }
     },
     "d85bfbac9e4b4f44a0960c9ebebebb00": {
      "model_module": "@jupyter-widgets/controls",
      "model_module_version": "2.0.0",
      "model_name": "HTMLStyleModel",
      "state": {
       "description_width": "",
       "font_size": null,
       "text_color": null
      }
     },
     "d8993225585b46b79ab18dfa239e80fe": {
      "model_module": "@jupyter-widgets/controls",
      "model_module_version": "2.0.0",
      "model_name": "ButtonStyleModel",
      "state": {
       "button_color": "white",
       "font_family": null,
       "font_size": null,
       "font_style": null,
       "font_variant": null,
       "font_weight": null,
       "text_color": null,
       "text_decoration": null
      }
     },
     "d8ad62f7ac4a4dbb962ac57a2621261b": {
      "model_module": "@jupyter-widgets/base",
      "model_module_version": "2.0.0",
      "model_name": "LayoutModel",
      "state": {
       "width": "70px"
      }
     },
     "d8c7eccd41a142318130e1ccf9c54289": {
      "model_module": "@jupyter-widgets/base",
      "model_module_version": "2.0.0",
      "model_name": "LayoutModel",
      "state": {}
     },
     "d9544915812642ffa720bbcba258f3d8": {
      "model_module": "@jupyter-widgets/controls",
      "model_module_version": "2.0.0",
      "model_name": "HTMLModel",
      "state": {
       "layout": "IPY_MODEL_d6b9418d39304a23870125212e76ffe0",
       "style": "IPY_MODEL_0c567955f1bf4403869fb8b79af4915c",
       "value": "<font style='color:#34BC6E'>DONE</font>"
      }
     },
     "d98b17f5bae24bc79fbf852fa0059ff2": {
      "model_module": "@jupyter-widgets/controls",
      "model_module_version": "2.0.0",
      "model_name": "HTMLStyleModel",
      "state": {
       "description_width": "",
       "font_size": null,
       "text_color": null
      }
     },
     "d9e743f59d8f41ee8552f1be4fa9cc99": {
      "model_module": "@jupyter-widgets/controls",
      "model_module_version": "2.0.0",
      "model_name": "HTMLModel",
      "state": {
       "layout": "IPY_MODEL_01cdd9a54aa646ffb671ab36e8748a13",
       "style": "IPY_MODEL_6bc6d41792fb413eb95ff0bbd88f567f",
       "value": "ibm_nairobi"
      }
     },
     "da4069a3154b49e6943d551e9c452712": {
      "model_module": "@jupyter-widgets/controls",
      "model_module_version": "2.0.0",
      "model_name": "HTMLStyleModel",
      "state": {
       "description_width": "",
       "font_size": null,
       "text_color": null
      }
     },
     "da70f3b8eae54bb4a3a9d10bb63722a3": {
      "model_module": "@jupyter-widgets/controls",
      "model_module_version": "2.0.0",
      "model_name": "HTMLStyleModel",
      "state": {
       "description_width": "",
       "font_size": null,
       "text_color": null
      }
     },
     "da7eb46609e94d029fec381674dd1d16": {
      "model_module": "@jupyter-widgets/base",
      "model_module_version": "2.0.0",
      "model_name": "LayoutModel",
      "state": {}
     },
     "daac799e95de48dab77a4ccef9b3acfe": {
      "model_module": "@jupyter-widgets/base",
      "model_module_version": "2.0.0",
      "model_name": "LayoutModel",
      "state": {
       "max_width": "700px",
       "min_width": "700px"
      }
     },
     "db0a675369074b97ac4fc873f7c21444": {
      "model_module": "@jupyter-widgets/controls",
      "model_module_version": "2.0.0",
      "model_name": "HBoxModel",
      "state": {
       "children": [
        "IPY_MODEL_845615163c1f44f2862ca5324c0f8577",
        "IPY_MODEL_38130a1a42174fbb8b6401d20865b95c",
        "IPY_MODEL_9b69c9d949494d68841ed65707c0c814",
        "IPY_MODEL_ef4df42b4c534af3a7b1c27de10e914f",
        "IPY_MODEL_7415f3f4e9dd448fb0d0d9b7659d94ee",
        "IPY_MODEL_16a36fd3250b4875a294e9792876570d"
       ],
       "layout": "IPY_MODEL_7db2984bacdc4fc5a6550d51942b7c06"
      }
     },
     "db350e2d3fba4fc2bbcc4854ae75f5dc": {
      "model_module": "@jupyter-widgets/controls",
      "model_module_version": "2.0.0",
      "model_name": "HTMLStyleModel",
      "state": {
       "description_width": "",
       "font_size": null,
       "text_color": null
      }
     },
     "db3d29a8aef948dca0eba26f23c4aba9": {
      "model_module": "@jupyter-widgets/controls",
      "model_module_version": "2.0.0",
      "model_name": "HTMLModel",
      "state": {
       "layout": "IPY_MODEL_d5bff881cc3d42fe895ad41d7ee31d3f",
       "style": "IPY_MODEL_0f511852530c45f09058d590a3e5fff7",
       "value": "<font style='color:#34BC6E'>DONE</font>"
      }
     },
     "db72947024c141609c0b6e3d0f1e23e9": {
      "model_module": "@jupyter-widgets/controls",
      "model_module_version": "2.0.0",
      "model_name": "HBoxModel",
      "state": {
       "children": [
        "IPY_MODEL_58de59dd6f3d45b086ee7c2ca4818d98",
        "IPY_MODEL_08d4bdc4729241c3b80318f2d0491348",
        "IPY_MODEL_83d8d503e9504091959fd293910f4753",
        "IPY_MODEL_6c185e5a6cd14cf1a344acd60a725d10",
        "IPY_MODEL_495f5f17e6bf41b7b6e819b8130fb89f",
        "IPY_MODEL_c830ef5126924f7380ac3beee7b508a5"
       ],
       "layout": "IPY_MODEL_b4ccccd2ed92434cbbcd83369bd2cb01"
      }
     },
     "db89150dda814769a8cf66662ba54d4f": {
      "model_module": "@jupyter-widgets/base",
      "model_module_version": "2.0.0",
      "model_name": "LayoutModel",
      "state": {
       "width": "190px"
      }
     },
     "dbdb142b5cd747d2970e10c1837fb276": {
      "model_module": "@jupyter-widgets/controls",
      "model_module_version": "2.0.0",
      "model_name": "HTMLStyleModel",
      "state": {
       "description_width": "",
       "font_size": null,
       "text_color": null
      }
     },
     "dbe82d697739472c9a224f7a46b4f24e": {
      "model_module": "@jupyter-widgets/base",
      "model_module_version": "2.0.0",
      "model_name": "LayoutModel",
      "state": {}
     },
     "dc10a74963354512867d56d72166aa60": {
      "model_module": "@jupyter-widgets/controls",
      "model_module_version": "2.0.0",
      "model_name": "ButtonModel",
      "state": {
       "icon": "close",
       "layout": "IPY_MODEL_2cf0b56571bd4fb684a474047d389823",
       "style": "IPY_MODEL_d8993225585b46b79ab18dfa239e80fe",
       "tooltip": null
      }
     },
     "dc2b70a8cfaa4e528e907afe21ccac1f": {
      "model_module": "@jupyter-widgets/controls",
      "model_module_version": "2.0.0",
      "model_name": "HTMLModel",
      "state": {
       "layout": "IPY_MODEL_189a24988f1b45f3b98b22a28a26574c",
       "style": "IPY_MODEL_15e2dcb9b618439f8481de3712a29c6f",
       "value": "-"
      }
     },
     "dcceca83b0e74da487c5ac38ced0b0a2": {
      "model_module": "@jupyter-widgets/controls",
      "model_module_version": "2.0.0",
      "model_name": "HTMLStyleModel",
      "state": {
       "description_width": "",
       "font_size": null,
       "text_color": null
      }
     },
     "dd0ac39b7db54a6d9098c90dfb58744a": {
      "model_module": "@jupyter-widgets/base",
      "model_module_version": "2.0.0",
      "model_name": "LayoutModel",
      "state": {
       "width": "145px"
      }
     },
     "dd4ca4ffd97d4bbd9f3ee57d98dea6cf": {
      "model_module": "@jupyter-widgets/controls",
      "model_module_version": "2.0.0",
      "model_name": "HTMLModel",
      "state": {
       "layout": "IPY_MODEL_ac91e1afc25142b9a8a83a797f81b547",
       "style": "IPY_MODEL_ffd2a11764ff4312a56452715465a806",
       "value": "job has successfully run"
      }
     },
     "dd67ab295841427ab039b8303292dbb2": {
      "model_module": "@jupyter-widgets/base",
      "model_module_version": "2.0.0",
      "model_name": "LayoutModel",
      "state": {
       "width": "145px"
      }
     },
     "ddcf5ef4050c4045909cfc1a046304e5": {
      "model_module": "@jupyter-widgets/controls",
      "model_module_version": "2.0.0",
      "model_name": "HTMLModel",
      "state": {
       "layout": "IPY_MODEL_04b93b813455437e91163d25b22aae68",
       "style": "IPY_MODEL_505dfb14871b4c6ca8b5cff8a07cef4d",
       "value": "ibm_nairobi"
      }
     },
     "de0cd64a8d3a4f419e72f60a4c3301bd": {
      "model_module": "@jupyter-widgets/controls",
      "model_module_version": "2.0.0",
      "model_name": "ButtonStyleModel",
      "state": {
       "button_color": "white",
       "font_family": null,
       "font_size": null,
       "font_style": null,
       "font_variant": null,
       "font_weight": null,
       "text_color": null,
       "text_decoration": null
      }
     },
     "de312890b5fd4fe2976eaf810df4ef37": {
      "model_module": "@jupyter-widgets/base",
      "model_module_version": "2.0.0",
      "model_name": "LayoutModel",
      "state": {
       "max_width": "700px",
       "min_width": "700px"
      }
     },
     "de61c32e989041a68ff10e78ae3d6a09": {
      "model_module": "@jupyter-widgets/controls",
      "model_module_version": "2.0.0",
      "model_name": "HTMLModel",
      "state": {
       "layout": "IPY_MODEL_32e25dda1ddf41dca7e0e3400dedd38f",
       "style": "IPY_MODEL_88404ec5b863460681dd8e1edb1b6acb",
       "value": "-"
      }
     },
     "de99b3925e0d4598a5f432b079a8615f": {
      "model_module": "@jupyter-widgets/base",
      "model_module_version": "2.0.0",
      "model_name": "LayoutModel",
      "state": {}
     },
     "dea54ee87da6401fa23dee87fbbff5ec": {
      "model_module": "@jupyter-widgets/controls",
      "model_module_version": "2.0.0",
      "model_name": "HTMLModel",
      "state": {
       "layout": "IPY_MODEL_13c932ae45b04629a431a6a95c8436c1",
       "style": "IPY_MODEL_80c2808391694d6f84015d7f37a21d75",
       "value": "ibm_nairobi"
      }
     },
     "deea5673c8384b279b12093fb2b7a361": {
      "model_module": "@jupyter-widgets/controls",
      "model_module_version": "2.0.0",
      "model_name": "HTMLStyleModel",
      "state": {
       "description_width": "",
       "font_size": null,
       "text_color": null
      }
     },
     "df44caf514e6407b96ba1b02cca50411": {
      "model_module": "@jupyter-widgets/controls",
      "model_module_version": "2.0.0",
      "model_name": "ButtonModel",
      "state": {
       "icon": "close",
       "layout": "IPY_MODEL_7517d69981634c338918fe5e2240bf31",
       "style": "IPY_MODEL_4692e02aec054657b45b6e500bab5367",
       "tooltip": null
      }
     },
     "df4883cc06c748ac8af879359dbebb87": {
      "model_module": "@jupyter-widgets/controls",
      "model_module_version": "2.0.0",
      "model_name": "HTMLStyleModel",
      "state": {
       "description_width": "",
       "font_size": null,
       "text_color": null
      }
     },
     "df48a3591cd44b9f801c2ffd4df02ecf": {
      "model_module": "@jupyter-widgets/base",
      "model_module_version": "2.0.0",
      "model_name": "LayoutModel",
      "state": {
       "max_width": "700px",
       "min_width": "700px"
      }
     },
     "df4a984905cb48b9838480bcf3fcc3bb": {
      "model_module": "@jupyter-widgets/base",
      "model_module_version": "2.0.0",
      "model_name": "LayoutModel",
      "state": {
       "margin": "0px 5px 0px 0px",
       "width": "32px"
      }
     },
     "df8d66500fdf408795373a3f5b57a83a": {
      "model_module": "@jupyter-widgets/base",
      "model_module_version": "2.0.0",
      "model_name": "LayoutModel",
      "state": {}
     },
     "e05798805c2946a59ccae549ed072a62": {
      "model_module": "@jupyter-widgets/controls",
      "model_module_version": "2.0.0",
      "model_name": "HTMLModel",
      "state": {
       "layout": "IPY_MODEL_0e15a108801e48b9b096e0f77a5ec809",
       "style": "IPY_MODEL_c104806aba1146dea1a88b6d23ae3aa5",
       "value": "-"
      }
     },
     "e05c42ebacf64a9c84b1b125ab105582": {
      "model_module": "@jupyter-widgets/controls",
      "model_module_version": "2.0.0",
      "model_name": "HTMLModel",
      "state": {
       "layout": "IPY_MODEL_eda61b9edaa9458ea44da81ad96cfa75",
       "style": "IPY_MODEL_4ba3766d1fee4ba29faf6c89271ea474",
       "value": "job has successfully run"
      }
     },
     "e07aa19cc0e1488a9dfd43aa64c7450b": {
      "model_module": "@jupyter-widgets/base",
      "model_module_version": "2.0.0",
      "model_name": "LayoutModel",
      "state": {
       "width": "190px"
      }
     },
     "e09842d82d344a0cbda6ee2c33a60b39": {
      "model_module": "@jupyter-widgets/controls",
      "model_module_version": "2.0.0",
      "model_name": "HBoxModel",
      "state": {
       "children": [
        "IPY_MODEL_a6a8ee7379974978877a3c91fc8f73fe",
        "IPY_MODEL_644a0f072a4f467ca822200b0782196d",
        "IPY_MODEL_6b0f5c3736434f55bc197733828a92e2",
        "IPY_MODEL_96a79daf5410402299bf4ae755ee5411",
        "IPY_MODEL_42f569bad0104c1faa8b1dd56854d893",
        "IPY_MODEL_ba4fc99a79f04868a9460bfe1e346765"
       ],
       "layout": "IPY_MODEL_cf5db448a40042b5933521bc85d6620b"
      }
     },
     "e0b129e853cb45efb7f927e5edea5bcc": {
      "model_module": "@jupyter-widgets/controls",
      "model_module_version": "2.0.0",
      "model_name": "ButtonStyleModel",
      "state": {
       "button_color": "white",
       "font_family": null,
       "font_size": null,
       "font_style": null,
       "font_variant": null,
       "font_weight": null,
       "text_color": null,
       "text_decoration": null
      }
     },
     "e0ca8a50838945f7813d0d54fab37134": {
      "model_module": "@jupyter-widgets/base",
      "model_module_version": "2.0.0",
      "model_name": "LayoutModel",
      "state": {
       "width": "145px"
      }
     },
     "e0df93a154e14a08a7a708a5f80d44be": {
      "model_module": "@jupyter-widgets/base",
      "model_module_version": "2.0.0",
      "model_name": "LayoutModel",
      "state": {
       "width": "95px"
      }
     },
     "e0eaa6b1e5cc4b498cacb331c0717e15": {
      "model_module": "@jupyter-widgets/controls",
      "model_module_version": "2.0.0",
      "model_name": "HTMLStyleModel",
      "state": {
       "description_width": "",
       "font_size": null,
       "text_color": null
      }
     },
     "e1202034490b4385b7b6922c35115aa5": {
      "model_module": "@jupyter-widgets/controls",
      "model_module_version": "2.0.0",
      "model_name": "HTMLStyleModel",
      "state": {
       "description_width": "",
       "font_size": null,
       "text_color": null
      }
     },
     "e1546031e4c24d0fadaebb159ea8985d": {
      "model_module": "@jupyter-widgets/base",
      "model_module_version": "2.0.0",
      "model_name": "LayoutModel",
      "state": {
       "width": "70px"
      }
     },
     "e189ca9377744b828f599b2a54eefd26": {
      "model_module": "@jupyter-widgets/base",
      "model_module_version": "2.0.0",
      "model_name": "LayoutModel",
      "state": {
       "width": "145px"
      }
     },
     "e18e128d06494677b695cebb67d62877": {
      "model_module": "@jupyter-widgets/controls",
      "model_module_version": "2.0.0",
      "model_name": "HTMLModel",
      "state": {
       "layout": "IPY_MODEL_b8b6252ef6d44df28e72cbb922a66a89",
       "style": "IPY_MODEL_97c238e341d74bdc82d0b495046d2a89",
       "value": "<font style='color:#34BC6E'>DONE</font>"
      }
     },
     "e1dbf9c82d19460290dbd5e1fb42e981": {
      "model_module": "@jupyter-widgets/base",
      "model_module_version": "2.0.0",
      "model_name": "LayoutModel",
      "state": {
       "width": "95px"
      }
     },
     "e1f6ce11899a43ffb0fc7070e66febbf": {
      "model_module": "@jupyter-widgets/base",
      "model_module_version": "2.0.0",
      "model_name": "LayoutModel",
      "state": {
       "width": "70px"
      }
     },
     "e1f86e5d5c164eb0a598ec3205dd2f3c": {
      "model_module": "@jupyter-widgets/controls",
      "model_module_version": "2.0.0",
      "model_name": "HTMLModel",
      "state": {
       "layout": "IPY_MODEL_9a00c474124b4565953c6e238363fc79",
       "style": "IPY_MODEL_72fa727385a543e7b02a6b0b5c7acb20",
       "value": "cmde240wq3k0008sz0x0"
      }
     },
     "e2772e6081454ad584d60872b8612e01": {
      "model_module": "@jupyter-widgets/base",
      "model_module_version": "2.0.0",
      "model_name": "LayoutModel",
      "state": {
       "width": "95px"
      }
     },
     "e35516a2253e4229b551fd47a09e861f": {
      "model_module": "@jupyter-widgets/base",
      "model_module_version": "2.0.0",
      "model_name": "LayoutModel",
      "state": {
       "width": "190px"
      }
     },
     "e37ae525712946d2a93139675aa8e983": {
      "model_module": "@jupyter-widgets/base",
      "model_module_version": "2.0.0",
      "model_name": "LayoutModel",
      "state": {
       "width": "190px"
      }
     },
     "e381ec4584d54bebba5c794cd4f9671f": {
      "model_module": "@jupyter-widgets/base",
      "model_module_version": "2.0.0",
      "model_name": "LayoutModel",
      "state": {
       "width": "70px"
      }
     },
     "e385a6f294c245e195d2b12956f8f762": {
      "model_module": "@jupyter-widgets/base",
      "model_module_version": "2.0.0",
      "model_name": "LayoutModel",
      "state": {
       "max_width": "700px",
       "min_width": "700px"
      }
     },
     "e3bb932fb05c4bdfb7e8393eaa203c49": {
      "model_module": "@jupyter-widgets/controls",
      "model_module_version": "2.0.0",
      "model_name": "HBoxModel",
      "state": {
       "children": [
        "IPY_MODEL_1ae505b5242a4308bd5b67bc75b3db5e",
        "IPY_MODEL_008e12dad26446e0832576a3e143723d",
        "IPY_MODEL_33ea2c0fb8134d3dab1256a10dcdbd9b",
        "IPY_MODEL_c78c2a770d16485f9d101dc1b50af68c",
        "IPY_MODEL_9fdfeb7d7da2422cb8d6d668bea9c898",
        "IPY_MODEL_36b2a15dba5747038a427ab0f23b6f79"
       ],
       "layout": "IPY_MODEL_59c6edeec6654e60b7c2e3cef68c070b"
      }
     },
     "e3dd9edcbf68418d87e6d4122e17b96c": {
      "model_module": "@jupyter-widgets/base",
      "model_module_version": "2.0.0",
      "model_name": "LayoutModel",
      "state": {}
     },
     "e439cf596d2e4384bc5f09dabd01bbb0": {
      "model_module": "@jupyter-widgets/controls",
      "model_module_version": "2.0.0",
      "model_name": "HTMLStyleModel",
      "state": {
       "description_width": "",
       "font_size": null,
       "text_color": null
      }
     },
     "e442545c0d93489c9992775dfa035eb7": {
      "model_module": "@jupyter-widgets/controls",
      "model_module_version": "2.0.0",
      "model_name": "HBoxModel",
      "state": {
       "children": [
        "IPY_MODEL_08ff2848bbb14c4594a0534fd5b678fd",
        "IPY_MODEL_93eff350b6914e3d9f9c6824ce074bed",
        "IPY_MODEL_5b94d32d7dfb48a48827c6aa551eb4f7",
        "IPY_MODEL_f655c64d4ff24e688499f5e558b2bd88",
        "IPY_MODEL_d81db7d35c014170a679ac5e33a4732f",
        "IPY_MODEL_aca36c34f55b4c699ef4414b1aedb3e5"
       ],
       "layout": "IPY_MODEL_9c5102b8e4184ab48368b9b5797c3309"
      }
     },
     "e444b458005649d7b050a10eeb262a8f": {
      "model_module": "@jupyter-widgets/base",
      "model_module_version": "2.0.0",
      "model_name": "LayoutModel",
      "state": {
       "width": "70px"
      }
     },
     "e45a1f50ceac4957a312e698e7bd2047": {
      "model_module": "@jupyter-widgets/controls",
      "model_module_version": "2.0.0",
      "model_name": "HTMLModel",
      "state": {
       "layout": "IPY_MODEL_cd25312e9abb43e8a374bb72c690ea3f",
       "style": "IPY_MODEL_3e67565c85124380bcc695bd55780215",
       "value": "ibm_nairobi"
      }
     },
     "e47ccc5c4fe145b68177e2f2d56d9332": {
      "model_module": "@jupyter-widgets/controls",
      "model_module_version": "2.0.0",
      "model_name": "HBoxModel",
      "state": {
       "children": [
        "IPY_MODEL_f3c6e123dd87414a9d9be5931aa358ee",
        "IPY_MODEL_370223a197854ccda85e59453884aee2",
        "IPY_MODEL_a38e5f1158944ebabc76e88c76137fbd",
        "IPY_MODEL_e6460fd2217a4884851b521dab43c10c",
        "IPY_MODEL_3e485a90861e49e8a1d78c9a135e6dfe",
        "IPY_MODEL_cadcdcf47d0b4df084169b7d93c88652"
       ],
       "layout": "IPY_MODEL_4a3e841b349646d18613d52b0890a533"
      }
     },
     "e48f733a49a94d78b63397e883c3edd3": {
      "model_module": "@jupyter-widgets/controls",
      "model_module_version": "2.0.0",
      "model_name": "HTMLModel",
      "state": {
       "layout": "IPY_MODEL_158be080608a4871bb5e76dc1e5f53f3",
       "style": "IPY_MODEL_5890395aa6e44a0bbe78373be675e063",
       "value": "-"
      }
     },
     "e4de75c75b914c92afea5bf0120220e4": {
      "model_module": "@jupyter-widgets/controls",
      "model_module_version": "2.0.0",
      "model_name": "HTMLModel",
      "state": {
       "layout": "IPY_MODEL_b99ec85003db4d92a03a598e113713f2",
       "style": "IPY_MODEL_b952ca89f8314232a18324f051af7675",
       "value": "job has successfully run"
      }
     },
     "e4e1bba55e7f44b181f68a6c071dc2ca": {
      "model_module": "@jupyter-widgets/base",
      "model_module_version": "2.0.0",
      "model_name": "LayoutModel",
      "state": {
       "width": "190px"
      }
     },
     "e5262639dd96452ea9671de9416c40bc": {
      "model_module": "@jupyter-widgets/base",
      "model_module_version": "2.0.0",
      "model_name": "LayoutModel",
      "state": {
       "width": "70px"
      }
     },
     "e559503234744a72b8a01a010b162128": {
      "model_module": "@jupyter-widgets/base",
      "model_module_version": "2.0.0",
      "model_name": "LayoutModel",
      "state": {
       "width": "145px"
      }
     },
     "e5970f1cfc104653be5d5d448c8a4751": {
      "model_module": "@jupyter-widgets/base",
      "model_module_version": "2.0.0",
      "model_name": "LayoutModel",
      "state": {
       "max_width": "700px",
       "min_width": "700px"
      }
     },
     "e5caf4de850543a0ab6c50137f9e2d38": {
      "model_module": "@jupyter-widgets/controls",
      "model_module_version": "2.0.0",
      "model_name": "HTMLModel",
      "state": {
       "layout": "IPY_MODEL_52354078b055401cb60f3b3e61f96948",
       "style": "IPY_MODEL_5aff2c4ef303453d890725841ccf90dd",
       "value": "-"
      }
     },
     "e5fbf40995fa4058b115ef249dd1fbfc": {
      "model_module": "@jupyter-widgets/base",
      "model_module_version": "2.0.0",
      "model_name": "LayoutModel",
      "state": {
       "margin": "0px 5px 0px 0px",
       "width": "32px"
      }
     },
     "e6370153d80f462fa4fe7fad0dcc200d": {
      "model_module": "@jupyter-widgets/controls",
      "model_module_version": "2.0.0",
      "model_name": "HBoxModel",
      "state": {
       "children": [
        "IPY_MODEL_ca26e8e2190c4a4193771f074420a44b",
        "IPY_MODEL_229477062f2b41c88855355e7cf85e5a",
        "IPY_MODEL_d9e743f59d8f41ee8552f1be4fa9cc99",
        "IPY_MODEL_6c1811490c8b4b529247e2607bc94046",
        "IPY_MODEL_53b905364e1740bf9399f3ae2708477c",
        "IPY_MODEL_2e9eaf0b0b5447d398e71be272ac01fd"
       ],
       "layout": "IPY_MODEL_7a8976e6330846bc99f58415c4c60864"
      }
     },
     "e6460fd2217a4884851b521dab43c10c": {
      "model_module": "@jupyter-widgets/controls",
      "model_module_version": "2.0.0",
      "model_name": "HTMLModel",
      "state": {
       "layout": "IPY_MODEL_abc7e03f46e44e7ca1d035dfd3954814",
       "style": "IPY_MODEL_25e93a85dbab4e96813314d056c23a47",
       "value": "<font style='color:#34BC6E'>DONE</font>"
      }
     },
     "e6756527442d4639b28e08c1351970a8": {
      "model_module": "@jupyter-widgets/controls",
      "model_module_version": "2.0.0",
      "model_name": "HTMLStyleModel",
      "state": {
       "description_width": "",
       "font_size": null,
       "text_color": null
      }
     },
     "e681cc8871ec472f92d013b43c7bf857": {
      "model_module": "@jupyter-widgets/controls",
      "model_module_version": "2.0.0",
      "model_name": "HTMLStyleModel",
      "state": {
       "description_width": "",
       "font_size": null,
       "text_color": null
      }
     },
     "e6aeb4d6f56542868643f5182a007126": {
      "model_module": "@jupyter-widgets/base",
      "model_module_version": "2.0.0",
      "model_name": "LayoutModel",
      "state": {
       "width": "95px"
      }
     },
     "e74aa29ee22c4925807f32684b8266a5": {
      "model_module": "@jupyter-widgets/base",
      "model_module_version": "2.0.0",
      "model_name": "LayoutModel",
      "state": {
       "width": "190px"
      }
     },
     "e753c50cadee4a4aaacc568a8e52a5d6": {
      "model_module": "@jupyter-widgets/base",
      "model_module_version": "2.0.0",
      "model_name": "LayoutModel",
      "state": {}
     },
     "e770620950fe44819557c5305c57597f": {
      "model_module": "@jupyter-widgets/controls",
      "model_module_version": "2.0.0",
      "model_name": "ButtonStyleModel",
      "state": {
       "button_color": "white",
       "font_family": null,
       "font_size": null,
       "font_style": null,
       "font_variant": null,
       "font_weight": null,
       "text_color": null,
       "text_decoration": null
      }
     },
     "e7b35227c8cd4c89aad84f2bfd71be46": {
      "model_module": "@jupyter-widgets/controls",
      "model_module_version": "2.0.0",
      "model_name": "HBoxModel",
      "state": {
       "children": [
        "IPY_MODEL_9670c47521bc4c81b0cfac1a8adccaf4",
        "IPY_MODEL_a58de14b82074dff83bc8a37062c6796",
        "IPY_MODEL_388748e8980c4341a770a393b8ae22e1",
        "IPY_MODEL_b1bcaef4390343ee94152587591022b2",
        "IPY_MODEL_801f249d106c4e0ba5c3fb811f7b83e1",
        "IPY_MODEL_a33f61e712424dc3baf98801f1c95999"
       ],
       "layout": "IPY_MODEL_1f1580c97e404b559d2c299720343418"
      }
     },
     "e80fab0559a947b5a43e1f6c72431d94": {
      "model_module": "@jupyter-widgets/base",
      "model_module_version": "2.0.0",
      "model_name": "LayoutModel",
      "state": {
       "margin": "0px 5px 0px 0px",
       "width": "32px"
      }
     },
     "e815c8d6629d4ffb897c341cafe442a6": {
      "model_module": "@jupyter-widgets/controls",
      "model_module_version": "2.0.0",
      "model_name": "HTMLStyleModel",
      "state": {
       "description_width": "",
       "font_size": null,
       "text_color": null
      }
     },
     "e81b1429c70d4e0088478ee84be83bd0": {
      "model_module": "@jupyter-widgets/controls",
      "model_module_version": "2.0.0",
      "model_name": "HTMLStyleModel",
      "state": {
       "description_width": "",
       "font_size": null,
       "text_color": null
      }
     },
     "e8227f76b6154dd4a6d89c170fcf0f10": {
      "model_module": "@jupyter-widgets/base",
      "model_module_version": "2.0.0",
      "model_name": "LayoutModel",
      "state": {
       "width": "145px"
      }
     },
     "e829db18aaca4b62b257083ab0854b4e": {
      "model_module": "@jupyter-widgets/controls",
      "model_module_version": "2.0.0",
      "model_name": "HTMLModel",
      "state": {
       "layout": "IPY_MODEL_ab3e0dfbac7542c4993089263ca6c8ae",
       "style": "IPY_MODEL_e815c8d6629d4ffb897c341cafe442a6",
       "value": "<font style='color:#34BC6E'>DONE</font>"
      }
     },
     "e8cf7c79af7d4c8983226a93acd1cbcb": {
      "model_module": "@jupyter-widgets/base",
      "model_module_version": "2.0.0",
      "model_name": "LayoutModel",
      "state": {}
     },
     "e8e57b36e9204621afa338c3aebf1b9e": {
      "model_module": "@jupyter-widgets/base",
      "model_module_version": "2.0.0",
      "model_name": "LayoutModel",
      "state": {
       "width": "70px"
      }
     },
     "e9148d0108ed4cd880900bb6fd01b1c8": {
      "model_module": "@jupyter-widgets/base",
      "model_module_version": "2.0.0",
      "model_name": "LayoutModel",
      "state": {
       "width": "70px"
      }
     },
     "e9381208220347fbad336fc65d8cf116": {
      "model_module": "@jupyter-widgets/controls",
      "model_module_version": "2.0.0",
      "model_name": "HBoxModel",
      "state": {
       "children": [
        "IPY_MODEL_26eb952323544a2db77f624a9b3b43c3",
        "IPY_MODEL_8d6282dc04b74fbca7f6c12c148da601",
        "IPY_MODEL_82917f86f1e14753a0e853ce15bf5817",
        "IPY_MODEL_048ef3f4cbef400fb629aa09629bd848",
        "IPY_MODEL_fa72b030c9d74e26b3d3e294b37a4eba",
        "IPY_MODEL_a8b5fe31d33841b6ad19bae18a9c2799"
       ],
       "layout": "IPY_MODEL_c3b2403a6a5d4aa68c738da67a2510eb"
      }
     },
     "e93ddd23fbd645a9b4e5b0036033d6a7": {
      "model_module": "@jupyter-widgets/controls",
      "model_module_version": "2.0.0",
      "model_name": "HTMLStyleModel",
      "state": {
       "description_width": "",
       "font_size": null,
       "text_color": null
      }
     },
     "e94ac1309ccc4e99969e233ce01fc833": {
      "model_module": "@jupyter-widgets/controls",
      "model_module_version": "2.0.0",
      "model_name": "HTMLModel",
      "state": {
       "layout": "IPY_MODEL_3ea060fe2e2947808a0faca641a5becb",
       "style": "IPY_MODEL_32e0920ece804cc0805069269d39ed38",
       "value": "job has successfully run"
      }
     },
     "e9985318510545659a4469393ec6008e": {
      "model_module": "@jupyter-widgets/controls",
      "model_module_version": "2.0.0",
      "model_name": "HTMLStyleModel",
      "state": {
       "description_width": "",
       "font_size": null,
       "text_color": null
      }
     },
     "e9ade29a9ba34dad912e9be78c6182e7": {
      "model_module": "@jupyter-widgets/controls",
      "model_module_version": "2.0.0",
      "model_name": "HTMLModel",
      "state": {
       "layout": "IPY_MODEL_97765e5fee7e4f46bccd166f2dc90c9b",
       "style": "IPY_MODEL_c613abc10c784c1f802b729c0672c23d",
       "value": "job has successfully run"
      }
     },
     "e9c68e1ca7034fdd8a535b8217c45ad2": {
      "model_module": "@jupyter-widgets/base",
      "model_module_version": "2.0.0",
      "model_name": "LayoutModel",
      "state": {
       "width": "95px"
      }
     },
     "e9dfb4bbd3404846af162f35dce8e549": {
      "model_module": "@jupyter-widgets/controls",
      "model_module_version": "2.0.0",
      "model_name": "HTMLModel",
      "state": {
       "layout": "IPY_MODEL_ec5cfeea72e74bc29118eedf162c43a4",
       "style": "IPY_MODEL_8b54db34a1be4dbfb8fe068e2b620160",
       "value": "<font style='color:#34BC6E'>DONE</font>"
      }
     },
     "ea0025eed67b48de9185f22bf1575286": {
      "model_module": "@jupyter-widgets/base",
      "model_module_version": "2.0.0",
      "model_name": "LayoutModel",
      "state": {
       "width": "145px"
      }
     },
     "ea337e79843843b496d3099cdeac3b6e": {
      "model_module": "@jupyter-widgets/base",
      "model_module_version": "2.0.0",
      "model_name": "LayoutModel",
      "state": {}
     },
     "ea540880ef984137a5f9d497a39e7fcf": {
      "model_module": "@jupyter-widgets/base",
      "model_module_version": "2.0.0",
      "model_name": "LayoutModel",
      "state": {
       "width": "190px"
      }
     },
     "ea91b7c183de4883b8c4d1406b2af34e": {
      "model_module": "@jupyter-widgets/controls",
      "model_module_version": "2.0.0",
      "model_name": "HTMLModel",
      "state": {
       "layout": "IPY_MODEL_639387513a02455da6cf3fcaa5f4e3df",
       "style": "IPY_MODEL_3f31a365a5574893be8f195323e3abe1",
       "value": "-"
      }
     },
     "ea98a912f60f4159bc578850ff34e515": {
      "model_module": "@jupyter-widgets/controls",
      "model_module_version": "2.0.0",
      "model_name": "HTMLModel",
      "state": {
       "layout": "IPY_MODEL_257e2a68b04944618504f0e7b7ff513c",
       "style": "IPY_MODEL_9014aa8abe9e468287de82b1427309fd",
       "value": "-"
      }
     },
     "ead45205eb9d497ca478e5e203966557": {
      "model_module": "@jupyter-widgets/base",
      "model_module_version": "2.0.0",
      "model_name": "LayoutModel",
      "state": {
       "width": "95px"
      }
     },
     "eaf1f898227e4c3b9c8107337432dbff": {
      "model_module": "@jupyter-widgets/base",
      "model_module_version": "2.0.0",
      "model_name": "LayoutModel",
      "state": {
       "width": "95px"
      }
     },
     "eaf60f993d814b778be7b3550fa094d2": {
      "model_module": "@jupyter-widgets/controls",
      "model_module_version": "2.0.0",
      "model_name": "HTMLModel",
      "state": {
       "layout": "IPY_MODEL_e0df93a154e14a08a7a708a5f80d44be",
       "style": "IPY_MODEL_7154bb564b35495fbdd45ded2ab55965",
       "value": "<font style='color:#34BC6E'>DONE</font>"
      }
     },
     "eb44cd6d6a754fe9b35bffb0e1aaa13b": {
      "model_module": "@jupyter-widgets/controls",
      "model_module_version": "2.0.0",
      "model_name": "ButtonStyleModel",
      "state": {
       "button_color": "white",
       "font_family": null,
       "font_size": null,
       "font_style": null,
       "font_variant": null,
       "font_weight": null,
       "text_color": null,
       "text_decoration": null
      }
     },
     "eb577acd7e1741cc92c185b10ea37d40": {
      "model_module": "@jupyter-widgets/controls",
      "model_module_version": "2.0.0",
      "model_name": "ButtonStyleModel",
      "state": {
       "button_color": "white",
       "font_family": null,
       "font_size": null,
       "font_style": null,
       "font_variant": null,
       "font_weight": null,
       "text_color": null,
       "text_decoration": null
      }
     },
     "eb79696fe1584d47813b0e2fca08f39d": {
      "model_module": "@jupyter-widgets/base",
      "model_module_version": "2.0.0",
      "model_name": "LayoutModel",
      "state": {}
     },
     "ebd5ddb4cb024ca9b58757bfdf2912c7": {
      "model_module": "@jupyter-widgets/controls",
      "model_module_version": "2.0.0",
      "model_name": "HTMLModel",
      "state": {
       "layout": "IPY_MODEL_32127289723c467f80b15e32a911e5bf",
       "style": "IPY_MODEL_8e7838f79ab546e4a8edbfb480bcb7b8",
       "value": "job has successfully run"
      }
     },
     "ec35dce2b5894639be4b95ecbec9caab": {
      "model_module": "@jupyter-widgets/controls",
      "model_module_version": "2.0.0",
      "model_name": "HBoxModel",
      "state": {
       "children": [
        "IPY_MODEL_67d6cfd31fb942bfb30eeff61e219114",
        "IPY_MODEL_66158819ebbc44a58d6216f830c6f86e",
        "IPY_MODEL_a0aa381d16d6435d8c64d5db1db5f056",
        "IPY_MODEL_0b40491f823c4651ad8572d95ea85b67",
        "IPY_MODEL_39adf9a6b4c74674b90722c2f6f83d4a",
        "IPY_MODEL_e94ac1309ccc4e99969e233ce01fc833"
       ],
       "layout": "IPY_MODEL_de312890b5fd4fe2976eaf810df4ef37"
      }
     },
     "ec5cfeea72e74bc29118eedf162c43a4": {
      "model_module": "@jupyter-widgets/base",
      "model_module_version": "2.0.0",
      "model_name": "LayoutModel",
      "state": {
       "width": "95px"
      }
     },
     "ec71f819c3df4158a0e897a2a9e8eaf6": {
      "model_module": "@jupyter-widgets/base",
      "model_module_version": "2.0.0",
      "model_name": "LayoutModel",
      "state": {
       "width": "95px"
      }
     },
     "ec8871d292814fc0bf808519ea74e240": {
      "model_module": "@jupyter-widgets/controls",
      "model_module_version": "2.0.0",
      "model_name": "HTMLModel",
      "state": {
       "layout": "IPY_MODEL_abd7fe436cfe4e8b99d32f00d0e9a11d",
       "style": "IPY_MODEL_e6756527442d4639b28e08c1351970a8",
       "value": "cmde0jtzjkb0008m256g"
      }
     },
     "ec8a7e997c244b2ba8eebba3d4ea90e7": {
      "model_module": "@jupyter-widgets/base",
      "model_module_version": "2.0.0",
      "model_name": "LayoutModel",
      "state": {
       "width": "145px"
      }
     },
     "ec9510d03876481988ce2fd6345517c3": {
      "model_module": "@jupyter-widgets/base",
      "model_module_version": "2.0.0",
      "model_name": "LayoutModel",
      "state": {
       "max_width": "700px",
       "min_width": "700px"
      }
     },
     "ec958ddac05541a183b31271f1562f3f": {
      "model_module": "@jupyter-widgets/controls",
      "model_module_version": "2.0.0",
      "model_name": "HTMLStyleModel",
      "state": {
       "description_width": "",
       "font_size": null,
       "text_color": null
      }
     },
     "ecd79138274d4a1f83f07e605bb8a565": {
      "model_module": "@jupyter-widgets/controls",
      "model_module_version": "2.0.0",
      "model_name": "ButtonModel",
      "state": {
       "icon": "close",
       "layout": "IPY_MODEL_7391cd4ef33f4e84b6883b418319d3ff",
       "style": "IPY_MODEL_fdf75331f4d24e3282dcd0e133abb099",
       "tooltip": null
      }
     },
     "ecfbc19eeb3d4dfd9a1b0f551b5ee8f2": {
      "model_module": "@jupyter-widgets/controls",
      "model_module_version": "2.0.0",
      "model_name": "HTMLStyleModel",
      "state": {
       "description_width": "",
       "font_size": null,
       "text_color": null
      }
     },
     "ed06ce312b0340b5896cac8c8706b431": {
      "model_module": "@jupyter-widgets/base",
      "model_module_version": "2.0.0",
      "model_name": "LayoutModel",
      "state": {
       "width": "70px"
      }
     },
     "ed164ca699464e449426d545fbc1d554": {
      "model_module": "@jupyter-widgets/controls",
      "model_module_version": "2.0.0",
      "model_name": "ButtonModel",
      "state": {
       "icon": "close",
       "layout": "IPY_MODEL_5f0f2029608b423a98a0c8f723b5de46",
       "style": "IPY_MODEL_6f2387fed50c49589d76ce9021e2e28b",
       "tooltip": null
      }
     },
     "ed50cfe02c7f49c0981ace3817ffd641": {
      "model_module": "@jupyter-widgets/base",
      "model_module_version": "2.0.0",
      "model_name": "LayoutModel",
      "state": {
       "width": "145px"
      }
     },
     "eda61b9edaa9458ea44da81ad96cfa75": {
      "model_module": "@jupyter-widgets/base",
      "model_module_version": "2.0.0",
      "model_name": "LayoutModel",
      "state": {}
     },
     "edc6bb7ebf204eaf8e100cd3d22fc3cf": {
      "model_module": "@jupyter-widgets/controls",
      "model_module_version": "2.0.0",
      "model_name": "HTMLModel",
      "state": {
       "layout": "IPY_MODEL_f3b3acbbe35d4690ac085cb483eb36b0",
       "style": "IPY_MODEL_e81b1429c70d4e0088478ee84be83bd0",
       "value": "<font style='color:#34BC6E'>DONE</font>"
      }
     },
     "ede49072b49a43ebaabd84b662af75e9": {
      "model_module": "@jupyter-widgets/controls",
      "model_module_version": "2.0.0",
      "model_name": "HTMLModel",
      "state": {
       "layout": "IPY_MODEL_c36d1ddb35934814b76520eb38c0af43",
       "style": "IPY_MODEL_8ce1408fcc6241ad8554b1ae5d62d1e2",
       "value": "<font style='color:#34BC6E'>DONE</font>"
      }
     },
     "ee0cfa4bd0c246318862fed0f0d4b440": {
      "model_module": "@jupyter-widgets/base",
      "model_module_version": "2.0.0",
      "model_name": "LayoutModel",
      "state": {
       "margin": "0px 5px 0px 0px",
       "width": "32px"
      }
     },
     "ee49210c89ce43e6a207062e0cc1920b": {
      "model_module": "@jupyter-widgets/controls",
      "model_module_version": "2.0.0",
      "model_name": "HTMLStyleModel",
      "state": {
       "description_width": "",
       "font_size": null,
       "text_color": null
      }
     },
     "ee70847b79c14945b48d6e0755b0a0e7": {
      "model_module": "@jupyter-widgets/base",
      "model_module_version": "2.0.0",
      "model_name": "LayoutModel",
      "state": {
       "width": "70px"
      }
     },
     "eeac40d2988745b58f2637e46a398a08": {
      "model_module": "@jupyter-widgets/controls",
      "model_module_version": "2.0.0",
      "model_name": "HTMLModel",
      "state": {
       "layout": "IPY_MODEL_0e0be7a1d71b4b34b3c219a4da1d0a43",
       "style": "IPY_MODEL_122625c170874e739690c0328ea58adb",
       "value": "<font style='color:#34BC6E'>DONE</font>"
      }
     },
     "ef2e247e949845ebbb844dbb12c7aa84": {
      "model_module": "@jupyter-widgets/controls",
      "model_module_version": "2.0.0",
      "model_name": "HTMLStyleModel",
      "state": {
       "description_width": "",
       "font_size": null,
       "text_color": null
      }
     },
     "ef35aa48858743bb83084da51dfe0505": {
      "model_module": "@jupyter-widgets/base",
      "model_module_version": "2.0.0",
      "model_name": "LayoutModel",
      "state": {
       "width": "95px"
      }
     },
     "ef4df42b4c534af3a7b1c27de10e914f": {
      "model_module": "@jupyter-widgets/controls",
      "model_module_version": "2.0.0",
      "model_name": "HTMLModel",
      "state": {
       "layout": "IPY_MODEL_897127dfb991438a9b8da68dde9fa7a2",
       "style": "IPY_MODEL_b047e5b701074adab98ac494577a7f36",
       "value": "<font style='color:#34BC6E'>DONE</font>"
      }
     },
     "ef834d0ede674604aa7cda154f7650f4": {
      "model_module": "@jupyter-widgets/base",
      "model_module_version": "2.0.0",
      "model_name": "LayoutModel",
      "state": {
       "width": "190px"
      }
     },
     "efdc96021f5e4d41b4abd9d5a18168a5": {
      "model_module": "@jupyter-widgets/base",
      "model_module_version": "2.0.0",
      "model_name": "LayoutModel",
      "state": {
       "width": "70px"
      }
     },
     "efed24b1f8484354a4fe0aacd8728eeb": {
      "model_module": "@jupyter-widgets/controls",
      "model_module_version": "2.0.0",
      "model_name": "HTMLModel",
      "state": {
       "layout": "IPY_MODEL_6ecb4b593f594e62ac12c0eedfe3fe4c",
       "style": "IPY_MODEL_d0ead93b5d0a4e5db20f3e7f91f39f8b",
       "value": "cmde1f5zjkb0008m25bg"
      }
     },
     "f0118b2c7f10412b9328995a857a123f": {
      "model_module": "@jupyter-widgets/controls",
      "model_module_version": "2.0.0",
      "model_name": "HTMLModel",
      "state": {
       "layout": "IPY_MODEL_21ec62b16e714711996d59757b626210",
       "style": "IPY_MODEL_d33071575dd7494bb758c0c91bfae2eb",
       "value": "<font style='color:#34BC6E'>DONE</font>"
      }
     },
     "f01763f0361e42cb9894092b9ba27535": {
      "model_module": "@jupyter-widgets/controls",
      "model_module_version": "2.0.0",
      "model_name": "HTMLModel",
      "state": {
       "layout": "IPY_MODEL_5e3591cc515b405d9d5a08bbdfab2504",
       "style": "IPY_MODEL_61d5513e865b48b18ca33a99975c4197",
       "value": "<p style='font-family: IBM Plex Sans, Arial, Helvetica, sans-serif; font-size: 20px; font-weight: medium;'>Circuit Properties</p>"
      }
     },
     "f040f7d369904b0da08c8f6f44b09a41": {
      "model_module": "@jupyter-widgets/controls",
      "model_module_version": "2.0.0",
      "model_name": "HTMLModel",
      "state": {
       "layout": "IPY_MODEL_b149b96fd098439088a1e19ad7416a6b",
       "style": "IPY_MODEL_c5e73664094449e389b0b049055f8594",
       "value": "ibm_nairobi"
      }
     },
     "f080b495df414f2c8d9281c61e688c31": {
      "model_module": "@jupyter-widgets/base",
      "model_module_version": "2.0.0",
      "model_name": "LayoutModel",
      "state": {
       "width": "145px"
      }
     },
     "f0a867bf8e2a4eddb95b49e9bbac23ca": {
      "model_module": "@jupyter-widgets/controls",
      "model_module_version": "2.0.0",
      "model_name": "HTMLModel",
      "state": {
       "layout": "IPY_MODEL_645f0879ad764511b58b17b3a124023d",
       "style": "IPY_MODEL_47650621eebd4a729b391dbf5b44d9a4",
       "value": "-"
      }
     },
     "f0b801ecb33c4e17b902532c246cc87c": {
      "model_module": "@jupyter-widgets/base",
      "model_module_version": "2.0.0",
      "model_name": "LayoutModel",
      "state": {
       "width": "70px"
      }
     },
     "f0bda07f5a244139be76c14eb76daf53": {
      "model_module": "@jupyter-widgets/base",
      "model_module_version": "2.0.0",
      "model_name": "LayoutModel",
      "state": {
       "width": "190px"
      }
     },
     "f11182b4032740f18932924916262cc4": {
      "model_module": "@jupyter-widgets/base",
      "model_module_version": "2.0.0",
      "model_name": "LayoutModel",
      "state": {
       "width": "70px"
      }
     },
     "f21a1ee62cf044c98d5259697d9e6fe5": {
      "model_module": "@jupyter-widgets/controls",
      "model_module_version": "2.0.0",
      "model_name": "HTMLStyleModel",
      "state": {
       "description_width": "",
       "font_size": null,
       "text_color": null
      }
     },
     "f2216e24fd8e4c94b0d737113edc860d": {
      "model_module": "@jupyter-widgets/controls",
      "model_module_version": "2.0.0",
      "model_name": "HTMLModel",
      "state": {
       "layout": "IPY_MODEL_658034193dde4b3f8e913da2edac9f2c",
       "style": "IPY_MODEL_435a193b289c4f2aa69ab6b002df3f7a",
       "value": "job has successfully run"
      }
     },
     "f2873d74a6c54ba08acc7e0432464f35": {
      "model_module": "@jupyter-widgets/controls",
      "model_module_version": "2.0.0",
      "model_name": "HTMLModel",
      "state": {
       "layout": "IPY_MODEL_70f0d779444e4f13b05e61d48dfb1f86",
       "style": "IPY_MODEL_4318c140a93641cb96de793235ee3cc0",
       "value": "job has successfully run"
      }
     },
     "f2895754b1d845e98689ab6fd25714fc": {
      "model_module": "@jupyter-widgets/controls",
      "model_module_version": "2.0.0",
      "model_name": "HBoxModel",
      "state": {
       "children": [
        "IPY_MODEL_4609132a35a044d983ebc4088ea645f5",
        "IPY_MODEL_d2f108389f52417ab480188869fcdd95",
        "IPY_MODEL_aa11d9cb515e46aba10af1f30a66e303",
        "IPY_MODEL_59fded84b5104756820bfac95a3266dd",
        "IPY_MODEL_ea98a912f60f4159bc578850ff34e515",
        "IPY_MODEL_f2873d74a6c54ba08acc7e0432464f35"
       ],
       "layout": "IPY_MODEL_19885143491446caad30c67badbc8f60"
      }
     },
     "f2a3c94add3343c49457e2e0e6d44b19": {
      "model_module": "@jupyter-widgets/base",
      "model_module_version": "2.0.0",
      "model_name": "LayoutModel",
      "state": {}
     },
     "f2a616141c3f4cb1a260db08e4c658cb": {
      "model_module": "@jupyter-widgets/controls",
      "model_module_version": "2.0.0",
      "model_name": "HTMLModel",
      "state": {
       "layout": "IPY_MODEL_f11182b4032740f18932924916262cc4",
       "style": "IPY_MODEL_e0eaa6b1e5cc4b498cacb331c0717e15",
       "value": "-"
      }
     },
     "f2eff5284d3e48e0979929cd88beac5c": {
      "model_module": "@jupyter-widgets/base",
      "model_module_version": "2.0.0",
      "model_name": "LayoutModel",
      "state": {
       "width": "145px"
      }
     },
     "f365cefdedab4d7bb72895a9a1fd6dac": {
      "model_module": "@jupyter-widgets/base",
      "model_module_version": "2.0.0",
      "model_name": "LayoutModel",
      "state": {
       "max_width": "700px",
       "min_width": "700px"
      }
     },
     "f3b3acbbe35d4690ac085cb483eb36b0": {
      "model_module": "@jupyter-widgets/base",
      "model_module_version": "2.0.0",
      "model_name": "LayoutModel",
      "state": {
       "width": "95px"
      }
     },
     "f3c6e123dd87414a9d9be5931aa358ee": {
      "model_module": "@jupyter-widgets/controls",
      "model_module_version": "2.0.0",
      "model_name": "ButtonModel",
      "state": {
       "icon": "close",
       "layout": "IPY_MODEL_33984484566942a0931000ee45618f4a",
       "style": "IPY_MODEL_d74f90876c2e4464ba121085226fd47e",
       "tooltip": null
      }
     },
     "f3eed8267dd54b798867241614665bff": {
      "model_module": "@jupyter-widgets/base",
      "model_module_version": "2.0.0",
      "model_name": "LayoutModel",
      "state": {}
     },
     "f401e6fb3b23460a90e09cc3bf275857": {
      "model_module": "@jupyter-widgets/controls",
      "model_module_version": "2.0.0",
      "model_name": "HTMLModel",
      "state": {
       "layout": "IPY_MODEL_07aecd84cf1245d1a48213f90c53c06a",
       "style": "IPY_MODEL_600fc4a00b604f03b41534d835d2a9e8",
       "value": "job has successfully run"
      }
     },
     "f45342f59b3f406d9377ed3e660db39b": {
      "model_module": "@jupyter-widgets/base",
      "model_module_version": "2.0.0",
      "model_name": "LayoutModel",
      "state": {
       "margin": "0px 5px 0px 0px",
       "width": "32px"
      }
     },
     "f4bd491e4a3a45ffb9f10db8d7c02536": {
      "model_module": "@jupyter-widgets/base",
      "model_module_version": "2.0.0",
      "model_name": "LayoutModel",
      "state": {
       "width": "190px"
      }
     },
     "f4d68145bfc44cadb843a242856c1da9": {
      "model_module": "@jupyter-widgets/controls",
      "model_module_version": "2.0.0",
      "model_name": "HTMLStyleModel",
      "state": {
       "description_width": "",
       "font_size": null,
       "text_color": null
      }
     },
     "f500559961c646a7a11bfb9af67da187": {
      "model_module": "@jupyter-widgets/controls",
      "model_module_version": "2.0.0",
      "model_name": "HTMLModel",
      "state": {
       "layout": "IPY_MODEL_5f3db0b69339446390dc8f540e9df7ea",
       "style": "IPY_MODEL_5798c11dacfd4b90aba8985f989d5c08",
       "value": "-"
      }
     },
     "f51c41c1d7684658a4ba90d947635869": {
      "model_module": "@jupyter-widgets/controls",
      "model_module_version": "2.0.0",
      "model_name": "HTMLStyleModel",
      "state": {
       "description_width": "",
       "font_size": null,
       "text_color": null
      }
     },
     "f551b877841a4196b635e1c0aba03473": {
      "model_module": "@jupyter-widgets/controls",
      "model_module_version": "2.0.0",
      "model_name": "HBoxModel",
      "state": {
       "children": [
        "IPY_MODEL_b1cb5d5efbcd4ff98e233160f20967e0",
        "IPY_MODEL_43c92893474648998ec461f4370d261f",
        "IPY_MODEL_a14cc7a792334190ba94f00dbf24c6ee",
        "IPY_MODEL_d9544915812642ffa720bbcba258f3d8",
        "IPY_MODEL_e5caf4de850543a0ab6c50137f9e2d38",
        "IPY_MODEL_1d11efab9cc64abc8fb45487ec866eb6"
       ],
       "layout": "IPY_MODEL_0e25e2d698ed46d0a94c1a1e64f9ac38"
      }
     },
     "f579c3c762014ddca0e1f9765b40dbdd": {
      "model_module": "@jupyter-widgets/base",
      "model_module_version": "2.0.0",
      "model_name": "LayoutModel",
      "state": {
       "width": "145px"
      }
     },
     "f5e355b18fe0434fb828f784e2a0d0d4": {
      "model_module": "@jupyter-widgets/controls",
      "model_module_version": "2.0.0",
      "model_name": "HTMLModel",
      "state": {
       "layout": "IPY_MODEL_879de64cfd0e4eada3c77fe530d58c5b",
       "style": "IPY_MODEL_789529d0a8a14d6486a21dfe1663d43a",
       "value": "ibm_nairobi"
      }
     },
     "f62ea2f8a51c4b3ba975b9ff75e5b228": {
      "model_module": "@jupyter-widgets/base",
      "model_module_version": "2.0.0",
      "model_name": "LayoutModel",
      "state": {
       "width": "145px"
      }
     },
     "f6390e133309404d84a70cd181ac5632": {
      "model_module": "@jupyter-widgets/controls",
      "model_module_version": "2.0.0",
      "model_name": "HTMLModel",
      "state": {
       "layout": "IPY_MODEL_1fe5807e79184c58beede8c2b1ce7051",
       "style": "IPY_MODEL_6bb2434eb6814b6fbd94ddcb35e3455c",
       "value": "<font style='color:#34BC6E'>DONE</font>"
      }
     },
     "f655c64d4ff24e688499f5e558b2bd88": {
      "model_module": "@jupyter-widgets/controls",
      "model_module_version": "2.0.0",
      "model_name": "HTMLModel",
      "state": {
       "layout": "IPY_MODEL_30632cac8013419dbf917ee1182cc143",
       "style": "IPY_MODEL_c0db5d85d2fe4495b75b9b73c2bc7adc",
       "value": "<font style='color:#34BC6E'>DONE</font>"
      }
     },
     "f657cd7b5ddf44e69fa3d4e5d1eecfb1": {
      "model_module": "@jupyter-widgets/base",
      "model_module_version": "2.0.0",
      "model_name": "LayoutModel",
      "state": {
       "width": "190px"
      }
     },
     "f6e5003987644166b506200f46a94722": {
      "model_module": "@jupyter-widgets/controls",
      "model_module_version": "2.0.0",
      "model_name": "HTMLStyleModel",
      "state": {
       "description_width": "",
       "font_size": null,
       "text_color": null
      }
     },
     "f6f0c98822de48f59ac39c32ac0a3895": {
      "model_module": "@jupyter-widgets/controls",
      "model_module_version": "2.0.0",
      "model_name": "ButtonStyleModel",
      "state": {
       "button_color": "white",
       "font_family": null,
       "font_size": null,
       "font_style": null,
       "font_variant": null,
       "font_weight": null,
       "text_color": null,
       "text_decoration": null
      }
     },
     "f7239e20faad415b8887528f5d3ebea1": {
      "model_module": "@jupyter-widgets/controls",
      "model_module_version": "2.0.0",
      "model_name": "HTMLStyleModel",
      "state": {
       "description_width": "",
       "font_size": null,
       "text_color": null
      }
     },
     "f73783e0b40c4188a22d5099f07cba5f": {
      "model_module": "@jupyter-widgets/base",
      "model_module_version": "2.0.0",
      "model_name": "LayoutModel",
      "state": {}
     },
     "f77b3dda32a940bd9bc92a8a9660d956": {
      "model_module": "@jupyter-widgets/controls",
      "model_module_version": "2.0.0",
      "model_name": "HTMLStyleModel",
      "state": {
       "description_width": "",
       "font_size": null,
       "text_color": null
      }
     },
     "f7965214354f4860982a7092267975eb": {
      "model_module": "@jupyter-widgets/base",
      "model_module_version": "2.0.0",
      "model_name": "LayoutModel",
      "state": {
       "width": "70px"
      }
     },
     "f79a9299235f4a2187f2942425c2ef42": {
      "model_module": "@jupyter-widgets/base",
      "model_module_version": "2.0.0",
      "model_name": "LayoutModel",
      "state": {
       "width": "145px"
      }
     },
     "f7d064285f71498d8a13ab2105aea9e2": {
      "model_module": "@jupyter-widgets/controls",
      "model_module_version": "2.0.0",
      "model_name": "HTMLStyleModel",
      "state": {
       "description_width": "",
       "font_size": null,
       "text_color": null
      }
     },
     "f8020aae34ff4c5689cd64064e850173": {
      "model_module": "@jupyter-widgets/base",
      "model_module_version": "2.0.0",
      "model_name": "LayoutModel",
      "state": {
       "width": "95px"
      }
     },
     "f839bd890fde428382cfbfe0e625a566": {
      "model_module": "@jupyter-widgets/controls",
      "model_module_version": "2.0.0",
      "model_name": "HTMLModel",
      "state": {
       "layout": "IPY_MODEL_9169d399355a4a869b36fd6059b4bc39",
       "style": "IPY_MODEL_f9b030c446c444a49e3a15d0fa2e9531",
       "value": "cmde1n6zjkb0008m25d0"
      }
     },
     "f86eff89d1e74918841bf5a198b0d8dc": {
      "model_module": "@jupyter-widgets/base",
      "model_module_version": "2.0.0",
      "model_name": "LayoutModel",
      "state": {
       "width": "190px"
      }
     },
     "f88131d2a026467aac21487e2e9e9d73": {
      "model_module": "@jupyter-widgets/controls",
      "model_module_version": "2.0.0",
      "model_name": "HTMLModel",
      "state": {
       "layout": "IPY_MODEL_efdc96021f5e4d41b4abd9d5a18168a5",
       "style": "IPY_MODEL_a6e509c99b454b25b0feab7cea63891d",
       "value": "-"
      }
     },
     "f890349f40bb4ef0bca72ad23946fb47": {
      "model_module": "@jupyter-widgets/controls",
      "model_module_version": "2.0.0",
      "model_name": "HTMLStyleModel",
      "state": {
       "description_width": "",
       "font_size": null,
       "text_color": null
      }
     },
     "f8942fed3926422193156f23a4679cef": {
      "model_module": "@jupyter-widgets/controls",
      "model_module_version": "2.0.0",
      "model_name": "HBoxModel",
      "state": {
       "children": [
        "IPY_MODEL_c9c66c3907b04ea5803b392fccab8950",
        "IPY_MODEL_3d23e013957d499c9158c1b481a9edfc",
        "IPY_MODEL_247a0f5a31874e14a18de75df980cc43",
        "IPY_MODEL_cb3abaeb46aa43a08d6475bc3f45cc4c",
        "IPY_MODEL_d5203a24ec434ed181558f5366ab2e3f",
        "IPY_MODEL_d5d96392574342dcad4bd3975f723323"
       ],
       "layout": "IPY_MODEL_daac799e95de48dab77a4ccef9b3acfe"
      }
     },
     "f8aa6edefe8c482c93cda017edb2be1a": {
      "model_module": "@jupyter-widgets/controls",
      "model_module_version": "2.0.0",
      "model_name": "HTMLModel",
      "state": {
       "layout": "IPY_MODEL_5b5fb5e44ed14b70869e4b48d43a10dc",
       "style": "IPY_MODEL_68dd5a4f55ef4b5fb46e928f314a25d6",
       "value": "job has successfully run"
      }
     },
     "f8e4d1a303384d11924f036695acf96e": {
      "model_module": "@jupyter-widgets/controls",
      "model_module_version": "2.0.0",
      "model_name": "HTMLModel",
      "state": {
       "layout": "IPY_MODEL_ef35aa48858743bb83084da51dfe0505",
       "style": "IPY_MODEL_accb94771ae94212bc4ef220aa0952bb",
       "value": "<font style='color:#34BC6E'>DONE</font>"
      }
     },
     "f8e7aa56bfb6429e9610f6d9eed68518": {
      "model_module": "@jupyter-widgets/base",
      "model_module_version": "2.0.0",
      "model_name": "LayoutModel",
      "state": {
       "max_width": "700px",
       "min_width": "700px"
      }
     },
     "f9716174b4bc48f5bd1df88ed0be4364": {
      "model_module": "@jupyter-widgets/controls",
      "model_module_version": "2.0.0",
      "model_name": "HTMLStyleModel",
      "state": {
       "description_width": "",
       "font_size": null,
       "text_color": null
      }
     },
     "f99ca64160b049f4b45e63016e9a0cfa": {
      "model_module": "@jupyter-widgets/controls",
      "model_module_version": "2.0.0",
      "model_name": "HTMLStyleModel",
      "state": {
       "description_width": "",
       "font_size": null,
       "text_color": null
      }
     },
     "f9b030c446c444a49e3a15d0fa2e9531": {
      "model_module": "@jupyter-widgets/controls",
      "model_module_version": "2.0.0",
      "model_name": "HTMLStyleModel",
      "state": {
       "description_width": "",
       "font_size": null,
       "text_color": null
      }
     },
     "f9be8395dde049418c1336cb144fbd2f": {
      "model_module": "@jupyter-widgets/controls",
      "model_module_version": "2.0.0",
      "model_name": "ButtonStyleModel",
      "state": {
       "button_color": "white",
       "font_family": null,
       "font_size": null,
       "font_style": null,
       "font_variant": null,
       "font_weight": null,
       "text_color": null,
       "text_decoration": null
      }
     },
     "f9c6b47091d14358a8d2988438d807f4": {
      "model_module": "@jupyter-widgets/base",
      "model_module_version": "2.0.0",
      "model_name": "LayoutModel",
      "state": {
       "width": "95px"
      }
     },
     "f9ce8b2b3fc34c8fa3c6aaea09324921": {
      "model_module": "@jupyter-widgets/controls",
      "model_module_version": "2.0.0",
      "model_name": "HTMLModel",
      "state": {
       "layout": "IPY_MODEL_addd69e208b944ebb2a2b63961712a67",
       "style": "IPY_MODEL_815966ba493f4f1093ce1a7bbe1a0c96",
       "value": "-"
      }
     },
     "f9e7957ce33e4350841dbeb97c7989a9": {
      "model_module": "@jupyter-widgets/controls",
      "model_module_version": "2.0.0",
      "model_name": "HTMLStyleModel",
      "state": {
       "description_width": "",
       "font_size": null,
       "text_color": null
      }
     },
     "fa156b27a24e4727a7ac367f8e985339": {
      "model_module": "@jupyter-widgets/controls",
      "model_module_version": "2.0.0",
      "model_name": "HTMLModel",
      "state": {
       "layout": "IPY_MODEL_215b1e36d4a5495baf7e3d11781568ca",
       "style": "IPY_MODEL_239e99169bbb41d6b06227f241f2080e",
       "value": "job has successfully run"
      }
     },
     "fa72b030c9d74e26b3d3e294b37a4eba": {
      "model_module": "@jupyter-widgets/controls",
      "model_module_version": "2.0.0",
      "model_name": "HTMLModel",
      "state": {
       "layout": "IPY_MODEL_aa8298587f4a464f9a2dee84caf27ebe",
       "style": "IPY_MODEL_87b7cf975b1645f08e8d938d11813bcb",
       "value": "-"
      }
     },
     "fafd72e52e5d4812ae9b7c93f61446f6": {
      "model_module": "@jupyter-widgets/controls",
      "model_module_version": "2.0.0",
      "model_name": "ButtonStyleModel",
      "state": {
       "button_color": "white",
       "font_family": null,
       "font_size": null,
       "font_style": null,
       "font_variant": null,
       "font_weight": null,
       "text_color": null,
       "text_decoration": null
      }
     },
     "fb41ad1a909f4f289fb7081fc51ed2ad": {
      "model_module": "@jupyter-widgets/controls",
      "model_module_version": "2.0.0",
      "model_name": "HBoxModel",
      "state": {
       "children": [
        "IPY_MODEL_427a198dc0ee4045a7a6e764279c34f6",
        "IPY_MODEL_f839bd890fde428382cfbfe0e625a566",
        "IPY_MODEL_0084c3b26220451fb2cbaf94d053c1c9",
        "IPY_MODEL_c5a4ad4a24a140619fbe4dcf8ac9db34",
        "IPY_MODEL_9560d3afc6b841ba94a3b9c732185621",
        "IPY_MODEL_7cf2a99ead0840b9ad1a5673d073b86e"
       ],
       "layout": "IPY_MODEL_bd152169520f47f699323e115b8337ff"
      }
     },
     "fbf607b1a43e4f9bb70a0244f5f1f558": {
      "model_module": "@jupyter-widgets/controls",
      "model_module_version": "2.0.0",
      "model_name": "ButtonModel",
      "state": {
       "icon": "close",
       "layout": "IPY_MODEL_4bd339b71a264c57b51b3bac4dd2bcd8",
       "style": "IPY_MODEL_41926fac11764089a250a3059f24c66e",
       "tooltip": null
      }
     },
     "fc089b2cf473418f99d5048f10531ef7": {
      "model_module": "@jupyter-widgets/controls",
      "model_module_version": "2.0.0",
      "model_name": "HTMLStyleModel",
      "state": {
       "description_width": "",
       "font_size": null,
       "text_color": null
      }
     },
     "fcddd3981e284aab9537b82e4c51f148": {
      "model_module": "@jupyter-widgets/controls",
      "model_module_version": "2.0.0",
      "model_name": "HTMLModel",
      "state": {
       "layout": "IPY_MODEL_f9c6b47091d14358a8d2988438d807f4",
       "style": "IPY_MODEL_02209c37c4d54419b55094a9192b2393",
       "value": "<font style='color:#34BC6E'>DONE</font>"
      }
     },
     "fce18b0e61d3409a90dafe59cc5e2c04": {
      "model_module": "@jupyter-widgets/controls",
      "model_module_version": "2.0.0",
      "model_name": "HTMLModel",
      "state": {
       "layout": "IPY_MODEL_f0b801ecb33c4e17b902532c246cc87c",
       "style": "IPY_MODEL_50bb601713104f65a3a1eaa0c7bb66f3",
       "value": "-"
      }
     },
     "fce6551a80d347b7a57d01d27acf82df": {
      "model_module": "@jupyter-widgets/controls",
      "model_module_version": "2.0.0",
      "model_name": "HTMLStyleModel",
      "state": {
       "description_width": "",
       "font_size": null,
       "text_color": null
      }
     },
     "fcfef8fd04014dd1b8fbe641d76537d8": {
      "model_module": "@jupyter-widgets/base",
      "model_module_version": "2.0.0",
      "model_name": "LayoutModel",
      "state": {
       "max_width": "700px",
       "min_width": "700px"
      }
     },
     "fd0dc42fc4ff4777afe3c157df568cb2": {
      "model_module": "@jupyter-widgets/controls",
      "model_module_version": "2.0.0",
      "model_name": "HTMLStyleModel",
      "state": {
       "description_width": "",
       "font_size": null,
       "text_color": null
      }
     },
     "fd0ef5fcf911401ab43a5acfbf0d2bc4": {
      "model_module": "@jupyter-widgets/controls",
      "model_module_version": "2.0.0",
      "model_name": "HTMLStyleModel",
      "state": {
       "description_width": "",
       "font_size": null,
       "text_color": null
      }
     },
     "fd587fb7ba8249a19252c350f1721f82": {
      "model_module": "@jupyter-widgets/controls",
      "model_module_version": "2.0.0",
      "model_name": "HTMLModel",
      "state": {
       "layout": "IPY_MODEL_d09baac5592c4248b81ac85e74a93aea",
       "style": "IPY_MODEL_83427cc5a47e4a23b64b05331ca50266",
       "value": "cmde26rwq3k0008sz0xg"
      }
     },
     "fd814b30babd4901aa253109e8f7aca6": {
      "model_module": "@jupyter-widgets/base",
      "model_module_version": "2.0.0",
      "model_name": "LayoutModel",
      "state": {
       "max_width": "700px",
       "min_width": "700px"
      }
     },
     "fdde9d26c53b4d0b929cf2b75841bb94": {
      "model_module": "@jupyter-widgets/base",
      "model_module_version": "2.0.0",
      "model_name": "LayoutModel",
      "state": {
       "margin": "0px 5px 0px 0px",
       "width": "32px"
      }
     },
     "fde77e7b047f4459a1499b41016d4ef4": {
      "model_module": "@jupyter-widgets/controls",
      "model_module_version": "2.0.0",
      "model_name": "ButtonStyleModel",
      "state": {
       "button_color": "white",
       "font_family": null,
       "font_size": null,
       "font_style": null,
       "font_variant": null,
       "font_weight": null,
       "text_color": null,
       "text_decoration": null
      }
     },
     "fdf75331f4d24e3282dcd0e133abb099": {
      "model_module": "@jupyter-widgets/controls",
      "model_module_version": "2.0.0",
      "model_name": "ButtonStyleModel",
      "state": {
       "button_color": "white",
       "font_family": null,
       "font_size": null,
       "font_style": null,
       "font_variant": null,
       "font_weight": null,
       "text_color": null,
       "text_decoration": null
      }
     },
     "fe17c919b84a49b4877db28166ef254f": {
      "model_module": "@jupyter-widgets/base",
      "model_module_version": "2.0.0",
      "model_name": "LayoutModel",
      "state": {
       "width": "70px"
      }
     },
     "fe3bc76601d54a09af15658a2e899bed": {
      "model_module": "@jupyter-widgets/controls",
      "model_module_version": "2.0.0",
      "model_name": "HTMLStyleModel",
      "state": {
       "description_width": "",
       "font_size": null,
       "text_color": null
      }
     },
     "fe53ad9443164942ba5e8329d5c8bf22": {
      "model_module": "@jupyter-widgets/base",
      "model_module_version": "2.0.0",
      "model_name": "LayoutModel",
      "state": {
       "margin": "0px 5px 0px 0px",
       "width": "32px"
      }
     },
     "fe9df74160dd490b87e14deab74a735c": {
      "model_module": "@jupyter-widgets/controls",
      "model_module_version": "2.0.0",
      "model_name": "HTMLModel",
      "state": {
       "layout": "IPY_MODEL_849639a358de498eac305cc946765ac8",
       "style": "IPY_MODEL_3a2565da4c874d14acd5c551d78ec2c6",
       "value": "ibm_nairobi"
      }
     },
     "febe4e3a9c3c4cdbabe581f01489a2b5": {
      "model_module": "@jupyter-widgets/controls",
      "model_module_version": "2.0.0",
      "model_name": "HBoxModel",
      "state": {
       "children": [
        "IPY_MODEL_567c8367c3644c8bbcdd5ee0dabffa8e",
        "IPY_MODEL_6c5a5b4c752549549a8f1ed3890dc122",
        "IPY_MODEL_e45a1f50ceac4957a312e698e7bd2047",
        "IPY_MODEL_17d31755bfa44d77ac5d208ef03b532e",
        "IPY_MODEL_8f8866b81f35425fa39d5ae948026b7b",
        "IPY_MODEL_2ca3195997f649e1854006c860f24a6a"
       ],
       "layout": "IPY_MODEL_96699c24bda04348aec191509ce4c82f"
      }
     },
     "fee15f52dd10467187edd854ac5ed62b": {
      "model_module": "@jupyter-widgets/controls",
      "model_module_version": "2.0.0",
      "model_name": "HTMLModel",
      "state": {
       "layout": "IPY_MODEL_ef834d0ede674604aa7cda154f7650f4",
       "style": "IPY_MODEL_1c04511357ef4220bc9d33fb389f549f",
       "value": "cmde41gwq3k0008sz18g"
      }
     },
     "fee3d250d82644bd9ff032e6dd8d821d": {
      "model_module": "@jupyter-widgets/base",
      "model_module_version": "2.0.0",
      "model_name": "LayoutModel",
      "state": {
       "width": "95px"
      }
     },
     "ff4dc2ade37c4c7ab1675f379a5be0ae": {
      "model_module": "@jupyter-widgets/controls",
      "model_module_version": "2.0.0",
      "model_name": "HTMLModel",
      "state": {
       "layout": "IPY_MODEL_07d2ab80788c45efa531930376fb12f9",
       "style": "IPY_MODEL_fe3bc76601d54a09af15658a2e899bed",
       "value": "job has successfully run"
      }
     },
     "ff5f422e37684c57b23cb94cd62d9f33": {
      "model_module": "@jupyter-widgets/controls",
      "model_module_version": "2.0.0",
      "model_name": "HTMLModel",
      "state": {
       "layout": "IPY_MODEL_519c24b27da24416998f377ad12110ee",
       "style": "IPY_MODEL_c3b93f0a11c84529b18d52dee7114dec",
       "value": "job has successfully run"
      }
     },
     "ff66edb918314a48a8beb1917e23a20c": {
      "model_module": "@jupyter-widgets/base",
      "model_module_version": "2.0.0",
      "model_name": "LayoutModel",
      "state": {
       "width": "70px"
      }
     },
     "ffc1f879fec2473f8293c2b341fe1694": {
      "model_module": "@jupyter-widgets/controls",
      "model_module_version": "2.0.0",
      "model_name": "HTMLModel",
      "state": {
       "layout": "IPY_MODEL_34d826d9b1274e7a80164804a146af71",
       "style": "IPY_MODEL_81bae72743e54d2ab5632ac64f53472d",
       "value": "<font style='color:#34BC6E'>DONE</font>"
      }
     },
     "ffd2a11764ff4312a56452715465a806": {
      "model_module": "@jupyter-widgets/controls",
      "model_module_version": "2.0.0",
      "model_name": "HTMLStyleModel",
      "state": {
       "description_width": "",
       "font_size": null,
       "text_color": null
      }
     }
    },
    "version_major": 2,
    "version_minor": 0
   }
  }
 },
 "nbformat": 4,
 "nbformat_minor": 5
}
