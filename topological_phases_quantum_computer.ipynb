{
 "cells": [
  {
   "cell_type": "code",
   "execution_count": 3,
   "id": "b6d046a8-856d-4853-abf4-36251365535e",
   "metadata": {
    "tags": []
   },
   "outputs": [],
   "source": [
    "# Importing standard Qiskit libraries:\n",
    "import numpy as np     \n",
    "from qiskit import*# QuantumCircuit, transpile, Aer, IBMQ, execute, assemble\n",
    "from qiskit.providers.ibmq import least_busy\n",
    "from qiskit.tools.jupyter import *\n",
    "from qiskit.visualization import *\n",
    "from ibm_quantum_widgets import *\n",
    "from scipy import sparse\n",
    "from scipy.linalg import sqrtm\n",
    "# Loading your IBM Quantum account(s):\n",
    "#provider = IBMQ.load_account()"
   ]
  },
  {
   "cell_type": "markdown",
   "id": "5c158409-1653-4112-b352-53a0738a60ab",
   "metadata": {
    "tags": []
   },
   "source": [
    "# Discrete Brillouin zone"
   ]
  },
  {
   "cell_type": "code",
   "execution_count": 4,
   "id": "2d14159c-41a7-4c22-b5a9-663386e35553",
   "metadata": {
    "tags": []
   },
   "outputs": [],
   "source": [
    "number_of_mesh_points = 8\n",
    "# discretizing the BZ into mesh points.\n",
    "k_x_lst = list(np.linspace(-np.pi,np.pi,number_of_mesh_points))\n",
    "k_y_lst = list(np.linspace(-np.pi,np.pi,number_of_mesh_points))\n",
    "\n",
    "# list of all points in the discrete BZ.\n",
    "discretized_Brillouin_zone = []\n",
    "for i in range(number_of_mesh_points):\n",
    "    for j in range(number_of_mesh_points):\n",
    "        discretized_Brillouin_zone.append([k_x_lst[i],k_y_lst[j]])\n",
    "# nearest neighbor spacing in the discrete BZ.        \n",
    "delta_k_x = k_x_lst[1]-k_x_lst[0]\n",
    "delta_k_y = k_y_lst[1]-k_y_lst[0]        "
   ]
  },
  {
   "cell_type": "code",
   "execution_count": 5,
   "id": "d3a04594-3bb0-46b9-9b65-f0b289edabd8",
   "metadata": {},
   "outputs": [],
   "source": [
    "# the parameter \\mu.\n",
    "mu = 1.95"
   ]
  },
  {
   "cell_type": "code",
   "execution_count": 6,
   "id": "7b6f1227-7832-4b19-a6d6-89a9c4be96fb",
   "metadata": {},
   "outputs": [],
   "source": [
    "# Number of points = numnumber_of_mesh_points*number_of_mesh_points\n",
    "#point_index = 0"
   ]
  },
  {
   "cell_type": "code",
   "execution_count": 7,
   "id": "55314ecd-e928-4ded-ba4f-31f46200baf5",
   "metadata": {},
   "outputs": [],
   "source": [
    "r\"\"\"\n",
    "# k_x and k_y\n",
    "k_x,k_y = k_x_lst[point_index],k_y_lst[point_index]\n",
    "# k+delta_k_x and k+delta_k_y\n",
    "\n",
    "F_k_lst_of_points = [[(k_x,k_y),(k_x+delta_k_x,k_y)],\n",
    "[(k_x+delta_k_x,k_y),(k_x+delta_k_x,k_y+delta_k_y)],\n",
    "[(k_x,k_y+delta_k_y),(k_x+delta_k_x,k_y+delta_k_y)],\n",
    "[(k_x,k_y),(k_x,k_y+delta_k_y)]]\"\"\";"
   ]
  },
  {
   "cell_type": "code",
   "execution_count": 8,
   "id": "7a86a382-8c38-42e3-a613-5fa64147ee13",
   "metadata": {
    "tags": []
   },
   "outputs": [],
   "source": [
    "# Index runs from 0 to 3.\n",
    "#F_k_index = 2"
   ]
  },
  {
   "cell_type": "code",
   "execution_count": 9,
   "id": "ea8ed60d-6a70-4e05-a577-6bd6d25c2fcf",
   "metadata": {
    "tags": []
   },
   "outputs": [],
   "source": [
    "#k_x,k_y = F_k_lst_of_points[F_k_index][0][0],F_k_lst_of_points[F_k_index][0][1]\n",
    "#k_x_p,k_y_p = F_k_lst_of_points[F_k_index][1][0],F_k_lst_of_points[F_k_index][1][1]"
   ]
  },
  {
   "cell_type": "markdown",
   "id": "766a6111-e444-4f5e-b6ac-c55615c4b55f",
   "metadata": {},
   "source": [
    "# Preparation of the wavefunction at point $\\mathbf{k}$"
   ]
  },
  {
   "cell_type": "markdown",
   "id": "1226aeb4-d795-4ad2-88d0-e162cbaed4d5",
   "metadata": {
    "tags": []
   },
   "source": [
    "## $U_{3}$ gate"
   ]
  },
  {
   "cell_type": "code",
   "execution_count": 10,
   "id": "19e2a50f-808f-4855-909d-32741abc17d2",
   "metadata": {
    "tags": []
   },
   "outputs": [],
   "source": [
    "# U_{3} is required for preparing the state |\\psi(\\theta)>\n",
    "def U3(theta,lamb,phi):\n",
    "    return np.array([[np.cos(theta/2),-np.sin(theta/2)*np.exp(1j*lamb)],\n",
    "                     [np.exp(1j*phi)*np.sin(theta/2),np.exp(1j*(lamb+phi))*np.cos(theta/2)]])"
   ]
  },
  {
   "cell_type": "markdown",
   "id": "40025ef4-0544-4947-9747-1c7e2e5bc3de",
   "metadata": {
    "tags": []
   },
   "source": [
    "## Defining the two angles $\\theta$ and $\\phi$"
   ]
  },
  {
   "cell_type": "code",
   "execution_count": 11,
   "id": "1eae86fc-2274-4aa7-b924-4bb4e693f7f6",
   "metadata": {
    "tags": []
   },
   "outputs": [],
   "source": [
    "def angle_theta(k_x,k_y):\n",
    "    E_p = np.sqrt((np.sin(k_x))**2+(np.sin(k_y))**2+(np.cos(k_x)+np.cos(k_y)+mu)**2)\n",
    "    return np.arccos((np.cos(k_x)+np.cos(k_y)+mu)/E_p)\n",
    "def angle_phi(k_x,k_y):\n",
    "    return np.arccos(np.sin(k_y)/np.sqrt((np.sin(k_y))**2+(np.sin(k_x))**2))"
   ]
  },
  {
   "cell_type": "markdown",
   "id": "38a21a27-e2de-4dd3-8fe4-acc89cb9255c",
   "metadata": {
    "tags": []
   },
   "source": [
    "## Controlled W gate required for controlled $U_{3}$ operation"
   ]
  },
  {
   "cell_type": "code",
   "execution_count": 28,
   "id": "8947319c-3013-4449-bdea-543db6070868",
   "metadata": {
    "tags": []
   },
   "outputs": [],
   "source": [
    "def controlled_W(unitary_matrix,c,t):\n",
    "    I = np.identity(2)\n",
    "    Z = np.matrix([[1,0],[0,-1]])\n",
    "    X = np.matrix([[0,1],[1,0]])\n",
    "    PI_0 = (I+Z)/2\n",
    "    PI_1 = (I-Z)/2    \n",
    "    Matrices = {'I':I,'PI_0':PI_0,'U':unitary_matrix, 'PI_1':PI_1}\n",
    "    p0 = ['I']*3\n",
    "    p1 = ['I']*3    \n",
    "    p0[c] = 'PI_0'\n",
    "    p1[c] = 'PI_1'\n",
    "    p1[t] = 'U'\n",
    "    PI_0_matrix = Matrices[p0[0]]\n",
    "    for i in range(1,3):\n",
    "        PI_0_matrix = sparse.kron(Matrices[p0[i]],PI_0_matrix)\n",
    "    PI_1_matrix = Matrices[p1[0]]\n",
    "    for i in range(1,3):\n",
    "        PI_1_matrix = sparse.kron(Matrices[p1[i]],PI_1_matrix)\n",
    "    return (PI_0_matrix+PI_1_matrix)"
   ]
  },
  {
   "cell_type": "markdown",
   "id": "4d5c038e-10c3-47e1-a13f-355d69139da1",
   "metadata": {
    "tags": []
   },
   "source": [
    "## Constructing the upper band wavefunction circuit"
   ]
  },
  {
   "cell_type": "code",
   "execution_count": 23,
   "id": "a334d2f1-49ec-4023-9957-a0fd9c2c5223",
   "metadata": {
    "tags": []
   },
   "outputs": [
    {
     "data": {
      "image/png": "[encoded data removed]",
      "text/plain": [
       "<Figure size 978.657x409.36 with 1 Axes>"
      ]
     },
     "execution_count": 23,
     "metadata": {},
     "output_type": "execute_result"
    }
   ],
   "source": [
    "def upper_band_wavefunction(k_x,k_y):\n",
    "    qr = QuantumRegister(2,\"q\")\n",
    "    \n",
    "    # Create the ancilla register\n",
    "    anc = QuantumRegister(1,\"ancilla\")\n",
    "    # Create the quantum circuit\n",
    "    qc = QuantumCircuit(anc,qr)  \n",
    "    \n",
    "    qc.x(1)\n",
    "    qc.cx(2,1)\n",
    "    theta = angle_theta(k_x,k_y)\n",
    "    phi = angle_phi(k_x,k_y)\n",
    "    qc.cu(theta,-phi,phi,0,1,2)\n",
    "    qc.cx(2,1)\n",
    "    return qc\n",
    "upper_band_wavefunction(0.1,0.2).draw(\"mpl\",scale=2)"
   ]
  },
  {
   "cell_type": "code",
   "execution_count": 26,
   "id": "3c171cf8-53dc-47bd-95b5-537ec1a6fcba",
   "metadata": {},
   "outputs": [
    {
     "data": {
      "image/png": "[encoded data removed]",
      "text/plain": [
       "<Figure size 978.657x409.36 with 1 Axes>"
      ]
     },
     "execution_count": 26,
     "metadata": {},
     "output_type": "execute_result"
    }
   ],
   "source": [
    "def lower_band_wavefunction(k_x,k_y):\n",
    "    qr = QuantumRegister(2,\"q\")\n",
    "    \n",
    "    # Create the ancilla register\n",
    "    anc = QuantumRegister(1,\"ancilla\")\n",
    "    # Create the quantum circuit\n",
    "    qc = QuantumCircuit(anc,qr)  \n",
    "    \n",
    "    qc.x(2)\n",
    "    qc.cx(2,1)\n",
    "    theta = angle_theta(k_x,k_y)\n",
    "    phi = angle_phi(k_x,k_y)\n",
    "    \n",
    "    qc.cu(theta,-phi,phi,0,1,2)\n",
    "    \n",
    "    qc.cx(2,1)\n",
    "    return qc\n",
    "lower_band_wavefunction(0.1,0.2).draw(\"mpl\",scale=2)"
   ]
  },
  {
   "cell_type": "markdown",
   "id": "cf7bd2bc-36a0-4df2-9e6b-2485eb644122",
   "metadata": {},
   "source": [
    "# Relating the wavefunction at two neighboring mesh points"
   ]
  },
  {
   "cell_type": "markdown",
   "id": "ed333c36-2001-43b8-adaf-4b097c093a05",
   "metadata": {
    "tags": []
   },
   "source": [
    "## Intraband evolution circuit"
   ]
  },
  {
   "cell_type": "code",
   "execution_count": 31,
   "id": "252c8b26-7139-437a-8ed0-5a0fb9d75d6b",
   "metadata": {
    "tags": []
   },
   "outputs": [
    {
     "data": {
      "image/png": "[encoded data removed]",
      "text/plain": [
       "<Figure size 2387.4x848.82 with 1 Axes>"
      ]
     },
     "execution_count": 31,
     "metadata": {},
     "output_type": "execute_result"
    }
   ],
   "source": [
    "def intraband_evolution(k_x,k_y,k_x_p,k_y_p):\n",
    "\n",
    "    # create the quantum circuit\n",
    "    qc = QuantumCircuit(3,1)  \n",
    "    qc.h(0)\n",
    "    qc = qc.compose(upper_band_wavefunction(k_x,k_y))    \n",
    "    \n",
    "    qc.barrier()\n",
    "    \n",
    "    qc.ccx(0,2,1)\n",
    "    # $CCU_{3}^{\\dagger}$ gate.\n",
    "    W = sqrtm(np.matrix(U3(angle_theta(k_x,k_y),-angle_phi(k_x,k_y),angle_phi(k_x,k_y))).getH())\n",
    "    qc.unitary(controlled_W(W,1,2).A,[0,1,2])\n",
    "    qc.cx(0,1)\n",
    "    qc.unitary(np.matrix(controlled_W(W,1,2).A).getH(),[0,1,2])\n",
    "    qc.cx(0,1)\n",
    "    qc.unitary(np.matrix(controlled_W(W,0,2).A).getH(),[0,1,2])\n",
    "    \n",
    "    qc.barrier()\n",
    "    \n",
    "    # $CCU_{3}$ gate.\n",
    "    W = sqrtm(U3(angle_theta(k_x_p,k_y_p),-angle_phi(k_x_p,k_y_p),angle_phi(k_x_p,k_y_p)))\n",
    "    qc.unitary(controlled_W(W,1,2).A,[0,1,2])\n",
    "    qc.cx(0,1)\n",
    "    qc.unitary(np.matrix(controlled_W(W,1,2).A).getH(),[0,1,2])\n",
    "    qc.cx(0,1)\n",
    "    qc.unitary(np.matrix(controlled_W(W,0,2).A).getH(),[0,1,2])    \n",
    "    qc.ccx(0,2,1)    \n",
    "    qc.measure(0,0)\n",
    "    return qc\n",
    "intraband_evolution(0.1,0.2,-0.1,-0.3).draw(\"mpl\",scale=1.5)"
   ]
  },
  {
   "cell_type": "markdown",
   "id": "76ac877a-0fe7-4476-bb44-eb1bc09ef199",
   "metadata": {
    "jp-MarkdownHeadingCollapsed": true,
    "tags": []
   },
   "source": [
    "# Interband evolution circuit"
   ]
  },
  {
   "cell_type": "code",
   "execution_count": 14,
   "id": "f889c974-1f02-4b88-8c31-5c4c8228080c",
   "metadata": {
    "tags": []
   },
   "outputs": [],
   "source": [
    "def interband_evolution(k_x,k_y,k_x_p,k_y_p):\n",
    "\n",
    "    # Create the quantum circuit\n",
    "    qc = QuantumCircuit(3,1)  \n",
    "    qc.h(0)\n",
    "    qc = qc.compose(upper_band_wavefunction(k_x,k_y))    \n",
    "    \n",
    "    qc.barrier()\n",
    "    \n",
    "    qc.ccx(0,2,1)\n",
    "    # $CCU_{3}^{\\dagger}$ gate.\n",
    "    W = sqrtm(np.matrix(U3(angle_theta(k_x,k_y),-angle_phi(k_x,k_y),angle_phi(k_x,k_y))).getH())\n",
    "    qc.unitary(controlled_W(W,1,2).A,[0,1,2])\n",
    "    qc.cx(0,1)\n",
    "    qc.unitary(np.matrix(controlled_W(W,1,2).A).getH(),[0,1,2])\n",
    "    qc.cx(0,1)\n",
    "    qc.unitary(np.matrix(controlled_W(W,0,2).A).getH(),[0,1,2])\n",
    "    \n",
    "    qc.ccx(0,1,2)\n",
    "    \n",
    "    # $CCU_{3}$ gate.\n",
    "    W = sqrtm(U3(angle_theta(k_x_p,k_y_p),-angle_phi(k_x_p,k_y_p),angle_phi(k_x_p,k_y_p)))\n",
    "    qc.unitary(controlled_W(W,1,2).A,[0,1,2])\n",
    "    qc.cx(0,1)\n",
    "    qc.unitary(np.matrix(controlled_W(W,1,2).A).getH(),[0,1,2])\n",
    "    qc.cx(0,1)\n",
    "    qc.unitary(np.matrix(controlled_W(W,0,2).A).getH(),[0,1,2])    \n",
    "    qc.ccx(0,2,1)    \n",
    "    qc.measure(0,0)\n",
    "    return qc"
   ]
  },
  {
   "cell_type": "code",
   "execution_count": 15,
   "id": "cf78307f-34ae-434e-8624-7811b3a7f437",
   "metadata": {
    "tags": []
   },
   "outputs": [],
   "source": [
    "#interband_evolution(1,1,1,1).draw()"
   ]
  },
  {
   "cell_type": "markdown",
   "id": "b70b727a-4bbb-435c-9712-78ae533e76d2",
   "metadata": {
    "tags": []
   },
   "source": [
    "# Code on simulator"
   ]
  },
  {
   "cell_type": "code",
   "execution_count": 16,
   "id": "2997d662-ef15-4460-a992-e81344a5d0f6",
   "metadata": {},
   "outputs": [],
   "source": [
    "counts_lst = []\n",
    "for k_1 in k_x_lst:\n",
    "    for k_2 in k_y_lst:\n",
    "        F_k_lst_of_points = [[(k_1,k_2),(k_1+delta_k_x,k_2)],\n",
    "        [(k_1+delta_k_x,k_2),(k_1+delta_k_x,k_2+delta_k_y)],\n",
    "        [(k_1,k_2+delta_k_y),(k_1+delta_k_x,k_2+delta_k_y)],\n",
    "        [(k_1,k_2),(k_1,k_2+delta_k_y)]]\n",
    "\n",
    "        for F_k_index in range(4):\n",
    "            k_x,k_y = F_k_lst_of_points[F_k_index][0][0],F_k_lst_of_points[F_k_index][0][1]\n",
    "            k_x_p,k_y_p = F_k_lst_of_points[F_k_index][1][0],F_k_lst_of_points[F_k_index][1][1]\n",
    "            # Simulating the Circuit:\n",
    "            backend = Aer.get_backend('qasm_simulator')\n",
    "            job = execute(intraband_evolution(k_x,k_y,k_x_p,k_y_p), backend, shots = 5120)\n",
    "            result = job.result()\n",
    "            counts = result.get_counts()\n",
    "            counts_lst.append([k_x,k_y,k_x_p,k_y_p,counts[\"0\"],counts[\"1\"]])\n",
    "            #plot_histogram(counts)"
   ]
  },
  {
   "cell_type": "code",
   "execution_count": 17,
   "id": "5c0a4b08-6b74-4d5f-977e-c5018ac3d9a1",
   "metadata": {
    "tags": []
   },
   "outputs": [],
   "source": [
    "#counts_lst"
   ]
  },
  {
   "cell_type": "code",
   "execution_count": 18,
   "id": "bf94c636-3238-471e-b137-49516f94e184",
   "metadata": {
    "tags": []
   },
   "outputs": [
    {
     "data": {
      "text/plain": [
       "17"
      ]
     },
     "execution_count": 18,
     "metadata": {},
     "output_type": "execute_result"
    }
   ],
   "source": [
    "intraband_evolution(k_x,k_y,k_x_p,k_y_p).depth()"
   ]
  },
  {
   "cell_type": "markdown",
   "id": "096173e7-7bbf-41bb-ba0c-eeb5ca276d67",
   "metadata": {},
   "source": [
    "# Code on hardware"
   ]
  },
  {
   "cell_type": "code",
   "execution_count": 19,
   "id": "75722cc3-8e7c-441d-8deb-92753f69c483",
   "metadata": {
    "tags": []
   },
   "outputs": [
    {
     "name": "stderr",
     "output_type": "stream",
     "text": [
      "ibmqfactory.load_account:WARNING:2023-10-03 18:47:33,413: Credentials are already in use. The existing account in the session will be replaced.\n"
     ]
    },
    {
     "name": "stdout",
     "output_type": "stream",
     "text": [
      "Running on current least busy device:  ibm_nairobi\n"
     ]
    }
   ],
   "source": [
    "# Load IBM Q account and get the least busy backend device\n",
    "provider = IBMQ.load_account()\n",
    "provider = IBMQ.get_provider(\"ibm-q\")\n",
    "device = least_busy(provider.backends(filters=lambda x: int(x.configuration().n_qubits) >= 3 and \n",
    "                                   not x.configuration().simulator and x.status().operational==True))\n",
    "print(\"Running on current least busy device: \", device)"
   ]
  },
  {
   "cell_type": "code",
   "execution_count": 1,
   "id": "61d7facb-5400-4f45-8857-93d7b4d53a67",
   "metadata": {
    "tags": []
   },
   "outputs": [],
   "source": [
    "r\"\"\"\n",
    "# Run our circuit on the least busy backend. Monitor the execution of the job in the queue\n",
    "from qiskit.tools.monitor import job_monitor\n",
    "real_hardware_counts_lst = []\n",
    "for k_1 in k_x_lst:\n",
    "    for k_2 in k_y_lst:\n",
    "        F_k_lst_of_points = [[(k_1,k_2),(k_1+delta_k_x,k_2)],\n",
    "        [(k_1+delta_k_x,k_2),(k_1+delta_k_x,k_2+delta_k_y)],\n",
    "        [(k_1,k_2+delta_k_y),(k_1+delta_k_x,k_2+delta_k_y)],\n",
    "        [(k_1,k_2),(k_1,k_2+delta_k_y)]]\n",
    "\n",
    "        for F_k_index in range(4):\n",
    "            k_x,k_y = F_k_lst_of_points[F_k_index][0][0],F_k_lst_of_points[F_k_index][0][1]\n",
    "            k_x_p,k_y_p = F_k_lst_of_points[F_k_index][1][0],F_k_lst_of_points[F_k_index][1][1]\n",
    "            transpiled_circuit = transpile(intraband_evolution(k_x,k_y,k_x_p,k_y_p), device, optimization_level=3)\n",
    "            job = device.run(transpiled_circuit)\n",
    "            job_monitor(job, interval=2)\n",
    "            # Getting the results from the computation:\n",
    "            results = job.result()\n",
    "            answer = results.get_counts(transpiled_circuit)\n",
    "            #plot_histogram(answer)\n",
    "            real_hardware_counts_lst.append([k_x,k_y,k_x_p,k_y_p,answer[\"0\"],answer[\"1\"]])\"\"\";"
   ]
  },
  {
   "cell_type": "code",
   "execution_count": null,
   "id": "d098b143-5a83-404a-b8b7-e05e2cdf356c",
   "metadata": {
    "tags": []
   },
   "outputs": [],
   "source": [
    "#real_hardware_counts_lst"
   ]
  },
  {
   "cell_type": "code",
   "execution_count": null,
   "id": "75371d8b-9641-42dd-a587-b3081c6e2ae8",
   "metadata": {
    "tags": []
   },
   "outputs": [],
   "source": [
    "# Getting the results from the computation:\n",
    "#results = job.result()\n",
    "#answer = results.get_counts(transpiled_circuit)\n",
    "#plot_histogram(answer)"
   ]
  }
 ],
 "metadata": {
  "kernelspec": {
   "display_name": "Python 3 (ipykernel)",
   "language": "python",
   "name": "python3"
  },
  "language_info": {
   "codemirror_mode": {
    "name": "ipython",
    "version": 3
   },
   "file_extension": ".py",
   "mimetype": "text/x-python",
   "name": "python",
   "nbconvert_exporter": "python",
   "pygments_lexer": "ipython3",
   "version": "3.9.12"
  },
  "widgets": {
   "application/vnd.jupyter.widget-state+json": {
    "state": {
     "00029bd2242045a5b26444296a9f486f": {
      "model_module": "@jupyter-widgets/controls",
      "model_module_version": "2.0.0",
      "model_name": "ButtonStyleModel",
      "state": {
       "button_color": "white",
       "font_family": null,
       "font_size": null,
       "font_style": null,
       "font_variant": null,
       "font_weight": null,
       "text_color": null,
       "text_decoration": null
      }
     },
     "0052a68b295b412f850e56f3fc1af590": {
      "model_module": "@jupyter-widgets/controls",
      "model_module_version": "2.0.0",
      "model_name": "HTMLStyleModel",
      "state": {
       "description_width": "",
       "font_size": null,
       "text_color": null
      }
     },
     "00c8b78bd1f142f685f355294d444ce4": {
      "model_module": "@jupyter-widgets/controls",
      "model_module_version": "2.0.0",
      "model_name": "HBoxModel",
      "state": {
       "children": [
        "IPY_MODEL_3f531084b40440379a1daa61cfa69a04",
        "IPY_MODEL_b3989a6a03854fe3b8b29ca4458d0a44",
        "IPY_MODEL_5742521802764a84b9a8c5ef8dd41320",
        "IPY_MODEL_1415bb1cfcd34f61b5e8b60d4670feb9",
        "IPY_MODEL_72b7bccd5bdc4dc5b1009c9a29e49fd4",
        "IPY_MODEL_7c2bd1842f06410c875c42950bbcf75a"
       ],
       "layout": "IPY_MODEL_2b59ca3787b54f2d8f00e48e30679abf"
      }
     },
     "010b8fdad5c4489eb49e02b10147ee93": {
      "model_module": "@jupyter-widgets/controls",
      "model_module_version": "2.0.0",
      "model_name": "HTMLModel",
      "state": {
       "layout": "IPY_MODEL_89513323823b4b01a8dfb27cd69b6125",
       "style": "IPY_MODEL_875c062aa8d04d5b94bebef5db2c5dd3",
       "value": "<font style='color:#34BC6E'>DONE</font>"
      }
     },
     "01179085c8be4cb78240ba46fa0bd6bc": {
      "model_module": "@jupyter-widgets/controls",
      "model_module_version": "2.0.0",
      "model_name": "HTMLStyleModel",
      "state": {
       "description_width": "",
       "font_size": null,
       "text_color": null
      }
     },
     "01321470d9f7437ab97a9dd745a0277b": {
      "model_module": "@jupyter-widgets/base",
      "model_module_version": "2.0.0",
      "model_name": "LayoutModel",
      "state": {}
     },
     "01529884a9d04c2f961effb532132d71": {
      "model_module": "@jupyter-widgets/base",
      "model_module_version": "2.0.0",
      "model_name": "LayoutModel",
      "state": {
       "width": "145px"
      }
     },
     "017986a7aed54841a56cb16afac48a5a": {
      "model_module": "@jupyter-widgets/base",
      "model_module_version": "2.0.0",
      "model_name": "LayoutModel",
      "state": {
       "width": "145px"
      }
     },
     "0186aca25932492da32e49cbaa878945": {
      "model_module": "@jupyter-widgets/base",
      "model_module_version": "2.0.0",
      "model_name": "LayoutModel",
      "state": {}
     },
     "0187de5cd8a2473a93e37970f54f5e78": {
      "model_module": "@jupyter-widgets/controls",
      "model_module_version": "2.0.0",
      "model_name": "HTMLModel",
      "state": {
       "layout": "IPY_MODEL_1c67acd47b07467d9e130ec283e56e04",
       "style": "IPY_MODEL_cb3faea85e544bc68a8a096b23821240",
       "value": "cmebeb1y4c00008hykmg"
      }
     },
     "01974791a9194cd3a17f468c39b4554a": {
      "model_module": "@jupyter-widgets/controls",
      "model_module_version": "2.0.0",
      "model_name": "HTMLStyleModel",
      "state": {
       "description_width": "",
       "font_size": null,
       "text_color": null
      }
     },
     "0337378156f043e88555d982762d0e50": {
      "model_module": "@jupyter-widgets/controls",
      "model_module_version": "2.0.0",
      "model_name": "HTMLModel",
      "state": {
       "layout": "IPY_MODEL_eaffd0b86fe24aef96ba90326bc3eb32",
       "style": "IPY_MODEL_9f26038da644498bb8232b0501736ff4",
       "value": "job has successfully run"
      }
     },
     "03468b1629964085b48d337683064eaa": {
      "model_module": "@jupyter-widgets/controls",
      "model_module_version": "2.0.0",
      "model_name": "HTMLStyleModel",
      "state": {
       "description_width": "",
       "font_size": null,
       "text_color": null
      }
     },
     "036f2e67eea9492a8cb06d9486523d3d": {
      "model_module": "@jupyter-widgets/controls",
      "model_module_version": "2.0.0",
      "model_name": "ButtonModel",
      "state": {
       "icon": "close",
       "layout": "IPY_MODEL_c044d55337bc42d69f9fe43550044f8d",
       "style": "IPY_MODEL_fa9181025b7f4b34a4be122521084df9",
       "tooltip": null
      }
     },
     "03b1fdb8b54c4aa0a29285ecb279db72": {
      "model_module": "@jupyter-widgets/base",
      "model_module_version": "2.0.0",
      "model_name": "LayoutModel",
      "state": {
       "max_width": "700px",
       "min_width": "700px"
      }
     },
     "03ceec25402e4d658a684a702232685f": {
      "model_module": "@jupyter-widgets/base",
      "model_module_version": "2.0.0",
      "model_name": "LayoutModel",
      "state": {
       "width": "70px"
      }
     },
     "03fff7f7b3fd4b3497a05b3272d07022": {
      "model_module": "@jupyter-widgets/controls",
      "model_module_version": "2.0.0",
      "model_name": "HTMLStyleModel",
      "state": {
       "description_width": "",
       "font_size": null,
       "text_color": null
      }
     },
     "042b2a6df5244fa99e2218d35fa0b417": {
      "model_module": "@jupyter-widgets/controls",
      "model_module_version": "2.0.0",
      "model_name": "ButtonModel",
      "state": {
       "icon": "close",
       "layout": "IPY_MODEL_09e018cc6dd34f0fac4fa8d0ef03c699",
       "style": "IPY_MODEL_f65f730c5c784a1ca9b8656ba1c0a504",
       "tooltip": null
      }
     },
     "046daf823c1f405bafa25d5b8a56a4a5": {
      "model_module": "@jupyter-widgets/controls",
      "model_module_version": "2.0.0",
      "model_name": "HTMLModel",
      "state": {
       "layout": "IPY_MODEL_f19afcf8f025471386747b2f0e359c8c",
       "style": "IPY_MODEL_d8f69d7efa984b32b071be546eb2ef43",
       "value": "job has successfully run"
      }
     },
     "04a5dd9d70b440b190a4eedd2dbecaac": {
      "model_module": "@jupyter-widgets/base",
      "model_module_version": "2.0.0",
      "model_name": "LayoutModel",
      "state": {
       "width": "145px"
      }
     },
     "04c970ef83b34dfaad2a63a9a43e8c6f": {
      "model_module": "@jupyter-widgets/controls",
      "model_module_version": "2.0.0",
      "model_name": "HTMLModel",
      "state": {
       "layout": "IPY_MODEL_f0f5c2831d2c4d27b255aab2cdb100d3",
       "style": "IPY_MODEL_18a11a0720994540b1b363e78b4c90ce",
       "value": "<p style=white-space:nowrap;>job is queued</p>"
      }
     },
     "0573a0622c37423499a133de73ac8f27": {
      "model_module": "@jupyter-widgets/base",
      "model_module_version": "2.0.0",
      "model_name": "LayoutModel",
      "state": {
       "width": "70px"
      }
     },
     "06149076c7b54a4c8084703068e7cda0": {
      "model_module": "@jupyter-widgets/controls",
      "model_module_version": "2.0.0",
      "model_name": "HTMLStyleModel",
      "state": {
       "description_width": "",
       "font_size": null,
       "text_color": null
      }
     },
     "06fffc9443894e088b4b4104498800f8": {
      "model_module": "@jupyter-widgets/controls",
      "model_module_version": "2.0.0",
      "model_name": "ButtonStyleModel",
      "state": {
       "button_color": "white",
       "font_family": null,
       "font_size": null,
       "font_style": null,
       "font_variant": null,
       "font_weight": null,
       "text_color": null,
       "text_decoration": null
      }
     },
     "073a01b2799040109dd5d72268eae39b": {
      "model_module": "@jupyter-widgets/base",
      "model_module_version": "2.0.0",
      "model_name": "LayoutModel",
      "state": {
       "margin": "0px 5px 0px 0px",
       "width": "32px"
      }
     },
     "07c1d279659b4285a744c6cf347c8cba": {
      "model_module": "@jupyter-widgets/base",
      "model_module_version": "2.0.0",
      "model_name": "LayoutModel",
      "state": {
       "width": "145px"
      }
     },
     "07f65019f33f4a9894141d006cf4df32": {
      "model_module": "@jupyter-widgets/controls",
      "model_module_version": "2.0.0",
      "model_name": "HTMLStyleModel",
      "state": {
       "description_width": "",
       "font_size": null,
       "text_color": null
      }
     },
     "07fb880b373547449cb689f557e115b6": {
      "model_module": "@jupyter-widgets/controls",
      "model_module_version": "2.0.0",
      "model_name": "HTMLModel",
      "state": {
       "layout": "IPY_MODEL_d525f6ca80bc478cb69b3d214f60e4e6",
       "style": "IPY_MODEL_a5f96a5290a84508a85fda6661da4667",
       "value": "job has successfully run"
      }
     },
     "0833ef6c87294a5a990e01724650e9fe": {
      "model_module": "@jupyter-widgets/controls",
      "model_module_version": "2.0.0",
      "model_name": "HTMLModel",
      "state": {
       "layout": "IPY_MODEL_71d7145fa3254bccbaba607f664266e9",
       "style": "IPY_MODEL_28c8fd0f12fd468f8bab717453bbca78",
       "value": "job has successfully run"
      }
     },
     "089b051c971748e2a6a639185d42852c": {
      "model_module": "@jupyter-widgets/controls",
      "model_module_version": "2.0.0",
      "model_name": "HTMLStyleModel",
      "state": {
       "description_width": "",
       "font_size": null,
       "text_color": null
      }
     },
     "08ad9c0ead1c4bf799b02948e1ce6634": {
      "model_module": "@jupyter-widgets/base",
      "model_module_version": "2.0.0",
      "model_name": "LayoutModel",
      "state": {}
     },
     "08ff0ff621c148839d54cca09b892fc2": {
      "model_module": "@jupyter-widgets/controls",
      "model_module_version": "2.0.0",
      "model_name": "HTMLModel",
      "state": {
       "layout": "IPY_MODEL_42f9469bc0284a389ee4a7a8efa51c6e",
       "style": "IPY_MODEL_a0a2b4f6059244639d7d129fe8a60730",
       "value": "cme8e91wcht0008ybcng"
      }
     },
     "090c5074491a42afbfe5e97045e8b9ed": {
      "model_module": "@jupyter-widgets/controls",
      "model_module_version": "2.0.0",
      "model_name": "HTMLStyleModel",
      "state": {
       "description_width": "",
       "font_size": null,
       "text_color": null
      }
     },
     "09624cbb032e4f1e836a55ea67e34aa0": {
      "model_module": "@jupyter-widgets/controls",
      "model_module_version": "2.0.0",
      "model_name": "ButtonStyleModel",
      "state": {
       "button_color": "white",
       "font_family": null,
       "font_size": null,
       "font_style": null,
       "font_variant": null,
       "font_weight": null,
       "text_color": null,
       "text_decoration": null
      }
     },
     "09b3b141e0f747a1bd485a83c4e379d3": {
      "model_module": "@jupyter-widgets/controls",
      "model_module_version": "2.0.0",
      "model_name": "HBoxModel",
      "state": {
       "children": [
        "IPY_MODEL_14e9692e2d6e4b7dbac943a7f7151bd9",
        "IPY_MODEL_9883ce21d6eb447d9b6679eba6b69319",
        "IPY_MODEL_ba079f8011cb4de4b32175bed7a1c4be",
        "IPY_MODEL_65d8cdda1d8448d2a5315a963e5f1b67",
        "IPY_MODEL_99d6089048654210ab33d3637e33f6f1",
        "IPY_MODEL_c1e156cd7e4849b0a0ae879cfed3d7b7"
       ],
       "layout": "IPY_MODEL_9db700222de949c39ad4f31b527f11fe"
      }
     },
     "09dd4e9017ee40c39f3c9b7139d1fd92": {
      "model_module": "@jupyter-widgets/base",
      "model_module_version": "2.0.0",
      "model_name": "LayoutModel",
      "state": {
       "max_width": "700px",
       "min_width": "700px"
      }
     },
     "09e018cc6dd34f0fac4fa8d0ef03c699": {
      "model_module": "@jupyter-widgets/base",
      "model_module_version": "2.0.0",
      "model_name": "LayoutModel",
      "state": {
       "margin": "0px 5px 0px 0px",
       "width": "32px"
      }
     },
     "09e0ab051b884c97a4f75660303e9754": {
      "model_module": "@jupyter-widgets/base",
      "model_module_version": "2.0.0",
      "model_name": "LayoutModel",
      "state": {
       "max_width": "700px",
       "min_width": "700px"
      }
     },
     "0a32ae0eeceb479495bbfdbe14797ee7": {
      "model_module": "@jupyter-widgets/base",
      "model_module_version": "2.0.0",
      "model_name": "LayoutModel",
      "state": {
       "width": "190px"
      }
     },
     "0a437809fe6f4016a020c536b12a05a0": {
      "model_module": "@jupyter-widgets/base",
      "model_module_version": "2.0.0",
      "model_name": "LayoutModel",
      "state": {
       "width": "70px"
      }
     },
     "0a50f8ff95794f56807613079124f281": {
      "model_module": "@jupyter-widgets/base",
      "model_module_version": "2.0.0",
      "model_name": "LayoutModel",
      "state": {
       "width": "70px"
      }
     },
     "0ab45daed923405a8714dc1197510a7a": {
      "model_module": "@jupyter-widgets/base",
      "model_module_version": "2.0.0",
      "model_name": "LayoutModel",
      "state": {
       "margin": "0px 5px 0px 0px",
       "width": "32px"
      }
     },
     "0afb04a651d947688df404af7b44bbef": {
      "model_module": "@jupyter-widgets/controls",
      "model_module_version": "2.0.0",
      "model_name": "ButtonModel",
      "state": {
       "icon": "close",
       "layout": "IPY_MODEL_81b638337df14f54a50fd4e34a34962b",
       "style": "IPY_MODEL_5b8cbd3192a54ce299b32ff0e23e4961",
       "tooltip": null
      }
     },
     "0b97f087d1224cb893a1ac0db236cf86": {
      "model_module": "@jupyter-widgets/controls",
      "model_module_version": "2.0.0",
      "model_name": "HTMLStyleModel",
      "state": {
       "description_width": "",
       "font_size": null,
       "text_color": null
      }
     },
     "0ba13e65fe56480ab5b7ce872d658676": {
      "model_module": "@jupyter-widgets/controls",
      "model_module_version": "2.0.0",
      "model_name": "HTMLModel",
      "state": {
       "layout": "IPY_MODEL_f91a972f738640be9736933deaf34e2b",
       "style": "IPY_MODEL_3da913bd91e743d5a7ad8b6bffda376c",
       "value": "<font style='color:#34BC6E'>DONE</font>"
      }
     },
     "0bf6d86c38074f9caf17f6b6ba9d2680": {
      "model_module": "@jupyter-widgets/base",
      "model_module_version": "2.0.0",
      "model_name": "LayoutModel",
      "state": {
       "width": "145px"
      }
     },
     "0c4f5d16835147279615279c805d2ccf": {
      "model_module": "@jupyter-widgets/base",
      "model_module_version": "2.0.0",
      "model_name": "LayoutModel",
      "state": {
       "margin": "0px 5px 0px 0px",
       "width": "32px"
      }
     },
     "0cb3568283194f4b80d585332802f58a": {
      "model_module": "@jupyter-widgets/base",
      "model_module_version": "2.0.0",
      "model_name": "LayoutModel",
      "state": {
       "margin": "0px 5px 0px 0px",
       "width": "32px"
      }
     },
     "0d2548b0231f49aa95a0f73c5d7d000a": {
      "model_module": "@jupyter-widgets/base",
      "model_module_version": "2.0.0",
      "model_name": "LayoutModel",
      "state": {
       "width": "95px"
      }
     },
     "0d62c75d86ee4cbe8e6341fea5aef4a6": {
      "model_module": "@jupyter-widgets/controls",
      "model_module_version": "2.0.0",
      "model_name": "HTMLStyleModel",
      "state": {
       "description_width": "",
       "font_size": null,
       "text_color": null
      }
     },
     "0d845debb6e7455494637cb88b30b805": {
      "model_module": "@jupyter-widgets/base",
      "model_module_version": "2.0.0",
      "model_name": "LayoutModel",
      "state": {
       "max_width": "700px",
       "min_width": "700px"
      }
     },
     "0da331086f9a4a4cbcd8b31eace71897": {
      "model_module": "@jupyter-widgets/base",
      "model_module_version": "2.0.0",
      "model_name": "LayoutModel",
      "state": {}
     },
     "0df04f15d4374e5f871c81d8f16c320b": {
      "model_module": "@jupyter-widgets/controls",
      "model_module_version": "2.0.0",
      "model_name": "HTMLStyleModel",
      "state": {
       "description_width": "",
       "font_size": null,
       "text_color": null
      }
     },
     "0e006db8d35f4305868e3a4a392ec30c": {
      "model_module": "@jupyter-widgets/base",
      "model_module_version": "2.0.0",
      "model_name": "LayoutModel",
      "state": {
       "max_width": "700px",
       "min_width": "700px"
      }
     },
     "0e0ef50c8c2145a6bd82e3338e72c751": {
      "model_module": "@jupyter-widgets/base",
      "model_module_version": "2.0.0",
      "model_name": "LayoutModel",
      "state": {
       "max_width": "700px",
       "min_width": "700px"
      }
     },
     "0e18d030d2aa4f5699b52538fdc5ae48": {
      "model_module": "@jupyter-widgets/controls",
      "model_module_version": "2.0.0",
      "model_name": "HTMLModel",
      "state": {
       "layout": "IPY_MODEL_3c226c57269147bbbf47d03e3a3cc75e",
       "style": "IPY_MODEL_e4166bc5018440e48b11256d8cb2ad20",
       "value": "job has successfully run"
      }
     },
     "0e4034b70da54455b78f778ba88114d2": {
      "model_module": "@jupyter-widgets/controls",
      "model_module_version": "2.0.0",
      "model_name": "HBoxModel",
      "state": {
       "children": [
        "IPY_MODEL_f709bbf0fd194cabacf34ab0d1c53702",
        "IPY_MODEL_2842f9de3d6c4771a79481e816b09fb9",
        "IPY_MODEL_82f4b39bf0bb4dc68f438ae7de45a4aa",
        "IPY_MODEL_90166ab9677e45798b6270efefff1e7d",
        "IPY_MODEL_571005f29f3e48a583499677e2a00a6b",
        "IPY_MODEL_ffde548d20184189b256c75914616f7e"
       ],
       "layout": "IPY_MODEL_0e0ef50c8c2145a6bd82e3338e72c751"
      }
     },
     "0e97196fe0d441ad94810b28868c8e32": {
      "model_module": "@jupyter-widgets/controls",
      "model_module_version": "2.0.0",
      "model_name": "HTMLModel",
      "state": {
       "layout": "IPY_MODEL_ebc745d49479403e88d6e4b29977502b",
       "style": "IPY_MODEL_4905d43798f84d239ec4fc2ffdb2db9a",
       "value": "<font style='color:#34BC6E'>DONE</font>"
      }
     },
     "0f0f325ace1f4b90a18eddbed8fd9558": {
      "model_module": "@jupyter-widgets/controls",
      "model_module_version": "2.0.0",
      "model_name": "HTMLModel",
      "state": {
       "layout": "IPY_MODEL_e5849a2af5b94b2eba5bc061596e6ce1",
       "style": "IPY_MODEL_69d047a9773b448d9fc989ffc5832342",
       "value": "-"
      }
     },
     "0f409b012e9547eaa063132cd7eca1c6": {
      "model_module": "@jupyter-widgets/controls",
      "model_module_version": "2.0.0",
      "model_name": "ButtonModel",
      "state": {
       "button_style": "primary",
       "description": "Clear",
       "layout": "IPY_MODEL_cfb57ea54c8c4db2b62cbd9a4196f345",
       "style": "IPY_MODEL_1c450172384f488c888a48163776a590",
       "tooltip": null
      }
     },
     "0f8d28fc0f344deea4a8f846ae92d4f2": {
      "model_module": "@jupyter-widgets/controls",
      "model_module_version": "2.0.0",
      "model_name": "ButtonModel",
      "state": {
       "icon": "close",
       "layout": "IPY_MODEL_764d057060844ea58f5f600c71fe314f",
       "style": "IPY_MODEL_e8258a1434c84ba08a56ed9bed1a1e33",
       "tooltip": null
      }
     },
     "108ea407b12f4f3ba4155ac923b2b3d2": {
      "model_module": "@jupyter-widgets/base",
      "model_module_version": "2.0.0",
      "model_name": "LayoutModel",
      "state": {
       "width": "145px"
      }
     },
     "1094e355a334407badd9ddbcb5fddab5": {
      "model_module": "@jupyter-widgets/controls",
      "model_module_version": "2.0.0",
      "model_name": "HTMLModel",
      "state": {
       "layout": "IPY_MODEL_f06d13b9b35f46a2af776ef9c750e6e9",
       "style": "IPY_MODEL_e5be6c158a0a49f6afb093d1c895c23c",
       "value": "-"
      }
     },
     "11172915aef846538fda2598e5cbf43b": {
      "model_module": "@jupyter-widgets/controls",
      "model_module_version": "2.0.0",
      "model_name": "ButtonModel",
      "state": {
       "icon": "close",
       "layout": "IPY_MODEL_b676cab6b2244629bf998d8fc8926c05",
       "style": "IPY_MODEL_ae9ede49efba4c29bf1c3afce4681281",
       "tooltip": null
      }
     },
     "1182df135cba42c8810faae9f621b3a8": {
      "model_module": "@jupyter-widgets/controls",
      "model_module_version": "2.0.0",
      "model_name": "HTMLModel",
      "state": {
       "layout": "IPY_MODEL_cbf725061a374002abc65baf7b002669",
       "style": "IPY_MODEL_1345413aa9094d26a0666b1f69834569",
       "value": "ibm_nairobi"
      }
     },
     "11ba4cb4685c4381bb60eeb2da61eb0a": {
      "model_module": "@jupyter-widgets/controls",
      "model_module_version": "2.0.0",
      "model_name": "ButtonModel",
      "state": {
       "icon": "close",
       "layout": "IPY_MODEL_91c04e41b1bf4f43a10b55efe069d8ec",
       "style": "IPY_MODEL_6fffe933eff24719a0b0b4eb593ecc6c",
       "tooltip": null
      }
     },
     "11c22fd1b8d34e5ab17ba59e6d5acfae": {
      "model_module": "@jupyter-widgets/base",
      "model_module_version": "2.0.0",
      "model_name": "LayoutModel",
      "state": {
       "width": "95px"
      }
     },
     "11ce419934bf40e38ce2c26329b6cc2f": {
      "model_module": "@jupyter-widgets/controls",
      "model_module_version": "2.0.0",
      "model_name": "HTMLStyleModel",
      "state": {
       "description_width": "",
       "font_size": null,
       "text_color": null
      }
     },
     "1207f46d8e2345d98be7942ea017cd34": {
      "model_module": "@jupyter-widgets/base",
      "model_module_version": "2.0.0",
      "model_name": "LayoutModel",
      "state": {}
     },
     "1250faceba2c4e0093dd5fc9e0feac60": {
      "model_module": "@jupyter-widgets/controls",
      "model_module_version": "2.0.0",
      "model_name": "ButtonStyleModel",
      "state": {
       "button_color": "white",
       "font_family": null,
       "font_size": null,
       "font_style": null,
       "font_variant": null,
       "font_weight": null,
       "text_color": null,
       "text_decoration": null
      }
     },
     "12ce2e9df2a645bba4683acf79047083": {
      "model_module": "@jupyter-widgets/base",
      "model_module_version": "2.0.0",
      "model_name": "LayoutModel",
      "state": {
       "width": "95px"
      }
     },
     "12ea8caa5d144672afd92550eb96fe14": {
      "model_module": "@jupyter-widgets/base",
      "model_module_version": "2.0.0",
      "model_name": "LayoutModel",
      "state": {
       "max_width": "700px",
       "min_width": "700px"
      }
     },
     "1345413aa9094d26a0666b1f69834569": {
      "model_module": "@jupyter-widgets/controls",
      "model_module_version": "2.0.0",
      "model_name": "HTMLStyleModel",
      "state": {
       "description_width": "",
       "font_size": null,
       "text_color": null
      }
     },
     "135b576d098749c8a717969bdde0ef23": {
      "model_module": "@jupyter-widgets/base",
      "model_module_version": "2.0.0",
      "model_name": "LayoutModel",
      "state": {
       "width": "95px"
      }
     },
     "137122ceca654b6da7c19228a02a243d": {
      "model_module": "@jupyter-widgets/controls",
      "model_module_version": "2.0.0",
      "model_name": "HTMLStyleModel",
      "state": {
       "description_width": "",
       "font_size": null,
       "text_color": null
      }
     },
     "1382e64914e74ccfa3c3ed8c7dde1238": {
      "model_module": "@jupyter-widgets/controls",
      "model_module_version": "2.0.0",
      "model_name": "HTMLStyleModel",
      "state": {
       "description_width": "",
       "font_size": null,
       "text_color": null
      }
     },
     "13ebdde3aa664cb09455ed8abc8f2813": {
      "model_module": "@jupyter-widgets/base",
      "model_module_version": "2.0.0",
      "model_name": "LayoutModel",
      "state": {
       "width": "95px"
      }
     },
     "1415bb1cfcd34f61b5e8b60d4670feb9": {
      "model_module": "@jupyter-widgets/controls",
      "model_module_version": "2.0.0",
      "model_name": "HTMLModel",
      "state": {
       "layout": "IPY_MODEL_e43f8e83336045fda47dbb046f9cea7c",
       "style": "IPY_MODEL_35ddbd336fbf46b8ab883f1883205a51",
       "value": "<font style='color:#34BC6E'>DONE</font>"
      }
     },
     "144521a7f50c49f99a1de0949ce891c7": {
      "model_module": "@jupyter-widgets/base",
      "model_module_version": "2.0.0",
      "model_name": "LayoutModel",
      "state": {
       "width": "190px"
      }
     },
     "1464a5d2fcce411cbe09cb4044c18d06": {
      "model_module": "@jupyter-widgets/controls",
      "model_module_version": "2.0.0",
      "model_name": "HTMLModel",
      "state": {
       "layout": "IPY_MODEL_c6f3de6c47214396aff213a682f123be",
       "style": "IPY_MODEL_2f618b006a7546dca75e10f11714013c",
       "value": "cmeb9m6zjkb0008crvqg"
      }
     },
     "147d2ba7c134444cab25f0b1f21719d2": {
      "model_module": "@jupyter-widgets/controls",
      "model_module_version": "2.0.0",
      "model_name": "HTMLStyleModel",
      "state": {
       "description_width": "",
       "font_size": null,
       "text_color": null
      }
     },
     "14a8802b0a5a418fb10476c92d8a8a63": {
      "model_module": "@jupyter-widgets/controls",
      "model_module_version": "2.0.0",
      "model_name": "ButtonModel",
      "state": {
       "icon": "close",
       "layout": "IPY_MODEL_1aacf1554f0d47c8b088ea3585de1314",
       "style": "IPY_MODEL_5e83fb3434dd4537bb99e545ba5fc5e4",
       "tooltip": null
      }
     },
     "14b94b47a762428c89ee72793ca4f8a1": {
      "model_module": "@jupyter-widgets/controls",
      "model_module_version": "2.0.0",
      "model_name": "HTMLStyleModel",
      "state": {
       "description_width": "",
       "font_size": null,
       "text_color": null
      }
     },
     "14e9692e2d6e4b7dbac943a7f7151bd9": {
      "model_module": "@jupyter-widgets/controls",
      "model_module_version": "2.0.0",
      "model_name": "ButtonModel",
      "state": {
       "icon": "close",
       "layout": "IPY_MODEL_206d130ca5b7429c9a2d399ca5429a5c",
       "style": "IPY_MODEL_4c02b7cd621f41ff95cf1eed94a86f8e",
       "tooltip": null
      }
     },
     "150d87d5746345c4a2fcb99449be635b": {
      "model_module": "@jupyter-widgets/controls",
      "model_module_version": "2.0.0",
      "model_name": "HTMLStyleModel",
      "state": {
       "description_width": "",
       "font_size": null,
       "text_color": null
      }
     },
     "1521793ccab04fc6bb90cde999764c58": {
      "model_module": "@jupyter-widgets/controls",
      "model_module_version": "2.0.0",
      "model_name": "ButtonStyleModel",
      "state": {
       "button_color": "white",
       "font_family": null,
       "font_size": null,
       "font_style": null,
       "font_variant": null,
       "font_weight": null,
       "text_color": null,
       "text_decoration": null
      }
     },
     "1577f033b5e94f028da0e7fc843f3b75": {
      "model_module": "@jupyter-widgets/controls",
      "model_module_version": "2.0.0",
      "model_name": "HTMLStyleModel",
      "state": {
       "description_width": "",
       "font_size": null,
       "text_color": null
      }
     },
     "157a48216f294e6a9738dd95b887a9af": {
      "model_module": "@jupyter-widgets/base",
      "model_module_version": "2.0.0",
      "model_name": "LayoutModel",
      "state": {
       "width": "145px"
      }
     },
     "15fa96efff174876bf459cc344252101": {
      "model_module": "@jupyter-widgets/base",
      "model_module_version": "2.0.0",
      "model_name": "LayoutModel",
      "state": {}
     },
     "16266059517544bb8bc1d62399f0c9de": {
      "model_module": "@jupyter-widgets/controls",
      "model_module_version": "2.0.0",
      "model_name": "ButtonModel",
      "state": {
       "icon": "close",
       "layout": "IPY_MODEL_0cb3568283194f4b80d585332802f58a",
       "style": "IPY_MODEL_bfa9153c74ba4853b648a0b0a5b59eb3",
       "tooltip": null
      }
     },
     "166f5f5e55d74208bdb11154ac6a8e6e": {
      "model_module": "@jupyter-widgets/controls",
      "model_module_version": "2.0.0",
      "model_name": "HBoxModel",
      "state": {
       "children": [
        "IPY_MODEL_042b2a6df5244fa99e2218d35fa0b417",
        "IPY_MODEL_1464a5d2fcce411cbe09cb4044c18d06",
        "IPY_MODEL_bb105f7410c74637bfc93ee407460be0",
        "IPY_MODEL_8124607384f74a86944e0654838a4b6c",
        "IPY_MODEL_4949efc67c334f67a0bbba0e578ad247",
        "IPY_MODEL_ca8d1c5b502c481a99b0a7605be31f28"
       ],
       "layout": "IPY_MODEL_ba8b91f7dfaa470693418d1ee2b47992"
      }
     },
     "16795b61ba964bc5aba982ba8afb511b": {
      "model_module": "@jupyter-widgets/controls",
      "model_module_version": "2.0.0",
      "model_name": "HTMLStyleModel",
      "state": {
       "description_width": "",
       "font_size": null,
       "text_color": null
      }
     },
     "1684cfadd4c64491bb92b5197f9f02e8": {
      "model_module": "@jupyter-widgets/controls",
      "model_module_version": "2.0.0",
      "model_name": "HTMLModel",
      "state": {
       "layout": "IPY_MODEL_cc7453dc86db4239a5079f8511300667",
       "style": "IPY_MODEL_57473b95ba434845b193a2b682cc4f83",
       "value": "ibm_nairobi"
      }
     },
     "169495abd451462cbfcb018b6c5327c0": {
      "model_module": "@jupyter-widgets/base",
      "model_module_version": "2.0.0",
      "model_name": "LayoutModel",
      "state": {
       "margin": "0px 5px 0px 0px",
       "width": "32px"
      }
     },
     "16af6b1f7bf34764933c91bfc1553f77": {
      "model_module": "@jupyter-widgets/base",
      "model_module_version": "2.0.0",
      "model_name": "LayoutModel",
      "state": {
       "margin": "0px 5px 0px 0px",
       "width": "32px"
      }
     },
     "16be02337c5d4e84822efa618bb47816": {
      "model_module": "@jupyter-widgets/controls",
      "model_module_version": "2.0.0",
      "model_name": "HBoxModel",
      "state": {
       "children": [
        "IPY_MODEL_e4e891dd45ab4fe4b50e253b469c945c",
        "IPY_MODEL_59c179d6c0a749f6809e4c64d2ff69f1",
        "IPY_MODEL_8e5c75fabd1544e7875bd096dfdaf22b",
        "IPY_MODEL_a10f469a8cea4181bca263575f4fdd67",
        "IPY_MODEL_98f43e199bed48dfa5528489ac582337",
        "IPY_MODEL_6ddd6f50383b4eafbf67d2549d529c90"
       ],
       "layout": "IPY_MODEL_f6dc482ebff64e509ac4eec135dd11a5"
      }
     },
     "171192a6fa7a43e2bfb8330052f67a5f": {
      "model_module": "@jupyter-widgets/controls",
      "model_module_version": "2.0.0",
      "model_name": "HTMLStyleModel",
      "state": {
       "description_width": "",
       "font_size": null,
       "text_color": null
      }
     },
     "1763b68b077b43eca9b3eb3131c6dfd2": {
      "model_module": "@jupyter-widgets/base",
      "model_module_version": "2.0.0",
      "model_name": "LayoutModel",
      "state": {
       "max_width": "700px",
       "min_width": "700px"
      }
     },
     "17b162e94a1144cf96f3bac19e4d89c2": {
      "model_module": "@jupyter-widgets/base",
      "model_module_version": "2.0.0",
      "model_name": "LayoutModel",
      "state": {
       "width": "95px"
      }
     },
     "17e252b6f4144277b62ca73c36ad9bc9": {
      "model_module": "@jupyter-widgets/controls",
      "model_module_version": "2.0.0",
      "model_name": "HTMLModel",
      "state": {
       "layout": "IPY_MODEL_20e70cc6757b4f3a950d9fbc2d4dc781",
       "style": "IPY_MODEL_70c459da9b92453fa3b97ceda96ef917",
       "value": "-"
      }
     },
     "17e50a1bf99d4a8595c5e895a70f5677": {
      "model_module": "@jupyter-widgets/controls",
      "model_module_version": "2.0.0",
      "model_name": "HTMLModel",
      "state": {
       "layout": "IPY_MODEL_fe0ef0ef56244d22a9ce1fd30b0aa9b3",
       "style": "IPY_MODEL_e8e994c3787646d89be133242731eb6a",
       "value": "<font style='color:#34BC6E'>DONE</font>"
      }
     },
     "17e977b36d5e4570b29749cfc0e394f7": {
      "model_module": "@jupyter-widgets/base",
      "model_module_version": "2.0.0",
      "model_name": "LayoutModel",
      "state": {
       "width": "190px"
      }
     },
     "180cce6d0a854d2a91e10350eecbba8d": {
      "model_module": "@jupyter-widgets/base",
      "model_module_version": "2.0.0",
      "model_name": "LayoutModel",
      "state": {
       "width": "95px"
      }
     },
     "18a11a0720994540b1b363e78b4c90ce": {
      "model_module": "@jupyter-widgets/controls",
      "model_module_version": "2.0.0",
      "model_name": "HTMLStyleModel",
      "state": {
       "description_width": "",
       "font_size": null,
       "text_color": null
      }
     },
     "18b8b16334ba470bac6cbf1b07b06382": {
      "model_module": "@jupyter-widgets/controls",
      "model_module_version": "2.0.0",
      "model_name": "HTMLStyleModel",
      "state": {
       "description_width": "",
       "font_size": null,
       "text_color": null
      }
     },
     "18daa2ffd1f945378851a58e9ce2b9e7": {
      "model_module": "@jupyter-widgets/controls",
      "model_module_version": "2.0.0",
      "model_name": "HTMLStyleModel",
      "state": {
       "description_width": "",
       "font_size": null,
       "text_color": null
      }
     },
     "18e60a4a2e2144a4a292418a791ec0c9": {
      "model_module": "@jupyter-widgets/base",
      "model_module_version": "2.0.0",
      "model_name": "LayoutModel",
      "state": {
       "width": "95px"
      }
     },
     "18e98b9bed884b82b723d37e6f533f00": {
      "model_module": "@jupyter-widgets/base",
      "model_module_version": "2.0.0",
      "model_name": "LayoutModel",
      "state": {
       "width": "70px"
      }
     },
     "1942cb9bd4df4cd88f3adf1d8d120745": {
      "model_module": "@jupyter-widgets/controls",
      "model_module_version": "2.0.0",
      "model_name": "HTMLModel",
      "state": {
       "layout": "IPY_MODEL_826aef77f723436baf845b8e4f45441b",
       "style": "IPY_MODEL_137122ceca654b6da7c19228a02a243d",
       "value": "<font style='color:#34BC6E'>DONE</font>"
      }
     },
     "194ed20101cb4b0c9c377e0f93cabfbe": {
      "model_module": "@jupyter-widgets/controls",
      "model_module_version": "2.0.0",
      "model_name": "HTMLModel",
      "state": {
       "layout": "IPY_MODEL_77640ca806cb457d849fd21e7ad396e1",
       "style": "IPY_MODEL_a0dd82c299034f4cbb6b6d78f6f6cfb3",
       "value": "-"
      }
     },
     "1951157dd17d4148b4d237e3108f36b0": {
      "model_module": "@jupyter-widgets/controls",
      "model_module_version": "2.0.0",
      "model_name": "HTMLStyleModel",
      "state": {
       "description_width": "",
       "font_size": null,
       "text_color": null
      }
     },
     "19a585d8b4de4412b3e349449fcfd008": {
      "model_module": "@jupyter-widgets/controls",
      "model_module_version": "2.0.0",
      "model_name": "HTMLModel",
      "state": {
       "layout": "IPY_MODEL_c7ceeb6d97e2479c955c9fef82d2e0c5",
       "style": "IPY_MODEL_1c0d348939cd4195947de678c697e5f8",
       "value": "ibm_nairobi"
      }
     },
     "19bc9e5dfa7a4adabeccce837c1afddb": {
      "model_module": "@jupyter-widgets/controls",
      "model_module_version": "2.0.0",
      "model_name": "ButtonStyleModel",
      "state": {
       "button_color": "white",
       "font_family": null,
       "font_size": null,
       "font_style": null,
       "font_variant": null,
       "font_weight": null,
       "text_color": null,
       "text_decoration": null
      }
     },
     "19cecc926f914c2e8a87dffd0626ce2d": {
      "model_module": "@jupyter-widgets/base",
      "model_module_version": "2.0.0",
      "model_name": "LayoutModel",
      "state": {
       "max_width": "700px",
       "min_width": "700px"
      }
     },
     "19ee202de59b4b079cef4f065e333b79": {
      "model_module": "@jupyter-widgets/controls",
      "model_module_version": "2.0.0",
      "model_name": "HTMLStyleModel",
      "state": {
       "description_width": "",
       "font_size": null,
       "text_color": null
      }
     },
     "1a090d2988eb4b2995608184e5a77738": {
      "model_module": "@jupyter-widgets/base",
      "model_module_version": "2.0.0",
      "model_name": "LayoutModel",
      "state": {
       "width": "190px"
      }
     },
     "1a29f8f6b4974329b6817160623ff5f1": {
      "model_module": "@jupyter-widgets/controls",
      "model_module_version": "2.0.0",
      "model_name": "HTMLModel",
      "state": {
       "layout": "IPY_MODEL_e1f8d9141e3c45daa48759f7fda58f17",
       "style": "IPY_MODEL_e0a4c82ce9644b728d2a6aac92808575",
       "value": "cmebd6mzjkb0008crw1g"
      }
     },
     "1a4a098758b34a0d9965d688085f2353": {
      "model_module": "@jupyter-widgets/controls",
      "model_module_version": "2.0.0",
      "model_name": "HTMLStyleModel",
      "state": {
       "description_width": "",
       "font_size": null,
       "text_color": null
      }
     },
     "1a8e9d01c30c4ae7bb8a7388bf9e1bb3": {
      "model_module": "@jupyter-widgets/controls",
      "model_module_version": "2.0.0",
      "model_name": "HTMLModel",
      "state": {
       "layout": "IPY_MODEL_b3c67466426e4cceb83058cf8c332105",
       "style": "IPY_MODEL_53abc3a164d8432ebb0767ba9fee3dba",
       "value": "cmebdxzwcht0008ybgh0"
      }
     },
     "1aacf1554f0d47c8b088ea3585de1314": {
      "model_module": "@jupyter-widgets/base",
      "model_module_version": "2.0.0",
      "model_name": "LayoutModel",
      "state": {
       "margin": "0px 5px 0px 0px",
       "width": "32px"
      }
     },
     "1b5466ddb5a84c4798489d3da2c6ca4c": {
      "model_module": "@jupyter-widgets/base",
      "model_module_version": "2.0.0",
      "model_name": "LayoutModel",
      "state": {
       "width": "70px"
      }
     },
     "1b623643fd87496997d187751f36eee2": {
      "model_module": "@jupyter-widgets/controls",
      "model_module_version": "2.0.0",
      "model_name": "ButtonModel",
      "state": {
       "icon": "close",
       "layout": "IPY_MODEL_5e2e302591da4aee97a6d913552a0ba7",
       "style": "IPY_MODEL_6b7e936cce7d46f1839b0d9f372427a7",
       "tooltip": null
      }
     },
     "1be829857e474cecab384551091ae46b": {
      "model_module": "@jupyter-widgets/base",
      "model_module_version": "2.0.0",
      "model_name": "LayoutModel",
      "state": {
       "width": "190px"
      }
     },
     "1c0d348939cd4195947de678c697e5f8": {
      "model_module": "@jupyter-widgets/controls",
      "model_module_version": "2.0.0",
      "model_name": "HTMLStyleModel",
      "state": {
       "description_width": "",
       "font_size": null,
       "text_color": null
      }
     },
     "1c246fdabd444dc384fc828fe89924f6": {
      "model_module": "@jupyter-widgets/controls",
      "model_module_version": "2.0.0",
      "model_name": "HTMLStyleModel",
      "state": {
       "description_width": "",
       "font_size": null,
       "text_color": null
      }
     },
     "1c450172384f488c888a48163776a590": {
      "model_module": "@jupyter-widgets/controls",
      "model_module_version": "2.0.0",
      "model_name": "ButtonStyleModel",
      "state": {
       "font_family": null,
       "font_size": null,
       "font_style": null,
       "font_variant": null,
       "font_weight": null,
       "text_color": null,
       "text_decoration": null
      }
     },
     "1c67acd47b07467d9e130ec283e56e04": {
      "model_module": "@jupyter-widgets/base",
      "model_module_version": "2.0.0",
      "model_name": "LayoutModel",
      "state": {
       "width": "190px"
      }
     },
     "1d730bb0c7754ae580c4ecaee99779d3": {
      "model_module": "@jupyter-widgets/base",
      "model_module_version": "2.0.0",
      "model_name": "LayoutModel",
      "state": {
       "width": "70px"
      }
     },
     "1e3328960bbf47b18a8776c63d4d79ba": {
      "model_module": "@jupyter-widgets/controls",
      "model_module_version": "2.0.0",
      "model_name": "HTMLModel",
      "state": {
       "layout": "IPY_MODEL_f7215615854f4a9b875df6b65e5f0a78",
       "style": "IPY_MODEL_1a4a098758b34a0d9965d688085f2353",
       "value": "<h5>Message</h5>"
      }
     },
     "1ee0571f3b2249adb29741680cb7cc3c": {
      "model_module": "@jupyter-widgets/controls",
      "model_module_version": "2.0.0",
      "model_name": "ButtonStyleModel",
      "state": {
       "button_color": "white",
       "font_family": null,
       "font_size": null,
       "font_style": null,
       "font_variant": null,
       "font_weight": null,
       "text_color": null,
       "text_decoration": null
      }
     },
     "1eeb2067ac6246eea234b5bd80308963": {
      "model_module": "@jupyter-widgets/controls",
      "model_module_version": "2.0.0",
      "model_name": "HTMLStyleModel",
      "state": {
       "description_width": "",
       "font_size": null,
       "text_color": null
      }
     },
     "1f4ff891800543619302b9c089aa9289": {
      "model_module": "@jupyter-widgets/controls",
      "model_module_version": "2.0.0",
      "model_name": "HTMLStyleModel",
      "state": {
       "description_width": "",
       "font_size": null,
       "text_color": null
      }
     },
     "1fa4b387b79b46b7860ee4bdf42981f1": {
      "model_module": "@jupyter-widgets/controls",
      "model_module_version": "2.0.0",
      "model_name": "HTMLModel",
      "state": {
       "layout": "IPY_MODEL_9de176e2218049efb89634642821a0ff",
       "style": "IPY_MODEL_af96d8d91b6845d1bce0d8c3b53a4553",
       "value": "cmebbqewq3k0008t00w0"
      }
     },
     "1fdb519bf779458ebdd7a769978aa089": {
      "model_module": "@jupyter-widgets/controls",
      "model_module_version": "2.0.0",
      "model_name": "HTMLStyleModel",
      "state": {
       "description_width": "",
       "font_size": null,
       "text_color": null
      }
     },
     "204939ad92ca48439ff9cd74765512ee": {
      "model_module": "@jupyter-widgets/base",
      "model_module_version": "2.0.0",
      "model_name": "LayoutModel",
      "state": {}
     },
     "205218458a2842f2ad180360b84c79e5": {
      "model_module": "@jupyter-widgets/controls",
      "model_module_version": "2.0.0",
      "model_name": "HTMLStyleModel",
      "state": {
       "description_width": "",
       "font_size": null,
       "text_color": null
      }
     },
     "206d130ca5b7429c9a2d399ca5429a5c": {
      "model_module": "@jupyter-widgets/base",
      "model_module_version": "2.0.0",
      "model_name": "LayoutModel",
      "state": {
       "margin": "0px 5px 0px 0px",
       "width": "32px"
      }
     },
     "20946286fb9c4fc99ec1970280304ea2": {
      "model_module": "@jupyter-widgets/controls",
      "model_module_version": "2.0.0",
      "model_name": "HTMLModel",
      "state": {
       "layout": "IPY_MODEL_a4d801f702af4536a2a4d95e400f9b9c",
       "style": "IPY_MODEL_8eb6763894934f88a6bdf8c0b0e710b5",
       "value": "<h5>Backend</h5>"
      }
     },
     "20e70cc6757b4f3a950d9fbc2d4dc781": {
      "model_module": "@jupyter-widgets/base",
      "model_module_version": "2.0.0",
      "model_name": "LayoutModel",
      "state": {
       "width": "70px"
      }
     },
     "20f68357189942a5b6c2b2691e250c85": {
      "model_module": "@jupyter-widgets/base",
      "model_module_version": "2.0.0",
      "model_name": "LayoutModel",
      "state": {
       "width": "190px"
      }
     },
     "21079b8a54e3456580426ed630daedf5": {
      "model_module": "@jupyter-widgets/base",
      "model_module_version": "2.0.0",
      "model_name": "LayoutModel",
      "state": {}
     },
     "215bd49e81c1463b8e69221383883f71": {
      "model_module": "@jupyter-widgets/controls",
      "model_module_version": "2.0.0",
      "model_name": "HTMLModel",
      "state": {
       "layout": "IPY_MODEL_dd32dffa568e4cc792cd65591a65a4d4",
       "style": "IPY_MODEL_1f4ff891800543619302b9c089aa9289",
       "value": "-"
      }
     },
     "217f1e28b5154f42b780a04c19ab783d": {
      "model_module": "@jupyter-widgets/base",
      "model_module_version": "2.0.0",
      "model_name": "LayoutModel",
      "state": {}
     },
     "21b8d4b208c84da987b8d3c8a36d2519": {
      "model_module": "@jupyter-widgets/controls",
      "model_module_version": "2.0.0",
      "model_name": "HTMLModel",
      "state": {
       "layout": "IPY_MODEL_28efac81f79a4f2d9defe23f64cefff7",
       "style": "IPY_MODEL_18daa2ffd1f945378851a58e9ce2b9e7",
       "value": "-"
      }
     },
     "2223c8f8e70a4901b526eb450efe38f6": {
      "model_module": "@jupyter-widgets/controls",
      "model_module_version": "2.0.0",
      "model_name": "HTMLModel",
      "state": {
       "layout": "IPY_MODEL_40a04e5b2ba24d4f86527c450ea8c978",
       "style": "IPY_MODEL_c17f9cda87ba4238bf6304dc0de994ad",
       "value": "cmebevv4z12g008ndbx0"
      }
     },
     "223565bcb9974f5085babd52b60b5cff": {
      "model_module": "@jupyter-widgets/controls",
      "model_module_version": "2.0.0",
      "model_name": "ButtonStyleModel",
      "state": {
       "button_color": "white",
       "font_family": null,
       "font_size": null,
       "font_style": null,
       "font_variant": null,
       "font_weight": null,
       "text_color": null,
       "text_decoration": null
      }
     },
     "224085c3f2fb49ddad184310cdc7d709": {
      "model_module": "@jupyter-widgets/controls",
      "model_module_version": "2.0.0",
      "model_name": "HTMLStyleModel",
      "state": {
       "description_width": "",
       "font_size": null,
       "text_color": null
      }
     },
     "2240a1a584764832a9d5320aa0db7dbd": {
      "model_module": "@jupyter-widgets/base",
      "model_module_version": "2.0.0",
      "model_name": "LayoutModel",
      "state": {
       "width": "70px"
      }
     },
     "2261b4313bda4e739020dc7d033ba360": {
      "model_module": "@jupyter-widgets/base",
      "model_module_version": "2.0.0",
      "model_name": "LayoutModel",
      "state": {
       "width": "190px"
      }
     },
     "228216bcfefa4b8298784327096fe413": {
      "model_module": "@jupyter-widgets/controls",
      "model_module_version": "2.0.0",
      "model_name": "ButtonStyleModel",
      "state": {
       "button_color": "white",
       "font_family": null,
       "font_size": null,
       "font_style": null,
       "font_variant": null,
       "font_weight": null,
       "text_color": null,
       "text_decoration": null
      }
     },
     "2341b87dfad44d40b42f287334f2a6d2": {
      "model_module": "@jupyter-widgets/base",
      "model_module_version": "2.0.0",
      "model_name": "LayoutModel",
      "state": {
       "width": "95px"
      }
     },
     "234f5a1abdcf4e6faaf23e5560b6eeb2": {
      "model_module": "@jupyter-widgets/controls",
      "model_module_version": "2.0.0",
      "model_name": "HTMLModel",
      "state": {
       "layout": "IPY_MODEL_0da331086f9a4a4cbcd8b31eace71897",
       "style": "IPY_MODEL_ec095e6a295a448d83f6fc708a7f83f9",
       "value": "job has successfully run"
      }
     },
     "237acc721081404e87bd5dbb8be1d888": {
      "model_module": "@jupyter-widgets/controls",
      "model_module_version": "2.0.0",
      "model_name": "HTMLStyleModel",
      "state": {
       "description_width": "",
       "font_size": null,
       "text_color": null
      }
     },
     "238efd2184254781a71ebb7bdbbeed05": {
      "model_module": "@jupyter-widgets/base",
      "model_module_version": "2.0.0",
      "model_name": "LayoutModel",
      "state": {
       "margin": "0px 5px 0px 0px",
       "width": "32px"
      }
     },
     "23937d968d5e4519ab12f0b1ea39b756": {
      "model_module": "@jupyter-widgets/controls",
      "model_module_version": "2.0.0",
      "model_name": "HTMLStyleModel",
      "state": {
       "description_width": "",
       "font_size": null,
       "text_color": null
      }
     },
     "23a7595a000346edaf696e3fafef4b25": {
      "model_module": "@jupyter-widgets/controls",
      "model_module_version": "2.0.0",
      "model_name": "HBoxModel",
      "state": {
       "children": [
        "IPY_MODEL_3645122ceace426c894e20368e062b7a",
        "IPY_MODEL_d34e4300582e4280af2cb4384a21b0cd",
        "IPY_MODEL_19a585d8b4de4412b3e349449fcfd008",
        "IPY_MODEL_e269643ccc6348a197511a1cf014362f",
        "IPY_MODEL_edaf1cdf36094260ab26d4660210a038",
        "IPY_MODEL_615bcdb69a96490790dcd7916eaed62a"
       ],
       "layout": "IPY_MODEL_c47310fa40904158833dcf15dc682204"
      }
     },
     "2462275a353e4e9daf3304333d003d91": {
      "model_module": "@jupyter-widgets/base",
      "model_module_version": "2.0.0",
      "model_name": "LayoutModel",
      "state": {
       "width": "70px"
      }
     },
     "24d938f83809493ea9dd4b37959ce0d3": {
      "model_module": "@jupyter-widgets/base",
      "model_module_version": "2.0.0",
      "model_name": "LayoutModel",
      "state": {
       "width": "70px"
      }
     },
     "252d4c9a27cb424db06bb61b6d9e37a2": {
      "model_module": "@jupyter-widgets/base",
      "model_module_version": "2.0.0",
      "model_name": "LayoutModel",
      "state": {
       "max_width": "700px",
       "min_width": "700px"
      }
     },
     "25351393f6f649f7a3345acef3c65e4e": {
      "model_module": "@jupyter-widgets/controls",
      "model_module_version": "2.0.0",
      "model_name": "ButtonModel",
      "state": {
       "icon": "close",
       "layout": "IPY_MODEL_238efd2184254781a71ebb7bdbbeed05",
       "style": "IPY_MODEL_8dfc3f72b01349f58f73e9b97f94ec50",
       "tooltip": null
      }
     },
     "25acda15a670425b9d5a763158d9024a": {
      "model_module": "@jupyter-widgets/controls",
      "model_module_version": "2.0.0",
      "model_name": "ButtonModel",
      "state": {
       "icon": "close",
       "layout": "IPY_MODEL_f87f9906342149b48c303aeafc501b64",
       "style": "IPY_MODEL_dfc47918cfde45a39fb5b4ea6f933547",
       "tooltip": null
      }
     },
     "25d9d28d419e4d6c83bc8ac0b81d7b86": {
      "model_module": "@jupyter-widgets/controls",
      "model_module_version": "2.0.0",
      "model_name": "ButtonStyleModel",
      "state": {
       "button_color": "white",
       "font_family": null,
       "font_size": null,
       "font_style": null,
       "font_variant": null,
       "font_weight": null,
       "text_color": null,
       "text_decoration": null
      }
     },
     "2624a877503b4fb689b21d63610b26e4": {
      "model_module": "@jupyter-widgets/base",
      "model_module_version": "2.0.0",
      "model_name": "LayoutModel",
      "state": {
       "width": "70px"
      }
     },
     "2667884c36594d9eab628be3a8e1f3e3": {
      "model_module": "@jupyter-widgets/controls",
      "model_module_version": "2.0.0",
      "model_name": "ButtonModel",
      "state": {
       "icon": "close",
       "layout": "IPY_MODEL_0c4f5d16835147279615279c805d2ccf",
       "style": "IPY_MODEL_5b248f9b8d4d4d5dabb4e86ef0426cbf",
       "tooltip": null
      }
     },
     "26714a556c834ca78f32da976c27f29e": {
      "model_module": "@jupyter-widgets/controls",
      "model_module_version": "2.0.0",
      "model_name": "HTMLModel",
      "state": {
       "layout": "IPY_MODEL_911375f61d2642288d41cec085a38fac",
       "style": "IPY_MODEL_ba19ccfa4dfb4f01be61be9a382cc575",
       "value": "ibm_nairobi"
      }
     },
     "26d227d194a54a7489a044d163eb921c": {
      "model_module": "@jupyter-widgets/base",
      "model_module_version": "2.0.0",
      "model_name": "LayoutModel",
      "state": {
       "width": "190px"
      }
     },
     "270c00948c414a3aab14270fcb5c7b15": {
      "model_module": "@jupyter-widgets/base",
      "model_module_version": "2.0.0",
      "model_name": "LayoutModel",
      "state": {
       "width": "190px"
      }
     },
     "272bbee310b340a3bf495a6a99766e5b": {
      "model_module": "@jupyter-widgets/base",
      "model_module_version": "2.0.0",
      "model_name": "LayoutModel",
      "state": {
       "width": "70px"
      }
     },
     "27303b0f6823414baed7c8f3648ddd8d": {
      "model_module": "@jupyter-widgets/controls",
      "model_module_version": "2.0.0",
      "model_name": "HTMLStyleModel",
      "state": {
       "description_width": "",
       "font_size": null,
       "text_color": null
      }
     },
     "27a4e622d0fc46ae98e0d144e5cc1b45": {
      "model_module": "@jupyter-widgets/controls",
      "model_module_version": "2.0.0",
      "model_name": "HTMLModel",
      "state": {
       "layout": "IPY_MODEL_0a50f8ff95794f56807613079124f281",
       "style": "IPY_MODEL_35bd40e53cd541348ac1e2137efd581e",
       "value": "-"
      }
     },
     "2842f9de3d6c4771a79481e816b09fb9": {
      "model_module": "@jupyter-widgets/controls",
      "model_module_version": "2.0.0",
      "model_name": "HTMLModel",
      "state": {
       "layout": "IPY_MODEL_cac2c080732f4ca796bb78a4a4904699",
       "style": "IPY_MODEL_f58416b4a82548ee869bbf360d96261c",
       "value": "cmebcf9y4c00008hykgg"
      }
     },
     "288a5eac268b4d6eb4221364cf651375": {
      "model_module": "@jupyter-widgets/controls",
      "model_module_version": "2.0.0",
      "model_name": "HTMLModel",
      "state": {
       "layout": "IPY_MODEL_b07e0d6a19a049b197f6319189fd423b",
       "style": "IPY_MODEL_a4f8869b6e5f43dea1d6169ec443e9ec",
       "value": "ibm_nairobi"
      }
     },
     "28c8fd0f12fd468f8bab717453bbca78": {
      "model_module": "@jupyter-widgets/controls",
      "model_module_version": "2.0.0",
      "model_name": "HTMLStyleModel",
      "state": {
       "description_width": "",
       "font_size": null,
       "text_color": null
      }
     },
     "28cc37ac268b40d29d256fc795947391": {
      "model_module": "@jupyter-widgets/controls",
      "model_module_version": "2.0.0",
      "model_name": "HTMLStyleModel",
      "state": {
       "description_width": "",
       "font_size": null,
       "text_color": null
      }
     },
     "28efac81f79a4f2d9defe23f64cefff7": {
      "model_module": "@jupyter-widgets/base",
      "model_module_version": "2.0.0",
      "model_name": "LayoutModel",
      "state": {
       "width": "70px"
      }
     },
     "28f3858107d74a9baf23d22bf6748c06": {
      "model_module": "@jupyter-widgets/controls",
      "model_module_version": "2.0.0",
      "model_name": "HTMLModel",
      "state": {
       "layout": "IPY_MODEL_4855f536e66d4befb17ed8c6e67b0611",
       "style": "IPY_MODEL_1577f033b5e94f028da0e7fc843f3b75",
       "value": "job has successfully run"
      }
     },
     "29425f3f823b418497acdbdc5426cefc": {
      "model_module": "@jupyter-widgets/base",
      "model_module_version": "2.0.0",
      "model_name": "LayoutModel",
      "state": {
       "width": "145px"
      }
     },
     "2964d8f6b75d4a44a37795b0d169b655": {
      "model_module": "@jupyter-widgets/controls",
      "model_module_version": "2.0.0",
      "model_name": "HTMLModel",
      "state": {
       "layout": "IPY_MODEL_b4b94bf5556649f3a37c9d1627f30132",
       "style": "IPY_MODEL_c5e0b123875043d0900f9be9a72ceb33",
       "value": "cme8yb1wcht0008ybd50"
      }
     },
     "299b4ed744f94526bbaec0112fd40456": {
      "model_module": "@jupyter-widgets/controls",
      "model_module_version": "2.0.0",
      "model_name": "ButtonStyleModel",
      "state": {
       "button_color": "white",
       "font_family": null,
       "font_size": null,
       "font_style": null,
       "font_variant": null,
       "font_weight": null,
       "text_color": null,
       "text_decoration": null
      }
     },
     "2a5261735f07462fb75591f90d030a4f": {
      "model_module": "@jupyter-widgets/controls",
      "model_module_version": "2.0.0",
      "model_name": "HTMLModel",
      "state": {
       "layout": "IPY_MODEL_1be829857e474cecab384551091ae46b",
       "style": "IPY_MODEL_36c96f003aaf421dba918dc9fb220fca",
       "value": "cmeav64te72g008jszf0"
      }
     },
     "2a62f7436e45415caaefb7fb327cdd81": {
      "model_module": "@jupyter-widgets/controls",
      "model_module_version": "2.0.0",
      "model_name": "HTMLStyleModel",
      "state": {
       "description_width": "",
       "font_size": null,
       "text_color": null
      }
     },
     "2abd2847d5b44891a8e81b6c906c46d4": {
      "model_module": "@jupyter-widgets/base",
      "model_module_version": "2.0.0",
      "model_name": "LayoutModel",
      "state": {
       "width": "190px"
      }
     },
     "2b59ca3787b54f2d8f00e48e30679abf": {
      "model_module": "@jupyter-widgets/base",
      "model_module_version": "2.0.0",
      "model_name": "LayoutModel",
      "state": {
       "max_width": "700px",
       "min_width": "700px"
      }
     },
     "2bf8701952d542099799910343a6f29e": {
      "model_module": "@jupyter-widgets/controls",
      "model_module_version": "2.0.0",
      "model_name": "HTMLModel",
      "state": {
       "layout": "IPY_MODEL_e9f447a12b2f4412a68cae02f0f76566",
       "style": "IPY_MODEL_f5bc66ff35cf487da027c599746afe77",
       "value": "ibm_nairobi"
      }
     },
     "2c46f9d212e54ee78e02438f9c740e3e": {
      "model_module": "@jupyter-widgets/controls",
      "model_module_version": "2.0.0",
      "model_name": "ButtonModel",
      "state": {
       "icon": "close",
       "layout": "IPY_MODEL_640f34fb45a94390a073f8189c5b15fa",
       "style": "IPY_MODEL_d8114335f82c4403ad3b390cae00a9eb",
       "tooltip": null
      }
     },
     "2d181c5ddadb4b8095fd812d225ece0d": {
      "model_module": "@jupyter-widgets/controls",
      "model_module_version": "2.0.0",
      "model_name": "HTMLStyleModel",
      "state": {
       "description_width": "",
       "font_size": null,
       "text_color": null
      }
     },
     "2d26a7e2fccf41f98d57ae80a6996375": {
      "model_module": "@jupyter-widgets/controls",
      "model_module_version": "2.0.0",
      "model_name": "HTMLStyleModel",
      "state": {
       "description_width": "",
       "font_size": null,
       "text_color": null
      }
     },
     "2daa5d2bebe140ee91777030b84f5e26": {
      "model_module": "@jupyter-widgets/controls",
      "model_module_version": "2.0.0",
      "model_name": "HTMLStyleModel",
      "state": {
       "description_width": "",
       "font_size": null,
       "text_color": null
      }
     },
     "2e2b5b54f6a84acd80778ef877b66da7": {
      "model_module": "@jupyter-widgets/controls",
      "model_module_version": "2.0.0",
      "model_name": "HTMLModel",
      "state": {
       "layout": "IPY_MODEL_a4ab20eb4ea64156b9d2e90a88fbb2c0",
       "style": "IPY_MODEL_fe199800b20c4e53ac327e68f4bbb266",
       "value": "ibm_nairobi"
      }
     },
     "2e537ebe1fd34de596104a465cc87831": {
      "model_module": "@jupyter-widgets/controls",
      "model_module_version": "2.0.0",
      "model_name": "HTMLStyleModel",
      "state": {
       "description_width": "",
       "font_size": null,
       "text_color": null
      }
     },
     "2e63dab76b8940cc8faf50595130c18b": {
      "model_module": "@jupyter-widgets/base",
      "model_module_version": "2.0.0",
      "model_name": "LayoutModel",
      "state": {
       "width": "70px"
      }
     },
     "2e7c61eaf55f4f8cb09f883178b0371f": {
      "model_module": "@jupyter-widgets/controls",
      "model_module_version": "2.0.0",
      "model_name": "HTMLStyleModel",
      "state": {
       "description_width": "",
       "font_size": null,
       "text_color": null
      }
     },
     "2eb8635f9c234505a8d313e1c2a58645": {
      "model_module": "@jupyter-widgets/controls",
      "model_module_version": "2.0.0",
      "model_name": "HTMLStyleModel",
      "state": {
       "description_width": "",
       "font_size": null,
       "text_color": null
      }
     },
     "2f2bf3a8f08d4fc38bf30a839db1f977": {
      "model_module": "@jupyter-widgets/base",
      "model_module_version": "2.0.0",
      "model_name": "LayoutModel",
      "state": {
       "width": "95px"
      }
     },
     "2f618b006a7546dca75e10f11714013c": {
      "model_module": "@jupyter-widgets/controls",
      "model_module_version": "2.0.0",
      "model_name": "HTMLStyleModel",
      "state": {
       "description_width": "",
       "font_size": null,
       "text_color": null
      }
     },
     "2fd2f6f475e445ad98e92bf63412d642": {
      "model_module": "@jupyter-widgets/controls",
      "model_module_version": "2.0.0",
      "model_name": "HTMLStyleModel",
      "state": {
       "description_width": "",
       "font_size": null,
       "text_color": null
      }
     },
     "2ff43d984f204c4683d22b061bada7d6": {
      "model_module": "@jupyter-widgets/base",
      "model_module_version": "2.0.0",
      "model_name": "LayoutModel",
      "state": {}
     },
     "3035487a89a74c719c283acca16418c9": {
      "model_module": "@jupyter-widgets/controls",
      "model_module_version": "2.0.0",
      "model_name": "HTMLModel",
      "state": {
       "layout": "IPY_MODEL_76240ceaef6b473bbba01c8aa801cd36",
       "style": "IPY_MODEL_a3321222e0ad4be1a6384604e343b8d4",
       "value": "-"
      }
     },
     "303715c611784495b5ac024738497c35": {
      "model_module": "@jupyter-widgets/controls",
      "model_module_version": "2.0.0",
      "model_name": "HTMLStyleModel",
      "state": {
       "description_width": "",
       "font_size": null,
       "text_color": null
      }
     },
     "30d13f10f4a54733bbd0356c18a67044": {
      "model_module": "@jupyter-widgets/controls",
      "model_module_version": "2.0.0",
      "model_name": "HTMLStyleModel",
      "state": {
       "description_width": "",
       "font_size": null,
       "text_color": null
      }
     },
     "310d35a185fb4853b99d6b78ffc99218": {
      "model_module": "@jupyter-widgets/base",
      "model_module_version": "2.0.0",
      "model_name": "LayoutModel",
      "state": {
       "width": "190px"
      }
     },
     "3128dac507a248bc86e059846b095536": {
      "model_module": "@jupyter-widgets/controls",
      "model_module_version": "2.0.0",
      "model_name": "HTMLModel",
      "state": {
       "layout": "IPY_MODEL_97f7ce6c08b4415bb437f53a68a28863",
       "style": "IPY_MODEL_0d62c75d86ee4cbe8e6341fea5aef4a6",
       "value": "job has successfully run"
      }
     },
     "313ace5b7b52418f94d404fd6a2c19ed": {
      "model_module": "@jupyter-widgets/controls",
      "model_module_version": "2.0.0",
      "model_name": "HTMLModel",
      "state": {
       "layout": "IPY_MODEL_6bf40ad70c054a2c8c4f34a0c3077ba1",
       "style": "IPY_MODEL_30d13f10f4a54733bbd0356c18a67044",
       "value": "ibm_nairobi"
      }
     },
     "31aff5e9c3d1493cac7b2c45f7fb158a": {
      "model_module": "@jupyter-widgets/controls",
      "model_module_version": "2.0.0",
      "model_name": "HTMLModel",
      "state": {
       "layout": "IPY_MODEL_35201e00180c4e0aabc32ab530e367da",
       "style": "IPY_MODEL_427e7ad55fe54eb8b6e0829f2533c515",
       "value": "cmebeq2te72g008jt0h0"
      }
     },
     "337183e6e9c64f839fc8577534500350": {
      "model_module": "@jupyter-widgets/base",
      "model_module_version": "2.0.0",
      "model_name": "LayoutModel",
      "state": {
       "width": "190px"
      }
     },
     "3397df464a0542fdb4022939978e6bf8": {
      "model_module": "@jupyter-widgets/base",
      "model_module_version": "2.0.0",
      "model_name": "LayoutModel",
      "state": {
       "width": "190px"
      }
     },
     "33d2e9cdbfe7477ba33e7f883425148a": {
      "model_module": "@jupyter-widgets/controls",
      "model_module_version": "2.0.0",
      "model_name": "HTMLModel",
      "state": {
       "layout": "IPY_MODEL_45c5be39c1da4b0f8e5ee82b16f6c8d7",
       "style": "IPY_MODEL_0b97f087d1224cb893a1ac0db236cf86",
       "value": "ibm_nairobi"
      }
     },
     "33e1c9f6b5ae40939573b742b90aeebf": {
      "model_module": "@jupyter-widgets/controls",
      "model_module_version": "2.0.0",
      "model_name": "HTMLStyleModel",
      "state": {
       "description_width": "",
       "font_size": null,
       "text_color": null
      }
     },
     "3408dd6b7c7844f7b78e0e68bb91463a": {
      "model_module": "@jupyter-widgets/controls",
      "model_module_version": "2.0.0",
      "model_name": "HTMLStyleModel",
      "state": {
       "description_width": "",
       "font_size": null,
       "text_color": null
      }
     },
     "340fe602036549f1b13f94fd8f0eaefa": {
      "model_module": "@jupyter-widgets/controls",
      "model_module_version": "2.0.0",
      "model_name": "HTMLModel",
      "state": {
       "layout": "IPY_MODEL_310d35a185fb4853b99d6b78ffc99218",
       "style": "IPY_MODEL_a765d8c664ea456ca6a4649868b37f24",
       "value": "cmebav34z12g008ndbq0"
      }
     },
     "343a7f58faa24d4088068af60ad40b0b": {
      "model_module": "@jupyter-widgets/base",
      "model_module_version": "2.0.0",
      "model_name": "LayoutModel",
      "state": {
       "width": "95px"
      }
     },
     "3514543f606448e4b953b69607b1e152": {
      "model_module": "@jupyter-widgets/base",
      "model_module_version": "2.0.0",
      "model_name": "LayoutModel",
      "state": {
       "width": "190px"
      }
     },
     "351840bb426a472faf8a63b1f572cbe4": {
      "model_module": "@jupyter-widgets/base",
      "model_module_version": "2.0.0",
      "model_name": "LayoutModel",
      "state": {
       "width": "145px"
      }
     },
     "35201e00180c4e0aabc32ab530e367da": {
      "model_module": "@jupyter-widgets/base",
      "model_module_version": "2.0.0",
      "model_name": "LayoutModel",
      "state": {
       "width": "190px"
      }
     },
     "352032234057481a9bef41c0ca15dee5": {
      "model_module": "@jupyter-widgets/base",
      "model_module_version": "2.0.0",
      "model_name": "LayoutModel",
      "state": {
       "width": "145px"
      }
     },
     "3555071a56e74a5fa2d0f7e12b68ee70": {
      "model_module": "@jupyter-widgets/controls",
      "model_module_version": "2.0.0",
      "model_name": "HTMLModel",
      "state": {
       "layout": "IPY_MODEL_ef86e85b841d434fa15c40783f8c6c06",
       "style": "IPY_MODEL_77157866bf2944499df37cd0324bd405",
       "value": "ibm_nairobi"
      }
     },
     "357a7327e96c4c15a17a4ff2a0836034": {
      "model_module": "@jupyter-widgets/base",
      "model_module_version": "2.0.0",
      "model_name": "LayoutModel",
      "state": {
       "margin": "0px 5px 0px 0px",
       "width": "32px"
      }
     },
     "35bd40e53cd541348ac1e2137efd581e": {
      "model_module": "@jupyter-widgets/controls",
      "model_module_version": "2.0.0",
      "model_name": "HTMLStyleModel",
      "state": {
       "description_width": "",
       "font_size": null,
       "text_color": null
      }
     },
     "35ddbd336fbf46b8ab883f1883205a51": {
      "model_module": "@jupyter-widgets/controls",
      "model_module_version": "2.0.0",
      "model_name": "HTMLStyleModel",
      "state": {
       "description_width": "",
       "font_size": null,
       "text_color": null
      }
     },
     "35e9b6f5e5874c41b68632da6e543119": {
      "model_module": "@jupyter-widgets/controls",
      "model_module_version": "2.0.0",
      "model_name": "HTMLModel",
      "state": {
       "layout": "IPY_MODEL_b4da131677884c01bafb015d125b3963",
       "style": "IPY_MODEL_5a88adc6fc5b4811b55b9d5274a110d1",
       "value": "-"
      }
     },
     "35ef62580a8340488dd4cd2e72e29279": {
      "model_module": "@jupyter-widgets/controls",
      "model_module_version": "2.0.0",
      "model_name": "HTMLStyleModel",
      "state": {
       "description_width": "",
       "font_size": null,
       "text_color": null
      }
     },
     "3618fafc77de42d6bb5c2b92e088966b": {
      "model_module": "@jupyter-widgets/base",
      "model_module_version": "2.0.0",
      "model_name": "LayoutModel",
      "state": {
       "width": "145px"
      }
     },
     "3645122ceace426c894e20368e062b7a": {
      "model_module": "@jupyter-widgets/controls",
      "model_module_version": "2.0.0",
      "model_name": "ButtonModel",
      "state": {
       "icon": "close",
       "layout": "IPY_MODEL_b4a07b585c1747b1b4f97b7323810b21",
       "style": "IPY_MODEL_223565bcb9974f5085babd52b60b5cff",
       "tooltip": null
      }
     },
     "36667b9eb7a14438b48d792c4c568e26": {
      "model_module": "@jupyter-widgets/controls",
      "model_module_version": "2.0.0",
      "model_name": "ButtonModel",
      "state": {
       "icon": "close",
       "layout": "IPY_MODEL_169495abd451462cbfcb018b6c5327c0",
       "style": "IPY_MODEL_c11360e8c6e54b45aa07d86753560234",
       "tooltip": null
      }
     },
     "36877220d21e442384422ee1fd990be0": {
      "model_module": "@jupyter-widgets/controls",
      "model_module_version": "2.0.0",
      "model_name": "HTMLModel",
      "state": {
       "layout": "IPY_MODEL_d2daa504a5c6444cbea341b83d2358bf",
       "style": "IPY_MODEL_5afb6d0c190e4cde82a8e8219af58acd",
       "value": "cmebaqjwcht0008ybg70"
      }
     },
     "369042ba602c49088ec9022334ea2e32": {
      "model_module": "@jupyter-widgets/controls",
      "model_module_version": "2.0.0",
      "model_name": "HTMLModel",
      "state": {
       "layout": "IPY_MODEL_6e2f8ba2e7694441aff0a9a966c55878",
       "style": "IPY_MODEL_5ebafc90225745638136b684250e22f7",
       "value": "<font style='color:#34BC6E'>DONE</font>"
      }
     },
     "36c96f003aaf421dba918dc9fb220fca": {
      "model_module": "@jupyter-widgets/controls",
      "model_module_version": "2.0.0",
      "model_name": "HTMLStyleModel",
      "state": {
       "description_width": "",
       "font_size": null,
       "text_color": null
      }
     },
     "36f3da5486a241a3a93fd8e2a769d238": {
      "model_module": "@jupyter-widgets/controls",
      "model_module_version": "2.0.0",
      "model_name": "HTMLStyleModel",
      "state": {
       "description_width": "",
       "font_size": null,
       "text_color": null
      }
     },
     "36fb9dabfd104589a385288a0ee6be6b": {
      "model_module": "@jupyter-widgets/controls",
      "model_module_version": "2.0.0",
      "model_name": "ButtonModel",
      "state": {
       "icon": "close",
       "layout": "IPY_MODEL_729c68ced1ca4e699a1c9b950eb0dfb5",
       "style": "IPY_MODEL_e98648686faa410da65e4f23495dd05c",
       "tooltip": null
      }
     },
     "37121afe63444e6384ae788689a1ec52": {
      "model_module": "@jupyter-widgets/controls",
      "model_module_version": "2.0.0",
      "model_name": "HBoxModel",
      "state": {
       "children": [
        "IPY_MODEL_4df346c8ba4f4311a8fc9ce03dbeed44",
        "IPY_MODEL_88c425c1602747d69f597ee0e5bd8cc2",
        "IPY_MODEL_ab3d125160c5438489cfd49092cd46cc",
        "IPY_MODEL_b1bb3c207acd4c9da2af04c60d4b8ca0",
        "IPY_MODEL_9478627ae84147c4ab73fff96785cec7",
        "IPY_MODEL_ab6b865b5a924eb09eb99d455c121684"
       ],
       "layout": "IPY_MODEL_505bd1cd0d0f4ef388aca57ff3cfd44b"
      }
     },
     "372aad761f11447aa623898ea27e319d": {
      "model_module": "@jupyter-widgets/base",
      "model_module_version": "2.0.0",
      "model_name": "LayoutModel",
      "state": {
       "max_width": "700px",
       "min_width": "700px"
      }
     },
     "37575991f213464293feb530358e3d8f": {
      "model_module": "@jupyter-widgets/controls",
      "model_module_version": "2.0.0",
      "model_name": "HTMLModel",
      "state": {
       "layout": "IPY_MODEL_e5aae47d1fe14bc0acc9ada824179a4b",
       "style": "IPY_MODEL_ff2f362a4c704d47ba7ce1ddeb427269",
       "value": "job has successfully run"
      }
     },
     "37981219fb90477cbcd4c525cec929ad": {
      "model_module": "@jupyter-widgets/controls",
      "model_module_version": "2.0.0",
      "model_name": "HTMLModel",
      "state": {
       "layout": "IPY_MODEL_957ed20c967548a58c6f4322b02d41a3",
       "style": "IPY_MODEL_8346d849fe2c41f3916acabb04ba6c16",
       "value": "-"
      }
     },
     "3813f9b8d34c486788c7fa505c66700d": {
      "model_module": "@jupyter-widgets/base",
      "model_module_version": "2.0.0",
      "model_name": "LayoutModel",
      "state": {}
     },
     "38185b3293fb4b64a103431579e3c79b": {
      "model_module": "@jupyter-widgets/controls",
      "model_module_version": "2.0.0",
      "model_name": "HTMLStyleModel",
      "state": {
       "description_width": "",
       "font_size": null,
       "text_color": null
      }
     },
     "3845580ec6314edf9a7c4514abd12106": {
      "model_module": "@jupyter-widgets/controls",
      "model_module_version": "2.0.0",
      "model_name": "HTMLModel",
      "state": {
       "layout": "IPY_MODEL_e1ede4a8f7cc4ec3bca6bfe9b9581140",
       "style": "IPY_MODEL_16795b61ba964bc5aba982ba8afb511b",
       "value": "cmebe20wcht0008ybgj0"
      }
     },
     "38f18eb9f30540f68a06b449d760670f": {
      "model_module": "@jupyter-widgets/base",
      "model_module_version": "2.0.0",
      "model_name": "LayoutModel",
      "state": {
       "width": "70px"
      }
     },
     "396089acb2604f37adef7fd7e84240e5": {
      "model_module": "@jupyter-widgets/base",
      "model_module_version": "2.0.0",
      "model_name": "LayoutModel",
      "state": {
       "width": "190px"
      }
     },
     "397ff1a3fc1e49a9a2b6a49202c26856": {
      "model_module": "@jupyter-widgets/base",
      "model_module_version": "2.0.0",
      "model_name": "LayoutModel",
      "state": {}
     },
     "39be7c6d336f4f7e9de31a3a4a263b3d": {
      "model_module": "@jupyter-widgets/base",
      "model_module_version": "2.0.0",
      "model_name": "LayoutModel",
      "state": {
       "max_width": "700px",
       "min_width": "700px"
      }
     },
     "3a103684302d4e4892aeeb13c31c5c1a": {
      "model_module": "@jupyter-widgets/controls",
      "model_module_version": "2.0.0",
      "model_name": "HTMLModel",
      "state": {
       "layout": "IPY_MODEL_550ef2ba98ec4b4586b008804f1fb261",
       "style": "IPY_MODEL_b1b704098dfa42b090d942f420516639",
       "value": "<h5>Job ID</h5>"
      }
     },
     "3a29fea5cc8b4388aa56f5230111fcbb": {
      "model_module": "@jupyter-widgets/base",
      "model_module_version": "2.0.0",
      "model_name": "LayoutModel",
      "state": {
       "max_width": "700px",
       "min_width": "700px"
      }
     },
     "3a619eac60bb442e94855b2ab9a9a6fb": {
      "model_module": "@jupyter-widgets/base",
      "model_module_version": "2.0.0",
      "model_name": "LayoutModel",
      "state": {
       "margin": "0px 5px 0px 0px",
       "width": "32px"
      }
     },
     "3b114b5f7de443728d320356181825e3": {
      "model_module": "@jupyter-widgets/controls",
      "model_module_version": "2.0.0",
      "model_name": "HBoxModel",
      "state": {
       "children": [
        "IPY_MODEL_36fb9dabfd104589a385288a0ee6be6b",
        "IPY_MODEL_e774edf2469b46088eb6e9db6ac04f82",
        "IPY_MODEL_524cb1d2fc124ca98ab243e2aadab806",
        "IPY_MODEL_e751191011354cf38e3a3df28aba11b2",
        "IPY_MODEL_5083348b2dd8429788798a64d784c204",
        "IPY_MODEL_5e5e2e68b74d4e2fa9ac10f96b68e166"
       ],
       "layout": "IPY_MODEL_372aad761f11447aa623898ea27e319d"
      }
     },
     "3bc0ce5c99c847058cc9c952be39043a": {
      "model_module": "@jupyter-widgets/base",
      "model_module_version": "2.0.0",
      "model_name": "LayoutModel",
      "state": {
       "width": "145px"
      }
     },
     "3c1feb6fded940a99a7ac5a315f11921": {
      "model_module": "@jupyter-widgets/controls",
      "model_module_version": "2.0.0",
      "model_name": "HTMLStyleModel",
      "state": {
       "description_width": "",
       "font_size": null,
       "text_color": null
      }
     },
     "3c2026040aff4ac6a648b1c474e50401": {
      "model_module": "@jupyter-widgets/base",
      "model_module_version": "2.0.0",
      "model_name": "LayoutModel",
      "state": {
       "width": "70px"
      }
     },
     "3c226c57269147bbbf47d03e3a3cc75e": {
      "model_module": "@jupyter-widgets/base",
      "model_module_version": "2.0.0",
      "model_name": "LayoutModel",
      "state": {}
     },
     "3c9d1af2f7d54d7182fbbd16aa896ccd": {
      "model_module": "@jupyter-widgets/controls",
      "model_module_version": "2.0.0",
      "model_name": "HTMLModel",
      "state": {
       "layout": "IPY_MODEL_5cf2f3a25d0e49b588b1c7898681b46e",
       "style": "IPY_MODEL_07f65019f33f4a9894141d006cf4df32",
       "value": "ibm_nairobi"
      }
     },
     "3caf5bac62e74b958ab4ef7cf0dcd02f": {
      "model_module": "@jupyter-widgets/base",
      "model_module_version": "2.0.0",
      "model_name": "LayoutModel",
      "state": {
       "width": "95px"
      }
     },
     "3d504fb53f894573b4510c7a4c562f01": {
      "model_module": "@jupyter-widgets/controls",
      "model_module_version": "2.0.0",
      "model_name": "HTMLModel",
      "state": {
       "layout": "IPY_MODEL_9c8f2cef414c4d009a49717db5452bda",
       "style": "IPY_MODEL_36f3da5486a241a3a93fd8e2a769d238",
       "value": "<font style='color:#34BC6E'>DONE</font>"
      }
     },
     "3d6d7ab5aaba41eabfa25e2981fd912d": {
      "model_module": "@jupyter-widgets/base",
      "model_module_version": "2.0.0",
      "model_name": "LayoutModel",
      "state": {
       "width": "190px"
      }
     },
     "3d9495bbf74545d4a8fcb5b4812981b7": {
      "model_module": "@jupyter-widgets/controls",
      "model_module_version": "2.0.0",
      "model_name": "HTMLModel",
      "state": {
       "layout": "IPY_MODEL_8d3aa63ba1b849769813eb7ed3d8f779",
       "style": "IPY_MODEL_2fd2f6f475e445ad98e92bf63412d642",
       "value": "cmebe7rwcht0008ybgkg"
      }
     },
     "3da2c680d0b5421a9c6cef9dc9824f48": {
      "model_module": "@jupyter-widgets/controls",
      "model_module_version": "2.0.0",
      "model_name": "ButtonModel",
      "state": {
       "icon": "close",
       "layout": "IPY_MODEL_4ac19284be7345eb94d3f4cd16b4b7b7",
       "style": "IPY_MODEL_228216bcfefa4b8298784327096fe413",
       "tooltip": null
      }
     },
     "3da913bd91e743d5a7ad8b6bffda376c": {
      "model_module": "@jupyter-widgets/controls",
      "model_module_version": "2.0.0",
      "model_name": "HTMLStyleModel",
      "state": {
       "description_width": "",
       "font_size": null,
       "text_color": null
      }
     },
     "3dedfdb5b6564a70abbab14ef7dd1a5c": {
      "model_module": "@jupyter-widgets/base",
      "model_module_version": "2.0.0",
      "model_name": "LayoutModel",
      "state": {
       "max_width": "700px",
       "min_width": "700px"
      }
     },
     "3e27e52bd3de4613b33de299775f5434": {
      "model_module": "@jupyter-widgets/controls",
      "model_module_version": "2.0.0",
      "model_name": "HBoxModel",
      "state": {
       "children": [
        "IPY_MODEL_0afb04a651d947688df404af7b44bbef",
        "IPY_MODEL_5f055f5444c44c399d48b2bf190a07cc",
        "IPY_MODEL_a4c5ef4329684389a2c73f4a66f248ca",
        "IPY_MODEL_e37d55e289254bcca71e4a9b6687dfe8",
        "IPY_MODEL_56168f1a8a344cc19b76f251311182fe",
        "IPY_MODEL_4ec27a6098204294b5b296647dd4b492"
       ],
       "layout": "IPY_MODEL_e979ed3499cc49598577a438dab59caa"
      }
     },
     "3e3dd364c90544d7a4929df893f7a1df": {
      "model_module": "@jupyter-widgets/base",
      "model_module_version": "2.0.0",
      "model_name": "LayoutModel",
      "state": {
       "width": "70px"
      }
     },
     "3e45a10ccfa84971807fdb6d2ac70967": {
      "model_module": "@jupyter-widgets/controls",
      "model_module_version": "2.0.0",
      "model_name": "HTMLModel",
      "state": {
       "layout": "IPY_MODEL_450a2ec3d1214310912624e8166640ad",
       "style": "IPY_MODEL_4741fe66008444d1aac1462e45bd112f",
       "value": "job has successfully run"
      }
     },
     "3e7d5e465be64667aadcab5978661cf6": {
      "model_module": "@jupyter-widgets/controls",
      "model_module_version": "2.0.0",
      "model_name": "HTMLModel",
      "state": {
       "layout": "IPY_MODEL_ef90babdccb54acca2104ac8a470f4e0",
       "style": "IPY_MODEL_11ce419934bf40e38ce2c26329b6cc2f",
       "value": "job has successfully run"
      }
     },
     "3f2a91efbcec449b9595cda5e72efdfc": {
      "model_module": "@jupyter-widgets/base",
      "model_module_version": "2.0.0",
      "model_name": "LayoutModel",
      "state": {}
     },
     "3f531084b40440379a1daa61cfa69a04": {
      "model_module": "@jupyter-widgets/controls",
      "model_module_version": "2.0.0",
      "model_name": "ButtonModel",
      "state": {
       "icon": "close",
       "layout": "IPY_MODEL_d329c96d748d478a8585dd60e4edd18b",
       "style": "IPY_MODEL_6f9ed722905544c0acd930e9cb61e50a",
       "tooltip": null
      }
     },
     "3f62a957345a4309b4492a19b6834509": {
      "model_module": "@jupyter-widgets/base",
      "model_module_version": "2.0.0",
      "model_name": "LayoutModel",
      "state": {}
     },
     "3f70557e1f5a4574b6b13552db1f3017": {
      "model_module": "@jupyter-widgets/controls",
      "model_module_version": "2.0.0",
      "model_name": "HTMLStyleModel",
      "state": {
       "description_width": "",
       "font_size": null,
       "text_color": null
      }
     },
     "3f89caf6bd644ae583e6ec145bdacdd4": {
      "model_module": "@jupyter-widgets/controls",
      "model_module_version": "2.0.0",
      "model_name": "HBoxModel",
      "state": {
       "children": [
        "IPY_MODEL_57eb8e06e6f94024b9c9e67c7df2c8a9",
        "IPY_MODEL_ba1f48de8bdc47fb912e84c063d02823",
        "IPY_MODEL_890b3c6cd5bd497380dd5335ceec4d47",
        "IPY_MODEL_aa547e21576e46fe9948fefacb45b0ca",
        "IPY_MODEL_a16b6ac8ada142f5a33e1dc2459f7c3d",
        "IPY_MODEL_61862e86ac7544b395b94870a4e8ccaf"
       ],
       "layout": "IPY_MODEL_d7f125ff4bda4c1f9ce99e9ed64626ab"
      }
     },
     "3fbc6967c9e64616ba15e0dcea23abd9": {
      "model_module": "@jupyter-widgets/base",
      "model_module_version": "2.0.0",
      "model_name": "LayoutModel",
      "state": {
       "width": "190px"
      }
     },
     "3fe413d841074bbe83ff22c6f8fb41a9": {
      "model_module": "@jupyter-widgets/base",
      "model_module_version": "2.0.0",
      "model_name": "LayoutModel",
      "state": {
       "width": "190px"
      }
     },
     "401ed691034a40138920e71d16ba0077": {
      "model_module": "@jupyter-widgets/base",
      "model_module_version": "2.0.0",
      "model_name": "LayoutModel",
      "state": {
       "width": "95px"
      }
     },
     "4021be2975a2464d9e87236baca6b128": {
      "model_module": "@jupyter-widgets/controls",
      "model_module_version": "2.0.0",
      "model_name": "HTMLModel",
      "state": {
       "layout": "IPY_MODEL_de55d7b8c0dd47e4ae555a462f093562",
       "style": "IPY_MODEL_a583e3698f614b67a718137b83bd384c",
       "value": "<font style='color:#34BC6E'>DONE</font>"
      }
     },
     "4093e36ab35841599a0e28b3476c8d66": {
      "model_module": "@jupyter-widgets/controls",
      "model_module_version": "2.0.0",
      "model_name": "HTMLModel",
      "state": {
       "layout": "IPY_MODEL_d63d21079b2d4ae9b1e9cdc662b486ec",
       "style": "IPY_MODEL_6bcefee3cb554156a6737d644576181e",
       "value": "<font style='color:#34BC6E'>DONE</font>"
      }
     },
     "40a04e5b2ba24d4f86527c450ea8c978": {
      "model_module": "@jupyter-widgets/base",
      "model_module_version": "2.0.0",
      "model_name": "LayoutModel",
      "state": {
       "width": "190px"
      }
     },
     "40ba5ba57c77493eacac39fa7cad7f02": {
      "model_module": "@jupyter-widgets/controls",
      "model_module_version": "2.0.0",
      "model_name": "HBoxModel",
      "state": {
       "children": [
        "IPY_MODEL_58a13601af9542d3b38fbf0af44ecfc1",
        "IPY_MODEL_79555c5c2e314922bce6f88c8c5fe0f6",
        "IPY_MODEL_2e2b5b54f6a84acd80778ef877b66da7",
        "IPY_MODEL_c08b9a490d744bb9973d6f37c4346270",
        "IPY_MODEL_a610e3a9d0cb4d35bcfcbb873ee5af36",
        "IPY_MODEL_4218b8fe53f4463dac16ad59650d9fc1"
       ],
       "layout": "IPY_MODEL_ba945572ed414fa0900d1b0064a5955a"
      }
     },
     "40fd5768f6d4485b8a2ba2cff7c32148": {
      "model_module": "@jupyter-widgets/base",
      "model_module_version": "2.0.0",
      "model_name": "LayoutModel",
      "state": {
       "width": "95px"
      }
     },
     "414c6edde11c4306bd0e25f23f663836": {
      "model_module": "@jupyter-widgets/controls",
      "model_module_version": "2.0.0",
      "model_name": "ButtonModel",
      "state": {
       "icon": "close",
       "layout": "IPY_MODEL_7c30a1e5c33149108d0d2244d5b92289",
       "style": "IPY_MODEL_1521793ccab04fc6bb90cde999764c58",
       "tooltip": null
      }
     },
     "416723c020c940059d5d9fb2dbb240bf": {
      "model_module": "@jupyter-widgets/base",
      "model_module_version": "2.0.0",
      "model_name": "LayoutModel",
      "state": {
       "width": "95px"
      }
     },
     "419b36f3fee24ea59b3894d2b87b479e": {
      "model_module": "@jupyter-widgets/controls",
      "model_module_version": "2.0.0",
      "model_name": "HTMLModel",
      "state": {
       "layout": "IPY_MODEL_ba9f72907e7041fd82bb2a646ba5570c",
       "style": "IPY_MODEL_841bc05a32f54b128dd4853a821afc1f",
       "value": "<h5>Queue</h5>"
      }
     },
     "420962a399784cc5b8e3a050748e24a5": {
      "model_module": "@jupyter-widgets/controls",
      "model_module_version": "2.0.0",
      "model_name": "HTMLModel",
      "state": {
       "layout": "IPY_MODEL_a2d9e489a87e46f3a09edc6dfa7a17e2",
       "style": "IPY_MODEL_6e88e81394404a739e3b7c7dd6a84489",
       "value": "-"
      }
     },
     "421090fb120744778e6b84288fe68f9f": {
      "model_module": "@jupyter-widgets/controls",
      "model_module_version": "2.0.0",
      "model_name": "HBoxModel",
      "state": {
       "children": [
        "IPY_MODEL_1b623643fd87496997d187751f36eee2",
        "IPY_MODEL_d4aa894bb1f64777843e4c0ade85d928",
        "IPY_MODEL_990aa0bf30b8498883a2ed6887b43b8a",
        "IPY_MODEL_979909a341d64bfcb469f0c3be3fb9e6",
        "IPY_MODEL_e976076047f143079aa9067fe4e13681",
        "IPY_MODEL_a87af47fcfc849958e7b1913d7384766"
       ],
       "layout": "IPY_MODEL_f44c486506004ffcabd2956df9509e31"
      }
     },
     "4218b8fe53f4463dac16ad59650d9fc1": {
      "model_module": "@jupyter-widgets/controls",
      "model_module_version": "2.0.0",
      "model_name": "HTMLModel",
      "state": {
       "layout": "IPY_MODEL_01321470d9f7437ab97a9dd745a0277b",
       "style": "IPY_MODEL_ffa87bf4564341c59bff95d39633bbaf",
       "value": "job has successfully run"
      }
     },
     "4258df6048f74d01939fcd1c3f9902a2": {
      "model_module": "@jupyter-widgets/base",
      "model_module_version": "2.0.0",
      "model_name": "LayoutModel",
      "state": {}
     },
     "425a8e5b4aee4d85a565bc676f11c70d": {
      "model_module": "@jupyter-widgets/base",
      "model_module_version": "2.0.0",
      "model_name": "LayoutModel",
      "state": {
       "max_width": "700px",
       "min_width": "700px"
      }
     },
     "425f917b467744c197334633aa62b216": {
      "model_module": "@jupyter-widgets/controls",
      "model_module_version": "2.0.0",
      "model_name": "HTMLModel",
      "state": {
       "layout": "IPY_MODEL_135b576d098749c8a717969bdde0ef23",
       "style": "IPY_MODEL_1382e64914e74ccfa3c3ed8c7dde1238",
       "value": "<font style='color:#34BC6E'>DONE</font>"
      }
     },
     "427e7ad55fe54eb8b6e0829f2533c515": {
      "model_module": "@jupyter-widgets/controls",
      "model_module_version": "2.0.0",
      "model_name": "HTMLStyleModel",
      "state": {
       "description_width": "",
       "font_size": null,
       "text_color": null
      }
     },
     "42f9469bc0284a389ee4a7a8efa51c6e": {
      "model_module": "@jupyter-widgets/base",
      "model_module_version": "2.0.0",
      "model_name": "LayoutModel",
      "state": {
       "width": "190px"
      }
     },
     "43f45bbfa7304573aa3f0fddbdfbee89": {
      "model_module": "@jupyter-widgets/base",
      "model_module_version": "2.0.0",
      "model_name": "LayoutModel",
      "state": {
       "width": "190px"
      }
     },
     "44170412c6e5449992df4eb8c51b1bf6": {
      "model_module": "@jupyter-widgets/controls",
      "model_module_version": "2.0.0",
      "model_name": "HTMLModel",
      "state": {
       "layout": "IPY_MODEL_3813f9b8d34c486788c7fa505c66700d",
       "style": "IPY_MODEL_9ea38fe63a1641c6aec14cf8c92b8185",
       "value": "job has successfully run"
      }
     },
     "4418cfa301e14b81a659dcab0dcdf840": {
      "model_module": "@jupyter-widgets/controls",
      "model_module_version": "2.0.0",
      "model_name": "HTMLModel",
      "state": {
       "layout": "IPY_MODEL_2341b87dfad44d40b42f287334f2a6d2",
       "style": "IPY_MODEL_b23dba8a8eb74af8aefef0f241f6a913",
       "value": "<font style='color:#34BC6E'>DONE</font>"
      }
     },
     "450a2ec3d1214310912624e8166640ad": {
      "model_module": "@jupyter-widgets/base",
      "model_module_version": "2.0.0",
      "model_name": "LayoutModel",
      "state": {}
     },
     "45896ae605e94dba87fadf49fa27011d": {
      "model_module": "@jupyter-widgets/base",
      "model_module_version": "2.0.0",
      "model_name": "LayoutModel",
      "state": {
       "width": "95px"
      }
     },
     "45c5be39c1da4b0f8e5ee82b16f6c8d7": {
      "model_module": "@jupyter-widgets/base",
      "model_module_version": "2.0.0",
      "model_name": "LayoutModel",
      "state": {
       "width": "145px"
      }
     },
     "4655824a13f9426e93a5f486a9c73f57": {
      "model_module": "@jupyter-widgets/base",
      "model_module_version": "2.0.0",
      "model_name": "LayoutModel",
      "state": {}
     },
     "4674c43052014b03bf19ed5478ef524e": {
      "model_module": "@jupyter-widgets/base",
      "model_module_version": "2.0.0",
      "model_name": "LayoutModel",
      "state": {}
     },
     "46f04359d2a64b10bdb7893592254e65": {
      "model_module": "@jupyter-widgets/base",
      "model_module_version": "2.0.0",
      "model_name": "LayoutModel",
      "state": {
       "max_width": "700px",
       "min_width": "700px"
      }
     },
     "47080929fef54fb5bb3dd7b72f024075": {
      "model_module": "@jupyter-widgets/controls",
      "model_module_version": "2.0.0",
      "model_name": "HBoxModel",
      "state": {
       "children": [
        "IPY_MODEL_f144185dc5e0485cb1f7490ba3e3c581",
        "IPY_MODEL_1a29f8f6b4974329b6817160623ff5f1",
        "IPY_MODEL_3555071a56e74a5fa2d0f7e12b68ee70",
        "IPY_MODEL_c6fa0ceb83404fe1b613fcfd6db05233",
        "IPY_MODEL_17e252b6f4144277b62ca73c36ad9bc9",
        "IPY_MODEL_6fec92bd1f04482e946c390f9cbd5190"
       ],
       "layout": "IPY_MODEL_19cecc926f914c2e8a87dffd0626ce2d"
      }
     },
     "471f6e245cb14994946a98835b169d19": {
      "model_module": "@jupyter-widgets/base",
      "model_module_version": "2.0.0",
      "model_name": "LayoutModel",
      "state": {
       "max_width": "700px",
       "min_width": "700px"
      }
     },
     "4741fe66008444d1aac1462e45bd112f": {
      "model_module": "@jupyter-widgets/controls",
      "model_module_version": "2.0.0",
      "model_name": "HTMLStyleModel",
      "state": {
       "description_width": "",
       "font_size": null,
       "text_color": null
      }
     },
     "4782f5a69b9d48338cc2b5f88df39927": {
      "model_module": "@jupyter-widgets/controls",
      "model_module_version": "2.0.0",
      "model_name": "HBoxModel",
      "state": {
       "children": [
        "IPY_MODEL_2667884c36594d9eab628be3a8e1f3e3",
        "IPY_MODEL_c8acf9dd5adb4ba989c5b20994d8e16e",
        "IPY_MODEL_7fcd1a3d330b45d89569dbf8ae092894",
        "IPY_MODEL_da277fdba5214118ade8d355170008d4",
        "IPY_MODEL_b49156f682dc4ed89fc89066dfd74ac2",
        "IPY_MODEL_73c7bc35419d41458fd1596dc0b5fc89"
       ],
       "layout": "IPY_MODEL_54530c337df340feaf77d4541e026204"
      }
     },
     "47ad27333eda4621a9e3e16e3ef6fa12": {
      "model_module": "@jupyter-widgets/controls",
      "model_module_version": "2.0.0",
      "model_name": "HTMLStyleModel",
      "state": {
       "description_width": "",
       "font_size": null,
       "text_color": null
      }
     },
     "4806eb99a1cd48809551dd8822ddb00f": {
      "model_module": "@jupyter-widgets/controls",
      "model_module_version": "2.0.0",
      "model_name": "HTMLModel",
      "state": {
       "layout": "IPY_MODEL_e90af3fed0e04a18aeefe59f291bb676",
       "style": "IPY_MODEL_147d2ba7c134444cab25f0b1f21719d2",
       "value": "job has successfully run"
      }
     },
     "4848f418d88e42bd9ec811127e771b45": {
      "model_module": "@jupyter-widgets/base",
      "model_module_version": "2.0.0",
      "model_name": "LayoutModel",
      "state": {
       "max_width": "700px",
       "min_width": "700px"
      }
     },
     "4855f536e66d4befb17ed8c6e67b0611": {
      "model_module": "@jupyter-widgets/base",
      "model_module_version": "2.0.0",
      "model_name": "LayoutModel",
      "state": {}
     },
     "4869db51b48c4841a22b5cd6c20f64f6": {
      "model_module": "@jupyter-widgets/controls",
      "model_module_version": "2.0.0",
      "model_name": "HTMLModel",
      "state": {
       "layout": "IPY_MODEL_397ff1a3fc1e49a9a2b6a49202c26856",
       "style": "IPY_MODEL_5fdd8e36943c49fda03c4871fee9f419",
       "value": "job has successfully run"
      }
     },
     "4873f462a47a40cc9060ea0502623b37": {
      "model_module": "@jupyter-widgets/controls",
      "model_module_version": "2.0.0",
      "model_name": "HTMLStyleModel",
      "state": {
       "description_width": "",
       "font_size": null,
       "text_color": null
      }
     },
     "4905d43798f84d239ec4fc2ffdb2db9a": {
      "model_module": "@jupyter-widgets/controls",
      "model_module_version": "2.0.0",
      "model_name": "HTMLStyleModel",
      "state": {
       "description_width": "",
       "font_size": null,
       "text_color": null
      }
     },
     "4949efc67c334f67a0bbba0e578ad247": {
      "model_module": "@jupyter-widgets/controls",
      "model_module_version": "2.0.0",
      "model_name": "HTMLModel",
      "state": {
       "layout": "IPY_MODEL_ff43e265a6c148c5b1697099b48e58fd",
       "style": "IPY_MODEL_54fab136b0e74c52a495047f0d0a3c7b",
       "value": "-"
      }
     },
     "49ac7158c63346698c36bf5840d32a58": {
      "model_module": "@jupyter-widgets/controls",
      "model_module_version": "2.0.0",
      "model_name": "HTMLStyleModel",
      "state": {
       "description_width": "",
       "font_size": null,
       "text_color": null
      }
     },
     "4a0425e4300049259315339486bddc78": {
      "model_module": "@jupyter-widgets/controls",
      "model_module_version": "2.0.0",
      "model_name": "HTMLModel",
      "state": {
       "layout": "IPY_MODEL_742c5029160f438ca9ba46cbf2479c44",
       "style": "IPY_MODEL_a7a4b4ae5fce41a69724b1ecd8766291",
       "value": "ibm_nairobi"
      }
     },
     "4ac19284be7345eb94d3f4cd16b4b7b7": {
      "model_module": "@jupyter-widgets/base",
      "model_module_version": "2.0.0",
      "model_name": "LayoutModel",
      "state": {
       "margin": "0px 5px 0px 0px",
       "width": "32px"
      }
     },
     "4b71b056f543464dae2f8f09a593cf52": {
      "model_module": "@jupyter-widgets/base",
      "model_module_version": "2.0.0",
      "model_name": "LayoutModel",
      "state": {
       "width": "95px"
      }
     },
     "4c02b7cd621f41ff95cf1eed94a86f8e": {
      "model_module": "@jupyter-widgets/controls",
      "model_module_version": "2.0.0",
      "model_name": "ButtonStyleModel",
      "state": {
       "button_color": "white",
       "font_family": null,
       "font_size": null,
       "font_style": null,
       "font_variant": null,
       "font_weight": null,
       "text_color": null,
       "text_decoration": null
      }
     },
     "4c070106bb0b48959b201507d9e60594": {
      "model_module": "@jupyter-widgets/controls",
      "model_module_version": "2.0.0",
      "model_name": "HTMLStyleModel",
      "state": {
       "description_width": "",
       "font_size": null,
       "text_color": null
      }
     },
     "4c3e731e716349df85d7b4dedaa81c8d": {
      "model_module": "@jupyter-widgets/controls",
      "model_module_version": "2.0.0",
      "model_name": "HBoxModel",
      "state": {
       "children": [
        "IPY_MODEL_4e6a7145f7cd4b739868747d51f34b46",
        "IPY_MODEL_52f74201fe2d4afab7415b78e7903bbd",
        "IPY_MODEL_9280be60c5d242d68873edc7e326a6ed",
        "IPY_MODEL_ebaf84d15b49445ca67364a5701603f2",
        "IPY_MODEL_e4cbbe5874f440e8886e4e4be38d0422",
        "IPY_MODEL_44170412c6e5449992df4eb8c51b1bf6"
       ],
       "layout": "IPY_MODEL_67c0f76deb4e4040b210ef0a8de4a1b2"
      }
     },
     "4ca58990f9e34f86bd33ef4be3e66c4a": {
      "model_module": "@jupyter-widgets/controls",
      "model_module_version": "2.0.0",
      "model_name": "HTMLStyleModel",
      "state": {
       "description_width": "",
       "font_size": null,
       "text_color": null
      }
     },
     "4cb2fcc103cb41538f456a2101f23dce": {
      "model_module": "@jupyter-widgets/controls",
      "model_module_version": "2.0.0",
      "model_name": "HTMLStyleModel",
      "state": {
       "description_width": "",
       "font_size": null,
       "text_color": null
      }
     },
     "4d8504942b2b47048cedf6cdf5932e90": {
      "model_module": "@jupyter-widgets/controls",
      "model_module_version": "2.0.0",
      "model_name": "HTMLStyleModel",
      "state": {
       "description_width": "",
       "font_size": null,
       "text_color": null
      }
     },
     "4df346c8ba4f4311a8fc9ce03dbeed44": {
      "model_module": "@jupyter-widgets/controls",
      "model_module_version": "2.0.0",
      "model_name": "ButtonModel",
      "state": {
       "icon": "close",
       "layout": "IPY_MODEL_6978cff115b84b2fa17f7deddd3a9d76",
       "style": "IPY_MODEL_647a6f7395c04a389fdd40ae5aafab78",
       "tooltip": null
      }
     },
     "4e445f107d394e49935d417cd0078b72": {
      "model_module": "@jupyter-widgets/controls",
      "model_module_version": "2.0.0",
      "model_name": "HTMLStyleModel",
      "state": {
       "description_width": "",
       "font_size": null,
       "text_color": null
      }
     },
     "4e4978f7310a4465b47b2acc090fa544": {
      "model_module": "@jupyter-widgets/controls",
      "model_module_version": "2.0.0",
      "model_name": "HTMLStyleModel",
      "state": {
       "description_width": "",
       "font_size": null,
       "text_color": null
      }
     },
     "4e6a7145f7cd4b739868747d51f34b46": {
      "model_module": "@jupyter-widgets/controls",
      "model_module_version": "2.0.0",
      "model_name": "ButtonModel",
      "state": {
       "icon": "close",
       "layout": "IPY_MODEL_0ab45daed923405a8714dc1197510a7a",
       "style": "IPY_MODEL_1250faceba2c4e0093dd5fc9e0feac60",
       "tooltip": null
      }
     },
     "4ec27a6098204294b5b296647dd4b492": {
      "model_module": "@jupyter-widgets/controls",
      "model_module_version": "2.0.0",
      "model_name": "HTMLModel",
      "state": {
       "layout": "IPY_MODEL_3f62a957345a4309b4492a19b6834509",
       "style": "IPY_MODEL_ddac229b2c904d97b5715f560a30feab",
       "value": "job has successfully run"
      }
     },
     "4edb2dc4e4f44d39b51d19390478710b": {
      "model_module": "@jupyter-widgets/controls",
      "model_module_version": "2.0.0",
      "model_name": "HTMLModel",
      "state": {
       "layout": "IPY_MODEL_87154fafb4b1403a91031c396d1fdbb3",
       "style": "IPY_MODEL_c84994b90c7a4bab8e3b9ac17e55fdd8",
       "value": "<font style='color:#34BC6E'>DONE</font>"
      }
     },
     "4f1f5b84672f46ed86a259d43067d857": {
      "model_module": "@jupyter-widgets/controls",
      "model_module_version": "2.0.0",
      "model_name": "HTMLStyleModel",
      "state": {
       "description_width": "",
       "font_size": null,
       "text_color": null
      }
     },
     "4f3439681a564d549f700ef5caa44719": {
      "model_module": "@jupyter-widgets/controls",
      "model_module_version": "2.0.0",
      "model_name": "HTMLModel",
      "state": {
       "layout": "IPY_MODEL_21079b8a54e3456580426ed630daedf5",
       "style": "IPY_MODEL_a0e3e2f8c50f492cb2d0d6456409fe41",
       "value": "job has successfully run"
      }
     },
     "4f53f89551e44f138421c58dbe27e151": {
      "model_module": "@jupyter-widgets/controls",
      "model_module_version": "2.0.0",
      "model_name": "HTMLStyleModel",
      "state": {
       "description_width": "",
       "font_size": null,
       "text_color": null
      }
     },
     "4faed25baf0748cdaea955aec0995d75": {
      "model_module": "@jupyter-widgets/controls",
      "model_module_version": "2.0.0",
      "model_name": "HTMLStyleModel",
      "state": {
       "description_width": "",
       "font_size": null,
       "text_color": null
      }
     },
     "4fd55948c0b64ce487437f1deca5f043": {
      "model_module": "@jupyter-widgets/controls",
      "model_module_version": "2.0.0",
      "model_name": "HTMLModel",
      "state": {
       "layout": "IPY_MODEL_da1a075d035a43d29b31281e1853b94b",
       "style": "IPY_MODEL_901fe95f24f04513aa57096d6634c19c",
       "value": "-"
      }
     },
     "5038243ea61641df94b1bb0739cc946d": {
      "model_module": "@jupyter-widgets/base",
      "model_module_version": "2.0.0",
      "model_name": "LayoutModel",
      "state": {
       "width": "70px"
      }
     },
     "505bd1cd0d0f4ef388aca57ff3cfd44b": {
      "model_module": "@jupyter-widgets/base",
      "model_module_version": "2.0.0",
      "model_name": "LayoutModel",
      "state": {
       "max_width": "700px",
       "min_width": "700px"
      }
     },
     "5083348b2dd8429788798a64d784c204": {
      "model_module": "@jupyter-widgets/controls",
      "model_module_version": "2.0.0",
      "model_name": "HTMLModel",
      "state": {
       "layout": "IPY_MODEL_7fecc13e664449e5b285e434945160a6",
       "style": "IPY_MODEL_0052a68b295b412f850e56f3fc1af590",
       "value": "-"
      }
     },
     "50f65bafaa2b436f9d1f84fc4739f6a7": {
      "model_module": "@jupyter-widgets/controls",
      "model_module_version": "2.0.0",
      "model_name": "HTMLStyleModel",
      "state": {
       "description_width": "",
       "font_size": null,
       "text_color": null
      }
     },
     "51f66a97c7c04589bda0f6504f8d855e": {
      "model_module": "@jupyter-widgets/controls",
      "model_module_version": "2.0.0",
      "model_name": "ButtonStyleModel",
      "state": {
       "button_color": "white",
       "font_family": null,
       "font_size": null,
       "font_style": null,
       "font_variant": null,
       "font_weight": null,
       "text_color": null,
       "text_decoration": null
      }
     },
     "5239ed4f11cf41b8bc415b89e03d322e": {
      "model_module": "@jupyter-widgets/controls",
      "model_module_version": "2.0.0",
      "model_name": "HTMLStyleModel",
      "state": {
       "description_width": "",
       "font_size": null,
       "text_color": null
      }
     },
     "524cb1d2fc124ca98ab243e2aadab806": {
      "model_module": "@jupyter-widgets/controls",
      "model_module_version": "2.0.0",
      "model_name": "HTMLModel",
      "state": {
       "layout": "IPY_MODEL_e595c8546a9b4ce8ab6855eff2357e6d",
       "style": "IPY_MODEL_5feeb48a716d4751877c1d5741c1920f",
       "value": "ibm_nairobi"
      }
     },
     "5254c0ddcd7b4e07903ec475e96312c7": {
      "model_module": "@jupyter-widgets/base",
      "model_module_version": "2.0.0",
      "model_name": "LayoutModel",
      "state": {
       "width": "70px"
      }
     },
     "52a1f85c77cd4474a7c4596df1fa9d69": {
      "model_module": "@jupyter-widgets/controls",
      "model_module_version": "2.0.0",
      "model_name": "HTMLModel",
      "state": {
       "layout": "IPY_MODEL_0573a0622c37423499a133de73ac8f27",
       "style": "IPY_MODEL_f64da2c5859943b6a54a07777aafca03",
       "value": "-"
      }
     },
     "52f74201fe2d4afab7415b78e7903bbd": {
      "model_module": "@jupyter-widgets/controls",
      "model_module_version": "2.0.0",
      "model_name": "HTMLModel",
      "state": {
       "layout": "IPY_MODEL_53d85e2d0def4e8d8eb1e5ae6aca5a7b",
       "style": "IPY_MODEL_d024887e57254ababc4891faf481162a",
       "value": "cmebayvy4c00008hykcg"
      }
     },
     "530c4fac13f64793abd6d78803109da0": {
      "model_module": "@jupyter-widgets/base",
      "model_module_version": "2.0.0",
      "model_name": "LayoutModel",
      "state": {}
     },
     "533b00eff6f5406db99506b1477bc194": {
      "model_module": "@jupyter-widgets/controls",
      "model_module_version": "2.0.0",
      "model_name": "HTMLStyleModel",
      "state": {
       "description_width": "",
       "font_size": null,
       "text_color": null
      }
     },
     "53a97030e9834915997362c4f1ca78a3": {
      "model_module": "@jupyter-widgets/base",
      "model_module_version": "2.0.0",
      "model_name": "LayoutModel",
      "state": {
       "width": "190px"
      }
     },
     "53abc3a164d8432ebb0767ba9fee3dba": {
      "model_module": "@jupyter-widgets/controls",
      "model_module_version": "2.0.0",
      "model_name": "HTMLStyleModel",
      "state": {
       "description_width": "",
       "font_size": null,
       "text_color": null
      }
     },
     "53d85e2d0def4e8d8eb1e5ae6aca5a7b": {
      "model_module": "@jupyter-widgets/base",
      "model_module_version": "2.0.0",
      "model_name": "LayoutModel",
      "state": {
       "width": "190px"
      }
     },
     "54530c337df340feaf77d4541e026204": {
      "model_module": "@jupyter-widgets/base",
      "model_module_version": "2.0.0",
      "model_name": "LayoutModel",
      "state": {
       "max_width": "700px",
       "min_width": "700px"
      }
     },
     "54b6c8c9d308454d9bb123131943d9eb": {
      "model_module": "@jupyter-widgets/base",
      "model_module_version": "2.0.0",
      "model_name": "LayoutModel",
      "state": {
       "width": "145px"
      }
     },
     "54fab136b0e74c52a495047f0d0a3c7b": {
      "model_module": "@jupyter-widgets/controls",
      "model_module_version": "2.0.0",
      "model_name": "HTMLStyleModel",
      "state": {
       "description_width": "",
       "font_size": null,
       "text_color": null
      }
     },
     "550ef2ba98ec4b4586b008804f1fb261": {
      "model_module": "@jupyter-widgets/base",
      "model_module_version": "2.0.0",
      "model_name": "LayoutModel",
      "state": {
       "width": "190px"
      }
     },
     "552e647bc91a48dd9f0cebb0460ba2a5": {
      "model_module": "@jupyter-widgets/base",
      "model_module_version": "2.0.0",
      "model_name": "LayoutModel",
      "state": {}
     },
     "5592f7f8f8024eea8c3dd6c3522ff620": {
      "model_module": "@jupyter-widgets/base",
      "model_module_version": "2.0.0",
      "model_name": "LayoutModel",
      "state": {
       "grid_template_areas": "\n                                       \". . . . right \"\n                                        ",
       "grid_template_columns": "20% 20% 20% 20% 20%",
       "width": "100%"
      }
     },
     "56168f1a8a344cc19b76f251311182fe": {
      "model_module": "@jupyter-widgets/controls",
      "model_module_version": "2.0.0",
      "model_name": "HTMLModel",
      "state": {
       "layout": "IPY_MODEL_1d730bb0c7754ae580c4ecaee99779d3",
       "style": "IPY_MODEL_14b94b47a762428c89ee72793ca4f8a1",
       "value": "-"
      }
     },
     "563cd8eafc094d74b99ef5e3ef1efdf2": {
      "model_module": "@jupyter-widgets/controls",
      "model_module_version": "2.0.0",
      "model_name": "HTMLModel",
      "state": {
       "layout": "IPY_MODEL_f2fa8af60aad44b9bdc4dec0c9cfc5f5",
       "style": "IPY_MODEL_7d24b698e2514b0bbc8b10941ffa4049",
       "value": "-"
      }
     },
     "571005f29f3e48a583499677e2a00a6b": {
      "model_module": "@jupyter-widgets/controls",
      "model_module_version": "2.0.0",
      "model_name": "HTMLModel",
      "state": {
       "layout": "IPY_MODEL_fc01e98c3c73483cb273c0278f4e4149",
       "style": "IPY_MODEL_19ee202de59b4b079cef4f065e333b79",
       "value": "-"
      }
     },
     "5724b3db806f4054b0b3da7d20f666be": {
      "model_module": "@jupyter-widgets/controls",
      "model_module_version": "2.0.0",
      "model_name": "ButtonStyleModel",
      "state": {
       "button_color": "white",
       "font_family": null,
       "font_size": null,
       "font_style": null,
       "font_variant": null,
       "font_weight": null,
       "text_color": null,
       "text_decoration": null
      }
     },
     "572f0d34d5094cef87b105ef421b6cff": {
      "model_module": "@jupyter-widgets/controls",
      "model_module_version": "2.0.0",
      "model_name": "HTMLModel",
      "state": {
       "layout": "IPY_MODEL_7ea8a2af18dc40bab9852338c462e10b",
       "style": "IPY_MODEL_eb0f8a8556574af2871128866854cf47",
       "value": "<font style='color:#34BC6E'>DONE</font>"
      }
     },
     "5742521802764a84b9a8c5ef8dd41320": {
      "model_module": "@jupyter-widgets/controls",
      "model_module_version": "2.0.0",
      "model_name": "HTMLModel",
      "state": {
       "layout": "IPY_MODEL_dc23a06d82cd4f5ebf4a8f6e11af0e84",
       "style": "IPY_MODEL_2daa5d2bebe140ee91777030b84f5e26",
       "value": "ibm_nairobi"
      }
     },
     "57473b95ba434845b193a2b682cc4f83": {
      "model_module": "@jupyter-widgets/controls",
      "model_module_version": "2.0.0",
      "model_name": "HTMLStyleModel",
      "state": {
       "description_width": "",
       "font_size": null,
       "text_color": null
      }
     },
     "579aa9dade2146768f16a8203d763448": {
      "model_module": "@jupyter-widgets/controls",
      "model_module_version": "2.0.0",
      "model_name": "HTMLStyleModel",
      "state": {
       "description_width": "",
       "font_size": null,
       "text_color": null
      }
     },
     "57a4f15c06cd435392ed6e2f07f9c3e4": {
      "model_module": "@jupyter-widgets/base",
      "model_module_version": "2.0.0",
      "model_name": "LayoutModel",
      "state": {
       "width": "70px"
      }
     },
     "57cbed3d1f574269a08d54739a2f9371": {
      "model_module": "@jupyter-widgets/base",
      "model_module_version": "2.0.0",
      "model_name": "LayoutModel",
      "state": {
       "width": "95px"
      }
     },
     "57d3c977069e4836b77b5b57fb34ea30": {
      "model_module": "@jupyter-widgets/base",
      "model_module_version": "2.0.0",
      "model_name": "LayoutModel",
      "state": {
       "width": "70px"
      }
     },
     "57eb8e06e6f94024b9c9e67c7df2c8a9": {
      "model_module": "@jupyter-widgets/controls",
      "model_module_version": "2.0.0",
      "model_name": "ButtonModel",
      "state": {
       "icon": "close",
       "layout": "IPY_MODEL_9267e7aabde14d65b65b28fe153d7fd9",
       "style": "IPY_MODEL_676f3e7b4374420a88d833ce32b4e065",
       "tooltip": null
      }
     },
     "58331c8a807649aeb2ca659c8a9afa1d": {
      "model_module": "@jupyter-widgets/base",
      "model_module_version": "2.0.0",
      "model_name": "LayoutModel",
      "state": {
       "width": "190px"
      }
     },
     "585c1f1357e640a4bcb1c0b3e94e8e8b": {
      "model_module": "@jupyter-widgets/controls",
      "model_module_version": "2.0.0",
      "model_name": "HTMLModel",
      "state": {
       "layout": "IPY_MODEL_c6052775e7834ac491d0496bb07984e2",
       "style": "IPY_MODEL_b3fc93c330194b3487733ecf39a51900",
       "value": "<font style='color:#34BC6E'>DONE</font>"
      }
     },
     "58a13601af9542d3b38fbf0af44ecfc1": {
      "model_module": "@jupyter-widgets/controls",
      "model_module_version": "2.0.0",
      "model_name": "ButtonModel",
      "state": {
       "icon": "close",
       "layout": "IPY_MODEL_c299c56f5ecc4301b50e9aefaba47f71",
       "style": "IPY_MODEL_a9866d156da649f698e4f7e8b2c1d7eb",
       "tooltip": null
      }
     },
     "58cb029977cc41b2b246ee9def03c2bc": {
      "model_module": "@jupyter-widgets/base",
      "model_module_version": "2.0.0",
      "model_name": "LayoutModel",
      "state": {
       "width": "70px"
      }
     },
     "58d2141589834372beb248d119aebadb": {
      "model_module": "@jupyter-widgets/controls",
      "model_module_version": "2.0.0",
      "model_name": "HTMLModel",
      "state": {
       "layout": "IPY_MODEL_401ed691034a40138920e71d16ba0077",
       "style": "IPY_MODEL_eba11815fc80478ba2b4c673d80de4dd",
       "value": "<font style='color:#34BC6E'>DONE</font>"
      }
     },
     "59587e432348435a8e31700ddaac5405": {
      "model_module": "@jupyter-widgets/controls",
      "model_module_version": "2.0.0",
      "model_name": "HTMLStyleModel",
      "state": {
       "description_width": "",
       "font_size": null,
       "text_color": null
      }
     },
     "59c179d6c0a749f6809e4c64d2ff69f1": {
      "model_module": "@jupyter-widgets/controls",
      "model_module_version": "2.0.0",
      "model_name": "HTMLModel",
      "state": {
       "layout": "IPY_MODEL_c991a98a238c462d98645570a18f5a0b",
       "style": "IPY_MODEL_60c3fafc2ba9429baadcdd478102032d",
       "value": "cmebadh4z12g008ndbp0"
      }
     },
     "59d19aed5fd747cfb10fa92d7459970e": {
      "model_module": "@jupyter-widgets/controls",
      "model_module_version": "2.0.0",
      "model_name": "HTMLStyleModel",
      "state": {
       "description_width": "",
       "font_size": null,
       "text_color": null
      }
     },
     "59d444d51c5d41f2912116aa09b62395": {
      "model_module": "@jupyter-widgets/controls",
      "model_module_version": "2.0.0",
      "model_name": "HTMLStyleModel",
      "state": {
       "description_width": "",
       "font_size": null,
       "text_color": null
      }
     },
     "5a150ce8f3874712851ace0a916c4ecb": {
      "model_module": "@jupyter-widgets/controls",
      "model_module_version": "2.0.0",
      "model_name": "HTMLStyleModel",
      "state": {
       "description_width": "",
       "font_size": null,
       "text_color": null
      }
     },
     "5a7a7dc98e5b457a80f0642076cc8667": {
      "model_module": "@jupyter-widgets/controls",
      "model_module_version": "2.0.0",
      "model_name": "HTMLStyleModel",
      "state": {
       "description_width": "",
       "font_size": null,
       "text_color": null
      }
     },
     "5a88adc6fc5b4811b55b9d5274a110d1": {
      "model_module": "@jupyter-widgets/controls",
      "model_module_version": "2.0.0",
      "model_name": "HTMLStyleModel",
      "state": {
       "description_width": "",
       "font_size": null,
       "text_color": null
      }
     },
     "5a8d095721744560afaf16f4b83a182e": {
      "model_module": "@jupyter-widgets/controls",
      "model_module_version": "2.0.0",
      "model_name": "HTMLModel",
      "state": {
       "layout": "IPY_MODEL_29425f3f823b418497acdbdc5426cefc",
       "style": "IPY_MODEL_c67ea096394849b39aed879c318606aa",
       "value": "ibm_nairobi"
      }
     },
     "5af29a59b4754348b8d10bfbfae89e91": {
      "model_module": "@jupyter-widgets/controls",
      "model_module_version": "2.0.0",
      "model_name": "HTMLModel",
      "state": {
       "layout": "IPY_MODEL_18e60a4a2e2144a4a292418a791ec0c9",
       "style": "IPY_MODEL_237acc721081404e87bd5dbb8be1d888",
       "value": "<font style='color:#34BC6E'>DONE</font>"
      }
     },
     "5afb6d0c190e4cde82a8e8219af58acd": {
      "model_module": "@jupyter-widgets/controls",
      "model_module_version": "2.0.0",
      "model_name": "HTMLStyleModel",
      "state": {
       "description_width": "",
       "font_size": null,
       "text_color": null
      }
     },
     "5b0395bd996e4c53931ec86b45247813": {
      "model_module": "@jupyter-widgets/base",
      "model_module_version": "2.0.0",
      "model_name": "LayoutModel",
      "state": {
       "width": "145px"
      }
     },
     "5b248f9b8d4d4d5dabb4e86ef0426cbf": {
      "model_module": "@jupyter-widgets/controls",
      "model_module_version": "2.0.0",
      "model_name": "ButtonStyleModel",
      "state": {
       "button_color": "white",
       "font_family": null,
       "font_size": null,
       "font_style": null,
       "font_variant": null,
       "font_weight": null,
       "text_color": null,
       "text_decoration": null
      }
     },
     "5b2b9f14482643519b90fec144416c82": {
      "model_module": "@jupyter-widgets/base",
      "model_module_version": "2.0.0",
      "model_name": "LayoutModel",
      "state": {
       "max_width": "700px",
       "min_width": "700px"
      }
     },
     "5b3cd84abdf04ae3bc2acce0e90b2feb": {
      "model_module": "@jupyter-widgets/controls",
      "model_module_version": "2.0.0",
      "model_name": "HTMLStyleModel",
      "state": {
       "description_width": "",
       "font_size": null,
       "text_color": null
      }
     },
     "5b6e550f4692421cb4a369c3c8ab411a": {
      "model_module": "@jupyter-widgets/controls",
      "model_module_version": "2.0.0",
      "model_name": "HTMLModel",
      "state": {
       "layout": "IPY_MODEL_396089acb2604f37adef7fd7e84240e5",
       "style": "IPY_MODEL_a66f30ed9d7f40ad9a8b1603b86deb2b",
       "value": "cmebcchwq3k0008t00x0"
      }
     },
     "5b8cbd3192a54ce299b32ff0e23e4961": {
      "model_module": "@jupyter-widgets/controls",
      "model_module_version": "2.0.0",
      "model_name": "ButtonStyleModel",
      "state": {
       "button_color": "white",
       "font_family": null,
       "font_size": null,
       "font_style": null,
       "font_variant": null,
       "font_weight": null,
       "text_color": null,
       "text_decoration": null
      }
     },
     "5b9d530386264be3a7fa97196ec5d056": {
      "model_module": "@jupyter-widgets/controls",
      "model_module_version": "2.0.0",
      "model_name": "HTMLStyleModel",
      "state": {
       "description_width": "",
       "font_size": null,
       "text_color": null
      }
     },
     "5bee713a091a4ae4916ee0638442ea97": {
      "model_module": "@jupyter-widgets/base",
      "model_module_version": "2.0.0",
      "model_name": "LayoutModel",
      "state": {
       "width": "145px"
      }
     },
     "5bfaf5d6fdda4385a89d03619a02ee60": {
      "model_module": "@jupyter-widgets/base",
      "model_module_version": "2.0.0",
      "model_name": "LayoutModel",
      "state": {
       "margin": "0px 5px 0px 0px",
       "width": "32px"
      }
     },
     "5ca019a02b3c4e4c91e579c68a26aa18": {
      "model_module": "@jupyter-widgets/controls",
      "model_module_version": "2.0.0",
      "model_name": "HBoxModel",
      "state": {
       "children": [
        "IPY_MODEL_81d275dac2674248837cc67684c0c276",
        "IPY_MODEL_31aff5e9c3d1493cac7b2c45f7fb158a",
        "IPY_MODEL_e88671454254474c9882ae498b687909",
        "IPY_MODEL_f7634f5369a94dddb3b266e8fb256f59",
        "IPY_MODEL_b04289a3be5a47efac6c964d1446b8d6",
        "IPY_MODEL_046daf823c1f405bafa25d5b8a56a4a5"
       ],
       "layout": "IPY_MODEL_5b2b9f14482643519b90fec144416c82"
      }
     },
     "5cf2f3a25d0e49b588b1c7898681b46e": {
      "model_module": "@jupyter-widgets/base",
      "model_module_version": "2.0.0",
      "model_name": "LayoutModel",
      "state": {
       "width": "145px"
      }
     },
     "5d29e1a188354a8dae8e1297c48c7f54": {
      "model_module": "@jupyter-widgets/controls",
      "model_module_version": "2.0.0",
      "model_name": "ButtonStyleModel",
      "state": {
       "button_color": "white",
       "font_family": null,
       "font_size": null,
       "font_style": null,
       "font_variant": null,
       "font_weight": null,
       "text_color": null,
       "text_decoration": null
      }
     },
     "5d58c620b7b04f188a0ad6c6ba5d8882": {
      "model_module": "@jupyter-widgets/controls",
      "model_module_version": "2.0.0",
      "model_name": "HTMLModel",
      "state": {
       "layout": "IPY_MODEL_784d5cc2826e472b86012014f7610fe7",
       "style": "IPY_MODEL_a9c79da77998440395b6f9f717686d97",
       "value": "<font style='color:#34BC6E'>DONE</font>"
      }
     },
     "5e2e302591da4aee97a6d913552a0ba7": {
      "model_module": "@jupyter-widgets/base",
      "model_module_version": "2.0.0",
      "model_name": "LayoutModel",
      "state": {
       "margin": "0px 5px 0px 0px",
       "width": "32px"
      }
     },
     "5e5e2e68b74d4e2fa9ac10f96b68e166": {
      "model_module": "@jupyter-widgets/controls",
      "model_module_version": "2.0.0",
      "model_name": "HTMLModel",
      "state": {
       "layout": "IPY_MODEL_771eba97afe8468ea7335017767044d9",
       "style": "IPY_MODEL_06149076c7b54a4c8084703068e7cda0",
       "value": "job has successfully run"
      }
     },
     "5e6c6f88f55d4982b8dac4ee7ba9c102": {
      "model_module": "@jupyter-widgets/controls",
      "model_module_version": "2.0.0",
      "model_name": "HBoxModel",
      "state": {
       "children": [
        "IPY_MODEL_a77267ea7db84d12ae69266da45dc793",
        "IPY_MODEL_dd581dbd1a4b4d71a989fff855e2cf39",
        "IPY_MODEL_2bf8701952d542099799910343a6f29e",
        "IPY_MODEL_010b8fdad5c4489eb49e02b10147ee93",
        "IPY_MODEL_4fd55948c0b64ce487437f1deca5f043",
        "IPY_MODEL_7873ee355b6a4b0fbbc6f7a62c0c814c"
       ],
       "layout": "IPY_MODEL_c7a2f4551ecd4164bae0c21c7e36edfc"
      }
     },
     "5e7c42dc7bd84defad730f2841dc8d86": {
      "model_module": "@jupyter-widgets/controls",
      "model_module_version": "2.0.0",
      "model_name": "HTMLModel",
      "state": {
       "layout": "IPY_MODEL_3d6d7ab5aaba41eabfa25e2981fd912d",
       "style": "IPY_MODEL_ed27c1fa743f447cb4d05043cc3be3b5",
       "value": "cmeaz4c4z12g008ndbeg"
      }
     },
     "5e83fb3434dd4537bb99e545ba5fc5e4": {
      "model_module": "@jupyter-widgets/controls",
      "model_module_version": "2.0.0",
      "model_name": "ButtonStyleModel",
      "state": {
       "button_color": "white",
       "font_family": null,
       "font_size": null,
       "font_style": null,
       "font_variant": null,
       "font_weight": null,
       "text_color": null,
       "text_decoration": null
      }
     },
     "5e980e054a7746b393796582a0212d1f": {
      "model_module": "@jupyter-widgets/base",
      "model_module_version": "2.0.0",
      "model_name": "LayoutModel",
      "state": {}
     },
     "5eaf623734a54af698b964fa4af30034": {
      "model_module": "@jupyter-widgets/controls",
      "model_module_version": "2.0.0",
      "model_name": "ButtonModel",
      "state": {
       "icon": "close",
       "layout": "IPY_MODEL_f08d0483862f4d0488ff4871ee91e283",
       "style": "IPY_MODEL_d9d30daf95c54c04997f75484ab4a9cc",
       "tooltip": null
      }
     },
     "5ebafc90225745638136b684250e22f7": {
      "model_module": "@jupyter-widgets/controls",
      "model_module_version": "2.0.0",
      "model_name": "HTMLStyleModel",
      "state": {
       "description_width": "",
       "font_size": null,
       "text_color": null
      }
     },
     "5edceba1aac84d30a298d494e15913a5": {
      "model_module": "@jupyter-widgets/base",
      "model_module_version": "2.0.0",
      "model_name": "LayoutModel",
      "state": {
       "width": "70px"
      }
     },
     "5f055f5444c44c399d48b2bf190a07cc": {
      "model_module": "@jupyter-widgets/controls",
      "model_module_version": "2.0.0",
      "model_name": "HTMLModel",
      "state": {
       "layout": "IPY_MODEL_e3cb5572bbf244ac88dc74b109e1728e",
       "style": "IPY_MODEL_01179085c8be4cb78240ba46fa0bd6bc",
       "value": "cmeb9hywq3k0008t00sg"
      }
     },
     "5f065e3de94741199b4c875e0caa93be": {
      "model_module": "@jupyter-widgets/controls",
      "model_module_version": "2.0.0",
      "model_name": "HTMLStyleModel",
      "state": {
       "description_width": "",
       "font_size": null,
       "text_color": null
      }
     },
     "5fdd4b4c324744f592374290843b68c4": {
      "model_module": "@jupyter-widgets/controls",
      "model_module_version": "2.0.0",
      "model_name": "HTMLStyleModel",
      "state": {
       "description_width": "",
       "font_size": null,
       "text_color": null
      }
     },
     "5fdd8e36943c49fda03c4871fee9f419": {
      "model_module": "@jupyter-widgets/controls",
      "model_module_version": "2.0.0",
      "model_name": "HTMLStyleModel",
      "state": {
       "description_width": "",
       "font_size": null,
       "text_color": null
      }
     },
     "5feeb48a716d4751877c1d5741c1920f": {
      "model_module": "@jupyter-widgets/controls",
      "model_module_version": "2.0.0",
      "model_name": "HTMLStyleModel",
      "state": {
       "description_width": "",
       "font_size": null,
       "text_color": null
      }
     },
     "6022fa9e8d0c458da69acc43c446532d": {
      "model_module": "@jupyter-widgets/base",
      "model_module_version": "2.0.0",
      "model_name": "LayoutModel",
      "state": {
       "width": "190px"
      }
     },
     "6038259223f74cfdae288ef179bc28e3": {
      "model_module": "@jupyter-widgets/controls",
      "model_module_version": "2.0.0",
      "model_name": "HBoxModel",
      "state": {
       "children": [
        "IPY_MODEL_14a8802b0a5a418fb10476c92d8a8a63",
        "IPY_MODEL_73212f09c9334d0bb000d480390f8901",
        "IPY_MODEL_288a5eac268b4d6eb4221364cf651375",
        "IPY_MODEL_3d504fb53f894573b4510c7a4c562f01",
        "IPY_MODEL_a1f035500ef44cbda9bbc2e05f0fbca6",
        "IPY_MODEL_3128dac507a248bc86e059846b095536"
       ],
       "layout": "IPY_MODEL_d94c6ed2623243e8bf9bf5d303c2cecf"
      }
     },
     "604d8193aa7c472292970f0bdedbc79e": {
      "model_module": "@jupyter-widgets/controls",
      "model_module_version": "2.0.0",
      "model_name": "HTMLModel",
      "state": {
       "layout": "IPY_MODEL_1207f46d8e2345d98be7942ea017cd34",
       "style": "IPY_MODEL_7f9460b4aaa440dbb1780e6d6c626e86",
       "value": "job has successfully run"
      }
     },
     "607a76d57efb43f39c1cdacd80fd535e": {
      "model_module": "@jupyter-widgets/controls",
      "model_module_version": "2.0.0",
      "model_name": "HBoxModel",
      "state": {
       "children": [
        "IPY_MODEL_88235a5f1b3f4e5681ee8c995a745ddd",
        "IPY_MODEL_7e2e6723e60b4858a3a3a976b7f75cc5",
        "IPY_MODEL_33d2e9cdbfe7477ba33e7f883425148a",
        "IPY_MODEL_1942cb9bd4df4cd88f3adf1d8d120745",
        "IPY_MODEL_f807e0751bb240c4beb9cd54fce8ea0e",
        "IPY_MODEL_4806eb99a1cd48809551dd8822ddb00f"
       ],
       "layout": "IPY_MODEL_3a29fea5cc8b4388aa56f5230111fcbb"
      }
     },
     "60c3fafc2ba9429baadcdd478102032d": {
      "model_module": "@jupyter-widgets/controls",
      "model_module_version": "2.0.0",
      "model_name": "HTMLStyleModel",
      "state": {
       "description_width": "",
       "font_size": null,
       "text_color": null
      }
     },
     "60f71ced69604ab79b19cc8709ccc778": {
      "model_module": "@jupyter-widgets/base",
      "model_module_version": "2.0.0",
      "model_name": "LayoutModel",
      "state": {
       "max_width": "700px",
       "min_width": "700px"
      }
     },
     "615bcdb69a96490790dcd7916eaed62a": {
      "model_module": "@jupyter-widgets/controls",
      "model_module_version": "2.0.0",
      "model_name": "HTMLModel",
      "state": {
       "layout": "IPY_MODEL_9dc803b497fc4aefb926572748b0a285",
       "style": "IPY_MODEL_a1c6fcda71854b5ab0bb1a2c2fcb41e7",
       "value": "job has successfully run"
      }
     },
     "61862e86ac7544b395b94870a4e8ccaf": {
      "model_module": "@jupyter-widgets/controls",
      "model_module_version": "2.0.0",
      "model_name": "HTMLModel",
      "state": {
       "layout": "IPY_MODEL_805e3d3b80e743409466739f66af4abc",
       "style": "IPY_MODEL_fc387dfcd48d4daf84bb635b784490f5",
       "value": "job has successfully run"
      }
     },
     "61f227e3dca0450db29873a9a3ad28a8": {
      "model_module": "@jupyter-widgets/controls",
      "model_module_version": "2.0.0",
      "model_name": "HTMLStyleModel",
      "state": {
       "description_width": "",
       "font_size": null,
       "text_color": null
      }
     },
     "624f1e5a6deb45b0b1581be98619bef7": {
      "model_module": "@jupyter-widgets/controls",
      "model_module_version": "2.0.0",
      "model_name": "HTMLModel",
      "state": {
       "layout": "IPY_MODEL_8b13d29f97c846c089bd758a4b05bfa7",
       "style": "IPY_MODEL_662f99d1820046118be52670c8cf4dfa",
       "value": "-"
      }
     },
     "626483f976ed42cd933b977e0942c961": {
      "model_module": "@jupyter-widgets/base",
      "model_module_version": "2.0.0",
      "model_name": "LayoutModel",
      "state": {
       "max_width": "700px",
       "min_width": "700px"
      }
     },
     "62dad1f097ea4762b580bfa0dbac7456": {
      "model_module": "@jupyter-widgets/controls",
      "model_module_version": "2.0.0",
      "model_name": "HTMLStyleModel",
      "state": {
       "description_width": "",
       "font_size": null,
       "text_color": null
      }
     },
     "640f34fb45a94390a073f8189c5b15fa": {
      "model_module": "@jupyter-widgets/base",
      "model_module_version": "2.0.0",
      "model_name": "LayoutModel",
      "state": {
       "margin": "0px 5px 0px 0px",
       "width": "32px"
      }
     },
     "6411bdffab1a4d28ac5413b836f747af": {
      "model_module": "@jupyter-widgets/controls",
      "model_module_version": "2.0.0",
      "model_name": "ButtonStyleModel",
      "state": {
       "button_color": "white",
       "font_family": null,
       "font_size": null,
       "font_style": null,
       "font_variant": null,
       "font_weight": null,
       "text_color": null,
       "text_decoration": null
      }
     },
     "645191955f364baaa3737b3793087724": {
      "model_module": "@jupyter-widgets/controls",
      "model_module_version": "2.0.0",
      "model_name": "HTMLModel",
      "state": {
       "layout": "IPY_MODEL_4b71b056f543464dae2f8f09a593cf52",
       "style": "IPY_MODEL_5239ed4f11cf41b8bc415b89e03d322e",
       "value": "<font style='color:#34BC6E'>DONE</font>"
      }
     },
     "647255f94dbf4c0eb10c77d8285324f6": {
      "model_module": "@jupyter-widgets/controls",
      "model_module_version": "2.0.0",
      "model_name": "HTMLModel",
      "state": {
       "layout": "IPY_MODEL_272bbee310b340a3bf495a6a99766e5b",
       "style": "IPY_MODEL_79251797b21b4e9d830c6918369ddcd4",
       "value": "-"
      }
     },
     "647a6f7395c04a389fdd40ae5aafab78": {
      "model_module": "@jupyter-widgets/controls",
      "model_module_version": "2.0.0",
      "model_name": "ButtonStyleModel",
      "state": {
       "button_color": "white",
       "font_family": null,
       "font_size": null,
       "font_style": null,
       "font_variant": null,
       "font_weight": null,
       "text_color": null,
       "text_decoration": null
      }
     },
     "64bf470686d9416a9764c274b15eccf4": {
      "model_module": "@jupyter-widgets/controls",
      "model_module_version": "2.0.0",
      "model_name": "HTMLModel",
      "state": {
       "layout": "IPY_MODEL_b558dfff76474ff1904c1f5e1e89354f",
       "style": "IPY_MODEL_5fdd4b4c324744f592374290843b68c4",
       "value": "<font style='color:#34BC6E'>DONE</font>"
      }
     },
     "6531b36dfb704015a3bd3bc5afb9f5dc": {
      "model_module": "@jupyter-widgets/base",
      "model_module_version": "2.0.0",
      "model_name": "LayoutModel",
      "state": {
       "max_width": "700px",
       "min_width": "700px"
      }
     },
     "65cdc1a11db548b2888229e132329303": {
      "model_module": "@jupyter-widgets/controls",
      "model_module_version": "2.0.0",
      "model_name": "HTMLStyleModel",
      "state": {
       "description_width": "",
       "font_size": null,
       "text_color": null
      }
     },
     "65d8cdda1d8448d2a5315a963e5f1b67": {
      "model_module": "@jupyter-widgets/controls",
      "model_module_version": "2.0.0",
      "model_name": "HTMLModel",
      "state": {
       "layout": "IPY_MODEL_66e440cfd94b4947a816cd99e9b936d2",
       "style": "IPY_MODEL_579aa9dade2146768f16a8203d763448",
       "value": "<font style='color:#34BC6E'>DONE</font>"
      }
     },
     "65f553313f444908b7937e524ed62219": {
      "model_module": "@jupyter-widgets/base",
      "model_module_version": "2.0.0",
      "model_name": "LayoutModel",
      "state": {
       "width": "95px"
      }
     },
     "66281fe0c8214fae84393cab536650af": {
      "model_module": "@jupyter-widgets/base",
      "model_module_version": "2.0.0",
      "model_name": "LayoutModel",
      "state": {}
     },
     "662f99d1820046118be52670c8cf4dfa": {
      "model_module": "@jupyter-widgets/controls",
      "model_module_version": "2.0.0",
      "model_name": "HTMLStyleModel",
      "state": {
       "description_width": "",
       "font_size": null,
       "text_color": null
      }
     },
     "6694a243648a4997918781462a61c941": {
      "model_module": "@jupyter-widgets/controls",
      "model_module_version": "2.0.0",
      "model_name": "HTMLModel",
      "state": {
       "layout": "IPY_MODEL_89442973ea6c46f288a3e2f5960b42b7",
       "style": "IPY_MODEL_f8f54441f395435eaa9f91aa02d798b6",
       "value": "cmebbanzjkb0008crvwg"
      }
     },
     "66acbccf59da4e73838bdd9d04d81a1f": {
      "model_module": "@jupyter-widgets/controls",
      "model_module_version": "2.0.0",
      "model_name": "HTMLModel",
      "state": {
       "layout": "IPY_MODEL_ff72f40e09ee49e7b89ce9bde3452003",
       "style": "IPY_MODEL_ad9c1d44bc474d1bb6b3f7af27cf6306",
       "value": "ibm_nairobi"
      }
     },
     "66b3ea9eb3bb48218b935d81080738ad": {
      "model_module": "@jupyter-widgets/base",
      "model_module_version": "2.0.0",
      "model_name": "LayoutModel",
      "state": {
       "max_width": "700px",
       "min_width": "700px"
      }
     },
     "66e440cfd94b4947a816cd99e9b936d2": {
      "model_module": "@jupyter-widgets/base",
      "model_module_version": "2.0.0",
      "model_name": "LayoutModel",
      "state": {
       "width": "95px"
      }
     },
     "676f3e7b4374420a88d833ce32b4e065": {
      "model_module": "@jupyter-widgets/controls",
      "model_module_version": "2.0.0",
      "model_name": "ButtonStyleModel",
      "state": {
       "button_color": "white",
       "font_family": null,
       "font_size": null,
       "font_style": null,
       "font_variant": null,
       "font_weight": null,
       "text_color": null,
       "text_decoration": null
      }
     },
     "67c0f76deb4e4040b210ef0a8de4a1b2": {
      "model_module": "@jupyter-widgets/base",
      "model_module_version": "2.0.0",
      "model_name": "LayoutModel",
      "state": {
       "max_width": "700px",
       "min_width": "700px"
      }
     },
     "68120f5abaa44127b2b8e7bb78dab72a": {
      "model_module": "@jupyter-widgets/controls",
      "model_module_version": "2.0.0",
      "model_name": "HTMLModel",
      "state": {
       "layout": "IPY_MODEL_3397df464a0542fdb4022939978e6bf8",
       "style": "IPY_MODEL_2a62f7436e45415caaefb7fb327cdd81",
       "value": "cmebcx3wcht0008ybgd0"
      }
     },
     "686c5a17f1094a8eb41fafbf537d443e": {
      "model_module": "@jupyter-widgets/base",
      "model_module_version": "2.0.0",
      "model_name": "LayoutModel",
      "state": {
       "width": "145px"
      }
     },
     "6884dd6fa571434f964822f5861a62da": {
      "model_module": "@jupyter-widgets/base",
      "model_module_version": "2.0.0",
      "model_name": "LayoutModel",
      "state": {}
     },
     "688530af841e4174aad8116b68f60dc8": {
      "model_module": "@jupyter-widgets/controls",
      "model_module_version": "2.0.0",
      "model_name": "HTMLModel",
      "state": {
       "layout": "IPY_MODEL_351840bb426a472faf8a63b1f572cbe4",
       "style": "IPY_MODEL_171192a6fa7a43e2bfb8330052f67a5f",
       "value": "ibm_nairobi"
      }
     },
     "6978cff115b84b2fa17f7deddd3a9d76": {
      "model_module": "@jupyter-widgets/base",
      "model_module_version": "2.0.0",
      "model_name": "LayoutModel",
      "state": {
       "margin": "0px 5px 0px 0px",
       "width": "32px"
      }
     },
     "69d047a9773b448d9fc989ffc5832342": {
      "model_module": "@jupyter-widgets/controls",
      "model_module_version": "2.0.0",
      "model_name": "HTMLStyleModel",
      "state": {
       "description_width": "",
       "font_size": null,
       "text_color": null
      }
     },
     "6a72e75c1fd24ab596ff64cb6c184ce3": {
      "model_module": "@jupyter-widgets/controls",
      "model_module_version": "2.0.0",
      "model_name": "ButtonModel",
      "state": {
       "icon": "close",
       "layout": "IPY_MODEL_7845f2152cdc40b38c560e43fbc71f2f",
       "style": "IPY_MODEL_776f2145399e40afa742419c6f9a78da",
       "tooltip": null
      }
     },
     "6a732b3744d6466ba6bf570b69158e75": {
      "model_module": "@jupyter-widgets/controls",
      "model_module_version": "2.0.0",
      "model_name": "HTMLModel",
      "state": {
       "layout": "IPY_MODEL_d00f99f2adaa4badb8ba6426cf425288",
       "style": "IPY_MODEL_61f227e3dca0450db29873a9a3ad28a8",
       "value": "job has successfully run"
      }
     },
     "6b09df3cabe64da29dfb961c86b35f02": {
      "model_module": "@jupyter-widgets/controls",
      "model_module_version": "2.0.0",
      "model_name": "HTMLModel",
      "state": {
       "layout": "IPY_MODEL_3514543f606448e4b953b69607b1e152",
       "style": "IPY_MODEL_9e910d7e69de48ca923f391183d94d97",
       "value": "cmeba2ry4c00008hykb0"
      }
     },
     "6b76e42a83ec45fb8d9ebcc5aaa00524": {
      "model_module": "@jupyter-widgets/controls",
      "model_module_version": "2.0.0",
      "model_name": "ButtonModel",
      "state": {
       "icon": "close",
       "layout": "IPY_MODEL_76e6dec6022341f0b5d0281f452a69db",
       "style": "IPY_MODEL_9c13b7f108374a2f9beb7a0e79efd8ed",
       "tooltip": null
      }
     },
     "6b7e936cce7d46f1839b0d9f372427a7": {
      "model_module": "@jupyter-widgets/controls",
      "model_module_version": "2.0.0",
      "model_name": "ButtonStyleModel",
      "state": {
       "button_color": "white",
       "font_family": null,
       "font_size": null,
       "font_style": null,
       "font_variant": null,
       "font_weight": null,
       "text_color": null,
       "text_decoration": null
      }
     },
     "6b89c468e6cb492696ab95227894868f": {
      "model_module": "@jupyter-widgets/base",
      "model_module_version": "2.0.0",
      "model_name": "LayoutModel",
      "state": {}
     },
     "6bcefee3cb554156a6737d644576181e": {
      "model_module": "@jupyter-widgets/controls",
      "model_module_version": "2.0.0",
      "model_name": "HTMLStyleModel",
      "state": {
       "description_width": "",
       "font_size": null,
       "text_color": null
      }
     },
     "6bf01da05f6f4761be4f73c90868711a": {
      "model_module": "@jupyter-widgets/controls",
      "model_module_version": "2.0.0",
      "model_name": "HTMLModel",
      "state": {
       "layout": "IPY_MODEL_18e98b9bed884b82b723d37e6f533f00",
       "style": "IPY_MODEL_c6cf20ef39c141e8b89b0f1cfadaeaee",
       "value": "-"
      }
     },
     "6bf40ad70c054a2c8c4f34a0c3077ba1": {
      "model_module": "@jupyter-widgets/base",
      "model_module_version": "2.0.0",
      "model_name": "LayoutModel",
      "state": {
       "width": "145px"
      }
     },
     "6c0b2d0a81ec4f3a9a852db93ee39919": {
      "model_module": "@jupyter-widgets/controls",
      "model_module_version": "2.0.0",
      "model_name": "HTMLModel",
      "state": {
       "layout": "IPY_MODEL_b84fa4dbbe344c02b165762201cd0026",
       "style": "IPY_MODEL_0df04f15d4374e5f871c81d8f16c320b",
       "value": "ibm_nairobi"
      }
     },
     "6d034ba119634454b976cbe8ba6630e9": {
      "model_module": "@jupyter-widgets/controls",
      "model_module_version": "2.0.0",
      "model_name": "HTMLModel",
      "state": {
       "layout": "IPY_MODEL_b4262a06e0e9421c9ac48ea745afa38c",
       "style": "IPY_MODEL_224085c3f2fb49ddad184310cdc7d709",
       "value": "<font style='color:#34BC6E'>DONE</font>"
      }
     },
     "6ddd6f50383b4eafbf67d2549d529c90": {
      "model_module": "@jupyter-widgets/controls",
      "model_module_version": "2.0.0",
      "model_name": "HTMLModel",
      "state": {
       "layout": "IPY_MODEL_217f1e28b5154f42b780a04c19ab783d",
       "style": "IPY_MODEL_7cfa1008a03549758d9815415eef8f7d",
       "value": "job has successfully run"
      }
     },
     "6e17024917824b90b6fbe2b08bebb592": {
      "model_module": "@jupyter-widgets/base",
      "model_module_version": "2.0.0",
      "model_name": "LayoutModel",
      "state": {
       "width": "95px"
      }
     },
     "6e2f8ba2e7694441aff0a9a966c55878": {
      "model_module": "@jupyter-widgets/base",
      "model_module_version": "2.0.0",
      "model_name": "LayoutModel",
      "state": {
       "width": "95px"
      }
     },
     "6e511120f5424c9f8b04fc2a87f7aeb7": {
      "model_module": "@jupyter-widgets/base",
      "model_module_version": "2.0.0",
      "model_name": "LayoutModel",
      "state": {
       "max_width": "700px",
       "min_width": "700px"
      }
     },
     "6e88e81394404a739e3b7c7dd6a84489": {
      "model_module": "@jupyter-widgets/controls",
      "model_module_version": "2.0.0",
      "model_name": "HTMLStyleModel",
      "state": {
       "description_width": "",
       "font_size": null,
       "text_color": null
      }
     },
     "6ed3ee9b66104c94aa909351a2ecfaf9": {
      "model_module": "@jupyter-widgets/controls",
      "model_module_version": "2.0.0",
      "model_name": "HTMLStyleModel",
      "state": {
       "description_width": "",
       "font_size": null,
       "text_color": null
      }
     },
     "6f089ef7ecbf4136938f3b1ebb6dcd2c": {
      "model_module": "@jupyter-widgets/base",
      "model_module_version": "2.0.0",
      "model_name": "LayoutModel",
      "state": {
       "width": "70px"
      }
     },
     "6f9ed722905544c0acd930e9cb61e50a": {
      "model_module": "@jupyter-widgets/controls",
      "model_module_version": "2.0.0",
      "model_name": "ButtonStyleModel",
      "state": {
       "button_color": "white",
       "font_family": null,
       "font_size": null,
       "font_style": null,
       "font_variant": null,
       "font_weight": null,
       "text_color": null,
       "text_decoration": null
      }
     },
     "6fec92bd1f04482e946c390f9cbd5190": {
      "model_module": "@jupyter-widgets/controls",
      "model_module_version": "2.0.0",
      "model_name": "HTMLModel",
      "state": {
       "layout": "IPY_MODEL_8ebc100ff44f408bad4d8d00e6479a52",
       "style": "IPY_MODEL_9cc939f7a8c8468fa33592b48ff74feb",
       "value": "job has successfully run"
      }
     },
     "6fffe933eff24719a0b0b4eb593ecc6c": {
      "model_module": "@jupyter-widgets/controls",
      "model_module_version": "2.0.0",
      "model_name": "ButtonStyleModel",
      "state": {
       "button_color": "white",
       "font_family": null,
       "font_size": null,
       "font_style": null,
       "font_variant": null,
       "font_weight": null,
       "text_color": null,
       "text_decoration": null
      }
     },
     "70c459da9b92453fa3b97ceda96ef917": {
      "model_module": "@jupyter-widgets/controls",
      "model_module_version": "2.0.0",
      "model_name": "HTMLStyleModel",
      "state": {
       "description_width": "",
       "font_size": null,
       "text_color": null
      }
     },
     "7101d8fb060744f58b5d672603fad93d": {
      "model_module": "@jupyter-widgets/controls",
      "model_module_version": "2.0.0",
      "model_name": "HTMLModel",
      "state": {
       "layout": "IPY_MODEL_0a437809fe6f4016a020c536b12a05a0",
       "style": "IPY_MODEL_4e4978f7310a4465b47b2acc090fa544",
       "value": "-"
      }
     },
     "71d7145fa3254bccbaba607f664266e9": {
      "model_module": "@jupyter-widgets/base",
      "model_module_version": "2.0.0",
      "model_name": "LayoutModel",
      "state": {}
     },
     "729c68ced1ca4e699a1c9b950eb0dfb5": {
      "model_module": "@jupyter-widgets/base",
      "model_module_version": "2.0.0",
      "model_name": "LayoutModel",
      "state": {
       "margin": "0px 5px 0px 0px",
       "width": "32px"
      }
     },
     "72b7bccd5bdc4dc5b1009c9a29e49fd4": {
      "model_module": "@jupyter-widgets/controls",
      "model_module_version": "2.0.0",
      "model_name": "HTMLModel",
      "state": {
       "layout": "IPY_MODEL_58cb029977cc41b2b246ee9def03c2bc",
       "style": "IPY_MODEL_c0a6ef8d9cc742508bb8dedacb67aff4",
       "value": "-"
      }
     },
     "72cef84d0c1b4f1d8055af4422f114dc": {
      "model_module": "@jupyter-widgets/controls",
      "model_module_version": "2.0.0",
      "model_name": "HTMLModel",
      "state": {
       "layout": "IPY_MODEL_df19c72004774aee93bb9c01d86892b3",
       "style": "IPY_MODEL_59587e432348435a8e31700ddaac5405",
       "value": "ibm_nairobi"
      }
     },
     "72f1280bc95f4af5b151efcf0227b85c": {
      "model_module": "@jupyter-widgets/controls",
      "model_module_version": "2.0.0",
      "model_name": "HTMLModel",
      "state": {
       "layout": "IPY_MODEL_a699c90bf520418a849a8c7691bc4f57",
       "style": "IPY_MODEL_acf951f6a4f74f28b0deef378574aadf",
       "value": "ibm_nairobi"
      }
     },
     "73212f09c9334d0bb000d480390f8901": {
      "model_module": "@jupyter-widgets/controls",
      "model_module_version": "2.0.0",
      "model_name": "HTMLModel",
      "state": {
       "layout": "IPY_MODEL_17e977b36d5e4570b29749cfc0e394f7",
       "style": "IPY_MODEL_9506d80a6896458d824559063735864c",
       "value": "cmebdp6zjkb0008crw2g"
      }
     },
     "73c7bc35419d41458fd1596dc0b5fc89": {
      "model_module": "@jupyter-widgets/controls",
      "model_module_version": "2.0.0",
      "model_name": "HTMLModel",
      "state": {
       "layout": "IPY_MODEL_cc299f5880e94b93b6346e2cb4de5ea1",
       "style": "IPY_MODEL_33e1c9f6b5ae40939573b742b90aeebf",
       "value": "job has successfully run"
      }
     },
     "742c5029160f438ca9ba46cbf2479c44": {
      "model_module": "@jupyter-widgets/base",
      "model_module_version": "2.0.0",
      "model_name": "LayoutModel",
      "state": {
       "width": "145px"
      }
     },
     "746762d4beac4faeaf27da80495afb6c": {
      "model_module": "@jupyter-widgets/base",
      "model_module_version": "2.0.0",
      "model_name": "LayoutModel",
      "state": {
       "width": "95px"
      }
     },
     "749430e952f949ef9457c71869b76559": {
      "model_module": "@jupyter-widgets/controls",
      "model_module_version": "2.0.0",
      "model_name": "HTMLStyleModel",
      "state": {
       "description_width": "",
       "font_size": null,
       "text_color": null
      }
     },
     "7547ef8a9d2247b59347c2fec3738692": {
      "model_module": "@jupyter-widgets/controls",
      "model_module_version": "2.0.0",
      "model_name": "HTMLStyleModel",
      "state": {
       "description_width": "",
       "font_size": null,
       "text_color": null
      }
     },
     "759adc7dba12476981718e1671338ae9": {
      "model_module": "@jupyter-widgets/controls",
      "model_module_version": "2.0.0",
      "model_name": "HTMLStyleModel",
      "state": {
       "description_width": "",
       "font_size": null,
       "text_color": null
      }
     },
     "75c4aff24b3f47d5919bf9797da75a04": {
      "model_module": "@jupyter-widgets/controls",
      "model_module_version": "2.0.0",
      "model_name": "HTMLModel",
      "state": {
       "layout": "IPY_MODEL_f2840c18c02f4bb89cf4559d718f9c7e",
       "style": "IPY_MODEL_6ed3ee9b66104c94aa909351a2ecfaf9",
       "value": "-"
      }
     },
     "75cb0ce1a9bd44798e58e7dd41930c57": {
      "model_module": "@jupyter-widgets/controls",
      "model_module_version": "2.0.0",
      "model_name": "HTMLStyleModel",
      "state": {
       "description_width": "",
       "font_size": null,
       "text_color": null
      }
     },
     "7601aad853d84a719905c1f8273e7c08": {
      "model_module": "@jupyter-widgets/controls",
      "model_module_version": "2.0.0",
      "model_name": "HTMLModel",
      "state": {
       "layout": "IPY_MODEL_686c5a17f1094a8eb41fafbf537d443e",
       "style": "IPY_MODEL_303715c611784495b5ac024738497c35",
       "value": "ibm_nairobi"
      }
     },
     "76240ceaef6b473bbba01c8aa801cd36": {
      "model_module": "@jupyter-widgets/base",
      "model_module_version": "2.0.0",
      "model_name": "LayoutModel",
      "state": {
       "width": "70px"
      }
     },
     "764d057060844ea58f5f600c71fe314f": {
      "model_module": "@jupyter-widgets/base",
      "model_module_version": "2.0.0",
      "model_name": "LayoutModel",
      "state": {
       "margin": "0px 5px 0px 0px",
       "width": "32px"
      }
     },
     "76a61af12db3485fa92f54a820ab6ef9": {
      "model_module": "@jupyter-widgets/controls",
      "model_module_version": "2.0.0",
      "model_name": "HTMLStyleModel",
      "state": {
       "description_width": "",
       "font_size": null,
       "text_color": null
      }
     },
     "76cc5833642e4e4b8d8bea432b124f82": {
      "model_module": "@jupyter-widgets/controls",
      "model_module_version": "2.0.0",
      "model_name": "HTMLStyleModel",
      "state": {
       "description_width": "",
       "font_size": null,
       "text_color": null
      }
     },
     "76e6dec6022341f0b5d0281f452a69db": {
      "model_module": "@jupyter-widgets/base",
      "model_module_version": "2.0.0",
      "model_name": "LayoutModel",
      "state": {
       "margin": "0px 5px 0px 0px",
       "width": "32px"
      }
     },
     "76fd36b5f5634e8cbee7b116127140f9": {
      "model_module": "@jupyter-widgets/controls",
      "model_module_version": "2.0.0",
      "model_name": "HTMLStyleModel",
      "state": {
       "description_width": "",
       "font_size": null,
       "text_color": null
      }
     },
     "77157866bf2944499df37cd0324bd405": {
      "model_module": "@jupyter-widgets/controls",
      "model_module_version": "2.0.0",
      "model_name": "HTMLStyleModel",
      "state": {
       "description_width": "",
       "font_size": null,
       "text_color": null
      }
     },
     "771eba97afe8468ea7335017767044d9": {
      "model_module": "@jupyter-widgets/base",
      "model_module_version": "2.0.0",
      "model_name": "LayoutModel",
      "state": {}
     },
     "77640ca806cb457d849fd21e7ad396e1": {
      "model_module": "@jupyter-widgets/base",
      "model_module_version": "2.0.0",
      "model_name": "LayoutModel",
      "state": {
       "width": "70px"
      }
     },
     "776f2145399e40afa742419c6f9a78da": {
      "model_module": "@jupyter-widgets/controls",
      "model_module_version": "2.0.0",
      "model_name": "ButtonStyleModel",
      "state": {
       "button_color": "white",
       "font_family": null,
       "font_size": null,
       "font_style": null,
       "font_variant": null,
       "font_weight": null,
       "text_color": null,
       "text_decoration": null
      }
     },
     "782f22b5b14b44cb98e51d46864441c5": {
      "model_module": "@jupyter-widgets/controls",
      "model_module_version": "2.0.0",
      "model_name": "ButtonStyleModel",
      "state": {
       "button_color": "white",
       "font_family": null,
       "font_size": null,
       "font_style": null,
       "font_variant": null,
       "font_weight": null,
       "text_color": null,
       "text_decoration": null
      }
     },
     "7845f2152cdc40b38c560e43fbc71f2f": {
      "model_module": "@jupyter-widgets/base",
      "model_module_version": "2.0.0",
      "model_name": "LayoutModel",
      "state": {
       "margin": "0px 5px 0px 0px",
       "width": "32px"
      }
     },
     "784d5cc2826e472b86012014f7610fe7": {
      "model_module": "@jupyter-widgets/base",
      "model_module_version": "2.0.0",
      "model_name": "LayoutModel",
      "state": {
       "width": "95px"
      }
     },
     "7852971018a248a79b73fd7fe691cc83": {
      "model_module": "@jupyter-widgets/controls",
      "model_module_version": "2.0.0",
      "model_name": "HTMLModel",
      "state": {
       "layout": "IPY_MODEL_c93b21ada4934d52a0197344949f10f8",
       "style": "IPY_MODEL_87f843e250ee481b8215a53acfe7e934",
       "value": "<p style='font-family: IBM Plex Sans, Arial, Helvetica, sans-serif; font-size: 20px; font-weight: medium;'>Circuit Properties</p>"
      }
     },
     "7873ee355b6a4b0fbbc6f7a62c0c814c": {
      "model_module": "@jupyter-widgets/controls",
      "model_module_version": "2.0.0",
      "model_name": "HTMLModel",
      "state": {
       "layout": "IPY_MODEL_66281fe0c8214fae84393cab536650af",
       "style": "IPY_MODEL_84b33bb756ba44f8bae355f83d2caa3c",
       "value": "job has successfully run"
      }
     },
     "788202f58c864d3da25c3def1e065252": {
      "model_module": "@jupyter-widgets/controls",
      "model_module_version": "2.0.0",
      "model_name": "HTMLStyleModel",
      "state": {
       "description_width": "",
       "font_size": null,
       "text_color": null
      }
     },
     "78a0df1e6cbc419fabe899fb7ca76892": {
      "model_module": "@jupyter-widgets/controls",
      "model_module_version": "2.0.0",
      "model_name": "ButtonModel",
      "state": {
       "icon": "close",
       "layout": "IPY_MODEL_df4cd8922fe54d90997f72c6e9e82922",
       "style": "IPY_MODEL_19bc9e5dfa7a4adabeccce837c1afddb",
       "tooltip": null
      }
     },
     "79084c85bfa1461e89145eede97d383c": {
      "model_module": "@jupyter-widgets/controls",
      "model_module_version": "2.0.0",
      "model_name": "HTMLStyleModel",
      "state": {
       "description_width": "",
       "font_size": null,
       "text_color": null
      }
     },
     "79251797b21b4e9d830c6918369ddcd4": {
      "model_module": "@jupyter-widgets/controls",
      "model_module_version": "2.0.0",
      "model_name": "HTMLStyleModel",
      "state": {
       "description_width": "",
       "font_size": null,
       "text_color": null
      }
     },
     "79555c5c2e314922bce6f88c8c5fe0f6": {
      "model_module": "@jupyter-widgets/controls",
      "model_module_version": "2.0.0",
      "model_name": "HTMLModel",
      "state": {
       "layout": "IPY_MODEL_ad824ef4f5d04bb19cfbcf191bc0f70b",
       "style": "IPY_MODEL_d9ccdff7112f448eb8c2bbf1a05d8eb5",
       "value": "cme8nx74z12g008nd93g"
      }
     },
     "7aa9dca31d8942fd8b01ad22afa6674b": {
      "model_module": "@jupyter-widgets/controls",
      "model_module_version": "2.0.0",
      "model_name": "HBoxModel",
      "state": {
       "children": [
        "IPY_MODEL_d452cce4c67848fb9c78b1defe308a63",
        "IPY_MODEL_b3ce2f13e1944df5bf500dcce84c7baf",
        "IPY_MODEL_72f1280bc95f4af5b151efcf0227b85c",
        "IPY_MODEL_fa2293b2804443f997dabef53b21c270",
        "IPY_MODEL_a38136635e664c318c32c1a644cebffa",
        "IPY_MODEL_4869db51b48c4841a22b5cd6c20f64f6"
       ],
       "layout": "IPY_MODEL_03b1fdb8b54c4aa0a29285ecb279db72"
      }
     },
     "7ab721872fd4485798bb4a89f2abe3f5": {
      "model_module": "@jupyter-widgets/base",
      "model_module_version": "2.0.0",
      "model_name": "LayoutModel",
      "state": {
       "width": "70px"
      }
     },
     "7af7856a84ec4d8f9c5c5386bbf46514": {
      "model_module": "@jupyter-widgets/base",
      "model_module_version": "2.0.0",
      "model_name": "LayoutModel",
      "state": {
       "width": "190px"
      }
     },
     "7b033ef73f0e4c3584870794bc190a32": {
      "model_module": "@jupyter-widgets/controls",
      "model_module_version": "2.0.0",
      "model_name": "HBoxModel",
      "state": {
       "children": [
        "IPY_MODEL_78a0df1e6cbc419fabe899fb7ca76892",
        "IPY_MODEL_e4bb87a3b9d24aca9de73174c324933c",
        "IPY_MODEL_cc257ce969cf40be9ae31524161ae18c",
        "IPY_MODEL_7f95abe83a1d4516914596b07930d46a",
        "IPY_MODEL_7101d8fb060744f58b5d672603fad93d",
        "IPY_MODEL_37575991f213464293feb530358e3d8f"
       ],
       "layout": "IPY_MODEL_7b15f4ab7d604734be325499e74e58a0"
      }
     },
     "7b09803cd4ec4513b893ffab25dd7abc": {
      "model_module": "@jupyter-widgets/base",
      "model_module_version": "2.0.0",
      "model_name": "LayoutModel",
      "state": {
       "width": "190px"
      }
     },
     "7b15f4ab7d604734be325499e74e58a0": {
      "model_module": "@jupyter-widgets/base",
      "model_module_version": "2.0.0",
      "model_name": "LayoutModel",
      "state": {
       "max_width": "700px",
       "min_width": "700px"
      }
     },
     "7b16712bfad14205a353f4818a214b9c": {
      "model_module": "@jupyter-widgets/controls",
      "model_module_version": "2.0.0",
      "model_name": "HTMLModel",
      "state": {
       "layout": "IPY_MODEL_a97f9b03594c4ae690b32ed53ff94199",
       "style": "IPY_MODEL_f46fd9d3f3a84d2fba45bf3ba44461a7",
       "value": "ibm_nairobi"
      }
     },
     "7b66bf378a9d44d29e5e5cd1d74c5318": {
      "model_module": "@jupyter-widgets/controls",
      "model_module_version": "2.0.0",
      "model_name": "HTMLStyleModel",
      "state": {
       "description_width": "",
       "font_size": null,
       "text_color": null
      }
     },
     "7b8ce6f1dd82462ea0c1176c7c273a8d": {
      "model_module": "@jupyter-widgets/controls",
      "model_module_version": "2.0.0",
      "model_name": "ButtonStyleModel",
      "state": {
       "button_color": "white",
       "font_family": null,
       "font_size": null,
       "font_style": null,
       "font_variant": null,
       "font_weight": null,
       "text_color": null,
       "text_decoration": null
      }
     },
     "7b92db5bf1764bd7b8a130063d8589b6": {
      "model_module": "@jupyter-widgets/controls",
      "model_module_version": "2.0.0",
      "model_name": "HTMLModel",
      "state": {
       "layout": "IPY_MODEL_f600ba4f8aa84e53aa71aeb39d0c86e4",
       "style": "IPY_MODEL_4f53f89551e44f138421c58dbe27e151",
       "value": "ibm_nairobi"
      }
     },
     "7c2bd1842f06410c875c42950bbcf75a": {
      "model_module": "@jupyter-widgets/controls",
      "model_module_version": "2.0.0",
      "model_name": "HTMLModel",
      "state": {
       "layout": "IPY_MODEL_b227fcbcd23c482caf109f016eab207a",
       "style": "IPY_MODEL_4c070106bb0b48959b201507d9e60594",
       "value": "job has successfully run"
      }
     },
     "7c30a1e5c33149108d0d2244d5b92289": {
      "model_module": "@jupyter-widgets/base",
      "model_module_version": "2.0.0",
      "model_name": "LayoutModel",
      "state": {
       "margin": "0px 5px 0px 0px",
       "width": "32px"
      }
     },
     "7c71fac3cb814768ae46b4d4c0d9a835": {
      "model_module": "@jupyter-widgets/controls",
      "model_module_version": "2.0.0",
      "model_name": "HTMLModel",
      "state": {
       "layout": "IPY_MODEL_fbbf8004e9944865ad632ea8de5ee28d",
       "style": "IPY_MODEL_91d63a546264486f8199bcedd82e2dfe",
       "value": "-"
      }
     },
     "7cb5977f22f84601b7d400be6d16ac91": {
      "model_module": "@jupyter-widgets/controls",
      "model_module_version": "2.0.0",
      "model_name": "HTMLModel",
      "state": {
       "layout": "IPY_MODEL_57a4f15c06cd435392ed6e2f07f9c3e4",
       "style": "IPY_MODEL_28cc37ac268b40d29d256fc795947391",
       "value": "-"
      }
     },
     "7cfa1008a03549758d9815415eef8f7d": {
      "model_module": "@jupyter-widgets/controls",
      "model_module_version": "2.0.0",
      "model_name": "HTMLStyleModel",
      "state": {
       "description_width": "",
       "font_size": null,
       "text_color": null
      }
     },
     "7d102175e8c84b9d86f4c54167375a0d": {
      "model_module": "@jupyter-widgets/controls",
      "model_module_version": "2.0.0",
      "model_name": "HTMLModel",
      "state": {
       "layout": "IPY_MODEL_4674c43052014b03bf19ed5478ef524e",
       "style": "IPY_MODEL_ab256df8468449dbb680aa7bc1f0dfc7",
       "value": "job has successfully run"
      }
     },
     "7d12be37f76d41b892fe7112341dbd1c": {
      "model_module": "@jupyter-widgets/controls",
      "model_module_version": "2.0.0",
      "model_name": "HTMLStyleModel",
      "state": {
       "description_width": "",
       "font_size": null,
       "text_color": null
      }
     },
     "7d24b698e2514b0bbc8b10941ffa4049": {
      "model_module": "@jupyter-widgets/controls",
      "model_module_version": "2.0.0",
      "model_name": "HTMLStyleModel",
      "state": {
       "description_width": "",
       "font_size": null,
       "text_color": null
      }
     },
     "7d7ad92834c4494593782d6977651b2f": {
      "model_module": "@jupyter-widgets/base",
      "model_module_version": "2.0.0",
      "model_name": "LayoutModel",
      "state": {
       "margin": "0px 5px 0px 0px",
       "width": "32px"
      }
     },
     "7dda1534a07244ac9ca0a0089612ce0b": {
      "model_module": "@jupyter-widgets/base",
      "model_module_version": "2.0.0",
      "model_name": "LayoutModel",
      "state": {
       "width": "95px"
      }
     },
     "7e2e6723e60b4858a3a3a976b7f75cc5": {
      "model_module": "@jupyter-widgets/controls",
      "model_module_version": "2.0.0",
      "model_name": "HTMLModel",
      "state": {
       "layout": "IPY_MODEL_e3f395d1fa9c45d7b985fcb88d4d0119",
       "style": "IPY_MODEL_e2a70d6060be4fe083f791e48e91bdd6",
       "value": "cmebe48wcht0008ybgk0"
      }
     },
     "7e61b36e50d44690a927b1e39d515784": {
      "model_module": "@jupyter-widgets/controls",
      "model_module_version": "2.0.0",
      "model_name": "HTMLStyleModel",
      "state": {
       "description_width": "",
       "font_size": null,
       "text_color": null
      }
     },
     "7ea8a2af18dc40bab9852338c462e10b": {
      "model_module": "@jupyter-widgets/base",
      "model_module_version": "2.0.0",
      "model_name": "LayoutModel",
      "state": {
       "width": "95px"
      }
     },
     "7f90eec6be53446bb9c7e612bdea2a6f": {
      "model_module": "@jupyter-widgets/controls",
      "model_module_version": "2.0.0",
      "model_name": "HTMLStyleModel",
      "state": {
       "description_width": "",
       "font_size": null,
       "text_color": null
      }
     },
     "7f9460b4aaa440dbb1780e6d6c626e86": {
      "model_module": "@jupyter-widgets/controls",
      "model_module_version": "2.0.0",
      "model_name": "HTMLStyleModel",
      "state": {
       "description_width": "",
       "font_size": null,
       "text_color": null
      }
     },
     "7f95abe83a1d4516914596b07930d46a": {
      "model_module": "@jupyter-widgets/controls",
      "model_module_version": "2.0.0",
      "model_name": "HTMLModel",
      "state": {
       "layout": "IPY_MODEL_40fd5768f6d4485b8a2ba2cff7c32148",
       "style": "IPY_MODEL_65cdc1a11db548b2888229e132329303",
       "value": "<font style='color:#34BC6E'>DONE</font>"
      }
     },
     "7f9f5b6405bf4b299d3332e3da55fcb8": {
      "model_module": "@jupyter-widgets/controls",
      "model_module_version": "2.0.0",
      "model_name": "HTMLModel",
      "state": {
       "layout": "IPY_MODEL_6b89c468e6cb492696ab95227894868f",
       "style": "IPY_MODEL_ab7c0a5960cd4b969d59fcf72d61c106",
       "value": "job has successfully run"
      }
     },
     "7fcd1a3d330b45d89569dbf8ae092894": {
      "model_module": "@jupyter-widgets/controls",
      "model_module_version": "2.0.0",
      "model_name": "HTMLModel",
      "state": {
       "layout": "IPY_MODEL_8dec1fd4b63c4026a39f8ab7b859b90d",
       "style": "IPY_MODEL_cc7030a7d5b74b9181af2aee451540ee",
       "value": "ibm_nairobi"
      }
     },
     "7fecc13e664449e5b285e434945160a6": {
      "model_module": "@jupyter-widgets/base",
      "model_module_version": "2.0.0",
      "model_name": "LayoutModel",
      "state": {
       "width": "70px"
      }
     },
     "805e3d3b80e743409466739f66af4abc": {
      "model_module": "@jupyter-widgets/base",
      "model_module_version": "2.0.0",
      "model_name": "LayoutModel",
      "state": {}
     },
     "809ee830ad724b03ad7cc1f43ccf54dd": {
      "model_module": "@jupyter-widgets/controls",
      "model_module_version": "2.0.0",
      "model_name": "HTMLStyleModel",
      "state": {
       "description_width": "",
       "font_size": null,
       "text_color": null
      }
     },
     "8124607384f74a86944e0654838a4b6c": {
      "model_module": "@jupyter-widgets/controls",
      "model_module_version": "2.0.0",
      "model_name": "HTMLModel",
      "state": {
       "layout": "IPY_MODEL_ad5ab845f0b7407f9bd102c95de74532",
       "style": "IPY_MODEL_c760e2ecbcbf44a583d60865800f012e",
       "value": "<font style='color:#34BC6E'>DONE</font>"
      }
     },
     "81b638337df14f54a50fd4e34a34962b": {
      "model_module": "@jupyter-widgets/base",
      "model_module_version": "2.0.0",
      "model_name": "LayoutModel",
      "state": {
       "margin": "0px 5px 0px 0px",
       "width": "32px"
      }
     },
     "81bd82f1ff19400c9282d4cb830d4d3d": {
      "model_module": "@jupyter-widgets/base",
      "model_module_version": "2.0.0",
      "model_name": "LayoutModel",
      "state": {
       "width": "95px"
      }
     },
     "81c84abc5c104fdd9ca4df510b38634c": {
      "model_module": "@jupyter-widgets/controls",
      "model_module_version": "2.0.0",
      "model_name": "ButtonModel",
      "state": {
       "icon": "close",
       "layout": "IPY_MODEL_16af6b1f7bf34764933c91bfc1553f77",
       "style": "IPY_MODEL_a611216b7be648fa950ee9054a88cee2",
       "tooltip": null
      }
     },
     "81d275dac2674248837cc67684c0c276": {
      "model_module": "@jupyter-widgets/controls",
      "model_module_version": "2.0.0",
      "model_name": "ButtonModel",
      "state": {
       "icon": "close",
       "layout": "IPY_MODEL_be0eaecd300d48fa99274b8922dd990c",
       "style": "IPY_MODEL_bee34a7ca8ef42c3af2fde4186abafee",
       "tooltip": null
      }
     },
     "826aef77f723436baf845b8e4f45441b": {
      "model_module": "@jupyter-widgets/base",
      "model_module_version": "2.0.0",
      "model_name": "LayoutModel",
      "state": {
       "width": "95px"
      }
     },
     "828fbba08d424419a4cf3964b3ffc1d4": {
      "model_module": "@jupyter-widgets/controls",
      "model_module_version": "2.0.0",
      "model_name": "HTMLStyleModel",
      "state": {
       "description_width": "",
       "font_size": null,
       "text_color": null
      }
     },
     "82f4b39bf0bb4dc68f438ae7de45a4aa": {
      "model_module": "@jupyter-widgets/controls",
      "model_module_version": "2.0.0",
      "model_name": "HTMLModel",
      "state": {
       "layout": "IPY_MODEL_95b544f6543744ef80e4b8c28a88c767",
       "style": "IPY_MODEL_76a61af12db3485fa92f54a820ab6ef9",
       "value": "ibm_nairobi"
      }
     },
     "8346d849fe2c41f3916acabb04ba6c16": {
      "model_module": "@jupyter-widgets/controls",
      "model_module_version": "2.0.0",
      "model_name": "HTMLStyleModel",
      "state": {
       "description_width": "",
       "font_size": null,
       "text_color": null
      }
     },
     "839bf5c974c545c48bbeb280c577c142": {
      "model_module": "@jupyter-widgets/controls",
      "model_module_version": "2.0.0",
      "model_name": "ButtonModel",
      "state": {
       "icon": "close",
       "layout": "IPY_MODEL_a70e3c47ad514cdbbbd15c31afec55e8",
       "style": "IPY_MODEL_09624cbb032e4f1e836a55ea67e34aa0",
       "tooltip": null
      }
     },
     "841bc05a32f54b128dd4853a821afc1f": {
      "model_module": "@jupyter-widgets/controls",
      "model_module_version": "2.0.0",
      "model_name": "HTMLStyleModel",
      "state": {
       "description_width": "",
       "font_size": null,
       "text_color": null
      }
     },
     "84304d7a9c6b48f9b676b51383acd6a2": {
      "model_module": "@jupyter-widgets/controls",
      "model_module_version": "2.0.0",
      "model_name": "HTMLStyleModel",
      "state": {
       "description_width": "",
       "font_size": null,
       "text_color": null
      }
     },
     "844642e562cf44e19d3c08251cab6c99": {
      "model_module": "@jupyter-widgets/controls",
      "model_module_version": "2.0.0",
      "model_name": "HTMLModel",
      "state": {
       "layout": "IPY_MODEL_2e63dab76b8940cc8faf50595130c18b",
       "style": "IPY_MODEL_9d23181b2ed74a338b3094b7507126a1",
       "value": "-"
      }
     },
     "84806f3131004ae5957acb9e9ae26bf2": {
      "model_module": "@jupyter-widgets/base",
      "model_module_version": "2.0.0",
      "model_name": "LayoutModel",
      "state": {}
     },
     "84b33bb756ba44f8bae355f83d2caa3c": {
      "model_module": "@jupyter-widgets/controls",
      "model_module_version": "2.0.0",
      "model_name": "HTMLStyleModel",
      "state": {
       "description_width": "",
       "font_size": null,
       "text_color": null
      }
     },
     "853479532ad24f99a846b1ace2a9a5be": {
      "model_module": "@jupyter-widgets/controls",
      "model_module_version": "2.0.0",
      "model_name": "HTMLModel",
      "state": {
       "layout": "IPY_MODEL_157a48216f294e6a9738dd95b887a9af",
       "style": "IPY_MODEL_62dad1f097ea4762b580bfa0dbac7456",
       "value": "ibm_nairobi"
      }
     },
     "8563d9884cc04cdaa16d2a0da37e635f": {
      "model_module": "@jupyter-widgets/controls",
      "model_module_version": "2.0.0",
      "model_name": "HTMLStyleModel",
      "state": {
       "description_width": "",
       "font_size": null,
       "text_color": null
      }
     },
     "86b300b6dea8437a9567025af110891a": {
      "model_module": "@jupyter-widgets/controls",
      "model_module_version": "2.0.0",
      "model_name": "HTMLStyleModel",
      "state": {
       "description_width": "",
       "font_size": null,
       "text_color": null
      }
     },
     "86e5708ace0843ddbf4f45b0b8c8472e": {
      "model_module": "@jupyter-widgets/controls",
      "model_module_version": "2.0.0",
      "model_name": "HTMLModel",
      "state": {
       "layout": "IPY_MODEL_d06e5910c8654a13a66f27164f656777",
       "style": "IPY_MODEL_95223329f44746b196dc271ebc01088f",
       "value": "QUEUED"
      }
     },
     "87154fafb4b1403a91031c396d1fdbb3": {
      "model_module": "@jupyter-widgets/base",
      "model_module_version": "2.0.0",
      "model_name": "LayoutModel",
      "state": {
       "width": "95px"
      }
     },
     "875c062aa8d04d5b94bebef5db2c5dd3": {
      "model_module": "@jupyter-widgets/controls",
      "model_module_version": "2.0.0",
      "model_name": "HTMLStyleModel",
      "state": {
       "description_width": "",
       "font_size": null,
       "text_color": null
      }
     },
     "87f843e250ee481b8215a53acfe7e934": {
      "model_module": "@jupyter-widgets/controls",
      "model_module_version": "2.0.0",
      "model_name": "HTMLStyleModel",
      "state": {
       "description_width": "",
       "font_size": null,
       "text_color": null
      }
     },
     "881c3f050c0d48f7a99a15e0c4c6929e": {
      "model_module": "@jupyter-widgets/base",
      "model_module_version": "2.0.0",
      "model_name": "LayoutModel",
      "state": {
       "width": "190px"
      }
     },
     "88235a5f1b3f4e5681ee8c995a745ddd": {
      "model_module": "@jupyter-widgets/controls",
      "model_module_version": "2.0.0",
      "model_name": "ButtonModel",
      "state": {
       "icon": "close",
       "layout": "IPY_MODEL_073a01b2799040109dd5d72268eae39b",
       "style": "IPY_MODEL_299b4ed744f94526bbaec0112fd40456",
       "tooltip": null
      }
     },
     "884493054e0d484e9c40e72049625421": {
      "model_module": "@jupyter-widgets/controls",
      "model_module_version": "2.0.0",
      "model_name": "HTMLStyleModel",
      "state": {
       "description_width": "",
       "font_size": null,
       "text_color": null
      }
     },
     "8870874e318241ca93bf45c821d12c8e": {
      "model_module": "@jupyter-widgets/controls",
      "model_module_version": "2.0.0",
      "model_name": "HTMLModel",
      "state": {
       "layout": "IPY_MODEL_8ce3daeb764f4a0fa1fcba16956d97c7",
       "style": "IPY_MODEL_dd3b00d6f74e4626a3709049999dd0aa",
       "value": "ibm_nairobi"
      }
     },
     "88c425c1602747d69f597ee0e5bd8cc2": {
      "model_module": "@jupyter-widgets/controls",
      "model_module_version": "2.0.0",
      "model_name": "HTMLModel",
      "state": {
       "layout": "IPY_MODEL_337183e6e9c64f839fc8577534500350",
       "style": "IPY_MODEL_bd829e40354a463cb27d117b6f30e984",
       "value": "cmeba9ste72g008jt08g"
      }
     },
     "88c8b2ec54954c159b9a9a6235fc8f5e": {
      "model_module": "@jupyter-widgets/controls",
      "model_module_version": "2.0.0",
      "model_name": "ButtonModel",
      "state": {
       "icon": "close",
       "layout": "IPY_MODEL_3a619eac60bb442e94855b2ab9a9a6fb",
       "style": "IPY_MODEL_782f22b5b14b44cb98e51d46864441c5",
       "tooltip": null
      }
     },
     "890b3c6cd5bd497380dd5335ceec4d47": {
      "model_module": "@jupyter-widgets/controls",
      "model_module_version": "2.0.0",
      "model_name": "HTMLModel",
      "state": {
       "layout": "IPY_MODEL_edebc9b477a54dea87c58464ba4f89aa",
       "style": "IPY_MODEL_533b00eff6f5406db99506b1477bc194",
       "value": "ibm_nairobi"
      }
     },
     "89442973ea6c46f288a3e2f5960b42b7": {
      "model_module": "@jupyter-widgets/base",
      "model_module_version": "2.0.0",
      "model_name": "LayoutModel",
      "state": {
       "width": "190px"
      }
     },
     "8944c9ba1b0b49379636980f9c685999": {
      "model_module": "@jupyter-widgets/controls",
      "model_module_version": "2.0.0",
      "model_name": "HTMLStyleModel",
      "state": {
       "description_width": "",
       "font_size": null,
       "text_color": null
      }
     },
     "89513323823b4b01a8dfb27cd69b6125": {
      "model_module": "@jupyter-widgets/base",
      "model_module_version": "2.0.0",
      "model_name": "LayoutModel",
      "state": {
       "width": "95px"
      }
     },
     "896bbd7868a84384b5ba622264b0c19e": {
      "model_module": "@jupyter-widgets/controls",
      "model_module_version": "2.0.0",
      "model_name": "HTMLStyleModel",
      "state": {
       "description_width": "",
       "font_size": null,
       "text_color": null
      }
     },
     "899e42bfc44b49bfb920595064988aba": {
      "model_module": "@jupyter-widgets/base",
      "model_module_version": "2.0.0",
      "model_name": "LayoutModel",
      "state": {
       "max_width": "700px",
       "min_width": "700px"
      }
     },
     "89ed4f36202a4a4faae9d0900523debc": {
      "model_module": "@jupyter-widgets/controls",
      "model_module_version": "2.0.0",
      "model_name": "HTMLStyleModel",
      "state": {
       "description_width": "",
       "font_size": null,
       "text_color": null
      }
     },
     "8a13c9f630c64f1abf1b11d5562c4a0a": {
      "model_module": "@jupyter-widgets/base",
      "model_module_version": "2.0.0",
      "model_name": "LayoutModel",
      "state": {
       "width": "145px"
      }
     },
     "8a7c6e82bff442f5a9dfbfd34cfe8b92": {
      "model_module": "@jupyter-widgets/controls",
      "model_module_version": "2.0.0",
      "model_name": "HTMLStyleModel",
      "state": {
       "description_width": "",
       "font_size": null,
       "text_color": null
      }
     },
     "8ad54c998b734d888f51b6c32e389856": {
      "model_module": "@jupyter-widgets/base",
      "model_module_version": "2.0.0",
      "model_name": "LayoutModel",
      "state": {
       "max_width": "700px",
       "min_width": "700px"
      }
     },
     "8ad5ff835e654ebe8c412ed62a8e976e": {
      "model_module": "@jupyter-widgets/controls",
      "model_module_version": "2.0.0",
      "model_name": "HTMLModel",
      "state": {
       "layout": "IPY_MODEL_9c2be36d748c4ed3b9caddd51080df03",
       "style": "IPY_MODEL_9f348f4155dc4b07a041b87d7ca88d93",
       "value": "cmeaxnyte72g008jszj0"
      }
     },
     "8b0465033aa54b2fa5851c83cf49b3e7": {
      "model_module": "@jupyter-widgets/controls",
      "model_module_version": "2.0.0",
      "model_name": "HTMLModel",
      "state": {
       "layout": "IPY_MODEL_e010f832ec0547a8b00fd7a3d60df0e2",
       "style": "IPY_MODEL_1fdb519bf779458ebdd7a769978aa089",
       "value": "ibm_nairobi"
      }
     },
     "8b13d29f97c846c089bd758a4b05bfa7": {
      "model_module": "@jupyter-widgets/base",
      "model_module_version": "2.0.0",
      "model_name": "LayoutModel",
      "state": {
       "width": "70px"
      }
     },
     "8b3510e8bbb7464f85a83a4e9a5201df": {
      "model_module": "@jupyter-widgets/controls",
      "model_module_version": "2.0.0",
      "model_name": "HBoxModel",
      "state": {
       "children": [
        "IPY_MODEL_81c84abc5c104fdd9ca4df510b38634c",
        "IPY_MODEL_8ad5ff835e654ebe8c412ed62a8e976e",
        "IPY_MODEL_9eafcaa0af194898bf7aa57d32d97e35",
        "IPY_MODEL_17e50a1bf99d4a8595c5e895a70f5677",
        "IPY_MODEL_96b5c2139a44479bb8ff5af487155173",
        "IPY_MODEL_7d102175e8c84b9d86f4c54167375a0d"
       ],
       "layout": "IPY_MODEL_b48e21a93bbb48209763fc31203b550d"
      }
     },
     "8b3e6f4194fc492e90d03338b64541a3": {
      "model_module": "@jupyter-widgets/controls",
      "model_module_version": "2.0.0",
      "model_name": "HTMLStyleModel",
      "state": {
       "description_width": "",
       "font_size": null,
       "text_color": null
      }
     },
     "8bfa6a86b31545f59ec268944bea1409": {
      "model_module": "@jupyter-widgets/controls",
      "model_module_version": "2.0.0",
      "model_name": "HTMLStyleModel",
      "state": {
       "description_width": "",
       "font_size": null,
       "text_color": null
      }
     },
     "8c83599286e9448fa0d734b838314388": {
      "model_module": "@jupyter-widgets/base",
      "model_module_version": "2.0.0",
      "model_name": "LayoutModel",
      "state": {
       "margin": "0px 5px 0px 0px",
       "width": "32px"
      }
     },
     "8cc37fb7c654465c9d4796816243e021": {
      "model_module": "@jupyter-widgets/controls",
      "model_module_version": "2.0.0",
      "model_name": "ButtonModel",
      "state": {
       "icon": "close",
       "layout": "IPY_MODEL_e90376f1d50549c395465794858ad1e8",
       "style": "IPY_MODEL_6411bdffab1a4d28ac5413b836f747af",
       "tooltip": null
      }
     },
     "8cdc5f11d7d040948586b6f08a2b48df": {
      "model_module": "@jupyter-widgets/base",
      "model_module_version": "2.0.0",
      "model_name": "LayoutModel",
      "state": {
       "margin": "0px 5px 0px 0px",
       "width": "32px"
      }
     },
     "8ce3daeb764f4a0fa1fcba16956d97c7": {
      "model_module": "@jupyter-widgets/base",
      "model_module_version": "2.0.0",
      "model_name": "LayoutModel",
      "state": {
       "width": "145px"
      }
     },
     "8d3aa63ba1b849769813eb7ed3d8f779": {
      "model_module": "@jupyter-widgets/base",
      "model_module_version": "2.0.0",
      "model_name": "LayoutModel",
      "state": {
       "width": "190px"
      }
     },
     "8d83c46670a84ac0a47c38dcc14501e5": {
      "model_module": "@jupyter-widgets/controls",
      "model_module_version": "2.0.0",
      "model_name": "HTMLModel",
      "state": {
       "layout": "IPY_MODEL_2624a877503b4fb689b21d63610b26e4",
       "style": "IPY_MODEL_abaec90acd1e4025b93b6cd7e4bd31c8",
       "value": "-"
      }
     },
     "8dec1fd4b63c4026a39f8ab7b859b90d": {
      "model_module": "@jupyter-widgets/base",
      "model_module_version": "2.0.0",
      "model_name": "LayoutModel",
      "state": {
       "width": "145px"
      }
     },
     "8df795cf264940a4932ac5a601acb37f": {
      "model_module": "@jupyter-widgets/controls",
      "model_module_version": "2.0.0",
      "model_name": "HBoxModel",
      "state": {
       "children": [
        "IPY_MODEL_8eb55443de534feb88d9eaa7bec01d95",
        "IPY_MODEL_1a8e9d01c30c4ae7bb8a7388bf9e1bb3",
        "IPY_MODEL_3c9d1af2f7d54d7182fbbd16aa896ccd",
        "IPY_MODEL_cb762ef6b2754a748f43e570f141cb99",
        "IPY_MODEL_7cb5977f22f84601b7d400be6d16ac91",
        "IPY_MODEL_c9e229b76bed4958bc05c97bfc3a8bba"
       ],
       "layout": "IPY_MODEL_6e511120f5424c9f8b04fc2a87f7aeb7"
      }
     },
     "8dfc3f72b01349f58f73e9b97f94ec50": {
      "model_module": "@jupyter-widgets/controls",
      "model_module_version": "2.0.0",
      "model_name": "ButtonStyleModel",
      "state": {
       "button_color": "white",
       "font_family": null,
       "font_size": null,
       "font_style": null,
       "font_variant": null,
       "font_weight": null,
       "text_color": null,
       "text_decoration": null
      }
     },
     "8e2907f21b88489ba64d88673ecbe0aa": {
      "model_module": "@jupyter-widgets/controls",
      "model_module_version": "2.0.0",
      "model_name": "HTMLStyleModel",
      "state": {
       "description_width": "",
       "font_size": null,
       "text_color": null
      }
     },
     "8e2d476968f54ad29ab1af70bd49c746": {
      "model_module": "@jupyter-widgets/base",
      "model_module_version": "2.0.0",
      "model_name": "LayoutModel",
      "state": {
       "max_width": "700px",
       "min_width": "700px"
      }
     },
     "8e5c75fabd1544e7875bd096dfdaf22b": {
      "model_module": "@jupyter-widgets/controls",
      "model_module_version": "2.0.0",
      "model_name": "HTMLModel",
      "state": {
       "layout": "IPY_MODEL_a0cf1b4c1c1a446eb5c4fcca2d3d6723",
       "style": "IPY_MODEL_7e61b36e50d44690a927b1e39d515784",
       "value": "ibm_nairobi"
      }
     },
     "8eb55443de534feb88d9eaa7bec01d95": {
      "model_module": "@jupyter-widgets/controls",
      "model_module_version": "2.0.0",
      "model_name": "ButtonModel",
      "state": {
       "icon": "close",
       "layout": "IPY_MODEL_a7585cf7296d4928883570f79a70ce8b",
       "style": "IPY_MODEL_5724b3db806f4054b0b3da7d20f666be",
       "tooltip": null
      }
     },
     "8eb6763894934f88a6bdf8c0b0e710b5": {
      "model_module": "@jupyter-widgets/controls",
      "model_module_version": "2.0.0",
      "model_name": "HTMLStyleModel",
      "state": {
       "description_width": "",
       "font_size": null,
       "text_color": null
      }
     },
     "8ebc100ff44f408bad4d8d00e6479a52": {
      "model_module": "@jupyter-widgets/base",
      "model_module_version": "2.0.0",
      "model_name": "LayoutModel",
      "state": {}
     },
     "90166ab9677e45798b6270efefff1e7d": {
      "model_module": "@jupyter-widgets/controls",
      "model_module_version": "2.0.0",
      "model_name": "HTMLModel",
      "state": {
       "layout": "IPY_MODEL_e75ce53a4d49430994bba478fd0af2dc",
       "style": "IPY_MODEL_9adbb46da8e045f8ad417a5680f443b3",
       "value": "<font style='color:#34BC6E'>DONE</font>"
      }
     },
     "901fe95f24f04513aa57096d6634c19c": {
      "model_module": "@jupyter-widgets/controls",
      "model_module_version": "2.0.0",
      "model_name": "HTMLStyleModel",
      "state": {
       "description_width": "",
       "font_size": null,
       "text_color": null
      }
     },
     "90e03ab2ff324ccaa0591ac977939a29": {
      "model_module": "@jupyter-widgets/controls",
      "model_module_version": "2.0.0",
      "model_name": "HTMLStyleModel",
      "state": {
       "description_width": "",
       "font_size": null,
       "text_color": null
      }
     },
     "90f228ce799845cc8ccbe9a2d4f69369": {
      "model_module": "@jupyter-widgets/controls",
      "model_module_version": "2.0.0",
      "model_name": "HTMLModel",
      "state": {
       "layout": "IPY_MODEL_2462275a353e4e9daf3304333d003d91",
       "style": "IPY_MODEL_df9c44073d28453e91762bec2267facb",
       "value": "-"
      }
     },
     "911375f61d2642288d41cec085a38fac": {
      "model_module": "@jupyter-widgets/base",
      "model_module_version": "2.0.0",
      "model_name": "LayoutModel",
      "state": {
       "width": "145px"
      }
     },
     "91a79667d0ea44c29313d05c2fefd4a5": {
      "model_module": "@jupyter-widgets/controls",
      "model_module_version": "2.0.0",
      "model_name": "HTMLStyleModel",
      "state": {
       "description_width": "",
       "font_size": null,
       "text_color": null
      }
     },
     "91c04e41b1bf4f43a10b55efe069d8ec": {
      "model_module": "@jupyter-widgets/base",
      "model_module_version": "2.0.0",
      "model_name": "LayoutModel",
      "state": {
       "margin": "0px 5px 0px 0px",
       "width": "32px"
      }
     },
     "91d4504cc38b4463b189b5024feaf7c6": {
      "model_module": "@jupyter-widgets/controls",
      "model_module_version": "2.0.0",
      "model_name": "ButtonStyleModel",
      "state": {
       "button_color": "white",
       "font_family": null,
       "font_size": null,
       "font_style": null,
       "font_variant": null,
       "font_weight": null,
       "text_color": null,
       "text_decoration": null
      }
     },
     "91d63a546264486f8199bcedd82e2dfe": {
      "model_module": "@jupyter-widgets/controls",
      "model_module_version": "2.0.0",
      "model_name": "HTMLStyleModel",
      "state": {
       "description_width": "",
       "font_size": null,
       "text_color": null
      }
     },
     "922f7ced12fd4c88bcfacd3babdb0f9c": {
      "model_module": "@jupyter-widgets/base",
      "model_module_version": "2.0.0",
      "model_name": "LayoutModel",
      "state": {
       "width": "95px"
      }
     },
     "92678ba2e31d4a55a5b0e0226118a978": {
      "model_module": "@jupyter-widgets/base",
      "model_module_version": "2.0.0",
      "model_name": "LayoutModel",
      "state": {
       "width": "190px"
      }
     },
     "9267e7aabde14d65b65b28fe153d7fd9": {
      "model_module": "@jupyter-widgets/base",
      "model_module_version": "2.0.0",
      "model_name": "LayoutModel",
      "state": {
       "margin": "0px 5px 0px 0px",
       "width": "32px"
      }
     },
     "9280be60c5d242d68873edc7e326a6ed": {
      "model_module": "@jupyter-widgets/controls",
      "model_module_version": "2.0.0",
      "model_name": "HTMLModel",
      "state": {
       "layout": "IPY_MODEL_dd85af69347b45ebac02321381cbd91d",
       "style": "IPY_MODEL_03468b1629964085b48d337683064eaa",
       "value": "ibm_nairobi"
      }
     },
     "929018d3189a425b976c806e125ed880": {
      "model_module": "@jupyter-widgets/base",
      "model_module_version": "2.0.0",
      "model_name": "LayoutModel",
      "state": {
       "margin": "0px 5px 0px 0px",
       "width": "32px"
      }
     },
     "933ccb22145542d9babf4f7c43997b3e": {
      "model_module": "@jupyter-widgets/base",
      "model_module_version": "2.0.0",
      "model_name": "LayoutModel",
      "state": {
       "width": "70px"
      }
     },
     "9364b05f68ec4a98b6113c0d19406ac3": {
      "model_module": "@jupyter-widgets/controls",
      "model_module_version": "2.0.0",
      "model_name": "HTMLStyleModel",
      "state": {
       "description_width": "",
       "font_size": null,
       "text_color": null
      }
     },
     "93d2d6ba9fc847d99a0ac309f3810792": {
      "model_module": "@jupyter-widgets/controls",
      "model_module_version": "2.0.0",
      "model_name": "HTMLModel",
      "state": {
       "layout": "IPY_MODEL_57cbed3d1f574269a08d54739a2f9371",
       "style": "IPY_MODEL_e2c3f207c09441c5a8c7859dcf5d05e0",
       "value": "<font style='color:#34BC6E'>DONE</font>"
      }
     },
     "944847b495734eac984acaea6d26c95f": {
      "model_module": "@jupyter-widgets/base",
      "model_module_version": "2.0.0",
      "model_name": "LayoutModel",
      "state": {
       "max_width": "700px",
       "min_width": "700px"
      }
     },
     "9478627ae84147c4ab73fff96785cec7": {
      "model_module": "@jupyter-widgets/controls",
      "model_module_version": "2.0.0",
      "model_name": "HTMLModel",
      "state": {
       "layout": "IPY_MODEL_24d938f83809493ea9dd4b37959ce0d3",
       "style": "IPY_MODEL_ab640a553e614029bad1715b21ddeb7f",
       "value": "-"
      }
     },
     "94a57cf3f44d412f8b7ee5394af04d43": {
      "model_module": "@jupyter-widgets/controls",
      "model_module_version": "2.0.0",
      "model_name": "HTMLStyleModel",
      "state": {
       "description_width": "",
       "font_size": null,
       "text_color": null
      }
     },
     "94ccea2e13914e788d3f1af9f75aa0aa": {
      "model_module": "@jupyter-widgets/controls",
      "model_module_version": "2.0.0",
      "model_name": "HTMLModel",
      "state": {
       "layout": "IPY_MODEL_108ea407b12f4f3ba4155ac923b2b3d2",
       "style": "IPY_MODEL_cff6d4d08cbc4be29d7f838e7a4bff67",
       "value": "ibm_nairobi"
      }
     },
     "9506d80a6896458d824559063735864c": {
      "model_module": "@jupyter-widgets/controls",
      "model_module_version": "2.0.0",
      "model_name": "HTMLStyleModel",
      "state": {
       "description_width": "",
       "font_size": null,
       "text_color": null
      }
     },
     "95223329f44746b196dc271ebc01088f": {
      "model_module": "@jupyter-widgets/controls",
      "model_module_version": "2.0.0",
      "model_name": "HTMLStyleModel",
      "state": {
       "description_width": "",
       "font_size": null,
       "text_color": null
      }
     },
     "957ed20c967548a58c6f4322b02d41a3": {
      "model_module": "@jupyter-widgets/base",
      "model_module_version": "2.0.0",
      "model_name": "LayoutModel",
      "state": {
       "width": "70px"
      }
     },
     "95b544f6543744ef80e4b8c28a88c767": {
      "model_module": "@jupyter-widgets/base",
      "model_module_version": "2.0.0",
      "model_name": "LayoutModel",
      "state": {
       "width": "145px"
      }
     },
     "9616f0d110e04286978b59653e446d8b": {
      "model_module": "@jupyter-widgets/controls",
      "model_module_version": "2.0.0",
      "model_name": "ButtonStyleModel",
      "state": {
       "button_color": "white",
       "font_family": null,
       "font_size": null,
       "font_style": null,
       "font_variant": null,
       "font_weight": null,
       "text_color": null,
       "text_decoration": null
      }
     },
     "96b5c2139a44479bb8ff5af487155173": {
      "model_module": "@jupyter-widgets/controls",
      "model_module_version": "2.0.0",
      "model_name": "HTMLModel",
      "state": {
       "layout": "IPY_MODEL_5038243ea61641df94b1bb0739cc946d",
       "style": "IPY_MODEL_bffdb31d68904b1ca01b9ca548680fb7",
       "value": "-"
      }
     },
     "97376d832bcc4282b5f2c1430e6f6f85": {
      "model_module": "@jupyter-widgets/controls",
      "model_module_version": "2.0.0",
      "model_name": "HTMLModel",
      "state": {
       "layout": "IPY_MODEL_b6ec5b684ccd4179a2e71b97846c57e7",
       "style": "IPY_MODEL_86b300b6dea8437a9567025af110891a",
       "value": "<font style='color:#34BC6E'>DONE</font>"
      }
     },
     "9743f2f9811949c0a798600dd7eb2021": {
      "model_module": "@jupyter-widgets/controls",
      "model_module_version": "2.0.0",
      "model_name": "ButtonModel",
      "state": {
       "icon": "close",
       "layout": "IPY_MODEL_aa5ff3f5e4374dbca379d4b691a2d622",
       "style": "IPY_MODEL_ebad14d4631e4a32be37d998d4f14310",
       "tooltip": null
      }
     },
     "979909a341d64bfcb469f0c3be3fb9e6": {
      "model_module": "@jupyter-widgets/controls",
      "model_module_version": "2.0.0",
      "model_name": "HTMLModel",
      "state": {
       "layout": "IPY_MODEL_c98c0051ca484f898ae47825fcf64de4",
       "style": "IPY_MODEL_749430e952f949ef9457c71869b76559",
       "value": "<font style='color:#34BC6E'>DONE</font>"
      }
     },
     "97f7ce6c08b4415bb437f53a68a28863": {
      "model_module": "@jupyter-widgets/base",
      "model_module_version": "2.0.0",
      "model_name": "LayoutModel",
      "state": {}
     },
     "9802263fb7f34c8bb537c4ba84a9d3a0": {
      "model_module": "@jupyter-widgets/controls",
      "model_module_version": "2.0.0",
      "model_name": "HTMLStyleModel",
      "state": {
       "description_width": "",
       "font_size": null,
       "text_color": null
      }
     },
     "9883ce21d6eb447d9b6679eba6b69319": {
      "model_module": "@jupyter-widgets/controls",
      "model_module_version": "2.0.0",
      "model_name": "HTMLModel",
      "state": {
       "layout": "IPY_MODEL_3fe413d841074bbe83ff22c6f8fb41a9",
       "style": "IPY_MODEL_cbd6f32a3a1c4c31be88b2fac81d0c98",
       "value": "cme63kpte72g008jssf0"
      }
     },
     "98ab3d35eba242e6ac87d2aac04c3d62": {
      "model_module": "@jupyter-widgets/controls",
      "model_module_version": "2.0.0",
      "model_name": "HTMLModel",
      "state": {
       "layout": "IPY_MODEL_38f18eb9f30540f68a06b449d760670f",
       "style": "IPY_MODEL_dd4cbab6e25445cd817c4dbf13731582",
       "value": "-"
      }
     },
     "98f43e199bed48dfa5528489ac582337": {
      "model_module": "@jupyter-widgets/controls",
      "model_module_version": "2.0.0",
      "model_name": "HTMLModel",
      "state": {
       "layout": "IPY_MODEL_c7bd26f137244ea79050c22d0cb9bf80",
       "style": "IPY_MODEL_7b66bf378a9d44d29e5e5cd1d74c5318",
       "value": "-"
      }
     },
     "990aa0bf30b8498883a2ed6887b43b8a": {
      "model_module": "@jupyter-widgets/controls",
      "model_module_version": "2.0.0",
      "model_name": "HTMLModel",
      "state": {
       "layout": "IPY_MODEL_04a5dd9d70b440b190a4eedd2dbecaac",
       "style": "IPY_MODEL_a50258871c5644be8e98b7ddb2d03df3",
       "value": "ibm_nairobi"
      }
     },
     "9998407544174769ac358692aa4b2d59": {
      "model_module": "@jupyter-widgets/controls",
      "model_module_version": "2.0.0",
      "model_name": "HTMLModel",
      "state": {
       "layout": "IPY_MODEL_3f2a91efbcec449b9595cda5e72efdfc",
       "style": "IPY_MODEL_03fff7f7b3fd4b3497a05b3272d07022",
       "value": "job has successfully run"
      }
     },
     "99d6089048654210ab33d3637e33f6f1": {
      "model_module": "@jupyter-widgets/controls",
      "model_module_version": "2.0.0",
      "model_name": "HTMLModel",
      "state": {
       "layout": "IPY_MODEL_fcd7c19a6484424cb543db0ee885ded5",
       "style": "IPY_MODEL_4e445f107d394e49935d417cd0078b72",
       "value": "-"
      }
     },
     "9a0dffd8a72340e6b78cfe960ad73a30": {
      "model_module": "@jupyter-widgets/base",
      "model_module_version": "2.0.0",
      "model_name": "LayoutModel",
      "state": {
       "width": "145px"
      }
     },
     "9a40719ecc9546f8a43a8663cb08f6c1": {
      "model_module": "@jupyter-widgets/controls",
      "model_module_version": "2.0.0",
      "model_name": "HBoxModel",
      "state": {
       "children": [
        "IPY_MODEL_e03ffe4f461d40fb871aa8ef069ea5c0",
        "IPY_MODEL_3d9495bbf74545d4a8fcb5b4812981b7",
        "IPY_MODEL_313ace5b7b52418f94d404fd6a2c19ed",
        "IPY_MODEL_c90c2f6694ed4752a40b0bc076c64a65",
        "IPY_MODEL_7c71fac3cb814768ae46b4d4c0d9a835",
        "IPY_MODEL_7f9f5b6405bf4b299d3332e3da55fcb8"
       ],
       "layout": "IPY_MODEL_626483f976ed42cd933b977e0942c961"
      }
     },
     "9ac5cbaa313a4a079e1c431e68c57aee": {
      "model_module": "@jupyter-widgets/controls",
      "model_module_version": "2.0.0",
      "model_name": "ButtonModel",
      "state": {
       "icon": "close",
       "layout": "IPY_MODEL_b5d1c1fb66c24e7395c127dab4ae6a5d",
       "style": "IPY_MODEL_b4304e8bc49f4b20984ca26ba0693932",
       "tooltip": null
      }
     },
     "9adbb46da8e045f8ad417a5680f443b3": {
      "model_module": "@jupyter-widgets/controls",
      "model_module_version": "2.0.0",
      "model_name": "HTMLStyleModel",
      "state": {
       "description_width": "",
       "font_size": null,
       "text_color": null
      }
     },
     "9b17553908da4a29b81d439dab80a9d2": {
      "model_module": "@jupyter-widgets/controls",
      "model_module_version": "2.0.0",
      "model_name": "HTMLStyleModel",
      "state": {
       "description_width": "",
       "font_size": null,
       "text_color": null
      }
     },
     "9b25970b62ad4e31811c5de424555243": {
      "model_module": "@jupyter-widgets/controls",
      "model_module_version": "2.0.0",
      "model_name": "HTMLModel",
      "state": {
       "layout": "IPY_MODEL_5edceba1aac84d30a298d494e15913a5",
       "style": "IPY_MODEL_fe0288211e52487b8dc0ab15acc0b49b",
       "value": "-"
      }
     },
     "9be220d708dd41ac8182b8631fb774fa": {
      "model_module": "@jupyter-widgets/controls",
      "model_module_version": "2.0.0",
      "model_name": "HTMLModel",
      "state": {
       "layout": "IPY_MODEL_57d3c977069e4836b77b5b57fb34ea30",
       "style": "IPY_MODEL_01974791a9194cd3a17f468c39b4554a",
       "value": "-"
      }
     },
     "9c13b7f108374a2f9beb7a0e79efd8ed": {
      "model_module": "@jupyter-widgets/controls",
      "model_module_version": "2.0.0",
      "model_name": "ButtonStyleModel",
      "state": {
       "button_color": "white",
       "font_family": null,
       "font_size": null,
       "font_style": null,
       "font_variant": null,
       "font_weight": null,
       "text_color": null,
       "text_decoration": null
      }
     },
     "9c1743de70e2458f92ae40d8ef1c5b56": {
      "model_module": "@jupyter-widgets/base",
      "model_module_version": "2.0.0",
      "model_name": "LayoutModel",
      "state": {
       "width": "190px"
      }
     },
     "9c2be36d748c4ed3b9caddd51080df03": {
      "model_module": "@jupyter-widgets/base",
      "model_module_version": "2.0.0",
      "model_name": "LayoutModel",
      "state": {
       "width": "190px"
      }
     },
     "9c81c0f688884f399fd2e7d7f559b63a": {
      "model_module": "@jupyter-widgets/controls",
      "model_module_version": "2.0.0",
      "model_name": "HTMLModel",
      "state": {
       "layout": "IPY_MODEL_416723c020c940059d5d9fb2dbb240bf",
       "style": "IPY_MODEL_3f70557e1f5a4574b6b13552db1f3017",
       "value": "<font style='color:#34BC6E'>DONE</font>"
      }
     },
     "9c8bce4c2aed4342b049cf17a9bd6728": {
      "model_module": "@jupyter-widgets/controls",
      "model_module_version": "2.0.0",
      "model_name": "HBoxModel",
      "state": {
       "children": [
        "IPY_MODEL_11ba4cb4685c4381bb60eeb2da61eb0a",
        "IPY_MODEL_eb2809a2d6f1471fa5cc956f9181ab76",
        "IPY_MODEL_8b0465033aa54b2fa5851c83cf49b3e7",
        "IPY_MODEL_ceb45c84d685418fa680fba2d1cd0baf",
        "IPY_MODEL_98ab3d35eba242e6ac87d2aac04c3d62",
        "IPY_MODEL_bd79a534c27b4b4dbe7b9545345b5cc4"
       ],
       "layout": "IPY_MODEL_d8b090465a0c4f79b8c010c3c36c914d"
      }
     },
     "9c8f2cef414c4d009a49717db5452bda": {
      "model_module": "@jupyter-widgets/base",
      "model_module_version": "2.0.0",
      "model_name": "LayoutModel",
      "state": {
       "width": "95px"
      }
     },
     "9cc939f7a8c8468fa33592b48ff74feb": {
      "model_module": "@jupyter-widgets/controls",
      "model_module_version": "2.0.0",
      "model_name": "HTMLStyleModel",
      "state": {
       "description_width": "",
       "font_size": null,
       "text_color": null
      }
     },
     "9d23181b2ed74a338b3094b7507126a1": {
      "model_module": "@jupyter-widgets/controls",
      "model_module_version": "2.0.0",
      "model_name": "HTMLStyleModel",
      "state": {
       "description_width": "",
       "font_size": null,
       "text_color": null
      }
     },
     "9d309a223ca943ffba4df71c70b4fb9d": {
      "model_module": "@jupyter-widgets/controls",
      "model_module_version": "2.0.0",
      "model_name": "HBoxModel",
      "state": {
       "children": [
        "IPY_MODEL_9ac5cbaa313a4a079e1c431e68c57aee",
        "IPY_MODEL_aab55c5576fa476fa66d4a9b26248611",
        "IPY_MODEL_b04ae0c52d5f464db678db7b950aafe3",
        "IPY_MODEL_572f0d34d5094cef87b105ef421b6cff",
        "IPY_MODEL_563cd8eafc094d74b99ef5e3ef1efdf2",
        "IPY_MODEL_b4ce1c87990244cdbc252aa8e8152641"
       ],
       "layout": "IPY_MODEL_425a8e5b4aee4d85a565bc676f11c70d"
      }
     },
     "9db700222de949c39ad4f31b527f11fe": {
      "model_module": "@jupyter-widgets/base",
      "model_module_version": "2.0.0",
      "model_name": "LayoutModel",
      "state": {
       "max_width": "700px",
       "min_width": "700px"
      }
     },
     "9dc803b497fc4aefb926572748b0a285": {
      "model_module": "@jupyter-widgets/base",
      "model_module_version": "2.0.0",
      "model_name": "LayoutModel",
      "state": {}
     },
     "9de176e2218049efb89634642821a0ff": {
      "model_module": "@jupyter-widgets/base",
      "model_module_version": "2.0.0",
      "model_name": "LayoutModel",
      "state": {
       "width": "190px"
      }
     },
     "9e3d5512c986499bb0b5819e8f4027ee": {
      "model_module": "@jupyter-widgets/base",
      "model_module_version": "2.0.0",
      "model_name": "LayoutModel",
      "state": {
       "width": "70px"
      }
     },
     "9e910d7e69de48ca923f391183d94d97": {
      "model_module": "@jupyter-widgets/controls",
      "model_module_version": "2.0.0",
      "model_name": "HTMLStyleModel",
      "state": {
       "description_width": "",
       "font_size": null,
       "text_color": null
      }
     },
     "9ea38fe63a1641c6aec14cf8c92b8185": {
      "model_module": "@jupyter-widgets/controls",
      "model_module_version": "2.0.0",
      "model_name": "HTMLStyleModel",
      "state": {
       "description_width": "",
       "font_size": null,
       "text_color": null
      }
     },
     "9ea862db2e8f462eb8fabd80eb734696": {
      "model_module": "@jupyter-widgets/base",
      "model_module_version": "2.0.0",
      "model_name": "LayoutModel",
      "state": {
       "width": "95px"
      }
     },
     "9eafcaa0af194898bf7aa57d32d97e35": {
      "model_module": "@jupyter-widgets/controls",
      "model_module_version": "2.0.0",
      "model_name": "HTMLModel",
      "state": {
       "layout": "IPY_MODEL_e1ebc0a68e2a4552a3e7e6911f3f28d4",
       "style": "IPY_MODEL_76cc5833642e4e4b8d8bea432b124f82",
       "value": "ibm_nairobi"
      }
     },
     "9f26038da644498bb8232b0501736ff4": {
      "model_module": "@jupyter-widgets/controls",
      "model_module_version": "2.0.0",
      "model_name": "HTMLStyleModel",
      "state": {
       "description_width": "",
       "font_size": null,
       "text_color": null
      }
     },
     "9f2ce129bde544afae7c9137ba466541": {
      "model_module": "@jupyter-widgets/controls",
      "model_module_version": "2.0.0",
      "model_name": "HBoxModel",
      "state": {
       "children": [
        "IPY_MODEL_be1df44d1e64494a9caecacbe290de33",
        "IPY_MODEL_68120f5abaa44127b2b8e7bb78dab72a",
        "IPY_MODEL_8870874e318241ca93bf45c821d12c8e",
        "IPY_MODEL_5d58c620b7b04f188a0ad6c6ba5d8882",
        "IPY_MODEL_647255f94dbf4c0eb10c77d8285324f6",
        "IPY_MODEL_dc508b8a1eab4d958420df1c966ac717"
       ],
       "layout": "IPY_MODEL_e1735e31449747cb949b98513697f18f"
      }
     },
     "9f348f4155dc4b07a041b87d7ca88d93": {
      "model_module": "@jupyter-widgets/controls",
      "model_module_version": "2.0.0",
      "model_name": "HTMLStyleModel",
      "state": {
       "description_width": "",
       "font_size": null,
       "text_color": null
      }
     },
     "9f7b04dcdca8425f8c9ce5bae9acfea9": {
      "model_module": "@jupyter-widgets/controls",
      "model_module_version": "2.0.0",
      "model_name": "HBoxModel",
      "state": {
       "children": [
        "IPY_MODEL_3a103684302d4e4892aeeb13c31c5c1a",
        "IPY_MODEL_20946286fb9c4fc99ec1970280304ea2",
        "IPY_MODEL_f65c1902cba8429a8d4e1304791c93fa",
        "IPY_MODEL_419b36f3fee24ea59b3894d2b87b479e",
        "IPY_MODEL_1e3328960bbf47b18a8776c63d4d79ba"
       ],
       "layout": "IPY_MODEL_d2e87c3d7e3c4b82bec22a45fa301c35"
      }
     },
     "9f931089ba854eb1835a0e8407ef1ca9": {
      "model_module": "@jupyter-widgets/controls",
      "model_module_version": "2.0.0",
      "model_name": "HTMLModel",
      "state": {
       "layout": "IPY_MODEL_cc8467cd125e4d5c900348d10886cb64",
       "style": "IPY_MODEL_ef01827c9ff04d26a95f19a2116f7bb9",
       "value": "ibm_nairobi"
      }
     },
     "9facbe1f28eb427dafe4051e04037ddc": {
      "model_module": "@jupyter-widgets/controls",
      "model_module_version": "2.0.0",
      "model_name": "ButtonModel",
      "state": {
       "icon": "close",
       "layout": "IPY_MODEL_cb55d71dca1540b1807b6df5954371f2",
       "style": "IPY_MODEL_9616f0d110e04286978b59653e446d8b",
       "tooltip": null
      }
     },
     "a033094d82964817a1dcca6750050277": {
      "model_module": "@jupyter-widgets/controls",
      "model_module_version": "2.0.0",
      "model_name": "HTMLModel",
      "state": {
       "layout": "IPY_MODEL_c1f54ba11f374e6ebb69766a47d79526",
       "style": "IPY_MODEL_896bbd7868a84384b5ba622264b0c19e",
       "value": "cmeba68y4c00008hykbg"
      }
     },
     "a0866e1a7e134547a81931fc75da819a": {
      "model_module": "@jupyter-widgets/base",
      "model_module_version": "2.0.0",
      "model_name": "LayoutModel",
      "state": {
       "width": "190px"
      }
     },
     "a0a2b4f6059244639d7d129fe8a60730": {
      "model_module": "@jupyter-widgets/controls",
      "model_module_version": "2.0.0",
      "model_name": "HTMLStyleModel",
      "state": {
       "description_width": "",
       "font_size": null,
       "text_color": null
      }
     },
     "a0cf1b4c1c1a446eb5c4fcca2d3d6723": {
      "model_module": "@jupyter-widgets/base",
      "model_module_version": "2.0.0",
      "model_name": "LayoutModel",
      "state": {
       "width": "145px"
      }
     },
     "a0dd82c299034f4cbb6b6d78f6f6cfb3": {
      "model_module": "@jupyter-widgets/controls",
      "model_module_version": "2.0.0",
      "model_name": "HTMLStyleModel",
      "state": {
       "description_width": "",
       "font_size": null,
       "text_color": null
      }
     },
     "a0e3e2f8c50f492cb2d0d6456409fe41": {
      "model_module": "@jupyter-widgets/controls",
      "model_module_version": "2.0.0",
      "model_name": "HTMLStyleModel",
      "state": {
       "description_width": "",
       "font_size": null,
       "text_color": null
      }
     },
     "a10f469a8cea4181bca263575f4fdd67": {
      "model_module": "@jupyter-widgets/controls",
      "model_module_version": "2.0.0",
      "model_name": "HTMLModel",
      "state": {
       "layout": "IPY_MODEL_aa7b801450a7423facd6936823b0da36",
       "style": "IPY_MODEL_fd5ea245109149a99644f5db869d1a4e",
       "value": "<font style='color:#34BC6E'>DONE</font>"
      }
     },
     "a16b6ac8ada142f5a33e1dc2459f7c3d": {
      "model_module": "@jupyter-widgets/controls",
      "model_module_version": "2.0.0",
      "model_name": "HTMLModel",
      "state": {
       "layout": "IPY_MODEL_d53e9b257a9842818eb50ca7baca4d98",
       "style": "IPY_MODEL_b5f299196c6b4088a14d09c462893d00",
       "value": "-"
      }
     },
     "a18440732da242f08063d536f2643d45": {
      "model_module": "@jupyter-widgets/controls",
      "model_module_version": "2.0.0",
      "model_name": "HTMLModel",
      "state": {
       "layout": "IPY_MODEL_6022fa9e8d0c458da69acc43c446532d",
       "style": "IPY_MODEL_9802263fb7f34c8bb537c4ba84a9d3a0",
       "value": "cmebegate72g008jt0gg"
      }
     },
     "a1c024ac4d04417799539eb16a43014e": {
      "model_module": "@jupyter-widgets/controls",
      "model_module_version": "2.0.0",
      "model_name": "HTMLStyleModel",
      "state": {
       "description_width": "",
       "font_size": null,
       "text_color": null
      }
     },
     "a1c6fcda71854b5ab0bb1a2c2fcb41e7": {
      "model_module": "@jupyter-widgets/controls",
      "model_module_version": "2.0.0",
      "model_name": "HTMLStyleModel",
      "state": {
       "description_width": "",
       "font_size": null,
       "text_color": null
      }
     },
     "a1f035500ef44cbda9bbc2e05f0fbca6": {
      "model_module": "@jupyter-widgets/controls",
      "model_module_version": "2.0.0",
      "model_name": "HTMLModel",
      "state": {
       "layout": "IPY_MODEL_3e3dd364c90544d7a4929df893f7a1df",
       "style": "IPY_MODEL_27303b0f6823414baed7c8f3648ddd8d",
       "value": "-"
      }
     },
     "a2d9e489a87e46f3a09edc6dfa7a17e2": {
      "model_module": "@jupyter-widgets/base",
      "model_module_version": "2.0.0",
      "model_name": "LayoutModel",
      "state": {
       "width": "70px"
      }
     },
     "a2da7b8abe384372be61bc976c7eaf00": {
      "model_module": "@jupyter-widgets/controls",
      "model_module_version": "2.0.0",
      "model_name": "HTMLStyleModel",
      "state": {
       "description_width": "",
       "font_size": null,
       "text_color": null
      }
     },
     "a2fdd02a509f4fa88cf9f3acb8497619": {
      "model_module": "@jupyter-widgets/controls",
      "model_module_version": "2.0.0",
      "model_name": "HBoxModel",
      "state": {
       "children": [
        "IPY_MODEL_414c6edde11c4306bd0e25f23f663836",
        "IPY_MODEL_5e7c42dc7bd84defad730f2841dc8d86",
        "IPY_MODEL_d3da4f52213a473b8fde3de64ad0fd90",
        "IPY_MODEL_4418cfa301e14b81a659dcab0dcdf840",
        "IPY_MODEL_21b8d4b208c84da987b8d3c8a36d2519",
        "IPY_MODEL_0337378156f043e88555d982762d0e50"
       ],
       "layout": "IPY_MODEL_4848f418d88e42bd9ec811127e771b45"
      }
     },
     "a3321222e0ad4be1a6384604e343b8d4": {
      "model_module": "@jupyter-widgets/controls",
      "model_module_version": "2.0.0",
      "model_name": "HTMLStyleModel",
      "state": {
       "description_width": "",
       "font_size": null,
       "text_color": null
      }
     },
     "a38136635e664c318c32c1a644cebffa": {
      "model_module": "@jupyter-widgets/controls",
      "model_module_version": "2.0.0",
      "model_name": "HTMLModel",
      "state": {
       "layout": "IPY_MODEL_6f089ef7ecbf4136938f3b1ebb6dcd2c",
       "style": "IPY_MODEL_8b3e6f4194fc492e90d03338b64541a3",
       "value": "-"
      }
     },
     "a4a38e08945a4f2fa21e7011afcd0984": {
      "model_module": "@jupyter-widgets/base",
      "model_module_version": "2.0.0",
      "model_name": "LayoutModel",
      "state": {
       "max_width": "700px",
       "min_width": "700px"
      }
     },
     "a4ab20eb4ea64156b9d2e90a88fbb2c0": {
      "model_module": "@jupyter-widgets/base",
      "model_module_version": "2.0.0",
      "model_name": "LayoutModel",
      "state": {
       "width": "145px"
      }
     },
     "a4c5ef4329684389a2c73f4a66f248ca": {
      "model_module": "@jupyter-widgets/controls",
      "model_module_version": "2.0.0",
      "model_name": "HTMLModel",
      "state": {
       "layout": "IPY_MODEL_d14a534c8b9c4712ac98d1006b76117d",
       "style": "IPY_MODEL_8bfa6a86b31545f59ec268944bea1409",
       "value": "ibm_nairobi"
      }
     },
     "a4d801f702af4536a2a4d95e400f9b9c": {
      "model_module": "@jupyter-widgets/base",
      "model_module_version": "2.0.0",
      "model_name": "LayoutModel",
      "state": {
       "width": "145px"
      }
     },
     "a4f8869b6e5f43dea1d6169ec443e9ec": {
      "model_module": "@jupyter-widgets/controls",
      "model_module_version": "2.0.0",
      "model_name": "HTMLStyleModel",
      "state": {
       "description_width": "",
       "font_size": null,
       "text_color": null
      }
     },
     "a50258871c5644be8e98b7ddb2d03df3": {
      "model_module": "@jupyter-widgets/controls",
      "model_module_version": "2.0.0",
      "model_name": "HTMLStyleModel",
      "state": {
       "description_width": "",
       "font_size": null,
       "text_color": null
      }
     },
     "a54e175a03e543a2b5b32985cc0de138": {
      "model_module": "@jupyter-widgets/controls",
      "model_module_version": "2.0.0",
      "model_name": "HTMLModel",
      "state": {
       "layout": "IPY_MODEL_352032234057481a9bef41c0ca15dee5",
       "style": "IPY_MODEL_c67c6f3bc86f404dae5aff5cd3ad1574",
       "value": "ibm_nairobi"
      }
     },
     "a583e3698f614b67a718137b83bd384c": {
      "model_module": "@jupyter-widgets/controls",
      "model_module_version": "2.0.0",
      "model_name": "HTMLStyleModel",
      "state": {
       "description_width": "",
       "font_size": null,
       "text_color": null
      }
     },
     "a5cd500b6ba64a858b6c9465a66bb2be": {
      "model_module": "@jupyter-widgets/controls",
      "model_module_version": "2.0.0",
      "model_name": "ButtonModel",
      "state": {
       "icon": "close",
       "layout": "IPY_MODEL_357a7327e96c4c15a17a4ff2a0836034",
       "style": "IPY_MODEL_a88edbaf2e064780aa714601037734b2",
       "tooltip": null
      }
     },
     "a5d0697266b6428f9139a36ca0bd68ab": {
      "model_module": "@jupyter-widgets/controls",
      "model_module_version": "2.0.0",
      "model_name": "HTMLStyleModel",
      "state": {
       "description_width": "",
       "font_size": null,
       "text_color": null
      }
     },
     "a5f96a5290a84508a85fda6661da4667": {
      "model_module": "@jupyter-widgets/controls",
      "model_module_version": "2.0.0",
      "model_name": "HTMLStyleModel",
      "state": {
       "description_width": "",
       "font_size": null,
       "text_color": null
      }
     },
     "a610e3a9d0cb4d35bcfcbb873ee5af36": {
      "model_module": "@jupyter-widgets/controls",
      "model_module_version": "2.0.0",
      "model_name": "HTMLModel",
      "state": {
       "layout": "IPY_MODEL_3c2026040aff4ac6a648b1c474e50401",
       "style": "IPY_MODEL_e8ba00bb53064830a328725fe72d46ca",
       "value": "-"
      }
     },
     "a611216b7be648fa950ee9054a88cee2": {
      "model_module": "@jupyter-widgets/controls",
      "model_module_version": "2.0.0",
      "model_name": "ButtonStyleModel",
      "state": {
       "button_color": "white",
       "font_family": null,
       "font_size": null,
       "font_style": null,
       "font_variant": null,
       "font_weight": null,
       "text_color": null,
       "text_decoration": null
      }
     },
     "a66f30ed9d7f40ad9a8b1603b86deb2b": {
      "model_module": "@jupyter-widgets/controls",
      "model_module_version": "2.0.0",
      "model_name": "HTMLStyleModel",
      "state": {
       "description_width": "",
       "font_size": null,
       "text_color": null
      }
     },
     "a699c90bf520418a849a8c7691bc4f57": {
      "model_module": "@jupyter-widgets/base",
      "model_module_version": "2.0.0",
      "model_name": "LayoutModel",
      "state": {
       "width": "145px"
      }
     },
     "a6af47b60dcb457ea1ece614efa4b6e0": {
      "model_module": "@jupyter-widgets/base",
      "model_module_version": "2.0.0",
      "model_name": "LayoutModel",
      "state": {}
     },
     "a6df09c15a884fadbcddd270565c1d35": {
      "model_module": "@jupyter-widgets/controls",
      "model_module_version": "2.0.0",
      "model_name": "HBoxModel",
      "state": {
       "children": [
        "IPY_MODEL_0f8d28fc0f344deea4a8f846ae92d4f2",
        "IPY_MODEL_3845580ec6314edf9a7c4514abd12106",
        "IPY_MODEL_f259fbca6ab64e63ae88461a099e81e6",
        "IPY_MODEL_9c81c0f688884f399fd2e7d7f559b63a",
        "IPY_MODEL_215bd49e81c1463b8e69221383883f71",
        "IPY_MODEL_28f3858107d74a9baf23d22bf6748c06"
       ],
       "layout": "IPY_MODEL_8ad54c998b734d888f51b6c32e389856"
      }
     },
     "a70e3c47ad514cdbbbd15c31afec55e8": {
      "model_module": "@jupyter-widgets/base",
      "model_module_version": "2.0.0",
      "model_name": "LayoutModel",
      "state": {
       "margin": "0px 5px 0px 0px",
       "width": "32px"
      }
     },
     "a7585cf7296d4928883570f79a70ce8b": {
      "model_module": "@jupyter-widgets/base",
      "model_module_version": "2.0.0",
      "model_name": "LayoutModel",
      "state": {
       "margin": "0px 5px 0px 0px",
       "width": "32px"
      }
     },
     "a765d8c664ea456ca6a4649868b37f24": {
      "model_module": "@jupyter-widgets/controls",
      "model_module_version": "2.0.0",
      "model_name": "HTMLStyleModel",
      "state": {
       "description_width": "",
       "font_size": null,
       "text_color": null
      }
     },
     "a77267ea7db84d12ae69266da45dc793": {
      "model_module": "@jupyter-widgets/controls",
      "model_module_version": "2.0.0",
      "model_name": "ButtonModel",
      "state": {
       "icon": "close",
       "layout": "IPY_MODEL_929018d3189a425b976c806e125ed880",
       "style": "IPY_MODEL_bcab7c8eb1e14868a3320bb159e430a7",
       "tooltip": null
      }
     },
     "a79e5476d74a47f199001e893f1b5214": {
      "model_module": "@jupyter-widgets/controls",
      "model_module_version": "2.0.0",
      "model_name": "HTMLStyleModel",
      "state": {
       "description_width": "",
       "font_size": null,
       "text_color": null
      }
     },
     "a7a4b4ae5fce41a69724b1ecd8766291": {
      "model_module": "@jupyter-widgets/controls",
      "model_module_version": "2.0.0",
      "model_name": "HTMLStyleModel",
      "state": {
       "description_width": "",
       "font_size": null,
       "text_color": null
      }
     },
     "a7a9818693184d57b4577d91506f91cd": {
      "model_module": "@jupyter-widgets/base",
      "model_module_version": "2.0.0",
      "model_name": "LayoutModel",
      "state": {
       "margin": "0px 5px 0px 0px",
       "width": "32px"
      }
     },
     "a87af47fcfc849958e7b1913d7384766": {
      "model_module": "@jupyter-widgets/controls",
      "model_module_version": "2.0.0",
      "model_name": "HTMLModel",
      "state": {
       "layout": "IPY_MODEL_15fa96efff174876bf459cc344252101",
       "style": "IPY_MODEL_1c246fdabd444dc384fc828fe89924f6",
       "value": "job has successfully run"
      }
     },
     "a88edbaf2e064780aa714601037734b2": {
      "model_module": "@jupyter-widgets/controls",
      "model_module_version": "2.0.0",
      "model_name": "ButtonStyleModel",
      "state": {
       "button_color": "white",
       "font_family": null,
       "font_size": null,
       "font_style": null,
       "font_variant": null,
       "font_weight": null,
       "text_color": null,
       "text_decoration": null
      }
     },
     "a8c627a8be434587a3e8ee9e597a11b4": {
      "model_module": "@jupyter-widgets/controls",
      "model_module_version": "2.0.0",
      "model_name": "HTMLModel",
      "state": {
       "layout": "IPY_MODEL_6884dd6fa571434f964822f5861a62da",
       "style": "IPY_MODEL_4cb2fcc103cb41538f456a2101f23dce",
       "value": "job has successfully run"
      }
     },
     "a8facd39eeb14a3584432af32f288748": {
      "model_module": "@jupyter-widgets/controls",
      "model_module_version": "2.0.0",
      "model_name": "HTMLModel",
      "state": {
       "layout": "IPY_MODEL_9c1743de70e2458f92ae40d8ef1c5b56",
       "style": "IPY_MODEL_35ef62580a8340488dd4cd2e72e29279",
       "value": "cmebcqjy4c00008hykhg"
      }
     },
     "a8fe548e854b4f078c5d53a2f45f2330": {
      "model_module": "@jupyter-widgets/controls",
      "model_module_version": "2.0.0",
      "model_name": "ButtonStyleModel",
      "state": {
       "button_color": "white",
       "font_family": null,
       "font_size": null,
       "font_style": null,
       "font_variant": null,
       "font_weight": null,
       "text_color": null,
       "text_decoration": null
      }
     },
     "a945f82066214acfb55727c38d0a185c": {
      "model_module": "@jupyter-widgets/controls",
      "model_module_version": "2.0.0",
      "model_name": "HTMLModel",
      "state": {
       "layout": "IPY_MODEL_db39759433d24a23871446388c33cdb0",
       "style": "IPY_MODEL_b333ae4db7df4abba1a7484b871eb6b2",
       "value": "job has successfully run"
      }
     },
     "a97f9b03594c4ae690b32ed53ff94199": {
      "model_module": "@jupyter-widgets/base",
      "model_module_version": "2.0.0",
      "model_name": "LayoutModel",
      "state": {
       "width": "145px"
      }
     },
     "a9866d156da649f698e4f7e8b2c1d7eb": {
      "model_module": "@jupyter-widgets/controls",
      "model_module_version": "2.0.0",
      "model_name": "ButtonStyleModel",
      "state": {
       "button_color": "white",
       "font_family": null,
       "font_size": null,
       "font_style": null,
       "font_variant": null,
       "font_weight": null,
       "text_color": null,
       "text_decoration": null
      }
     },
     "a9c79da77998440395b6f9f717686d97": {
      "model_module": "@jupyter-widgets/controls",
      "model_module_version": "2.0.0",
      "model_name": "HTMLStyleModel",
      "state": {
       "description_width": "",
       "font_size": null,
       "text_color": null
      }
     },
     "aa547e21576e46fe9948fefacb45b0ca": {
      "model_module": "@jupyter-widgets/controls",
      "model_module_version": "2.0.0",
      "model_name": "HTMLModel",
      "state": {
       "layout": "IPY_MODEL_343a7f58faa24d4088068af60ad40b0b",
       "style": "IPY_MODEL_f1865ee07bd340229fe10f2566378f1e",
       "value": "<font style='color:#34BC6E'>DONE</font>"
      }
     },
     "aa5ff3f5e4374dbca379d4b691a2d622": {
      "model_module": "@jupyter-widgets/base",
      "model_module_version": "2.0.0",
      "model_name": "LayoutModel",
      "state": {
       "margin": "0px 5px 0px 0px",
       "width": "32px"
      }
     },
     "aa6659dd8f9a4e15b6250579e1c9f32b": {
      "model_module": "@jupyter-widgets/base",
      "model_module_version": "2.0.0",
      "model_name": "LayoutModel",
      "state": {
       "max_width": "700px",
       "min_width": "700px"
      }
     },
     "aa7b801450a7423facd6936823b0da36": {
      "model_module": "@jupyter-widgets/base",
      "model_module_version": "2.0.0",
      "model_name": "LayoutModel",
      "state": {
       "width": "95px"
      }
     },
     "aaa14d009563495eb5cb4fefef7b0c81": {
      "model_module": "@jupyter-widgets/base",
      "model_module_version": "2.0.0",
      "model_name": "LayoutModel",
      "state": {
       "width": "190px"
      }
     },
     "aab55c5576fa476fa66d4a9b26248611": {
      "model_module": "@jupyter-widgets/controls",
      "model_module_version": "2.0.0",
      "model_name": "HTMLModel",
      "state": {
       "layout": "IPY_MODEL_aaa14d009563495eb5cb4fefef7b0c81",
       "style": "IPY_MODEL_ffbdc72746e74995ab9e51b85770c58f",
       "value": "cmeax24wcht0008ybfrg"
      }
     },
     "ab2289a378c841378ee3ad3d28be5ca7": {
      "model_module": "@jupyter-widgets/base",
      "model_module_version": "2.0.0",
      "model_name": "LayoutModel",
      "state": {}
     },
     "ab256df8468449dbb680aa7bc1f0dfc7": {
      "model_module": "@jupyter-widgets/controls",
      "model_module_version": "2.0.0",
      "model_name": "HTMLStyleModel",
      "state": {
       "description_width": "",
       "font_size": null,
       "text_color": null
      }
     },
     "ab2efd789d5146eb944ff097365d3aef": {
      "model_module": "@jupyter-widgets/controls",
      "model_module_version": "2.0.0",
      "model_name": "HTMLStyleModel",
      "state": {
       "description_width": "",
       "font_size": null,
       "text_color": null
      }
     },
     "ab3d125160c5438489cfd49092cd46cc": {
      "model_module": "@jupyter-widgets/controls",
      "model_module_version": "2.0.0",
      "model_name": "HTMLModel",
      "state": {
       "layout": "IPY_MODEL_5b0395bd996e4c53931ec86b45247813",
       "style": "IPY_MODEL_18b8b16334ba470bac6cbf1b07b06382",
       "value": "ibm_nairobi"
      }
     },
     "ab640a553e614029bad1715b21ddeb7f": {
      "model_module": "@jupyter-widgets/controls",
      "model_module_version": "2.0.0",
      "model_name": "HTMLStyleModel",
      "state": {
       "description_width": "",
       "font_size": null,
       "text_color": null
      }
     },
     "ab6b865b5a924eb09eb99d455c121684": {
      "model_module": "@jupyter-widgets/controls",
      "model_module_version": "2.0.0",
      "model_name": "HTMLModel",
      "state": {
       "layout": "IPY_MODEL_0186aca25932492da32e49cbaa878945",
       "style": "IPY_MODEL_8a7c6e82bff442f5a9dfbfd34cfe8b92",
       "value": "job has successfully run"
      }
     },
     "ab7c0a5960cd4b969d59fcf72d61c106": {
      "model_module": "@jupyter-widgets/controls",
      "model_module_version": "2.0.0",
      "model_name": "HTMLStyleModel",
      "state": {
       "description_width": "",
       "font_size": null,
       "text_color": null
      }
     },
     "abaec90acd1e4025b93b6cd7e4bd31c8": {
      "model_module": "@jupyter-widgets/controls",
      "model_module_version": "2.0.0",
      "model_name": "HTMLStyleModel",
      "state": {
       "description_width": "",
       "font_size": null,
       "text_color": null
      }
     },
     "abaef8d7de2a4491b6ff700591c5179f": {
      "model_module": "@jupyter-widgets/base",
      "model_module_version": "2.0.0",
      "model_name": "LayoutModel",
      "state": {
       "width": "95px"
      }
     },
     "ac8ae98554c546b291a1d5db38fcf55a": {
      "model_module": "@jupyter-widgets/controls",
      "model_module_version": "2.0.0",
      "model_name": "HTMLModel",
      "state": {
       "layout": "IPY_MODEL_ab2289a378c841378ee3ad3d28be5ca7",
       "style": "IPY_MODEL_1951157dd17d4148b4d237e3108f36b0",
       "value": "job has successfully run"
      }
     },
     "acf951f6a4f74f28b0deef378574aadf": {
      "model_module": "@jupyter-widgets/controls",
      "model_module_version": "2.0.0",
      "model_name": "HTMLStyleModel",
      "state": {
       "description_width": "",
       "font_size": null,
       "text_color": null
      }
     },
     "ad5ab845f0b7407f9bd102c95de74532": {
      "model_module": "@jupyter-widgets/base",
      "model_module_version": "2.0.0",
      "model_name": "LayoutModel",
      "state": {
       "width": "95px"
      }
     },
     "ad824ef4f5d04bb19cfbcf191bc0f70b": {
      "model_module": "@jupyter-widgets/base",
      "model_module_version": "2.0.0",
      "model_name": "LayoutModel",
      "state": {
       "width": "190px"
      }
     },
     "ad9c1d44bc474d1bb6b3f7af27cf6306": {
      "model_module": "@jupyter-widgets/controls",
      "model_module_version": "2.0.0",
      "model_name": "HTMLStyleModel",
      "state": {
       "description_width": "",
       "font_size": null,
       "text_color": null
      }
     },
     "ae90288fcbc9477486288acf30c1ee11": {
      "model_module": "@jupyter-widgets/controls",
      "model_module_version": "2.0.0",
      "model_name": "HTMLModel",
      "state": {
       "layout": "IPY_MODEL_3caf5bac62e74b958ab4ef7cf0dcd02f",
       "style": "IPY_MODEL_7f90eec6be53446bb9c7e612bdea2a6f",
       "value": "<font style='color:#34BC6E'>DONE</font>"
      }
     },
     "ae9ede49efba4c29bf1c3afce4681281": {
      "model_module": "@jupyter-widgets/controls",
      "model_module_version": "2.0.0",
      "model_name": "ButtonStyleModel",
      "state": {
       "button_color": "white",
       "font_family": null,
       "font_size": null,
       "font_style": null,
       "font_variant": null,
       "font_weight": null,
       "text_color": null,
       "text_decoration": null
      }
     },
     "aece7f0236c74015bbb147a87f3184e2": {
      "model_module": "@jupyter-widgets/controls",
      "model_module_version": "2.0.0",
      "model_name": "HBoxModel",
      "state": {
       "children": [
        "IPY_MODEL_f46f0328d7c74217985d56c80df18be7",
        "IPY_MODEL_6b09df3cabe64da29dfb961c86b35f02",
        "IPY_MODEL_94ccea2e13914e788d3f1af9f75aa0aa",
        "IPY_MODEL_c4b952935f0049899a366bcd919b6ca1",
        "IPY_MODEL_35e9b6f5e5874c41b68632da6e543119",
        "IPY_MODEL_eb6a9c4e872445b39519a05bede845dc"
       ],
       "layout": "IPY_MODEL_66b3ea9eb3bb48218b935d81080738ad"
      }
     },
     "af91f89265f94fb8ad8e9f437f211a85": {
      "model_module": "@jupyter-widgets/controls",
      "model_module_version": "2.0.0",
      "model_name": "HBoxModel",
      "state": {
       "children": [
        "IPY_MODEL_6b76e42a83ec45fb8d9ebcc5aaa00524",
        "IPY_MODEL_2a5261735f07462fb75591f90d030a4f",
        "IPY_MODEL_cacff178f118470c813fadc6511b9b2e",
        "IPY_MODEL_fe0fa8602d3c4d24a14215589960045b",
        "IPY_MODEL_3035487a89a74c719c283acca16418c9",
        "IPY_MODEL_cb2b37d2b6174cd5a6364504e523bdb8"
       ],
       "layout": "IPY_MODEL_09dd4e9017ee40c39f3c9b7139d1fd92"
      }
     },
     "af96d8d91b6845d1bce0d8c3b53a4553": {
      "model_module": "@jupyter-widgets/controls",
      "model_module_version": "2.0.0",
      "model_name": "HTMLStyleModel",
      "state": {
       "description_width": "",
       "font_size": null,
       "text_color": null
      }
     },
     "afd50888ee9d45408af7568ee3d207c3": {
      "model_module": "@jupyter-widgets/controls",
      "model_module_version": "2.0.0",
      "model_name": "HTMLModel",
      "state": {
       "layout": "IPY_MODEL_3fbc6967c9e64616ba15e0dcea23abd9",
       "style": "IPY_MODEL_5b9d530386264be3a7fa97196ec5d056",
       "value": "cmeak54y4c00008hyjn0"
      }
     },
     "b004c55c040f421485dc6840b4bc7c8f": {
      "model_module": "@jupyter-widgets/base",
      "model_module_version": "2.0.0",
      "model_name": "LayoutModel",
      "state": {
       "width": "95px"
      }
     },
     "b04289a3be5a47efac6c964d1446b8d6": {
      "model_module": "@jupyter-widgets/controls",
      "model_module_version": "2.0.0",
      "model_name": "HTMLModel",
      "state": {
       "layout": "IPY_MODEL_b0fb51c9b3db43a29b723c4e63ee1cf0",
       "style": "IPY_MODEL_e91f409c7cea40779f9bc5bd2d9f5290",
       "value": "-"
      }
     },
     "b04ae0c52d5f464db678db7b950aafe3": {
      "model_module": "@jupyter-widgets/controls",
      "model_module_version": "2.0.0",
      "model_name": "HTMLModel",
      "state": {
       "layout": "IPY_MODEL_d327eefd504c4afeb8649310a723acb6",
       "style": "IPY_MODEL_c29377274ba64a64a10a4fbe3de5fb16",
       "value": "ibm_nairobi"
      }
     },
     "b07e0d6a19a049b197f6319189fd423b": {
      "model_module": "@jupyter-widgets/base",
      "model_module_version": "2.0.0",
      "model_name": "LayoutModel",
      "state": {
       "width": "145px"
      }
     },
     "b0fb51c9b3db43a29b723c4e63ee1cf0": {
      "model_module": "@jupyter-widgets/base",
      "model_module_version": "2.0.0",
      "model_name": "LayoutModel",
      "state": {
       "width": "70px"
      }
     },
     "b19d1bbb09484c2e94bcef520f5050d9": {
      "model_module": "@jupyter-widgets/base",
      "model_module_version": "2.0.0",
      "model_name": "LayoutModel",
      "state": {
       "margin": "0px 5px 0px 0px",
       "width": "32px"
      }
     },
     "b1a33a5ebe1247d4bd6eaecf81aef1da": {
      "model_module": "@jupyter-widgets/controls",
      "model_module_version": "2.0.0",
      "model_name": "HTMLModel",
      "state": {
       "layout": "IPY_MODEL_9a0dffd8a72340e6b78cfe960ad73a30",
       "style": "IPY_MODEL_2d181c5ddadb4b8095fd812d225ece0d",
       "value": "ibm_nairobi"
      }
     },
     "b1b704098dfa42b090d942f420516639": {
      "model_module": "@jupyter-widgets/controls",
      "model_module_version": "2.0.0",
      "model_name": "HTMLStyleModel",
      "state": {
       "description_width": "",
       "font_size": null,
       "text_color": null
      }
     },
     "b1bb3c207acd4c9da2af04c60d4b8ca0": {
      "model_module": "@jupyter-widgets/controls",
      "model_module_version": "2.0.0",
      "model_name": "HTMLModel",
      "state": {
       "layout": "IPY_MODEL_0d2548b0231f49aa95a0f73c5d7d000a",
       "style": "IPY_MODEL_23937d968d5e4519ab12f0b1ea39b756",
       "value": "<font style='color:#34BC6E'>DONE</font>"
      }
     },
     "b20b8b6537ae4348b2317cd9e799a78f": {
      "model_module": "@jupyter-widgets/controls",
      "model_module_version": "2.0.0",
      "model_name": "HTMLStyleModel",
      "state": {
       "description_width": "",
       "font_size": null,
       "text_color": null
      }
     },
     "b227fcbcd23c482caf109f016eab207a": {
      "model_module": "@jupyter-widgets/base",
      "model_module_version": "2.0.0",
      "model_name": "LayoutModel",
      "state": {}
     },
     "b237e5793ad2487ba853e7ca8110dc1a": {
      "model_module": "@jupyter-widgets/controls",
      "model_module_version": "2.0.0",
      "model_name": "HTMLModel",
      "state": {
       "layout": "IPY_MODEL_b004c55c040f421485dc6840b4bc7c8f",
       "style": "IPY_MODEL_ba709292f1e84c96b4ceda2db0299533",
       "value": "<font style='color:#34BC6E'>DONE</font>"
      }
     },
     "b23dba8a8eb74af8aefef0f241f6a913": {
      "model_module": "@jupyter-widgets/controls",
      "model_module_version": "2.0.0",
      "model_name": "HTMLStyleModel",
      "state": {
       "description_width": "",
       "font_size": null,
       "text_color": null
      }
     },
     "b333ae4db7df4abba1a7484b871eb6b2": {
      "model_module": "@jupyter-widgets/controls",
      "model_module_version": "2.0.0",
      "model_name": "HTMLStyleModel",
      "state": {
       "description_width": "",
       "font_size": null,
       "text_color": null
      }
     },
     "b3989a6a03854fe3b8b29ca4458d0a44": {
      "model_module": "@jupyter-widgets/controls",
      "model_module_version": "2.0.0",
      "model_name": "HTMLModel",
      "state": {
       "layout": "IPY_MODEL_7b09803cd4ec4513b893ffab25dd7abc",
       "style": "IPY_MODEL_d60caf815b114328b72f6bf35405b2e6",
       "value": "cmebbzfy4c00008hykeg"
      }
     },
     "b3b204a4ddf041198089d0cc4b90d5c4": {
      "model_module": "@jupyter-widgets/controls",
      "model_module_version": "2.0.0",
      "model_name": "HTMLModel",
      "state": {
       "layout": "IPY_MODEL_933ccb22145542d9babf4f7c43997b3e",
       "style": "IPY_MODEL_ab2efd789d5146eb944ff097365d3aef",
       "value": "-"
      }
     },
     "b3c67466426e4cceb83058cf8c332105": {
      "model_module": "@jupyter-widgets/base",
      "model_module_version": "2.0.0",
      "model_name": "LayoutModel",
      "state": {
       "width": "190px"
      }
     },
     "b3ce2f13e1944df5bf500dcce84c7baf": {
      "model_module": "@jupyter-widgets/controls",
      "model_module_version": "2.0.0",
      "model_name": "HTMLModel",
      "state": {
       "layout": "IPY_MODEL_43f45bbfa7304573aa3f0fddbdfbee89",
       "style": "IPY_MODEL_884493054e0d484e9c40e72049625421",
       "value": "cmebdbdte72g008jt0f0"
      }
     },
     "b3fc93c330194b3487733ecf39a51900": {
      "model_module": "@jupyter-widgets/controls",
      "model_module_version": "2.0.0",
      "model_name": "HTMLStyleModel",
      "state": {
       "description_width": "",
       "font_size": null,
       "text_color": null
      }
     },
     "b4262a06e0e9421c9ac48ea745afa38c": {
      "model_module": "@jupyter-widgets/base",
      "model_module_version": "2.0.0",
      "model_name": "LayoutModel",
      "state": {
       "width": "95px"
      }
     },
     "b4304e8bc49f4b20984ca26ba0693932": {
      "model_module": "@jupyter-widgets/controls",
      "model_module_version": "2.0.0",
      "model_name": "ButtonStyleModel",
      "state": {
       "button_color": "white",
       "font_family": null,
       "font_size": null,
       "font_style": null,
       "font_variant": null,
       "font_weight": null,
       "text_color": null,
       "text_decoration": null
      }
     },
     "b4624744bfbc472281a83c0cd39ee38d": {
      "model_module": "@jupyter-widgets/controls",
      "model_module_version": "2.0.0",
      "model_name": "GridBoxModel",
      "state": {
       "children": [
        "IPY_MODEL_0f409b012e9547eaa063132cd7eca1c6"
       ],
       "layout": "IPY_MODEL_5592f7f8f8024eea8c3dd6c3522ff620"
      }
     },
     "b48e21a93bbb48209763fc31203b550d": {
      "model_module": "@jupyter-widgets/base",
      "model_module_version": "2.0.0",
      "model_name": "LayoutModel",
      "state": {
       "max_width": "700px",
       "min_width": "700px"
      }
     },
     "b49156f682dc4ed89fc89066dfd74ac2": {
      "model_module": "@jupyter-widgets/controls",
      "model_module_version": "2.0.0",
      "model_name": "HTMLModel",
      "state": {
       "layout": "IPY_MODEL_2240a1a584764832a9d5320aa0db7dbd",
       "style": "IPY_MODEL_7d12be37f76d41b892fe7112341dbd1c",
       "value": "-"
      }
     },
     "b4a07b585c1747b1b4f97b7323810b21": {
      "model_module": "@jupyter-widgets/base",
      "model_module_version": "2.0.0",
      "model_name": "LayoutModel",
      "state": {
       "margin": "0px 5px 0px 0px",
       "width": "32px"
      }
     },
     "b4b94bf5556649f3a37c9d1627f30132": {
      "model_module": "@jupyter-widgets/base",
      "model_module_version": "2.0.0",
      "model_name": "LayoutModel",
      "state": {
       "width": "190px"
      }
     },
     "b4ce1c87990244cdbc252aa8e8152641": {
      "model_module": "@jupyter-widgets/controls",
      "model_module_version": "2.0.0",
      "model_name": "HTMLModel",
      "state": {
       "layout": "IPY_MODEL_d3ec3c68abc44c6997e6f4665347b2ca",
       "style": "IPY_MODEL_828fbba08d424419a4cf3964b3ffc1d4",
       "value": "job has successfully run"
      }
     },
     "b4da131677884c01bafb015d125b3963": {
      "model_module": "@jupyter-widgets/base",
      "model_module_version": "2.0.0",
      "model_name": "LayoutModel",
      "state": {
       "width": "70px"
      }
     },
     "b4e2775b942341c5b5468db9c024faf6": {
      "model_module": "@jupyter-widgets/controls",
      "model_module_version": "2.0.0",
      "model_name": "HTMLStyleModel",
      "state": {
       "description_width": "",
       "font_size": null,
       "text_color": null
      }
     },
     "b558dfff76474ff1904c1f5e1e89354f": {
      "model_module": "@jupyter-widgets/base",
      "model_module_version": "2.0.0",
      "model_name": "LayoutModel",
      "state": {
       "width": "95px"
      }
     },
     "b5d1c1fb66c24e7395c127dab4ae6a5d": {
      "model_module": "@jupyter-widgets/base",
      "model_module_version": "2.0.0",
      "model_name": "LayoutModel",
      "state": {
       "margin": "0px 5px 0px 0px",
       "width": "32px"
      }
     },
     "b5ed9172bac34f84af325d1ea076b0db": {
      "model_module": "@jupyter-widgets/base",
      "model_module_version": "2.0.0",
      "model_name": "LayoutModel",
      "state": {
       "margin": "0px 5px 0px 0px",
       "width": "32px"
      }
     },
     "b5f299196c6b4088a14d09c462893d00": {
      "model_module": "@jupyter-widgets/controls",
      "model_module_version": "2.0.0",
      "model_name": "HTMLStyleModel",
      "state": {
       "description_width": "",
       "font_size": null,
       "text_color": null
      }
     },
     "b676cab6b2244629bf998d8fc8926c05": {
      "model_module": "@jupyter-widgets/base",
      "model_module_version": "2.0.0",
      "model_name": "LayoutModel",
      "state": {
       "margin": "0px 5px 0px 0px",
       "width": "32px"
      }
     },
     "b6c6d95cfa3e4bea8efe17fb7d1b0539": {
      "model_module": "@jupyter-widgets/controls",
      "model_module_version": "2.0.0",
      "model_name": "ButtonModel",
      "state": {
       "icon": "close",
       "layout": "IPY_MODEL_8cdc5f11d7d040948586b6f08a2b48df",
       "style": "IPY_MODEL_25d9d28d419e4d6c83bc8ac0b81d7b86",
       "tooltip": null
      }
     },
     "b6ec5b684ccd4179a2e71b97846c57e7": {
      "model_module": "@jupyter-widgets/base",
      "model_module_version": "2.0.0",
      "model_name": "LayoutModel",
      "state": {
       "width": "95px"
      }
     },
     "b6eebc92490f4289bc9ff52d4d6356b0": {
      "model_module": "@jupyter-widgets/controls",
      "model_module_version": "2.0.0",
      "model_name": "HBoxModel",
      "state": {
       "children": [
        "IPY_MODEL_fbfc1203dd514fcd8a59775ebc0385e3",
        "IPY_MODEL_2964d8f6b75d4a44a37795b0d169b655",
        "IPY_MODEL_e40b676d61ec4be4be79dff8780adca0",
        "IPY_MODEL_86e5708ace0843ddbf4f45b0b8c8472e",
        "IPY_MODEL_27a4e622d0fc46ae98e0d144e5cc1b45",
        "IPY_MODEL_04c970ef83b34dfaad2a63a9a43e8c6f"
       ],
       "layout": "IPY_MODEL_60f71ced69604ab79b19cc8709ccc778"
      }
     },
     "b84fa4dbbe344c02b165762201cd0026": {
      "model_module": "@jupyter-widgets/base",
      "model_module_version": "2.0.0",
      "model_name": "LayoutModel",
      "state": {
       "width": "145px"
      }
     },
     "b8fd503b90944afebdddc3de25849a39": {
      "model_module": "@jupyter-widgets/controls",
      "model_module_version": "2.0.0",
      "model_name": "HTMLModel",
      "state": {
       "layout": "IPY_MODEL_bf66162aae314cfb9a6a15b5f68ed008",
       "style": "IPY_MODEL_76fd36b5f5634e8cbee7b116127140f9",
       "value": "<font style='color:#34BC6E'>DONE</font>"
      }
     },
     "b944f3169baa48dc8e5349bb435d95b1": {
      "model_module": "@jupyter-widgets/base",
      "model_module_version": "2.0.0",
      "model_name": "LayoutModel",
      "state": {
       "max_width": "700px",
       "min_width": "700px"
      }
     },
     "b95d0e02fe894f4998454e08bc2a1955": {
      "model_module": "@jupyter-widgets/controls",
      "model_module_version": "2.0.0",
      "model_name": "HTMLStyleModel",
      "state": {
       "description_width": "",
       "font_size": null,
       "text_color": null
      }
     },
     "ba079f8011cb4de4b32175bed7a1c4be": {
      "model_module": "@jupyter-widgets/controls",
      "model_module_version": "2.0.0",
      "model_name": "HTMLModel",
      "state": {
       "layout": "IPY_MODEL_f05491b56ec641c09e830cfe150da6a3",
       "style": "IPY_MODEL_e9c965f80126489984684e9a99dcdadd",
       "value": "ibm_nairobi"
      }
     },
     "ba19ccfa4dfb4f01be61be9a382cc575": {
      "model_module": "@jupyter-widgets/controls",
      "model_module_version": "2.0.0",
      "model_name": "HTMLStyleModel",
      "state": {
       "description_width": "",
       "font_size": null,
       "text_color": null
      }
     },
     "ba1f48de8bdc47fb912e84c063d02823": {
      "model_module": "@jupyter-widgets/controls",
      "model_module_version": "2.0.0",
      "model_name": "HTMLModel",
      "state": {
       "layout": "IPY_MODEL_53a97030e9834915997362c4f1ca78a3",
       "style": "IPY_MODEL_bfd0d1b5f9ab4a4c92a4435f63053afa",
       "value": "cmebam2te72g008jt09g"
      }
     },
     "ba3d73e5de04422e812d85bee8014f45": {
      "model_module": "@jupyter-widgets/controls",
      "model_module_version": "2.0.0",
      "model_name": "HTMLStyleModel",
      "state": {
       "description_width": "",
       "font_size": null,
       "text_color": null
      }
     },
     "ba709292f1e84c96b4ceda2db0299533": {
      "model_module": "@jupyter-widgets/controls",
      "model_module_version": "2.0.0",
      "model_name": "HTMLStyleModel",
      "state": {
       "description_width": "",
       "font_size": null,
       "text_color": null
      }
     },
     "ba8b91f7dfaa470693418d1ee2b47992": {
      "model_module": "@jupyter-widgets/base",
      "model_module_version": "2.0.0",
      "model_name": "LayoutModel",
      "state": {
       "max_width": "700px",
       "min_width": "700px"
      }
     },
     "ba945572ed414fa0900d1b0064a5955a": {
      "model_module": "@jupyter-widgets/base",
      "model_module_version": "2.0.0",
      "model_name": "LayoutModel",
      "state": {
       "max_width": "700px",
       "min_width": "700px"
      }
     },
     "ba9f72907e7041fd82bb2a646ba5570c": {
      "model_module": "@jupyter-widgets/base",
      "model_module_version": "2.0.0",
      "model_name": "LayoutModel",
      "state": {
       "width": "70px"
      }
     },
     "bad8d7ac2c2c49b5a190b866d9a1db81": {
      "model_module": "@jupyter-widgets/controls",
      "model_module_version": "2.0.0",
      "model_name": "HBoxModel",
      "state": {
       "children": [
        "IPY_MODEL_8cc37fb7c654465c9d4796816243e021",
        "IPY_MODEL_fbdaab960dce4f4495d583aff54d030a",
        "IPY_MODEL_72cef84d0c1b4f1d8055af4422f114dc",
        "IPY_MODEL_58d2141589834372beb248d119aebadb",
        "IPY_MODEL_9be220d708dd41ac8182b8631fb774fa",
        "IPY_MODEL_f133f3a3ba304f2f985d8c1e963f7413"
       ],
       "layout": "IPY_MODEL_ec6a8f32559e476e80f2bdbd9f97f6d0"
      }
     },
     "baea1a67f8414beaa2ee7a5a8c6bd34e": {
      "model_module": "@jupyter-widgets/controls",
      "model_module_version": "2.0.0",
      "model_name": "ButtonStyleModel",
      "state": {
       "button_color": "white",
       "font_family": null,
       "font_size": null,
       "font_style": null,
       "font_variant": null,
       "font_weight": null,
       "text_color": null,
       "text_decoration": null
      }
     },
     "bb010740b9ff4bf6957d075b12a1cdf8": {
      "model_module": "@jupyter-widgets/base",
      "model_module_version": "2.0.0",
      "model_name": "LayoutModel",
      "state": {
       "width": "70px"
      }
     },
     "bb105f7410c74637bfc93ee407460be0": {
      "model_module": "@jupyter-widgets/controls",
      "model_module_version": "2.0.0",
      "model_name": "HTMLModel",
      "state": {
       "layout": "IPY_MODEL_0bf6d86c38074f9caf17f6b6ba9d2680",
       "style": "IPY_MODEL_759adc7dba12476981718e1671338ae9",
       "value": "ibm_nairobi"
      }
     },
     "bb192f3cc35b44e99f1efc0d2901dbe9": {
      "model_module": "@jupyter-widgets/controls",
      "model_module_version": "2.0.0",
      "model_name": "HTMLStyleModel",
      "state": {
       "description_width": "",
       "font_size": null,
       "text_color": null
      }
     },
     "bbd5c8bdaf514206b9aea55c29633aac": {
      "model_module": "@jupyter-widgets/controls",
      "model_module_version": "2.0.0",
      "model_name": "HTMLModel",
      "state": {
       "layout": "IPY_MODEL_fce22c29dedd44d48626930127e3f220",
       "style": "IPY_MODEL_2e537ebe1fd34de596104a465cc87831",
       "value": "-"
      }
     },
     "bcab7c8eb1e14868a3320bb159e430a7": {
      "model_module": "@jupyter-widgets/controls",
      "model_module_version": "2.0.0",
      "model_name": "ButtonStyleModel",
      "state": {
       "button_color": "white",
       "font_family": null,
       "font_size": null,
       "font_style": null,
       "font_variant": null,
       "font_weight": null,
       "text_color": null,
       "text_decoration": null
      }
     },
     "bce1a94410184feb82bdf06e83b470a2": {
      "model_module": "@jupyter-widgets/controls",
      "model_module_version": "2.0.0",
      "model_name": "HTMLStyleModel",
      "state": {
       "description_width": "",
       "font_size": null,
       "text_color": null
      }
     },
     "bcf18b7138944cdd9c3033ccc64ec3c6": {
      "model_module": "@jupyter-widgets/controls",
      "model_module_version": "2.0.0",
      "model_name": "HTMLModel",
      "state": {
       "layout": "IPY_MODEL_f255601192084e2483f9d54143eaf288",
       "style": "IPY_MODEL_3c1feb6fded940a99a7ac5a315f11921",
       "value": "cmebbje4z12g008ndbrg"
      }
     },
     "bd79a534c27b4b4dbe7b9545345b5cc4": {
      "model_module": "@jupyter-widgets/controls",
      "model_module_version": "2.0.0",
      "model_name": "HTMLModel",
      "state": {
       "layout": "IPY_MODEL_4655824a13f9426e93a5f486a9c73f57",
       "style": "IPY_MODEL_49ac7158c63346698c36bf5840d32a58",
       "value": "job has successfully run"
      }
     },
     "bd829e40354a463cb27d117b6f30e984": {
      "model_module": "@jupyter-widgets/controls",
      "model_module_version": "2.0.0",
      "model_name": "HTMLStyleModel",
      "state": {
       "description_width": "",
       "font_size": null,
       "text_color": null
      }
     },
     "be0eaecd300d48fa99274b8922dd990c": {
      "model_module": "@jupyter-widgets/base",
      "model_module_version": "2.0.0",
      "model_name": "LayoutModel",
      "state": {
       "margin": "0px 5px 0px 0px",
       "width": "32px"
      }
     },
     "be1df44d1e64494a9caecacbe290de33": {
      "model_module": "@jupyter-widgets/controls",
      "model_module_version": "2.0.0",
      "model_name": "ButtonModel",
      "state": {
       "icon": "close",
       "layout": "IPY_MODEL_eee12b10f93b49759106b2150c4e3025",
       "style": "IPY_MODEL_de7dd0761ca6460f86fbc8acedd6710a",
       "tooltip": null
      }
     },
     "bee34a7ca8ef42c3af2fde4186abafee": {
      "model_module": "@jupyter-widgets/controls",
      "model_module_version": "2.0.0",
      "model_name": "ButtonStyleModel",
      "state": {
       "button_color": "white",
       "font_family": null,
       "font_size": null,
       "font_style": null,
       "font_variant": null,
       "font_weight": null,
       "text_color": null,
       "text_decoration": null
      }
     },
     "bf66162aae314cfb9a6a15b5f68ed008": {
      "model_module": "@jupyter-widgets/base",
      "model_module_version": "2.0.0",
      "model_name": "LayoutModel",
      "state": {
       "width": "95px"
      }
     },
     "bfa9153c74ba4853b648a0b0a5b59eb3": {
      "model_module": "@jupyter-widgets/controls",
      "model_module_version": "2.0.0",
      "model_name": "ButtonStyleModel",
      "state": {
       "button_color": "white",
       "font_family": null,
       "font_size": null,
       "font_style": null,
       "font_variant": null,
       "font_weight": null,
       "text_color": null,
       "text_decoration": null
      }
     },
     "bfd0d1b5f9ab4a4c92a4435f63053afa": {
      "model_module": "@jupyter-widgets/controls",
      "model_module_version": "2.0.0",
      "model_name": "HTMLStyleModel",
      "state": {
       "description_width": "",
       "font_size": null,
       "text_color": null
      }
     },
     "bffdb31d68904b1ca01b9ca548680fb7": {
      "model_module": "@jupyter-widgets/controls",
      "model_module_version": "2.0.0",
      "model_name": "HTMLStyleModel",
      "state": {
       "description_width": "",
       "font_size": null,
       "text_color": null
      }
     },
     "c044d55337bc42d69f9fe43550044f8d": {
      "model_module": "@jupyter-widgets/base",
      "model_module_version": "2.0.0",
      "model_name": "LayoutModel",
      "state": {
       "margin": "0px 5px 0px 0px",
       "width": "32px"
      }
     },
     "c08b9a490d744bb9973d6f37c4346270": {
      "model_module": "@jupyter-widgets/controls",
      "model_module_version": "2.0.0",
      "model_name": "HTMLModel",
      "state": {
       "layout": "IPY_MODEL_12ce2e9df2a645bba4683acf79047083",
       "style": "IPY_MODEL_8563d9884cc04cdaa16d2a0da37e635f",
       "value": "<font style='color:#34BC6E'>DONE</font>"
      }
     },
     "c0a6ef8d9cc742508bb8dedacb67aff4": {
      "model_module": "@jupyter-widgets/controls",
      "model_module_version": "2.0.0",
      "model_name": "HTMLStyleModel",
      "state": {
       "description_width": "",
       "font_size": null,
       "text_color": null
      }
     },
     "c11360e8c6e54b45aa07d86753560234": {
      "model_module": "@jupyter-widgets/controls",
      "model_module_version": "2.0.0",
      "model_name": "ButtonStyleModel",
      "state": {
       "button_color": "white",
       "font_family": null,
       "font_size": null,
       "font_style": null,
       "font_variant": null,
       "font_weight": null,
       "text_color": null,
       "text_decoration": null
      }
     },
     "c17f9cda87ba4238bf6304dc0de994ad": {
      "model_module": "@jupyter-widgets/controls",
      "model_module_version": "2.0.0",
      "model_name": "HTMLStyleModel",
      "state": {
       "description_width": "",
       "font_size": null,
       "text_color": null
      }
     },
     "c1e156cd7e4849b0a0ae879cfed3d7b7": {
      "model_module": "@jupyter-widgets/controls",
      "model_module_version": "2.0.0",
      "model_name": "HTMLModel",
      "state": {
       "layout": "IPY_MODEL_2ff43d984f204c4683d22b061bada7d6",
       "style": "IPY_MODEL_75cb0ce1a9bd44798e58e7dd41930c57",
       "value": "job has successfully run"
      }
     },
     "c1f54ba11f374e6ebb69766a47d79526": {
      "model_module": "@jupyter-widgets/base",
      "model_module_version": "2.0.0",
      "model_name": "LayoutModel",
      "state": {
       "width": "190px"
      }
     },
     "c29377274ba64a64a10a4fbe3de5fb16": {
      "model_module": "@jupyter-widgets/controls",
      "model_module_version": "2.0.0",
      "model_name": "HTMLStyleModel",
      "state": {
       "description_width": "",
       "font_size": null,
       "text_color": null
      }
     },
     "c299c56f5ecc4301b50e9aefaba47f71": {
      "model_module": "@jupyter-widgets/base",
      "model_module_version": "2.0.0",
      "model_name": "LayoutModel",
      "state": {
       "margin": "0px 5px 0px 0px",
       "width": "32px"
      }
     },
     "c47310fa40904158833dcf15dc682204": {
      "model_module": "@jupyter-widgets/base",
      "model_module_version": "2.0.0",
      "model_name": "LayoutModel",
      "state": {
       "max_width": "700px",
       "min_width": "700px"
      }
     },
     "c47ecbd396d340a6b12eb52a5c07c105": {
      "model_module": "@jupyter-widgets/controls",
      "model_module_version": "2.0.0",
      "model_name": "HBoxModel",
      "state": {
       "children": [
        "IPY_MODEL_88c8b2ec54954c159b9a9a6235fc8f5e",
        "IPY_MODEL_a8facd39eeb14a3584432af32f288748",
        "IPY_MODEL_ce8f8842b5e0485caebada2d4831c8cf",
        "IPY_MODEL_b237e5793ad2487ba853e7ca8110dc1a",
        "IPY_MODEL_ee986f25af8d489e9ecc94af197cb19e",
        "IPY_MODEL_234f5a1abdcf4e6faaf23e5560b6eeb2"
       ],
       "layout": "IPY_MODEL_feebad0ebdfc4f4caf7eb999418028a2"
      }
     },
     "c4b952935f0049899a366bcd919b6ca1": {
      "model_module": "@jupyter-widgets/controls",
      "model_module_version": "2.0.0",
      "model_name": "HTMLModel",
      "state": {
       "layout": "IPY_MODEL_abaef8d7de2a4491b6ff700591c5179f",
       "style": "IPY_MODEL_59d444d51c5d41f2912116aa09b62395",
       "value": "<font style='color:#34BC6E'>DONE</font>"
      }
     },
     "c51c678fead74aedaba892001deb53c6": {
      "model_module": "@jupyter-widgets/controls",
      "model_module_version": "2.0.0",
      "model_name": "HTMLModel",
      "state": {
       "layout": "IPY_MODEL_f745407809c84a9aa4b85f1eb3e23a14",
       "style": "IPY_MODEL_4ca58990f9e34f86bd33ef4be3e66c4a",
       "value": "-"
      }
     },
     "c5e0b123875043d0900f9be9a72ceb33": {
      "model_module": "@jupyter-widgets/controls",
      "model_module_version": "2.0.0",
      "model_name": "HTMLStyleModel",
      "state": {
       "description_width": "",
       "font_size": null,
       "text_color": null
      }
     },
     "c6052775e7834ac491d0496bb07984e2": {
      "model_module": "@jupyter-widgets/base",
      "model_module_version": "2.0.0",
      "model_name": "LayoutModel",
      "state": {
       "width": "95px"
      }
     },
     "c61492cb7514448aba4ca014fb5d3cb2": {
      "model_module": "@jupyter-widgets/base",
      "model_module_version": "2.0.0",
      "model_name": "LayoutModel",
      "state": {
       "width": "95px"
      }
     },
     "c67c6f3bc86f404dae5aff5cd3ad1574": {
      "model_module": "@jupyter-widgets/controls",
      "model_module_version": "2.0.0",
      "model_name": "HTMLStyleModel",
      "state": {
       "description_width": "",
       "font_size": null,
       "text_color": null
      }
     },
     "c67ea096394849b39aed879c318606aa": {
      "model_module": "@jupyter-widgets/controls",
      "model_module_version": "2.0.0",
      "model_name": "HTMLStyleModel",
      "state": {
       "description_width": "",
       "font_size": null,
       "text_color": null
      }
     },
     "c69c2e544e1f4e6d93258dcac7b463d5": {
      "model_module": "@jupyter-widgets/controls",
      "model_module_version": "2.0.0",
      "model_name": "HTMLStyleModel",
      "state": {
       "description_width": "",
       "font_size": null,
       "text_color": null
      }
     },
     "c6cf20ef39c141e8b89b0f1cfadaeaee": {
      "model_module": "@jupyter-widgets/controls",
      "model_module_version": "2.0.0",
      "model_name": "HTMLStyleModel",
      "state": {
       "description_width": "",
       "font_size": null,
       "text_color": null
      }
     },
     "c6f3de6c47214396aff213a682f123be": {
      "model_module": "@jupyter-widgets/base",
      "model_module_version": "2.0.0",
      "model_name": "LayoutModel",
      "state": {
       "width": "190px"
      }
     },
     "c6fa0ceb83404fe1b613fcfd6db05233": {
      "model_module": "@jupyter-widgets/controls",
      "model_module_version": "2.0.0",
      "model_name": "HTMLModel",
      "state": {
       "layout": "IPY_MODEL_2f2bf3a8f08d4fc38bf30a839db1f977",
       "style": "IPY_MODEL_84304d7a9c6b48f9b676b51383acd6a2",
       "value": "<font style='color:#34BC6E'>DONE</font>"
      }
     },
     "c6fbed0c96b84624acb257439b71e14f": {
      "model_module": "@jupyter-widgets/base",
      "model_module_version": "2.0.0",
      "model_name": "LayoutModel",
      "state": {
       "margin": "0px 5px 0px 0px",
       "width": "32px"
      }
     },
     "c760e2ecbcbf44a583d60865800f012e": {
      "model_module": "@jupyter-widgets/controls",
      "model_module_version": "2.0.0",
      "model_name": "HTMLStyleModel",
      "state": {
       "description_width": "",
       "font_size": null,
       "text_color": null
      }
     },
     "c7a2f4551ecd4164bae0c21c7e36edfc": {
      "model_module": "@jupyter-widgets/base",
      "model_module_version": "2.0.0",
      "model_name": "LayoutModel",
      "state": {
       "max_width": "700px",
       "min_width": "700px"
      }
     },
     "c7bd26f137244ea79050c22d0cb9bf80": {
      "model_module": "@jupyter-widgets/base",
      "model_module_version": "2.0.0",
      "model_name": "LayoutModel",
      "state": {
       "width": "70px"
      }
     },
     "c7ceeb6d97e2479c955c9fef82d2e0c5": {
      "model_module": "@jupyter-widgets/base",
      "model_module_version": "2.0.0",
      "model_name": "LayoutModel",
      "state": {
       "width": "145px"
      }
     },
     "c84994b90c7a4bab8e3b9ac17e55fdd8": {
      "model_module": "@jupyter-widgets/controls",
      "model_module_version": "2.0.0",
      "model_name": "HTMLStyleModel",
      "state": {
       "description_width": "",
       "font_size": null,
       "text_color": null
      }
     },
     "c87f8b2d9cc346db86062c7296ff6521": {
      "model_module": "@jupyter-widgets/controls",
      "model_module_version": "2.0.0",
      "model_name": "HBoxModel",
      "state": {
       "children": [
        "IPY_MODEL_25acda15a670425b9d5a763158d9024a",
        "IPY_MODEL_08ff0ff621c148839d54cca09b892fc2",
        "IPY_MODEL_66acbccf59da4e73838bdd9d04d81a1f",
        "IPY_MODEL_93d2d6ba9fc847d99a0ac309f3810792",
        "IPY_MODEL_c51c678fead74aedaba892001deb53c6",
        "IPY_MODEL_d84e893f313a4869968aa07d35e805c5"
       ],
       "layout": "IPY_MODEL_aa6659dd8f9a4e15b6250579e1c9f32b"
      }
     },
     "c8acf9dd5adb4ba989c5b20994d8e16e": {
      "model_module": "@jupyter-widgets/controls",
      "model_module_version": "2.0.0",
      "model_name": "HTMLModel",
      "state": {
       "layout": "IPY_MODEL_7af7856a84ec4d8f9c5c5386bbf46514",
       "style": "IPY_MODEL_e518a9f2032e40ce829ef2e2fb53c74f",
       "value": "cmeb595te72g008jt01g"
      }
     },
     "c90c2f6694ed4752a40b0bc076c64a65": {
      "model_module": "@jupyter-widgets/controls",
      "model_module_version": "2.0.0",
      "model_name": "HTMLModel",
      "state": {
       "layout": "IPY_MODEL_180cce6d0a854d2a91e10350eecbba8d",
       "style": "IPY_MODEL_a79e5476d74a47f199001e893f1b5214",
       "value": "<font style='color:#34BC6E'>DONE</font>"
      }
     },
     "c93b21ada4934d52a0197344949f10f8": {
      "model_module": "@jupyter-widgets/base",
      "model_module_version": "2.0.0",
      "model_name": "LayoutModel",
      "state": {
       "margin": "0px 0px 10px 0px"
      }
     },
     "c98c0051ca484f898ae47825fcf64de4": {
      "model_module": "@jupyter-widgets/base",
      "model_module_version": "2.0.0",
      "model_name": "LayoutModel",
      "state": {
       "width": "95px"
      }
     },
     "c991a98a238c462d98645570a18f5a0b": {
      "model_module": "@jupyter-widgets/base",
      "model_module_version": "2.0.0",
      "model_name": "LayoutModel",
      "state": {
       "width": "190px"
      }
     },
     "c9e229b76bed4958bc05c97bfc3a8bba": {
      "model_module": "@jupyter-widgets/controls",
      "model_module_version": "2.0.0",
      "model_name": "HTMLModel",
      "state": {
       "layout": "IPY_MODEL_84806f3131004ae5957acb9e9ae26bf2",
       "style": "IPY_MODEL_a1c024ac4d04417799539eb16a43014e",
       "value": "job has successfully run"
      }
     },
     "ca17960e2af8403b935c35bd67ba1067": {
      "model_module": "@jupyter-widgets/base",
      "model_module_version": "2.0.0",
      "model_name": "LayoutModel",
      "state": {
       "width": "145px"
      }
     },
     "ca8d1c5b502c481a99b0a7605be31f28": {
      "model_module": "@jupyter-widgets/controls",
      "model_module_version": "2.0.0",
      "model_name": "HTMLModel",
      "state": {
       "layout": "IPY_MODEL_d2eb0ba5b89f404fa1689d36b24c6e33",
       "style": "IPY_MODEL_5b3cd84abdf04ae3bc2acce0e90b2feb",
       "value": "job has successfully run"
      }
     },
     "cac2c080732f4ca796bb78a4a4904699": {
      "model_module": "@jupyter-widgets/base",
      "model_module_version": "2.0.0",
      "model_name": "LayoutModel",
      "state": {
       "width": "190px"
      }
     },
     "cac77cc14cef4102a4caca8a96a4f976": {
      "model_module": "@jupyter-widgets/controls",
      "model_module_version": "2.0.0",
      "model_name": "HBoxModel",
      "state": {
       "children": [
        "IPY_MODEL_6a72e75c1fd24ab596ff64cb6c184ce3",
        "IPY_MODEL_d502017caee94dc485f4dee4caf48cfb",
        "IPY_MODEL_4a0425e4300049259315339486bddc78",
        "IPY_MODEL_4edb2dc4e4f44d39b51d19390478710b",
        "IPY_MODEL_194ed20101cb4b0c9c377e0f93cabfbe",
        "IPY_MODEL_ac8ae98554c546b291a1d5db38fcf55a"
       ],
       "layout": "IPY_MODEL_0e006db8d35f4305868e3a4a392ec30c"
      }
     },
     "cacff178f118470c813fadc6511b9b2e": {
      "model_module": "@jupyter-widgets/controls",
      "model_module_version": "2.0.0",
      "model_name": "HTMLModel",
      "state": {
       "layout": "IPY_MODEL_3618fafc77de42d6bb5c2b92e088966b",
       "style": "IPY_MODEL_3408dd6b7c7844f7b78e0e68bb91463a",
       "value": "ibm_nairobi"
      }
     },
     "cb2b37d2b6174cd5a6364504e523bdb8": {
      "model_module": "@jupyter-widgets/controls",
      "model_module_version": "2.0.0",
      "model_name": "HTMLModel",
      "state": {
       "layout": "IPY_MODEL_d6fc26f0de924bdf8f3f53dc8ef28fa0",
       "style": "IPY_MODEL_94a57cf3f44d412f8b7ee5394af04d43",
       "value": "job has successfully run"
      }
     },
     "cb3faea85e544bc68a8a096b23821240": {
      "model_module": "@jupyter-widgets/controls",
      "model_module_version": "2.0.0",
      "model_name": "HTMLStyleModel",
      "state": {
       "description_width": "",
       "font_size": null,
       "text_color": null
      }
     },
     "cb55d71dca1540b1807b6df5954371f2": {
      "model_module": "@jupyter-widgets/base",
      "model_module_version": "2.0.0",
      "model_name": "LayoutModel",
      "state": {
       "margin": "0px 5px 0px 0px",
       "width": "32px"
      }
     },
     "cb762ef6b2754a748f43e570f141cb99": {
      "model_module": "@jupyter-widgets/controls",
      "model_module_version": "2.0.0",
      "model_name": "HTMLModel",
      "state": {
       "layout": "IPY_MODEL_6e17024917824b90b6fbe2b08bebb592",
       "style": "IPY_MODEL_eacde65d2d3246e09c51b3c608c8e695",
       "value": "<font style='color:#34BC6E'>DONE</font>"
      }
     },
     "cb8608cb779844ee9e0d7b8059fda60f": {
      "model_module": "@jupyter-widgets/controls",
      "model_module_version": "2.0.0",
      "model_name": "HBoxModel",
      "state": {
       "children": [
        "IPY_MODEL_839bf5c974c545c48bbeb280c577c142",
        "IPY_MODEL_fa93df74c6f54372b963381690a6c77c",
        "IPY_MODEL_688530af841e4174aad8116b68f60dc8",
        "IPY_MODEL_f171a364814b48888b2746792e80a4d4",
        "IPY_MODEL_8d83c46670a84ac0a47c38dcc14501e5",
        "IPY_MODEL_604d8193aa7c472292970f0bdedbc79e"
       ],
       "layout": "IPY_MODEL_6531b36dfb704015a3bd3bc5afb9f5dc"
      }
     },
     "cbd6f32a3a1c4c31be88b2fac81d0c98": {
      "model_module": "@jupyter-widgets/controls",
      "model_module_version": "2.0.0",
      "model_name": "HTMLStyleModel",
      "state": {
       "description_width": "",
       "font_size": null,
       "text_color": null
      }
     },
     "cbf725061a374002abc65baf7b002669": {
      "model_module": "@jupyter-widgets/base",
      "model_module_version": "2.0.0",
      "model_name": "LayoutModel",
      "state": {
       "width": "145px"
      }
     },
     "cc257ce969cf40be9ae31524161ae18c": {
      "model_module": "@jupyter-widgets/controls",
      "model_module_version": "2.0.0",
      "model_name": "HTMLModel",
      "state": {
       "layout": "IPY_MODEL_ca17960e2af8403b935c35bd67ba1067",
       "style": "IPY_MODEL_c69c2e544e1f4e6d93258dcac7b463d5",
       "value": "ibm_nairobi"
      }
     },
     "cc299f5880e94b93b6346e2cb4de5ea1": {
      "model_module": "@jupyter-widgets/base",
      "model_module_version": "2.0.0",
      "model_name": "LayoutModel",
      "state": {}
     },
     "cc7030a7d5b74b9181af2aee451540ee": {
      "model_module": "@jupyter-widgets/controls",
      "model_module_version": "2.0.0",
      "model_name": "HTMLStyleModel",
      "state": {
       "description_width": "",
       "font_size": null,
       "text_color": null
      }
     },
     "cc7453dc86db4239a5079f8511300667": {
      "model_module": "@jupyter-widgets/base",
      "model_module_version": "2.0.0",
      "model_name": "LayoutModel",
      "state": {
       "width": "145px"
      }
     },
     "cc8467cd125e4d5c900348d10886cb64": {
      "model_module": "@jupyter-widgets/base",
      "model_module_version": "2.0.0",
      "model_name": "LayoutModel",
      "state": {
       "width": "145px"
      }
     },
     "cd86086d373847fab195c0244b0f8be0": {
      "model_module": "@jupyter-widgets/controls",
      "model_module_version": "2.0.0",
      "model_name": "HBoxModel",
      "state": {
       "children": [
        "IPY_MODEL_2c46f9d212e54ee78e02438f9c740e3e",
        "IPY_MODEL_ed62891bc3394f66b7b1e7f8db08f964",
        "IPY_MODEL_26714a556c834ca78f32da976c27f29e",
        "IPY_MODEL_4093e36ab35841599a0e28b3476c8d66",
        "IPY_MODEL_90f228ce799845cc8ccbe9a2d4f69369",
        "IPY_MODEL_dc9f7bf892594908a76adbd913738842"
       ],
       "layout": "IPY_MODEL_8e2d476968f54ad29ab1af70bd49c746"
      }
     },
     "ce8f8842b5e0485caebada2d4831c8cf": {
      "model_module": "@jupyter-widgets/controls",
      "model_module_version": "2.0.0",
      "model_name": "HTMLModel",
      "state": {
       "layout": "IPY_MODEL_5bee713a091a4ae4916ee0638442ea97",
       "style": "IPY_MODEL_f4ea6a8e0ebd457a914797eef71dd111",
       "value": "ibm_nairobi"
      }
     },
     "ceb45c84d685418fa680fba2d1cd0baf": {
      "model_module": "@jupyter-widgets/controls",
      "model_module_version": "2.0.0",
      "model_name": "HTMLModel",
      "state": {
       "layout": "IPY_MODEL_11c22fd1b8d34e5ab17ba59e6d5acfae",
       "style": "IPY_MODEL_090c5074491a42afbfe5e97045e8b9ed",
       "value": "<font style='color:#34BC6E'>DONE</font>"
      }
     },
     "cee6fd6a92f74d9cbc95af3a15ea1d00": {
      "model_module": "@jupyter-widgets/controls",
      "model_module_version": "2.0.0",
      "model_name": "HTMLModel",
      "state": {
       "layout": "IPY_MODEL_530c4fac13f64793abd6d78803109da0",
       "style": "IPY_MODEL_b95d0e02fe894f4998454e08bc2a1955",
       "value": "job has successfully run"
      }
     },
     "cf58b6d0494f4eb88396030d649c865d": {
      "model_module": "@jupyter-widgets/controls",
      "model_module_version": "2.0.0",
      "model_name": "HTMLStyleModel",
      "state": {
       "description_width": "",
       "font_size": null,
       "text_color": null
      }
     },
     "cfb57ea54c8c4db2b62cbd9a4196f345": {
      "model_module": "@jupyter-widgets/base",
      "model_module_version": "2.0.0",
      "model_name": "LayoutModel",
      "state": {
       "grid_area": "right",
       "padding": "0px 0px 0px 0px",
       "width": "70px"
      }
     },
     "cff6d4d08cbc4be29d7f838e7a4bff67": {
      "model_module": "@jupyter-widgets/controls",
      "model_module_version": "2.0.0",
      "model_name": "HTMLStyleModel",
      "state": {
       "description_width": "",
       "font_size": null,
       "text_color": null
      }
     },
     "d00f99f2adaa4badb8ba6426cf425288": {
      "model_module": "@jupyter-widgets/base",
      "model_module_version": "2.0.0",
      "model_name": "LayoutModel",
      "state": {}
     },
     "d024887e57254ababc4891faf481162a": {
      "model_module": "@jupyter-widgets/controls",
      "model_module_version": "2.0.0",
      "model_name": "HTMLStyleModel",
      "state": {
       "description_width": "",
       "font_size": null,
       "text_color": null
      }
     },
     "d06e5910c8654a13a66f27164f656777": {
      "model_module": "@jupyter-widgets/base",
      "model_module_version": "2.0.0",
      "model_name": "LayoutModel",
      "state": {
       "width": "95px"
      }
     },
     "d0d505a6087949d1bd630c97ea728776": {
      "model_module": "@jupyter-widgets/base",
      "model_module_version": "2.0.0",
      "model_name": "LayoutModel",
      "state": {
       "margin": "0px 5px 0px 0px",
       "width": "32px"
      }
     },
     "d0fbb91c3fa54e798e902ec7cf9a2c86": {
      "model_module": "@jupyter-widgets/controls",
      "model_module_version": "2.0.0",
      "model_name": "HTMLModel",
      "state": {
       "layout": "IPY_MODEL_c61492cb7514448aba4ca014fb5d3cb2",
       "style": "IPY_MODEL_4d8504942b2b47048cedf6cdf5932e90",
       "value": "<font style='color:#34BC6E'>DONE</font>"
      }
     },
     "d1317f8b9aed4088bec695494db473e7": {
      "model_module": "@jupyter-widgets/controls",
      "model_module_version": "2.0.0",
      "model_name": "HBoxModel",
      "state": {
       "children": [
        "IPY_MODEL_b6c6d95cfa3e4bea8efe17fb7d1b0539",
        "IPY_MODEL_2223c8f8e70a4901b526eb450efe38f6",
        "IPY_MODEL_6c0b2d0a81ec4f3a9a852db93ee39919",
        "IPY_MODEL_64bf470686d9416a9764c274b15eccf4",
        "IPY_MODEL_ec51de3dd7374023872702d29a87e617",
        "IPY_MODEL_6a732b3744d6466ba6bf570b69158e75"
       ],
       "layout": "IPY_MODEL_471f6e245cb14994946a98835b169d19"
      }
     },
     "d14a534c8b9c4712ac98d1006b76117d": {
      "model_module": "@jupyter-widgets/base",
      "model_module_version": "2.0.0",
      "model_name": "LayoutModel",
      "state": {
       "width": "145px"
      }
     },
     "d1c8dc56af114833b1a94d1f5c084005": {
      "model_module": "@jupyter-widgets/controls",
      "model_module_version": "2.0.0",
      "model_name": "HTMLModel",
      "state": {
       "layout": "IPY_MODEL_bb010740b9ff4bf6957d075b12a1cdf8",
       "style": "IPY_MODEL_38185b3293fb4b64a103431579e3c79b",
       "value": "-"
      }
     },
     "d2be145846be4575aea0c473a948d9b2": {
      "model_module": "@jupyter-widgets/controls",
      "model_module_version": "2.0.0",
      "model_name": "HTMLStyleModel",
      "state": {
       "description_width": "",
       "font_size": null,
       "text_color": null
      }
     },
     "d2daa504a5c6444cbea341b83d2358bf": {
      "model_module": "@jupyter-widgets/base",
      "model_module_version": "2.0.0",
      "model_name": "LayoutModel",
      "state": {
       "width": "190px"
      }
     },
     "d2e87c3d7e3c4b82bec22a45fa301c35": {
      "model_module": "@jupyter-widgets/base",
      "model_module_version": "2.0.0",
      "model_name": "LayoutModel",
      "state": {
       "margin": "0px 0px 0px 37px",
       "width": "600px"
      }
     },
     "d2eb0ba5b89f404fa1689d36b24c6e33": {
      "model_module": "@jupyter-widgets/base",
      "model_module_version": "2.0.0",
      "model_name": "LayoutModel",
      "state": {}
     },
     "d327eefd504c4afeb8649310a723acb6": {
      "model_module": "@jupyter-widgets/base",
      "model_module_version": "2.0.0",
      "model_name": "LayoutModel",
      "state": {
       "width": "145px"
      }
     },
     "d329c96d748d478a8585dd60e4edd18b": {
      "model_module": "@jupyter-widgets/base",
      "model_module_version": "2.0.0",
      "model_name": "LayoutModel",
      "state": {
       "margin": "0px 5px 0px 0px",
       "width": "32px"
      }
     },
     "d34e4300582e4280af2cb4384a21b0cd": {
      "model_module": "@jupyter-widgets/controls",
      "model_module_version": "2.0.0",
      "model_name": "HTMLModel",
      "state": {
       "layout": "IPY_MODEL_881c3f050c0d48f7a99a15e0c4c6929e",
       "style": "IPY_MODEL_e59413fe010c499faba47ae6bfaa7a3a",
       "value": "cmebdgywq3k0008t00xg"
      }
     },
     "d3da4f52213a473b8fde3de64ad0fd90": {
      "model_module": "@jupyter-widgets/controls",
      "model_module_version": "2.0.0",
      "model_name": "HTMLModel",
      "state": {
       "layout": "IPY_MODEL_8a13c9f630c64f1abf1b11d5562c4a0a",
       "style": "IPY_MODEL_bb192f3cc35b44e99f1efc0d2901dbe9",
       "value": "ibm_nairobi"
      }
     },
     "d3ec3c68abc44c6997e6f4665347b2ca": {
      "model_module": "@jupyter-widgets/base",
      "model_module_version": "2.0.0",
      "model_name": "LayoutModel",
      "state": {}
     },
     "d452cce4c67848fb9c78b1defe308a63": {
      "model_module": "@jupyter-widgets/controls",
      "model_module_version": "2.0.0",
      "model_name": "ButtonModel",
      "state": {
       "icon": "close",
       "layout": "IPY_MODEL_b5ed9172bac34f84af325d1ea076b0db",
       "style": "IPY_MODEL_fed4662903ca490fa34196be3234de21",
       "tooltip": null
      }
     },
     "d4aa894bb1f64777843e4c0ade85d928": {
      "model_module": "@jupyter-widgets/controls",
      "model_module_version": "2.0.0",
      "model_name": "HTMLModel",
      "state": {
       "layout": "IPY_MODEL_2abd2847d5b44891a8e81b6c906c46d4",
       "style": "IPY_MODEL_2d26a7e2fccf41f98d57ae80a6996375",
       "value": "cmebbvzwcht0008ybga0"
      }
     },
     "d502017caee94dc485f4dee4caf48cfb": {
      "model_module": "@jupyter-widgets/controls",
      "model_module_version": "2.0.0",
      "model_name": "HTMLModel",
      "state": {
       "layout": "IPY_MODEL_20f68357189942a5b6c2b2691e250c85",
       "style": "IPY_MODEL_809ee830ad724b03ad7cc1f43ccf54dd",
       "value": "cmebagjwq3k0008t00vg"
      }
     },
     "d525f6ca80bc478cb69b3d214f60e4e6": {
      "model_module": "@jupyter-widgets/base",
      "model_module_version": "2.0.0",
      "model_name": "LayoutModel",
      "state": {}
     },
     "d53e9b257a9842818eb50ca7baca4d98": {
      "model_module": "@jupyter-widgets/base",
      "model_module_version": "2.0.0",
      "model_name": "LayoutModel",
      "state": {
       "width": "70px"
      }
     },
     "d5abbda1fe724f7d99ed25f5f8f94ece": {
      "model_module": "@jupyter-widgets/controls",
      "model_module_version": "2.0.0",
      "model_name": "HTMLStyleModel",
      "state": {
       "description_width": "",
       "font_size": null,
       "text_color": null
      }
     },
     "d60caf815b114328b72f6bf35405b2e6": {
      "model_module": "@jupyter-widgets/controls",
      "model_module_version": "2.0.0",
      "model_name": "HTMLStyleModel",
      "state": {
       "description_width": "",
       "font_size": null,
       "text_color": null
      }
     },
     "d63d21079b2d4ae9b1e9cdc662b486ec": {
      "model_module": "@jupyter-widgets/base",
      "model_module_version": "2.0.0",
      "model_name": "LayoutModel",
      "state": {
       "width": "95px"
      }
     },
     "d6fc26f0de924bdf8f3f53dc8ef28fa0": {
      "model_module": "@jupyter-widgets/base",
      "model_module_version": "2.0.0",
      "model_name": "LayoutModel",
      "state": {}
     },
     "d71f72dd57ff4461a2990723e90ef26b": {
      "model_module": "@jupyter-widgets/controls",
      "model_module_version": "2.0.0",
      "model_name": "ButtonModel",
      "state": {
       "icon": "close",
       "layout": "IPY_MODEL_b19d1bbb09484c2e94bcef520f5050d9",
       "style": "IPY_MODEL_06fffc9443894e088b4b4104498800f8",
       "tooltip": null
      }
     },
     "d7f125ff4bda4c1f9ce99e9ed64626ab": {
      "model_module": "@jupyter-widgets/base",
      "model_module_version": "2.0.0",
      "model_name": "LayoutModel",
      "state": {
       "max_width": "700px",
       "min_width": "700px"
      }
     },
     "d8114335f82c4403ad3b390cae00a9eb": {
      "model_module": "@jupyter-widgets/controls",
      "model_module_version": "2.0.0",
      "model_name": "ButtonStyleModel",
      "state": {
       "button_color": "white",
       "font_family": null,
       "font_size": null,
       "font_style": null,
       "font_variant": null,
       "font_weight": null,
       "text_color": null,
       "text_decoration": null
      }
     },
     "d84e893f313a4869968aa07d35e805c5": {
      "model_module": "@jupyter-widgets/controls",
      "model_module_version": "2.0.0",
      "model_name": "HTMLModel",
      "state": {
       "layout": "IPY_MODEL_08ad9c0ead1c4bf799b02948e1ce6634",
       "style": "IPY_MODEL_ba3d73e5de04422e812d85bee8014f45",
       "value": "job has successfully run"
      }
     },
     "d8b090465a0c4f79b8c010c3c36c914d": {
      "model_module": "@jupyter-widgets/base",
      "model_module_version": "2.0.0",
      "model_name": "LayoutModel",
      "state": {
       "max_width": "700px",
       "min_width": "700px"
      }
     },
     "d8f69d7efa984b32b071be546eb2ef43": {
      "model_module": "@jupyter-widgets/controls",
      "model_module_version": "2.0.0",
      "model_name": "HTMLStyleModel",
      "state": {
       "description_width": "",
       "font_size": null,
       "text_color": null
      }
     },
     "d94c6ed2623243e8bf9bf5d303c2cecf": {
      "model_module": "@jupyter-widgets/base",
      "model_module_version": "2.0.0",
      "model_name": "LayoutModel",
      "state": {
       "max_width": "700px",
       "min_width": "700px"
      }
     },
     "d9caa47ae7174f15802581a1ccb15cbf": {
      "model_module": "@jupyter-widgets/controls",
      "model_module_version": "2.0.0",
      "model_name": "HBoxModel",
      "state": {
       "children": [
        "IPY_MODEL_25351393f6f649f7a3345acef3c65e4e",
        "IPY_MODEL_bcf18b7138944cdd9c3033ccc64ec3c6",
        "IPY_MODEL_1182df135cba42c8810faae9f621b3a8",
        "IPY_MODEL_ae90288fcbc9477486288acf30c1ee11",
        "IPY_MODEL_75c4aff24b3f47d5919bf9797da75a04",
        "IPY_MODEL_e98daae6482b4de4891e86b1d525af43"
       ],
       "layout": "IPY_MODEL_a4a38e08945a4f2fa21e7011afcd0984"
      }
     },
     "d9ccdff7112f448eb8c2bbf1a05d8eb5": {
      "model_module": "@jupyter-widgets/controls",
      "model_module_version": "2.0.0",
      "model_name": "HTMLStyleModel",
      "state": {
       "description_width": "",
       "font_size": null,
       "text_color": null
      }
     },
     "d9d30daf95c54c04997f75484ab4a9cc": {
      "model_module": "@jupyter-widgets/controls",
      "model_module_version": "2.0.0",
      "model_name": "ButtonStyleModel",
      "state": {
       "button_color": "white",
       "font_family": null,
       "font_size": null,
       "font_style": null,
       "font_variant": null,
       "font_weight": null,
       "text_color": null,
       "text_decoration": null
      }
     },
     "da1a075d035a43d29b31281e1853b94b": {
      "model_module": "@jupyter-widgets/base",
      "model_module_version": "2.0.0",
      "model_name": "LayoutModel",
      "state": {
       "width": "70px"
      }
     },
     "da277fdba5214118ade8d355170008d4": {
      "model_module": "@jupyter-widgets/controls",
      "model_module_version": "2.0.0",
      "model_name": "HTMLModel",
      "state": {
       "layout": "IPY_MODEL_13ebdde3aa664cb09455ed8abc8f2813",
       "style": "IPY_MODEL_79084c85bfa1461e89145eede97d383c",
       "value": "<font style='color:#34BC6E'>DONE</font>"
      }
     },
     "da6b66524e9e4e9694ad6022b7136151": {
      "model_module": "@jupyter-widgets/controls",
      "model_module_version": "2.0.0",
      "model_name": "HTMLStyleModel",
      "state": {
       "description_width": "",
       "font_size": null,
       "text_color": null
      }
     },
     "dacd9298c442493bb9997e6856432001": {
      "model_module": "@jupyter-widgets/base",
      "model_module_version": "2.0.0",
      "model_name": "LayoutModel",
      "state": {
       "max_width": "700px",
       "min_width": "700px"
      }
     },
     "db39759433d24a23871446388c33cdb0": {
      "model_module": "@jupyter-widgets/base",
      "model_module_version": "2.0.0",
      "model_name": "LayoutModel",
      "state": {}
     },
     "dc23a06d82cd4f5ebf4a8f6e11af0e84": {
      "model_module": "@jupyter-widgets/base",
      "model_module_version": "2.0.0",
      "model_name": "LayoutModel",
      "state": {
       "width": "145px"
      }
     },
     "dc508b8a1eab4d958420df1c966ac717": {
      "model_module": "@jupyter-widgets/controls",
      "model_module_version": "2.0.0",
      "model_name": "HTMLModel",
      "state": {
       "layout": "IPY_MODEL_5e980e054a7746b393796582a0212d1f",
       "style": "IPY_MODEL_5f065e3de94741199b4c875e0caa93be",
       "value": "job has successfully run"
      }
     },
     "dc9f7bf892594908a76adbd913738842": {
      "model_module": "@jupyter-widgets/controls",
      "model_module_version": "2.0.0",
      "model_name": "HTMLModel",
      "state": {
       "layout": "IPY_MODEL_edcd3bf35d1b4b5e8f5e4bf78a628cf0",
       "style": "IPY_MODEL_150d87d5746345c4a2fcb99449be635b",
       "value": "job has successfully run"
      }
     },
     "dd32dffa568e4cc792cd65591a65a4d4": {
      "model_module": "@jupyter-widgets/base",
      "model_module_version": "2.0.0",
      "model_name": "LayoutModel",
      "state": {
       "width": "70px"
      }
     },
     "dd3b00d6f74e4626a3709049999dd0aa": {
      "model_module": "@jupyter-widgets/controls",
      "model_module_version": "2.0.0",
      "model_name": "HTMLStyleModel",
      "state": {
       "description_width": "",
       "font_size": null,
       "text_color": null
      }
     },
     "dd4cbab6e25445cd817c4dbf13731582": {
      "model_module": "@jupyter-widgets/controls",
      "model_module_version": "2.0.0",
      "model_name": "HTMLStyleModel",
      "state": {
       "description_width": "",
       "font_size": null,
       "text_color": null
      }
     },
     "dd581dbd1a4b4d71a989fff855e2cf39": {
      "model_module": "@jupyter-widgets/controls",
      "model_module_version": "2.0.0",
      "model_name": "HTMLModel",
      "state": {
       "layout": "IPY_MODEL_a0866e1a7e134547a81931fc75da819a",
       "style": "IPY_MODEL_5a7a7dc98e5b457a80f0642076cc8667",
       "value": "cmebb4cy4c00008hykd0"
      }
     },
     "dd85af69347b45ebac02321381cbd91d": {
      "model_module": "@jupyter-widgets/base",
      "model_module_version": "2.0.0",
      "model_name": "LayoutModel",
      "state": {
       "width": "145px"
      }
     },
     "ddac229b2c904d97b5715f560a30feab": {
      "model_module": "@jupyter-widgets/controls",
      "model_module_version": "2.0.0",
      "model_name": "HTMLStyleModel",
      "state": {
       "description_width": "",
       "font_size": null,
       "text_color": null
      }
     },
     "de0b224736484eadb7c9daf1a583d7fd": {
      "model_module": "@jupyter-widgets/base",
      "model_module_version": "2.0.0",
      "model_name": "LayoutModel",
      "state": {
       "width": "70px"
      }
     },
     "de55d7b8c0dd47e4ae555a462f093562": {
      "model_module": "@jupyter-widgets/base",
      "model_module_version": "2.0.0",
      "model_name": "LayoutModel",
      "state": {
       "width": "95px"
      }
     },
     "de7dd0761ca6460f86fbc8acedd6710a": {
      "model_module": "@jupyter-widgets/controls",
      "model_module_version": "2.0.0",
      "model_name": "ButtonStyleModel",
      "state": {
       "button_color": "white",
       "font_family": null,
       "font_size": null,
       "font_style": null,
       "font_variant": null,
       "font_weight": null,
       "text_color": null,
       "text_decoration": null
      }
     },
     "dec24a23b94748f6a0557962fc2528f9": {
      "model_module": "@jupyter-widgets/controls",
      "model_module_version": "2.0.0",
      "model_name": "HTMLStyleModel",
      "state": {
       "description_width": "",
       "font_size": null,
       "text_color": null
      }
     },
     "df19c72004774aee93bb9c01d86892b3": {
      "model_module": "@jupyter-widgets/base",
      "model_module_version": "2.0.0",
      "model_name": "LayoutModel",
      "state": {
       "width": "145px"
      }
     },
     "df4cd8922fe54d90997f72c6e9e82922": {
      "model_module": "@jupyter-widgets/base",
      "model_module_version": "2.0.0",
      "model_name": "LayoutModel",
      "state": {
       "margin": "0px 5px 0px 0px",
       "width": "32px"
      }
     },
     "df9c44073d28453e91762bec2267facb": {
      "model_module": "@jupyter-widgets/controls",
      "model_module_version": "2.0.0",
      "model_name": "HTMLStyleModel",
      "state": {
       "description_width": "",
       "font_size": null,
       "text_color": null
      }
     },
     "dfc47918cfde45a39fb5b4ea6f933547": {
      "model_module": "@jupyter-widgets/controls",
      "model_module_version": "2.0.0",
      "model_name": "ButtonStyleModel",
      "state": {
       "button_color": "white",
       "font_family": null,
       "font_size": null,
       "font_style": null,
       "font_variant": null,
       "font_weight": null,
       "text_color": null,
       "text_decoration": null
      }
     },
     "e010f832ec0547a8b00fd7a3d60df0e2": {
      "model_module": "@jupyter-widgets/base",
      "model_module_version": "2.0.0",
      "model_name": "LayoutModel",
      "state": {
       "width": "145px"
      }
     },
     "e03ffe4f461d40fb871aa8ef069ea5c0": {
      "model_module": "@jupyter-widgets/controls",
      "model_module_version": "2.0.0",
      "model_name": "ButtonModel",
      "state": {
       "icon": "close",
       "layout": "IPY_MODEL_d0d505a6087949d1bd630c97ea728776",
       "style": "IPY_MODEL_51f66a97c7c04589bda0f6504f8d855e",
       "tooltip": null
      }
     },
     "e0a4c82ce9644b728d2a6aac92808575": {
      "model_module": "@jupyter-widgets/controls",
      "model_module_version": "2.0.0",
      "model_name": "HTMLStyleModel",
      "state": {
       "description_width": "",
       "font_size": null,
       "text_color": null
      }
     },
     "e1735e31449747cb949b98513697f18f": {
      "model_module": "@jupyter-widgets/base",
      "model_module_version": "2.0.0",
      "model_name": "LayoutModel",
      "state": {
       "max_width": "700px",
       "min_width": "700px"
      }
     },
     "e1ebc0a68e2a4552a3e7e6911f3f28d4": {
      "model_module": "@jupyter-widgets/base",
      "model_module_version": "2.0.0",
      "model_name": "LayoutModel",
      "state": {
       "width": "145px"
      }
     },
     "e1ede4a8f7cc4ec3bca6bfe9b9581140": {
      "model_module": "@jupyter-widgets/base",
      "model_module_version": "2.0.0",
      "model_name": "LayoutModel",
      "state": {
       "width": "190px"
      }
     },
     "e1f8d9141e3c45daa48759f7fda58f17": {
      "model_module": "@jupyter-widgets/base",
      "model_module_version": "2.0.0",
      "model_name": "LayoutModel",
      "state": {
       "width": "190px"
      }
     },
     "e269643ccc6348a197511a1cf014362f": {
      "model_module": "@jupyter-widgets/controls",
      "model_module_version": "2.0.0",
      "model_name": "HTMLModel",
      "state": {
       "layout": "IPY_MODEL_17b162e94a1144cf96f3bac19e4d89c2",
       "style": "IPY_MODEL_4f1f5b84672f46ed86a259d43067d857",
       "value": "<font style='color:#34BC6E'>DONE</font>"
      }
     },
     "e2a70d6060be4fe083f791e48e91bdd6": {
      "model_module": "@jupyter-widgets/controls",
      "model_module_version": "2.0.0",
      "model_name": "HTMLStyleModel",
      "state": {
       "description_width": "",
       "font_size": null,
       "text_color": null
      }
     },
     "e2c3f207c09441c5a8c7859dcf5d05e0": {
      "model_module": "@jupyter-widgets/controls",
      "model_module_version": "2.0.0",
      "model_name": "HTMLStyleModel",
      "state": {
       "description_width": "",
       "font_size": null,
       "text_color": null
      }
     },
     "e31921b0b3d7417185009d2e1741a58d": {
      "model_module": "@jupyter-widgets/controls",
      "model_module_version": "2.0.0",
      "model_name": "HTMLStyleModel",
      "state": {
       "description_width": "",
       "font_size": null,
       "text_color": null
      }
     },
     "e331a3848e75435ba311abfa1cc73a6e": {
      "model_module": "@jupyter-widgets/controls",
      "model_module_version": "2.0.0",
      "model_name": "HTMLModel",
      "state": {
       "layout": "IPY_MODEL_54b6c8c9d308454d9bb123131943d9eb",
       "style": "IPY_MODEL_b20b8b6537ae4348b2317cd9e799a78f",
       "value": "ibm_nairobi"
      }
     },
     "e353de6f053f42d282e4835529989e2b": {
      "model_module": "@jupyter-widgets/controls",
      "model_module_version": "2.0.0",
      "model_name": "HTMLModel",
      "state": {
       "layout": "IPY_MODEL_204939ad92ca48439ff9cd74765512ee",
       "style": "IPY_MODEL_5a150ce8f3874712851ace0a916c4ecb",
       "value": "job has successfully run"
      }
     },
     "e37d55e289254bcca71e4a9b6687dfe8": {
      "model_module": "@jupyter-widgets/controls",
      "model_module_version": "2.0.0",
      "model_name": "HTMLModel",
      "state": {
       "layout": "IPY_MODEL_9ea862db2e8f462eb8fabd80eb734696",
       "style": "IPY_MODEL_205218458a2842f2ad180360b84c79e5",
       "value": "<font style='color:#34BC6E'>DONE</font>"
      }
     },
     "e3cb5572bbf244ac88dc74b109e1728e": {
      "model_module": "@jupyter-widgets/base",
      "model_module_version": "2.0.0",
      "model_name": "LayoutModel",
      "state": {
       "width": "190px"
      }
     },
     "e3f395d1fa9c45d7b985fcb88d4d0119": {
      "model_module": "@jupyter-widgets/base",
      "model_module_version": "2.0.0",
      "model_name": "LayoutModel",
      "state": {
       "width": "190px"
      }
     },
     "e40b676d61ec4be4be79dff8780adca0": {
      "model_module": "@jupyter-widgets/controls",
      "model_module_version": "2.0.0",
      "model_name": "HTMLModel",
      "state": {
       "layout": "IPY_MODEL_017986a7aed54841a56cb16afac48a5a",
       "style": "IPY_MODEL_dec24a23b94748f6a0557962fc2528f9",
       "value": "ibm_nairobi"
      }
     },
     "e4166bc5018440e48b11256d8cb2ad20": {
      "model_module": "@jupyter-widgets/controls",
      "model_module_version": "2.0.0",
      "model_name": "HTMLStyleModel",
      "state": {
       "description_width": "",
       "font_size": null,
       "text_color": null
      }
     },
     "e43f8e83336045fda47dbb046f9cea7c": {
      "model_module": "@jupyter-widgets/base",
      "model_module_version": "2.0.0",
      "model_name": "LayoutModel",
      "state": {
       "width": "95px"
      }
     },
     "e4bb87a3b9d24aca9de73174c324933c": {
      "model_module": "@jupyter-widgets/controls",
      "model_module_version": "2.0.0",
      "model_name": "HTMLModel",
      "state": {
       "layout": "IPY_MODEL_92678ba2e31d4a55a5b0e0226118a978",
       "style": "IPY_MODEL_089b051c971748e2a6a639185d42852c",
       "value": "cmebemazjkb0008crw30"
      }
     },
     "e4cbbe5874f440e8886e4e4be38d0422": {
      "model_module": "@jupyter-widgets/controls",
      "model_module_version": "2.0.0",
      "model_name": "HTMLModel",
      "state": {
       "layout": "IPY_MODEL_de0b224736484eadb7c9daf1a583d7fd",
       "style": "IPY_MODEL_1eeb2067ac6246eea234b5bd80308963",
       "value": "-"
      }
     },
     "e4e891dd45ab4fe4b50e253b469c945c": {
      "model_module": "@jupyter-widgets/controls",
      "model_module_version": "2.0.0",
      "model_name": "ButtonModel",
      "state": {
       "icon": "close",
       "layout": "IPY_MODEL_c6fbed0c96b84624acb257439b71e14f",
       "style": "IPY_MODEL_91d4504cc38b4463b189b5024feaf7c6",
       "tooltip": null
      }
     },
     "e518a9f2032e40ce829ef2e2fb53c74f": {
      "model_module": "@jupyter-widgets/controls",
      "model_module_version": "2.0.0",
      "model_name": "HTMLStyleModel",
      "state": {
       "description_width": "",
       "font_size": null,
       "text_color": null
      }
     },
     "e5849a2af5b94b2eba5bc061596e6ce1": {
      "model_module": "@jupyter-widgets/base",
      "model_module_version": "2.0.0",
      "model_name": "LayoutModel",
      "state": {
       "width": "70px"
      }
     },
     "e59413fe010c499faba47ae6bfaa7a3a": {
      "model_module": "@jupyter-widgets/controls",
      "model_module_version": "2.0.0",
      "model_name": "HTMLStyleModel",
      "state": {
       "description_width": "",
       "font_size": null,
       "text_color": null
      }
     },
     "e595c8546a9b4ce8ab6855eff2357e6d": {
      "model_module": "@jupyter-widgets/base",
      "model_module_version": "2.0.0",
      "model_name": "LayoutModel",
      "state": {
       "width": "145px"
      }
     },
     "e5973d6984024a7c95a52de0ed4d25a0": {
      "model_module": "@jupyter-widgets/controls",
      "model_module_version": "2.0.0",
      "model_name": "HBoxModel",
      "state": {
       "children": [
        "IPY_MODEL_36667b9eb7a14438b48d792c4c568e26",
        "IPY_MODEL_36877220d21e442384422ee1fd990be0",
        "IPY_MODEL_b1a33a5ebe1247d4bd6eaecf81aef1da",
        "IPY_MODEL_0e97196fe0d441ad94810b28868c8e32",
        "IPY_MODEL_52a1f85c77cd4474a7c4596df1fa9d69",
        "IPY_MODEL_3e45a10ccfa84971807fdb6d2ac70967"
       ],
       "layout": "IPY_MODEL_12ea8caa5d144672afd92550eb96fe14"
      }
     },
     "e5aae47d1fe14bc0acc9ada824179a4b": {
      "model_module": "@jupyter-widgets/base",
      "model_module_version": "2.0.0",
      "model_name": "LayoutModel",
      "state": {}
     },
     "e5be6c158a0a49f6afb093d1c895c23c": {
      "model_module": "@jupyter-widgets/controls",
      "model_module_version": "2.0.0",
      "model_name": "HTMLStyleModel",
      "state": {
       "description_width": "",
       "font_size": null,
       "text_color": null
      }
     },
     "e5e8b97df7624823b6810fe05fd5958a": {
      "model_module": "@jupyter-widgets/controls",
      "model_module_version": "2.0.0",
      "model_name": "HTMLModel",
      "state": {
       "layout": "IPY_MODEL_58331c8a807649aeb2ca659c8a9afa1d",
       "style": "IPY_MODEL_4873f462a47a40cc9060ea0502623b37",
       "value": "cmebc50zjkb0008crvzg"
      }
     },
     "e751191011354cf38e3a3df28aba11b2": {
      "model_module": "@jupyter-widgets/controls",
      "model_module_version": "2.0.0",
      "model_name": "HTMLModel",
      "state": {
       "layout": "IPY_MODEL_746762d4beac4faeaf27da80495afb6c",
       "style": "IPY_MODEL_a5d0697266b6428f9139a36ca0bd68ab",
       "value": "<font style='color:#34BC6E'>DONE</font>"
      }
     },
     "e75ce53a4d49430994bba478fd0af2dc": {
      "model_module": "@jupyter-widgets/base",
      "model_module_version": "2.0.0",
      "model_name": "LayoutModel",
      "state": {
       "width": "95px"
      }
     },
     "e774edf2469b46088eb6e9db6ac04f82": {
      "model_module": "@jupyter-widgets/controls",
      "model_module_version": "2.0.0",
      "model_name": "HTMLModel",
      "state": {
       "layout": "IPY_MODEL_f13d961874724b1d8914ba25699fc34a",
       "style": "IPY_MODEL_9b17553908da4a29b81d439dab80a9d2",
       "value": "cmebbdxwcht0008ybg8g"
      }
     },
     "e8258a1434c84ba08a56ed9bed1a1e33": {
      "model_module": "@jupyter-widgets/controls",
      "model_module_version": "2.0.0",
      "model_name": "ButtonStyleModel",
      "state": {
       "button_color": "white",
       "font_family": null,
       "font_size": null,
       "font_style": null,
       "font_variant": null,
       "font_weight": null,
       "text_color": null,
       "text_decoration": null
      }
     },
     "e88671454254474c9882ae498b687909": {
      "model_module": "@jupyter-widgets/controls",
      "model_module_version": "2.0.0",
      "model_name": "HTMLModel",
      "state": {
       "layout": "IPY_MODEL_eab21b7ff9d34b178ef78a4638dda825",
       "style": "IPY_MODEL_da6b66524e9e4e9694ad6022b7136151",
       "value": "ibm_nairobi"
      }
     },
     "e8ba00bb53064830a328725fe72d46ca": {
      "model_module": "@jupyter-widgets/controls",
      "model_module_version": "2.0.0",
      "model_name": "HTMLStyleModel",
      "state": {
       "description_width": "",
       "font_size": null,
       "text_color": null
      }
     },
     "e8e994c3787646d89be133242731eb6a": {
      "model_module": "@jupyter-widgets/controls",
      "model_module_version": "2.0.0",
      "model_name": "HTMLStyleModel",
      "state": {
       "description_width": "",
       "font_size": null,
       "text_color": null
      }
     },
     "e90376f1d50549c395465794858ad1e8": {
      "model_module": "@jupyter-widgets/base",
      "model_module_version": "2.0.0",
      "model_name": "LayoutModel",
      "state": {
       "margin": "0px 5px 0px 0px",
       "width": "32px"
      }
     },
     "e90af3fed0e04a18aeefe59f291bb676": {
      "model_module": "@jupyter-widgets/base",
      "model_module_version": "2.0.0",
      "model_name": "LayoutModel",
      "state": {}
     },
     "e91f409c7cea40779f9bc5bd2d9f5290": {
      "model_module": "@jupyter-widgets/controls",
      "model_module_version": "2.0.0",
      "model_name": "HTMLStyleModel",
      "state": {
       "description_width": "",
       "font_size": null,
       "text_color": null
      }
     },
     "e976076047f143079aa9067fe4e13681": {
      "model_module": "@jupyter-widgets/controls",
      "model_module_version": "2.0.0",
      "model_name": "HTMLModel",
      "state": {
       "layout": "IPY_MODEL_03ceec25402e4d658a684a702232685f",
       "style": "IPY_MODEL_e31921b0b3d7417185009d2e1741a58d",
       "value": "-"
      }
     },
     "e979ed3499cc49598577a438dab59caa": {
      "model_module": "@jupyter-widgets/base",
      "model_module_version": "2.0.0",
      "model_name": "LayoutModel",
      "state": {
       "max_width": "700px",
       "min_width": "700px"
      }
     },
     "e98648686faa410da65e4f23495dd05c": {
      "model_module": "@jupyter-widgets/controls",
      "model_module_version": "2.0.0",
      "model_name": "ButtonStyleModel",
      "state": {
       "button_color": "white",
       "font_family": null,
       "font_size": null,
       "font_style": null,
       "font_variant": null,
       "font_weight": null,
       "text_color": null,
       "text_decoration": null
      }
     },
     "e98daae6482b4de4891e86b1d525af43": {
      "model_module": "@jupyter-widgets/controls",
      "model_module_version": "2.0.0",
      "model_name": "HTMLModel",
      "state": {
       "layout": "IPY_MODEL_a6af47b60dcb457ea1ece614efa4b6e0",
       "style": "IPY_MODEL_8e2907f21b88489ba64d88673ecbe0aa",
       "value": "job has successfully run"
      }
     },
     "e9b40b928a184e7ba53535592305b7a0": {
      "model_module": "@jupyter-widgets/controls",
      "model_module_version": "2.0.0",
      "model_name": "HBoxModel",
      "state": {
       "children": [
        "IPY_MODEL_a5cd500b6ba64a858b6c9465a66bb2be",
        "IPY_MODEL_a033094d82964817a1dcca6750050277",
        "IPY_MODEL_853479532ad24f99a846b1ace2a9a5be",
        "IPY_MODEL_97376d832bcc4282b5f2c1430e6f6f85",
        "IPY_MODEL_d1c8dc56af114833b1a94d1f5c084005",
        "IPY_MODEL_f281f67eb07e4a39831de890e91d5b0c"
       ],
       "layout": "IPY_MODEL_252d4c9a27cb424db06bb61b6d9e37a2"
      }
     },
     "e9b977a0df3445e5a52cff9c009ea78a": {
      "model_module": "@jupyter-widgets/controls",
      "model_module_version": "2.0.0",
      "model_name": "HTMLModel",
      "state": {
       "layout": "IPY_MODEL_07c1d279659b4285a744c6cf347c8cba",
       "style": "IPY_MODEL_2eb8635f9c234505a8d313e1c2a58645",
       "value": "ibm_nairobi"
      }
     },
     "e9c965f80126489984684e9a99dcdadd": {
      "model_module": "@jupyter-widgets/controls",
      "model_module_version": "2.0.0",
      "model_name": "HTMLStyleModel",
      "state": {
       "description_width": "",
       "font_size": null,
       "text_color": null
      }
     },
     "e9f447a12b2f4412a68cae02f0f76566": {
      "model_module": "@jupyter-widgets/base",
      "model_module_version": "2.0.0",
      "model_name": "LayoutModel",
      "state": {
       "width": "145px"
      }
     },
     "eab21b7ff9d34b178ef78a4638dda825": {
      "model_module": "@jupyter-widgets/base",
      "model_module_version": "2.0.0",
      "model_name": "LayoutModel",
      "state": {
       "width": "145px"
      }
     },
     "eacde65d2d3246e09c51b3c608c8e695": {
      "model_module": "@jupyter-widgets/controls",
      "model_module_version": "2.0.0",
      "model_name": "HTMLStyleModel",
      "state": {
       "description_width": "",
       "font_size": null,
       "text_color": null
      }
     },
     "eaffd0b86fe24aef96ba90326bc3eb32": {
      "model_module": "@jupyter-widgets/base",
      "model_module_version": "2.0.0",
      "model_name": "LayoutModel",
      "state": {}
     },
     "eb0f8a8556574af2871128866854cf47": {
      "model_module": "@jupyter-widgets/controls",
      "model_module_version": "2.0.0",
      "model_name": "HTMLStyleModel",
      "state": {
       "description_width": "",
       "font_size": null,
       "text_color": null
      }
     },
     "eb2809a2d6f1471fa5cc956f9181ab76": {
      "model_module": "@jupyter-widgets/controls",
      "model_module_version": "2.0.0",
      "model_name": "HTMLModel",
      "state": {
       "layout": "IPY_MODEL_270c00948c414a3aab14270fcb5c7b15",
       "style": "IPY_MODEL_90e03ab2ff324ccaa0591ac977939a29",
       "value": "cmeavnpwq3k0008t00g0"
      }
     },
     "eb6a9c4e872445b39519a05bede845dc": {
      "model_module": "@jupyter-widgets/controls",
      "model_module_version": "2.0.0",
      "model_name": "HTMLModel",
      "state": {
       "layout": "IPY_MODEL_fae1858ffad7497482032d982edc4e47",
       "style": "IPY_MODEL_bce1a94410184feb82bdf06e83b470a2",
       "value": "job has successfully run"
      }
     },
     "eba11815fc80478ba2b4c673d80de4dd": {
      "model_module": "@jupyter-widgets/controls",
      "model_module_version": "2.0.0",
      "model_name": "HTMLStyleModel",
      "state": {
       "description_width": "",
       "font_size": null,
       "text_color": null
      }
     },
     "ebad14d4631e4a32be37d998d4f14310": {
      "model_module": "@jupyter-widgets/controls",
      "model_module_version": "2.0.0",
      "model_name": "ButtonStyleModel",
      "state": {
       "button_color": "white",
       "font_family": null,
       "font_size": null,
       "font_style": null,
       "font_variant": null,
       "font_weight": null,
       "text_color": null,
       "text_decoration": null
      }
     },
     "ebaf84d15b49445ca67364a5701603f2": {
      "model_module": "@jupyter-widgets/controls",
      "model_module_version": "2.0.0",
      "model_name": "HTMLModel",
      "state": {
       "layout": "IPY_MODEL_65f553313f444908b7937e524ed62219",
       "style": "IPY_MODEL_7547ef8a9d2247b59347c2fec3738692",
       "value": "<font style='color:#34BC6E'>DONE</font>"
      }
     },
     "ebc745d49479403e88d6e4b29977502b": {
      "model_module": "@jupyter-widgets/base",
      "model_module_version": "2.0.0",
      "model_name": "LayoutModel",
      "state": {
       "width": "95px"
      }
     },
     "ebccd3aa02ad49528f63fabf5d6be47c": {
      "model_module": "@jupyter-widgets/controls",
      "model_module_version": "2.0.0",
      "model_name": "HBoxModel",
      "state": {
       "children": [
        "IPY_MODEL_3da2c680d0b5421a9c6cef9dc9824f48",
        "IPY_MODEL_afd50888ee9d45408af7568ee3d207c3",
        "IPY_MODEL_7b16712bfad14205a353f4818a214b9c",
        "IPY_MODEL_5af29a59b4754348b8d10bfbfae89e91",
        "IPY_MODEL_844642e562cf44e19d3c08251cab6c99",
        "IPY_MODEL_9998407544174769ac358692aa4b2d59"
       ],
       "layout": "IPY_MODEL_899e42bfc44b49bfb920595064988aba"
      }
     },
     "ebd1c622317d46d4af6d8a734e523952": {
      "model_module": "@jupyter-widgets/controls",
      "model_module_version": "2.0.0",
      "model_name": "HTMLModel",
      "state": {
       "layout": "IPY_MODEL_2261b4313bda4e739020dc7d033ba360",
       "style": "IPY_MODEL_d2be145846be4575aea0c473a948d9b2",
       "value": "cmeb468zjkb0008crvkg"
      }
     },
     "ec095e6a295a448d83f6fc708a7f83f9": {
      "model_module": "@jupyter-widgets/controls",
      "model_module_version": "2.0.0",
      "model_name": "HTMLStyleModel",
      "state": {
       "description_width": "",
       "font_size": null,
       "text_color": null
      }
     },
     "ec51de3dd7374023872702d29a87e617": {
      "model_module": "@jupyter-widgets/controls",
      "model_module_version": "2.0.0",
      "model_name": "HTMLModel",
      "state": {
       "layout": "IPY_MODEL_9e3d5512c986499bb0b5819e8f4027ee",
       "style": "IPY_MODEL_8944c9ba1b0b49379636980f9c685999",
       "value": "-"
      }
     },
     "ec69737225f84cb68016e7776359bfe4": {
      "model_module": "@jupyter-widgets/controls",
      "model_module_version": "2.0.0",
      "model_name": "HBoxModel",
      "state": {
       "children": [
        "IPY_MODEL_5eaf623734a54af698b964fa4af30034",
        "IPY_MODEL_340fe602036549f1b13f94fd8f0eaefa",
        "IPY_MODEL_7601aad853d84a719905c1f8273e7c08",
        "IPY_MODEL_4021be2975a2464d9e87236baca6b128",
        "IPY_MODEL_420962a399784cc5b8e3a050748e24a5",
        "IPY_MODEL_cee6fd6a92f74d9cbc95af3a15ea1d00"
       ],
       "layout": "IPY_MODEL_09e0ab051b884c97a4f75660303e9754"
      }
     },
     "ec6a8f32559e476e80f2bdbd9f97f6d0": {
      "model_module": "@jupyter-widgets/base",
      "model_module_version": "2.0.0",
      "model_name": "LayoutModel",
      "state": {
       "max_width": "700px",
       "min_width": "700px"
      }
     },
     "ed27c1fa743f447cb4d05043cc3be3b5": {
      "model_module": "@jupyter-widgets/controls",
      "model_module_version": "2.0.0",
      "model_name": "HTMLStyleModel",
      "state": {
       "description_width": "",
       "font_size": null,
       "text_color": null
      }
     },
     "ed62891bc3394f66b7b1e7f8db08f964": {
      "model_module": "@jupyter-widgets/controls",
      "model_module_version": "2.0.0",
      "model_name": "HTMLModel",
      "state": {
       "layout": "IPY_MODEL_1a090d2988eb4b2995608184e5a77738",
       "style": "IPY_MODEL_ffcbfdc843454f0bb1a2474fb0b9c52f",
       "value": "cmeay9hy4c00008hyjy0"
      }
     },
     "edaf1cdf36094260ab26d4660210a038": {
      "model_module": "@jupyter-widgets/controls",
      "model_module_version": "2.0.0",
      "model_name": "HTMLModel",
      "state": {
       "layout": "IPY_MODEL_7ab721872fd4485798bb4a89f2abe3f5",
       "style": "IPY_MODEL_47ad27333eda4621a9e3e16e3ef6fa12",
       "value": "-"
      }
     },
     "edcd3bf35d1b4b5e8f5e4bf78a628cf0": {
      "model_module": "@jupyter-widgets/base",
      "model_module_version": "2.0.0",
      "model_name": "LayoutModel",
      "state": {}
     },
     "edebc9b477a54dea87c58464ba4f89aa": {
      "model_module": "@jupyter-widgets/base",
      "model_module_version": "2.0.0",
      "model_name": "LayoutModel",
      "state": {
       "width": "145px"
      }
     },
     "ee0f4d83ffed49af84cb94855721e4cc": {
      "model_module": "@jupyter-widgets/controls",
      "model_module_version": "2.0.0",
      "model_name": "HBoxModel",
      "state": {
       "children": [
        "IPY_MODEL_f0075097be7d4b878dcca1110bc38ff5",
        "IPY_MODEL_a18440732da242f08063d536f2643d45",
        "IPY_MODEL_e9b977a0df3445e5a52cff9c009ea78a",
        "IPY_MODEL_369042ba602c49088ec9022334ea2e32",
        "IPY_MODEL_0f0f325ace1f4b90a18eddbed8fd9558",
        "IPY_MODEL_0e18d030d2aa4f5699b52538fdc5ae48"
       ],
       "layout": "IPY_MODEL_944847b495734eac984acaea6d26c95f"
      }
     },
     "ee986f25af8d489e9ecc94af197cb19e": {
      "model_module": "@jupyter-widgets/controls",
      "model_module_version": "2.0.0",
      "model_name": "HTMLModel",
      "state": {
       "layout": "IPY_MODEL_1b5466ddb5a84c4798489d3da2c6ca4c",
       "style": "IPY_MODEL_f0e1a02b6fb548a0a0843fb47b3022ea",
       "value": "-"
      }
     },
     "eee12b10f93b49759106b2150c4e3025": {
      "model_module": "@jupyter-widgets/base",
      "model_module_version": "2.0.0",
      "model_name": "LayoutModel",
      "state": {
       "margin": "0px 5px 0px 0px",
       "width": "32px"
      }
     },
     "ef01827c9ff04d26a95f19a2116f7bb9": {
      "model_module": "@jupyter-widgets/controls",
      "model_module_version": "2.0.0",
      "model_name": "HTMLStyleModel",
      "state": {
       "description_width": "",
       "font_size": null,
       "text_color": null
      }
     },
     "ef2405f042fd4d189883627e212fbd84": {
      "model_module": "@jupyter-widgets/controls",
      "model_module_version": "2.0.0",
      "model_name": "HBoxModel",
      "state": {
       "children": [
        "IPY_MODEL_16266059517544bb8bc1d62399f0c9de",
        "IPY_MODEL_fd5f90a8b6aa40aabee40be74fe630f0",
        "IPY_MODEL_e331a3848e75435ba311abfa1cc73a6e",
        "IPY_MODEL_6d034ba119634454b976cbe8ba6630e9",
        "IPY_MODEL_6bf01da05f6f4761be4f73c90868711a",
        "IPY_MODEL_07fb880b373547449cb689f557e115b6"
       ],
       "layout": "IPY_MODEL_39be7c6d336f4f7e9de31a3a4a263b3d"
      }
     },
     "ef86e85b841d434fa15c40783f8c6c06": {
      "model_module": "@jupyter-widgets/base",
      "model_module_version": "2.0.0",
      "model_name": "LayoutModel",
      "state": {
       "width": "145px"
      }
     },
     "ef90babdccb54acca2104ac8a470f4e0": {
      "model_module": "@jupyter-widgets/base",
      "model_module_version": "2.0.0",
      "model_name": "LayoutModel",
      "state": {}
     },
     "efa512ad295d4f08bbb0c0d0119a20c9": {
      "model_module": "@jupyter-widgets/controls",
      "model_module_version": "2.0.0",
      "model_name": "HTMLStyleModel",
      "state": {
       "description_width": "",
       "font_size": null,
       "text_color": null
      }
     },
     "f0075097be7d4b878dcca1110bc38ff5": {
      "model_module": "@jupyter-widgets/controls",
      "model_module_version": "2.0.0",
      "model_name": "ButtonModel",
      "state": {
       "icon": "close",
       "layout": "IPY_MODEL_a7a9818693184d57b4577d91506f91cd",
       "style": "IPY_MODEL_00029bd2242045a5b26444296a9f486f",
       "tooltip": null
      }
     },
     "f05491b56ec641c09e830cfe150da6a3": {
      "model_module": "@jupyter-widgets/base",
      "model_module_version": "2.0.0",
      "model_name": "LayoutModel",
      "state": {
       "width": "145px"
      }
     },
     "f06d13b9b35f46a2af776ef9c750e6e9": {
      "model_module": "@jupyter-widgets/base",
      "model_module_version": "2.0.0",
      "model_name": "LayoutModel",
      "state": {
       "width": "70px"
      }
     },
     "f08d0483862f4d0488ff4871ee91e283": {
      "model_module": "@jupyter-widgets/base",
      "model_module_version": "2.0.0",
      "model_name": "LayoutModel",
      "state": {
       "margin": "0px 5px 0px 0px",
       "width": "32px"
      }
     },
     "f096646eddbe441f89622fcff05a6edd": {
      "model_module": "@jupyter-widgets/base",
      "model_module_version": "2.0.0",
      "model_name": "LayoutModel",
      "state": {
       "width": "95px"
      }
     },
     "f0e1a02b6fb548a0a0843fb47b3022ea": {
      "model_module": "@jupyter-widgets/controls",
      "model_module_version": "2.0.0",
      "model_name": "HTMLStyleModel",
      "state": {
       "description_width": "",
       "font_size": null,
       "text_color": null
      }
     },
     "f0f5c2831d2c4d27b255aab2cdb100d3": {
      "model_module": "@jupyter-widgets/base",
      "model_module_version": "2.0.0",
      "model_name": "LayoutModel",
      "state": {}
     },
     "f133f3a3ba304f2f985d8c1e963f7413": {
      "model_module": "@jupyter-widgets/controls",
      "model_module_version": "2.0.0",
      "model_name": "HTMLModel",
      "state": {
       "layout": "IPY_MODEL_552e647bc91a48dd9f0cebb0460ba2a5",
       "style": "IPY_MODEL_9364b05f68ec4a98b6113c0d19406ac3",
       "value": "job has successfully run"
      }
     },
     "f13955fc546c4af59bd17b064992d30f": {
      "model_module": "@jupyter-widgets/controls",
      "model_module_version": "2.0.0",
      "model_name": "HBoxModel",
      "state": {
       "children": [
        "IPY_MODEL_f45c33c54160470aa9fb5b5079e7c84c",
        "IPY_MODEL_0187de5cd8a2473a93e37970f54f5e78",
        "IPY_MODEL_1684cfadd4c64491bb92b5197f9f02e8",
        "IPY_MODEL_425f917b467744c197334633aa62b216",
        "IPY_MODEL_1094e355a334407badd9ddbcb5fddab5",
        "IPY_MODEL_a945f82066214acfb55727c38d0a185c"
       ],
       "layout": "IPY_MODEL_b944f3169baa48dc8e5349bb435d95b1"
      }
     },
     "f13d961874724b1d8914ba25699fc34a": {
      "model_module": "@jupyter-widgets/base",
      "model_module_version": "2.0.0",
      "model_name": "LayoutModel",
      "state": {
       "width": "190px"
      }
     },
     "f144185dc5e0485cb1f7490ba3e3c581": {
      "model_module": "@jupyter-widgets/controls",
      "model_module_version": "2.0.0",
      "model_name": "ButtonModel",
      "state": {
       "icon": "close",
       "layout": "IPY_MODEL_8c83599286e9448fa0d734b838314388",
       "style": "IPY_MODEL_baea1a67f8414beaa2ee7a5a8c6bd34e",
       "tooltip": null
      }
     },
     "f171a364814b48888b2746792e80a4d4": {
      "model_module": "@jupyter-widgets/controls",
      "model_module_version": "2.0.0",
      "model_name": "HTMLModel",
      "state": {
       "layout": "IPY_MODEL_f096646eddbe441f89622fcff05a6edd",
       "style": "IPY_MODEL_788202f58c864d3da25c3def1e065252",
       "value": "<font style='color:#34BC6E'>DONE</font>"
      }
     },
     "f1865ee07bd340229fe10f2566378f1e": {
      "model_module": "@jupyter-widgets/controls",
      "model_module_version": "2.0.0",
      "model_name": "HTMLStyleModel",
      "state": {
       "description_width": "",
       "font_size": null,
       "text_color": null
      }
     },
     "f19afcf8f025471386747b2f0e359c8c": {
      "model_module": "@jupyter-widgets/base",
      "model_module_version": "2.0.0",
      "model_name": "LayoutModel",
      "state": {}
     },
     "f246931a43c34457b176a5b9e08c1df9": {
      "model_module": "@jupyter-widgets/base",
      "model_module_version": "2.0.0",
      "model_name": "LayoutModel",
      "state": {
       "margin": "0px 5px 0px 0px",
       "width": "32px"
      }
     },
     "f255601192084e2483f9d54143eaf288": {
      "model_module": "@jupyter-widgets/base",
      "model_module_version": "2.0.0",
      "model_name": "LayoutModel",
      "state": {
       "width": "190px"
      }
     },
     "f25728d7447e44a8afa5ebdc693d0758": {
      "model_module": "@jupyter-widgets/controls",
      "model_module_version": "2.0.0",
      "model_name": "HBoxModel",
      "state": {
       "children": [
        "IPY_MODEL_036f2e67eea9492a8cb06d9486523d3d",
        "IPY_MODEL_ebd1c622317d46d4af6d8a734e523952",
        "IPY_MODEL_9f931089ba854eb1835a0e8407ef1ca9",
        "IPY_MODEL_b8fd503b90944afebdddc3de25849a39",
        "IPY_MODEL_37981219fb90477cbcd4c525cec929ad",
        "IPY_MODEL_0833ef6c87294a5a990e01724650e9fe"
       ],
       "layout": "IPY_MODEL_1763b68b077b43eca9b3eb3131c6dfd2"
      }
     },
     "f259fbca6ab64e63ae88461a099e81e6": {
      "model_module": "@jupyter-widgets/controls",
      "model_module_version": "2.0.0",
      "model_name": "HTMLModel",
      "state": {
       "layout": "IPY_MODEL_01529884a9d04c2f961effb532132d71",
       "style": "IPY_MODEL_cf58b6d0494f4eb88396030d649c865d",
       "value": "ibm_nairobi"
      }
     },
     "f281f67eb07e4a39831de890e91d5b0c": {
      "model_module": "@jupyter-widgets/controls",
      "model_module_version": "2.0.0",
      "model_name": "HTMLModel",
      "state": {
       "layout": "IPY_MODEL_4258df6048f74d01939fcd1c3f9902a2",
       "style": "IPY_MODEL_a2da7b8abe384372be61bc976c7eaf00",
       "value": "job has successfully run"
      }
     },
     "f2840c18c02f4bb89cf4559d718f9c7e": {
      "model_module": "@jupyter-widgets/base",
      "model_module_version": "2.0.0",
      "model_name": "LayoutModel",
      "state": {
       "width": "70px"
      }
     },
     "f2fa8af60aad44b9bdc4dec0c9cfc5f5": {
      "model_module": "@jupyter-widgets/base",
      "model_module_version": "2.0.0",
      "model_name": "LayoutModel",
      "state": {
       "width": "70px"
      }
     },
     "f44c486506004ffcabd2956df9509e31": {
      "model_module": "@jupyter-widgets/base",
      "model_module_version": "2.0.0",
      "model_name": "LayoutModel",
      "state": {
       "max_width": "700px",
       "min_width": "700px"
      }
     },
     "f45c33c54160470aa9fb5b5079e7c84c": {
      "model_module": "@jupyter-widgets/controls",
      "model_module_version": "2.0.0",
      "model_name": "ButtonModel",
      "state": {
       "icon": "close",
       "layout": "IPY_MODEL_7d7ad92834c4494593782d6977651b2f",
       "style": "IPY_MODEL_5d29e1a188354a8dae8e1297c48c7f54",
       "tooltip": null
      }
     },
     "f46c22ec149c4f2295e34e9f00f9aeeb": {
      "model_module": "@jupyter-widgets/controls",
      "model_module_version": "2.0.0",
      "model_name": "HBoxModel",
      "state": {
       "children": [
        "IPY_MODEL_9743f2f9811949c0a798600dd7eb2021",
        "IPY_MODEL_1fa4b387b79b46b7860ee4bdf42981f1",
        "IPY_MODEL_a54e175a03e543a2b5b32985cc0de138",
        "IPY_MODEL_585c1f1357e640a4bcb1c0b3e94e8e8b",
        "IPY_MODEL_b3b204a4ddf041198089d0cc4b90d5c4",
        "IPY_MODEL_4f3439681a564d549f700ef5caa44719"
       ],
       "layout": "IPY_MODEL_dacd9298c442493bb9997e6856432001"
      }
     },
     "f46f0328d7c74217985d56c80df18be7": {
      "model_module": "@jupyter-widgets/controls",
      "model_module_version": "2.0.0",
      "model_name": "ButtonModel",
      "state": {
       "icon": "close",
       "layout": "IPY_MODEL_f91a1ac1c2034d01a6c87ff27d818c50",
       "style": "IPY_MODEL_1ee0571f3b2249adb29741680cb7cc3c",
       "tooltip": null
      }
     },
     "f46fd9d3f3a84d2fba45bf3ba44461a7": {
      "model_module": "@jupyter-widgets/controls",
      "model_module_version": "2.0.0",
      "model_name": "HTMLStyleModel",
      "state": {
       "description_width": "",
       "font_size": null,
       "text_color": null
      }
     },
     "f4ea6a8e0ebd457a914797eef71dd111": {
      "model_module": "@jupyter-widgets/controls",
      "model_module_version": "2.0.0",
      "model_name": "HTMLStyleModel",
      "state": {
       "description_width": "",
       "font_size": null,
       "text_color": null
      }
     },
     "f58416b4a82548ee869bbf360d96261c": {
      "model_module": "@jupyter-widgets/controls",
      "model_module_version": "2.0.0",
      "model_name": "HTMLStyleModel",
      "state": {
       "description_width": "",
       "font_size": null,
       "text_color": null
      }
     },
     "f5bc66ff35cf487da027c599746afe77": {
      "model_module": "@jupyter-widgets/controls",
      "model_module_version": "2.0.0",
      "model_name": "HTMLStyleModel",
      "state": {
       "description_width": "",
       "font_size": null,
       "text_color": null
      }
     },
     "f600ba4f8aa84e53aa71aeb39d0c86e4": {
      "model_module": "@jupyter-widgets/base",
      "model_module_version": "2.0.0",
      "model_name": "LayoutModel",
      "state": {
       "width": "145px"
      }
     },
     "f64da2c5859943b6a54a07777aafca03": {
      "model_module": "@jupyter-widgets/controls",
      "model_module_version": "2.0.0",
      "model_name": "HTMLStyleModel",
      "state": {
       "description_width": "",
       "font_size": null,
       "text_color": null
      }
     },
     "f65c1902cba8429a8d4e1304791c93fa": {
      "model_module": "@jupyter-widgets/controls",
      "model_module_version": "2.0.0",
      "model_name": "HTMLModel",
      "state": {
       "layout": "IPY_MODEL_922f7ced12fd4c88bcfacd3babdb0f9c",
       "style": "IPY_MODEL_efa512ad295d4f08bbb0c0d0119a20c9",
       "value": "<h5>Status</h5>"
      }
     },
     "f65f730c5c784a1ca9b8656ba1c0a504": {
      "model_module": "@jupyter-widgets/controls",
      "model_module_version": "2.0.0",
      "model_name": "ButtonStyleModel",
      "state": {
       "button_color": "white",
       "font_family": null,
       "font_size": null,
       "font_style": null,
       "font_variant": null,
       "font_weight": null,
       "text_color": null,
       "text_decoration": null
      }
     },
     "f6dc482ebff64e509ac4eec135dd11a5": {
      "model_module": "@jupyter-widgets/base",
      "model_module_version": "2.0.0",
      "model_name": "LayoutModel",
      "state": {
       "max_width": "700px",
       "min_width": "700px"
      }
     },
     "f709bbf0fd194cabacf34ab0d1c53702": {
      "model_module": "@jupyter-widgets/controls",
      "model_module_version": "2.0.0",
      "model_name": "ButtonModel",
      "state": {
       "icon": "close",
       "layout": "IPY_MODEL_5bfaf5d6fdda4385a89d03619a02ee60",
       "style": "IPY_MODEL_7b8ce6f1dd82462ea0c1176c7c273a8d",
       "tooltip": null
      }
     },
     "f7215615854f4a9b875df6b65e5f0a78": {
      "model_module": "@jupyter-widgets/base",
      "model_module_version": "2.0.0",
      "model_name": "LayoutModel",
      "state": {}
     },
     "f745407809c84a9aa4b85f1eb3e23a14": {
      "model_module": "@jupyter-widgets/base",
      "model_module_version": "2.0.0",
      "model_name": "LayoutModel",
      "state": {
       "width": "70px"
      }
     },
     "f7634f5369a94dddb3b266e8fb256f59": {
      "model_module": "@jupyter-widgets/controls",
      "model_module_version": "2.0.0",
      "model_name": "HTMLModel",
      "state": {
       "layout": "IPY_MODEL_81bd82f1ff19400c9282d4cb830d4d3d",
       "style": "IPY_MODEL_b4e2775b942341c5b5468db9c024faf6",
       "value": "<font style='color:#34BC6E'>DONE</font>"
      }
     },
     "f807e0751bb240c4beb9cd54fce8ea0e": {
      "model_module": "@jupyter-widgets/controls",
      "model_module_version": "2.0.0",
      "model_name": "HTMLModel",
      "state": {
       "layout": "IPY_MODEL_5254c0ddcd7b4e07903ec475e96312c7",
       "style": "IPY_MODEL_91a79667d0ea44c29313d05c2fefd4a5",
       "value": "-"
      }
     },
     "f87f9906342149b48c303aeafc501b64": {
      "model_module": "@jupyter-widgets/base",
      "model_module_version": "2.0.0",
      "model_name": "LayoutModel",
      "state": {
       "margin": "0px 5px 0px 0px",
       "width": "32px"
      }
     },
     "f8f54441f395435eaa9f91aa02d798b6": {
      "model_module": "@jupyter-widgets/controls",
      "model_module_version": "2.0.0",
      "model_name": "HTMLStyleModel",
      "state": {
       "description_width": "",
       "font_size": null,
       "text_color": null
      }
     },
     "f91a1ac1c2034d01a6c87ff27d818c50": {
      "model_module": "@jupyter-widgets/base",
      "model_module_version": "2.0.0",
      "model_name": "LayoutModel",
      "state": {
       "margin": "0px 5px 0px 0px",
       "width": "32px"
      }
     },
     "f91a972f738640be9736933deaf34e2b": {
      "model_module": "@jupyter-widgets/base",
      "model_module_version": "2.0.0",
      "model_name": "LayoutModel",
      "state": {
       "width": "95px"
      }
     },
     "f985c8c466b041adb0838c84ca41ea24": {
      "model_module": "@jupyter-widgets/controls",
      "model_module_version": "2.0.0",
      "model_name": "HBoxModel",
      "state": {
       "children": [
        "IPY_MODEL_d71f72dd57ff4461a2990723e90ef26b",
        "IPY_MODEL_e5e8b97df7624823b6810fe05fd5958a",
        "IPY_MODEL_fb55b33c5433491db0d922119e4cbd7f",
        "IPY_MODEL_645191955f364baaa3737b3793087724",
        "IPY_MODEL_9b25970b62ad4e31811c5de424555243",
        "IPY_MODEL_a8c627a8be434587a3e8ee9e597a11b4"
       ],
       "layout": "IPY_MODEL_3dedfdb5b6564a70abbab14ef7dd1a5c"
      }
     },
     "fa2293b2804443f997dabef53b21c270": {
      "model_module": "@jupyter-widgets/controls",
      "model_module_version": "2.0.0",
      "model_name": "HTMLModel",
      "state": {
       "layout": "IPY_MODEL_45896ae605e94dba87fadf49fa27011d",
       "style": "IPY_MODEL_fbb6811a44534eaaaa3b1c7fe9f6e189",
       "value": "<font style='color:#34BC6E'>DONE</font>"
      }
     },
     "fa9181025b7f4b34a4be122521084df9": {
      "model_module": "@jupyter-widgets/controls",
      "model_module_version": "2.0.0",
      "model_name": "ButtonStyleModel",
      "state": {
       "button_color": "white",
       "font_family": null,
       "font_size": null,
       "font_style": null,
       "font_variant": null,
       "font_weight": null,
       "text_color": null,
       "text_decoration": null
      }
     },
     "fa93df74c6f54372b963381690a6c77c": {
      "model_module": "@jupyter-widgets/controls",
      "model_module_version": "2.0.0",
      "model_name": "HTMLModel",
      "state": {
       "layout": "IPY_MODEL_144521a7f50c49f99a1de0949ce891c7",
       "style": "IPY_MODEL_4faed25baf0748cdaea955aec0995d75",
       "value": "cmeawh2te72g008jszgg"
      }
     },
     "fae1858ffad7497482032d982edc4e47": {
      "model_module": "@jupyter-widgets/base",
      "model_module_version": "2.0.0",
      "model_name": "LayoutModel",
      "state": {}
     },
     "fb55b33c5433491db0d922119e4cbd7f": {
      "model_module": "@jupyter-widgets/controls",
      "model_module_version": "2.0.0",
      "model_name": "HTMLModel",
      "state": {
       "layout": "IPY_MODEL_3bc0ce5c99c847058cc9c952be39043a",
       "style": "IPY_MODEL_50f65bafaa2b436f9d1f84fc4739f6a7",
       "value": "ibm_nairobi"
      }
     },
     "fb694fc2fe5344a99c949eb5525c61b7": {
      "model_module": "@jupyter-widgets/base",
      "model_module_version": "2.0.0",
      "model_name": "LayoutModel",
      "state": {}
     },
     "fbb6811a44534eaaaa3b1c7fe9f6e189": {
      "model_module": "@jupyter-widgets/controls",
      "model_module_version": "2.0.0",
      "model_name": "HTMLStyleModel",
      "state": {
       "description_width": "",
       "font_size": null,
       "text_color": null
      }
     },
     "fbbf8004e9944865ad632ea8de5ee28d": {
      "model_module": "@jupyter-widgets/base",
      "model_module_version": "2.0.0",
      "model_name": "LayoutModel",
      "state": {
       "width": "70px"
      }
     },
     "fbdaab960dce4f4495d583aff54d030a": {
      "model_module": "@jupyter-widgets/controls",
      "model_module_version": "2.0.0",
      "model_name": "HTMLModel",
      "state": {
       "layout": "IPY_MODEL_26d227d194a54a7489a044d163eb921c",
       "style": "IPY_MODEL_59d19aed5fd747cfb10fa92d7459970e",
       "value": "cmebd34te72g008jt0d0"
      }
     },
     "fbfc1203dd514fcd8a59775ebc0385e3": {
      "model_module": "@jupyter-widgets/controls",
      "model_module_version": "2.0.0",
      "model_name": "ButtonModel",
      "state": {
       "icon": "close",
       "layout": "IPY_MODEL_f246931a43c34457b176a5b9e08c1df9",
       "style": "IPY_MODEL_a8fe548e854b4f078c5d53a2f45f2330",
       "tooltip": null
      }
     },
     "fc01e98c3c73483cb273c0278f4e4149": {
      "model_module": "@jupyter-widgets/base",
      "model_module_version": "2.0.0",
      "model_name": "LayoutModel",
      "state": {
       "width": "70px"
      }
     },
     "fc387dfcd48d4daf84bb635b784490f5": {
      "model_module": "@jupyter-widgets/controls",
      "model_module_version": "2.0.0",
      "model_name": "HTMLStyleModel",
      "state": {
       "description_width": "",
       "font_size": null,
       "text_color": null
      }
     },
     "fccec23f24e04e2fbfad7a76e2090b24": {
      "model_module": "@jupyter-widgets/controls",
      "model_module_version": "2.0.0",
      "model_name": "HBoxModel",
      "state": {
       "children": [
        "IPY_MODEL_9facbe1f28eb427dafe4051e04037ddc",
        "IPY_MODEL_6694a243648a4997918781462a61c941",
        "IPY_MODEL_5a8d095721744560afaf16f4b83a182e",
        "IPY_MODEL_d0fbb91c3fa54e798e902ec7cf9a2c86",
        "IPY_MODEL_624f1e5a6deb45b0b1581be98619bef7",
        "IPY_MODEL_e353de6f053f42d282e4835529989e2b"
       ],
       "layout": "IPY_MODEL_0d845debb6e7455494637cb88b30b805"
      }
     },
     "fcd7c19a6484424cb543db0ee885ded5": {
      "model_module": "@jupyter-widgets/base",
      "model_module_version": "2.0.0",
      "model_name": "LayoutModel",
      "state": {
       "width": "70px"
      }
     },
     "fce22c29dedd44d48626930127e3f220": {
      "model_module": "@jupyter-widgets/base",
      "model_module_version": "2.0.0",
      "model_name": "LayoutModel",
      "state": {
       "width": "70px"
      }
     },
     "fd5ea245109149a99644f5db869d1a4e": {
      "model_module": "@jupyter-widgets/controls",
      "model_module_version": "2.0.0",
      "model_name": "HTMLStyleModel",
      "state": {
       "description_width": "",
       "font_size": null,
       "text_color": null
      }
     },
     "fd5f90a8b6aa40aabee40be74fe630f0": {
      "model_module": "@jupyter-widgets/controls",
      "model_module_version": "2.0.0",
      "model_name": "HTMLModel",
      "state": {
       "layout": "IPY_MODEL_0a32ae0eeceb479495bbfdbe14797ee7",
       "style": "IPY_MODEL_d5abbda1fe724f7d99ed25f5f8f94ece",
       "value": "cmebcmtwcht0008ybgcg"
      }
     },
     "fe0288211e52487b8dc0ab15acc0b49b": {
      "model_module": "@jupyter-widgets/controls",
      "model_module_version": "2.0.0",
      "model_name": "HTMLStyleModel",
      "state": {
       "description_width": "",
       "font_size": null,
       "text_color": null
      }
     },
     "fe0ef0ef56244d22a9ce1fd30b0aa9b3": {
      "model_module": "@jupyter-widgets/base",
      "model_module_version": "2.0.0",
      "model_name": "LayoutModel",
      "state": {
       "width": "95px"
      }
     },
     "fe0fa8602d3c4d24a14215589960045b": {
      "model_module": "@jupyter-widgets/controls",
      "model_module_version": "2.0.0",
      "model_name": "HTMLModel",
      "state": {
       "layout": "IPY_MODEL_7dda1534a07244ac9ca0a0089612ce0b",
       "style": "IPY_MODEL_2e7c61eaf55f4f8cb09f883178b0371f",
       "value": "<font style='color:#34BC6E'>DONE</font>"
      }
     },
     "fe199800b20c4e53ac327e68f4bbb266": {
      "model_module": "@jupyter-widgets/controls",
      "model_module_version": "2.0.0",
      "model_name": "HTMLStyleModel",
      "state": {
       "description_width": "",
       "font_size": null,
       "text_color": null
      }
     },
     "fed4662903ca490fa34196be3234de21": {
      "model_module": "@jupyter-widgets/controls",
      "model_module_version": "2.0.0",
      "model_name": "ButtonStyleModel",
      "state": {
       "button_color": "white",
       "font_family": null,
       "font_size": null,
       "font_style": null,
       "font_variant": null,
       "font_weight": null,
       "text_color": null,
       "text_decoration": null
      }
     },
     "feebad0ebdfc4f4caf7eb999418028a2": {
      "model_module": "@jupyter-widgets/base",
      "model_module_version": "2.0.0",
      "model_name": "LayoutModel",
      "state": {
       "max_width": "700px",
       "min_width": "700px"
      }
     },
     "ff2f362a4c704d47ba7ce1ddeb427269": {
      "model_module": "@jupyter-widgets/controls",
      "model_module_version": "2.0.0",
      "model_name": "HTMLStyleModel",
      "state": {
       "description_width": "",
       "font_size": null,
       "text_color": null
      }
     },
     "ff43e265a6c148c5b1697099b48e58fd": {
      "model_module": "@jupyter-widgets/base",
      "model_module_version": "2.0.0",
      "model_name": "LayoutModel",
      "state": {
       "width": "70px"
      }
     },
     "ff72f40e09ee49e7b89ce9bde3452003": {
      "model_module": "@jupyter-widgets/base",
      "model_module_version": "2.0.0",
      "model_name": "LayoutModel",
      "state": {
       "width": "145px"
      }
     },
     "ffa87bf4564341c59bff95d39633bbaf": {
      "model_module": "@jupyter-widgets/controls",
      "model_module_version": "2.0.0",
      "model_name": "HTMLStyleModel",
      "state": {
       "description_width": "",
       "font_size": null,
       "text_color": null
      }
     },
     "ffb5b064e3e1415b80b66fe05d1a5079": {
      "model_module": "@jupyter-widgets/controls",
      "model_module_version": "2.0.0",
      "model_name": "HBoxModel",
      "state": {
       "children": [
        "IPY_MODEL_11172915aef846538fda2598e5cbf43b",
        "IPY_MODEL_5b6e550f4692421cb4a369c3c8ab411a",
        "IPY_MODEL_7b92db5bf1764bd7b8a130063d8589b6",
        "IPY_MODEL_0ba13e65fe56480ab5b7ce872d658676",
        "IPY_MODEL_bbd5c8bdaf514206b9aea55c29633aac",
        "IPY_MODEL_3e7d5e465be64667aadcab5978661cf6"
       ],
       "layout": "IPY_MODEL_46f04359d2a64b10bdb7893592254e65"
      }
     },
     "ffbdc72746e74995ab9e51b85770c58f": {
      "model_module": "@jupyter-widgets/controls",
      "model_module_version": "2.0.0",
      "model_name": "HTMLStyleModel",
      "state": {
       "description_width": "",
       "font_size": null,
       "text_color": null
      }
     },
     "ffcbfdc843454f0bb1a2474fb0b9c52f": {
      "model_module": "@jupyter-widgets/controls",
      "model_module_version": "2.0.0",
      "model_name": "HTMLStyleModel",
      "state": {
       "description_width": "",
       "font_size": null,
       "text_color": null
      }
     },
     "ffde548d20184189b256c75914616f7e": {
      "model_module": "@jupyter-widgets/controls",
      "model_module_version": "2.0.0",
      "model_name": "HTMLModel",
      "state": {
       "layout": "IPY_MODEL_fb694fc2fe5344a99c949eb5525c61b7",
       "style": "IPY_MODEL_89ed4f36202a4a4faae9d0900523debc",
       "value": "job has successfully run"
      }
     }
    },
    "version_major": 2,
    "version_minor": 0
   }
  }
 },
 "nbformat": 4,
 "nbformat_minor": 5
}
