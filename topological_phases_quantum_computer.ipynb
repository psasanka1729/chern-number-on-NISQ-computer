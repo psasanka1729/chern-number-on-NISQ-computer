{
 "cells": [
  {
   "cell_type": "code",
   "execution_count": 85,
   "id": "b6d046a8-856d-4853-abf4-36251365535e",
   "metadata": {
    "tags": []
   },
   "outputs": [
    {
     "name": "stderr",
     "output_type": "stream",
     "text": [
      "ibmqfactory.load_account:WARNING:2023-09-30 21:08:14,899: Credentials are already in use. The existing account in the session will be replaced.\n"
     ]
    }
   ],
   "source": [
    "# Importing standard Qiskit libraries:\n",
    "import numpy as np     \n",
    "from qiskit import*# QuantumCircuit, transpile, Aer, IBMQ, execute, assemble\n",
    "from qiskit.providers.ibmq import least_busy\n",
    "from qiskit.tools.jupyter import *\n",
    "from qiskit.visualization import *\n",
    "from ibm_quantum_widgets import *\n",
    "from scipy import sparse\n",
    "from scipy.linalg import sqrtm\n",
    "# Loading your IBM Quantum account(s):\n",
    "provider = IBMQ.load_account()"
   ]
  },
  {
   "cell_type": "markdown",
   "id": "5c158409-1653-4112-b352-53a0738a60ab",
   "metadata": {},
   "source": [
    "# Discrete Brillouin zone"
   ]
  },
  {
   "cell_type": "code",
   "execution_count": 86,
   "id": "2d14159c-41a7-4c22-b5a9-663386e35553",
   "metadata": {
    "tags": []
   },
   "outputs": [],
   "source": [
    "number_of_mesh_points = 8\n",
    "k_x_lst = list(np.linspace(-np.pi,np.pi,number_of_mesh_points))\n",
    "k_y_lst = list(np.linspace(-np.pi,np.pi,number_of_mesh_points))\n",
    "discretized_Brillouin_zone = []\n",
    "for i in range(number_of_mesh_points):\n",
    "    for j in range(number_of_mesh_points):\n",
    "        discretized_Brillouin_zone.append([k_x_lst[i],k_y_lst[j]])\n",
    "delta_k_x = k_x_lst[1]-k_x_lst[0]\n",
    "delta_k_y = k_y_lst[1]-k_y_lst[0]        "
   ]
  },
  {
   "cell_type": "code",
   "execution_count": 87,
   "id": "d3a04594-3bb0-46b9-9b65-f0b289edabd8",
   "metadata": {},
   "outputs": [],
   "source": [
    "mu = 0.05"
   ]
  },
  {
   "cell_type": "code",
   "execution_count": 88,
   "id": "7b6f1227-7832-4b19-a6d6-89a9c4be96fb",
   "metadata": {},
   "outputs": [],
   "source": [
    "# Number of points = 64\n",
    "point_index = 0"
   ]
  },
  {
   "cell_type": "code",
   "execution_count": 89,
   "id": "55314ecd-e928-4ded-ba4f-31f46200baf5",
   "metadata": {},
   "outputs": [],
   "source": [
    "# k_x and k_y\n",
    "k_x,k_y = k_x_lst[point_index],k_y_lst[point_index]\n",
    "# k+delta_k_x and k+delta_k_y\n",
    "\n",
    "F_k_lst_of_points = [[(k_x,k_y),(k_x+delta_k_x,k_y)],\n",
    "[(k_x+delta_k_x,k_y),(k_x+delta_k_x,k_y+delta_k_y)],\n",
    "[(k_x,k_y+delta_k_y),(k_x+delta_k_x,k_y+delta_k_y)],\n",
    "[(k_x,k_y),(k_x,k_y+delta_k_y)]]"
   ]
  },
  {
   "cell_type": "code",
   "execution_count": 90,
   "id": "7a86a382-8c38-42e3-a613-5fa64147ee13",
   "metadata": {
    "tags": []
   },
   "outputs": [],
   "source": [
    "# Index runs from 0 to 3.\n",
    "F_k_index = 0"
   ]
  },
  {
   "cell_type": "code",
   "execution_count": 91,
   "id": "ea8ed60d-6a70-4e05-a577-6bd6d25c2fcf",
   "metadata": {
    "tags": []
   },
   "outputs": [],
   "source": [
    "k_x,k_y = F_k_lst_of_points[F_k_index][0][0],F_k_lst_of_points[F_k_index][0][1]\n",
    "k_x_p,k_y_p = F_k_lst_of_points[F_k_index][1][0],F_k_lst_of_points[F_k_index][1][1]"
   ]
  },
  {
   "cell_type": "markdown",
   "id": "1226aeb4-d795-4ad2-88d0-e162cbaed4d5",
   "metadata": {
    "tags": []
   },
   "source": [
    "# $U_{3}$ gate"
   ]
  },
  {
   "cell_type": "code",
   "execution_count": 92,
   "id": "19e2a50f-808f-4855-909d-32741abc17d2",
   "metadata": {
    "tags": []
   },
   "outputs": [],
   "source": [
    "# U_{3} is required for preparing the state |\\psi(\\theta)>\n",
    "def U3(theta,lamb,phi):\n",
    "    return np.array([[np.cos(theta/2),-np.sin(theta/2)*np.exp(1j*lamb)],\n",
    "                     [np.exp(1j*phi)*np.sin(theta/2),np.exp(1j*(lamb+phi))*np.cos(theta/2)]])"
   ]
  },
  {
   "cell_type": "markdown",
   "id": "40025ef4-0544-4947-9747-1c7e2e5bc3de",
   "metadata": {
    "jp-MarkdownHeadingCollapsed": true,
    "tags": []
   },
   "source": [
    "# Defining the two angles $\\theta$ and $\\phi$"
   ]
  },
  {
   "cell_type": "code",
   "execution_count": 93,
   "id": "1eae86fc-2274-4aa7-b924-4bb4e693f7f6",
   "metadata": {
    "tags": []
   },
   "outputs": [],
   "source": [
    "def angle_theta(k_x,k_y):\n",
    "    E_p = np.sqrt((np.sin(k_x))**2+(np.sin(k_y))**2+(np.cos(k_x)+np.cos(k_y)+mu)**2)\n",
    "    return np.arccos((np.cos(k_x)+np.cos(k_y)+mu)/E_p)\n",
    "def angle_phi(k_x,k_y):\n",
    "    return np.arccos(np.sin(k_y)/np.sqrt((np.sin(k_y))**2+(np.sin(k_x))**2))"
   ]
  },
  {
   "cell_type": "markdown",
   "id": "38a21a27-e2de-4dd3-8fe4-acc89cb9255c",
   "metadata": {
    "jp-MarkdownHeadingCollapsed": true,
    "tags": []
   },
   "source": [
    "# Controlled W gate required for controlled $U_{3}$ operation"
   ]
  },
  {
   "cell_type": "code",
   "execution_count": 94,
   "id": "8947319c-3013-4449-bdea-543db6070868",
   "metadata": {
    "tags": []
   },
   "outputs": [],
   "source": [
    "def controlled_W(matrix,c,t):\n",
    "    I = np.identity(2)\n",
    "    Z = np.matrix([[1,0],[0,-1]])\n",
    "    X = np.matrix([[0,1],[1,0]])\n",
    "    PI_0 = (I+Z)/2\n",
    "    PI_1 = (I-Z)/2    \n",
    "    Matrices = {'I':I,'PI_0':PI_0,'X':matrix, 'PI_1':PI_1}\n",
    "    p0 = ['I']*3\n",
    "    p1 = ['I']*3    \n",
    "    p0[c] = 'PI_0'\n",
    "    p1[c] = 'PI_1'\n",
    "    p1[t] = 'X'\n",
    "    PI_0_matrix = Matrices[p0[0]]\n",
    "    for i in range(1,3):\n",
    "        PI_0_matrix = sparse.kron(Matrices[p0[i]],PI_0_matrix)\n",
    "    PI_1_matrix = Matrices[p1[0]]\n",
    "    for i in range(1,3):\n",
    "        PI_1_matrix = sparse.kron(Matrices[p1[i]],PI_1_matrix)\n",
    "    return PI_0_matrix+PI_1_matrix"
   ]
  },
  {
   "cell_type": "markdown",
   "id": "4d5c038e-10c3-47e1-a13f-355d69139da1",
   "metadata": {
    "jp-MarkdownHeadingCollapsed": true,
    "tags": []
   },
   "source": [
    "# Constructing the upper band wavefunction"
   ]
  },
  {
   "cell_type": "code",
   "execution_count": 95,
   "id": "a334d2f1-49ec-4023-9957-a0fd9c2c5223",
   "metadata": {
    "tags": []
   },
   "outputs": [
    {
     "data": {
      "image/png": "[encoded data removed]",
      "text/plain": [
       "<Figure size 596.012x284.278 with 1 Axes>"
      ]
     },
     "execution_count": 95,
     "metadata": {},
     "output_type": "execute_result"
    }
   ],
   "source": [
    "def upper_band_wavefunction(k_x,k_y):\n",
    "    qr = QuantumRegister(2,\"q\")\n",
    "    \n",
    "    # Create the ancilla register\n",
    "    anc = QuantumRegister(1,\"ancilla\")\n",
    "    # Create the quantum circuit\n",
    "    qc = QuantumCircuit(anc,qr)  \n",
    "    \n",
    "    qc.x(1)\n",
    "    qc.cx(2,1)\n",
    "    theta = angle_theta(k_x,k_y)\n",
    "    phi = angle_phi(k_x,k_y)\n",
    "    qc.cu(theta,-phi,phi,0,1,2)\n",
    "    qc.cx(2,1)\n",
    "    return qc\n",
    "upper_band_wavefunction(k_x,k_y).draw()"
   ]
  },
  {
   "cell_type": "markdown",
   "id": "ed333c36-2001-43b8-adaf-4b097c093a05",
   "metadata": {
    "tags": []
   },
   "source": [
    "# Intraband evolution circuit"
   ]
  },
  {
   "cell_type": "code",
   "execution_count": 96,
   "id": "252c8b26-7139-437a-8ed0-5a0fb9d75d6b",
   "metadata": {
    "tags": []
   },
   "outputs": [],
   "source": [
    "def intraband_evolution(k_x,k_y,k_x_p,k_y_p):\n",
    "\n",
    "    # Create the quantum circuit\n",
    "    qc = QuantumCircuit(3,1)  \n",
    "    qc.h(0)\n",
    "    qc = qc.compose(upper_band_wavefunction(k_x,k_y))    \n",
    "    \n",
    "    qc.barrier()\n",
    "    \n",
    "    qc.ccx(0,2,1)\n",
    "    # $CCU_{3}^{\\dagger}$ gate.\n",
    "    W = sqrtm(np.matrix(U3(angle_theta(k_x,k_y),-angle_phi(k_x,k_y),angle_phi(k_x,k_y))).getH())\n",
    "    qc.unitary(controlled_W(W,1,2).A,[0,1,2])\n",
    "    qc.cx(0,1)\n",
    "    qc.unitary(np.matrix(controlled_W(W,1,2).A).getH(),[0,1,2])\n",
    "    qc.cx(0,1)\n",
    "    qc.unitary(np.matrix(controlled_W(W,0,2).A).getH(),[0,1,2])\n",
    "    \n",
    "    qc.barrier()\n",
    "    \n",
    "    # $CCU_{3}$ gate.\n",
    "    W = sqrtm(U3(angle_theta(k_x_p,k_y_p),-angle_phi(k_x_p,k_y_p),angle_phi(k_x_p,k_y_p)))\n",
    "    qc.unitary(controlled_W(W,1,2).A,[0,1,2])\n",
    "    qc.cx(0,1)\n",
    "    qc.unitary(np.matrix(controlled_W(W,1,2).A).getH(),[0,1,2])\n",
    "    qc.cx(0,1)\n",
    "    qc.unitary(np.matrix(controlled_W(W,0,2).A).getH(),[0,1,2])    \n",
    "    qc.ccx(0,2,1)    \n",
    "    qc.measure(0,0)\n",
    "    return qc"
   ]
  },
  {
   "cell_type": "code",
   "execution_count": 97,
   "id": "6a073dd7-3c2c-4310-9e72-9e472c660d00",
   "metadata": {
    "tags": []
   },
   "outputs": [
    {
     "data": {
      "image/png": "[encoded data removed]",
      "text/plain": [
       "<Figure size 2210.55x785.944 with 1 Axes>"
      ]
     },
     "execution_count": 97,
     "metadata": {},
     "output_type": "execute_result"
    }
   ],
   "source": [
    "intraband_evolution(k_x,k_y,k_x_p,k_y_p).draw()"
   ]
  },
  {
   "cell_type": "markdown",
   "id": "76ac877a-0fe7-4476-bb44-eb1bc09ef199",
   "metadata": {
    "tags": []
   },
   "source": [
    "# Interband evolution circuit"
   ]
  },
  {
   "cell_type": "code",
   "execution_count": 98,
   "id": "f889c974-1f02-4b88-8c31-5c4c8228080c",
   "metadata": {
    "tags": []
   },
   "outputs": [],
   "source": [
    "def interband_evolution(k_x,k_y,k_x_p,k_y_p):\n",
    "\n",
    "    # Create the quantum circuit\n",
    "    qc = QuantumCircuit(3,1)  \n",
    "    qc.h(0)\n",
    "    qc = qc.compose(upper_band_wavefunction(k_x,k_y))    \n",
    "    \n",
    "    qc.barrier()\n",
    "    \n",
    "    qc.ccx(0,2,1)\n",
    "    # $CCU_{3}^{\\dagger}$ gate.\n",
    "    W = sqrtm(np.matrix(U3(angle_theta(k_x,k_y),-angle_phi(k_x,k_y),angle_phi(k_x,k_y))).getH())\n",
    "    qc.unitary(controlled_W(W,1,2).A,[0,1,2])\n",
    "    qc.cx(0,1)\n",
    "    qc.unitary(np.matrix(controlled_W(W,1,2).A).getH(),[0,1,2])\n",
    "    qc.cx(0,1)\n",
    "    qc.unitary(np.matrix(controlled_W(W,0,2).A).getH(),[0,1,2])\n",
    "    \n",
    "    qc.ccx(0,1,2)\n",
    "    \n",
    "    # $CCU_{3}$ gate.\n",
    "    W = sqrtm(U3(angle_theta(k_x_p,k_y_p),-angle_phi(k_x_p,k_y_p),angle_phi(k_x_p,k_y_p)))\n",
    "    qc.unitary(controlled_W(W,1,2).A,[0,1,2])\n",
    "    qc.cx(0,1)\n",
    "    qc.unitary(np.matrix(controlled_W(W,1,2).A).getH(),[0,1,2])\n",
    "    qc.cx(0,1)\n",
    "    qc.unitary(np.matrix(controlled_W(W,0,2).A).getH(),[0,1,2])    \n",
    "    qc.ccx(0,2,1)    \n",
    "    qc.measure(0,0)\n",
    "    return qc"
   ]
  },
  {
   "cell_type": "code",
   "execution_count": 99,
   "id": "cf78307f-34ae-434e-8624-7811b3a7f437",
   "metadata": {
    "tags": []
   },
   "outputs": [],
   "source": [
    "#interband_evolution(1,1,1,1).draw()"
   ]
  },
  {
   "cell_type": "markdown",
   "id": "b70b727a-4bbb-435c-9712-78ae533e76d2",
   "metadata": {
    "tags": []
   },
   "source": [
    "# Code on simulator"
   ]
  },
  {
   "cell_type": "code",
   "execution_count": 100,
   "id": "2997d662-ef15-4460-a992-e81344a5d0f6",
   "metadata": {},
   "outputs": [
    {
     "data": {
      "image/png": "[encoded data removed]",
      "text/plain": [
       "<Figure size 700x500 with 1 Axes>"
      ]
     },
     "execution_count": 100,
     "metadata": {},
     "output_type": "execute_result"
    }
   ],
   "source": [
    "# Simulating the Circuit:\n",
    "backend = Aer.get_backend('qasm_simulator')\n",
    "job = execute(intraband_evolution(k_x,k_y,k_x_p,k_y_p), backend, shots = 5120)\n",
    "result = job.result()\n",
    "counts = result.get_counts()\n",
    "plot_histogram(counts)"
   ]
  },
  {
   "cell_type": "code",
   "execution_count": 101,
   "id": "bf94c636-3238-471e-b137-49516f94e184",
   "metadata": {
    "tags": []
   },
   "outputs": [
    {
     "data": {
      "text/plain": [
       "17"
      ]
     },
     "execution_count": 101,
     "metadata": {},
     "output_type": "execute_result"
    }
   ],
   "source": [
    "intraband_evolution(k_x,k_y,k_x_p,k_y_p).depth()"
   ]
  },
  {
   "cell_type": "markdown",
   "id": "096173e7-7bbf-41bb-ba0c-eeb5ca276d67",
   "metadata": {},
   "source": [
    "# Code on hardware"
   ]
  },
  {
   "cell_type": "code",
   "execution_count": 102,
   "id": "75722cc3-8e7c-441d-8deb-92753f69c483",
   "metadata": {
    "tags": []
   },
   "outputs": [
    {
     "name": "stderr",
     "output_type": "stream",
     "text": [
      "ibmqfactory.load_account:WARNING:2023-09-30 21:08:22,171: Credentials are already in use. The existing account in the session will be replaced.\n"
     ]
    },
    {
     "name": "stdout",
     "output_type": "stream",
     "text": [
      "Running on current least busy device:  ibm_brisbane\n"
     ]
    }
   ],
   "source": [
    "# Load IBM Q account and get the least busy backend device\n",
    "provider = IBMQ.load_account()\n",
    "provider = IBMQ.get_provider(\"ibm-q\")\n",
    "device = least_busy(provider.backends(filters=lambda x: int(x.configuration().n_qubits) >= 3 and \n",
    "                                   not x.configuration().simulator and x.status().operational==True))\n",
    "print(\"Running on current least busy device: \", device)"
   ]
  },
  {
   "cell_type": "code",
   "execution_count": null,
   "id": "61d7facb-5400-4f45-8857-93d7b4d53a67",
   "metadata": {
    "tags": []
   },
   "outputs": [
    {
     "name": "stdout",
     "output_type": "stream",
     "text": [
      "Job Status: job is queued (None)"
     ]
    }
   ],
   "source": [
    "# Run our circuit on the least busy backend. Monitor the execution of the job in the queue\n",
    "from qiskit.tools.monitor import job_monitor\n",
    "transpiled_grover_circuit = transpile(intraband_evolution(k_x,k_y,k_x_p,k_y_p), device, optimization_level=3)\n",
    "job = device.run(transpiled_grover_circuit)\n",
    "job_monitor(job, interval=2)"
   ]
  },
  {
   "cell_type": "code",
   "execution_count": null,
   "id": "75371d8b-9641-42dd-a587-b3081c6e2ae8",
   "metadata": {
    "tags": []
   },
   "outputs": [],
   "source": [
    "# Getting the results from the computation:\n",
    "results = job.result()\n",
    "answer = results.get_counts(transpiled_grover_circuit )\n",
    "plot_histogram(answer)"
   ]
  }
 ],
 "metadata": {
  "kernelspec": {
   "display_name": "Python 3 (ipykernel)",
   "language": "python",
   "name": "python3"
  },
  "language_info": {
   "codemirror_mode": {
    "name": "ipython",
    "version": 3
   },
   "file_extension": ".py",
   "mimetype": "text/x-python",
   "name": "python",
   "nbconvert_exporter": "python",
   "pygments_lexer": "ipython3",
   "version": "3.10.8"
  },
  "widgets": {
   "application/vnd.jupyter.widget-state+json": {
    "state": {
     "00836dfe150243ebb3214a81edea0170": {
      "model_module": "@jupyter-widgets/controls",
      "model_module_version": "2.0.0",
      "model_name": "HTMLModel",
      "state": {
       "layout": "IPY_MODEL_95bf483e749c45dfb5fae29b0ccef2fb",
       "style": "IPY_MODEL_def7e4eb571d428498a1ea3623cd752c",
       "value": "<h5>Queue</h5>"
      }
     },
     "009af6c60a86473aa68b63dea060ed11": {
      "model_module": "@jupyter-widgets/controls",
      "model_module_version": "2.0.0",
      "model_name": "HTMLModel",
      "state": {
       "layout": "IPY_MODEL_4681f07120824dd587eabb719b1d5fe9",
       "style": "IPY_MODEL_75bb7f48cac341119d666cefa6ecec99",
       "value": "<h5>Backend</h5>"
      }
     },
     "039c61ed615a4b2aa4f6d0fb1ee5faf2": {
      "model_module": "@jupyter-widgets/base",
      "model_module_version": "2.0.0",
      "model_name": "LayoutModel",
      "state": {
       "width": "70px"
      }
     },
     "0be44ee1cb0242bb9424d90aec8f44ad": {
      "model_module": "@jupyter-widgets/base",
      "model_module_version": "2.0.0",
      "model_name": "LayoutModel",
      "state": {
       "margin": "0px 0px 10px 0px"
      }
     },
     "10c6c9160c414a4c94693392635fedf6": {
      "model_module": "@jupyter-widgets/controls",
      "model_module_version": "2.0.0",
      "model_name": "HTMLStyleModel",
      "state": {
       "description_width": "",
       "font_size": null,
       "text_color": null
      }
     },
     "1ea14dfb7d55419b9b2139b464bb7711": {
      "model_module": "@jupyter-widgets/controls",
      "model_module_version": "2.0.0",
      "model_name": "GridBoxModel",
      "state": {
       "children": [
        "IPY_MODEL_8493aef24de04b4687b0da9308010f1f"
       ],
       "layout": "IPY_MODEL_ad19f2aa588e4151a902edaa5d4ad771"
      }
     },
     "215e81db56174776b05b565b1e8833d4": {
      "model_module": "@jupyter-widgets/controls",
      "model_module_version": "2.0.0",
      "model_name": "HTMLModel",
      "state": {
       "layout": "IPY_MODEL_039c61ed615a4b2aa4f6d0fb1ee5faf2",
       "style": "IPY_MODEL_b24691c9d1ec4f8881263d5dce2bdf85",
       "value": "-"
      }
     },
     "247288fb9b324b33a92ffc161a1d7dce": {
      "model_module": "@jupyter-widgets/controls",
      "model_module_version": "2.0.0",
      "model_name": "HTMLStyleModel",
      "state": {
       "description_width": "",
       "font_size": null,
       "text_color": null
      }
     },
     "2736e9fb017e44b9b4f72b65e00a222a": {
      "model_module": "@jupyter-widgets/controls",
      "model_module_version": "2.0.0",
      "model_name": "HBoxModel",
      "state": {
       "children": [
        "IPY_MODEL_e35fec5269584ec1bbc68a83b066c6e3",
        "IPY_MODEL_73bd348d8eee4a73b70d04c89f76f82b",
        "IPY_MODEL_51e534b4ef9c4c9287616f6e85c671c4",
        "IPY_MODEL_d228c17290bf45af8f857cbab82dcbba",
        "IPY_MODEL_215e81db56174776b05b565b1e8833d4",
        "IPY_MODEL_6d8a0065608c4a5a8af84775bda7815f"
       ],
       "layout": "IPY_MODEL_f932cab2a0e1404fbf54f0bd27208d0a"
      }
     },
     "3f7b8c31653a42c5adffb9cd3e0c7dfb": {
      "model_module": "@jupyter-widgets/base",
      "model_module_version": "2.0.0",
      "model_name": "LayoutModel",
      "state": {
       "width": "190px"
      }
     },
     "4681f07120824dd587eabb719b1d5fe9": {
      "model_module": "@jupyter-widgets/base",
      "model_module_version": "2.0.0",
      "model_name": "LayoutModel",
      "state": {
       "width": "145px"
      }
     },
     "4a464582ef3249fda5c46cdee7c4d6b4": {
      "model_module": "@jupyter-widgets/base",
      "model_module_version": "2.0.0",
      "model_name": "LayoutModel",
      "state": {
       "width": "95px"
      }
     },
     "4a8996eecb5a41aca472e69423b482aa": {
      "model_module": "@jupyter-widgets/base",
      "model_module_version": "2.0.0",
      "model_name": "LayoutModel",
      "state": {
       "width": "95px"
      }
     },
     "4d4778d53abe44f19e874a404c2cccba": {
      "model_module": "@jupyter-widgets/controls",
      "model_module_version": "2.0.0",
      "model_name": "ButtonStyleModel",
      "state": {
       "button_color": "white",
       "font_family": null,
       "font_size": null,
       "font_style": null,
       "font_variant": null,
       "font_weight": null,
       "text_color": null,
       "text_decoration": null
      }
     },
     "51e534b4ef9c4c9287616f6e85c671c4": {
      "model_module": "@jupyter-widgets/controls",
      "model_module_version": "2.0.0",
      "model_name": "HTMLModel",
      "state": {
       "layout": "IPY_MODEL_9a13207d8eaa4c408cdc4e8a2f6996cd",
       "style": "IPY_MODEL_10c6c9160c414a4c94693392635fedf6",
       "value": "ibm_brisbane"
      }
     },
     "5a5f018aa1804bb58c8eb769b77922fe": {
      "model_module": "@jupyter-widgets/controls",
      "model_module_version": "2.0.0",
      "model_name": "HTMLModel",
      "state": {
       "layout": "IPY_MODEL_9cbde39772cb4b9cadc107d2f4cd3f6f",
       "style": "IPY_MODEL_9c0994321b274b079ea9fd5d6c0783f6",
       "value": "<h5>Message</h5>"
      }
     },
     "652b9fe8664e44eb8400f8f8f322fe60": {
      "model_module": "@jupyter-widgets/controls",
      "model_module_version": "2.0.0",
      "model_name": "HTMLModel",
      "state": {
       "layout": "IPY_MODEL_0be44ee1cb0242bb9424d90aec8f44ad",
       "style": "IPY_MODEL_ea2f8576607c482a84b51bf91c6ed59a",
       "value": "<p style='font-family: IBM Plex Sans, Arial, Helvetica, sans-serif; font-size: 20px; font-weight: medium;'>Circuit Properties</p>"
      }
     },
     "6d8a0065608c4a5a8af84775bda7815f": {
      "model_module": "@jupyter-widgets/controls",
      "model_module_version": "2.0.0",
      "model_name": "HTMLModel",
      "state": {
       "layout": "IPY_MODEL_df571ecafcb74c43a9ca55eb6f388d4d",
       "style": "IPY_MODEL_9a78aa2bd39c40ba82515ee1e57067df",
       "value": "<p style=white-space:nowrap;>job is queued</p>"
      }
     },
     "6e3b9ba0e73b42a58506c188f73b326a": {
      "model_module": "@jupyter-widgets/base",
      "model_module_version": "2.0.0",
      "model_name": "LayoutModel",
      "state": {
       "margin": "0px 0px 0px 37px",
       "width": "600px"
      }
     },
     "710b35dadacd46749f3b03d7fb95b8ff": {
      "model_module": "@jupyter-widgets/base",
      "model_module_version": "2.0.0",
      "model_name": "LayoutModel",
      "state": {
       "width": "190px"
      }
     },
     "73bd348d8eee4a73b70d04c89f76f82b": {
      "model_module": "@jupyter-widgets/controls",
      "model_module_version": "2.0.0",
      "model_name": "HTMLModel",
      "state": {
       "layout": "IPY_MODEL_3f7b8c31653a42c5adffb9cd3e0c7dfb",
       "style": "IPY_MODEL_cbf6b90db58e45dc8101550e55a8b804",
       "value": "cmc8wmjnpt50008r2hx0"
      }
     },
     "75bb7f48cac341119d666cefa6ecec99": {
      "model_module": "@jupyter-widgets/controls",
      "model_module_version": "2.0.0",
      "model_name": "HTMLStyleModel",
      "state": {
       "description_width": "",
       "font_size": null,
       "text_color": null
      }
     },
     "8493aef24de04b4687b0da9308010f1f": {
      "model_module": "@jupyter-widgets/controls",
      "model_module_version": "2.0.0",
      "model_name": "ButtonModel",
      "state": {
       "button_style": "primary",
       "description": "Clear",
       "layout": "IPY_MODEL_ff102553213c49f49f3b7535b94ba5b7",
       "style": "IPY_MODEL_9a96d47203dd45c38d811706ad9a8d83",
       "tooltip": null
      }
     },
     "90d23a681e884ac4a51b72738a3e5764": {
      "model_module": "@jupyter-widgets/controls",
      "model_module_version": "2.0.0",
      "model_name": "HTMLModel",
      "state": {
       "layout": "IPY_MODEL_710b35dadacd46749f3b03d7fb95b8ff",
       "style": "IPY_MODEL_247288fb9b324b33a92ffc161a1d7dce",
       "value": "<h5>Job ID</h5>"
      }
     },
     "94b802fe306c4720a65fc944272dbd71": {
      "model_module": "@jupyter-widgets/controls",
      "model_module_version": "2.0.0",
      "model_name": "HTMLStyleModel",
      "state": {
       "description_width": "",
       "font_size": null,
       "text_color": null
      }
     },
     "95bf483e749c45dfb5fae29b0ccef2fb": {
      "model_module": "@jupyter-widgets/base",
      "model_module_version": "2.0.0",
      "model_name": "LayoutModel",
      "state": {
       "width": "70px"
      }
     },
     "9a13207d8eaa4c408cdc4e8a2f6996cd": {
      "model_module": "@jupyter-widgets/base",
      "model_module_version": "2.0.0",
      "model_name": "LayoutModel",
      "state": {
       "width": "145px"
      }
     },
     "9a78aa2bd39c40ba82515ee1e57067df": {
      "model_module": "@jupyter-widgets/controls",
      "model_module_version": "2.0.0",
      "model_name": "HTMLStyleModel",
      "state": {
       "description_width": "",
       "font_size": null,
       "text_color": null
      }
     },
     "9a96d47203dd45c38d811706ad9a8d83": {
      "model_module": "@jupyter-widgets/controls",
      "model_module_version": "2.0.0",
      "model_name": "ButtonStyleModel",
      "state": {
       "font_family": null,
       "font_size": null,
       "font_style": null,
       "font_variant": null,
       "font_weight": null,
       "text_color": null,
       "text_decoration": null
      }
     },
     "9c0994321b274b079ea9fd5d6c0783f6": {
      "model_module": "@jupyter-widgets/controls",
      "model_module_version": "2.0.0",
      "model_name": "HTMLStyleModel",
      "state": {
       "description_width": "",
       "font_size": null,
       "text_color": null
      }
     },
     "9cbde39772cb4b9cadc107d2f4cd3f6f": {
      "model_module": "@jupyter-widgets/base",
      "model_module_version": "2.0.0",
      "model_name": "LayoutModel",
      "state": {}
     },
     "a4ad525c8c99480194ee2da20405879c": {
      "model_module": "@jupyter-widgets/controls",
      "model_module_version": "2.0.0",
      "model_name": "HTMLModel",
      "state": {
       "layout": "IPY_MODEL_4a464582ef3249fda5c46cdee7c4d6b4",
       "style": "IPY_MODEL_d1c3081db86e46758a23097e1eed4645",
       "value": "<h5>Status</h5>"
      }
     },
     "ad19f2aa588e4151a902edaa5d4ad771": {
      "model_module": "@jupyter-widgets/base",
      "model_module_version": "2.0.0",
      "model_name": "LayoutModel",
      "state": {
       "grid_template_areas": "\n                                       \". . . . right \"\n                                        ",
       "grid_template_columns": "20% 20% 20% 20% 20%",
       "width": "100%"
      }
     },
     "b24691c9d1ec4f8881263d5dce2bdf85": {
      "model_module": "@jupyter-widgets/controls",
      "model_module_version": "2.0.0",
      "model_name": "HTMLStyleModel",
      "state": {
       "description_width": "",
       "font_size": null,
       "text_color": null
      }
     },
     "cbf6b90db58e45dc8101550e55a8b804": {
      "model_module": "@jupyter-widgets/controls",
      "model_module_version": "2.0.0",
      "model_name": "HTMLStyleModel",
      "state": {
       "description_width": "",
       "font_size": null,
       "text_color": null
      }
     },
     "d1c3081db86e46758a23097e1eed4645": {
      "model_module": "@jupyter-widgets/controls",
      "model_module_version": "2.0.0",
      "model_name": "HTMLStyleModel",
      "state": {
       "description_width": "",
       "font_size": null,
       "text_color": null
      }
     },
     "d228c17290bf45af8f857cbab82dcbba": {
      "model_module": "@jupyter-widgets/controls",
      "model_module_version": "2.0.0",
      "model_name": "HTMLModel",
      "state": {
       "layout": "IPY_MODEL_4a8996eecb5a41aca472e69423b482aa",
       "style": "IPY_MODEL_94b802fe306c4720a65fc944272dbd71",
       "value": "QUEUED"
      }
     },
     "dee6b1c4aa874f70a5020823602ce619": {
      "model_module": "@jupyter-widgets/base",
      "model_module_version": "2.0.0",
      "model_name": "LayoutModel",
      "state": {
       "margin": "0px 5px 0px 0px",
       "width": "32px"
      }
     },
     "def7e4eb571d428498a1ea3623cd752c": {
      "model_module": "@jupyter-widgets/controls",
      "model_module_version": "2.0.0",
      "model_name": "HTMLStyleModel",
      "state": {
       "description_width": "",
       "font_size": null,
       "text_color": null
      }
     },
     "df571ecafcb74c43a9ca55eb6f388d4d": {
      "model_module": "@jupyter-widgets/base",
      "model_module_version": "2.0.0",
      "model_name": "LayoutModel",
      "state": {}
     },
     "e35fec5269584ec1bbc68a83b066c6e3": {
      "model_module": "@jupyter-widgets/controls",
      "model_module_version": "2.0.0",
      "model_name": "ButtonModel",
      "state": {
       "icon": "close",
       "layout": "IPY_MODEL_dee6b1c4aa874f70a5020823602ce619",
       "style": "IPY_MODEL_4d4778d53abe44f19e874a404c2cccba",
       "tooltip": null
      }
     },
     "e85b5969abe6421687501e8b0985b7b4": {
      "model_module": "@jupyter-widgets/controls",
      "model_module_version": "2.0.0",
      "model_name": "HBoxModel",
      "state": {
       "children": [
        "IPY_MODEL_90d23a681e884ac4a51b72738a3e5764",
        "IPY_MODEL_009af6c60a86473aa68b63dea060ed11",
        "IPY_MODEL_a4ad525c8c99480194ee2da20405879c",
        "IPY_MODEL_00836dfe150243ebb3214a81edea0170",
        "IPY_MODEL_5a5f018aa1804bb58c8eb769b77922fe"
       ],
       "layout": "IPY_MODEL_6e3b9ba0e73b42a58506c188f73b326a"
      }
     },
     "ea2f8576607c482a84b51bf91c6ed59a": {
      "model_module": "@jupyter-widgets/controls",
      "model_module_version": "2.0.0",
      "model_name": "HTMLStyleModel",
      "state": {
       "description_width": "",
       "font_size": null,
       "text_color": null
      }
     },
     "f932cab2a0e1404fbf54f0bd27208d0a": {
      "model_module": "@jupyter-widgets/base",
      "model_module_version": "2.0.0",
      "model_name": "LayoutModel",
      "state": {
       "max_width": "700px",
       "min_width": "700px"
      }
     },
     "ff102553213c49f49f3b7535b94ba5b7": {
      "model_module": "@jupyter-widgets/base",
      "model_module_version": "2.0.0",
      "model_name": "LayoutModel",
      "state": {
       "grid_area": "right",
       "padding": "0px 0px 0px 0px",
       "width": "70px"
      }
     }
    },
    "version_major": 2,
    "version_minor": 0
   }
  }
 },
 "nbformat": 4,
 "nbformat_minor": 5
}
